{
 "cells": [
  {
   "cell_type": "code",
   "execution_count": 1,
   "metadata": {
    "collapsed": true
   },
   "outputs": [],
   "source": [
    "import numpy as np"
   ]
  },
  {
   "cell_type": "code",
   "execution_count": 28,
   "metadata": {
    "collapsed": false
   },
   "outputs": [],
   "source": [
    "import bokeh.plotting\n",
    "from bokeh.palettes import Category10_10 as palette"
   ]
  },
  {
   "cell_type": "code",
   "execution_count": 4,
   "metadata": {
    "collapsed": false
   },
   "outputs": [
    {
     "data": {
      "text/html": [
       "\n",
       "    <div class=\"bk-root\">\n",
       "        <a href=\"http://bokeh.pydata.org\" target=\"_blank\" class=\"bk-logo bk-logo-small bk-logo-notebook\"></a>\n",
       "        <span id=\"1225b10a-2090-478e-a5fc-d9a5666b2778\">Loading BokehJS ...</span>\n",
       "    </div>"
      ]
     },
     "metadata": {},
     "output_type": "display_data"
    },
    {
     "data": {
      "application/javascript": [
       "\n",
       "(function(global) {\n",
       "  function now() {\n",
       "    return new Date();\n",
       "  }\n",
       "\n",
       "  var force = true;\n",
       "\n",
       "  if (typeof (window._bokeh_onload_callbacks) === \"undefined\" || force === true) {\n",
       "    window._bokeh_onload_callbacks = [];\n",
       "    window._bokeh_is_loading = undefined;\n",
       "  }\n",
       "\n",
       "\n",
       "  \n",
       "  if (typeof (window._bokeh_timeout) === \"undefined\" || force === true) {\n",
       "    window._bokeh_timeout = Date.now() + 5000;\n",
       "    window._bokeh_failed_load = false;\n",
       "  }\n",
       "\n",
       "  var NB_LOAD_WARNING = {'data': {'text/html':\n",
       "     \"<div style='background-color: #fdd'>\\n\"+\n",
       "     \"<p>\\n\"+\n",
       "     \"BokehJS does not appear to have successfully loaded. If loading BokehJS from CDN, this \\n\"+\n",
       "     \"may be due to a slow or bad network connection. Possible fixes:\\n\"+\n",
       "     \"</p>\\n\"+\n",
       "     \"<ul>\\n\"+\n",
       "     \"<li>re-rerun `output_notebook()` to attempt to load from CDN again, or</li>\\n\"+\n",
       "     \"<li>use INLINE resources instead, as so:</li>\\n\"+\n",
       "     \"</ul>\\n\"+\n",
       "     \"<code>\\n\"+\n",
       "     \"from bokeh.resources import INLINE\\n\"+\n",
       "     \"output_notebook(resources=INLINE)\\n\"+\n",
       "     \"</code>\\n\"+\n",
       "     \"</div>\"}};\n",
       "\n",
       "  function display_loaded() {\n",
       "    if (window.Bokeh !== undefined) {\n",
       "      var el = document.getElementById(\"1225b10a-2090-478e-a5fc-d9a5666b2778\");\n",
       "      el.textContent = \"BokehJS \" + Bokeh.version + \" successfully loaded.\";\n",
       "    } else if (Date.now() < window._bokeh_timeout) {\n",
       "      setTimeout(display_loaded, 100)\n",
       "    }\n",
       "  }\n",
       "\n",
       "  function run_callbacks() {\n",
       "    window._bokeh_onload_callbacks.forEach(function(callback) { callback() });\n",
       "    delete window._bokeh_onload_callbacks\n",
       "    console.info(\"Bokeh: all callbacks have finished\");\n",
       "  }\n",
       "\n",
       "  function load_libs(js_urls, callback) {\n",
       "    window._bokeh_onload_callbacks.push(callback);\n",
       "    if (window._bokeh_is_loading > 0) {\n",
       "      console.log(\"Bokeh: BokehJS is being loaded, scheduling callback at\", now());\n",
       "      return null;\n",
       "    }\n",
       "    if (js_urls == null || js_urls.length === 0) {\n",
       "      run_callbacks();\n",
       "      return null;\n",
       "    }\n",
       "    console.log(\"Bokeh: BokehJS not loaded, scheduling load and callback at\", now());\n",
       "    window._bokeh_is_loading = js_urls.length;\n",
       "    for (var i = 0; i < js_urls.length; i++) {\n",
       "      var url = js_urls[i];\n",
       "      var s = document.createElement('script');\n",
       "      s.src = url;\n",
       "      s.async = false;\n",
       "      s.onreadystatechange = s.onload = function() {\n",
       "        window._bokeh_is_loading--;\n",
       "        if (window._bokeh_is_loading === 0) {\n",
       "          console.log(\"Bokeh: all BokehJS libraries loaded\");\n",
       "          run_callbacks()\n",
       "        }\n",
       "      };\n",
       "      s.onerror = function() {\n",
       "        console.warn(\"failed to load library \" + url);\n",
       "      };\n",
       "      console.log(\"Bokeh: injecting script tag for BokehJS library: \", url);\n",
       "      document.getElementsByTagName(\"head\")[0].appendChild(s);\n",
       "    }\n",
       "  };var element = document.getElementById(\"1225b10a-2090-478e-a5fc-d9a5666b2778\");\n",
       "  if (element == null) {\n",
       "    console.log(\"Bokeh: ERROR: autoload.js configured with elementid '1225b10a-2090-478e-a5fc-d9a5666b2778' but no matching script tag was found. \")\n",
       "    return false;\n",
       "  }\n",
       "\n",
       "  var js_urls = [\"https://cdn.pydata.org/bokeh/dev/bokeh-0.12.5rc3.min.js\", \"https://cdn.pydata.org/bokeh/dev/bokeh-widgets-0.12.5rc3.min.js\"];\n",
       "\n",
       "  var inline_js = [\n",
       "    function(Bokeh) {\n",
       "      Bokeh.set_log_level(\"info\");\n",
       "    },\n",
       "    \n",
       "    function(Bokeh) {\n",
       "      \n",
       "    },\n",
       "    \n",
       "    function(Bokeh) {\n",
       "      \n",
       "      document.getElementById(\"1225b10a-2090-478e-a5fc-d9a5666b2778\").textContent = \"BokehJS is loading...\";\n",
       "    },\n",
       "    function(Bokeh) {\n",
       "      console.log(\"Bokeh: injecting CSS: https://cdn.pydata.org/bokeh/dev/bokeh-0.12.5rc3.min.css\");\n",
       "      Bokeh.embed.inject_css(\"https://cdn.pydata.org/bokeh/dev/bokeh-0.12.5rc3.min.css\");\n",
       "      console.log(\"Bokeh: injecting CSS: https://cdn.pydata.org/bokeh/dev/bokeh-widgets-0.12.5rc3.min.css\");\n",
       "      Bokeh.embed.inject_css(\"https://cdn.pydata.org/bokeh/dev/bokeh-widgets-0.12.5rc3.min.css\");\n",
       "    }\n",
       "  ];\n",
       "\n",
       "  function run_inline_js() {\n",
       "    \n",
       "    if ((window.Bokeh !== undefined) || (force === true)) {\n",
       "      for (var i = 0; i < inline_js.length; i++) {\n",
       "        inline_js[i](window.Bokeh);\n",
       "      }if (force === true) {\n",
       "        display_loaded();\n",
       "      }} else if (Date.now() < window._bokeh_timeout) {\n",
       "      setTimeout(run_inline_js, 100);\n",
       "    } else if (!window._bokeh_failed_load) {\n",
       "      console.log(\"Bokeh: BokehJS failed to load within specified timeout.\");\n",
       "      window._bokeh_failed_load = true;\n",
       "    } else if (force !== true) {\n",
       "      var cell = $(document.getElementById(\"1225b10a-2090-478e-a5fc-d9a5666b2778\")).parents('.cell').data().cell;\n",
       "      cell.output_area.append_execute_result(NB_LOAD_WARNING)\n",
       "    }\n",
       "\n",
       "  }\n",
       "\n",
       "  if (window._bokeh_is_loading === 0) {\n",
       "    console.log(\"Bokeh: BokehJS loaded, going straight to plotting\");\n",
       "    run_inline_js();\n",
       "  } else {\n",
       "    load_libs(js_urls, function() {\n",
       "      console.log(\"Bokeh: BokehJS plotting callback run at\", now());\n",
       "      run_inline_js();\n",
       "    });\n",
       "  }\n",
       "}(this));"
      ]
     },
     "metadata": {},
     "output_type": "display_data"
    }
   ],
   "source": [
    "bokeh.plotting.output_notebook()"
   ]
  },
  {
   "cell_type": "markdown",
   "metadata": {},
   "source": [
    "# Training Models\n",
    "\n",
    "Code following along with Aurélien Géron's book [Hands-On Machine Learning with Scikit-Learn and TensorFlow](http://shop.oreilly.com/product/0636920052289.do).\n",
    "\n"
   ]
  },
  {
   "cell_type": "markdown",
   "metadata": {},
   "source": [
    "Consider a data set of $m$ samples that have $n$ features.\n",
    "\n",
    "Linear Regression model\n",
    "$${\\bf y} = \\vartheta^T {\\bf x}$$\n",
    "\n",
    "Mean Square Error (MSE)\n",
    "$$MSE = \\frac{1}{m}\\sum^m_{i=1} \\left(\\vartheta_i x_i - y_i\\right)^2$$\n",
    "\n",
    "There is a closed form solution to minimize the MSE, known as the Normal Equation.\n",
    "$$\\vartheta = \\left({\\bf x}^T {\\bf x}\\right)^{-1} {\\bf x}^T {\\bf y}$$"
   ]
  },
  {
   "cell_type": "code",
   "execution_count": 2,
   "metadata": {
    "collapsed": true
   },
   "outputs": [],
   "source": [
    "X = 2 * np.random.rand(100, 1)\n",
    "y = 4 + 3 * X + np.random.randn(100, 1)"
   ]
  },
  {
   "cell_type": "code",
   "execution_count": 30,
   "metadata": {
    "collapsed": false
   },
   "outputs": [
    {
     "data": {
      "text/html": [
       "\n",
       "\n",
       "    <div class=\"bk-root\">\n",
       "        <div class=\"bk-plotdiv\" id=\"77a914de-0c90-4709-81ec-d68f30bdd533\"></div>\n",
       "    </div>\n",
       "<script type=\"text/javascript\">\n",
       "  \n",
       "  (function(global) {\n",
       "    function now() {\n",
       "      return new Date();\n",
       "    }\n",
       "  \n",
       "    var force = false;\n",
       "  \n",
       "    if (typeof (window._bokeh_onload_callbacks) === \"undefined\" || force === true) {\n",
       "      window._bokeh_onload_callbacks = [];\n",
       "      window._bokeh_is_loading = undefined;\n",
       "    }\n",
       "  \n",
       "  \n",
       "    \n",
       "    if (typeof (window._bokeh_timeout) === \"undefined\" || force === true) {\n",
       "      window._bokeh_timeout = Date.now() + 0;\n",
       "      window._bokeh_failed_load = false;\n",
       "    }\n",
       "  \n",
       "    var NB_LOAD_WARNING = {'data': {'text/html':\n",
       "       \"<div style='background-color: #fdd'>\\n\"+\n",
       "       \"<p>\\n\"+\n",
       "       \"BokehJS does not appear to have successfully loaded. If loading BokehJS from CDN, this \\n\"+\n",
       "       \"may be due to a slow or bad network connection. Possible fixes:\\n\"+\n",
       "       \"</p>\\n\"+\n",
       "       \"<ul>\\n\"+\n",
       "       \"<li>re-rerun `output_notebook()` to attempt to load from CDN again, or</li>\\n\"+\n",
       "       \"<li>use INLINE resources instead, as so:</li>\\n\"+\n",
       "       \"</ul>\\n\"+\n",
       "       \"<code>\\n\"+\n",
       "       \"from bokeh.resources import INLINE\\n\"+\n",
       "       \"output_notebook(resources=INLINE)\\n\"+\n",
       "       \"</code>\\n\"+\n",
       "       \"</div>\"}};\n",
       "  \n",
       "    function display_loaded() {\n",
       "      if (window.Bokeh !== undefined) {\n",
       "        var el = document.getElementById(\"77a914de-0c90-4709-81ec-d68f30bdd533\");\n",
       "        el.textContent = \"BokehJS \" + Bokeh.version + \" successfully loaded.\";\n",
       "      } else if (Date.now() < window._bokeh_timeout) {\n",
       "        setTimeout(display_loaded, 100)\n",
       "      }\n",
       "    }\n",
       "  \n",
       "    function run_callbacks() {\n",
       "      window._bokeh_onload_callbacks.forEach(function(callback) { callback() });\n",
       "      delete window._bokeh_onload_callbacks\n",
       "      console.info(\"Bokeh: all callbacks have finished\");\n",
       "    }\n",
       "  \n",
       "    function load_libs(js_urls, callback) {\n",
       "      window._bokeh_onload_callbacks.push(callback);\n",
       "      if (window._bokeh_is_loading > 0) {\n",
       "        console.log(\"Bokeh: BokehJS is being loaded, scheduling callback at\", now());\n",
       "        return null;\n",
       "      }\n",
       "      if (js_urls == null || js_urls.length === 0) {\n",
       "        run_callbacks();\n",
       "        return null;\n",
       "      }\n",
       "      console.log(\"Bokeh: BokehJS not loaded, scheduling load and callback at\", now());\n",
       "      window._bokeh_is_loading = js_urls.length;\n",
       "      for (var i = 0; i < js_urls.length; i++) {\n",
       "        var url = js_urls[i];\n",
       "        var s = document.createElement('script');\n",
       "        s.src = url;\n",
       "        s.async = false;\n",
       "        s.onreadystatechange = s.onload = function() {\n",
       "          window._bokeh_is_loading--;\n",
       "          if (window._bokeh_is_loading === 0) {\n",
       "            console.log(\"Bokeh: all BokehJS libraries loaded\");\n",
       "            run_callbacks()\n",
       "          }\n",
       "        };\n",
       "        s.onerror = function() {\n",
       "          console.warn(\"failed to load library \" + url);\n",
       "        };\n",
       "        console.log(\"Bokeh: injecting script tag for BokehJS library: \", url);\n",
       "        document.getElementsByTagName(\"head\")[0].appendChild(s);\n",
       "      }\n",
       "    };var element = document.getElementById(\"77a914de-0c90-4709-81ec-d68f30bdd533\");\n",
       "    if (element == null) {\n",
       "      console.log(\"Bokeh: ERROR: autoload.js configured with elementid '77a914de-0c90-4709-81ec-d68f30bdd533' but no matching script tag was found. \")\n",
       "      return false;\n",
       "    }\n",
       "  \n",
       "    var js_urls = [];\n",
       "  \n",
       "    var inline_js = [\n",
       "      function(Bokeh) {\n",
       "        (function() {\n",
       "          var fn = function() {\n",
       "            var docs_json = {\"89f00b64-16b9-4616-aa9d-c2e57ea82e21\":{\"roots\":{\"references\":[{\"attributes\":{\"callback\":null},\"id\":\"0899fda0-2306-41cc-8a7e-235563527a56\",\"type\":\"DataRange1d\"},{\"attributes\":{\"plot\":{\"id\":\"6fd97714-9370-4f4f-93da-dafa86bc525b\",\"subtype\":\"Figure\",\"type\":\"Plot\"}},\"id\":\"3c2ae013-2ede-464a-bf9d-8ca032242d3b\",\"type\":\"PanTool\"},{\"attributes\":{\"active_drag\":\"auto\",\"active_scroll\":\"auto\",\"active_tap\":\"auto\",\"tools\":[{\"id\":\"3c2ae013-2ede-464a-bf9d-8ca032242d3b\",\"type\":\"PanTool\"},{\"id\":\"8ee7adbc-34f6-4d28-a137-09212c3a41a5\",\"type\":\"WheelZoomTool\"},{\"id\":\"0f8ae728-2958-44b6-8768-96fd8a732966\",\"type\":\"BoxZoomTool\"},{\"id\":\"37863825-12bd-40d6-b1ee-f7b756727a01\",\"type\":\"SaveTool\"},{\"id\":\"6e52beda-5cce-4f3a-8248-78edcba80caf\",\"type\":\"ResetTool\"},{\"id\":\"89673a42-2aba-4a71-ac96-0411ac394bd2\",\"type\":\"HelpTool\"}]},\"id\":\"aeb00a9b-669a-451d-a139-29616d064fc6\",\"type\":\"Toolbar\"},{\"attributes\":{},\"id\":\"893ede79-ac1c-49dc-bd88-c925a5423ce5\",\"type\":\"BasicTicker\"},{\"attributes\":{\"axis_label\":\"x1\",\"formatter\":{\"id\":\"d9140a1f-7df6-4de3-a71a-fb842e19b5bb\",\"type\":\"BasicTickFormatter\"},\"plot\":{\"id\":\"6fd97714-9370-4f4f-93da-dafa86bc525b\",\"subtype\":\"Figure\",\"type\":\"Plot\"},\"ticker\":{\"id\":\"893ede79-ac1c-49dc-bd88-c925a5423ce5\",\"type\":\"BasicTicker\"}},\"id\":\"9b56a139-4c7e-4e3e-9d85-124592c1202d\",\"type\":\"LinearAxis\"},{\"attributes\":{\"callback\":null},\"id\":\"505f5675-4929-43ac-8d31-524ae8da33d7\",\"type\":\"DataRange1d\"},{\"attributes\":{\"callback\":null,\"column_names\":[\"x\",\"y\"],\"data\":{\"x\":{\"__ndarray__\":\"EJhoHtQhvD9xVHhJ3Jv/P9BK2GGlIeY/cPPtojp9uz+6m+DueibhP7wHC9Hk/Ps/MWgI2h8d+T+CHjk1Iq7kP5vor74FP/k/mG5JPOGT5j90p8tBog7kPyiqCTh0IfA/LTYd7e/19z/4b8ZEcUX3P9SrAMMLkOI/hApLjumT/T+kom23d2XmPzJrm9iUC+0/ZIGgY+nL2D92wnOXjGHuP+gWKZowGtE/Jpzk8eXA5D/ZQMz+hQD4P1/F6XYckPU/t2jO3V27/T9gZw545RKwP2a8lfzeAPk/muE6Wtjm4T8es3MafWb6P1qSFN/C7/Q/6NW4+D6ZyT84KBkDZEvEP952tYqSOu0/kuRAZUSP7T9cdk6+zUjdPyb7GTwx3+4/n6d/lxNg9D/onLt878bFP56U3mZfgf8/pCgZvkH14T+Ehw9SGjDmP+/JXGQFQ/U/BriJkJTf5D9wZmloOJzRPwUxotwXjPQ/2EgsyDrNxj8grszkIZvzPyvJo/LeGvw/JJU1vN287T+7s8l2XLHwP2unLjxpnvA/64B7wtRh8j+gCIjBL8qrPz6fz9bVBPA/0GTRpofS4D810M/pYDL4P5AZH7Q3Nr0/FCSL3TpG8z8W6hlEBpb4P5yjwlTbjfY/1DhMhO5p8j+uTtIqYCLmP+jxAWb4efw/rAtPIM088D9wGLTScvDHP7LJs3xlRuE/gEXyj4g9qT+KnYZKcCfgPyBLS57HVf8/rCg1DJQl/T+6ZBbCRxzpPyBY5xP4wt4/lDCD66ji4j/4Yx20AbLePyjkXkwgFdo/DbU6sSB1/j+U2u3UVYjrP1ysS8QqYNs/fmo6UA6h+z9PvO78N8LwPwrsjBPMt+g/Ytohx6um6z/AE/ybOwHvP39odRb3kvY/xO2n4yAt1j8qYhV9PxjoP257XizwLuE/OEkAUOtv1j/O6gPICZXmP6AUqrPBOMw/mH733KWS+T9hWPm1BB/3P/Be6NJcIPs/gPu/E2Ontj/5sZ93Q0L9P7QuorEOZPc/nKCJG/FY0T84Mg6/A0XnP7h/g/iuWt8/epcXiwi9+z8=\",\"dtype\":\"float64\",\"shape\":[100]},\"y\":{\"__ndarray__\":\"rLepeVo/E0AXPAMIrSgjQNtMy1HsgBdASB5cMTvJFUB48VPqi1UUQKs52FtbMyFA81UZdi1jIEAPJyyTxNwaQMoHtqF2zh9AhfbPTyH3F0B8hJKNolEdQCxWEYT/KRlA6L4ubz/9IUBoj0GNJ/ohQCDaOFKUyRZAc2lIMboFI0DDvOtefT4ZQBJHKH13AhlA/GrXxt/0D0DBuOAJr/AWQAumCrPxsw9AscxN9SfsG0AGLgKSH/8gQP/CGHyf8yNA2cT+bFZSIUCx4Rs7Fz0VQEvCTymMnyNAsu+Udp++HUDVdvi1ZJcgQA1kFdgfayBAbUjf9P+MEEAbuJ37ZoAPQGPDkFY5Gh5AJOzSLuYRGkCfwGonS3IXQETO97cYjxpAT1nqmkgMGEDHiui+1f4VQMRjksrX8CNA1z9i23hKGEBc3NM4hiUaQGC9g/mAFyNAUEqds4KuDEBStcEV2sYOQK892adiCB1AMMsGuSpxDUB6vhCzAeggQGMYlY8nCSNAVB1WfoXVH0AdKypfgPEdQEnzqQUjiBtAUloPxquxIEBOnsnYpr0JQDnANpUHrxpAcUgMUsWBEEBi7NrikrgfQB3kw7yQsRNA0iNhCEqNG0Ai3kD18pceQHSX0exPBBtAhPneXs5EG0B70GtSmZkaQOTSoCdVzSZAyu3yvTtdF0DdUnrbNqYRQNjmkISpzRZAuD0PzHGTEECPmTXElncSQAM3WtWmeSJA/b1Aiw5uI0DttCSYNs4dQAiYtgNJvhRA1YLF4fQqGEBdyLtyxzgUQMRAOkaBSxRA7D5qLdtnIUBse7uomNsXQFc34V45eRVApHgsWarYJEALzYVRW7YgQH5cs2dM1x9Auj4C5di9FkD48ewnPEgYQJD+BD7o+xhAJrdW9D9e/z/RVEnuFpIZQLogsHwESRdAD50PbNV9F0C3wC5+2MAZQILM4i+ZTwpAOieQzrqoHUBopjXfDqQaQMNfIFUogyNA7GN7sjRrEkBGOAPgfSEnQLI+3F7SniBAiADLejvfCkBq7xMRub4XQFaD60VnBhBAXf+nSvbSIUA=\",\"dtype\":\"float64\",\"shape\":[100]}}},\"id\":\"a16a5e23-5363-4066-b98a-e81496aaef20\",\"type\":\"ColumnDataSource\"},{\"attributes\":{\"fill_color\":{\"value\":\"#1f77b4\"},\"line_color\":{\"value\":\"#1f77b4\"},\"x\":{\"field\":\"x\"},\"y\":{\"field\":\"y\"}},\"id\":\"411efb9c-7db7-49b3-a58f-d71a64b4326f\",\"type\":\"Circle\"},{\"attributes\":{\"below\":[{\"id\":\"9b56a139-4c7e-4e3e-9d85-124592c1202d\",\"type\":\"LinearAxis\"}],\"left\":[{\"id\":\"d0b773e9-b442-48f7-a34b-93bfd45b3e11\",\"type\":\"LinearAxis\"}],\"plot_height\":300,\"plot_width\":500,\"renderers\":[{\"id\":\"9b56a139-4c7e-4e3e-9d85-124592c1202d\",\"type\":\"LinearAxis\"},{\"id\":\"9f07a81c-7037-413c-b39a-ebe389d64f48\",\"type\":\"Grid\"},{\"id\":\"d0b773e9-b442-48f7-a34b-93bfd45b3e11\",\"type\":\"LinearAxis\"},{\"id\":\"753e55c3-b402-4c5c-93da-2ea239b2b065\",\"type\":\"Grid\"},{\"id\":\"d1648643-ef11-4de0-b744-7d7f98df0477\",\"type\":\"BoxAnnotation\"},{\"id\":\"45e54ec7-db14-4024-90a0-7f38ea223669\",\"type\":\"GlyphRenderer\"}],\"title\":{\"id\":\"de590e33-6b75-4e4e-a9ff-c9452ccc7292\",\"type\":\"Title\"},\"tool_events\":{\"id\":\"062cd6b5-5720-4c4d-aa67-9ed877c86b2d\",\"type\":\"ToolEvents\"},\"toolbar\":{\"id\":\"aeb00a9b-669a-451d-a139-29616d064fc6\",\"type\":\"Toolbar\"},\"x_range\":{\"id\":\"0899fda0-2306-41cc-8a7e-235563527a56\",\"type\":\"DataRange1d\"},\"y_range\":{\"id\":\"505f5675-4929-43ac-8d31-524ae8da33d7\",\"type\":\"DataRange1d\"}},\"id\":\"6fd97714-9370-4f4f-93da-dafa86bc525b\",\"subtype\":\"Figure\",\"type\":\"Plot\"},{\"attributes\":{\"plot\":{\"id\":\"6fd97714-9370-4f4f-93da-dafa86bc525b\",\"subtype\":\"Figure\",\"type\":\"Plot\"},\"ticker\":{\"id\":\"893ede79-ac1c-49dc-bd88-c925a5423ce5\",\"type\":\"BasicTicker\"}},\"id\":\"9f07a81c-7037-413c-b39a-ebe389d64f48\",\"type\":\"Grid\"},{\"attributes\":{},\"id\":\"8ce5e0f8-44d4-4c60-96f7-3f1bd4e4409e\",\"type\":\"BasicTickFormatter\"},{\"attributes\":{\"data_source\":{\"id\":\"a16a5e23-5363-4066-b98a-e81496aaef20\",\"type\":\"ColumnDataSource\"},\"glyph\":{\"id\":\"411efb9c-7db7-49b3-a58f-d71a64b4326f\",\"type\":\"Circle\"},\"hover_glyph\":null,\"muted_glyph\":null,\"nonselection_glyph\":{\"id\":\"f5050ee7-6cc3-445b-85b7-5fb0c52d22b6\",\"type\":\"Circle\"},\"selection_glyph\":null},\"id\":\"45e54ec7-db14-4024-90a0-7f38ea223669\",\"type\":\"GlyphRenderer\"},{\"attributes\":{\"plot\":{\"id\":\"6fd97714-9370-4f4f-93da-dafa86bc525b\",\"subtype\":\"Figure\",\"type\":\"Plot\"}},\"id\":\"6e52beda-5cce-4f3a-8248-78edcba80caf\",\"type\":\"ResetTool\"},{\"attributes\":{},\"id\":\"062cd6b5-5720-4c4d-aa67-9ed877c86b2d\",\"type\":\"ToolEvents\"},{\"attributes\":{\"axis_label\":\"y\",\"formatter\":{\"id\":\"8ce5e0f8-44d4-4c60-96f7-3f1bd4e4409e\",\"type\":\"BasicTickFormatter\"},\"plot\":{\"id\":\"6fd97714-9370-4f4f-93da-dafa86bc525b\",\"subtype\":\"Figure\",\"type\":\"Plot\"},\"ticker\":{\"id\":\"6cb68c0d-a904-469f-9ea5-d099cce75db3\",\"type\":\"BasicTicker\"}},\"id\":\"d0b773e9-b442-48f7-a34b-93bfd45b3e11\",\"type\":\"LinearAxis\"},{\"attributes\":{\"plot\":null,\"text\":\"\"},\"id\":\"de590e33-6b75-4e4e-a9ff-c9452ccc7292\",\"type\":\"Title\"},{\"attributes\":{\"plot\":{\"id\":\"6fd97714-9370-4f4f-93da-dafa86bc525b\",\"subtype\":\"Figure\",\"type\":\"Plot\"}},\"id\":\"37863825-12bd-40d6-b1ee-f7b756727a01\",\"type\":\"SaveTool\"},{\"attributes\":{},\"id\":\"d9140a1f-7df6-4de3-a71a-fb842e19b5bb\",\"type\":\"BasicTickFormatter\"},{\"attributes\":{\"fill_alpha\":{\"value\":0.1},\"fill_color\":{\"value\":\"#1f77b4\"},\"line_alpha\":{\"value\":0.1},\"line_color\":{\"value\":\"#1f77b4\"},\"x\":{\"field\":\"x\"},\"y\":{\"field\":\"y\"}},\"id\":\"f5050ee7-6cc3-445b-85b7-5fb0c52d22b6\",\"type\":\"Circle\"},{\"attributes\":{\"plot\":{\"id\":\"6fd97714-9370-4f4f-93da-dafa86bc525b\",\"subtype\":\"Figure\",\"type\":\"Plot\"}},\"id\":\"89673a42-2aba-4a71-ac96-0411ac394bd2\",\"type\":\"HelpTool\"},{\"attributes\":{\"overlay\":{\"id\":\"d1648643-ef11-4de0-b744-7d7f98df0477\",\"type\":\"BoxAnnotation\"},\"plot\":{\"id\":\"6fd97714-9370-4f4f-93da-dafa86bc525b\",\"subtype\":\"Figure\",\"type\":\"Plot\"}},\"id\":\"0f8ae728-2958-44b6-8768-96fd8a732966\",\"type\":\"BoxZoomTool\"},{\"attributes\":{\"dimension\":1,\"plot\":{\"id\":\"6fd97714-9370-4f4f-93da-dafa86bc525b\",\"subtype\":\"Figure\",\"type\":\"Plot\"},\"ticker\":{\"id\":\"6cb68c0d-a904-469f-9ea5-d099cce75db3\",\"type\":\"BasicTicker\"}},\"id\":\"753e55c3-b402-4c5c-93da-2ea239b2b065\",\"type\":\"Grid\"},{\"attributes\":{\"bottom_units\":\"screen\",\"fill_alpha\":{\"value\":0.5},\"fill_color\":{\"value\":\"lightgrey\"},\"left_units\":\"screen\",\"level\":\"overlay\",\"line_alpha\":{\"value\":1.0},\"line_color\":{\"value\":\"black\"},\"line_dash\":[4,4],\"line_width\":{\"value\":2},\"plot\":null,\"render_mode\":\"css\",\"right_units\":\"screen\",\"top_units\":\"screen\"},\"id\":\"d1648643-ef11-4de0-b744-7d7f98df0477\",\"type\":\"BoxAnnotation\"},{\"attributes\":{\"plot\":{\"id\":\"6fd97714-9370-4f4f-93da-dafa86bc525b\",\"subtype\":\"Figure\",\"type\":\"Plot\"}},\"id\":\"8ee7adbc-34f6-4d28-a137-09212c3a41a5\",\"type\":\"WheelZoomTool\"},{\"attributes\":{},\"id\":\"6cb68c0d-a904-469f-9ea5-d099cce75db3\",\"type\":\"BasicTicker\"}],\"root_ids\":[\"6fd97714-9370-4f4f-93da-dafa86bc525b\"]},\"title\":\"Bokeh Application\",\"version\":\"0.12.5rc3\"}};\n",
       "            var render_items = [{\"docid\":\"89f00b64-16b9-4616-aa9d-c2e57ea82e21\",\"elementid\":\"77a914de-0c90-4709-81ec-d68f30bdd533\",\"modelid\":\"6fd97714-9370-4f4f-93da-dafa86bc525b\"}];\n",
       "            \n",
       "            Bokeh.embed.embed_items(docs_json, render_items);\n",
       "          };\n",
       "          if (document.readyState != \"loading\") fn();\n",
       "          else document.addEventListener(\"DOMContentLoaded\", fn);\n",
       "        })();\n",
       "      },\n",
       "      function(Bokeh) {\n",
       "      }\n",
       "    ];\n",
       "  \n",
       "    function run_inline_js() {\n",
       "      \n",
       "      if ((window.Bokeh !== undefined) || (force === true)) {\n",
       "        for (var i = 0; i < inline_js.length; i++) {\n",
       "          inline_js[i](window.Bokeh);\n",
       "        }if (force === true) {\n",
       "          display_loaded();\n",
       "        }} else if (Date.now() < window._bokeh_timeout) {\n",
       "        setTimeout(run_inline_js, 100);\n",
       "      } else if (!window._bokeh_failed_load) {\n",
       "        console.log(\"Bokeh: BokehJS failed to load within specified timeout.\");\n",
       "        window._bokeh_failed_load = true;\n",
       "      } else if (force !== true) {\n",
       "        var cell = $(document.getElementById(\"77a914de-0c90-4709-81ec-d68f30bdd533\")).parents('.cell').data().cell;\n",
       "        cell.output_area.append_execute_result(NB_LOAD_WARNING)\n",
       "      }\n",
       "  \n",
       "    }\n",
       "  \n",
       "    if (window._bokeh_is_loading === 0) {\n",
       "      console.log(\"Bokeh: BokehJS loaded, going straight to plotting\");\n",
       "      run_inline_js();\n",
       "    } else {\n",
       "      load_libs(js_urls, function() {\n",
       "        console.log(\"Bokeh: BokehJS plotting callback run at\", now());\n",
       "        run_inline_js();\n",
       "      });\n",
       "    }\n",
       "  }(this));\n",
       "</script>"
      ]
     },
     "metadata": {},
     "output_type": "display_data"
    }
   ],
   "source": [
    "p = bokeh.plotting.figure(width=500, height=300, \n",
    "                          x_axis_label='x1', y_axis_label='y')\n",
    "\n",
    "p.scatter(X[:, 0], y[:, 0], color=palette[0])\n",
    "bokeh.plotting.show(p)"
   ]
  },
  {
   "cell_type": "code",
   "execution_count": 16,
   "metadata": {
    "collapsed": true
   },
   "outputs": [],
   "source": [
    "X_b = np.c_[np.ones((100, 1)), X]  # add x0 = 1 column (feature)\n",
    "theta_best = np.linalg.inv(X_b.T.dot(X_b)).dot(X_b.T.dot(y))"
   ]
  },
  {
   "cell_type": "code",
   "execution_count": 17,
   "metadata": {
    "collapsed": false
   },
   "outputs": [
    {
     "data": {
      "text/plain": [
       "array([[ 3.83673933],\n",
       "       [ 3.06358562]])"
      ]
     },
     "execution_count": 17,
     "metadata": {},
     "output_type": "execute_result"
    }
   ],
   "source": [
    "theta_best"
   ]
  },
  {
   "cell_type": "code",
   "execution_count": 20,
   "metadata": {
    "collapsed": false
   },
   "outputs": [
    {
     "data": {
      "text/plain": [
       "array([[ 3.83673933],\n",
       "       [ 9.96391057]])"
      ]
     },
     "execution_count": 20,
     "metadata": {},
     "output_type": "execute_result"
    }
   ],
   "source": [
    "X_new = np.array([[0], [2]])  # just using the endpoints\n",
    "X_new_b = np.c_[np.ones((2, 1)), X_new]  # add x0=1 column\n",
    "y_predict = X_new_b.dot(theta_best)\n",
    "y_predict"
   ]
  },
  {
   "cell_type": "code",
   "execution_count": 25,
   "metadata": {
    "collapsed": true
   },
   "outputs": [],
   "source": [
    "theta_real = np.array([[4], [3]])\n",
    "y_real = X_new_b.dot(theta_real)"
   ]
  },
  {
   "cell_type": "code",
   "execution_count": 32,
   "metadata": {
    "collapsed": false
   },
   "outputs": [
    {
     "data": {
      "text/html": [
       "\n",
       "\n",
       "    <div class=\"bk-root\">\n",
       "        <div class=\"bk-plotdiv\" id=\"3562d175-534c-4d22-a722-d32cf7a433e9\"></div>\n",
       "    </div>\n",
       "<script type=\"text/javascript\">\n",
       "  \n",
       "  (function(global) {\n",
       "    function now() {\n",
       "      return new Date();\n",
       "    }\n",
       "  \n",
       "    var force = false;\n",
       "  \n",
       "    if (typeof (window._bokeh_onload_callbacks) === \"undefined\" || force === true) {\n",
       "      window._bokeh_onload_callbacks = [];\n",
       "      window._bokeh_is_loading = undefined;\n",
       "    }\n",
       "  \n",
       "  \n",
       "    \n",
       "    if (typeof (window._bokeh_timeout) === \"undefined\" || force === true) {\n",
       "      window._bokeh_timeout = Date.now() + 0;\n",
       "      window._bokeh_failed_load = false;\n",
       "    }\n",
       "  \n",
       "    var NB_LOAD_WARNING = {'data': {'text/html':\n",
       "       \"<div style='background-color: #fdd'>\\n\"+\n",
       "       \"<p>\\n\"+\n",
       "       \"BokehJS does not appear to have successfully loaded. If loading BokehJS from CDN, this \\n\"+\n",
       "       \"may be due to a slow or bad network connection. Possible fixes:\\n\"+\n",
       "       \"</p>\\n\"+\n",
       "       \"<ul>\\n\"+\n",
       "       \"<li>re-rerun `output_notebook()` to attempt to load from CDN again, or</li>\\n\"+\n",
       "       \"<li>use INLINE resources instead, as so:</li>\\n\"+\n",
       "       \"</ul>\\n\"+\n",
       "       \"<code>\\n\"+\n",
       "       \"from bokeh.resources import INLINE\\n\"+\n",
       "       \"output_notebook(resources=INLINE)\\n\"+\n",
       "       \"</code>\\n\"+\n",
       "       \"</div>\"}};\n",
       "  \n",
       "    function display_loaded() {\n",
       "      if (window.Bokeh !== undefined) {\n",
       "        var el = document.getElementById(\"3562d175-534c-4d22-a722-d32cf7a433e9\");\n",
       "        el.textContent = \"BokehJS \" + Bokeh.version + \" successfully loaded.\";\n",
       "      } else if (Date.now() < window._bokeh_timeout) {\n",
       "        setTimeout(display_loaded, 100)\n",
       "      }\n",
       "    }\n",
       "  \n",
       "    function run_callbacks() {\n",
       "      window._bokeh_onload_callbacks.forEach(function(callback) { callback() });\n",
       "      delete window._bokeh_onload_callbacks\n",
       "      console.info(\"Bokeh: all callbacks have finished\");\n",
       "    }\n",
       "  \n",
       "    function load_libs(js_urls, callback) {\n",
       "      window._bokeh_onload_callbacks.push(callback);\n",
       "      if (window._bokeh_is_loading > 0) {\n",
       "        console.log(\"Bokeh: BokehJS is being loaded, scheduling callback at\", now());\n",
       "        return null;\n",
       "      }\n",
       "      if (js_urls == null || js_urls.length === 0) {\n",
       "        run_callbacks();\n",
       "        return null;\n",
       "      }\n",
       "      console.log(\"Bokeh: BokehJS not loaded, scheduling load and callback at\", now());\n",
       "      window._bokeh_is_loading = js_urls.length;\n",
       "      for (var i = 0; i < js_urls.length; i++) {\n",
       "        var url = js_urls[i];\n",
       "        var s = document.createElement('script');\n",
       "        s.src = url;\n",
       "        s.async = false;\n",
       "        s.onreadystatechange = s.onload = function() {\n",
       "          window._bokeh_is_loading--;\n",
       "          if (window._bokeh_is_loading === 0) {\n",
       "            console.log(\"Bokeh: all BokehJS libraries loaded\");\n",
       "            run_callbacks()\n",
       "          }\n",
       "        };\n",
       "        s.onerror = function() {\n",
       "          console.warn(\"failed to load library \" + url);\n",
       "        };\n",
       "        console.log(\"Bokeh: injecting script tag for BokehJS library: \", url);\n",
       "        document.getElementsByTagName(\"head\")[0].appendChild(s);\n",
       "      }\n",
       "    };var element = document.getElementById(\"3562d175-534c-4d22-a722-d32cf7a433e9\");\n",
       "    if (element == null) {\n",
       "      console.log(\"Bokeh: ERROR: autoload.js configured with elementid '3562d175-534c-4d22-a722-d32cf7a433e9' but no matching script tag was found. \")\n",
       "      return false;\n",
       "    }\n",
       "  \n",
       "    var js_urls = [];\n",
       "  \n",
       "    var inline_js = [\n",
       "      function(Bokeh) {\n",
       "        (function() {\n",
       "          var fn = function() {\n",
       "            var docs_json = {\"c1c57aa9-6b41-4f52-8a5a-4b009cc549b0\":{\"roots\":{\"references\":[{\"attributes\":{\"axis_label\":\"x1\",\"formatter\":{\"id\":\"db32c0be-5f9a-4b36-96cf-6e502778fca0\",\"type\":\"BasicTickFormatter\"},\"plot\":{\"id\":\"efc5f631-a93d-4069-a6e8-d99665525f7c\",\"subtype\":\"Figure\",\"type\":\"Plot\"},\"ticker\":{\"id\":\"0b310933-6c3f-4aa5-a6a5-9b5d83117843\",\"type\":\"BasicTicker\"}},\"id\":\"61e69094-70b8-4bf9-96cc-2353610e16bb\",\"type\":\"LinearAxis\"},{\"attributes\":{\"fill_alpha\":{\"value\":0.1},\"fill_color\":{\"value\":\"#1f77b4\"},\"line_alpha\":{\"value\":0.1},\"line_color\":{\"value\":\"#1f77b4\"},\"x\":{\"field\":\"x\"},\"y\":{\"field\":\"y\"}},\"id\":\"354037b4-8fef-4a79-84eb-e0e35a1b3ef4\",\"type\":\"Circle\"},{\"attributes\":{\"line_alpha\":{\"value\":0.1},\"line_color\":{\"value\":\"#1f77b4\"},\"x\":{\"field\":\"x\"},\"y\":{\"field\":\"y\"}},\"id\":\"7b98f64a-4698-4007-8b19-870451644b8b\",\"type\":\"Line\"},{\"attributes\":{},\"id\":\"0b310933-6c3f-4aa5-a6a5-9b5d83117843\",\"type\":\"BasicTicker\"},{\"attributes\":{\"items\":[{\"id\":\"5a362d6e-1711-489f-b85a-2f4b6f6c67c9\",\"type\":\"LegendItem\"},{\"id\":\"4195ce8f-9420-445e-9a7a-dc5485af9b7e\",\"type\":\"LegendItem\"}],\"location\":\"top_left\",\"plot\":{\"id\":\"efc5f631-a93d-4069-a6e8-d99665525f7c\",\"subtype\":\"Figure\",\"type\":\"Plot\"}},\"id\":\"3a6eac14-f251-4c8e-83ae-2864c5a52876\",\"type\":\"Legend\"},{\"attributes\":{\"label\":{\"value\":\"Prediction\"},\"renderers\":[{\"id\":\"f189ca95-b6cc-4ad9-af6a-caf549f62864\",\"type\":\"GlyphRenderer\"}]},\"id\":\"5a362d6e-1711-489f-b85a-2f4b6f6c67c9\",\"type\":\"LegendItem\"},{\"attributes\":{\"label\":{\"value\":\"Real\"},\"renderers\":[{\"id\":\"eae9f453-9449-41c8-b70e-1729b497cf1c\",\"type\":\"GlyphRenderer\"}]},\"id\":\"4195ce8f-9420-445e-9a7a-dc5485af9b7e\",\"type\":\"LegendItem\"},{\"attributes\":{},\"id\":\"d58896c5-3d66-492e-b71a-1f40fa30d6bd\",\"type\":\"ToolEvents\"},{\"attributes\":{\"data_source\":{\"id\":\"e5708f0d-fd84-413b-a74b-3a1f60f53be5\",\"type\":\"ColumnDataSource\"},\"glyph\":{\"id\":\"f2f7c3af-0514-4969-8c0c-31897e52b7b3\",\"type\":\"Line\"},\"hover_glyph\":null,\"muted_glyph\":null,\"nonselection_glyph\":{\"id\":\"f5005002-468c-4e13-9d09-d46b7d926dba\",\"type\":\"Line\"},\"selection_glyph\":null},\"id\":\"eae9f453-9449-41c8-b70e-1729b497cf1c\",\"type\":\"GlyphRenderer\"},{\"attributes\":{\"line_color\":{\"value\":\"#2ca02c\"},\"x\":{\"field\":\"x\"},\"y\":{\"field\":\"y\"}},\"id\":\"f2f7c3af-0514-4969-8c0c-31897e52b7b3\",\"type\":\"Line\"},{\"attributes\":{\"line_alpha\":{\"value\":0.1},\"line_color\":{\"value\":\"#1f77b4\"},\"x\":{\"field\":\"x\"},\"y\":{\"field\":\"y\"}},\"id\":\"f5005002-468c-4e13-9d09-d46b7d926dba\",\"type\":\"Line\"},{\"attributes\":{\"callback\":null,\"column_names\":[\"x\",\"y\"],\"data\":{\"x\":{\"__ndarray__\":\"EJhoHtQhvD9xVHhJ3Jv/P9BK2GGlIeY/cPPtojp9uz+6m+DueibhP7wHC9Hk/Ps/MWgI2h8d+T+CHjk1Iq7kP5vor74FP/k/mG5JPOGT5j90p8tBog7kPyiqCTh0IfA/LTYd7e/19z/4b8ZEcUX3P9SrAMMLkOI/hApLjumT/T+kom23d2XmPzJrm9iUC+0/ZIGgY+nL2D92wnOXjGHuP+gWKZowGtE/Jpzk8eXA5D/ZQMz+hQD4P1/F6XYckPU/t2jO3V27/T9gZw545RKwP2a8lfzeAPk/muE6Wtjm4T8es3MafWb6P1qSFN/C7/Q/6NW4+D6ZyT84KBkDZEvEP952tYqSOu0/kuRAZUSP7T9cdk6+zUjdPyb7GTwx3+4/n6d/lxNg9D/onLt878bFP56U3mZfgf8/pCgZvkH14T+Ehw9SGjDmP+/JXGQFQ/U/BriJkJTf5D9wZmloOJzRPwUxotwXjPQ/2EgsyDrNxj8grszkIZvzPyvJo/LeGvw/JJU1vN287T+7s8l2XLHwP2unLjxpnvA/64B7wtRh8j+gCIjBL8qrPz6fz9bVBPA/0GTRpofS4D810M/pYDL4P5AZH7Q3Nr0/FCSL3TpG8z8W6hlEBpb4P5yjwlTbjfY/1DhMhO5p8j+uTtIqYCLmP+jxAWb4efw/rAtPIM088D9wGLTScvDHP7LJs3xlRuE/gEXyj4g9qT+KnYZKcCfgPyBLS57HVf8/rCg1DJQl/T+6ZBbCRxzpPyBY5xP4wt4/lDCD66ji4j/4Yx20AbLePyjkXkwgFdo/DbU6sSB1/j+U2u3UVYjrP1ysS8QqYNs/fmo6UA6h+z9PvO78N8LwPwrsjBPMt+g/Ytohx6um6z/AE/ybOwHvP39odRb3kvY/xO2n4yAt1j8qYhV9PxjoP257XizwLuE/OEkAUOtv1j/O6gPICZXmP6AUqrPBOMw/mH733KWS+T9hWPm1BB/3P/Be6NJcIPs/gPu/E2Ontj/5sZ93Q0L9P7QuorEOZPc/nKCJG/FY0T84Mg6/A0XnP7h/g/iuWt8/epcXiwi9+z8=\",\"dtype\":\"float64\",\"shape\":[100]},\"y\":{\"__ndarray__\":\"rLepeVo/E0AXPAMIrSgjQNtMy1HsgBdASB5cMTvJFUB48VPqi1UUQKs52FtbMyFA81UZdi1jIEAPJyyTxNwaQMoHtqF2zh9AhfbPTyH3F0B8hJKNolEdQCxWEYT/KRlA6L4ubz/9IUBoj0GNJ/ohQCDaOFKUyRZAc2lIMboFI0DDvOtefT4ZQBJHKH13AhlA/GrXxt/0D0DBuOAJr/AWQAumCrPxsw9AscxN9SfsG0AGLgKSH/8gQP/CGHyf8yNA2cT+bFZSIUCx4Rs7Fz0VQEvCTymMnyNAsu+Udp++HUDVdvi1ZJcgQA1kFdgfayBAbUjf9P+MEEAbuJ37ZoAPQGPDkFY5Gh5AJOzSLuYRGkCfwGonS3IXQETO97cYjxpAT1nqmkgMGEDHiui+1f4VQMRjksrX8CNA1z9i23hKGEBc3NM4hiUaQGC9g/mAFyNAUEqds4KuDEBStcEV2sYOQK892adiCB1AMMsGuSpxDUB6vhCzAeggQGMYlY8nCSNAVB1WfoXVH0AdKypfgPEdQEnzqQUjiBtAUloPxquxIEBOnsnYpr0JQDnANpUHrxpAcUgMUsWBEEBi7NrikrgfQB3kw7yQsRNA0iNhCEqNG0Ai3kD18pceQHSX0exPBBtAhPneXs5EG0B70GtSmZkaQOTSoCdVzSZAyu3yvTtdF0DdUnrbNqYRQNjmkISpzRZAuD0PzHGTEECPmTXElncSQAM3WtWmeSJA/b1Aiw5uI0DttCSYNs4dQAiYtgNJvhRA1YLF4fQqGEBdyLtyxzgUQMRAOkaBSxRA7D5qLdtnIUBse7uomNsXQFc34V45eRVApHgsWarYJEALzYVRW7YgQH5cs2dM1x9Auj4C5di9FkD48ewnPEgYQJD+BD7o+xhAJrdW9D9e/z/RVEnuFpIZQLogsHwESRdAD50PbNV9F0C3wC5+2MAZQILM4i+ZTwpAOieQzrqoHUBopjXfDqQaQMNfIFUogyNA7GN7sjRrEkBGOAPgfSEnQLI+3F7SniBAiADLejvfCkBq7xMRub4XQFaD60VnBhBAXf+nSvbSIUA=\",\"dtype\":\"float64\",\"shape\":[100]}}},\"id\":\"522328bb-8e63-4051-868d-f8ba2d784873\",\"type\":\"ColumnDataSource\"},{\"attributes\":{\"data_source\":{\"id\":\"b2513d6c-3a10-4eb1-a763-9a619ce6904b\",\"type\":\"ColumnDataSource\"},\"glyph\":{\"id\":\"077fe2d0-f1cb-4443-a5aa-bab398aadd91\",\"type\":\"Line\"},\"hover_glyph\":null,\"muted_glyph\":null,\"nonselection_glyph\":{\"id\":\"7b98f64a-4698-4007-8b19-870451644b8b\",\"type\":\"Line\"},\"selection_glyph\":null},\"id\":\"f189ca95-b6cc-4ad9-af6a-caf549f62864\",\"type\":\"GlyphRenderer\"},{\"attributes\":{\"callback\":null},\"id\":\"a234c532-288b-4629-aed9-b18f512b907d\",\"type\":\"DataRange1d\"},{\"attributes\":{},\"id\":\"db32c0be-5f9a-4b36-96cf-6e502778fca0\",\"type\":\"BasicTickFormatter\"},{\"attributes\":{\"callback\":null,\"column_names\":[\"x\",\"y\"],\"data\":{\"x\":[0,2],\"y\":{\"__ndarray__\":\"AAAAAAAAEEAAAAAAAAAkQA==\",\"dtype\":\"float64\",\"shape\":[2]}}},\"id\":\"e5708f0d-fd84-413b-a74b-3a1f60f53be5\",\"type\":\"ColumnDataSource\"},{\"attributes\":{\"plot\":null,\"text\":\"\"},\"id\":\"687ebccd-8dc3-425d-8237-a9594b776ec9\",\"type\":\"Title\"},{\"attributes\":{\"line_color\":{\"value\":\"#ff7f0e\"},\"x\":{\"field\":\"x\"},\"y\":{\"field\":\"y\"}},\"id\":\"077fe2d0-f1cb-4443-a5aa-bab398aadd91\",\"type\":\"Line\"},{\"attributes\":{\"axis_label\":\"y\",\"formatter\":{\"id\":\"cfdaa1b2-8960-4814-8b83-4f5d4de30740\",\"type\":\"BasicTickFormatter\"},\"plot\":{\"id\":\"efc5f631-a93d-4069-a6e8-d99665525f7c\",\"subtype\":\"Figure\",\"type\":\"Plot\"},\"ticker\":{\"id\":\"fbdaa1c4-30fe-41ca-a3ff-ff5aa6f04f66\",\"type\":\"BasicTicker\"}},\"id\":\"532c9db5-9258-479a-9ec7-2785f7dc684c\",\"type\":\"LinearAxis\"},{\"attributes\":{\"callback\":null},\"id\":\"cd44c79c-6751-49b4-ab23-209adc2beac7\",\"type\":\"DataRange1d\"},{\"attributes\":{},\"id\":\"cfdaa1b2-8960-4814-8b83-4f5d4de30740\",\"type\":\"BasicTickFormatter\"},{\"attributes\":{\"plot\":{\"id\":\"efc5f631-a93d-4069-a6e8-d99665525f7c\",\"subtype\":\"Figure\",\"type\":\"Plot\"}},\"id\":\"e5230f62-21f1-46ac-8c0f-8d2756f220ab\",\"type\":\"HelpTool\"},{\"attributes\":{\"data_source\":{\"id\":\"522328bb-8e63-4051-868d-f8ba2d784873\",\"type\":\"ColumnDataSource\"},\"glyph\":{\"id\":\"5f978cb0-c7cb-4bc6-8693-3e3540716c92\",\"type\":\"Circle\"},\"hover_glyph\":null,\"muted_glyph\":null,\"nonselection_glyph\":{\"id\":\"354037b4-8fef-4a79-84eb-e0e35a1b3ef4\",\"type\":\"Circle\"},\"selection_glyph\":null},\"id\":\"a9e52553-3bf9-4e24-a6f3-c5d136fd5621\",\"type\":\"GlyphRenderer\"},{\"attributes\":{\"active_drag\":\"auto\",\"active_scroll\":\"auto\",\"active_tap\":\"auto\",\"tools\":[{\"id\":\"a293dabe-072c-48dd-8032-67564f6b4aed\",\"type\":\"PanTool\"},{\"id\":\"658a9ac4-ec69-418e-9bbd-b94781ab6cfe\",\"type\":\"WheelZoomTool\"},{\"id\":\"59ddd51f-7de1-45cc-87d3-eef862c51c63\",\"type\":\"BoxZoomTool\"},{\"id\":\"36c26622-5637-4499-9972-057fa764d872\",\"type\":\"SaveTool\"},{\"id\":\"25c0fe10-8dfd-4801-afea-a5abb917d608\",\"type\":\"ResetTool\"},{\"id\":\"e5230f62-21f1-46ac-8c0f-8d2756f220ab\",\"type\":\"HelpTool\"}]},\"id\":\"de9416e4-9816-49f2-8b95-d209f0857ad1\",\"type\":\"Toolbar\"},{\"attributes\":{\"plot\":{\"id\":\"efc5f631-a93d-4069-a6e8-d99665525f7c\",\"subtype\":\"Figure\",\"type\":\"Plot\"},\"ticker\":{\"id\":\"0b310933-6c3f-4aa5-a6a5-9b5d83117843\",\"type\":\"BasicTicker\"}},\"id\":\"03860d46-9a8c-4cb9-8b06-1b700f4d429f\",\"type\":\"Grid\"},{\"attributes\":{\"plot\":{\"id\":\"efc5f631-a93d-4069-a6e8-d99665525f7c\",\"subtype\":\"Figure\",\"type\":\"Plot\"}},\"id\":\"658a9ac4-ec69-418e-9bbd-b94781ab6cfe\",\"type\":\"WheelZoomTool\"},{\"attributes\":{\"dimension\":1,\"plot\":{\"id\":\"efc5f631-a93d-4069-a6e8-d99665525f7c\",\"subtype\":\"Figure\",\"type\":\"Plot\"},\"ticker\":{\"id\":\"fbdaa1c4-30fe-41ca-a3ff-ff5aa6f04f66\",\"type\":\"BasicTicker\"}},\"id\":\"573c20b0-f56a-43cf-886d-54f95f159dcb\",\"type\":\"Grid\"},{\"attributes\":{},\"id\":\"fbdaa1c4-30fe-41ca-a3ff-ff5aa6f04f66\",\"type\":\"BasicTicker\"},{\"attributes\":{\"plot\":{\"id\":\"efc5f631-a93d-4069-a6e8-d99665525f7c\",\"subtype\":\"Figure\",\"type\":\"Plot\"}},\"id\":\"a293dabe-072c-48dd-8032-67564f6b4aed\",\"type\":\"PanTool\"},{\"attributes\":{\"fill_color\":{\"value\":\"#1f77b4\"},\"line_color\":{\"value\":\"#1f77b4\"},\"x\":{\"field\":\"x\"},\"y\":{\"field\":\"y\"}},\"id\":\"5f978cb0-c7cb-4bc6-8693-3e3540716c92\",\"type\":\"Circle\"},{\"attributes\":{\"plot\":{\"id\":\"efc5f631-a93d-4069-a6e8-d99665525f7c\",\"subtype\":\"Figure\",\"type\":\"Plot\"}},\"id\":\"36c26622-5637-4499-9972-057fa764d872\",\"type\":\"SaveTool\"},{\"attributes\":{\"plot\":{\"id\":\"efc5f631-a93d-4069-a6e8-d99665525f7c\",\"subtype\":\"Figure\",\"type\":\"Plot\"}},\"id\":\"25c0fe10-8dfd-4801-afea-a5abb917d608\",\"type\":\"ResetTool\"},{\"attributes\":{\"bottom_units\":\"screen\",\"fill_alpha\":{\"value\":0.5},\"fill_color\":{\"value\":\"lightgrey\"},\"left_units\":\"screen\",\"level\":\"overlay\",\"line_alpha\":{\"value\":1.0},\"line_color\":{\"value\":\"black\"},\"line_dash\":[4,4],\"line_width\":{\"value\":2},\"plot\":null,\"render_mode\":\"css\",\"right_units\":\"screen\",\"top_units\":\"screen\"},\"id\":\"fa8b8a03-9f85-4b40-a0a7-34b5b5729f54\",\"type\":\"BoxAnnotation\"},{\"attributes\":{\"overlay\":{\"id\":\"fa8b8a03-9f85-4b40-a0a7-34b5b5729f54\",\"type\":\"BoxAnnotation\"},\"plot\":{\"id\":\"efc5f631-a93d-4069-a6e8-d99665525f7c\",\"subtype\":\"Figure\",\"type\":\"Plot\"}},\"id\":\"59ddd51f-7de1-45cc-87d3-eef862c51c63\",\"type\":\"BoxZoomTool\"},{\"attributes\":{\"below\":[{\"id\":\"61e69094-70b8-4bf9-96cc-2353610e16bb\",\"type\":\"LinearAxis\"}],\"left\":[{\"id\":\"532c9db5-9258-479a-9ec7-2785f7dc684c\",\"type\":\"LinearAxis\"}],\"plot_height\":300,\"plot_width\":500,\"renderers\":[{\"id\":\"61e69094-70b8-4bf9-96cc-2353610e16bb\",\"type\":\"LinearAxis\"},{\"id\":\"03860d46-9a8c-4cb9-8b06-1b700f4d429f\",\"type\":\"Grid\"},{\"id\":\"532c9db5-9258-479a-9ec7-2785f7dc684c\",\"type\":\"LinearAxis\"},{\"id\":\"573c20b0-f56a-43cf-886d-54f95f159dcb\",\"type\":\"Grid\"},{\"id\":\"fa8b8a03-9f85-4b40-a0a7-34b5b5729f54\",\"type\":\"BoxAnnotation\"},{\"id\":\"a9e52553-3bf9-4e24-a6f3-c5d136fd5621\",\"type\":\"GlyphRenderer\"},{\"id\":\"3a6eac14-f251-4c8e-83ae-2864c5a52876\",\"type\":\"Legend\"},{\"id\":\"f189ca95-b6cc-4ad9-af6a-caf549f62864\",\"type\":\"GlyphRenderer\"},{\"id\":\"eae9f453-9449-41c8-b70e-1729b497cf1c\",\"type\":\"GlyphRenderer\"}],\"title\":{\"id\":\"687ebccd-8dc3-425d-8237-a9594b776ec9\",\"type\":\"Title\"},\"tool_events\":{\"id\":\"d58896c5-3d66-492e-b71a-1f40fa30d6bd\",\"type\":\"ToolEvents\"},\"toolbar\":{\"id\":\"de9416e4-9816-49f2-8b95-d209f0857ad1\",\"type\":\"Toolbar\"},\"x_range\":{\"id\":\"a234c532-288b-4629-aed9-b18f512b907d\",\"type\":\"DataRange1d\"},\"y_range\":{\"id\":\"cd44c79c-6751-49b4-ab23-209adc2beac7\",\"type\":\"DataRange1d\"}},\"id\":\"efc5f631-a93d-4069-a6e8-d99665525f7c\",\"subtype\":\"Figure\",\"type\":\"Plot\"},{\"attributes\":{\"callback\":null,\"column_names\":[\"x\",\"y\"],\"data\":{\"x\":[0,2],\"y\":{\"__ndarray__\":\"QNgzY6SxDkC02bWvhe0jQA==\",\"dtype\":\"float64\",\"shape\":[2]}}},\"id\":\"b2513d6c-3a10-4eb1-a763-9a619ce6904b\",\"type\":\"ColumnDataSource\"}],\"root_ids\":[\"efc5f631-a93d-4069-a6e8-d99665525f7c\"]},\"title\":\"Bokeh Application\",\"version\":\"0.12.5rc3\"}};\n",
       "            var render_items = [{\"docid\":\"c1c57aa9-6b41-4f52-8a5a-4b009cc549b0\",\"elementid\":\"3562d175-534c-4d22-a722-d32cf7a433e9\",\"modelid\":\"efc5f631-a93d-4069-a6e8-d99665525f7c\"}];\n",
       "            \n",
       "            Bokeh.embed.embed_items(docs_json, render_items);\n",
       "          };\n",
       "          if (document.readyState != \"loading\") fn();\n",
       "          else document.addEventListener(\"DOMContentLoaded\", fn);\n",
       "        })();\n",
       "      },\n",
       "      function(Bokeh) {\n",
       "      }\n",
       "    ];\n",
       "  \n",
       "    function run_inline_js() {\n",
       "      \n",
       "      if ((window.Bokeh !== undefined) || (force === true)) {\n",
       "        for (var i = 0; i < inline_js.length; i++) {\n",
       "          inline_js[i](window.Bokeh);\n",
       "        }if (force === true) {\n",
       "          display_loaded();\n",
       "        }} else if (Date.now() < window._bokeh_timeout) {\n",
       "        setTimeout(run_inline_js, 100);\n",
       "      } else if (!window._bokeh_failed_load) {\n",
       "        console.log(\"Bokeh: BokehJS failed to load within specified timeout.\");\n",
       "        window._bokeh_failed_load = true;\n",
       "      } else if (force !== true) {\n",
       "        var cell = $(document.getElementById(\"3562d175-534c-4d22-a722-d32cf7a433e9\")).parents('.cell').data().cell;\n",
       "        cell.output_area.append_execute_result(NB_LOAD_WARNING)\n",
       "      }\n",
       "  \n",
       "    }\n",
       "  \n",
       "    if (window._bokeh_is_loading === 0) {\n",
       "      console.log(\"Bokeh: BokehJS loaded, going straight to plotting\");\n",
       "      run_inline_js();\n",
       "    } else {\n",
       "      load_libs(js_urls, function() {\n",
       "        console.log(\"Bokeh: BokehJS plotting callback run at\", now());\n",
       "        run_inline_js();\n",
       "      });\n",
       "    }\n",
       "  }(this));\n",
       "</script>"
      ]
     },
     "metadata": {},
     "output_type": "display_data"
    }
   ],
   "source": [
    "p = bokeh.plotting.figure(width=500, height=300, x_axis_label='x1', y_axis_label='y')\n",
    "\n",
    "p.scatter(X[:, 0], y[:, 0], color=palette[0])\n",
    "p.line(X_new[:, 0], y_predict[:, 0], legend='Prediction', color=palette[1])\n",
    "p.line(X_new[:, 0], y_real[:, 0], legend='Real', color=palette[2])\n",
    "p.legend.location = 'top_left'\n",
    "\n",
    "bokeh.plotting.show(p)"
   ]
  },
  {
   "cell_type": "markdown",
   "metadata": {},
   "source": [
    "Now using Scikit-Learn"
   ]
  },
  {
   "cell_type": "code",
   "execution_count": 34,
   "metadata": {
    "collapsed": true
   },
   "outputs": [],
   "source": [
    "import sklearn.linear_model"
   ]
  },
  {
   "cell_type": "code",
   "execution_count": 36,
   "metadata": {
    "collapsed": false
   },
   "outputs": [
    {
     "data": {
      "text/plain": [
       "LinearRegression(copy_X=True, fit_intercept=True, n_jobs=1, normalize=False)"
      ]
     },
     "execution_count": 36,
     "metadata": {},
     "output_type": "execute_result"
    }
   ],
   "source": [
    "lin_reg = sklearn.linear_model.LinearRegression()\n",
    "lin_reg.fit(X, y)"
   ]
  },
  {
   "cell_type": "markdown",
   "metadata": {},
   "source": [
    "Comparing the Scikit-Learn results to the prior results, we see there is no difference."
   ]
  },
  {
   "cell_type": "code",
   "execution_count": 39,
   "metadata": {
    "collapsed": false
   },
   "outputs": [
    {
     "name": "stdout",
     "output_type": "stream",
     "text": [
      "Theta:\n",
      "normal equation: [ 3.83673933], [ 3.06358562]\n",
      "Scikit-Learn: [ 3.83673933], [[ 3.06358562]]\n"
     ]
    }
   ],
   "source": [
    "print('Theta:')\n",
    "print('normal equation: {}, {}'.format(*theta_best))\n",
    "print('Scikit-Learn: {}, {}'.format(lin_reg.intercept_, lin_reg.coef_))"
   ]
  },
  {
   "cell_type": "code",
   "execution_count": 44,
   "metadata": {
    "collapsed": false
   },
   "outputs": [
    {
     "name": "stdout",
     "output_type": "stream",
     "text": [
      "End-points:\n",
      "normal equation: [ 3.83673933], [ 9.96391057]\n",
      "Scikit-Learn: [ 3.83673933], [ 9.96391057]\n"
     ]
    }
   ],
   "source": [
    "print('End-points:')\n",
    "print('normal equation: {}, {}'.format(*y_predict))\n",
    "print('Scikit-Learn: {}, {}'.format(*lin_reg.predict(X_new)))"
   ]
  },
  {
   "cell_type": "code",
   "execution_count": null,
   "metadata": {
    "collapsed": true
   },
   "outputs": [],
   "source": []
  }
 ],
 "metadata": {
  "kernelspec": {
   "display_name": "Python 3",
   "language": "python",
   "name": "python3"
  },
  "language_info": {
   "codemirror_mode": {
    "name": "ipython",
    "version": 3
   },
   "file_extension": ".py",
   "mimetype": "text/x-python",
   "name": "python",
   "nbconvert_exporter": "python",
   "pygments_lexer": "ipython3",
   "version": "3.6.0"
  }
 },
 "nbformat": 4,
 "nbformat_minor": 2
}
