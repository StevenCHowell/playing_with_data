{
 "cells": [
  {
   "cell_type": "code",
   "execution_count": 112,
   "metadata": {
    "collapsed": true
   },
   "outputs": [],
   "source": [
    "import itertools"
   ]
  },
  {
   "cell_type": "code",
   "execution_count": 1,
   "metadata": {
    "collapsed": true
   },
   "outputs": [],
   "source": [
    "import numpy as np\n",
    "import pandas as pd"
   ]
  },
  {
   "cell_type": "code",
   "execution_count": 29,
   "metadata": {
    "collapsed": false
   },
   "outputs": [],
   "source": [
    "import sklearn.datasets\n",
    "import sklearn.neighbors\n",
    "import sklearn.model_selection"
   ]
  },
  {
   "cell_type": "code",
   "execution_count": 2,
   "metadata": {
    "collapsed": true
   },
   "outputs": [],
   "source": [
    "import bokeh.plotting\n",
    "import bokeh.layouts\n",
    "import bokeh.io"
   ]
  },
  {
   "cell_type": "code",
   "execution_count": 4,
   "metadata": {
    "collapsed": false
   },
   "outputs": [
    {
     "data": {
      "text/html": [
       "\n",
       "    <div class=\"bk-root\">\n",
       "        <a href=\"http://bokeh.pydata.org\" target=\"_blank\" class=\"bk-logo bk-logo-small bk-logo-notebook\"></a>\n",
       "        <span id=\"21c18a05-2c83-4b57-9023-7052c7646f8b\">Loading BokehJS ...</span>\n",
       "    </div>"
      ]
     },
     "metadata": {},
     "output_type": "display_data"
    },
    {
     "data": {
      "application/javascript": [
       "\n",
       "(function(global) {\n",
       "  function now() {\n",
       "    return new Date();\n",
       "  }\n",
       "\n",
       "  var force = true;\n",
       "\n",
       "  if (typeof (window._bokeh_onload_callbacks) === \"undefined\" || force === true) {\n",
       "    window._bokeh_onload_callbacks = [];\n",
       "    window._bokeh_is_loading = undefined;\n",
       "  }\n",
       "\n",
       "\n",
       "  \n",
       "  if (typeof (window._bokeh_timeout) === \"undefined\" || force === true) {\n",
       "    window._bokeh_timeout = Date.now() + 5000;\n",
       "    window._bokeh_failed_load = false;\n",
       "  }\n",
       "\n",
       "  var NB_LOAD_WARNING = {'data': {'text/html':\n",
       "     \"<div style='background-color: #fdd'>\\n\"+\n",
       "     \"<p>\\n\"+\n",
       "     \"BokehJS does not appear to have successfully loaded. If loading BokehJS from CDN, this \\n\"+\n",
       "     \"may be due to a slow or bad network connection. Possible fixes:\\n\"+\n",
       "     \"</p>\\n\"+\n",
       "     \"<ul>\\n\"+\n",
       "     \"<li>re-rerun `output_notebook()` to attempt to load from CDN again, or</li>\\n\"+\n",
       "     \"<li>use INLINE resources instead, as so:</li>\\n\"+\n",
       "     \"</ul>\\n\"+\n",
       "     \"<code>\\n\"+\n",
       "     \"from bokeh.resources import INLINE\\n\"+\n",
       "     \"output_notebook(resources=INLINE)\\n\"+\n",
       "     \"</code>\\n\"+\n",
       "     \"</div>\"}};\n",
       "\n",
       "  function display_loaded() {\n",
       "    if (window.Bokeh !== undefined) {\n",
       "      var el = document.getElementById(\"21c18a05-2c83-4b57-9023-7052c7646f8b\");\n",
       "      el.textContent = \"BokehJS \" + Bokeh.version + \" successfully loaded.\";\n",
       "    } else if (Date.now() < window._bokeh_timeout) {\n",
       "      setTimeout(display_loaded, 100)\n",
       "    }\n",
       "  }\n",
       "\n",
       "  function run_callbacks() {\n",
       "    window._bokeh_onload_callbacks.forEach(function(callback) { callback() });\n",
       "    delete window._bokeh_onload_callbacks\n",
       "    console.info(\"Bokeh: all callbacks have finished\");\n",
       "  }\n",
       "\n",
       "  function load_libs(js_urls, callback) {\n",
       "    window._bokeh_onload_callbacks.push(callback);\n",
       "    if (window._bokeh_is_loading > 0) {\n",
       "      console.log(\"Bokeh: BokehJS is being loaded, scheduling callback at\", now());\n",
       "      return null;\n",
       "    }\n",
       "    if (js_urls == null || js_urls.length === 0) {\n",
       "      run_callbacks();\n",
       "      return null;\n",
       "    }\n",
       "    console.log(\"Bokeh: BokehJS not loaded, scheduling load and callback at\", now());\n",
       "    window._bokeh_is_loading = js_urls.length;\n",
       "    for (var i = 0; i < js_urls.length; i++) {\n",
       "      var url = js_urls[i];\n",
       "      var s = document.createElement('script');\n",
       "      s.src = url;\n",
       "      s.async = false;\n",
       "      s.onreadystatechange = s.onload = function() {\n",
       "        window._bokeh_is_loading--;\n",
       "        if (window._bokeh_is_loading === 0) {\n",
       "          console.log(\"Bokeh: all BokehJS libraries loaded\");\n",
       "          run_callbacks()\n",
       "        }\n",
       "      };\n",
       "      s.onerror = function() {\n",
       "        console.warn(\"failed to load library \" + url);\n",
       "      };\n",
       "      console.log(\"Bokeh: injecting script tag for BokehJS library: \", url);\n",
       "      document.getElementsByTagName(\"head\")[0].appendChild(s);\n",
       "    }\n",
       "  };var element = document.getElementById(\"21c18a05-2c83-4b57-9023-7052c7646f8b\");\n",
       "  if (element == null) {\n",
       "    console.log(\"Bokeh: ERROR: autoload.js configured with elementid '21c18a05-2c83-4b57-9023-7052c7646f8b' but no matching script tag was found. \")\n",
       "    return false;\n",
       "  }\n",
       "\n",
       "  var js_urls = [\"https://cdn.pydata.org/bokeh/dev/bokeh-0.12.5rc3.min.js\", \"https://cdn.pydata.org/bokeh/dev/bokeh-widgets-0.12.5rc3.min.js\"];\n",
       "\n",
       "  var inline_js = [\n",
       "    function(Bokeh) {\n",
       "      Bokeh.set_log_level(\"info\");\n",
       "    },\n",
       "    \n",
       "    function(Bokeh) {\n",
       "      \n",
       "    },\n",
       "    \n",
       "    function(Bokeh) {\n",
       "      \n",
       "      document.getElementById(\"21c18a05-2c83-4b57-9023-7052c7646f8b\").textContent = \"BokehJS is loading...\";\n",
       "    },\n",
       "    function(Bokeh) {\n",
       "      console.log(\"Bokeh: injecting CSS: https://cdn.pydata.org/bokeh/dev/bokeh-0.12.5rc3.min.css\");\n",
       "      Bokeh.embed.inject_css(\"https://cdn.pydata.org/bokeh/dev/bokeh-0.12.5rc3.min.css\");\n",
       "      console.log(\"Bokeh: injecting CSS: https://cdn.pydata.org/bokeh/dev/bokeh-widgets-0.12.5rc3.min.css\");\n",
       "      Bokeh.embed.inject_css(\"https://cdn.pydata.org/bokeh/dev/bokeh-widgets-0.12.5rc3.min.css\");\n",
       "    }\n",
       "  ];\n",
       "\n",
       "  function run_inline_js() {\n",
       "    \n",
       "    if ((window.Bokeh !== undefined) || (force === true)) {\n",
       "      for (var i = 0; i < inline_js.length; i++) {\n",
       "        inline_js[i](window.Bokeh);\n",
       "      }if (force === true) {\n",
       "        display_loaded();\n",
       "      }} else if (Date.now() < window._bokeh_timeout) {\n",
       "      setTimeout(run_inline_js, 100);\n",
       "    } else if (!window._bokeh_failed_load) {\n",
       "      console.log(\"Bokeh: BokehJS failed to load within specified timeout.\");\n",
       "      window._bokeh_failed_load = true;\n",
       "    } else if (force !== true) {\n",
       "      var cell = $(document.getElementById(\"21c18a05-2c83-4b57-9023-7052c7646f8b\")).parents('.cell').data().cell;\n",
       "      cell.output_area.append_execute_result(NB_LOAD_WARNING)\n",
       "    }\n",
       "\n",
       "  }\n",
       "\n",
       "  if (window._bokeh_is_loading === 0) {\n",
       "    console.log(\"Bokeh: BokehJS loaded, going straight to plotting\");\n",
       "    run_inline_js();\n",
       "  } else {\n",
       "    load_libs(js_urls, function() {\n",
       "      console.log(\"Bokeh: BokehJS plotting callback run at\", now());\n",
       "      run_inline_js();\n",
       "    });\n",
       "  }\n",
       "}(this));"
      ]
     },
     "metadata": {},
     "output_type": "display_data"
    }
   ],
   "source": [
    "bokeh.io.output_notebook()"
   ]
  },
  {
   "cell_type": "code",
   "execution_count": 5,
   "metadata": {
    "collapsed": true
   },
   "outputs": [],
   "source": [
    "def rgba_from_4bit(img_4):\n",
    "    n, m = img_4.shape\n",
    "    img_rgba = np.empty((n, m), dtype=np.uint32)\n",
    "    view = img_rgba.view(dtype=np.uint8).reshape((n, m, 4))\n",
    "    view[:, :, 3] = 255  # set all alpha values to fully visible\n",
    "    rgba = 255 - img_4[:, :] / 16 * 255\n",
    "    \n",
    "    # rgba is upside-down, hence the ::-1\n",
    "    view[:, :, 0] = view[:, :, 1] = view[:, :, 2] = rgba[::-1]\n",
    "    \n",
    "    return img_rgba"
   ]
  },
  {
   "cell_type": "markdown",
   "metadata": {},
   "source": [
    "# Goal: build a model to classify handwritten digits\n",
    "We will use the MNIST Handwritten digits.  Scikit-learn provides 1796 (`DESCR` says 5620?) example digits.  A more exhaustive set of 60,000 training examples and 10,000 test cases are available on [this page]().  These were compiled by [Yann LeCun](http://yann.lecun.com/), Corinna Cortes, and Christopher J. C. Burges.  This would provide a more exhaustive test for our model.\n",
    "\n",
    "Demonstrating the following:\n",
    " - cross-validation \n",
    " - learning curves\n",
    " - regularization"
   ]
  },
  {
   "cell_type": "code",
   "execution_count": 6,
   "metadata": {
    "collapsed": true
   },
   "outputs": [],
   "source": [
    "digits = sklearn.datasets.load_digits()"
   ]
  },
  {
   "cell_type": "code",
   "execution_count": 24,
   "metadata": {
    "collapsed": false
   },
   "outputs": [
    {
     "name": "stdout",
     "output_type": "stream",
     "text": [
      "Optical Recognition of Handwritten Digits Data Set\n",
      "===================================================\n",
      "\n",
      "Notes\n",
      "-----\n",
      "Data Set Characteristics:\n",
      "    :Number of Instances: 5620\n",
      "    :Number of Attributes: 64\n",
      "    :Attribute Information: 8x8 image of integer pixels in the range 0..16.\n",
      "    :Missing Attribute Values: None\n",
      "    :Creator: E. Alpaydin (alpaydin '@' boun.edu.tr)\n",
      "    :Date: July; 1998\n",
      "\n",
      "This is a copy of the test set of the UCI ML hand-written digits datasets\n",
      "http://archive.ics.uci.edu/ml/datasets/Optical+Recognition+of+Handwritten+Digits\n",
      "\n",
      "The data set contains images of hand-written digits: 10 classes where\n",
      "each class refers to a digit.\n",
      "\n",
      "Preprocessing programs made available by NIST were used to extract\n",
      "normalized bitmaps of handwritten digits from a preprinted form. From a\n",
      "total of 43 people, 30 contributed to the training set and different 13\n",
      "to the test set. 32x32 bitmaps are divided into nonoverlapping blocks of\n",
      "4x4 and the number of on pixels are counted in each block. This generates\n",
      "an input matrix of 8x8 where each element is an integer in the range\n",
      "0..16. This reduces dimensionality and gives invariance to small\n",
      "distortions.\n",
      "\n",
      "For info on NIST preprocessing routines, see M. D. Garris, J. L. Blue, G.\n",
      "T. Candela, D. L. Dimmick, J. Geist, P. J. Grother, S. A. Janet, and C.\n",
      "L. Wilson, NIST Form-Based Handprint Recognition System, NISTIR 5469,\n",
      "1994.\n",
      "\n",
      "References\n",
      "----------\n",
      "  - C. Kaynak (1995) Methods of Combining Multiple Classifiers and Their\n",
      "    Applications to Handwritten Digit Recognition, MSc Thesis, Institute of\n",
      "    Graduate Studies in Science and Engineering, Bogazici University.\n",
      "  - E. Alpaydin, C. Kaynak (1998) Cascading Classifiers, Kybernetika.\n",
      "  - Ken Tang and Ponnuthurai N. Suganthan and Xi Yao and A. Kai Qin.\n",
      "    Linear dimensionalityreduction using relevance weighted LDA. School of\n",
      "    Electrical and Electronic Engineering Nanyang Technological University.\n",
      "    2005.\n",
      "  - Claudio Gentile. A New Approximate Maximal Margin Classification\n",
      "    Algorithm. NIPS. 2000.\n",
      "\n"
     ]
    }
   ],
   "source": [
    "print(digits.DESCR)"
   ]
  },
  {
   "cell_type": "code",
   "execution_count": 11,
   "metadata": {
    "collapsed": false
   },
   "outputs": [
    {
     "data": {
      "text/html": [
       "\n",
       "\n",
       "    <div class=\"bk-root\">\n",
       "        <div class=\"bk-plotdiv\" id=\"e73317ea-f701-4891-83bd-98d4e9433db3\"></div>\n",
       "    </div>\n",
       "<script type=\"text/javascript\">\n",
       "  \n",
       "  (function(global) {\n",
       "    function now() {\n",
       "      return new Date();\n",
       "    }\n",
       "  \n",
       "    var force = false;\n",
       "  \n",
       "    if (typeof (window._bokeh_onload_callbacks) === \"undefined\" || force === true) {\n",
       "      window._bokeh_onload_callbacks = [];\n",
       "      window._bokeh_is_loading = undefined;\n",
       "    }\n",
       "  \n",
       "  \n",
       "    \n",
       "    if (typeof (window._bokeh_timeout) === \"undefined\" || force === true) {\n",
       "      window._bokeh_timeout = Date.now() + 0;\n",
       "      window._bokeh_failed_load = false;\n",
       "    }\n",
       "  \n",
       "    var NB_LOAD_WARNING = {'data': {'text/html':\n",
       "       \"<div style='background-color: #fdd'>\\n\"+\n",
       "       \"<p>\\n\"+\n",
       "       \"BokehJS does not appear to have successfully loaded. If loading BokehJS from CDN, this \\n\"+\n",
       "       \"may be due to a slow or bad network connection. Possible fixes:\\n\"+\n",
       "       \"</p>\\n\"+\n",
       "       \"<ul>\\n\"+\n",
       "       \"<li>re-rerun `output_notebook()` to attempt to load from CDN again, or</li>\\n\"+\n",
       "       \"<li>use INLINE resources instead, as so:</li>\\n\"+\n",
       "       \"</ul>\\n\"+\n",
       "       \"<code>\\n\"+\n",
       "       \"from bokeh.resources import INLINE\\n\"+\n",
       "       \"output_notebook(resources=INLINE)\\n\"+\n",
       "       \"</code>\\n\"+\n",
       "       \"</div>\"}};\n",
       "  \n",
       "    function display_loaded() {\n",
       "      if (window.Bokeh !== undefined) {\n",
       "        var el = document.getElementById(\"e73317ea-f701-4891-83bd-98d4e9433db3\");\n",
       "        el.textContent = \"BokehJS \" + Bokeh.version + \" successfully loaded.\";\n",
       "      } else if (Date.now() < window._bokeh_timeout) {\n",
       "        setTimeout(display_loaded, 100)\n",
       "      }\n",
       "    }\n",
       "  \n",
       "    function run_callbacks() {\n",
       "      window._bokeh_onload_callbacks.forEach(function(callback) { callback() });\n",
       "      delete window._bokeh_onload_callbacks\n",
       "      console.info(\"Bokeh: all callbacks have finished\");\n",
       "    }\n",
       "  \n",
       "    function load_libs(js_urls, callback) {\n",
       "      window._bokeh_onload_callbacks.push(callback);\n",
       "      if (window._bokeh_is_loading > 0) {\n",
       "        console.log(\"Bokeh: BokehJS is being loaded, scheduling callback at\", now());\n",
       "        return null;\n",
       "      }\n",
       "      if (js_urls == null || js_urls.length === 0) {\n",
       "        run_callbacks();\n",
       "        return null;\n",
       "      }\n",
       "      console.log(\"Bokeh: BokehJS not loaded, scheduling load and callback at\", now());\n",
       "      window._bokeh_is_loading = js_urls.length;\n",
       "      for (var i = 0; i < js_urls.length; i++) {\n",
       "        var url = js_urls[i];\n",
       "        var s = document.createElement('script');\n",
       "        s.src = url;\n",
       "        s.async = false;\n",
       "        s.onreadystatechange = s.onload = function() {\n",
       "          window._bokeh_is_loading--;\n",
       "          if (window._bokeh_is_loading === 0) {\n",
       "            console.log(\"Bokeh: all BokehJS libraries loaded\");\n",
       "            run_callbacks()\n",
       "          }\n",
       "        };\n",
       "        s.onerror = function() {\n",
       "          console.warn(\"failed to load library \" + url);\n",
       "        };\n",
       "        console.log(\"Bokeh: injecting script tag for BokehJS library: \", url);\n",
       "        document.getElementsByTagName(\"head\")[0].appendChild(s);\n",
       "      }\n",
       "    };var element = document.getElementById(\"e73317ea-f701-4891-83bd-98d4e9433db3\");\n",
       "    if (element == null) {\n",
       "      console.log(\"Bokeh: ERROR: autoload.js configured with elementid 'e73317ea-f701-4891-83bd-98d4e9433db3' but no matching script tag was found. \")\n",
       "      return false;\n",
       "    }\n",
       "  \n",
       "    var js_urls = [];\n",
       "  \n",
       "    var inline_js = [\n",
       "      function(Bokeh) {\n",
       "        (function() {\n",
       "          var fn = function() {\n",
       "            var docs_json = {\"7ec513b8-c550-49e2-80b1-db6dc659a099\":{\"roots\":{\"references\":[{\"attributes\":{},\"id\":\"0a2d39a7-8855-407d-9d6a-95897e80de08\",\"type\":\"BasicTicker\"},{\"attributes\":{},\"id\":\"f6a773db-2c32-4dfe-8909-f3ccc3ca7dcf\",\"type\":\"BasicTickFormatter\"},{\"attributes\":{\"plot\":{\"id\":\"abf27d03-25c8-4e12-8291-d93fe5bfe34a\",\"subtype\":\"Figure\",\"type\":\"Plot\"},\"ticker\":{\"id\":\"0a2d39a7-8855-407d-9d6a-95897e80de08\",\"type\":\"BasicTicker\"}},\"id\":\"6ced3c7a-ad0f-4605-ad19-ff55fea7b439\",\"type\":\"Grid\"},{\"attributes\":{\"dimension\":1,\"plot\":{\"id\":\"abf27d03-25c8-4e12-8291-d93fe5bfe34a\",\"subtype\":\"Figure\",\"type\":\"Plot\"},\"ticker\":{\"id\":\"3ee2d92c-a3c8-40eb-a468-a602566b1bc4\",\"type\":\"BasicTicker\"}},\"id\":\"6611428c-67a4-45bb-94df-bc64931b0fb3\",\"type\":\"Grid\"},{\"attributes\":{\"data_source\":{\"id\":\"a2c95238-b2cf-498d-878b-26e753af63af\",\"type\":\"ColumnDataSource\"},\"glyph\":{\"id\":\"645e45de-a5a9-41ac-87bd-cc58fd2aa838\",\"type\":\"ImageRGBA\"},\"hover_glyph\":null,\"muted_glyph\":null,\"nonselection_glyph\":{\"id\":\"805b479b-b6e2-4ea6-a5e5-2f9db3235c36\",\"type\":\"ImageRGBA\"},\"selection_glyph\":null},\"id\":\"1eff4518-bd37-4229-aa8f-12d330c22e2e\",\"type\":\"GlyphRenderer\"},{\"attributes\":{\"dh\":{\"units\":\"data\",\"value\":8},\"dw\":{\"units\":\"data\",\"value\":8},\"image\":{\"field\":\"image\"},\"x\":{\"value\":0},\"y\":{\"value\":0}},\"id\":\"805b479b-b6e2-4ea6-a5e5-2f9db3235c36\",\"type\":\"ImageRGBA\"},{\"attributes\":{\"callback\":null,\"column_names\":[\"image\"],\"data\":{\"image\":[{\"__ndarray__\":\"//////////+fn5//Ly8v/19fX///////////////////////39/f/x8fH/+vr6//X19f/z8/P/////////////////+/v7//T09P///////v7+//Pz8//4+Pj////////////6+vr/9/f3////////////9vb2//f39/////////////v7+//z8/P////////////39/f/9/f3/////////////Pz8//Dw8P/9/f3///////T09P/39/f/////////////////8vLy//Dw8P/19fX/8PDw//r6+v/////////////////6+vr/8vLy//b29v/+/v7////////////w==\",\"dtype\":\"uint32\",\"shape\":[8,8]}]}},\"id\":\"a2c95238-b2cf-498d-878b-26e753af63af\",\"type\":\"ColumnDataSource\"},{\"attributes\":{},\"id\":\"65d7d172-837d-42c8-a702-86d326ed53d4\",\"type\":\"BasicTickFormatter\"},{\"attributes\":{\"dh\":{\"units\":\"data\",\"value\":8},\"dw\":{\"units\":\"data\",\"value\":8},\"image\":{\"field\":\"image\"},\"x\":{\"value\":0},\"y\":{\"value\":0}},\"id\":\"645e45de-a5a9-41ac-87bd-cc58fd2aa838\",\"type\":\"ImageRGBA\"},{\"attributes\":{\"callback\":null,\"end\":8},\"id\":\"d8b68474-1a37-40ce-938f-b9a7081cadbd\",\"type\":\"Range1d\"},{\"attributes\":{\"below\":[{\"id\":\"54c0e029-f4c2-4276-b844-6272005a750e\",\"type\":\"LinearAxis\"}],\"left\":[{\"id\":\"3e75b100-45f8-4edc-be80-4eb9b2112ee1\",\"type\":\"LinearAxis\"}],\"plot_height\":100,\"plot_width\":110,\"renderers\":[{\"id\":\"54c0e029-f4c2-4276-b844-6272005a750e\",\"type\":\"LinearAxis\"},{\"id\":\"6ced3c7a-ad0f-4605-ad19-ff55fea7b439\",\"type\":\"Grid\"},{\"id\":\"3e75b100-45f8-4edc-be80-4eb9b2112ee1\",\"type\":\"LinearAxis\"},{\"id\":\"6611428c-67a4-45bb-94df-bc64931b0fb3\",\"type\":\"Grid\"},{\"id\":\"1eff4518-bd37-4229-aa8f-12d330c22e2e\",\"type\":\"GlyphRenderer\"}],\"title\":{\"id\":\"c3c5e806-b0e7-484d-ab20-44f35452eaef\",\"type\":\"Title\"},\"tool_events\":{\"id\":\"af85b448-d4e0-4447-895a-ad3b97be6c61\",\"type\":\"ToolEvents\"},\"toolbar\":{\"id\":\"dfada5ee-2089-4ea5-b549-8bf2feb0e04b\",\"type\":\"Toolbar\"},\"x_range\":{\"id\":\"d8b68474-1a37-40ce-938f-b9a7081cadbd\",\"type\":\"Range1d\"},\"y_range\":{\"id\":\"fadaaf8a-693c-4e3d-87a7-810de590329a\",\"type\":\"Range1d\"}},\"id\":\"abf27d03-25c8-4e12-8291-d93fe5bfe34a\",\"subtype\":\"Figure\",\"type\":\"Plot\"},{\"attributes\":{\"plot\":null,\"text\":\"Training: 0\"},\"id\":\"c3c5e806-b0e7-484d-ab20-44f35452eaef\",\"type\":\"Title\"},{\"attributes\":{\"formatter\":{\"id\":\"f6a773db-2c32-4dfe-8909-f3ccc3ca7dcf\",\"type\":\"BasicTickFormatter\"},\"plot\":{\"id\":\"abf27d03-25c8-4e12-8291-d93fe5bfe34a\",\"subtype\":\"Figure\",\"type\":\"Plot\"},\"ticker\":{\"id\":\"3ee2d92c-a3c8-40eb-a468-a602566b1bc4\",\"type\":\"BasicTicker\"},\"visible\":false},\"id\":\"3e75b100-45f8-4edc-be80-4eb9b2112ee1\",\"type\":\"LinearAxis\"},{\"attributes\":{},\"id\":\"3ee2d92c-a3c8-40eb-a468-a602566b1bc4\",\"type\":\"BasicTicker\"},{\"attributes\":{},\"id\":\"af85b448-d4e0-4447-895a-ad3b97be6c61\",\"type\":\"ToolEvents\"},{\"attributes\":{\"active_drag\":\"auto\",\"active_scroll\":\"auto\",\"active_tap\":\"auto\"},\"id\":\"dfada5ee-2089-4ea5-b549-8bf2feb0e04b\",\"type\":\"Toolbar\"},{\"attributes\":{\"formatter\":{\"id\":\"65d7d172-837d-42c8-a702-86d326ed53d4\",\"type\":\"BasicTickFormatter\"},\"plot\":{\"id\":\"abf27d03-25c8-4e12-8291-d93fe5bfe34a\",\"subtype\":\"Figure\",\"type\":\"Plot\"},\"ticker\":{\"id\":\"0a2d39a7-8855-407d-9d6a-95897e80de08\",\"type\":\"BasicTicker\"},\"visible\":false},\"id\":\"54c0e029-f4c2-4276-b844-6272005a750e\",\"type\":\"LinearAxis\"},{\"attributes\":{\"callback\":null,\"end\":8},\"id\":\"fadaaf8a-693c-4e3d-87a7-810de590329a\",\"type\":\"Range1d\"}],\"root_ids\":[\"abf27d03-25c8-4e12-8291-d93fe5bfe34a\"]},\"title\":\"Bokeh Application\",\"version\":\"0.12.5rc3\"}};\n",
       "            var render_items = [{\"docid\":\"7ec513b8-c550-49e2-80b1-db6dc659a099\",\"elementid\":\"e73317ea-f701-4891-83bd-98d4e9433db3\",\"modelid\":\"abf27d03-25c8-4e12-8291-d93fe5bfe34a\"}];\n",
       "            \n",
       "            Bokeh.embed.embed_items(docs_json, render_items);\n",
       "          };\n",
       "          if (document.readyState != \"loading\") fn();\n",
       "          else document.addEventListener(\"DOMContentLoaded\", fn);\n",
       "        })();\n",
       "      },\n",
       "      function(Bokeh) {\n",
       "      }\n",
       "    ];\n",
       "  \n",
       "    function run_inline_js() {\n",
       "      \n",
       "      if ((window.Bokeh !== undefined) || (force === true)) {\n",
       "        for (var i = 0; i < inline_js.length; i++) {\n",
       "          inline_js[i](window.Bokeh);\n",
       "        }if (force === true) {\n",
       "          display_loaded();\n",
       "        }} else if (Date.now() < window._bokeh_timeout) {\n",
       "        setTimeout(run_inline_js, 100);\n",
       "      } else if (!window._bokeh_failed_load) {\n",
       "        console.log(\"Bokeh: BokehJS failed to load within specified timeout.\");\n",
       "        window._bokeh_failed_load = true;\n",
       "      } else if (force !== true) {\n",
       "        var cell = $(document.getElementById(\"e73317ea-f701-4891-83bd-98d4e9433db3\")).parents('.cell').data().cell;\n",
       "        cell.output_area.append_execute_result(NB_LOAD_WARNING)\n",
       "      }\n",
       "  \n",
       "    }\n",
       "  \n",
       "    if (window._bokeh_is_loading === 0) {\n",
       "      console.log(\"Bokeh: BokehJS loaded, going straight to plotting\");\n",
       "      run_inline_js();\n",
       "    } else {\n",
       "      load_libs(js_urls, function() {\n",
       "        console.log(\"Bokeh: BokehJS plotting callback run at\", now());\n",
       "        run_inline_js();\n",
       "      });\n",
       "    }\n",
       "  }(this));\n",
       "</script>"
      ]
     },
     "metadata": {},
     "output_type": "display_data"
    }
   ],
   "source": [
    "p = bokeh.plotting.figure(width=110, height=100, x_range=(0, 8), y_range=(0, 8),\n",
    "                          tools='', title='Training: {}'.format(digits.target[0]))\n",
    "p.xaxis.visible = p.yaxis.visible = False\n",
    "\n",
    "p.image_rgba(image=[rgba_from_4bit(digits.images[0])], x=0, y=0, dw=8, dh=8)\n",
    "\n",
    "bokeh.plotting.show(p)"
   ]
  },
  {
   "cell_type": "code",
   "execution_count": 12,
   "metadata": {
    "collapsed": false
   },
   "outputs": [
    {
     "data": {
      "text/html": [
       "\n",
       "\n",
       "    <div class=\"bk-root\">\n",
       "        <div class=\"bk-plotdiv\" id=\"07fb7b33-ad62-4673-abf4-722c9a03b626\"></div>\n",
       "    </div>\n",
       "<script type=\"text/javascript\">\n",
       "  \n",
       "  (function(global) {\n",
       "    function now() {\n",
       "      return new Date();\n",
       "    }\n",
       "  \n",
       "    var force = false;\n",
       "  \n",
       "    if (typeof (window._bokeh_onload_callbacks) === \"undefined\" || force === true) {\n",
       "      window._bokeh_onload_callbacks = [];\n",
       "      window._bokeh_is_loading = undefined;\n",
       "    }\n",
       "  \n",
       "  \n",
       "    \n",
       "    if (typeof (window._bokeh_timeout) === \"undefined\" || force === true) {\n",
       "      window._bokeh_timeout = Date.now() + 0;\n",
       "      window._bokeh_failed_load = false;\n",
       "    }\n",
       "  \n",
       "    var NB_LOAD_WARNING = {'data': {'text/html':\n",
       "       \"<div style='background-color: #fdd'>\\n\"+\n",
       "       \"<p>\\n\"+\n",
       "       \"BokehJS does not appear to have successfully loaded. If loading BokehJS from CDN, this \\n\"+\n",
       "       \"may be due to a slow or bad network connection. Possible fixes:\\n\"+\n",
       "       \"</p>\\n\"+\n",
       "       \"<ul>\\n\"+\n",
       "       \"<li>re-rerun `output_notebook()` to attempt to load from CDN again, or</li>\\n\"+\n",
       "       \"<li>use INLINE resources instead, as so:</li>\\n\"+\n",
       "       \"</ul>\\n\"+\n",
       "       \"<code>\\n\"+\n",
       "       \"from bokeh.resources import INLINE\\n\"+\n",
       "       \"output_notebook(resources=INLINE)\\n\"+\n",
       "       \"</code>\\n\"+\n",
       "       \"</div>\"}};\n",
       "  \n",
       "    function display_loaded() {\n",
       "      if (window.Bokeh !== undefined) {\n",
       "        var el = document.getElementById(\"07fb7b33-ad62-4673-abf4-722c9a03b626\");\n",
       "        el.textContent = \"BokehJS \" + Bokeh.version + \" successfully loaded.\";\n",
       "      } else if (Date.now() < window._bokeh_timeout) {\n",
       "        setTimeout(display_loaded, 100)\n",
       "      }\n",
       "    }\n",
       "  \n",
       "    function run_callbacks() {\n",
       "      window._bokeh_onload_callbacks.forEach(function(callback) { callback() });\n",
       "      delete window._bokeh_onload_callbacks\n",
       "      console.info(\"Bokeh: all callbacks have finished\");\n",
       "    }\n",
       "  \n",
       "    function load_libs(js_urls, callback) {\n",
       "      window._bokeh_onload_callbacks.push(callback);\n",
       "      if (window._bokeh_is_loading > 0) {\n",
       "        console.log(\"Bokeh: BokehJS is being loaded, scheduling callback at\", now());\n",
       "        return null;\n",
       "      }\n",
       "      if (js_urls == null || js_urls.length === 0) {\n",
       "        run_callbacks();\n",
       "        return null;\n",
       "      }\n",
       "      console.log(\"Bokeh: BokehJS not loaded, scheduling load and callback at\", now());\n",
       "      window._bokeh_is_loading = js_urls.length;\n",
       "      for (var i = 0; i < js_urls.length; i++) {\n",
       "        var url = js_urls[i];\n",
       "        var s = document.createElement('script');\n",
       "        s.src = url;\n",
       "        s.async = false;\n",
       "        s.onreadystatechange = s.onload = function() {\n",
       "          window._bokeh_is_loading--;\n",
       "          if (window._bokeh_is_loading === 0) {\n",
       "            console.log(\"Bokeh: all BokehJS libraries loaded\");\n",
       "            run_callbacks()\n",
       "          }\n",
       "        };\n",
       "        s.onerror = function() {\n",
       "          console.warn(\"failed to load library \" + url);\n",
       "        };\n",
       "        console.log(\"Bokeh: injecting script tag for BokehJS library: \", url);\n",
       "        document.getElementsByTagName(\"head\")[0].appendChild(s);\n",
       "      }\n",
       "    };var element = document.getElementById(\"07fb7b33-ad62-4673-abf4-722c9a03b626\");\n",
       "    if (element == null) {\n",
       "      console.log(\"Bokeh: ERROR: autoload.js configured with elementid '07fb7b33-ad62-4673-abf4-722c9a03b626' but no matching script tag was found. \")\n",
       "      return false;\n",
       "    }\n",
       "  \n",
       "    var js_urls = [];\n",
       "  \n",
       "    var inline_js = [\n",
       "      function(Bokeh) {\n",
       "        (function() {\n",
       "          var fn = function() {\n",
       "            var docs_json = {\"e0fb67e2-a35a-4919-92b0-0319ffabc856\":{\"roots\":{\"references\":[{\"attributes\":{\"dh\":{\"units\":\"data\",\"value\":8},\"dw\":{\"units\":\"data\",\"value\":8},\"image\":{\"field\":\"image\"},\"x\":{\"value\":0},\"y\":{\"value\":0}},\"id\":\"69717db9-8186-44a5-905d-cb08418d4342\",\"type\":\"ImageRGBA\"},{\"attributes\":{},\"id\":\"bc2611d4-89e9-4ea9-8334-45bf542ff27a\",\"type\":\"BasicTicker\"},{\"attributes\":{\"plot\":{\"id\":\"bb9eac30-19d9-4f53-a5e0-08afafa8f4aa\",\"subtype\":\"Figure\",\"type\":\"Plot\"},\"ticker\":{\"id\":\"bc2611d4-89e9-4ea9-8334-45bf542ff27a\",\"type\":\"BasicTicker\"}},\"id\":\"013d146b-5063-44f6-bfc9-3fdc4836953a\",\"type\":\"Grid\"},{\"attributes\":{\"formatter\":{\"id\":\"802e1883-6228-4f4c-885a-4b82258e2eef\",\"type\":\"BasicTickFormatter\"},\"plot\":{\"id\":\"bb9eac30-19d9-4f53-a5e0-08afafa8f4aa\",\"subtype\":\"Figure\",\"type\":\"Plot\"},\"ticker\":{\"id\":\"043e189e-a772-4e60-a87d-93682b3052b1\",\"type\":\"BasicTicker\"},\"visible\":false},\"id\":\"534f2caf-f6ee-4279-9067-9d0b879835d4\",\"type\":\"LinearAxis\"},{\"attributes\":{},\"id\":\"043e189e-a772-4e60-a87d-93682b3052b1\",\"type\":\"BasicTicker\"},{\"attributes\":{\"dimension\":1,\"plot\":{\"id\":\"bb9eac30-19d9-4f53-a5e0-08afafa8f4aa\",\"subtype\":\"Figure\",\"type\":\"Plot\"},\"ticker\":{\"id\":\"043e189e-a772-4e60-a87d-93682b3052b1\",\"type\":\"BasicTicker\"}},\"id\":\"45db2907-cce9-40bb-bea6-4e7137fbf468\",\"type\":\"Grid\"},{\"attributes\":{\"dh\":{\"units\":\"data\",\"value\":8},\"dw\":{\"units\":\"data\",\"value\":8},\"image\":{\"field\":\"image\"},\"x\":{\"value\":0},\"y\":{\"value\":0}},\"id\":\"f4610f44-6ec1-4116-b201-4661f3db7288\",\"type\":\"ImageRGBA\"},{\"attributes\":{\"dh\":{\"units\":\"data\",\"value\":8},\"dw\":{\"units\":\"data\",\"value\":8},\"image\":{\"field\":\"image\"},\"x\":{\"value\":0},\"y\":{\"value\":0}},\"id\":\"91ebf358-6c22-4d35-9d88-4926d62ec463\",\"type\":\"ImageRGBA\"},{\"attributes\":{\"dimension\":1,\"plot\":{\"id\":\"50541749-df81-48e0-be61-5e8a817e9299\",\"subtype\":\"Figure\",\"type\":\"Plot\"},\"ticker\":{\"id\":\"5ed14185-5572-4c5c-83ef-8c67b65b130c\",\"type\":\"BasicTicker\"}},\"id\":\"6d94ea50-754b-43db-b3d9-d1f41975c9a8\",\"type\":\"Grid\"},{\"attributes\":{},\"id\":\"802e1883-6228-4f4c-885a-4b82258e2eef\",\"type\":\"BasicTickFormatter\"},{\"attributes\":{\"callback\":null,\"column_names\":[\"image\"],\"data\":{\"image\":[{\"__ndarray__\":\"//////////+Pj4//Ly8v/y8vL/9vb2///////////////////////39/f/+/v7//r6+v/x8fH/9vb2/////////////////////////////v7+//X19f/39/f///////////////////////7+/v/z8/P/8/Pz//7+/v/////////////////9/f3/8PDw//T09P/+/v7//////////////////f39//7+/v/y8vL/8vLy///////////////////////39/f/8vLy//n5+f/w8PD/+/v7///////////////////////4+Pj/8PDw//Ly8v/+/v7////////////w==\",\"dtype\":\"uint32\",\"shape\":[8,8]}]}},\"id\":\"e6879355-76d1-4d6a-aa1a-f79fea8d62a7\",\"type\":\"ColumnDataSource\"},{\"attributes\":{\"dh\":{\"units\":\"data\",\"value\":8},\"dw\":{\"units\":\"data\",\"value\":8},\"image\":{\"field\":\"image\"},\"x\":{\"value\":0},\"y\":{\"value\":0}},\"id\":\"6657ad6d-9671-4021-8f72-708a3c9126d4\",\"type\":\"ImageRGBA\"},{\"attributes\":{\"data_source\":{\"id\":\"3195a404-71f0-45c6-84f0-e12d91081abf\",\"type\":\"ColumnDataSource\"},\"glyph\":{\"id\":\"f4610f44-6ec1-4116-b201-4661f3db7288\",\"type\":\"ImageRGBA\"},\"hover_glyph\":null,\"muted_glyph\":null,\"nonselection_glyph\":{\"id\":\"6657ad6d-9671-4021-8f72-708a3c9126d4\",\"type\":\"ImageRGBA\"},\"selection_glyph\":null},\"id\":\"338e9c1c-51bd-4fed-8194-d366d5cebe20\",\"type\":\"GlyphRenderer\"},{\"attributes\":{},\"id\":\"97818ac5-1cdf-438b-a99e-ad023fed5aa8\",\"type\":\"BasicTickFormatter\"},{\"attributes\":{\"below\":[{\"id\":\"12866f92-94ff-4a01-a7cd-b318cfc4b953\",\"type\":\"LinearAxis\"}],\"left\":[{\"id\":\"752f56aa-a09c-490c-be78-99cc70ed4914\",\"type\":\"LinearAxis\"}],\"plot_height\":80,\"plot_width\":80,\"renderers\":[{\"id\":\"12866f92-94ff-4a01-a7cd-b318cfc4b953\",\"type\":\"LinearAxis\"},{\"id\":\"8afb591e-31d7-4920-b744-a2c421b24626\",\"type\":\"Grid\"},{\"id\":\"752f56aa-a09c-490c-be78-99cc70ed4914\",\"type\":\"LinearAxis\"},{\"id\":\"9e5a65cc-e57e-4c5a-91d9-7b231997bfc8\",\"type\":\"Grid\"},{\"id\":\"27a76a72-2f01-4e2e-872f-635c9ba8dd62\",\"type\":\"GlyphRenderer\"}],\"title\":{\"id\":\"1e7e9c3c-e350-4759-931f-43c922c0e723\",\"type\":\"Title\"},\"tool_events\":{\"id\":\"11402726-8629-4c25-9e41-6dbc89e5a143\",\"type\":\"ToolEvents\"},\"toolbar\":{\"id\":\"cd867da3-2d02-4da0-ade0-af3712e336b2\",\"type\":\"Toolbar\"},\"toolbar_location\":null,\"x_range\":{\"id\":\"5b6607b7-b73c-4592-9b40-08cff7874fc6\",\"type\":\"Range1d\"},\"y_range\":{\"id\":\"60fa5945-f8ca-4b25-bdef-0c34fa536252\",\"type\":\"Range1d\"}},\"id\":\"94a60ca4-f732-45e1-89e8-ffd099dde051\",\"subtype\":\"Figure\",\"type\":\"Plot\"},{\"attributes\":{},\"id\":\"31c8df6d-ab25-4478-81ef-b4746deed673\",\"type\":\"BasicTickFormatter\"},{\"attributes\":{\"plot\":null,\"text\":\"Training: 3\"},\"id\":\"1e7e9c3c-e350-4759-931f-43c922c0e723\",\"type\":\"Title\"},{\"attributes\":{},\"id\":\"11402726-8629-4c25-9e41-6dbc89e5a143\",\"type\":\"ToolEvents\"},{\"attributes\":{\"callback\":null,\"end\":8},\"id\":\"5b6607b7-b73c-4592-9b40-08cff7874fc6\",\"type\":\"Range1d\"},{\"attributes\":{\"active_drag\":\"auto\",\"active_scroll\":\"auto\",\"active_tap\":\"auto\"},\"id\":\"cd867da3-2d02-4da0-ade0-af3712e336b2\",\"type\":\"Toolbar\"},{\"attributes\":{\"dh\":{\"units\":\"data\",\"value\":8},\"dw\":{\"units\":\"data\",\"value\":8},\"image\":{\"field\":\"image\"},\"x\":{\"value\":0},\"y\":{\"value\":0}},\"id\":\"31783ee6-1bc7-4c02-b645-9cc0928ef766\",\"type\":\"ImageRGBA\"},{\"attributes\":{\"formatter\":{\"id\":\"b1fbf1ce-3993-4221-aff7-a7462ef27ddb\",\"type\":\"BasicTickFormatter\"},\"plot\":{\"id\":\"94a60ca4-f732-45e1-89e8-ffd099dde051\",\"subtype\":\"Figure\",\"type\":\"Plot\"},\"ticker\":{\"id\":\"1f75b622-7897-40fa-94b9-811033548278\",\"type\":\"BasicTicker\"},\"visible\":false},\"id\":\"12866f92-94ff-4a01-a7cd-b318cfc4b953\",\"type\":\"LinearAxis\"},{\"attributes\":{\"callback\":null,\"end\":8},\"id\":\"60fa5945-f8ca-4b25-bdef-0c34fa536252\",\"type\":\"Range1d\"},{\"attributes\":{},\"id\":\"1f75b622-7897-40fa-94b9-811033548278\",\"type\":\"BasicTicker\"},{\"attributes\":{\"plot\":{\"id\":\"94a60ca4-f732-45e1-89e8-ffd099dde051\",\"subtype\":\"Figure\",\"type\":\"Plot\"},\"ticker\":{\"id\":\"1f75b622-7897-40fa-94b9-811033548278\",\"type\":\"BasicTicker\"}},\"id\":\"8afb591e-31d7-4920-b744-a2c421b24626\",\"type\":\"Grid\"},{\"attributes\":{\"formatter\":{\"id\":\"be7acf0c-90e6-406b-9d79-00f6b8c5e003\",\"type\":\"BasicTickFormatter\"},\"plot\":{\"id\":\"94a60ca4-f732-45e1-89e8-ffd099dde051\",\"subtype\":\"Figure\",\"type\":\"Plot\"},\"ticker\":{\"id\":\"eff1766d-1d20-4d00-b532-15df6470a6c4\",\"type\":\"BasicTicker\"},\"visible\":false},\"id\":\"752f56aa-a09c-490c-be78-99cc70ed4914\",\"type\":\"LinearAxis\"},{\"attributes\":{},\"id\":\"eff1766d-1d20-4d00-b532-15df6470a6c4\",\"type\":\"BasicTicker\"},{\"attributes\":{\"dimension\":1,\"plot\":{\"id\":\"94a60ca4-f732-45e1-89e8-ffd099dde051\",\"subtype\":\"Figure\",\"type\":\"Plot\"},\"ticker\":{\"id\":\"eff1766d-1d20-4d00-b532-15df6470a6c4\",\"type\":\"BasicTicker\"}},\"id\":\"9e5a65cc-e57e-4c5a-91d9-7b231997bfc8\",\"type\":\"Grid\"},{\"attributes\":{\"sizing_mode\":\"scale_width\",\"toolbar_location\":\"above\"},\"id\":\"20af6138-3210-4689-a884-354993739f9c\",\"type\":\"ToolbarBox\"},{\"attributes\":{\"dh\":{\"units\":\"data\",\"value\":8},\"dw\":{\"units\":\"data\",\"value\":8},\"image\":{\"field\":\"image\"},\"x\":{\"value\":0},\"y\":{\"value\":0}},\"id\":\"d9864501-201c-4490-ab11-6ba3a9cab04b\",\"type\":\"ImageRGBA\"},{\"attributes\":{\"data_source\":{\"id\":\"e6879355-76d1-4d6a-aa1a-f79fea8d62a7\",\"type\":\"ColumnDataSource\"},\"glyph\":{\"id\":\"31783ee6-1bc7-4c02-b645-9cc0928ef766\",\"type\":\"ImageRGBA\"},\"hover_glyph\":null,\"muted_glyph\":null,\"nonselection_glyph\":{\"id\":\"d9864501-201c-4490-ab11-6ba3a9cab04b\",\"type\":\"ImageRGBA\"},\"selection_glyph\":null},\"id\":\"27a76a72-2f01-4e2e-872f-635c9ba8dd62\",\"type\":\"GlyphRenderer\"},{\"attributes\":{},\"id\":\"b1fbf1ce-3993-4221-aff7-a7462ef27ddb\",\"type\":\"BasicTickFormatter\"},{\"attributes\":{},\"id\":\"be7acf0c-90e6-406b-9d79-00f6b8c5e003\",\"type\":\"BasicTickFormatter\"},{\"attributes\":{\"callback\":null,\"column_names\":[\"image\"],\"data\":{\"image\":[{\"__ndarray__\":\"//////////+fn5//Ly8v/19fX///////////////////////39/f/x8fH/+vr6//X19f/z8/P/////////////////+/v7//T09P///////v7+//Pz8//4+Pj////////////6+vr/9/f3////////////9vb2//f39/////////////v7+//z8/P////////////39/f/9/f3/////////////Pz8//Dw8P/9/f3///////T09P/39/f/////////////////8vLy//Dw8P/19fX/8PDw//r6+v/////////////////6+vr/8vLy//b29v/+/v7////////////w==\",\"dtype\":\"uint32\",\"shape\":[8,8]}]}},\"id\":\"6dfed843-bfbf-47d0-82ee-b4d04b0ebc32\",\"type\":\"ColumnDataSource\"},{\"attributes\":{\"children\":[{\"id\":\"20af6138-3210-4689-a884-354993739f9c\",\"type\":\"ToolbarBox\"},{\"id\":\"7c2e3b8a-6dd0-4580-8d6b-c014a2b0cad1\",\"type\":\"Column\"}]},\"id\":\"a6bd4531-e584-4659-8775-23c93ee9fcf0\",\"type\":\"Column\"},{\"attributes\":{\"children\":[{\"id\":\"78386215-e4da-4aad-b4ce-c0b835868cfc\",\"subtype\":\"Figure\",\"type\":\"Plot\"},{\"id\":\"bb9eac30-19d9-4f53-a5e0-08afafa8f4aa\",\"subtype\":\"Figure\",\"type\":\"Plot\"},{\"id\":\"50541749-df81-48e0-be61-5e8a817e9299\",\"subtype\":\"Figure\",\"type\":\"Plot\"},{\"id\":\"94a60ca4-f732-45e1-89e8-ffd099dde051\",\"subtype\":\"Figure\",\"type\":\"Plot\"}]},\"id\":\"98e8be7e-d25d-44a5-94a9-f20a5d09cf5c\",\"type\":\"Row\"},{\"attributes\":{\"below\":[{\"id\":\"84b9dbc4-558b-4e10-b684-c785352971e6\",\"type\":\"LinearAxis\"}],\"left\":[{\"id\":\"7cb2474a-c07e-4bc4-92d2-936e1dfeb402\",\"type\":\"LinearAxis\"}],\"plot_height\":80,\"plot_width\":80,\"renderers\":[{\"id\":\"84b9dbc4-558b-4e10-b684-c785352971e6\",\"type\":\"LinearAxis\"},{\"id\":\"c3816e1f-f15d-4006-b72f-70647b0a3438\",\"type\":\"Grid\"},{\"id\":\"7cb2474a-c07e-4bc4-92d2-936e1dfeb402\",\"type\":\"LinearAxis\"},{\"id\":\"6d94ea50-754b-43db-b3d9-d1f41975c9a8\",\"type\":\"Grid\"},{\"id\":\"338e9c1c-51bd-4fed-8194-d366d5cebe20\",\"type\":\"GlyphRenderer\"}],\"title\":{\"id\":\"c84e8e07-b1de-41df-b573-5e327d6533c8\",\"type\":\"Title\"},\"tool_events\":{\"id\":\"91129de3-f501-4e36-8f7b-9c83940e0e5c\",\"type\":\"ToolEvents\"},\"toolbar\":{\"id\":\"1617f984-299a-43d5-8017-554cd9273519\",\"type\":\"Toolbar\"},\"toolbar_location\":null,\"x_range\":{\"id\":\"473efecb-4114-45bd-8ce9-b295bc2014c5\",\"type\":\"Range1d\"},\"y_range\":{\"id\":\"25a3c76b-ca56-4cb8-b575-a65d450bf257\",\"type\":\"Range1d\"}},\"id\":\"50541749-df81-48e0-be61-5e8a817e9299\",\"subtype\":\"Figure\",\"type\":\"Plot\"},{\"attributes\":{\"children\":[{\"id\":\"98e8be7e-d25d-44a5-94a9-f20a5d09cf5c\",\"type\":\"Row\"}]},\"id\":\"7c2e3b8a-6dd0-4580-8d6b-c014a2b0cad1\",\"type\":\"Column\"},{\"attributes\":{\"callback\":null,\"end\":8},\"id\":\"cbe56804-318d-4c35-9eef-90fd7a859958\",\"type\":\"Range1d\"},{\"attributes\":{},\"id\":\"9b620754-61fd-482e-840b-0cc335791597\",\"type\":\"ToolEvents\"},{\"attributes\":{\"plot\":null,\"text\":\"Training: 0\"},\"id\":\"ab3f8839-6ff2-40c7-b9ee-8983f4a7c40e\",\"type\":\"Title\"},{\"attributes\":{\"data_source\":{\"id\":\"ba07ec39-b551-4f28-a23f-c350a8f23265\",\"type\":\"ColumnDataSource\"},\"glyph\":{\"id\":\"69717db9-8186-44a5-905d-cb08418d4342\",\"type\":\"ImageRGBA\"},\"hover_glyph\":null,\"muted_glyph\":null,\"nonselection_glyph\":{\"id\":\"91ebf358-6c22-4d35-9d88-4926d62ec463\",\"type\":\"ImageRGBA\"},\"selection_glyph\":null},\"id\":\"e5727fcc-018a-4ef5-b1a3-2c2cae222da7\",\"type\":\"GlyphRenderer\"},{\"attributes\":{},\"id\":\"f2e353c7-2b0e-470e-8a60-9dbba7dfb5d7\",\"type\":\"BasicTickFormatter\"},{\"attributes\":{\"active_drag\":\"auto\",\"active_scroll\":\"auto\",\"active_tap\":\"auto\"},\"id\":\"95b69ed9-ab06-4be6-aa49-f993d39c48fa\",\"type\":\"Toolbar\"},{\"attributes\":{\"dh\":{\"units\":\"data\",\"value\":8},\"dw\":{\"units\":\"data\",\"value\":8},\"image\":{\"field\":\"image\"},\"x\":{\"value\":0},\"y\":{\"value\":0}},\"id\":\"3c0fe6b3-9ce6-4f26-8a85-ed0394fa3871\",\"type\":\"ImageRGBA\"},{\"attributes\":{\"formatter\":{\"id\":\"7891ee35-235b-498f-8954-c407b0038029\",\"type\":\"BasicTickFormatter\"},\"plot\":{\"id\":\"78386215-e4da-4aad-b4ce-c0b835868cfc\",\"subtype\":\"Figure\",\"type\":\"Plot\"},\"ticker\":{\"id\":\"3fccfbfb-0898-49e8-a17f-29154f27837a\",\"type\":\"BasicTicker\"},\"visible\":false},\"id\":\"785119bc-5608-41b9-9324-335bc16a5b19\",\"type\":\"LinearAxis\"},{\"attributes\":{\"callback\":null,\"end\":8},\"id\":\"1a12aac0-60dd-4bc4-9d38-09effce9ce53\",\"type\":\"Range1d\"},{\"attributes\":{},\"id\":\"3fccfbfb-0898-49e8-a17f-29154f27837a\",\"type\":\"BasicTicker\"},{\"attributes\":{\"plot\":{\"id\":\"78386215-e4da-4aad-b4ce-c0b835868cfc\",\"subtype\":\"Figure\",\"type\":\"Plot\"},\"ticker\":{\"id\":\"3fccfbfb-0898-49e8-a17f-29154f27837a\",\"type\":\"BasicTicker\"}},\"id\":\"8cb1bb63-62db-4fa4-8bc9-c7fad8f4477a\",\"type\":\"Grid\"},{\"attributes\":{\"formatter\":{\"id\":\"2c919f23-1a46-479d-96ea-ff229c1cfc89\",\"type\":\"BasicTickFormatter\"},\"plot\":{\"id\":\"78386215-e4da-4aad-b4ce-c0b835868cfc\",\"subtype\":\"Figure\",\"type\":\"Plot\"},\"ticker\":{\"id\":\"06c9525f-6636-4c61-a7ab-3242d9b1836d\",\"type\":\"BasicTicker\"},\"visible\":false},\"id\":\"e94cda15-e9df-4396-82e5-265d6c999a46\",\"type\":\"LinearAxis\"},{\"attributes\":{},\"id\":\"06c9525f-6636-4c61-a7ab-3242d9b1836d\",\"type\":\"BasicTicker\"},{\"attributes\":{\"dimension\":1,\"plot\":{\"id\":\"78386215-e4da-4aad-b4ce-c0b835868cfc\",\"subtype\":\"Figure\",\"type\":\"Plot\"},\"ticker\":{\"id\":\"06c9525f-6636-4c61-a7ab-3242d9b1836d\",\"type\":\"BasicTicker\"}},\"id\":\"98480a02-4f66-47d0-bbc5-0149d183dcf2\",\"type\":\"Grid\"},{\"attributes\":{\"callback\":null,\"column_names\":[\"image\"],\"data\":{\"image\":[{\"__ndarray__\":\"////////////////T09P/wAAAP9fX1///////////////////////+/v7/8AAAD/AAAA/5+fn///////////////////////7+/v/wAAAP8AAAD/n5+f///////////////////////v7+//AAAA/wAAAP/Pz8//////////////////j4+P/w8PD/8AAAD/AAAA/9/f3///////////////////////z8/P/w8PD/8AAAD/n5+f////////////////////////////T09P/wAAAP9vb2////////////////////////////8/Pz//Ly8v/6+vr////////////w==\",\"dtype\":\"uint32\",\"shape\":[8,8]}]}},\"id\":\"ba07ec39-b551-4f28-a23f-c350a8f23265\",\"type\":\"ColumnDataSource\"},{\"attributes\":{\"dh\":{\"units\":\"data\",\"value\":8},\"dw\":{\"units\":\"data\",\"value\":8},\"image\":{\"field\":\"image\"},\"x\":{\"value\":0},\"y\":{\"value\":0}},\"id\":\"851cee2c-34b1-4e81-a1e9-5d0637eab50b\",\"type\":\"ImageRGBA\"},{\"attributes\":{\"data_source\":{\"id\":\"6dfed843-bfbf-47d0-82ee-b4d04b0ebc32\",\"type\":\"ColumnDataSource\"},\"glyph\":{\"id\":\"3c0fe6b3-9ce6-4f26-8a85-ed0394fa3871\",\"type\":\"ImageRGBA\"},\"hover_glyph\":null,\"muted_glyph\":null,\"nonselection_glyph\":{\"id\":\"851cee2c-34b1-4e81-a1e9-5d0637eab50b\",\"type\":\"ImageRGBA\"},\"selection_glyph\":null},\"id\":\"c204c05e-3088-4c92-a8a7-c82afa7e8498\",\"type\":\"GlyphRenderer\"},{\"attributes\":{},\"id\":\"7891ee35-235b-498f-8954-c407b0038029\",\"type\":\"BasicTickFormatter\"},{\"attributes\":{\"below\":[{\"id\":\"d4a84adb-8d30-41aa-8924-1b97fc68cd5c\",\"type\":\"LinearAxis\"}],\"left\":[{\"id\":\"534f2caf-f6ee-4279-9067-9d0b879835d4\",\"type\":\"LinearAxis\"}],\"plot_height\":80,\"plot_width\":80,\"renderers\":[{\"id\":\"d4a84adb-8d30-41aa-8924-1b97fc68cd5c\",\"type\":\"LinearAxis\"},{\"id\":\"013d146b-5063-44f6-bfc9-3fdc4836953a\",\"type\":\"Grid\"},{\"id\":\"534f2caf-f6ee-4279-9067-9d0b879835d4\",\"type\":\"LinearAxis\"},{\"id\":\"45db2907-cce9-40bb-bea6-4e7137fbf468\",\"type\":\"Grid\"},{\"id\":\"e5727fcc-018a-4ef5-b1a3-2c2cae222da7\",\"type\":\"GlyphRenderer\"}],\"title\":{\"id\":\"ebff52d5-01f4-47f7-9ce1-6dfaaf2c84a4\",\"type\":\"Title\"},\"tool_events\":{\"id\":\"c97084cc-e65a-4493-9756-4c578d10ae5c\",\"type\":\"ToolEvents\"},\"toolbar\":{\"id\":\"87d8dbe0-063e-40d4-ae71-adbd614ef6e7\",\"type\":\"Toolbar\"},\"toolbar_location\":null,\"x_range\":{\"id\":\"85bf7154-04f7-4b76-b2e1-83c7ad969227\",\"type\":\"Range1d\"},\"y_range\":{\"id\":\"22d35253-0845-4b14-8f56-33787856048c\",\"type\":\"Range1d\"}},\"id\":\"bb9eac30-19d9-4f53-a5e0-08afafa8f4aa\",\"subtype\":\"Figure\",\"type\":\"Plot\"},{\"attributes\":{},\"id\":\"2c919f23-1a46-479d-96ea-ff229c1cfc89\",\"type\":\"BasicTickFormatter\"},{\"attributes\":{\"plot\":null,\"text\":\"Training: 1\"},\"id\":\"ebff52d5-01f4-47f7-9ce1-6dfaaf2c84a4\",\"type\":\"Title\"},{\"attributes\":{},\"id\":\"c97084cc-e65a-4493-9756-4c578d10ae5c\",\"type\":\"ToolEvents\"},{\"attributes\":{\"callback\":null,\"end\":8},\"id\":\"85bf7154-04f7-4b76-b2e1-83c7ad969227\",\"type\":\"Range1d\"},{\"attributes\":{\"active_drag\":\"auto\",\"active_scroll\":\"auto\",\"active_tap\":\"auto\"},\"id\":\"87d8dbe0-063e-40d4-ae71-adbd614ef6e7\",\"type\":\"Toolbar\"},{\"attributes\":{\"formatter\":{\"id\":\"f2e353c7-2b0e-470e-8a60-9dbba7dfb5d7\",\"type\":\"BasicTickFormatter\"},\"plot\":{\"id\":\"bb9eac30-19d9-4f53-a5e0-08afafa8f4aa\",\"subtype\":\"Figure\",\"type\":\"Plot\"},\"ticker\":{\"id\":\"bc2611d4-89e9-4ea9-8334-45bf542ff27a\",\"type\":\"BasicTicker\"},\"visible\":false},\"id\":\"d4a84adb-8d30-41aa-8924-1b97fc68cd5c\",\"type\":\"LinearAxis\"},{\"attributes\":{\"below\":[{\"id\":\"785119bc-5608-41b9-9324-335bc16a5b19\",\"type\":\"LinearAxis\"}],\"left\":[{\"id\":\"e94cda15-e9df-4396-82e5-265d6c999a46\",\"type\":\"LinearAxis\"}],\"plot_height\":80,\"plot_width\":80,\"renderers\":[{\"id\":\"785119bc-5608-41b9-9324-335bc16a5b19\",\"type\":\"LinearAxis\"},{\"id\":\"8cb1bb63-62db-4fa4-8bc9-c7fad8f4477a\",\"type\":\"Grid\"},{\"id\":\"e94cda15-e9df-4396-82e5-265d6c999a46\",\"type\":\"LinearAxis\"},{\"id\":\"98480a02-4f66-47d0-bbc5-0149d183dcf2\",\"type\":\"Grid\"},{\"id\":\"c204c05e-3088-4c92-a8a7-c82afa7e8498\",\"type\":\"GlyphRenderer\"}],\"title\":{\"id\":\"ab3f8839-6ff2-40c7-b9ee-8983f4a7c40e\",\"type\":\"Title\"},\"tool_events\":{\"id\":\"9b620754-61fd-482e-840b-0cc335791597\",\"type\":\"ToolEvents\"},\"toolbar\":{\"id\":\"95b69ed9-ab06-4be6-aa49-f993d39c48fa\",\"type\":\"Toolbar\"},\"toolbar_location\":null,\"x_range\":{\"id\":\"cbe56804-318d-4c35-9eef-90fd7a859958\",\"type\":\"Range1d\"},\"y_range\":{\"id\":\"1a12aac0-60dd-4bc4-9d38-09effce9ce53\",\"type\":\"Range1d\"}},\"id\":\"78386215-e4da-4aad-b4ce-c0b835868cfc\",\"subtype\":\"Figure\",\"type\":\"Plot\"},{\"attributes\":{\"callback\":null,\"end\":8},\"id\":\"22d35253-0845-4b14-8f56-33787856048c\",\"type\":\"Range1d\"},{\"attributes\":{\"callback\":null,\"column_names\":[\"image\"],\"data\":{\"image\":[{\"__ndarray__\":\"////////////////z8/P/09PT/8AAAD/b29v////////////z8/P/y8vL/8AAAD/AAAA/09PT/+vr6////////////9vb2//AAAA/wAAAP+vr6///////////////////////+/v7/9/f3//Ly8v/w8PD//v7+///////////////////////+/v7/+fn5//Dw8P/09PT///////////////////////f39//y8vL/9/f3//AAAA///////////////////////Pz8//AAAA/w8PD/8fHx////////////////////////////+/v7//Dw8P/z8/P////////////w==\",\"dtype\":\"uint32\",\"shape\":[8,8]}]}},\"id\":\"3195a404-71f0-45c6-84f0-e12d91081abf\",\"type\":\"ColumnDataSource\"},{\"attributes\":{\"plot\":null,\"text\":\"Training: 2\"},\"id\":\"c84e8e07-b1de-41df-b573-5e327d6533c8\",\"type\":\"Title\"},{\"attributes\":{},\"id\":\"91129de3-f501-4e36-8f7b-9c83940e0e5c\",\"type\":\"ToolEvents\"},{\"attributes\":{\"active_drag\":\"auto\",\"active_scroll\":\"auto\",\"active_tap\":\"auto\"},\"id\":\"1617f984-299a-43d5-8017-554cd9273519\",\"type\":\"Toolbar\"},{\"attributes\":{\"callback\":null,\"end\":8},\"id\":\"473efecb-4114-45bd-8ce9-b295bc2014c5\",\"type\":\"Range1d\"},{\"attributes\":{},\"id\":\"5ed14185-5572-4c5c-83ef-8c67b65b130c\",\"type\":\"BasicTicker\"},{\"attributes\":{\"formatter\":{\"id\":\"31c8df6d-ab25-4478-81ef-b4746deed673\",\"type\":\"BasicTickFormatter\"},\"plot\":{\"id\":\"50541749-df81-48e0-be61-5e8a817e9299\",\"subtype\":\"Figure\",\"type\":\"Plot\"},\"ticker\":{\"id\":\"5ed14185-5572-4c5c-83ef-8c67b65b130c\",\"type\":\"BasicTicker\"},\"visible\":false},\"id\":\"7cb2474a-c07e-4bc4-92d2-936e1dfeb402\",\"type\":\"LinearAxis\"},{\"attributes\":{},\"id\":\"d9c57725-c038-4064-ab6d-d2554bdca039\",\"type\":\"BasicTicker\"},{\"attributes\":{\"formatter\":{\"id\":\"97818ac5-1cdf-438b-a99e-ad023fed5aa8\",\"type\":\"BasicTickFormatter\"},\"plot\":{\"id\":\"50541749-df81-48e0-be61-5e8a817e9299\",\"subtype\":\"Figure\",\"type\":\"Plot\"},\"ticker\":{\"id\":\"d9c57725-c038-4064-ab6d-d2554bdca039\",\"type\":\"BasicTicker\"},\"visible\":false},\"id\":\"84b9dbc4-558b-4e10-b684-c785352971e6\",\"type\":\"LinearAxis\"},{\"attributes\":{\"callback\":null,\"end\":8},\"id\":\"25a3c76b-ca56-4cb8-b575-a65d450bf257\",\"type\":\"Range1d\"},{\"attributes\":{\"plot\":{\"id\":\"50541749-df81-48e0-be61-5e8a817e9299\",\"subtype\":\"Figure\",\"type\":\"Plot\"},\"ticker\":{\"id\":\"d9c57725-c038-4064-ab6d-d2554bdca039\",\"type\":\"BasicTicker\"}},\"id\":\"c3816e1f-f15d-4006-b72f-70647b0a3438\",\"type\":\"Grid\"}],\"root_ids\":[\"a6bd4531-e584-4659-8775-23c93ee9fcf0\"]},\"title\":\"Bokeh Application\",\"version\":\"0.12.5rc3\"}};\n",
       "            var render_items = [{\"docid\":\"e0fb67e2-a35a-4919-92b0-0319ffabc856\",\"elementid\":\"07fb7b33-ad62-4673-abf4-722c9a03b626\",\"modelid\":\"a6bd4531-e584-4659-8775-23c93ee9fcf0\"}];\n",
       "            \n",
       "            Bokeh.embed.embed_items(docs_json, render_items);\n",
       "          };\n",
       "          if (document.readyState != \"loading\") fn();\n",
       "          else document.addEventListener(\"DOMContentLoaded\", fn);\n",
       "        })();\n",
       "      },\n",
       "      function(Bokeh) {\n",
       "      }\n",
       "    ];\n",
       "  \n",
       "    function run_inline_js() {\n",
       "      \n",
       "      if ((window.Bokeh !== undefined) || (force === true)) {\n",
       "        for (var i = 0; i < inline_js.length; i++) {\n",
       "          inline_js[i](window.Bokeh);\n",
       "        }if (force === true) {\n",
       "          display_loaded();\n",
       "        }} else if (Date.now() < window._bokeh_timeout) {\n",
       "        setTimeout(run_inline_js, 100);\n",
       "      } else if (!window._bokeh_failed_load) {\n",
       "        console.log(\"Bokeh: BokehJS failed to load within specified timeout.\");\n",
       "        window._bokeh_failed_load = true;\n",
       "      } else if (force !== true) {\n",
       "        var cell = $(document.getElementById(\"07fb7b33-ad62-4673-abf4-722c9a03b626\")).parents('.cell').data().cell;\n",
       "        cell.output_area.append_execute_result(NB_LOAD_WARNING)\n",
       "      }\n",
       "  \n",
       "    }\n",
       "  \n",
       "    if (window._bokeh_is_loading === 0) {\n",
       "      console.log(\"Bokeh: BokehJS loaded, going straight to plotting\");\n",
       "      run_inline_js();\n",
       "    } else {\n",
       "      load_libs(js_urls, function() {\n",
       "        console.log(\"Bokeh: BokehJS plotting callback run at\", now());\n",
       "        run_inline_js();\n",
       "      });\n",
       "    }\n",
       "  }(this));\n",
       "</script>"
      ]
     },
     "metadata": {},
     "output_type": "display_data"
    }
   ],
   "source": [
    "n_plot = 4\n",
    "plots = []\n",
    "w = 80\n",
    "h = 80\n",
    "\n",
    "images_and_labels = list(zip(digits.images, digits.target))\n",
    "for index, (image, label) in enumerate(images_and_labels[:n_plot]):\n",
    "    img_rgba = rgba_from_4bit(image)\n",
    "    p = bokeh.plotting.figure(width=w, height=h, tools='', \n",
    "                              x_range=(0, 8), y_range=(0, 8),\n",
    "                              title='Training: {}'.format(label))\n",
    "    p.xaxis.visible = p.yaxis.visible = False\n",
    "    p.image_rgba(image=[img_rgba], x=0, y=0, dw=8, dh=8)\n",
    "    plots.append(p)\n",
    "\n",
    "grid = bokeh.layouts.gridplot([plots])\n",
    "bokeh.plotting.show(grid)"
   ]
  },
  {
   "cell_type": "code",
   "execution_count": 13,
   "metadata": {
    "collapsed": true
   },
   "outputs": [],
   "source": [
    "X, y = digits.data, digits.target"
   ]
  },
  {
   "cell_type": "markdown",
   "metadata": {},
   "source": [
    "## Start with the K-nearest Neighbor Classifier (using default 5 neighbors)"
   ]
  },
  {
   "cell_type": "code",
   "execution_count": 27,
   "metadata": {
    "collapsed": true
   },
   "outputs": [],
   "source": [
    "classifier = sklearn.neighbors.KNeighborsClassifier()"
   ]
  },
  {
   "cell_type": "code",
   "execution_count": 41,
   "metadata": {
    "collapsed": false
   },
   "outputs": [
    {
     "name": "stdout",
     "output_type": "stream",
     "text": [
      "Without stratification:\n",
      "All:\n",
      " [  9.90539789  10.1279911    9.84974958  10.1836394   10.07234279\n",
      "  10.1279911   10.07234279   9.96104619   9.68280467  10.01669449]\n",
      "Training:\n",
      " [  9.67292971  10.29923452   9.81210856  10.43841336   9.67292971\n",
      "  10.09046625   9.60334029  10.29923452   9.53375087  10.57759221]\n",
      "Test:\n",
      " [ 10.83333333   9.44444444  10.           9.16666667  11.66666667\n",
      "  10.27777778  11.94444444   8.61111111  10.27777778   7.77777778]\n"
     ]
    }
   ],
   "source": [
    "train_X, test_X, train_y, test_y = sklearn.model_selection.train_test_split(X, y,\n",
    "                                                                            train_size=0.8,\n",
    "                                                                            random_state=123)\n",
    "print('Without stratification:')\n",
    "print('All:\\n', np.bincount(y) / float(len(y)) * 100.0)\n",
    "print('Training:\\n', np.bincount(train_y) / float(len(train_y)) * 100.0)\n",
    "print('Test:\\n', np.bincount(test_y) / float(len(test_y)) * 100.0)"
   ]
  },
  {
   "cell_type": "code",
   "execution_count": 42,
   "metadata": {
    "collapsed": false
   },
   "outputs": [
    {
     "name": "stdout",
     "output_type": "stream",
     "text": [
      "With stratification:\n",
      "All:\n",
      " [  9.90539789  10.1279911    9.84974958  10.1836394   10.07234279\n",
      "  10.1279911   10.07234279   9.96104619   9.68280467  10.01669449]\n",
      "Training:\n",
      " [  9.88169798  10.16005567   9.88169798  10.16005567  10.09046625\n",
      "  10.09046625  10.09046625   9.9512874    9.67292971  10.02087683]\n",
      "Test:\n",
      " [ 10.          10.           9.72222222  10.27777778  10.          10.27777778\n",
      "  10.          10.           9.72222222  10.        ]\n"
     ]
    }
   ],
   "source": [
    "train_X, test_X, train_y, test_y = sklearn.model_selection.train_test_split(X, y,\n",
    "                                                                            train_size=0.8,\n",
    "                                                                            random_state=123,\n",
    "                                                                            stratify=y)\n",
    "print('With stratification:')\n",
    "print('All:\\n', np.bincount(y) / float(len(y)) * 100.0)\n",
    "print('Training:\\n', np.bincount(train_y) / float(len(train_y)) * 100.0)\n",
    "print('Test:\\n', np.bincount(test_y) / float(len(test_y)) * 100.0)"
   ]
  },
  {
   "cell_type": "code",
   "execution_count": 45,
   "metadata": {
    "collapsed": false
   },
   "outputs": [
    {
     "name": "stdout",
     "output_type": "stream",
     "text": [
      "Fraction Correct [Accuracy]:\n",
      "0.991666666667\n"
     ]
    }
   ],
   "source": [
    "classifier.fit(train_X, train_y)\n",
    "pred_y = classifier.predict(test_X)\n",
    "\n",
    "print(\"Fraction Correct [Accuracy]:\")\n",
    "print(np.sum(pred_y == test_y) / float(len(test_y)))"
   ]
  },
  {
   "cell_type": "code",
   "execution_count": 46,
   "metadata": {
    "collapsed": false
   },
   "outputs": [
    {
     "name": "stdout",
     "output_type": "stream",
     "text": [
      "Samples correctly classified:\n",
      "[  0   1   2   3   4   5   6   7   8   9  10  11  12  13  14  15  16  17\n",
      "  18  19  20  22  23  24  25  26  27  28  29  31  32  33  34  35  36  37\n",
      "  38  39  40  41  42  43  44  45  46  47  48  49  50  51  52  53  54  55\n",
      "  56  57  58  59  60  61  62  63  64  65  66  67  68  69  70  71  72  73\n",
      "  74  75  76  77  78  79  80  81  82  83  84  85  86  87  88  89  90  91\n",
      "  92  93  94  95  96  97  98  99 100 101 102 103 104 105 106 107 108 109\n",
      " 110 111 112 113 114 115 116 117 118 119 120 121 122 123 124 125 126 127\n",
      " 128 129 130 131 132 133 134 135 136 137 138 139 140 141 142 143 144 145\n",
      " 146 147 148 149 150 151 152 153 154 155 156 157 158 159 160 161 162 163\n",
      " 164 165 166 167 168 169 170 171 172 173 174 175 176 177 178 180 181 182\n",
      " 183 184 185 186 187 188 189 190 191 192 193 194 195 196 197 198 199 200\n",
      " 201 202 203 204 205 206 207 208 209 210 211 212 213 214 215 216 217 218\n",
      " 219 220 221 222 223 224 225 226 227 228 229 230 231 232 233 234 235 236\n",
      " 237 238 239 240 241 242 243 244 245 246 247 248 249 250 251 252 253 254\n",
      " 255 256 257 258 259 260 261 262 263 264 265 266 267 268 269 270 271 272\n",
      " 273 274 275 276 277 278 279 280 281 282 283 284 285 286 287 288 289 290\n",
      " 291 292 293 294 295 296 297 298 299 300 301 302 303 304 305 306 307 308\n",
      " 309 310 311 312 313 314 315 316 317 318 319 320 321 322 323 324 325 326\n",
      " 327 328 329 330 331 332 333 334 335 336 337 338 339 340 341 342 343 344\n",
      " 345 346 347 348 349 350 351 352 353 354 355 356 357 358 359]\n",
      "\n",
      "Samples incorrectly classified:\n",
      "[ 21  30 179]\n"
     ]
    }
   ],
   "source": [
    "print('Samples correctly classified:')\n",
    "correct_idx = np.where(pred_y == test_y)[0]\n",
    "print(correct_idx)\n",
    "\n",
    "print('\\nSamples incorrectly classified:')\n",
    "incorrect_idx = np.where(pred_y != test_y)[0]\n",
    "print(incorrect_idx)"
   ]
  },
  {
   "cell_type": "code",
   "execution_count": 63,
   "metadata": {
    "collapsed": false
   },
   "outputs": [
    {
     "name": "stdout",
     "output_type": "stream",
     "text": [
      "Incorrect Predictions:\n"
     ]
    },
    {
     "data": {
      "text/html": [
       "\n",
       "\n",
       "    <div class=\"bk-root\">\n",
       "        <div class=\"bk-plotdiv\" id=\"7fca3a7c-8172-481a-90a8-078708b14658\"></div>\n",
       "    </div>\n",
       "<script type=\"text/javascript\">\n",
       "  \n",
       "  (function(global) {\n",
       "    function now() {\n",
       "      return new Date();\n",
       "    }\n",
       "  \n",
       "    var force = false;\n",
       "  \n",
       "    if (typeof (window._bokeh_onload_callbacks) === \"undefined\" || force === true) {\n",
       "      window._bokeh_onload_callbacks = [];\n",
       "      window._bokeh_is_loading = undefined;\n",
       "    }\n",
       "  \n",
       "  \n",
       "    \n",
       "    if (typeof (window._bokeh_timeout) === \"undefined\" || force === true) {\n",
       "      window._bokeh_timeout = Date.now() + 0;\n",
       "      window._bokeh_failed_load = false;\n",
       "    }\n",
       "  \n",
       "    var NB_LOAD_WARNING = {'data': {'text/html':\n",
       "       \"<div style='background-color: #fdd'>\\n\"+\n",
       "       \"<p>\\n\"+\n",
       "       \"BokehJS does not appear to have successfully loaded. If loading BokehJS from CDN, this \\n\"+\n",
       "       \"may be due to a slow or bad network connection. Possible fixes:\\n\"+\n",
       "       \"</p>\\n\"+\n",
       "       \"<ul>\\n\"+\n",
       "       \"<li>re-rerun `output_notebook()` to attempt to load from CDN again, or</li>\\n\"+\n",
       "       \"<li>use INLINE resources instead, as so:</li>\\n\"+\n",
       "       \"</ul>\\n\"+\n",
       "       \"<code>\\n\"+\n",
       "       \"from bokeh.resources import INLINE\\n\"+\n",
       "       \"output_notebook(resources=INLINE)\\n\"+\n",
       "       \"</code>\\n\"+\n",
       "       \"</div>\"}};\n",
       "  \n",
       "    function display_loaded() {\n",
       "      if (window.Bokeh !== undefined) {\n",
       "        var el = document.getElementById(\"7fca3a7c-8172-481a-90a8-078708b14658\");\n",
       "        el.textContent = \"BokehJS \" + Bokeh.version + \" successfully loaded.\";\n",
       "      } else if (Date.now() < window._bokeh_timeout) {\n",
       "        setTimeout(display_loaded, 100)\n",
       "      }\n",
       "    }\n",
       "  \n",
       "    function run_callbacks() {\n",
       "      window._bokeh_onload_callbacks.forEach(function(callback) { callback() });\n",
       "      delete window._bokeh_onload_callbacks\n",
       "      console.info(\"Bokeh: all callbacks have finished\");\n",
       "    }\n",
       "  \n",
       "    function load_libs(js_urls, callback) {\n",
       "      window._bokeh_onload_callbacks.push(callback);\n",
       "      if (window._bokeh_is_loading > 0) {\n",
       "        console.log(\"Bokeh: BokehJS is being loaded, scheduling callback at\", now());\n",
       "        return null;\n",
       "      }\n",
       "      if (js_urls == null || js_urls.length === 0) {\n",
       "        run_callbacks();\n",
       "        return null;\n",
       "      }\n",
       "      console.log(\"Bokeh: BokehJS not loaded, scheduling load and callback at\", now());\n",
       "      window._bokeh_is_loading = js_urls.length;\n",
       "      for (var i = 0; i < js_urls.length; i++) {\n",
       "        var url = js_urls[i];\n",
       "        var s = document.createElement('script');\n",
       "        s.src = url;\n",
       "        s.async = false;\n",
       "        s.onreadystatechange = s.onload = function() {\n",
       "          window._bokeh_is_loading--;\n",
       "          if (window._bokeh_is_loading === 0) {\n",
       "            console.log(\"Bokeh: all BokehJS libraries loaded\");\n",
       "            run_callbacks()\n",
       "          }\n",
       "        };\n",
       "        s.onerror = function() {\n",
       "          console.warn(\"failed to load library \" + url);\n",
       "        };\n",
       "        console.log(\"Bokeh: injecting script tag for BokehJS library: \", url);\n",
       "        document.getElementsByTagName(\"head\")[0].appendChild(s);\n",
       "      }\n",
       "    };var element = document.getElementById(\"7fca3a7c-8172-481a-90a8-078708b14658\");\n",
       "    if (element == null) {\n",
       "      console.log(\"Bokeh: ERROR: autoload.js configured with elementid '7fca3a7c-8172-481a-90a8-078708b14658' but no matching script tag was found. \")\n",
       "      return false;\n",
       "    }\n",
       "  \n",
       "    var js_urls = [];\n",
       "  \n",
       "    var inline_js = [\n",
       "      function(Bokeh) {\n",
       "        (function() {\n",
       "          var fn = function() {\n",
       "            var docs_json = {\"aefa8fc0-c952-4719-beae-127a78bccd21\":{\"roots\":{\"references\":[{\"attributes\":{\"dh\":{\"units\":\"data\",\"value\":8},\"dw\":{\"units\":\"data\",\"value\":8},\"image\":{\"field\":\"image\"},\"x\":{\"value\":0},\"y\":{\"value\":0}},\"id\":\"d8599c71-3e41-45b0-b559-1163260f54a1\",\"type\":\"ImageRGBA\"},{\"attributes\":{},\"id\":\"d149636d-96af-4c82-b4ed-03679fa97bb0\",\"type\":\"BasicTicker\"},{\"attributes\":{\"plot\":{\"id\":\"df41a7aa-1a9c-42bb-b654-edf5599afbe6\",\"subtype\":\"Figure\",\"type\":\"Plot\"},\"ticker\":{\"id\":\"d149636d-96af-4c82-b4ed-03679fa97bb0\",\"type\":\"BasicTicker\"}},\"id\":\"b636ad94-aa67-417b-aa15-ff4a3d8a84a3\",\"type\":\"Grid\"},{\"attributes\":{\"formatter\":{\"id\":\"913161e3-7410-4bda-9b12-f21e4e75a160\",\"type\":\"BasicTickFormatter\"},\"plot\":{\"id\":\"df41a7aa-1a9c-42bb-b654-edf5599afbe6\",\"subtype\":\"Figure\",\"type\":\"Plot\"},\"ticker\":{\"id\":\"b6212431-7e6f-421c-971e-e459e749b56d\",\"type\":\"BasicTicker\"},\"visible\":false},\"id\":\"9abed9fa-15e0-4034-ad42-c4b9905cbd4d\",\"type\":\"LinearAxis\"},{\"attributes\":{},\"id\":\"b6212431-7e6f-421c-971e-e459e749b56d\",\"type\":\"BasicTicker\"},{\"attributes\":{\"dimension\":1,\"plot\":{\"id\":\"df41a7aa-1a9c-42bb-b654-edf5599afbe6\",\"subtype\":\"Figure\",\"type\":\"Plot\"},\"ticker\":{\"id\":\"b6212431-7e6f-421c-971e-e459e749b56d\",\"type\":\"BasicTicker\"}},\"id\":\"bbeb8f84-7593-4d11-a8e6-a592817d572c\",\"type\":\"Grid\"},{\"attributes\":{\"callback\":null,\"column_names\":[\"image\"],\"data\":{\"image\":[{\"__ndarray__\":\"//////////+vr6//Ly8v/19fX////////////////////////////z8/P/8/Pz//Ly8v////////////////////////////f39//wAAAP+fn5////////////////////////////+vr6//AAAA/9/f3////////////////////////////5+fn/8AAAD/r6+v////////////////////////////j4+P/wAAAP8PDw//z8/P//////////////////////9/f3//AAAA/wAAAP8/Pz///////////////////////4+Pj/8vLy//Dw8P/6+vr////////////w==\",\"dtype\":\"uint32\",\"shape\":[8,8]}]}},\"id\":\"e1436fe7-4eea-4150-a1de-da62bcbe0b8d\",\"type\":\"ColumnDataSource\"},{\"attributes\":{\"dh\":{\"units\":\"data\",\"value\":8},\"dw\":{\"units\":\"data\",\"value\":8},\"image\":{\"field\":\"image\"},\"x\":{\"value\":0},\"y\":{\"value\":0}},\"id\":\"d8e23af7-e5c8-436e-acf0-fca286c18f4a\",\"type\":\"ImageRGBA\"},{\"attributes\":{\"data_source\":{\"id\":\"4a65ac31-06c3-4cc1-8fee-bc761d811aba\",\"type\":\"ColumnDataSource\"},\"glyph\":{\"id\":\"d8599c71-3e41-45b0-b559-1163260f54a1\",\"type\":\"ImageRGBA\"},\"hover_glyph\":null,\"muted_glyph\":null,\"nonselection_glyph\":{\"id\":\"d8e23af7-e5c8-436e-acf0-fca286c18f4a\",\"type\":\"ImageRGBA\"},\"selection_glyph\":null},\"id\":\"9ac964d3-8fea-438c-80ca-dbe5678ee5ca\",\"type\":\"GlyphRenderer\"},{\"attributes\":{},\"id\":\"c2e67403-a653-4daa-b238-b65b21c4849e\",\"type\":\"BasicTickFormatter\"},{\"attributes\":{\"below\":[{\"id\":\"16bf320a-050b-40c6-b1cf-79bd34077c9e\",\"type\":\"LinearAxis\"}],\"left\":[{\"id\":\"e88ef249-7633-4c4c-8605-f39f69fd6d36\",\"type\":\"LinearAxis\"}],\"plot_height\":80,\"plot_width\":80,\"renderers\":[{\"id\":\"16bf320a-050b-40c6-b1cf-79bd34077c9e\",\"type\":\"LinearAxis\"},{\"id\":\"f626dea9-4594-4dfe-b64c-6ec4595ea37a\",\"type\":\"Grid\"},{\"id\":\"e88ef249-7633-4c4c-8605-f39f69fd6d36\",\"type\":\"LinearAxis\"},{\"id\":\"2129c17d-26e7-4496-93d8-3293ab361c79\",\"type\":\"Grid\"},{\"id\":\"6c657b73-d673-43cd-af23-08d5d5bf6d9e\",\"type\":\"GlyphRenderer\"}],\"title\":{\"id\":\"fd821009-3bd4-4800-8931-24212280a235\",\"type\":\"Title\"},\"tool_events\":{\"id\":\"2a611c9d-b812-453b-8c8d-73981113ded2\",\"type\":\"ToolEvents\"},\"toolbar\":{\"id\":\"54cd61f1-bedc-4883-b471-ca42afc3699f\",\"type\":\"Toolbar\"},\"toolbar_location\":null,\"x_range\":{\"id\":\"4ad9c7f1-c750-483b-929d-5e5e580fea26\",\"type\":\"Range1d\"},\"y_range\":{\"id\":\"27fd79bf-3c4a-4cea-a556-5899e2ed0cb0\",\"type\":\"Range1d\"}},\"id\":\"63e051bf-a362-4b2d-a445-70c633381f97\",\"subtype\":\"Figure\",\"type\":\"Plot\"},{\"attributes\":{},\"id\":\"913161e3-7410-4bda-9b12-f21e4e75a160\",\"type\":\"BasicTickFormatter\"},{\"attributes\":{\"plot\":null,\"text\":\"P: 1, A: 8\"},\"id\":\"fd821009-3bd4-4800-8931-24212280a235\",\"type\":\"Title\"},{\"attributes\":{\"active_drag\":\"auto\",\"active_scroll\":\"auto\",\"active_tap\":\"auto\"},\"id\":\"caaa2e39-d944-4455-9c88-5fc753557a31\",\"type\":\"Toolbar\"},{\"attributes\":{},\"id\":\"c96ad07a-3495-4839-8cbe-967411b6aa93\",\"type\":\"BasicTicker\"},{\"attributes\":{\"callback\":null,\"end\":8},\"id\":\"4ad9c7f1-c750-483b-929d-5e5e580fea26\",\"type\":\"Range1d\"},{\"attributes\":{\"plot\":{\"id\":\"f145189a-f86c-4d5c-ba87-b157b8504131\",\"subtype\":\"Figure\",\"type\":\"Plot\"},\"ticker\":{\"id\":\"c96ad07a-3495-4839-8cbe-967411b6aa93\",\"type\":\"BasicTicker\"}},\"id\":\"5f8bde22-f6e1-424e-b2a5-fdffdf16df77\",\"type\":\"Grid\"},{\"attributes\":{},\"id\":\"2a611c9d-b812-453b-8c8d-73981113ded2\",\"type\":\"ToolEvents\"},{\"attributes\":{\"active_drag\":\"auto\",\"active_scroll\":\"auto\",\"active_tap\":\"auto\"},\"id\":\"54cd61f1-bedc-4883-b471-ca42afc3699f\",\"type\":\"Toolbar\"},{\"attributes\":{\"callback\":null,\"column_names\":[\"image\"],\"data\":{\"image\":[{\"__ndarray__\":\"////////////////39/f/x8fH/9PT0////////////////////////////+/v7//Hx8f/w8PD/+/v7///////////////////////5+fn/8AAAD/Pz8//+/v7////////////+/v7/9/f3//Dw8P/wAAAP//////////////////////f39//w8PD//v7+//T09P/7+/v//////////////////Pz8//Dw8P/x8fH/9fX1//f39////////////////////////f39//v7+//19fX/8/Pz/////////////////////////////f39//Dw8P/6+vr////////////w==\",\"dtype\":\"uint32\",\"shape\":[8,8]}]}},\"id\":\"4a65ac31-06c3-4cc1-8fee-bc761d811aba\",\"type\":\"ColumnDataSource\"},{\"attributes\":{\"dh\":{\"units\":\"data\",\"value\":8},\"dw\":{\"units\":\"data\",\"value\":8},\"image\":{\"field\":\"image\"},\"x\":{\"value\":0},\"y\":{\"value\":0}},\"id\":\"03b9e1cf-a019-4a88-994f-c1f44834aafb\",\"type\":\"ImageRGBA\"},{\"attributes\":{\"children\":[{\"id\":\"324bb79e-030f-4c8f-8dcb-1b7bf4f30dec\",\"type\":\"Row\"}]},\"id\":\"f9e0b701-26d6-45c4-8925-6899aa9e0665\",\"type\":\"Column\"},{\"attributes\":{\"formatter\":{\"id\":\"9fcd84c9-37bd-456f-a54c-04c96b2f9561\",\"type\":\"BasicTickFormatter\"},\"plot\":{\"id\":\"63e051bf-a362-4b2d-a445-70c633381f97\",\"subtype\":\"Figure\",\"type\":\"Plot\"},\"ticker\":{\"id\":\"28a1f010-83ed-4acc-9969-fdee3c0638aa\",\"type\":\"BasicTicker\"},\"visible\":false},\"id\":\"16bf320a-050b-40c6-b1cf-79bd34077c9e\",\"type\":\"LinearAxis\"},{\"attributes\":{\"children\":[{\"id\":\"df41a7aa-1a9c-42bb-b654-edf5599afbe6\",\"subtype\":\"Figure\",\"type\":\"Plot\"},{\"id\":\"63e051bf-a362-4b2d-a445-70c633381f97\",\"subtype\":\"Figure\",\"type\":\"Plot\"},{\"id\":\"f145189a-f86c-4d5c-ba87-b157b8504131\",\"subtype\":\"Figure\",\"type\":\"Plot\"}]},\"id\":\"324bb79e-030f-4c8f-8dcb-1b7bf4f30dec\",\"type\":\"Row\"},{\"attributes\":{\"callback\":null,\"end\":8},\"id\":\"27fd79bf-3c4a-4cea-a556-5899e2ed0cb0\",\"type\":\"Range1d\"},{\"attributes\":{},\"id\":\"28a1f010-83ed-4acc-9969-fdee3c0638aa\",\"type\":\"BasicTicker\"},{\"attributes\":{\"formatter\":{\"id\":\"c2e67403-a653-4daa-b238-b65b21c4849e\",\"type\":\"BasicTickFormatter\"},\"plot\":{\"id\":\"df41a7aa-1a9c-42bb-b654-edf5599afbe6\",\"subtype\":\"Figure\",\"type\":\"Plot\"},\"ticker\":{\"id\":\"d149636d-96af-4c82-b4ed-03679fa97bb0\",\"type\":\"BasicTicker\"},\"visible\":false},\"id\":\"251fe496-67a2-4509-8670-e644365618f9\",\"type\":\"LinearAxis\"},{\"attributes\":{\"plot\":{\"id\":\"63e051bf-a362-4b2d-a445-70c633381f97\",\"subtype\":\"Figure\",\"type\":\"Plot\"},\"ticker\":{\"id\":\"28a1f010-83ed-4acc-9969-fdee3c0638aa\",\"type\":\"BasicTicker\"}},\"id\":\"f626dea9-4594-4dfe-b64c-6ec4595ea37a\",\"type\":\"Grid\"},{\"attributes\":{\"plot\":null,\"text\":\"P: 1, A: 8\"},\"id\":\"492f007c-41c0-4cd5-ad76-2192a531295b\",\"type\":\"Title\"},{\"attributes\":{\"formatter\":{\"id\":\"3e92256e-847d-4522-bc28-a49240601ba4\",\"type\":\"BasicTickFormatter\"},\"plot\":{\"id\":\"63e051bf-a362-4b2d-a445-70c633381f97\",\"subtype\":\"Figure\",\"type\":\"Plot\"},\"ticker\":{\"id\":\"cbc328c6-d261-444f-b014-c5a9772625e8\",\"type\":\"BasicTicker\"},\"visible\":false},\"id\":\"e88ef249-7633-4c4c-8605-f39f69fd6d36\",\"type\":\"LinearAxis\"},{\"attributes\":{\"callback\":null,\"end\":8},\"id\":\"c4ff10fa-9627-4fc9-9816-5fb46d2e5779\",\"type\":\"Range1d\"},{\"attributes\":{},\"id\":\"cbc328c6-d261-444f-b014-c5a9772625e8\",\"type\":\"BasicTicker\"},{\"attributes\":{\"dimension\":1,\"plot\":{\"id\":\"63e051bf-a362-4b2d-a445-70c633381f97\",\"subtype\":\"Figure\",\"type\":\"Plot\"},\"ticker\":{\"id\":\"cbc328c6-d261-444f-b014-c5a9772625e8\",\"type\":\"BasicTicker\"}},\"id\":\"2129c17d-26e7-4496-93d8-3293ab361c79\",\"type\":\"Grid\"},{\"attributes\":{\"callback\":null,\"column_names\":[\"image\"],\"data\":{\"image\":[{\"__ndarray__\":\"///////////Pz8//Pz8//y8vL/9vb2///////////////////////5+fn/8AAAD/b29v/6+vr///////////////////////7+/v/z8/P/9/f3//////////////////////////////////7+/v/y8vL/+fn5//////////////////////////////////z8/P/wAAAP+fn5//////////////////////////////////T09P/x8fH/////////////////9vb2//j4+P/7+/v/8fHx//Pz8//////////////////7+/v/8/Pz//AAAA/wAAAP+/v7///////w==\",\"dtype\":\"uint32\",\"shape\":[8,8]}]}},\"id\":\"f6fa89a9-687d-4452-a615-ef933b795b1f\",\"type\":\"ColumnDataSource\"},{\"attributes\":{},\"id\":\"3d5776ac-1aa3-47b7-9135-e0d817993119\",\"type\":\"ToolEvents\"},{\"attributes\":{\"dh\":{\"units\":\"data\",\"value\":8},\"dw\":{\"units\":\"data\",\"value\":8},\"image\":{\"field\":\"image\"},\"x\":{\"value\":0},\"y\":{\"value\":0}},\"id\":\"05e9923c-e0cb-43a6-9087-6df4d4a1fa13\",\"type\":\"ImageRGBA\"},{\"attributes\":{\"below\":[{\"id\":\"251fe496-67a2-4509-8670-e644365618f9\",\"type\":\"LinearAxis\"}],\"left\":[{\"id\":\"9abed9fa-15e0-4034-ad42-c4b9905cbd4d\",\"type\":\"LinearAxis\"}],\"plot_height\":80,\"plot_width\":80,\"renderers\":[{\"id\":\"251fe496-67a2-4509-8670-e644365618f9\",\"type\":\"LinearAxis\"},{\"id\":\"b636ad94-aa67-417b-aa15-ff4a3d8a84a3\",\"type\":\"Grid\"},{\"id\":\"9abed9fa-15e0-4034-ad42-c4b9905cbd4d\",\"type\":\"LinearAxis\"},{\"id\":\"bbeb8f84-7593-4d11-a8e6-a592817d572c\",\"type\":\"Grid\"},{\"id\":\"9ac964d3-8fea-438c-80ca-dbe5678ee5ca\",\"type\":\"GlyphRenderer\"}],\"title\":{\"id\":\"492f007c-41c0-4cd5-ad76-2192a531295b\",\"type\":\"Title\"},\"tool_events\":{\"id\":\"3d5776ac-1aa3-47b7-9135-e0d817993119\",\"type\":\"ToolEvents\"},\"toolbar\":{\"id\":\"caaa2e39-d944-4455-9c88-5fc753557a31\",\"type\":\"Toolbar\"},\"toolbar_location\":null,\"x_range\":{\"id\":\"c4ff10fa-9627-4fc9-9816-5fb46d2e5779\",\"type\":\"Range1d\"},\"y_range\":{\"id\":\"5607b2bc-6b9a-4a2c-8171-dfbabb059034\",\"type\":\"Range1d\"}},\"id\":\"df41a7aa-1a9c-42bb-b654-edf5599afbe6\",\"subtype\":\"Figure\",\"type\":\"Plot\"},{\"attributes\":{\"data_source\":{\"id\":\"e1436fe7-4eea-4150-a1de-da62bcbe0b8d\",\"type\":\"ColumnDataSource\"},\"glyph\":{\"id\":\"03b9e1cf-a019-4a88-994f-c1f44834aafb\",\"type\":\"ImageRGBA\"},\"hover_glyph\":null,\"muted_glyph\":null,\"nonselection_glyph\":{\"id\":\"05e9923c-e0cb-43a6-9087-6df4d4a1fa13\",\"type\":\"ImageRGBA\"},\"selection_glyph\":null},\"id\":\"6c657b73-d673-43cd-af23-08d5d5bf6d9e\",\"type\":\"GlyphRenderer\"},{\"attributes\":{},\"id\":\"9fcd84c9-37bd-456f-a54c-04c96b2f9561\",\"type\":\"BasicTickFormatter\"},{\"attributes\":{\"plot\":null,\"text\":\"P: 3, A: 2\"},\"id\":\"4a1152ad-ac3d-4b6c-9bfa-7eae3f78cef0\",\"type\":\"Title\"},{\"attributes\":{},\"id\":\"3e92256e-847d-4522-bc28-a49240601ba4\",\"type\":\"BasicTickFormatter\"},{\"attributes\":{\"callback\":null,\"end\":8},\"id\":\"2097be0c-16c5-4cee-b252-510846f064d5\",\"type\":\"Range1d\"},{\"attributes\":{\"active_drag\":\"auto\",\"active_scroll\":\"auto\",\"active_tap\":\"auto\"},\"id\":\"888e570b-48db-4bcd-9262-a2df241debbe\",\"type\":\"Toolbar\"},{\"attributes\":{},\"id\":\"54a81d92-7824-47ef-a0d1-7daab735337d\",\"type\":\"ToolEvents\"},{\"attributes\":{\"dh\":{\"units\":\"data\",\"value\":8},\"dw\":{\"units\":\"data\",\"value\":8},\"image\":{\"field\":\"image\"},\"x\":{\"value\":0},\"y\":{\"value\":0}},\"id\":\"8058aeea-ec69-4bff-978b-79ef20b23ed0\",\"type\":\"ImageRGBA\"},{\"attributes\":{\"formatter\":{\"id\":\"f21e991f-a006-4d06-80c4-77283249f203\",\"type\":\"BasicTickFormatter\"},\"plot\":{\"id\":\"f145189a-f86c-4d5c-ba87-b157b8504131\",\"subtype\":\"Figure\",\"type\":\"Plot\"},\"ticker\":{\"id\":\"c96ad07a-3495-4839-8cbe-967411b6aa93\",\"type\":\"BasicTicker\"},\"visible\":false},\"id\":\"bdcb3a38-ce9c-43bf-8380-b4d6242ad2a2\",\"type\":\"LinearAxis\"},{\"attributes\":{\"callback\":null,\"end\":8},\"id\":\"3f598695-fc9b-4015-b226-138a857ccfdd\",\"type\":\"Range1d\"},{\"attributes\":{\"callback\":null,\"end\":8},\"id\":\"5607b2bc-6b9a-4a2c-8171-dfbabb059034\",\"type\":\"Range1d\"},{\"attributes\":{\"formatter\":{\"id\":\"ac896185-a177-48ac-9893-9740bdab418c\",\"type\":\"BasicTickFormatter\"},\"plot\":{\"id\":\"f145189a-f86c-4d5c-ba87-b157b8504131\",\"subtype\":\"Figure\",\"type\":\"Plot\"},\"ticker\":{\"id\":\"0ca3c367-741a-4e5e-bea3-d3a370230775\",\"type\":\"BasicTicker\"},\"visible\":false},\"id\":\"d9ee8bc4-4ad4-4d8d-aeb4-a6405920a347\",\"type\":\"LinearAxis\"},{\"attributes\":{},\"id\":\"0ca3c367-741a-4e5e-bea3-d3a370230775\",\"type\":\"BasicTicker\"},{\"attributes\":{\"dimension\":1,\"plot\":{\"id\":\"f145189a-f86c-4d5c-ba87-b157b8504131\",\"subtype\":\"Figure\",\"type\":\"Plot\"},\"ticker\":{\"id\":\"0ca3c367-741a-4e5e-bea3-d3a370230775\",\"type\":\"BasicTicker\"}},\"id\":\"3a8d9361-334a-4213-b201-95f0221e1a38\",\"type\":\"Grid\"},{\"attributes\":{\"sizing_mode\":\"scale_width\",\"toolbar_location\":\"above\"},\"id\":\"ed008a2c-b879-448e-bfe2-ae4a019590ca\",\"type\":\"ToolbarBox\"},{\"attributes\":{\"dh\":{\"units\":\"data\",\"value\":8},\"dw\":{\"units\":\"data\",\"value\":8},\"image\":{\"field\":\"image\"},\"x\":{\"value\":0},\"y\":{\"value\":0}},\"id\":\"a3e4e6db-e084-486d-8728-f22199c854d1\",\"type\":\"ImageRGBA\"},{\"attributes\":{\"data_source\":{\"id\":\"f6fa89a9-687d-4452-a615-ef933b795b1f\",\"type\":\"ColumnDataSource\"},\"glyph\":{\"id\":\"8058aeea-ec69-4bff-978b-79ef20b23ed0\",\"type\":\"ImageRGBA\"},\"hover_glyph\":null,\"muted_glyph\":null,\"nonselection_glyph\":{\"id\":\"a3e4e6db-e084-486d-8728-f22199c854d1\",\"type\":\"ImageRGBA\"},\"selection_glyph\":null},\"id\":\"dc483c81-6141-4380-9166-47009a73e868\",\"type\":\"GlyphRenderer\"},{\"attributes\":{},\"id\":\"f21e991f-a006-4d06-80c4-77283249f203\",\"type\":\"BasicTickFormatter\"},{\"attributes\":{},\"id\":\"ac896185-a177-48ac-9893-9740bdab418c\",\"type\":\"BasicTickFormatter\"},{\"attributes\":{\"children\":[{\"id\":\"ed008a2c-b879-448e-bfe2-ae4a019590ca\",\"type\":\"ToolbarBox\"},{\"id\":\"f9e0b701-26d6-45c4-8925-6899aa9e0665\",\"type\":\"Column\"}]},\"id\":\"c2a2068e-55de-4d46-a4e9-a5466b0a0f02\",\"type\":\"Column\"},{\"attributes\":{\"below\":[{\"id\":\"bdcb3a38-ce9c-43bf-8380-b4d6242ad2a2\",\"type\":\"LinearAxis\"}],\"left\":[{\"id\":\"d9ee8bc4-4ad4-4d8d-aeb4-a6405920a347\",\"type\":\"LinearAxis\"}],\"plot_height\":80,\"plot_width\":80,\"renderers\":[{\"id\":\"bdcb3a38-ce9c-43bf-8380-b4d6242ad2a2\",\"type\":\"LinearAxis\"},{\"id\":\"5f8bde22-f6e1-424e-b2a5-fdffdf16df77\",\"type\":\"Grid\"},{\"id\":\"d9ee8bc4-4ad4-4d8d-aeb4-a6405920a347\",\"type\":\"LinearAxis\"},{\"id\":\"3a8d9361-334a-4213-b201-95f0221e1a38\",\"type\":\"Grid\"},{\"id\":\"dc483c81-6141-4380-9166-47009a73e868\",\"type\":\"GlyphRenderer\"}],\"title\":{\"id\":\"4a1152ad-ac3d-4b6c-9bfa-7eae3f78cef0\",\"type\":\"Title\"},\"tool_events\":{\"id\":\"54a81d92-7824-47ef-a0d1-7daab735337d\",\"type\":\"ToolEvents\"},\"toolbar\":{\"id\":\"888e570b-48db-4bcd-9262-a2df241debbe\",\"type\":\"Toolbar\"},\"toolbar_location\":null,\"x_range\":{\"id\":\"2097be0c-16c5-4cee-b252-510846f064d5\",\"type\":\"Range1d\"},\"y_range\":{\"id\":\"3f598695-fc9b-4015-b226-138a857ccfdd\",\"type\":\"Range1d\"}},\"id\":\"f145189a-f86c-4d5c-ba87-b157b8504131\",\"subtype\":\"Figure\",\"type\":\"Plot\"}],\"root_ids\":[\"c2a2068e-55de-4d46-a4e9-a5466b0a0f02\"]},\"title\":\"Bokeh Application\",\"version\":\"0.12.5rc3\"}};\n",
       "            var render_items = [{\"docid\":\"aefa8fc0-c952-4719-beae-127a78bccd21\",\"elementid\":\"7fca3a7c-8172-481a-90a8-078708b14658\",\"modelid\":\"c2a2068e-55de-4d46-a4e9-a5466b0a0f02\"}];\n",
       "            \n",
       "            Bokeh.embed.embed_items(docs_json, render_items);\n",
       "          };\n",
       "          if (document.readyState != \"loading\") fn();\n",
       "          else document.addEventListener(\"DOMContentLoaded\", fn);\n",
       "        })();\n",
       "      },\n",
       "      function(Bokeh) {\n",
       "      }\n",
       "    ];\n",
       "  \n",
       "    function run_inline_js() {\n",
       "      \n",
       "      if ((window.Bokeh !== undefined) || (force === true)) {\n",
       "        for (var i = 0; i < inline_js.length; i++) {\n",
       "          inline_js[i](window.Bokeh);\n",
       "        }if (force === true) {\n",
       "          display_loaded();\n",
       "        }} else if (Date.now() < window._bokeh_timeout) {\n",
       "        setTimeout(run_inline_js, 100);\n",
       "      } else if (!window._bokeh_failed_load) {\n",
       "        console.log(\"Bokeh: BokehJS failed to load within specified timeout.\");\n",
       "        window._bokeh_failed_load = true;\n",
       "      } else if (force !== true) {\n",
       "        var cell = $(document.getElementById(\"7fca3a7c-8172-481a-90a8-078708b14658\")).parents('.cell').data().cell;\n",
       "        cell.output_area.append_execute_result(NB_LOAD_WARNING)\n",
       "      }\n",
       "  \n",
       "    }\n",
       "  \n",
       "    if (window._bokeh_is_loading === 0) {\n",
       "      console.log(\"Bokeh: BokehJS loaded, going straight to plotting\");\n",
       "      run_inline_js();\n",
       "    } else {\n",
       "      load_libs(js_urls, function() {\n",
       "        console.log(\"Bokeh: BokehJS plotting callback run at\", now());\n",
       "        run_inline_js();\n",
       "      });\n",
       "    }\n",
       "  }(this));\n",
       "</script>"
      ]
     },
     "metadata": {},
     "output_type": "display_data"
    }
   ],
   "source": [
    "plots = []\n",
    "w = 80\n",
    "h = 80\n",
    "\n",
    "for i in incorrect_idx:\n",
    "    image = test_X[i].reshape(8, 8)\n",
    "    img_rgba = rgba_from_4bit(image)\n",
    "    p = bokeh.plotting.figure(width=w, height=h, tools='', \n",
    "                              x_range=(0, 8), y_range=(0, 8),\n",
    "                              title='P: {}, A: {}'.format(pred_y[i], test_y[i]))\n",
    "    p.xaxis.visible = p.yaxis.visible = False\n",
    "    p.image_rgba(image=[img_rgba], x=0, y=0, dw=8, dh=8)\n",
    "    plots.append(p)\n",
    "\n",
    "grid = bokeh.layouts.gridplot([plots])\n",
    "print(\"Incorrect Predictions:\")\n",
    "bokeh.plotting.show(grid)"
   ]
  },
  {
   "cell_type": "markdown",
   "metadata": {},
   "source": [
    "## What if we treat this as unsupervised learning, i.e, cluster the digits without considering the labels?"
   ]
  },
  {
   "cell_type": "code",
   "execution_count": 68,
   "metadata": {
    "collapsed": true
   },
   "outputs": [],
   "source": [
    "import sklearn.cluster\n",
    "import sklearn.metrics"
   ]
  },
  {
   "cell_type": "code",
   "execution_count": 66,
   "metadata": {
    "collapsed": true
   },
   "outputs": [],
   "source": [
    "kmeans = sklearn.cluster.KMeans(n_clusters=10, random_state=123)\n",
    "labels = kmeans.fit_predict(X)"
   ]
  },
  {
   "cell_type": "code",
   "execution_count": 67,
   "metadata": {
    "collapsed": false
   },
   "outputs": [
    {
     "data": {
      "text/plain": [
       "array([7, 4, 4, ..., 4, 3, 3], dtype=int32)"
      ]
     },
     "execution_count": 67,
     "metadata": {},
     "output_type": "execute_result"
    }
   ],
   "source": [
    "labels"
   ]
  },
  {
   "cell_type": "code",
   "execution_count": 74,
   "metadata": {
    "collapsed": false
   },
   "outputs": [
    {
     "name": "stdout",
     "output_type": "stream",
     "text": [
      "Accuracy score: 0.665734419413\n"
     ]
    }
   ],
   "source": [
    "accuracy = sklearn.metrics.adjusted_rand_score(y, labels)\n",
    "print('Accuracy score:', accuracy)"
   ]
  },
  {
   "cell_type": "markdown",
   "metadata": {},
   "source": [
    "Though I would have hoped for better accuracy, this demonstrates the large amount of variation in the data."
   ]
  },
  {
   "cell_type": "code",
   "execution_count": 76,
   "metadata": {
    "collapsed": false
   },
   "outputs": [
    {
     "name": "stdout",
     "output_type": "stream",
     "text": [
      "[[  0   0   0   0   0   0   0 177   1   0]\n",
      " [  2   0  24   0  99  55   1   0   0   1]\n",
      " [  0   3 148   2   8   2  13   1   0   0]\n",
      " [  0   7   1   9   7   0 157   0   0   2]\n",
      " [  0   6   0   0   4   7   0   0 163   1]\n",
      " [  1   0   0  48   0   0   1   0   2 130]\n",
      " [177   0   0   0   2   1   0   1   0   0]\n",
      " [  0 175   0   0   4   0   0   0   0   0]\n",
      " [  2   4   3  50 102   6   2   0   0   5]\n",
      " [  0   7   0 139   2  20   6   0   0   6]]\n"
     ]
    }
   ],
   "source": [
    "confusion_matrix = sklearn.metrics.confusion_matrix(y, labels)\n",
    "print(confusion_matrix)"
   ]
  },
  {
   "cell_type": "markdown",
   "metadata": {},
   "source": [
    "It would be helpful to sort out the labels to better understand which numbers were confused.  The maximum values in the confusion matrix provide the needed information to sort this out."
   ]
  },
  {
   "cell_type": "code",
   "execution_count": 130,
   "metadata": {
    "collapsed": false
   },
   "outputs": [
    {
     "name": "stdout",
     "output_type": "stream",
     "text": [
      "group 7 should be 0\n",
      "group 4 should be 1\n",
      "group 2 should be 2\n",
      "group 6 should be 3\n",
      "group 8 should be 4\n",
      "group 9 should be 5\n",
      "group 0 should be 6\n",
      "group 1 should be 7\n",
      "group 4 should be 8\n",
      "group 3 should be 9\n"
     ]
    }
   ],
   "source": [
    "key = {}\n",
    "for i, r in enumerate(confusion_matrix):\n",
    "    key[r.argmax()] = i\n",
    "    print('group {} should be {}'.format(r.argmax(), i))"
   ]
  },
  {
   "cell_type": "markdown",
   "metadata": {},
   "source": [
    "That almost worked, except 4 maps to both 1 and 8.  We should be able to sort using the columns instead."
   ]
  },
  {
   "cell_type": "code",
   "execution_count": 131,
   "metadata": {
    "collapsed": false
   },
   "outputs": [
    {
     "name": "stdout",
     "output_type": "stream",
     "text": [
      "group 0 should be 6\n",
      "group 1 should be 7\n",
      "group 2 should be 2\n",
      "group 3 should be 9\n",
      "group 4 should be 8\n",
      "group 5 should be 1\n",
      "group 6 should be 3\n",
      "group 7 should be 0\n",
      "group 8 should be 4\n",
      "group 9 should be 5\n"
     ]
    }
   ],
   "source": [
    "key = {}\n",
    "for i in range(10):\n",
    "    key[i] = confusion_matrix[:, i].argmax()\n",
    "    print('group {} should be {}'.format(i, key[i]))"
   ]
  },
  {
   "cell_type": "markdown",
   "metadata": {},
   "source": [
    "This resolved the conflict between 1 and 8, though there is obviously much confusion between those.  Lets view the sorted matrix."
   ]
  },
  {
   "cell_type": "code",
   "execution_count": 114,
   "metadata": {
    "collapsed": false
   },
   "outputs": [
    {
     "data": {
      "text/plain": [
       "{0: 6, 1: 7, 2: 2, 3: 9, 4: 8, 5: 1, 6: 3, 7: 0, 8: 4, 9: 5}"
      ]
     },
     "execution_count": 114,
     "metadata": {},
     "output_type": "execute_result"
    }
   ],
   "source": [
    "key"
   ]
  },
  {
   "cell_type": "code",
   "execution_count": 125,
   "metadata": {
    "collapsed": false
   },
   "outputs": [
    {
     "name": "stdout",
     "output_type": "stream",
     "text": [
      "[[177   0   0   0   1   0   0   0   0   0]\n",
      " [  0  55  24   1   0   1   2   0  99   0]\n",
      " [  1   2 148  13   0   0   0   3   8   2]\n",
      " [  0   0   1 157   0   2   0   7   7   9]\n",
      " [  0   7   0   0 163   1   0   6   4   0]\n",
      " [  0   0   0   1   2 130   1   0   0  48]\n",
      " [  1   1   0   0   0   0 177   0   2   0]\n",
      " [  0   0   0   0   0   0   0 175   4   0]\n",
      " [  0   6   3   2   0   5   2   4 102  50]\n",
      " [  0  20   0   6   0   6   0   7   2 139]]\n"
     ]
    }
   ],
   "source": [
    "sorted_matrix = np.empty_like(confusion_matrix)\n",
    "for i in range(10):\n",
    "    sorted_matrix[:, key[i]] = confusion_matrix[:, i]\n",
    "print(sorted_matrix)"
   ]
  },
  {
   "cell_type": "markdown",
   "metadata": {},
   "source": [
    "Lets check to make sure we did this right."
   ]
  },
  {
   "cell_type": "code",
   "execution_count": 127,
   "metadata": {
    "collapsed": false
   },
   "outputs": [],
   "source": [
    "sorted_labels = np.empty_like(labels)\n",
    "for i, val in enumerate(labels):\n",
    "    sorted_labels[i] = key[val]"
   ]
  },
  {
   "cell_type": "code",
   "execution_count": 132,
   "metadata": {
    "collapsed": false
   },
   "outputs": [
    {
     "name": "stdout",
     "output_type": "stream",
     "text": [
      "[[177   0   0   0   1   0   0   0   0   0]\n",
      " [  0  55  24   1   0   1   2   0  99   0]\n",
      " [  1   2 148  13   0   0   0   3   8   2]\n",
      " [  0   0   1 157   0   2   0   7   7   9]\n",
      " [  0   7   0   0 163   1   0   6   4   0]\n",
      " [  0   0   0   1   2 130   1   0   0  48]\n",
      " [  1   1   0   0   0   0 177   0   2   0]\n",
      " [  0   0   0   0   0   0   0 175   4   0]\n",
      " [  0   6   3   2   0   5   2   4 102  50]\n",
      " [  0  20   0   6   0   6   0   7   2 139]]\n"
     ]
    }
   ],
   "source": [
    "sorted_confusion_matrix = sklearn.metrics.confusion_matrix(y, sorted_labels)\n",
    "print(sorted_confusion_matrix)"
   ]
  },
  {
   "cell_type": "markdown",
   "metadata": {},
   "source": [
    "Looks good.  So the clustering algorithm did the best for 0, 4, 6, and 7 but quite terrible on 1."
   ]
  },
  {
   "cell_type": "code",
   "execution_count": 147,
   "metadata": {
    "collapsed": false
   },
   "outputs": [
    {
     "name": "stdout",
     "output_type": "stream",
     "text": [
      "number of each:   [178 182 177 183 181 182 181 179 174 180]\n",
      "number predicted: [179  91 176 180 166 145 182 202 228 248]\n"
     ]
    }
   ],
   "source": [
    "n_p = np.array([(sorted_labels == i).sum() for i in range(10)])\n",
    "n_a = np.array([(y == i).sum() for i in range(10)])\n",
    "print('number of each:   {}'.format(n_a))\n",
    "print('number predicted: {}'.format(n_p))"
   ]
  },
  {
   "cell_type": "markdown",
   "metadata": {},
   "source": [
    "We can also get this by summing the rows and columns of the confusion matrix."
   ]
  },
  {
   "cell_type": "code",
   "execution_count": 133,
   "metadata": {
    "collapsed": false
   },
   "outputs": [
    {
     "data": {
      "text/plain": [
       "array([178, 182, 177, 183, 181, 182, 181, 179, 174, 180])"
      ]
     },
     "execution_count": 133,
     "metadata": {},
     "output_type": "execute_result"
    }
   ],
   "source": [
    "sorted_confusion_matrix.sum(axis=1)"
   ]
  },
  {
   "cell_type": "markdown",
   "metadata": {},
   "source": [
    "So the columns are how each of the actual numbers were classified,"
   ]
  },
  {
   "cell_type": "code",
   "execution_count": 134,
   "metadata": {
    "collapsed": false
   },
   "outputs": [
    {
     "data": {
      "text/plain": [
       "array([179,  91, 176, 180, 166, 145, 182, 202, 228, 248])"
      ]
     },
     "execution_count": 134,
     "metadata": {},
     "output_type": "execute_result"
    }
   ],
   "source": [
    "sorted_confusion_matrix.sum(axis=0)"
   ]
  },
  {
   "cell_type": "markdown",
   "metadata": {},
   "source": [
    "and the rows are the breakdown of which numbers where grouped by the clustering algorithm."
   ]
  },
  {
   "cell_type": "markdown",
   "metadata": {},
   "source": [
    "Lets show this as a heatmap."
   ]
  },
  {
   "cell_type": "code",
   "execution_count": 169,
   "metadata": {
    "collapsed": false
   },
   "outputs": [
    {
     "data": {
      "text/html": [
       "\n",
       "\n",
       "    <div class=\"bk-root\">\n",
       "        <div class=\"bk-plotdiv\" id=\"6f9f8f4d-5e5d-471c-9322-fba3b86f034b\"></div>\n",
       "    </div>\n",
       "<script type=\"text/javascript\">\n",
       "  \n",
       "  (function(global) {\n",
       "    function now() {\n",
       "      return new Date();\n",
       "    }\n",
       "  \n",
       "    var force = false;\n",
       "  \n",
       "    if (typeof (window._bokeh_onload_callbacks) === \"undefined\" || force === true) {\n",
       "      window._bokeh_onload_callbacks = [];\n",
       "      window._bokeh_is_loading = undefined;\n",
       "    }\n",
       "  \n",
       "  \n",
       "    \n",
       "    if (typeof (window._bokeh_timeout) === \"undefined\" || force === true) {\n",
       "      window._bokeh_timeout = Date.now() + 0;\n",
       "      window._bokeh_failed_load = false;\n",
       "    }\n",
       "  \n",
       "    var NB_LOAD_WARNING = {'data': {'text/html':\n",
       "       \"<div style='background-color: #fdd'>\\n\"+\n",
       "       \"<p>\\n\"+\n",
       "       \"BokehJS does not appear to have successfully loaded. If loading BokehJS from CDN, this \\n\"+\n",
       "       \"may be due to a slow or bad network connection. Possible fixes:\\n\"+\n",
       "       \"</p>\\n\"+\n",
       "       \"<ul>\\n\"+\n",
       "       \"<li>re-rerun `output_notebook()` to attempt to load from CDN again, or</li>\\n\"+\n",
       "       \"<li>use INLINE resources instead, as so:</li>\\n\"+\n",
       "       \"</ul>\\n\"+\n",
       "       \"<code>\\n\"+\n",
       "       \"from bokeh.resources import INLINE\\n\"+\n",
       "       \"output_notebook(resources=INLINE)\\n\"+\n",
       "       \"</code>\\n\"+\n",
       "       \"</div>\"}};\n",
       "  \n",
       "    function display_loaded() {\n",
       "      if (window.Bokeh !== undefined) {\n",
       "        var el = document.getElementById(\"6f9f8f4d-5e5d-471c-9322-fba3b86f034b\");\n",
       "        el.textContent = \"BokehJS \" + Bokeh.version + \" successfully loaded.\";\n",
       "      } else if (Date.now() < window._bokeh_timeout) {\n",
       "        setTimeout(display_loaded, 100)\n",
       "      }\n",
       "    }\n",
       "  \n",
       "    function run_callbacks() {\n",
       "      window._bokeh_onload_callbacks.forEach(function(callback) { callback() });\n",
       "      delete window._bokeh_onload_callbacks\n",
       "      console.info(\"Bokeh: all callbacks have finished\");\n",
       "    }\n",
       "  \n",
       "    function load_libs(js_urls, callback) {\n",
       "      window._bokeh_onload_callbacks.push(callback);\n",
       "      if (window._bokeh_is_loading > 0) {\n",
       "        console.log(\"Bokeh: BokehJS is being loaded, scheduling callback at\", now());\n",
       "        return null;\n",
       "      }\n",
       "      if (js_urls == null || js_urls.length === 0) {\n",
       "        run_callbacks();\n",
       "        return null;\n",
       "      }\n",
       "      console.log(\"Bokeh: BokehJS not loaded, scheduling load and callback at\", now());\n",
       "      window._bokeh_is_loading = js_urls.length;\n",
       "      for (var i = 0; i < js_urls.length; i++) {\n",
       "        var url = js_urls[i];\n",
       "        var s = document.createElement('script');\n",
       "        s.src = url;\n",
       "        s.async = false;\n",
       "        s.onreadystatechange = s.onload = function() {\n",
       "          window._bokeh_is_loading--;\n",
       "          if (window._bokeh_is_loading === 0) {\n",
       "            console.log(\"Bokeh: all BokehJS libraries loaded\");\n",
       "            run_callbacks()\n",
       "          }\n",
       "        };\n",
       "        s.onerror = function() {\n",
       "          console.warn(\"failed to load library \" + url);\n",
       "        };\n",
       "        console.log(\"Bokeh: injecting script tag for BokehJS library: \", url);\n",
       "        document.getElementsByTagName(\"head\")[0].appendChild(s);\n",
       "      }\n",
       "    };var element = document.getElementById(\"6f9f8f4d-5e5d-471c-9322-fba3b86f034b\");\n",
       "    if (element == null) {\n",
       "      console.log(\"Bokeh: ERROR: autoload.js configured with elementid '6f9f8f4d-5e5d-471c-9322-fba3b86f034b' but no matching script tag was found. \")\n",
       "      return false;\n",
       "    }\n",
       "  \n",
       "    var js_urls = [];\n",
       "  \n",
       "    var inline_js = [\n",
       "      function(Bokeh) {\n",
       "        (function() {\n",
       "          var fn = function() {\n",
       "            var docs_json = {\"3557a078-dde4-4ffd-9916-d5921bab8355\":{\"roots\":{\"references\":[{\"attributes\":{\"children\":[{\"id\":\"6cf95a24-3f57-419f-82bf-809a148110d5\",\"type\":\"ToolbarBox\"},{\"id\":\"5620ca3a-c35f-48e9-8b5d-6117a8df8396\",\"type\":\"Column\"}]},\"id\":\"d35f1dab-e8da-4582-b3a0-af07a9c38967\",\"type\":\"Column\"},{\"attributes\":{\"children\":[{\"id\":\"df873d53-02c5-4f99-b781-0e79603ce3c8\",\"subtype\":\"Figure\",\"type\":\"Plot\"},{\"id\":\"8b09da1f-465c-425c-a835-70580c94de88\",\"subtype\":\"Figure\",\"type\":\"Plot\"}]},\"id\":\"5ea7d8e7-5196-4e29-b66c-64205e69f571\",\"type\":\"Row\"},{\"attributes\":{\"below\":[{\"id\":\"7a7f7aee-1d17-40d3-8338-eccbb1684876\",\"type\":\"LinearAxis\"}],\"left\":[{\"id\":\"9e803158-1536-4606-aa2d-121f50d81336\",\"type\":\"LinearAxis\"}],\"plot_height\":200,\"plot_width\":200,\"renderers\":[{\"id\":\"7a7f7aee-1d17-40d3-8338-eccbb1684876\",\"type\":\"LinearAxis\"},{\"id\":\"31312ee7-6760-4020-aa26-ad17eb73de00\",\"type\":\"Grid\"},{\"id\":\"9e803158-1536-4606-aa2d-121f50d81336\",\"type\":\"LinearAxis\"},{\"id\":\"a16ca2cc-9fe8-48e8-8577-1060b9b1e4a1\",\"type\":\"Grid\"},{\"id\":\"e9d545aa-f26d-4feb-b4f4-61ae70507157\",\"type\":\"GlyphRenderer\"}],\"title\":{\"id\":\"547a8717-a840-42ac-b530-977f4f0d04e5\",\"type\":\"Title\"},\"tool_events\":{\"id\":\"aff754d4-835f-446d-8e4f-b29652922a39\",\"type\":\"ToolEvents\"},\"toolbar\":{\"id\":\"adb237c9-1181-4a6f-b463-2d4a80f4dd77\",\"type\":\"Toolbar\"},\"toolbar_location\":null,\"x_range\":{\"id\":\"a5b6925c-c9e6-4b48-a979-611409f89ff2\",\"type\":\"Range1d\"},\"y_range\":{\"id\":\"31c8439b-b0ca-444c-9f7c-1d31bfd41dbc\",\"type\":\"Range1d\"}},\"id\":\"8b09da1f-465c-425c-a835-70580c94de88\",\"subtype\":\"Figure\",\"type\":\"Plot\"},{\"attributes\":{\"below\":[{\"id\":\"31dd125c-e8e5-4e8f-aab1-7b5a7f7e29f6\",\"type\":\"LinearAxis\"}],\"left\":[{\"id\":\"fe321b16-7e61-4f15-9333-a44b339d857f\",\"type\":\"LinearAxis\"}],\"plot_height\":200,\"plot_width\":200,\"renderers\":[{\"id\":\"31dd125c-e8e5-4e8f-aab1-7b5a7f7e29f6\",\"type\":\"LinearAxis\"},{\"id\":\"f0128412-17ab-48aa-9b2c-ba6f8a19255d\",\"type\":\"Grid\"},{\"id\":\"fe321b16-7e61-4f15-9333-a44b339d857f\",\"type\":\"LinearAxis\"},{\"id\":\"685250b1-7e1d-4236-a3dd-6231e25be93c\",\"type\":\"Grid\"},{\"id\":\"4d062923-637e-46a9-b6a1-63d34954768b\",\"type\":\"GlyphRenderer\"}],\"title\":{\"id\":\"03531f4a-7d0f-4236-a6ca-039c6862e020\",\"type\":\"Title\"},\"tool_events\":{\"id\":\"333992ed-0c65-4094-a5b6-af51aebcaa9d\",\"type\":\"ToolEvents\"},\"toolbar\":{\"id\":\"e2315e66-8399-43ca-a940-bad0259600d6\",\"type\":\"Toolbar\"},\"toolbar_location\":null,\"x_range\":{\"id\":\"0858262c-becb-45ce-9b88-ae1f3026f27e\",\"type\":\"Range1d\"},\"y_range\":{\"id\":\"6e09c0d3-5f6b-464a-8bf7-d0f2d645696b\",\"type\":\"Range1d\"}},\"id\":\"df873d53-02c5-4f99-b781-0e79603ce3c8\",\"subtype\":\"Figure\",\"type\":\"Plot\"},{\"attributes\":{\"plot\":{\"id\":\"df873d53-02c5-4f99-b781-0e79603ce3c8\",\"subtype\":\"Figure\",\"type\":\"Plot\"},\"ticker\":{\"id\":\"03506939-7246-4245-8dd3-f88009ebc599\",\"type\":\"BasicTicker\"}},\"id\":\"f0128412-17ab-48aa-9b2c-ba6f8a19255d\",\"type\":\"Grid\"},{\"attributes\":{\"formatter\":{\"id\":\"7226c356-ddf5-4886-b02c-df332c4da081\",\"type\":\"BasicTickFormatter\"},\"plot\":{\"id\":\"df873d53-02c5-4f99-b781-0e79603ce3c8\",\"subtype\":\"Figure\",\"type\":\"Plot\"},\"ticker\":{\"id\":\"03506939-7246-4245-8dd3-f88009ebc599\",\"type\":\"BasicTicker\"},\"visible\":false},\"id\":\"31dd125c-e8e5-4e8f-aab1-7b5a7f7e29f6\",\"type\":\"LinearAxis\"},{\"attributes\":{},\"id\":\"03506939-7246-4245-8dd3-f88009ebc599\",\"type\":\"BasicTicker\"},{\"attributes\":{\"active_drag\":\"auto\",\"active_scroll\":\"auto\",\"active_tap\":\"auto\"},\"id\":\"e2315e66-8399-43ca-a940-bad0259600d6\",\"type\":\"Toolbar\"},{\"attributes\":{},\"id\":\"333992ed-0c65-4094-a5b6-af51aebcaa9d\",\"type\":\"ToolEvents\"},{\"attributes\":{\"plot\":null,\"text\":\"Confusion Matrix\"},\"id\":\"03531f4a-7d0f-4236-a6ca-039c6862e020\",\"type\":\"Title\"},{\"attributes\":{\"callback\":null,\"end\":10},\"id\":\"6e09c0d3-5f6b-464a-8bf7-d0f2d645696b\",\"type\":\"Range1d\"},{\"attributes\":{},\"id\":\"aff754d4-835f-446d-8e4f-b29652922a39\",\"type\":\"ToolEvents\"},{\"attributes\":{\"plot\":null,\"text\":\"\"},\"id\":\"547a8717-a840-42ac-b530-977f4f0d04e5\",\"type\":\"Title\"},{\"attributes\":{\"callback\":null,\"end\":10},\"id\":\"0858262c-becb-45ce-9b88-ae1f3026f27e\",\"type\":\"Range1d\"},{\"attributes\":{\"callback\":null,\"column_names\":[\"image\"],\"data\":{\"image\":[{\"__ndarray__\":\"/////+Li4v//////9vb2///////29vb///////T09P/8/Pz/NjY2///////29vb/+vr6//z8/P//////9/f3//z8/P/5+fn/bGxs/7a2tv//////////////////////////////////////AgIC//n5+f///////f39//39/f//////////////////////AAAA///////8/Pz///////////////////////39/f/8/Pz/Q0ND//39/f///////////7m5uf//////9PT0////////////FBQU//39/f//////9vb2//n5+f/////////////////9/f3/HBwc///////8/Pz///////T09P/09PT/8vLy//39/f/8/Pz/KSkp/+zs7P/////////////////6+vr/8/Pz//z8/P//////r6+v/9zc3P/9/f3///////39/f/8/Pz//////3BwcP//////AAAA//////////////////39/f///////////////////////////w==\",\"dtype\":\"uint32\",\"shape\":[10,10]}]}},\"id\":\"102cf7fc-4bd8-403a-99e1-5b1c4a8c2884\",\"type\":\"ColumnDataSource\"},{\"attributes\":{\"formatter\":{\"id\":\"4e514b90-8ccd-498f-9d52-4fc68d6489a1\",\"type\":\"BasicTickFormatter\"},\"plot\":{\"id\":\"df873d53-02c5-4f99-b781-0e79603ce3c8\",\"subtype\":\"Figure\",\"type\":\"Plot\"},\"ticker\":{\"id\":\"2eef0a63-23b8-4633-99fc-04db7c33e878\",\"type\":\"BasicTicker\"},\"visible\":false},\"id\":\"fe321b16-7e61-4f15-9333-a44b339d857f\",\"type\":\"LinearAxis\"},{\"attributes\":{\"callback\":null,\"column_names\":[\"image\"],\"data\":{\"image\":[{\"__ndarray__\":\"AAAA/xwcHP8AAAD/CAgI/wAAAP8ICAj/AAAA/woKCv8CAgL/yMjI/wAAAP8ICAj/BAQE/wICAv8AAAD/BwcH/wICAv8FBQX/kpKS/0hISP8AAAD/AAAA/wAAAP8AAAD/AAAA/wAAAP8AAAD//Pz8/wUFBf8AAAD/AQEB/wEBAf8AAAD/AAAA/wAAAP8AAAD//////wAAAP8CAgL/AAAA/wAAAP8AAAD/AAAA/wEBAf8CAgL/u7u7/wEBAf8AAAD/AAAA/0VFRf8AAAD/CgoK/wAAAP8AAAD/6urq/wEBAf8AAAD/CAgI/wUFBf8AAAD/AAAA/wAAAP8BAQH/4uLi/wAAAP8CAgL/AAAA/woKCv8KCgr/DAwM/wEBAf8CAgL/1dXV/xISEv8AAAD/AAAA/wAAAP8EBAT/CwsL/wICAv8AAAD/T09P/yIiIv8BAQH/AAAA/wEBAf8CAgL/AAAA/46Ojv8AAAD//////wAAAP8AAAD/AAAA/wEBAf8AAAD/AAAA/wAAAP8AAAD/AAAA/w==\",\"dtype\":\"uint32\",\"shape\":[10,10]}]}},\"id\":\"26775724-a9a9-4098-8427-58804dcd313a\",\"type\":\"ColumnDataSource\"},{\"attributes\":{\"dimension\":1,\"plot\":{\"id\":\"df873d53-02c5-4f99-b781-0e79603ce3c8\",\"subtype\":\"Figure\",\"type\":\"Plot\"},\"ticker\":{\"id\":\"2eef0a63-23b8-4633-99fc-04db7c33e878\",\"type\":\"BasicTicker\"}},\"id\":\"685250b1-7e1d-4236-a3dd-6231e25be93c\",\"type\":\"Grid\"},{\"attributes\":{},\"id\":\"2eef0a63-23b8-4633-99fc-04db7c33e878\",\"type\":\"BasicTicker\"},{\"attributes\":{},\"id\":\"73ea764c-7548-4e01-bd3c-0dda2dc44f8e\",\"type\":\"BasicTicker\"},{\"attributes\":{\"active_drag\":\"auto\",\"active_scroll\":\"auto\",\"active_tap\":\"auto\"},\"id\":\"adb237c9-1181-4a6f-b463-2d4a80f4dd77\",\"type\":\"Toolbar\"},{\"attributes\":{\"callback\":null,\"end\":10},\"id\":\"a5b6925c-c9e6-4b48-a979-611409f89ff2\",\"type\":\"Range1d\"},{\"attributes\":{\"formatter\":{\"id\":\"825c7de5-ff8c-4cd1-9dd2-d7eca9698262\",\"type\":\"BasicTickFormatter\"},\"plot\":{\"id\":\"8b09da1f-465c-425c-a835-70580c94de88\",\"subtype\":\"Figure\",\"type\":\"Plot\"},\"ticker\":{\"id\":\"683efa38-0119-424f-80c8-6646e2e97f11\",\"type\":\"BasicTicker\"},\"visible\":false},\"id\":\"7a7f7aee-1d17-40d3-8338-eccbb1684876\",\"type\":\"LinearAxis\"},{\"attributes\":{\"callback\":null,\"end\":10},\"id\":\"31c8439b-b0ca-444c-9f7c-1d31bfd41dbc\",\"type\":\"Range1d\"},{\"attributes\":{\"formatter\":{\"id\":\"86de0f2b-8b1f-4e79-8aae-b0930c0a2065\",\"type\":\"BasicTickFormatter\"},\"plot\":{\"id\":\"8b09da1f-465c-425c-a835-70580c94de88\",\"subtype\":\"Figure\",\"type\":\"Plot\"},\"ticker\":{\"id\":\"73ea764c-7548-4e01-bd3c-0dda2dc44f8e\",\"type\":\"BasicTicker\"},\"visible\":false},\"id\":\"9e803158-1536-4606-aa2d-121f50d81336\",\"type\":\"LinearAxis\"},{\"attributes\":{\"plot\":{\"id\":\"8b09da1f-465c-425c-a835-70580c94de88\",\"subtype\":\"Figure\",\"type\":\"Plot\"},\"ticker\":{\"id\":\"683efa38-0119-424f-80c8-6646e2e97f11\",\"type\":\"BasicTicker\"}},\"id\":\"31312ee7-6760-4020-aa26-ad17eb73de00\",\"type\":\"Grid\"},{\"attributes\":{},\"id\":\"825c7de5-ff8c-4cd1-9dd2-d7eca9698262\",\"type\":\"BasicTickFormatter\"},{\"attributes\":{\"dimension\":1,\"plot\":{\"id\":\"8b09da1f-465c-425c-a835-70580c94de88\",\"subtype\":\"Figure\",\"type\":\"Plot\"},\"ticker\":{\"id\":\"73ea764c-7548-4e01-bd3c-0dda2dc44f8e\",\"type\":\"BasicTicker\"}},\"id\":\"a16ca2cc-9fe8-48e8-8577-1060b9b1e4a1\",\"type\":\"Grid\"},{\"attributes\":{},\"id\":\"683efa38-0119-424f-80c8-6646e2e97f11\",\"type\":\"BasicTicker\"},{\"attributes\":{},\"id\":\"86de0f2b-8b1f-4e79-8aae-b0930c0a2065\",\"type\":\"BasicTickFormatter\"},{\"attributes\":{\"dh\":{\"units\":\"data\",\"value\":10},\"dw\":{\"units\":\"data\",\"value\":10},\"image\":{\"field\":\"image\"},\"x\":{\"value\":0},\"y\":{\"value\":0}},\"id\":\"836f1012-9f70-43c6-b993-fa54c5315fbf\",\"type\":\"ImageRGBA\"},{\"attributes\":{\"dh\":{\"units\":\"data\",\"value\":10},\"dw\":{\"units\":\"data\",\"value\":10},\"image\":{\"field\":\"image\"},\"x\":{\"value\":0},\"y\":{\"value\":0}},\"id\":\"4e73e175-4a5a-4132-8d2c-ada963cf78be\",\"type\":\"ImageRGBA\"},{\"attributes\":{},\"id\":\"4e514b90-8ccd-498f-9d52-4fc68d6489a1\",\"type\":\"BasicTickFormatter\"},{\"attributes\":{\"data_source\":{\"id\":\"26775724-a9a9-4098-8427-58804dcd313a\",\"type\":\"ColumnDataSource\"},\"glyph\":{\"id\":\"da928581-554e-4d48-8e94-1b237ae90cac\",\"type\":\"ImageRGBA\"},\"hover_glyph\":null,\"muted_glyph\":null,\"nonselection_glyph\":{\"id\":\"836f1012-9f70-43c6-b993-fa54c5315fbf\",\"type\":\"ImageRGBA\"},\"selection_glyph\":null},\"id\":\"e9d545aa-f26d-4feb-b4f4-61ae70507157\",\"type\":\"GlyphRenderer\"},{\"attributes\":{\"dh\":{\"units\":\"data\",\"value\":10},\"dw\":{\"units\":\"data\",\"value\":10},\"image\":{\"field\":\"image\"},\"x\":{\"value\":0},\"y\":{\"value\":0}},\"id\":\"da928581-554e-4d48-8e94-1b237ae90cac\",\"type\":\"ImageRGBA\"},{\"attributes\":{\"sizing_mode\":\"scale_width\",\"toolbar_location\":\"above\"},\"id\":\"6cf95a24-3f57-419f-82bf-809a148110d5\",\"type\":\"ToolbarBox\"},{\"attributes\":{\"children\":[{\"id\":\"5ea7d8e7-5196-4e29-b66c-64205e69f571\",\"type\":\"Row\"}]},\"id\":\"5620ca3a-c35f-48e9-8b5d-6117a8df8396\",\"type\":\"Column\"},{\"attributes\":{},\"id\":\"7226c356-ddf5-4886-b02c-df332c4da081\",\"type\":\"BasicTickFormatter\"},{\"attributes\":{\"data_source\":{\"id\":\"102cf7fc-4bd8-403a-99e1-5b1c4a8c2884\",\"type\":\"ColumnDataSource\"},\"glyph\":{\"id\":\"4e73e175-4a5a-4132-8d2c-ada963cf78be\",\"type\":\"ImageRGBA\"},\"hover_glyph\":null,\"muted_glyph\":null,\"nonselection_glyph\":{\"id\":\"08d8f94f-2834-4b0d-9e69-4eeddbc0b8f7\",\"type\":\"ImageRGBA\"},\"selection_glyph\":null},\"id\":\"4d062923-637e-46a9-b6a1-63d34954768b\",\"type\":\"GlyphRenderer\"},{\"attributes\":{\"dh\":{\"units\":\"data\",\"value\":10},\"dw\":{\"units\":\"data\",\"value\":10},\"image\":{\"field\":\"image\"},\"x\":{\"value\":0},\"y\":{\"value\":0}},\"id\":\"08d8f94f-2834-4b0d-9e69-4eeddbc0b8f7\",\"type\":\"ImageRGBA\"}],\"root_ids\":[\"d35f1dab-e8da-4582-b3a0-af07a9c38967\"]},\"title\":\"Bokeh Application\",\"version\":\"0.12.5rc3\"}};\n",
       "            var render_items = [{\"docid\":\"3557a078-dde4-4ffd-9916-d5921bab8355\",\"elementid\":\"6f9f8f4d-5e5d-471c-9322-fba3b86f034b\",\"modelid\":\"d35f1dab-e8da-4582-b3a0-af07a9c38967\"}];\n",
       "            \n",
       "            Bokeh.embed.embed_items(docs_json, render_items);\n",
       "          };\n",
       "          if (document.readyState != \"loading\") fn();\n",
       "          else document.addEventListener(\"DOMContentLoaded\", fn);\n",
       "        })();\n",
       "      },\n",
       "      function(Bokeh) {\n",
       "      }\n",
       "    ];\n",
       "  \n",
       "    function run_inline_js() {\n",
       "      \n",
       "      if ((window.Bokeh !== undefined) || (force === true)) {\n",
       "        for (var i = 0; i < inline_js.length; i++) {\n",
       "          inline_js[i](window.Bokeh);\n",
       "        }if (force === true) {\n",
       "          display_loaded();\n",
       "        }} else if (Date.now() < window._bokeh_timeout) {\n",
       "        setTimeout(run_inline_js, 100);\n",
       "      } else if (!window._bokeh_failed_load) {\n",
       "        console.log(\"Bokeh: BokehJS failed to load within specified timeout.\");\n",
       "        window._bokeh_failed_load = true;\n",
       "      } else if (force !== true) {\n",
       "        var cell = $(document.getElementById(\"6f9f8f4d-5e5d-471c-9322-fba3b86f034b\")).parents('.cell').data().cell;\n",
       "        cell.output_area.append_execute_result(NB_LOAD_WARNING)\n",
       "      }\n",
       "  \n",
       "    }\n",
       "  \n",
       "    if (window._bokeh_is_loading === 0) {\n",
       "      console.log(\"Bokeh: BokehJS loaded, going straight to plotting\");\n",
       "      run_inline_js();\n",
       "    } else {\n",
       "      load_libs(js_urls, function() {\n",
       "        console.log(\"Bokeh: BokehJS plotting callback run at\", now());\n",
       "        run_inline_js();\n",
       "      });\n",
       "    }\n",
       "  }(this));\n",
       "</script>"
      ]
     },
     "metadata": {},
     "output_type": "display_data"
    }
   ],
   "source": [
    "p_pos = bokeh.plotting.figure(width=200, height=200, x_range=(0, 10), y_range=(0, 10),\n",
    "                              tools='', title='Confusion Matrix')\n",
    "p_neg = bokeh.plotting.figure(width=200, height=200, x_range=(0, 10), y_range=(0, 10),\n",
    "                              tools='')\n",
    "\n",
    "p_pos.xaxis.visible = p_pos.yaxis.visible = False\n",
    "p_neg.xaxis.visible = p_neg.yaxis.visible = False\n",
    "img_pos = rgba_from_4bit(sorted_confusion_matrix * 16 / sorted_confusion_matrix.max())\n",
    "img_neg = rgba_from_4bit((sorted_confusion_matrix * 16 / sorted_confusion_matrix.max() - 16) * -1)\n",
    "\n",
    "p_pos.image_rgba(image=[img_pos], x=0, y=0, dw=10, dh=10)\n",
    "p_neg.image_rgba(image=[img_neg], x=0, y=0, dw=10, dh=10)\n",
    "\n",
    "plots = bokeh.layouts.gridplot([[p_pos, p_neg]])\n",
    "bokeh.plotting.show(plots)"
   ]
  },
  {
   "cell_type": "code",
   "execution_count": null,
   "metadata": {
    "collapsed": true
   },
   "outputs": [],
   "source": []
  }
 ],
 "metadata": {
  "kernelspec": {
   "display_name": "Python 3",
   "language": "python",
   "name": "python3"
  },
  "language_info": {
   "codemirror_mode": {
    "name": "ipython",
    "version": 3
   },
   "file_extension": ".py",
   "mimetype": "text/x-python",
   "name": "python",
   "nbconvert_exporter": "python",
   "pygments_lexer": "ipython3",
   "version": "3.6.0"
  }
 },
 "nbformat": 4,
 "nbformat_minor": 2
}
