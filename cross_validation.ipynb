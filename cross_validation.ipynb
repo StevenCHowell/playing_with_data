{
 "cells": [
  {
   "cell_type": "code",
   "execution_count": null,
   "metadata": {
    "collapsed": true
   },
   "outputs": [],
   "source": [
    "import numpy as np\n",
    "import pandas as pd"
   ]
  },
  {
   "cell_type": "code",
   "execution_count": null,
   "metadata": {
    "collapsed": false
   },
   "outputs": [],
   "source": [
    "import bokeh.plotting\n",
    "from bokeh.palettes import Category10_10 as palette\n",
    "bokeh.plotting.output_notebook()"
   ]
  },
  {
   "cell_type": "code",
   "execution_count": 3,
   "metadata": {
    "collapsed": false
   },
   "outputs": [],
   "source": [
    "import sklearn.preprocessing\n",
    "import sklearn.model_selection\n",
    "import sklearn.decomposition\n",
    "import sklearn.linear_model\n",
    "import sklearn.pipeline"
   ]
  },
  {
   "cell_type": "markdown",
   "metadata": {},
   "source": [
    "Set a random state for reproducability."
   ]
  },
  {
   "cell_type": "code",
   "execution_count": 4,
   "metadata": {
    "collapsed": true
   },
   "outputs": [],
   "source": [
    "rs = 1"
   ]
  },
  {
   "cell_type": "markdown",
   "metadata": {},
   "source": [
    "Lets import the Wisconsin Breast Cancer dataset"
   ]
  },
  {
   "cell_type": "code",
   "execution_count": 5,
   "metadata": {
    "collapsed": false
   },
   "outputs": [],
   "source": [
    "url = 'https://archive.ics.uci.edu/ml/machine-learning-databases/breast-cancer-wisconsin/wdbc.data'\n",
    "df = pd.read_csv(url, header=None)"
   ]
  },
  {
   "cell_type": "code",
   "execution_count": 6,
   "metadata": {
    "collapsed": false
   },
   "outputs": [
    {
     "data": {
      "text/html": [
       "<div>\n",
       "<table border=\"1\" class=\"dataframe\">\n",
       "  <thead>\n",
       "    <tr style=\"text-align: right;\">\n",
       "      <th></th>\n",
       "      <th>0</th>\n",
       "      <th>2</th>\n",
       "      <th>3</th>\n",
       "      <th>4</th>\n",
       "      <th>5</th>\n",
       "      <th>6</th>\n",
       "      <th>7</th>\n",
       "      <th>8</th>\n",
       "      <th>9</th>\n",
       "      <th>10</th>\n",
       "      <th>...</th>\n",
       "      <th>22</th>\n",
       "      <th>23</th>\n",
       "      <th>24</th>\n",
       "      <th>25</th>\n",
       "      <th>26</th>\n",
       "      <th>27</th>\n",
       "      <th>28</th>\n",
       "      <th>29</th>\n",
       "      <th>30</th>\n",
       "      <th>31</th>\n",
       "    </tr>\n",
       "  </thead>\n",
       "  <tbody>\n",
       "    <tr>\n",
       "      <th>count</th>\n",
       "      <td>5.690000e+02</td>\n",
       "      <td>569.000000</td>\n",
       "      <td>569.000000</td>\n",
       "      <td>569.000000</td>\n",
       "      <td>569.000000</td>\n",
       "      <td>569.000000</td>\n",
       "      <td>569.000000</td>\n",
       "      <td>569.000000</td>\n",
       "      <td>569.000000</td>\n",
       "      <td>569.000000</td>\n",
       "      <td>...</td>\n",
       "      <td>569.000000</td>\n",
       "      <td>569.000000</td>\n",
       "      <td>569.000000</td>\n",
       "      <td>569.000000</td>\n",
       "      <td>569.000000</td>\n",
       "      <td>569.000000</td>\n",
       "      <td>569.000000</td>\n",
       "      <td>569.000000</td>\n",
       "      <td>569.000000</td>\n",
       "      <td>569.000000</td>\n",
       "    </tr>\n",
       "    <tr>\n",
       "      <th>mean</th>\n",
       "      <td>3.037183e+07</td>\n",
       "      <td>14.127292</td>\n",
       "      <td>19.289649</td>\n",
       "      <td>91.969033</td>\n",
       "      <td>654.889104</td>\n",
       "      <td>0.096360</td>\n",
       "      <td>0.104341</td>\n",
       "      <td>0.088799</td>\n",
       "      <td>0.048919</td>\n",
       "      <td>0.181162</td>\n",
       "      <td>...</td>\n",
       "      <td>16.269190</td>\n",
       "      <td>25.677223</td>\n",
       "      <td>107.261213</td>\n",
       "      <td>880.583128</td>\n",
       "      <td>0.132369</td>\n",
       "      <td>0.254265</td>\n",
       "      <td>0.272188</td>\n",
       "      <td>0.114606</td>\n",
       "      <td>0.290076</td>\n",
       "      <td>0.083946</td>\n",
       "    </tr>\n",
       "    <tr>\n",
       "      <th>std</th>\n",
       "      <td>1.250206e+08</td>\n",
       "      <td>3.524049</td>\n",
       "      <td>4.301036</td>\n",
       "      <td>24.298981</td>\n",
       "      <td>351.914129</td>\n",
       "      <td>0.014064</td>\n",
       "      <td>0.052813</td>\n",
       "      <td>0.079720</td>\n",
       "      <td>0.038803</td>\n",
       "      <td>0.027414</td>\n",
       "      <td>...</td>\n",
       "      <td>4.833242</td>\n",
       "      <td>6.146258</td>\n",
       "      <td>33.602542</td>\n",
       "      <td>569.356993</td>\n",
       "      <td>0.022832</td>\n",
       "      <td>0.157336</td>\n",
       "      <td>0.208624</td>\n",
       "      <td>0.065732</td>\n",
       "      <td>0.061867</td>\n",
       "      <td>0.018061</td>\n",
       "    </tr>\n",
       "    <tr>\n",
       "      <th>min</th>\n",
       "      <td>8.670000e+03</td>\n",
       "      <td>6.981000</td>\n",
       "      <td>9.710000</td>\n",
       "      <td>43.790000</td>\n",
       "      <td>143.500000</td>\n",
       "      <td>0.052630</td>\n",
       "      <td>0.019380</td>\n",
       "      <td>0.000000</td>\n",
       "      <td>0.000000</td>\n",
       "      <td>0.106000</td>\n",
       "      <td>...</td>\n",
       "      <td>7.930000</td>\n",
       "      <td>12.020000</td>\n",
       "      <td>50.410000</td>\n",
       "      <td>185.200000</td>\n",
       "      <td>0.071170</td>\n",
       "      <td>0.027290</td>\n",
       "      <td>0.000000</td>\n",
       "      <td>0.000000</td>\n",
       "      <td>0.156500</td>\n",
       "      <td>0.055040</td>\n",
       "    </tr>\n",
       "    <tr>\n",
       "      <th>25%</th>\n",
       "      <td>8.692180e+05</td>\n",
       "      <td>11.700000</td>\n",
       "      <td>16.170000</td>\n",
       "      <td>75.170000</td>\n",
       "      <td>420.300000</td>\n",
       "      <td>0.086370</td>\n",
       "      <td>0.064920</td>\n",
       "      <td>0.029560</td>\n",
       "      <td>0.020310</td>\n",
       "      <td>0.161900</td>\n",
       "      <td>...</td>\n",
       "      <td>13.010000</td>\n",
       "      <td>21.080000</td>\n",
       "      <td>84.110000</td>\n",
       "      <td>515.300000</td>\n",
       "      <td>0.116600</td>\n",
       "      <td>0.147200</td>\n",
       "      <td>0.114500</td>\n",
       "      <td>0.064930</td>\n",
       "      <td>0.250400</td>\n",
       "      <td>0.071460</td>\n",
       "    </tr>\n",
       "    <tr>\n",
       "      <th>50%</th>\n",
       "      <td>9.060240e+05</td>\n",
       "      <td>13.370000</td>\n",
       "      <td>18.840000</td>\n",
       "      <td>86.240000</td>\n",
       "      <td>551.100000</td>\n",
       "      <td>0.095870</td>\n",
       "      <td>0.092630</td>\n",
       "      <td>0.061540</td>\n",
       "      <td>0.033500</td>\n",
       "      <td>0.179200</td>\n",
       "      <td>...</td>\n",
       "      <td>14.970000</td>\n",
       "      <td>25.410000</td>\n",
       "      <td>97.660000</td>\n",
       "      <td>686.500000</td>\n",
       "      <td>0.131300</td>\n",
       "      <td>0.211900</td>\n",
       "      <td>0.226700</td>\n",
       "      <td>0.099930</td>\n",
       "      <td>0.282200</td>\n",
       "      <td>0.080040</td>\n",
       "    </tr>\n",
       "    <tr>\n",
       "      <th>75%</th>\n",
       "      <td>8.813129e+06</td>\n",
       "      <td>15.780000</td>\n",
       "      <td>21.800000</td>\n",
       "      <td>104.100000</td>\n",
       "      <td>782.700000</td>\n",
       "      <td>0.105300</td>\n",
       "      <td>0.130400</td>\n",
       "      <td>0.130700</td>\n",
       "      <td>0.074000</td>\n",
       "      <td>0.195700</td>\n",
       "      <td>...</td>\n",
       "      <td>18.790000</td>\n",
       "      <td>29.720000</td>\n",
       "      <td>125.400000</td>\n",
       "      <td>1084.000000</td>\n",
       "      <td>0.146000</td>\n",
       "      <td>0.339100</td>\n",
       "      <td>0.382900</td>\n",
       "      <td>0.161400</td>\n",
       "      <td>0.317900</td>\n",
       "      <td>0.092080</td>\n",
       "    </tr>\n",
       "    <tr>\n",
       "      <th>max</th>\n",
       "      <td>9.113205e+08</td>\n",
       "      <td>28.110000</td>\n",
       "      <td>39.280000</td>\n",
       "      <td>188.500000</td>\n",
       "      <td>2501.000000</td>\n",
       "      <td>0.163400</td>\n",
       "      <td>0.345400</td>\n",
       "      <td>0.426800</td>\n",
       "      <td>0.201200</td>\n",
       "      <td>0.304000</td>\n",
       "      <td>...</td>\n",
       "      <td>36.040000</td>\n",
       "      <td>49.540000</td>\n",
       "      <td>251.200000</td>\n",
       "      <td>4254.000000</td>\n",
       "      <td>0.222600</td>\n",
       "      <td>1.058000</td>\n",
       "      <td>1.252000</td>\n",
       "      <td>0.291000</td>\n",
       "      <td>0.663800</td>\n",
       "      <td>0.207500</td>\n",
       "    </tr>\n",
       "  </tbody>\n",
       "</table>\n",
       "<p>8 rows × 31 columns</p>\n",
       "</div>"
      ],
      "text/plain": [
       "                 0           2           3           4            5   \\\n",
       "count  5.690000e+02  569.000000  569.000000  569.000000   569.000000   \n",
       "mean   3.037183e+07   14.127292   19.289649   91.969033   654.889104   \n",
       "std    1.250206e+08    3.524049    4.301036   24.298981   351.914129   \n",
       "min    8.670000e+03    6.981000    9.710000   43.790000   143.500000   \n",
       "25%    8.692180e+05   11.700000   16.170000   75.170000   420.300000   \n",
       "50%    9.060240e+05   13.370000   18.840000   86.240000   551.100000   \n",
       "75%    8.813129e+06   15.780000   21.800000  104.100000   782.700000   \n",
       "max    9.113205e+08   28.110000   39.280000  188.500000  2501.000000   \n",
       "\n",
       "               6           7           8           9           10     ...      \\\n",
       "count  569.000000  569.000000  569.000000  569.000000  569.000000     ...       \n",
       "mean     0.096360    0.104341    0.088799    0.048919    0.181162     ...       \n",
       "std      0.014064    0.052813    0.079720    0.038803    0.027414     ...       \n",
       "min      0.052630    0.019380    0.000000    0.000000    0.106000     ...       \n",
       "25%      0.086370    0.064920    0.029560    0.020310    0.161900     ...       \n",
       "50%      0.095870    0.092630    0.061540    0.033500    0.179200     ...       \n",
       "75%      0.105300    0.130400    0.130700    0.074000    0.195700     ...       \n",
       "max      0.163400    0.345400    0.426800    0.201200    0.304000     ...       \n",
       "\n",
       "               22          23          24           25          26  \\\n",
       "count  569.000000  569.000000  569.000000   569.000000  569.000000   \n",
       "mean    16.269190   25.677223  107.261213   880.583128    0.132369   \n",
       "std      4.833242    6.146258   33.602542   569.356993    0.022832   \n",
       "min      7.930000   12.020000   50.410000   185.200000    0.071170   \n",
       "25%     13.010000   21.080000   84.110000   515.300000    0.116600   \n",
       "50%     14.970000   25.410000   97.660000   686.500000    0.131300   \n",
       "75%     18.790000   29.720000  125.400000  1084.000000    0.146000   \n",
       "max     36.040000   49.540000  251.200000  4254.000000    0.222600   \n",
       "\n",
       "               27          28          29          30          31  \n",
       "count  569.000000  569.000000  569.000000  569.000000  569.000000  \n",
       "mean     0.254265    0.272188    0.114606    0.290076    0.083946  \n",
       "std      0.157336    0.208624    0.065732    0.061867    0.018061  \n",
       "min      0.027290    0.000000    0.000000    0.156500    0.055040  \n",
       "25%      0.147200    0.114500    0.064930    0.250400    0.071460  \n",
       "50%      0.211900    0.226700    0.099930    0.282200    0.080040  \n",
       "75%      0.339100    0.382900    0.161400    0.317900    0.092080  \n",
       "max      1.058000    1.252000    0.291000    0.663800    0.207500  \n",
       "\n",
       "[8 rows x 31 columns]"
      ]
     },
     "execution_count": 6,
     "metadata": {},
     "output_type": "execute_result"
    }
   ],
   "source": [
    "df.describe()"
   ]
  },
  {
   "cell_type": "code",
   "execution_count": 7,
   "metadata": {
    "collapsed": false
   },
   "outputs": [
    {
     "data": {
      "text/html": [
       "<div>\n",
       "<table border=\"1\" class=\"dataframe\">\n",
       "  <thead>\n",
       "    <tr style=\"text-align: right;\">\n",
       "      <th></th>\n",
       "      <th>0</th>\n",
       "      <th>1</th>\n",
       "      <th>2</th>\n",
       "      <th>3</th>\n",
       "      <th>4</th>\n",
       "      <th>5</th>\n",
       "      <th>6</th>\n",
       "      <th>7</th>\n",
       "      <th>8</th>\n",
       "      <th>9</th>\n",
       "      <th>...</th>\n",
       "      <th>22</th>\n",
       "      <th>23</th>\n",
       "      <th>24</th>\n",
       "      <th>25</th>\n",
       "      <th>26</th>\n",
       "      <th>27</th>\n",
       "      <th>28</th>\n",
       "      <th>29</th>\n",
       "      <th>30</th>\n",
       "      <th>31</th>\n",
       "    </tr>\n",
       "  </thead>\n",
       "  <tbody>\n",
       "    <tr>\n",
       "      <th>0</th>\n",
       "      <td>842302</td>\n",
       "      <td>M</td>\n",
       "      <td>17.99</td>\n",
       "      <td>10.38</td>\n",
       "      <td>122.80</td>\n",
       "      <td>1001.0</td>\n",
       "      <td>0.11840</td>\n",
       "      <td>0.27760</td>\n",
       "      <td>0.3001</td>\n",
       "      <td>0.14710</td>\n",
       "      <td>...</td>\n",
       "      <td>25.38</td>\n",
       "      <td>17.33</td>\n",
       "      <td>184.60</td>\n",
       "      <td>2019.0</td>\n",
       "      <td>0.1622</td>\n",
       "      <td>0.6656</td>\n",
       "      <td>0.7119</td>\n",
       "      <td>0.2654</td>\n",
       "      <td>0.4601</td>\n",
       "      <td>0.11890</td>\n",
       "    </tr>\n",
       "    <tr>\n",
       "      <th>1</th>\n",
       "      <td>842517</td>\n",
       "      <td>M</td>\n",
       "      <td>20.57</td>\n",
       "      <td>17.77</td>\n",
       "      <td>132.90</td>\n",
       "      <td>1326.0</td>\n",
       "      <td>0.08474</td>\n",
       "      <td>0.07864</td>\n",
       "      <td>0.0869</td>\n",
       "      <td>0.07017</td>\n",
       "      <td>...</td>\n",
       "      <td>24.99</td>\n",
       "      <td>23.41</td>\n",
       "      <td>158.80</td>\n",
       "      <td>1956.0</td>\n",
       "      <td>0.1238</td>\n",
       "      <td>0.1866</td>\n",
       "      <td>0.2416</td>\n",
       "      <td>0.1860</td>\n",
       "      <td>0.2750</td>\n",
       "      <td>0.08902</td>\n",
       "    </tr>\n",
       "    <tr>\n",
       "      <th>2</th>\n",
       "      <td>84300903</td>\n",
       "      <td>M</td>\n",
       "      <td>19.69</td>\n",
       "      <td>21.25</td>\n",
       "      <td>130.00</td>\n",
       "      <td>1203.0</td>\n",
       "      <td>0.10960</td>\n",
       "      <td>0.15990</td>\n",
       "      <td>0.1974</td>\n",
       "      <td>0.12790</td>\n",
       "      <td>...</td>\n",
       "      <td>23.57</td>\n",
       "      <td>25.53</td>\n",
       "      <td>152.50</td>\n",
       "      <td>1709.0</td>\n",
       "      <td>0.1444</td>\n",
       "      <td>0.4245</td>\n",
       "      <td>0.4504</td>\n",
       "      <td>0.2430</td>\n",
       "      <td>0.3613</td>\n",
       "      <td>0.08758</td>\n",
       "    </tr>\n",
       "    <tr>\n",
       "      <th>3</th>\n",
       "      <td>84348301</td>\n",
       "      <td>M</td>\n",
       "      <td>11.42</td>\n",
       "      <td>20.38</td>\n",
       "      <td>77.58</td>\n",
       "      <td>386.1</td>\n",
       "      <td>0.14250</td>\n",
       "      <td>0.28390</td>\n",
       "      <td>0.2414</td>\n",
       "      <td>0.10520</td>\n",
       "      <td>...</td>\n",
       "      <td>14.91</td>\n",
       "      <td>26.50</td>\n",
       "      <td>98.87</td>\n",
       "      <td>567.7</td>\n",
       "      <td>0.2098</td>\n",
       "      <td>0.8663</td>\n",
       "      <td>0.6869</td>\n",
       "      <td>0.2575</td>\n",
       "      <td>0.6638</td>\n",
       "      <td>0.17300</td>\n",
       "    </tr>\n",
       "    <tr>\n",
       "      <th>4</th>\n",
       "      <td>84358402</td>\n",
       "      <td>M</td>\n",
       "      <td>20.29</td>\n",
       "      <td>14.34</td>\n",
       "      <td>135.10</td>\n",
       "      <td>1297.0</td>\n",
       "      <td>0.10030</td>\n",
       "      <td>0.13280</td>\n",
       "      <td>0.1980</td>\n",
       "      <td>0.10430</td>\n",
       "      <td>...</td>\n",
       "      <td>22.54</td>\n",
       "      <td>16.67</td>\n",
       "      <td>152.20</td>\n",
       "      <td>1575.0</td>\n",
       "      <td>0.1374</td>\n",
       "      <td>0.2050</td>\n",
       "      <td>0.4000</td>\n",
       "      <td>0.1625</td>\n",
       "      <td>0.2364</td>\n",
       "      <td>0.07678</td>\n",
       "    </tr>\n",
       "  </tbody>\n",
       "</table>\n",
       "<p>5 rows × 32 columns</p>\n",
       "</div>"
      ],
      "text/plain": [
       "         0  1      2      3       4       5        6        7       8   \\\n",
       "0    842302  M  17.99  10.38  122.80  1001.0  0.11840  0.27760  0.3001   \n",
       "1    842517  M  20.57  17.77  132.90  1326.0  0.08474  0.07864  0.0869   \n",
       "2  84300903  M  19.69  21.25  130.00  1203.0  0.10960  0.15990  0.1974   \n",
       "3  84348301  M  11.42  20.38   77.58   386.1  0.14250  0.28390  0.2414   \n",
       "4  84358402  M  20.29  14.34  135.10  1297.0  0.10030  0.13280  0.1980   \n",
       "\n",
       "        9    ...        22     23      24      25      26      27      28  \\\n",
       "0  0.14710   ...     25.38  17.33  184.60  2019.0  0.1622  0.6656  0.7119   \n",
       "1  0.07017   ...     24.99  23.41  158.80  1956.0  0.1238  0.1866  0.2416   \n",
       "2  0.12790   ...     23.57  25.53  152.50  1709.0  0.1444  0.4245  0.4504   \n",
       "3  0.10520   ...     14.91  26.50   98.87   567.7  0.2098  0.8663  0.6869   \n",
       "4  0.10430   ...     22.54  16.67  152.20  1575.0  0.1374  0.2050  0.4000   \n",
       "\n",
       "       29      30       31  \n",
       "0  0.2654  0.4601  0.11890  \n",
       "1  0.1860  0.2750  0.08902  \n",
       "2  0.2430  0.3613  0.08758  \n",
       "3  0.2575  0.6638  0.17300  \n",
       "4  0.1625  0.2364  0.07678  \n",
       "\n",
       "[5 rows x 32 columns]"
      ]
     },
     "execution_count": 7,
     "metadata": {},
     "output_type": "execute_result"
    }
   ],
   "source": [
    "df.head()"
   ]
  },
  {
   "cell_type": "markdown",
   "metadata": {},
   "source": [
    "Not to descriptive but these numbers mean something to someone.  The first column looks like an identifier and the second column looks like the class labels, malignant (M) or benign (B).  From this, we can use the other 30 columns to build our machine learning predictor."
   ]
  },
  {
   "cell_type": "code",
   "execution_count": 8,
   "metadata": {
    "collapsed": false
   },
   "outputs": [],
   "source": [
    "X = df.loc[:, 2:].values\n",
    "y = df.loc[:, 1].values"
   ]
  },
  {
   "cell_type": "code",
   "execution_count": 9,
   "metadata": {
    "collapsed": false
   },
   "outputs": [
    {
     "data": {
      "text/plain": [
       "array(['M', 'M', 'M', 'M', 'M', 'M', 'M', 'M', 'M', 'M', 'M', 'M', 'M',\n",
       "       'M', 'M', 'M', 'M', 'M', 'M', 'B', 'B', 'B', 'M', 'M', 'M', 'M',\n",
       "       'M', 'M', 'M', 'M', 'M', 'M', 'M', 'M', 'M', 'M', 'M', 'B', 'M',\n",
       "       'M', 'M', 'M', 'M', 'M', 'M', 'M', 'B', 'M', 'B', 'B'], dtype=object)"
      ]
     },
     "execution_count": 9,
     "metadata": {},
     "output_type": "execute_result"
    }
   ],
   "source": [
    "y[:50]"
   ]
  },
  {
   "cell_type": "markdown",
   "metadata": {},
   "source": [
    "Lets transform the labels into integers."
   ]
  },
  {
   "cell_type": "code",
   "execution_count": 10,
   "metadata": {
    "collapsed": false
   },
   "outputs": [],
   "source": [
    "le = sklearn.preprocessing.LabelEncoder()\n",
    "y = le.fit_transform(y)"
   ]
  },
  {
   "cell_type": "code",
   "execution_count": 11,
   "metadata": {
    "collapsed": false
   },
   "outputs": [
    {
     "data": {
      "text/plain": [
       "array([1, 1, 1, 1, 1, 1, 1, 1, 1, 1, 1, 1, 1, 1, 1, 1, 1, 1, 1, 0, 0, 0, 1,\n",
       "       1, 1, 1, 1, 1, 1, 1, 1, 1, 1, 1, 1, 1, 1, 0, 1, 1, 1, 1, 1, 1, 1, 1,\n",
       "       0, 1, 0, 0])"
      ]
     },
     "execution_count": 11,
     "metadata": {},
     "output_type": "execute_result"
    }
   ],
   "source": [
    "y[:50]"
   ]
  },
  {
   "cell_type": "code",
   "execution_count": 12,
   "metadata": {
    "collapsed": false
   },
   "outputs": [
    {
     "name": "stdout",
     "output_type": "stream",
     "text": [
      "M: 1\n",
      "B: 0\n"
     ]
    }
   ],
   "source": [
    "labels = ['M', 'B']\n",
    "encoded = le.fit_transform(labels)\n",
    "for label, encode in zip(labels, encoded):\n",
    "    print('{}: {}'.format(label, encode))"
   ]
  },
  {
   "cell_type": "markdown",
   "metadata": {},
   "source": [
    "So 1 is malignant, 0 is benign."
   ]
  },
  {
   "cell_type": "markdown",
   "metadata": {},
   "source": [
    "Lets proceed to split the data, 80/20, into training and test sets."
   ]
  },
  {
   "cell_type": "code",
   "execution_count": 13,
   "metadata": {
    "collapsed": true
   },
   "outputs": [],
   "source": [
    "X_train, X_test, y_train, y_test = sklearn.model_selection.train_test_split(X, y, \n",
    "                                                                            test_size=0.2, \n",
    "                                                                            random_state=rs)"
   ]
  },
  {
   "cell_type": "markdown",
   "metadata": {},
   "source": [
    "# Pipeline\n",
    "\n",
    "Now lets create a pipeline to process and fit this data using the following steps:\n",
    "    1. normalize the data to have a mean of zero and standard deviation of 1\n",
    "    2. perform a PCA analysis to simplify the data to only 2 descriptive features\n",
    "    3. fit the data using logistic regression"
   ]
  },
  {
   "cell_type": "code",
   "execution_count": 14,
   "metadata": {
    "collapsed": true
   },
   "outputs": [],
   "source": [
    "lr_pipe0 = sklearn.pipeline.Pipeline([\n",
    "    ('scl', sklearn.preprocessing.StandardScaler()),\n",
    "    ('pca', sklearn.decomposition.PCA(n_components=2)),\n",
    "    ('clf', sklearn.linear_model.LogisticRegression(random_state=rs)),\n",
    "])"
   ]
  },
  {
   "cell_type": "code",
   "execution_count": 15,
   "metadata": {
    "collapsed": false
   },
   "outputs": [
    {
     "data": {
      "text/plain": [
       "Pipeline(steps=[('scl', StandardScaler(copy=True, with_mean=True, with_std=True)), ('pca', PCA(copy=True, iterated_power='auto', n_components=2, random_state=None,\n",
       "  svd_solver='auto', tol=0.0, whiten=False)), ('clf', LogisticRegression(C=1.0, class_weight=None, dual=False, fit_intercept=True,\n",
       "          intercept_scaling=1, max_iter=100, multi_class='ovr', n_jobs=1,\n",
       "          penalty='l2', random_state=1, solver='liblinear', tol=0.0001,\n",
       "          verbose=0, warm_start=False))])"
      ]
     },
     "execution_count": 15,
     "metadata": {},
     "output_type": "execute_result"
    }
   ],
   "source": [
    "lr_pipe0.fit(X_train, y_train)"
   ]
  },
  {
   "cell_type": "code",
   "execution_count": 16,
   "metadata": {
    "collapsed": false
   },
   "outputs": [
    {
     "name": "stdout",
     "output_type": "stream",
     "text": [
      "Testing Accuracy: 0.947\n"
     ]
    }
   ],
   "source": [
    "print('Testing Accuracy: {:0.3f}'.format(lr_pipe0.score(X_test, y_test)))"
   ]
  },
  {
   "cell_type": "markdown",
   "metadata": {},
   "source": [
    "While this result looks great, using PCA to reduce the data to 2 components likely led to overfitting of the data.\n",
    "\n",
    "Lets now use k-fold cross-validation to evaluate model performance."
   ]
  },
  {
   "cell_type": "code",
   "execution_count": 17,
   "metadata": {
    "collapsed": false
   },
   "outputs": [],
   "source": [
    "skf = sklearn.model_selection.StratifiedKFold(n_splits=10, random_state=rs)\n",
    "kfold = skf.split(X_train, y_train)"
   ]
  },
  {
   "cell_type": "markdown",
   "metadata": {},
   "source": [
    "We will first do this explicitly to demonstrate what is going on."
   ]
  },
  {
   "cell_type": "code",
   "execution_count": 18,
   "metadata": {
    "collapsed": false
   },
   "outputs": [
    {
     "name": "stdout",
     "output_type": "stream",
     "text": [
      "fold: 001, label distribution: (256, 153), accuracy: 0.891\n",
      "fold: 002, label distribution: (256, 153), accuracy: 0.978\n",
      "fold: 003, label distribution: (256, 153), accuracy: 0.978\n",
      "fold: 004, label distribution: (256, 153), accuracy: 0.913\n",
      "fold: 005, label distribution: (256, 153), accuracy: 0.935\n",
      "fold: 006, label distribution: (257, 153), accuracy: 0.978\n",
      "fold: 007, label distribution: (257, 153), accuracy: 0.933\n",
      "fold: 008, label distribution: (257, 153), accuracy: 0.956\n",
      "fold: 009, label distribution: (257, 153), accuracy: 0.978\n",
      "fold: 010, label distribution: (257, 153), accuracy: 0.956\n",
      "average accuracy: 0.95 +/- 0.0292\n"
     ]
    }
   ],
   "source": [
    "scores = []\n",
    "for k, (train, test) in enumerate(kfold):\n",
    "    lr_pipe0.fit(X_train[train], y_train[train])\n",
    "    score = lr_pipe0.score(X_train[test], y_train[test])\n",
    "    scores.append(score)\n",
    "    print('fold: {:03}, label distribution: ({}, {}), accuracy: {:.3}'.format(\n",
    "        k+1, *np.bincount(y_train[train]), score))\n",
    "print('average accuracy: {:.3} +/- {:.3}'.format(np.mean(scores), np.std(scores)))"
   ]
  },
  {
   "cell_type": "markdown",
   "metadata": {},
   "source": [
    "We can do this using simply `sklearn.model_selection.cross_val_score`. Note that by using `n_jobs=-1` the calculation will maximize the number of CPU cores used."
   ]
  },
  {
   "cell_type": "code",
   "execution_count": 21,
   "metadata": {
    "collapsed": false
   },
   "outputs": [],
   "source": [
    "scores = sklearn.model_selection.cross_val_score(estimator=lr_pipe0, X=X_train,\n",
    "                                                 y=y_train, cv=10, n_jobs=-1)  "
   ]
  },
  {
   "cell_type": "code",
   "execution_count": 22,
   "metadata": {
    "collapsed": false
   },
   "outputs": [
    {
     "name": "stdout",
     "output_type": "stream",
     "text": [
      "average accuracy: 0.95 +/- 0.0292\n"
     ]
    }
   ],
   "source": [
    "print('average accuracy: {:.3} +/- {:.3}'.format(np.mean(scores), np.std(scores)))"
   ]
  },
  {
   "cell_type": "markdown",
   "metadata": {},
   "source": [
    "Not surprisingly, we get the same result."
   ]
  },
  {
   "cell_type": "markdown",
   "metadata": {},
   "source": [
    "# Learning Curve\n",
    "\n",
    "Now lets look at a learning curve for how well this model represents the data."
   ]
  },
  {
   "cell_type": "code",
   "execution_count": 24,
   "metadata": {
    "collapsed": false
   },
   "outputs": [],
   "source": [
    "train_sizes, train_scores, test_scores = sklearn.model_selection.learning_curve(\n",
    "    estimator=lr_pipe0, X=X_train, y=y_train, train_sizes=np.linspace(0.1, 1, 50),\n",
    "    cv=10, n_jobs=-1)"
   ]
  },
  {
   "cell_type": "code",
   "execution_count": 25,
   "metadata": {
    "collapsed": true
   },
   "outputs": [],
   "source": [
    "train_mean = train_scores.mean(axis=1)\n",
    "train_std = train_scores.std(axis=1)\n",
    "\n",
    "test_mean = test_scores.mean(axis=1)\n",
    "test_std = test_scores.std(axis=1)"
   ]
  },
  {
   "cell_type": "code",
   "execution_count": 27,
   "metadata": {
    "collapsed": false
   },
   "outputs": [
    {
     "data": {
      "text/html": [
       "\n",
       "\n",
       "    <div class=\"bk-root\">\n",
       "        <div class=\"bk-plotdiv\" id=\"1cb884b0-708a-455c-b081-4dc3089d899e\"></div>\n",
       "    </div>\n",
       "<script type=\"text/javascript\">\n",
       "  \n",
       "  (function(global) {\n",
       "    function now() {\n",
       "      return new Date();\n",
       "    }\n",
       "  \n",
       "    var force = false;\n",
       "  \n",
       "    if (typeof (window._bokeh_onload_callbacks) === \"undefined\" || force === true) {\n",
       "      window._bokeh_onload_callbacks = [];\n",
       "      window._bokeh_is_loading = undefined;\n",
       "    }\n",
       "  \n",
       "  \n",
       "    \n",
       "    if (typeof (window._bokeh_timeout) === \"undefined\" || force === true) {\n",
       "      window._bokeh_timeout = Date.now() + 0;\n",
       "      window._bokeh_failed_load = false;\n",
       "    }\n",
       "  \n",
       "    var NB_LOAD_WARNING = {'data': {'text/html':\n",
       "       \"<div style='background-color: #fdd'>\\n\"+\n",
       "       \"<p>\\n\"+\n",
       "       \"BokehJS does not appear to have successfully loaded. If loading BokehJS from CDN, this \\n\"+\n",
       "       \"may be due to a slow or bad network connection. Possible fixes:\\n\"+\n",
       "       \"</p>\\n\"+\n",
       "       \"<ul>\\n\"+\n",
       "       \"<li>re-rerun `output_notebook()` to attempt to load from CDN again, or</li>\\n\"+\n",
       "       \"<li>use INLINE resources instead, as so:</li>\\n\"+\n",
       "       \"</ul>\\n\"+\n",
       "       \"<code>\\n\"+\n",
       "       \"from bokeh.resources import INLINE\\n\"+\n",
       "       \"output_notebook(resources=INLINE)\\n\"+\n",
       "       \"</code>\\n\"+\n",
       "       \"</div>\"}};\n",
       "  \n",
       "    function display_loaded() {\n",
       "      if (window.Bokeh !== undefined) {\n",
       "        var el = document.getElementById(\"1cb884b0-708a-455c-b081-4dc3089d899e\");\n",
       "        el.textContent = \"BokehJS \" + Bokeh.version + \" successfully loaded.\";\n",
       "      } else if (Date.now() < window._bokeh_timeout) {\n",
       "        setTimeout(display_loaded, 100)\n",
       "      }\n",
       "    }\n",
       "  \n",
       "    function run_callbacks() {\n",
       "      window._bokeh_onload_callbacks.forEach(function(callback) { callback() });\n",
       "      delete window._bokeh_onload_callbacks\n",
       "      console.info(\"Bokeh: all callbacks have finished\");\n",
       "    }\n",
       "  \n",
       "    function load_libs(js_urls, callback) {\n",
       "      window._bokeh_onload_callbacks.push(callback);\n",
       "      if (window._bokeh_is_loading > 0) {\n",
       "        console.log(\"Bokeh: BokehJS is being loaded, scheduling callback at\", now());\n",
       "        return null;\n",
       "      }\n",
       "      if (js_urls == null || js_urls.length === 0) {\n",
       "        run_callbacks();\n",
       "        return null;\n",
       "      }\n",
       "      console.log(\"Bokeh: BokehJS not loaded, scheduling load and callback at\", now());\n",
       "      window._bokeh_is_loading = js_urls.length;\n",
       "      for (var i = 0; i < js_urls.length; i++) {\n",
       "        var url = js_urls[i];\n",
       "        var s = document.createElement('script');\n",
       "        s.src = url;\n",
       "        s.async = false;\n",
       "        s.onreadystatechange = s.onload = function() {\n",
       "          window._bokeh_is_loading--;\n",
       "          if (window._bokeh_is_loading === 0) {\n",
       "            console.log(\"Bokeh: all BokehJS libraries loaded\");\n",
       "            run_callbacks()\n",
       "          }\n",
       "        };\n",
       "        s.onerror = function() {\n",
       "          console.warn(\"failed to load library \" + url);\n",
       "        };\n",
       "        console.log(\"Bokeh: injecting script tag for BokehJS library: \", url);\n",
       "        document.getElementsByTagName(\"head\")[0].appendChild(s);\n",
       "      }\n",
       "    };var element = document.getElementById(\"1cb884b0-708a-455c-b081-4dc3089d899e\");\n",
       "    if (element == null) {\n",
       "      console.log(\"Bokeh: ERROR: autoload.js configured with elementid '1cb884b0-708a-455c-b081-4dc3089d899e' but no matching script tag was found. \")\n",
       "      return false;\n",
       "    }\n",
       "  \n",
       "    var js_urls = [];\n",
       "  \n",
       "    var inline_js = [\n",
       "      function(Bokeh) {\n",
       "        (function() {\n",
       "          var fn = function() {\n",
       "            var docs_json = {\"20eaca01-e9d3-4572-9b88-7393054a6f4b\":{\"roots\":{\"references\":[{\"attributes\":{\"plot\":{\"id\":\"79dab072-9e7e-4d38-91f8-ed2c3d492721\",\"subtype\":\"Figure\",\"type\":\"Plot\"}},\"id\":\"505b9fee-427f-4435-9775-ea7dc4788245\",\"type\":\"WheelZoomTool\"},{\"attributes\":{\"bottom\":{\"field\":\"bottom\"},\"fill_alpha\":{\"value\":0.2},\"fill_color\":{\"value\":\"#ff7f0e\"},\"left\":{\"field\":\"left\"},\"line_alpha\":{\"value\":0.2},\"line_color\":{\"value\":\"#ff7f0e\"},\"right\":{\"field\":\"right\"},\"top\":{\"field\":\"top\"}},\"id\":\"20bf2de0-cd1a-42a9-a71d-af263aaf5e45\",\"type\":\"Quad\"},{\"attributes\":{\"line_alpha\":{\"value\":0.1},\"line_color\":{\"value\":\"#1f77b4\"},\"line_dash\":[6],\"x\":{\"field\":\"x\"},\"y\":{\"field\":\"y\"}},\"id\":\"820b7ff8-e1bf-4957-946d-f3df661b993a\",\"type\":\"Line\"},{\"attributes\":{\"callback\":null,\"end\":409,\"start\":40},\"id\":\"eeb96c01-0088-4d17-a448-4d981f1594c5\",\"type\":\"Range1d\"},{\"attributes\":{\"callback\":null,\"column_names\":[\"left\",\"right\",\"top\",\"bottom\"],\"data\":{\"bottom\":{\"__ndarray__\":\"PQrXo3A97j+gOogy6nrtPwVeWeCVBe4/Yc/T18jB7j+4HoXrUbjuPw7ncA7ncO4/pD7YcQul7j9r3qzmzWruPxsv3SQGge0/xvYlHJSX7T+9Barxe5vtP9E7SMujhe0/puQSCd167T9sFBB2lpvtP/6eOuN9Re0/ndDCG3Nl7T9eDmSUpoHtP80sUKSZb+0/nSx/nAKO7T/KpUSobKbtP7dDIA+fv+0/m4b1UU+r7T8ND4t2e8LtP5pTD4PEx+0/U/6pTVbc7T+eW+LU77ntP30eY03AyO0/rcimCFKs7T/myW+3UsPtP8yLwdKTr+0/ZMUSmr3E7T+5aCN9kNHtP2Wcr4J24e0/3Q12PInb7T9WfFI1FAbuP9hJQE6w6u0/CMYG8lD97T80RtKJPAzuP/+ilRlYGe4/IsED4H8Y7j9vVEBhPiruP9esVXPjJu4/MYy1K4Ux7j97oF1QKC3uP9G3s+m/Ge4/SOOJ84007j8cKcB+8TruP7ZCYUrYT+4/ctbXy6ZR7j/I1J23o1HuPw==\",\"dtype\":\"float64\",\"shape\":[50]},\"left\":{\"__ndarray__\":\"AAAAAAAAREAAAAAAAABGQAAAAAAAwElAAAAAAACATUAAAAAAAKBQQAAAAAAAgFJAAAAAAABgVEAAAAAAAEBWQAAAAAAAIFhAAAAAAAAAWkAAAAAAAABcQAAAAAAA4F1AAAAAAADAX0AAAAAAANBgQAAAAAAAwGFAAAAAAACwYkAAAAAAAKBjQAAAAAAAkGRAAAAAAACAZUAAAAAAAHBmQAAAAAAAYGdAAAAAAABQaEAAAAAAAEBpQAAAAAAAMGpAAAAAAAAga0AAAAAAABBsQAAAAAAAAG1AAAAAAADwbUAAAAAAAOBuQAAAAAAA0G9AAAAAAABgcEAAAAAAANhwQAAAAAAAUHFAAAAAAADIcUAAAAAAAEByQAAAAAAAuHJAAAAAAAAwc0AAAAAAAKhzQAAAAAAAIHRAAAAAAACYdEAAAAAAABB1QAAAAAAAiHVAAAAAAAAAdkAAAAAAAHh2QAAAAAAA8HZAAAAAAABod0AAAAAAAOB3QAAAAAAAWHhAAAAAAADQeEAAAAAAAFB5QA==\",\"dtype\":\"float64\",\"shape\":[50]},\"right\":{\"__ndarray__\":\"AAAAAAAARkAAAAAAAMBJQAAAAAAAgE1AAAAAAACgUEAAAAAAAIBSQAAAAAAAYFRAAAAAAABAVkAAAAAAACBYQAAAAAAAAFpAAAAAAAAAXEAAAAAAAOBdQAAAAAAAwF9AAAAAAADQYEAAAAAAAMBhQAAAAAAAsGJAAAAAAACgY0AAAAAAAJBkQAAAAAAAgGVAAAAAAABwZkAAAAAAAGBnQAAAAAAAUGhAAAAAAABAaUAAAAAAADBqQAAAAAAAIGtAAAAAAAAQbEAAAAAAAABtQAAAAAAA8G1AAAAAAADgbkAAAAAAANBvQAAAAAAAYHBAAAAAAADYcEAAAAAAAFBxQAAAAAAAyHFAAAAAAABAckAAAAAAALhyQAAAAAAAMHNAAAAAAACoc0AAAAAAACB0QAAAAAAAmHRAAAAAAAAQdUAAAAAAAIh1QAAAAAAAAHZAAAAAAAB4dkAAAAAAAPB2QAAAAAAAaHdAAAAAAADgd0AAAAAAAFh4QAAAAAAA0HhAAAAAAABQeUAAAAAAAJB5QA==\",\"dtype\":\"float64\",\"shape\":[50]},\"top\":{\"__ndarray__\":\"uR6F61G47j+kCbwRWsnuP7cehetRuO4/GxAkphY27z9cj8L1KFzvP+7u7u7u7u4/8r6LWCXy7j+xXhTrRbHuP2U730+Nl+4/xMgnFdZg7j85LxiB04fuP8Mf9O0hDu4/YGato33t7T9OeRmSZgjuP3IS9Uin0e0/X9WN3zLr7T+miZboxBTuP0cLMW+eEe4/73qF3EcC7j/yZU1Ko9btPxXtHbnQ7e0/CQU5aJn37T9NtZwZzwvuPyJ79YhZA+4/KRtILsMV7j924Qm5WhfuP11sPZTkJe4/DfMUs2kP7j9Wa11n3DvuP8Rg+wE1H+4/KPkmYCkk7j8DWfg+MUruP2GppRmoVu4/aTbOB7to7j9QTBWoTITuP2g2mznkiO4/PKtpBSuY7j9GHgaXMZLuP/WenIZGkO4/XglYS2aP7j9LaH9qvZHuP02JdtR+nO4/m6vV+nuk7j+Z08E25qHuP2nURGBYlu4/3uqt3uqt7j9elcryUqvuP7oOSqcNmO4/iF1tjiKq7j8+PupdQLnuPw==\",\"dtype\":\"float64\",\"shape\":[50]}}},\"id\":\"f194852a-eae3-4f4c-aaad-30425bc22539\",\"type\":\"ColumnDataSource\"},{\"attributes\":{\"plot\":{\"id\":\"79dab072-9e7e-4d38-91f8-ed2c3d492721\",\"subtype\":\"Figure\",\"type\":\"Plot\"}},\"id\":\"eff05a78-5a48-437b-91a5-dcc15ee33002\",\"type\":\"PanTool\"},{\"attributes\":{},\"id\":\"a3979d3d-e12e-4e2b-a39e-ad84234df29e\",\"type\":\"BasicTickFormatter\"},{\"attributes\":{\"plot\":null,\"text\":\"\"},\"id\":\"5428a6b7-4fc5-45ad-9aa2-f53af0bfefd2\",\"type\":\"Title\"},{\"attributes\":{\"plot\":{\"id\":\"79dab072-9e7e-4d38-91f8-ed2c3d492721\",\"subtype\":\"Figure\",\"type\":\"Plot\"}},\"id\":\"7f07cf5c-937b-4510-8229-ab92b054f563\",\"type\":\"SaveTool\"},{\"attributes\":{\"data_source\":{\"id\":\"6b805e18-4c9c-4027-be52-8c9917683c87\",\"type\":\"ColumnDataSource\"},\"glyph\":{\"id\":\"20bf2de0-cd1a-42a9-a71d-af263aaf5e45\",\"type\":\"Quad\"},\"hover_glyph\":null,\"muted_glyph\":null,\"nonselection_glyph\":{\"id\":\"6c81b411-a566-4ef7-98c6-840c9fea5956\",\"type\":\"Quad\"},\"selection_glyph\":null},\"id\":\"fcd4a5a0-d627-459f-97ba-63edd93aac71\",\"type\":\"GlyphRenderer\"},{\"attributes\":{\"plot\":{\"id\":\"79dab072-9e7e-4d38-91f8-ed2c3d492721\",\"subtype\":\"Figure\",\"type\":\"Plot\"}},\"id\":\"dddb8fae-6508-460a-95a4-ef4109bde28d\",\"type\":\"HelpTool\"},{\"attributes\":{\"plot\":{\"id\":\"79dab072-9e7e-4d38-91f8-ed2c3d492721\",\"subtype\":\"Figure\",\"type\":\"Plot\"}},\"id\":\"51300bf6-6e98-4829-9b73-728bf05856f7\",\"type\":\"ResetTool\"},{\"attributes\":{},\"id\":\"2175a9c9-1f07-49e8-8d0d-1d2ef503450a\",\"type\":\"ToolEvents\"},{\"attributes\":{\"label\":{\"value\":\"x-validation accuracy\"},\"renderers\":[{\"id\":\"840a081c-7021-45ef-b4e7-204f5a3fc21d\",\"type\":\"GlyphRenderer\"}]},\"id\":\"114a57f3-8e05-423a-8728-007ef9a40f34\",\"type\":\"LegendItem\"},{\"attributes\":{\"overlay\":{\"id\":\"f57c432a-7a68-4811-a9a1-286969bd8ef4\",\"type\":\"BoxAnnotation\"},\"plot\":{\"id\":\"79dab072-9e7e-4d38-91f8-ed2c3d492721\",\"subtype\":\"Figure\",\"type\":\"Plot\"}},\"id\":\"8bb03044-bc61-4aa3-b37d-755afe588af7\",\"type\":\"BoxZoomTool\"},{\"attributes\":{\"data_source\":{\"id\":\"3965cc53-57f7-40fa-9b99-2ef4f58b3d30\",\"type\":\"ColumnDataSource\"},\"glyph\":{\"id\":\"1dbf911a-6d0b-4f81-bb9f-5ebdb6a881b9\",\"type\":\"Line\"},\"hover_glyph\":null,\"muted_glyph\":null,\"nonselection_glyph\":{\"id\":\"beed75bd-79ed-4e18-a966-65fa2a2fcb9b\",\"type\":\"Line\"},\"selection_glyph\":null},\"id\":\"add460e1-119c-4d06-956c-1375c3eb06f9\",\"type\":\"GlyphRenderer\"},{\"attributes\":{\"bottom\":{\"field\":\"bottom\"},\"fill_alpha\":{\"value\":0.1},\"fill_color\":{\"value\":\"#1f77b4\"},\"left\":{\"field\":\"left\"},\"line_alpha\":{\"value\":0.1},\"line_color\":{\"value\":\"#1f77b4\"},\"right\":{\"field\":\"right\"},\"top\":{\"field\":\"top\"}},\"id\":\"6c81b411-a566-4ef7-98c6-840c9fea5956\",\"type\":\"Quad\"},{\"attributes\":{\"below\":[{\"id\":\"be7b7375-0266-4a53-9bd6-00135d04ea27\",\"type\":\"LinearAxis\"}],\"left\":[{\"id\":\"06d55b02-8a10-47c8-90e1-28975d4723b2\",\"type\":\"LinearAxis\"}],\"plot_height\":300,\"plot_width\":500,\"renderers\":[{\"id\":\"be7b7375-0266-4a53-9bd6-00135d04ea27\",\"type\":\"LinearAxis\"},{\"id\":\"099f8bcf-b2d0-42d2-9e1b-e95ce772a444\",\"type\":\"Grid\"},{\"id\":\"06d55b02-8a10-47c8-90e1-28975d4723b2\",\"type\":\"LinearAxis\"},{\"id\":\"ad6b562a-d83c-4e03-a8b3-b0f3fdbf68ff\",\"type\":\"Grid\"},{\"id\":\"f57c432a-7a68-4811-a9a1-286969bd8ef4\",\"type\":\"BoxAnnotation\"},{\"id\":\"497452b7-1de4-4090-a6fa-374ad5ec2709\",\"type\":\"GlyphRenderer\"},{\"id\":\"ec4d54af-62e9-4b06-b956-edc142df451f\",\"type\":\"Legend\"},{\"id\":\"add460e1-119c-4d06-956c-1375c3eb06f9\",\"type\":\"GlyphRenderer\"},{\"id\":\"fcd4a5a0-d627-459f-97ba-63edd93aac71\",\"type\":\"GlyphRenderer\"},{\"id\":\"840a081c-7021-45ef-b4e7-204f5a3fc21d\",\"type\":\"GlyphRenderer\"}],\"title\":{\"id\":\"5428a6b7-4fc5-45ad-9aa2-f53af0bfefd2\",\"type\":\"Title\"},\"tool_events\":{\"id\":\"2175a9c9-1f07-49e8-8d0d-1d2ef503450a\",\"type\":\"ToolEvents\"},\"toolbar\":{\"id\":\"a466e7c7-86ab-4559-ad53-c94c57ebee59\",\"type\":\"Toolbar\"},\"x_range\":{\"id\":\"eeb96c01-0088-4d17-a448-4d981f1594c5\",\"type\":\"Range1d\"},\"y_range\":{\"id\":\"78a07e44-19b3-4502-bf7a-4f745f0f36b2\",\"type\":\"Range1d\"}},\"id\":\"79dab072-9e7e-4d38-91f8-ed2c3d492721\",\"subtype\":\"Figure\",\"type\":\"Plot\"},{\"attributes\":{\"line_color\":{\"value\":\"#ff7f0e\"},\"line_dash\":[6],\"x\":{\"field\":\"x\"},\"y\":{\"field\":\"y\"}},\"id\":\"c525c673-5f59-4030-a87f-af1c135f293d\",\"type\":\"Line\"},{\"attributes\":{\"axis_label\":\"Number of training samples\",\"formatter\":{\"id\":\"a3979d3d-e12e-4e2b-a39e-ad84234df29e\",\"type\":\"BasicTickFormatter\"},\"plot\":{\"id\":\"79dab072-9e7e-4d38-91f8-ed2c3d492721\",\"subtype\":\"Figure\",\"type\":\"Plot\"},\"ticker\":{\"id\":\"031d2994-fe56-40e4-adcc-a915f6aa175f\",\"type\":\"BasicTicker\"}},\"id\":\"be7b7375-0266-4a53-9bd6-00135d04ea27\",\"type\":\"LinearAxis\"},{\"attributes\":{\"data_source\":{\"id\":\"4caa479d-d9eb-465e-a264-67eddc9cbe91\",\"type\":\"ColumnDataSource\"},\"glyph\":{\"id\":\"c525c673-5f59-4030-a87f-af1c135f293d\",\"type\":\"Line\"},\"hover_glyph\":null,\"muted_glyph\":null,\"nonselection_glyph\":{\"id\":\"820b7ff8-e1bf-4957-946d-f3df661b993a\",\"type\":\"Line\"},\"selection_glyph\":null},\"id\":\"840a081c-7021-45ef-b4e7-204f5a3fc21d\",\"type\":\"GlyphRenderer\"},{\"attributes\":{},\"id\":\"5ddd7506-9998-4787-8a7c-5ebe0ead0f2b\",\"type\":\"BasicTickFormatter\"},{\"attributes\":{\"dimension\":1,\"plot\":{\"id\":\"79dab072-9e7e-4d38-91f8-ed2c3d492721\",\"subtype\":\"Figure\",\"type\":\"Plot\"},\"ticker\":{\"id\":\"777e7705-56bf-45e9-8979-02c377830b81\",\"type\":\"BasicTicker\"}},\"id\":\"ad6b562a-d83c-4e03-a8b3-b0f3fdbf68ff\",\"type\":\"Grid\"},{\"attributes\":{},\"id\":\"777e7705-56bf-45e9-8979-02c377830b81\",\"type\":\"BasicTicker\"},{\"attributes\":{},\"id\":\"031d2994-fe56-40e4-adcc-a915f6aa175f\",\"type\":\"BasicTicker\"},{\"attributes\":{\"bottom\":{\"field\":\"bottom\"},\"fill_alpha\":{\"value\":0.2},\"fill_color\":{\"value\":\"#1f77b4\"},\"left\":{\"field\":\"left\"},\"line_alpha\":{\"value\":0.2},\"line_color\":{\"value\":\"#1f77b4\"},\"right\":{\"field\":\"right\"},\"top\":{\"field\":\"top\"}},\"id\":\"a914a7e4-167a-4b28-8d8a-2c621bb213ef\",\"type\":\"Quad\"},{\"attributes\":{\"line_color\":{\"value\":\"#1f77b4\"},\"x\":{\"field\":\"x\"},\"y\":{\"field\":\"y\"}},\"id\":\"1dbf911a-6d0b-4f81-bb9f-5ebdb6a881b9\",\"type\":\"Line\"},{\"attributes\":{\"active_drag\":\"auto\",\"active_scroll\":\"auto\",\"active_tap\":\"auto\",\"tools\":[{\"id\":\"eff05a78-5a48-437b-91a5-dcc15ee33002\",\"type\":\"PanTool\"},{\"id\":\"505b9fee-427f-4435-9775-ea7dc4788245\",\"type\":\"WheelZoomTool\"},{\"id\":\"8bb03044-bc61-4aa3-b37d-755afe588af7\",\"type\":\"BoxZoomTool\"},{\"id\":\"7f07cf5c-937b-4510-8229-ab92b054f563\",\"type\":\"SaveTool\"},{\"id\":\"51300bf6-6e98-4829-9b73-728bf05856f7\",\"type\":\"ResetTool\"},{\"id\":\"dddb8fae-6508-460a-95a4-ef4109bde28d\",\"type\":\"HelpTool\"}]},\"id\":\"a466e7c7-86ab-4559-ad53-c94c57ebee59\",\"type\":\"Toolbar\"},{\"attributes\":{\"axis_label\":\"Accuracy\",\"formatter\":{\"id\":\"5ddd7506-9998-4787-8a7c-5ebe0ead0f2b\",\"type\":\"BasicTickFormatter\"},\"plot\":{\"id\":\"79dab072-9e7e-4d38-91f8-ed2c3d492721\",\"subtype\":\"Figure\",\"type\":\"Plot\"},\"ticker\":{\"id\":\"777e7705-56bf-45e9-8979-02c377830b81\",\"type\":\"BasicTicker\"}},\"id\":\"06d55b02-8a10-47c8-90e1-28975d4723b2\",\"type\":\"LinearAxis\"},{\"attributes\":{\"callback\":null,\"column_names\":[\"left\",\"right\",\"top\",\"bottom\"],\"data\":{\"bottom\":{\"__ndarray__\":\"BGDyMdyP7D+6+iWAUeLsP2jVMRRn+uw/3gtxXW377D8gUruS+s7sP63oZa3uuew/AGBWx7+/7D82fuF6p8DsP+hbJUI2M+0/6FslQjYz7T8/D/m5lwntP+hbJUI2M+0/Dubq1qc87T8+MwJY7NzsPz4zAljs3Ow/nV+IexQQ7T9wzCcE4wPtPxAWCrfUHe0/XUMAcG0d7T88r3YK4jftP8FkgOuPZe0/Zut6wWY57T9m63rBZjntPy4MjBoxSO0/51xMDoUc7T+Pdx85+yntP4xOaUiGSe0/ACDsWAR47T9B6MPwRIrtP4xOaUiGSe0/ACDsWAR47T8AIOxYBHjtPwAg7FgEeO0/QejD8ESK7T+QOQ9PF7XtP0How/BEiu0/QejD8ESK7T8pWffvgp/tP0How/BEiu0/QejD8ESK7T9B6MPwRIrtP0How/BEiu0/QejD8ESK7T9B6MPwRIrtP3SLVgAFX+0/dItWAAVf7T90i1YABV/tP3SLVgAFX+0/Qh48L7Zz7T9CHjwvtnPtPw==\",\"dtype\":\"float64\",\"shape\":[50]},\"left\":{\"__ndarray__\":\"AAAAAAAAREAAAAAAAABGQAAAAAAAwElAAAAAAACATUAAAAAAAKBQQAAAAAAAgFJAAAAAAABgVEAAAAAAAEBWQAAAAAAAIFhAAAAAAAAAWkAAAAAAAABcQAAAAAAA4F1AAAAAAADAX0AAAAAAANBgQAAAAAAAwGFAAAAAAACwYkAAAAAAAKBjQAAAAAAAkGRAAAAAAACAZUAAAAAAAHBmQAAAAAAAYGdAAAAAAABQaEAAAAAAAEBpQAAAAAAAMGpAAAAAAAAga0AAAAAAABBsQAAAAAAAAG1AAAAAAADwbUAAAAAAAOBuQAAAAAAA0G9AAAAAAABgcEAAAAAAANhwQAAAAAAAUHFAAAAAAADIcUAAAAAAAEByQAAAAAAAuHJAAAAAAAAwc0AAAAAAAKhzQAAAAAAAIHRAAAAAAACYdEAAAAAAABB1QAAAAAAAiHVAAAAAAAAAdkAAAAAAAHh2QAAAAAAA8HZAAAAAAABod0AAAAAAAOB3QAAAAAAAWHhAAAAAAADQeEAAAAAAAFB5QA==\",\"dtype\":\"float64\",\"shape\":[50]},\"right\":{\"__ndarray__\":\"AAAAAAAARkAAAAAAAMBJQAAAAAAAgE1AAAAAAACgUEAAAAAAAIBSQAAAAAAAYFRAAAAAAABAVkAAAAAAACBYQAAAAAAAAFpAAAAAAAAAXEAAAAAAAOBdQAAAAAAAwF9AAAAAAADQYEAAAAAAAMBhQAAAAAAAsGJAAAAAAACgY0AAAAAAAJBkQAAAAAAAgGVAAAAAAABwZkAAAAAAAGBnQAAAAAAAUGhAAAAAAABAaUAAAAAAADBqQAAAAAAAIGtAAAAAAAAQbEAAAAAAAABtQAAAAAAA8G1AAAAAAADgbkAAAAAAANBvQAAAAAAAYHBAAAAAAADYcEAAAAAAAFBxQAAAAAAAyHFAAAAAAABAckAAAAAAALhyQAAAAAAAMHNAAAAAAACoc0AAAAAAACB0QAAAAAAAmHRAAAAAAAAQdUAAAAAAAIh1QAAAAAAAAHZAAAAAAAB4dkAAAAAAAPB2QAAAAAAAaHdAAAAAAADgd0AAAAAAAFh4QAAAAAAA0HhAAAAAAABQeUAAAAAAAJB5QA==\",\"dtype\":\"float64\",\"shape\":[50]},\"top\":{\"__ndarray__\":\"ooSs+nnO7j92Pj4a2J7uP0KZIzMrq+4/QlN6ie+q7j+GkuOZW4/uP3/GR9L+f+4/LJSyxcud7j9wZr2xrp3uP8RXixL6le4/xFeLEvqV7j9rX1yN+pvuP8RXixL6le4/ohIhiyaw7j9ugK78Q+zuP26ArvxD7O4/iYkZhoTd7j8854hQTcXuP5AIifcs9O4/zS9YrGcX7z/uw+ER8/zuP2tTMz7j8u4/xEKCTdDX7j/EQoJN0NfuP3ZXYqFu7e4/yZu/U0nQ7j+btt3VO+fuP5BKdiCCEO8/HL5OHaIF7z/fOtKS/xbvP5BKdiCCEO8/HL5OHaIF7z8cvk4dogXvPxy+Th2iBe8/3zrSkv8W7z8MZNPuMzTvP9860pL/Fu8/3zrSkv8W7z9x/49AKibvP9860pL/Fu8/3zrSkv8W7z/fOtKS/xbvP9860pL/Fu8/3zrSkv8W7z/fOtKS/xbvP6yXP4M/Qu8/rJc/gz9C7z+slz+DP0LvP6yXP4M/Qu8/WDpLAfdR7z9YOksB91HvPw==\",\"dtype\":\"float64\",\"shape\":[50]}}},\"id\":\"6b805e18-4c9c-4027-be52-8c9917683c87\",\"type\":\"ColumnDataSource\"},{\"attributes\":{\"data_source\":{\"id\":\"f194852a-eae3-4f4c-aaad-30425bc22539\",\"type\":\"ColumnDataSource\"},\"glyph\":{\"id\":\"a914a7e4-167a-4b28-8d8a-2c621bb213ef\",\"type\":\"Quad\"},\"hover_glyph\":null,\"muted_glyph\":null,\"nonselection_glyph\":{\"id\":\"cb5212d0-f2d2-4e03-9ea7-1416e55788bb\",\"type\":\"Quad\"},\"selection_glyph\":null},\"id\":\"497452b7-1de4-4090-a6fa-374ad5ec2709\",\"type\":\"GlyphRenderer\"},{\"attributes\":{\"bottom_units\":\"screen\",\"fill_alpha\":{\"value\":0.5},\"fill_color\":{\"value\":\"lightgrey\"},\"left_units\":\"screen\",\"level\":\"overlay\",\"line_alpha\":{\"value\":1.0},\"line_color\":{\"value\":\"black\"},\"line_dash\":[4,4],\"line_width\":{\"value\":2},\"plot\":null,\"render_mode\":\"css\",\"right_units\":\"screen\",\"top_units\":\"screen\"},\"id\":\"f57c432a-7a68-4811-a9a1-286969bd8ef4\",\"type\":\"BoxAnnotation\"},{\"attributes\":{\"callback\":null,\"column_names\":[\"x\",\"y\"],\"data\":{\"x\":[40,48,55,63,70,78,85,93,100,108,116,123,131,138,146,153,161,168,176,183,191,198,206,213,221,228,236,243,251,258,266,273,281,288,296,303,311,318,326,333,341,348,356,363,371,378,386,393,401,409],\"y\":{\"__ndarray__\":\"U3JPFiuv7T+YHDLNlMDtP1W3qiPJ0u0/kK91cy7T7T9Tck8WK6/tP5bX1r/2nO0/FnqExsWu7T9Tck8WK6/tP9ZZWCqY5O0/1llYKpjk7T9Vt6ojydLtP9ZZWCqY5O0/WPwFMWf27T/WWVgqmOTtP9ZZWCqY5O0/k/TQgMz27T/WWVgqmOTtP1CPSdcACe4/lTksjmoa7j+VOSyOahruPxbc2ZQ5LO4/FZd+h5sI7j8Vl36HmwjuP9Ix993PGu4/WPwFMWf27T8Vl36HmwjuP47MbzQELe4/Dm8dO9M+7j+QEctBolDuP47MbzQELe4/Dm8dO9M+7j8Obx070z7uPw5vHTvTPu4/kBHLQaJQ7j/OTvGepXTuP5ARy0GiUO4/kBHLQaJQ7j9NrEOY1mLuP5ARy0GiUO4/kBHLQaJQ7j+QEctBolDuP5ARy0GiUO4/kBHLQaJQ7j+QEctBolDuP5ARy0GiUO4/kBHLQaJQ7j+QEctBolDuP5ARy0GiUO4/TaxDmNZi7j9NrEOY1mLuPw==\",\"dtype\":\"float64\",\"shape\":[50]}}},\"id\":\"4caa479d-d9eb-465e-a264-67eddc9cbe91\",\"type\":\"ColumnDataSource\"},{\"attributes\":{\"bottom\":{\"field\":\"bottom\"},\"fill_alpha\":{\"value\":0.1},\"fill_color\":{\"value\":\"#1f77b4\"},\"left\":{\"field\":\"left\"},\"line_alpha\":{\"value\":0.1},\"line_color\":{\"value\":\"#1f77b4\"},\"right\":{\"field\":\"right\"},\"top\":{\"field\":\"top\"}},\"id\":\"cb5212d0-f2d2-4e03-9ea7-1416e55788bb\",\"type\":\"Quad\"},{\"attributes\":{\"items\":[{\"id\":\"158606d2-7c0e-4440-adb5-b55f19f6f8d6\",\"type\":\"LegendItem\"},{\"id\":\"114a57f3-8e05-423a-8728-007ef9a40f34\",\"type\":\"LegendItem\"}],\"location\":\"bottom_right\",\"plot\":{\"id\":\"79dab072-9e7e-4d38-91f8-ed2c3d492721\",\"subtype\":\"Figure\",\"type\":\"Plot\"}},\"id\":\"ec4d54af-62e9-4b06-b956-edc142df451f\",\"type\":\"Legend\"},{\"attributes\":{\"line_alpha\":{\"value\":0.1},\"line_color\":{\"value\":\"#1f77b4\"},\"x\":{\"field\":\"x\"},\"y\":{\"field\":\"y\"}},\"id\":\"beed75bd-79ed-4e18-a966-65fa2a2fcb9b\",\"type\":\"Line\"},{\"attributes\":{\"label\":{\"value\":\"training accuracy\"},\"renderers\":[{\"id\":\"add460e1-119c-4d06-956c-1375c3eb06f9\",\"type\":\"GlyphRenderer\"}]},\"id\":\"158606d2-7c0e-4440-adb5-b55f19f6f8d6\",\"type\":\"LegendItem\"},{\"attributes\":{\"callback\":null,\"column_names\":[\"x\",\"y\"],\"data\":{\"x\":[40,48,55,63,70,78,85,93,100,108,116,123,131,138,146,153,161,168,176,183,191,198,206,213,221,228,236,243,251,258,266,273,281,288,296,303,311,318,326,333,341,348,356,363,371,378,386,393,401,409],\"y\":{\"__ndarray__\":\"exSuR+F67j8iIiIiIiLuP14+7+XzXu4/vu/7vu/77j8K16NwPQrvP/7qr/7qr+4/y/4xZZjL7j+OnuDoCY7uP0A1XrpJDO4/xd+mGDX87T97GmG5pxHuP8otntziye0/gyVgVi207T/dxhSE/tHtP7jYF5aSi+0//lKo/VKo7T8CTH2+NcvtPwqcwAmcwO0/xlOCPCXI7T/eBUn5h77tP2YYH+S31u0/0kUXXXTR7T8t4hNIJeftP15nAgaP5e0/vgz5vQz57T+KHvZGpejtP21F0HBS9+0/3d3d3d3d7T+emmaPl//tP0h2Xmpk5+0/Rt8cfXP07T/e4A3e4A3uP+OiKk4PHO4/IyIiIiIi7j9T5LNuMEXuPyDA7UPKOe4/oji4+71K7j89MmwQN0/uP/ogGVDPVO4/QOWtFfNT7j9d3t/l/V3uPxIb5iOxYe4/5ptFkwBr7j8Kuo9Dh2fuPx1G/CQMWO4/E+cbaTxx7j89X8U4InPuP7io1fjyc+4//ZkireR97j+DCcQKcoXuPw==\",\"dtype\":\"float64\",\"shape\":[50]}}},\"id\":\"3965cc53-57f7-40fa-9b99-2ef4f58b3d30\",\"type\":\"ColumnDataSource\"},{\"attributes\":{\"plot\":{\"id\":\"79dab072-9e7e-4d38-91f8-ed2c3d492721\",\"subtype\":\"Figure\",\"type\":\"Plot\"},\"ticker\":{\"id\":\"031d2994-fe56-40e4-adcc-a915f6aa175f\",\"type\":\"BasicTicker\"}},\"id\":\"099f8bcf-b2d0-42d2-9e1b-e95ce772a444\",\"type\":\"Grid\"},{\"attributes\":{\"callback\":null,\"start\":0.8},\"id\":\"78a07e44-19b3-4502-bf7a-4f745f0f36b2\",\"type\":\"Range1d\"}],\"root_ids\":[\"79dab072-9e7e-4d38-91f8-ed2c3d492721\"]},\"title\":\"Bokeh Application\",\"version\":\"0.12.6dev1\"}};\n",
       "            var render_items = [{\"docid\":\"20eaca01-e9d3-4572-9b88-7393054a6f4b\",\"elementid\":\"1cb884b0-708a-455c-b081-4dc3089d899e\",\"modelid\":\"79dab072-9e7e-4d38-91f8-ed2c3d492721\"}];\n",
       "            \n",
       "            Bokeh.embed.embed_items(docs_json, render_items);\n",
       "          };\n",
       "          if (document.readyState != \"loading\") fn();\n",
       "          else document.addEventListener(\"DOMContentLoaded\", fn);\n",
       "        })();\n",
       "      },\n",
       "      function(Bokeh) {\n",
       "      }\n",
       "    ];\n",
       "  \n",
       "    function run_inline_js() {\n",
       "      \n",
       "      if ((window.Bokeh !== undefined) || (force === true)) {\n",
       "        for (var i = 0; i < inline_js.length; i++) {\n",
       "          inline_js[i](window.Bokeh);\n",
       "        }if (force === true) {\n",
       "          display_loaded();\n",
       "        }} else if (Date.now() < window._bokeh_timeout) {\n",
       "        setTimeout(run_inline_js, 100);\n",
       "      } else if (!window._bokeh_failed_load) {\n",
       "        console.log(\"Bokeh: BokehJS failed to load within specified timeout.\");\n",
       "        window._bokeh_failed_load = true;\n",
       "      } else if (force !== true) {\n",
       "        var cell = $(document.getElementById(\"1cb884b0-708a-455c-b081-4dc3089d899e\")).parents('.cell').data().cell;\n",
       "        cell.output_area.append_execute_result(NB_LOAD_WARNING)\n",
       "      }\n",
       "  \n",
       "    }\n",
       "  \n",
       "    if (window._bokeh_is_loading === 0) {\n",
       "      console.log(\"Bokeh: BokehJS loaded, going straight to plotting\");\n",
       "      run_inline_js();\n",
       "    } else {\n",
       "      load_libs(js_urls, function() {\n",
       "        console.log(\"Bokeh: BokehJS plotting callback run at\", now());\n",
       "        run_inline_js();\n",
       "      });\n",
       "    }\n",
       "  }(this));\n",
       "</script>"
      ]
     },
     "metadata": {},
     "output_type": "display_data"
    }
   ],
   "source": [
    "p = bokeh.plotting.figure(width=500, height=300,\n",
    "                          x_range=list(train_sizes[[0, -1]]),\n",
    "                          y_range=[.80, 1], \n",
    "                          x_axis_label='Number of training samples',\n",
    "                          y_axis_label='Accuracy')\n",
    "\n",
    "left = train_sizes.astype(np.float)\n",
    "left[1:] -= np.diff(train_sizes)/2\n",
    "right = train_sizes.astype(np.float)\n",
    "right[:-1] += np.diff(train_sizes)/2\n",
    "\n",
    "p.quad(left=left, right=right, \n",
    "       bottom=train_mean-train_std, \n",
    "       top=train_mean+train_std, \n",
    "       alpha=0.2, color=palette[0])\n",
    "p.line(train_sizes, train_mean, color=palette[0], legend='training accuracy')\n",
    "\n",
    "p.quad(left=left, right=right, \n",
    "       bottom=test_mean-test_std, \n",
    "       top=test_mean+test_std, \n",
    "       alpha=0.2, color=palette[1])\n",
    "p.line(train_sizes, test_mean, color=palette[1], line_dash='dashed', legend='x-validation accuracy')\n",
    "\n",
    "p.legend.location = 'bottom_right'\n",
    "\n",
    "bokeh.plotting.show(p)"
   ]
  },
  {
   "cell_type": "markdown",
   "metadata": {},
   "source": [
    "This seems to have reasonable consistency between the training and cross-validation accuracy curves, but we should be able to increase the accuracy by using more of the features.  rather than using the top 2 PCA components, lets now try applying the L2 penalty to our logistic regression and generate a new learning curve."
   ]
  },
  {
   "cell_type": "code",
   "execution_count": 28,
   "metadata": {
    "collapsed": true
   },
   "outputs": [],
   "source": [
    "lr_pipe1 = sklearn.pipeline.Pipeline([\n",
    "    ('scl', sklearn.preprocessing.StandardScaler()),\n",
    "    ('clf', sklearn.linear_model.LogisticRegression(\n",
    "        penalty='l2', random_state=rs)),\n",
    "])"
   ]
  },
  {
   "cell_type": "code",
   "execution_count": 29,
   "metadata": {
    "collapsed": true
   },
   "outputs": [],
   "source": [
    "train_sizes, train_scores, test_scores = sklearn.model_selection.learning_curve(\n",
    "    estimator=lr_pipe1, X=X_train, y=y_train, train_sizes=np.linspace(0.1, 1, 50),\n",
    "    cv=10, n_jobs=-1)"
   ]
  },
  {
   "cell_type": "code",
   "execution_count": 30,
   "metadata": {
    "collapsed": true
   },
   "outputs": [],
   "source": [
    "train_mean = train_scores.mean(axis=1)\n",
    "train_std = train_scores.std(axis=1)\n",
    "\n",
    "test_mean = test_scores.mean(axis=1)\n",
    "test_std = test_scores.std(axis=1)"
   ]
  },
  {
   "cell_type": "code",
   "execution_count": 31,
   "metadata": {
    "collapsed": false
   },
   "outputs": [
    {
     "data": {
      "text/html": [
       "\n",
       "\n",
       "    <div class=\"bk-root\">\n",
       "        <div class=\"bk-plotdiv\" id=\"a38132d4-6832-4041-88ae-78f500601985\"></div>\n",
       "    </div>\n",
       "<script type=\"text/javascript\">\n",
       "  \n",
       "  (function(global) {\n",
       "    function now() {\n",
       "      return new Date();\n",
       "    }\n",
       "  \n",
       "    var force = false;\n",
       "  \n",
       "    if (typeof (window._bokeh_onload_callbacks) === \"undefined\" || force === true) {\n",
       "      window._bokeh_onload_callbacks = [];\n",
       "      window._bokeh_is_loading = undefined;\n",
       "    }\n",
       "  \n",
       "  \n",
       "    \n",
       "    if (typeof (window._bokeh_timeout) === \"undefined\" || force === true) {\n",
       "      window._bokeh_timeout = Date.now() + 0;\n",
       "      window._bokeh_failed_load = false;\n",
       "    }\n",
       "  \n",
       "    var NB_LOAD_WARNING = {'data': {'text/html':\n",
       "       \"<div style='background-color: #fdd'>\\n\"+\n",
       "       \"<p>\\n\"+\n",
       "       \"BokehJS does not appear to have successfully loaded. If loading BokehJS from CDN, this \\n\"+\n",
       "       \"may be due to a slow or bad network connection. Possible fixes:\\n\"+\n",
       "       \"</p>\\n\"+\n",
       "       \"<ul>\\n\"+\n",
       "       \"<li>re-rerun `output_notebook()` to attempt to load from CDN again, or</li>\\n\"+\n",
       "       \"<li>use INLINE resources instead, as so:</li>\\n\"+\n",
       "       \"</ul>\\n\"+\n",
       "       \"<code>\\n\"+\n",
       "       \"from bokeh.resources import INLINE\\n\"+\n",
       "       \"output_notebook(resources=INLINE)\\n\"+\n",
       "       \"</code>\\n\"+\n",
       "       \"</div>\"}};\n",
       "  \n",
       "    function display_loaded() {\n",
       "      if (window.Bokeh !== undefined) {\n",
       "        var el = document.getElementById(\"a38132d4-6832-4041-88ae-78f500601985\");\n",
       "        el.textContent = \"BokehJS \" + Bokeh.version + \" successfully loaded.\";\n",
       "      } else if (Date.now() < window._bokeh_timeout) {\n",
       "        setTimeout(display_loaded, 100)\n",
       "      }\n",
       "    }\n",
       "  \n",
       "    function run_callbacks() {\n",
       "      window._bokeh_onload_callbacks.forEach(function(callback) { callback() });\n",
       "      delete window._bokeh_onload_callbacks\n",
       "      console.info(\"Bokeh: all callbacks have finished\");\n",
       "    }\n",
       "  \n",
       "    function load_libs(js_urls, callback) {\n",
       "      window._bokeh_onload_callbacks.push(callback);\n",
       "      if (window._bokeh_is_loading > 0) {\n",
       "        console.log(\"Bokeh: BokehJS is being loaded, scheduling callback at\", now());\n",
       "        return null;\n",
       "      }\n",
       "      if (js_urls == null || js_urls.length === 0) {\n",
       "        run_callbacks();\n",
       "        return null;\n",
       "      }\n",
       "      console.log(\"Bokeh: BokehJS not loaded, scheduling load and callback at\", now());\n",
       "      window._bokeh_is_loading = js_urls.length;\n",
       "      for (var i = 0; i < js_urls.length; i++) {\n",
       "        var url = js_urls[i];\n",
       "        var s = document.createElement('script');\n",
       "        s.src = url;\n",
       "        s.async = false;\n",
       "        s.onreadystatechange = s.onload = function() {\n",
       "          window._bokeh_is_loading--;\n",
       "          if (window._bokeh_is_loading === 0) {\n",
       "            console.log(\"Bokeh: all BokehJS libraries loaded\");\n",
       "            run_callbacks()\n",
       "          }\n",
       "        };\n",
       "        s.onerror = function() {\n",
       "          console.warn(\"failed to load library \" + url);\n",
       "        };\n",
       "        console.log(\"Bokeh: injecting script tag for BokehJS library: \", url);\n",
       "        document.getElementsByTagName(\"head\")[0].appendChild(s);\n",
       "      }\n",
       "    };var element = document.getElementById(\"a38132d4-6832-4041-88ae-78f500601985\");\n",
       "    if (element == null) {\n",
       "      console.log(\"Bokeh: ERROR: autoload.js configured with elementid 'a38132d4-6832-4041-88ae-78f500601985' but no matching script tag was found. \")\n",
       "      return false;\n",
       "    }\n",
       "  \n",
       "    var js_urls = [];\n",
       "  \n",
       "    var inline_js = [\n",
       "      function(Bokeh) {\n",
       "        (function() {\n",
       "          var fn = function() {\n",
       "            var docs_json = {\"a66dce3b-11e7-46b4-a9f3-96970e034613\":{\"roots\":{\"references\":[{\"attributes\":{\"line_color\":{\"value\":\"#1f77b4\"},\"x\":{\"field\":\"x\"},\"y\":{\"field\":\"y\"}},\"id\":\"3c2f6c70-b23c-432d-8b2e-21563172a096\",\"type\":\"Line\"},{\"attributes\":{\"callback\":null,\"end\":409,\"start\":40},\"id\":\"1f87be17-f733-44f4-ba63-f3d8328cdf10\",\"type\":\"Range1d\"},{\"attributes\":{\"plot\":{\"id\":\"4bf2994a-6620-4546-84d6-e89185025847\",\"subtype\":\"Figure\",\"type\":\"Plot\"}},\"id\":\"66656e2d-8f75-4007-a895-a6a8125de699\",\"type\":\"PanTool\"},{\"attributes\":{\"data_source\":{\"id\":\"ee73d9eb-a1dc-4a3c-b574-1040762c3094\",\"type\":\"ColumnDataSource\"},\"glyph\":{\"id\":\"cf04bcc4-3533-40d8-83ef-720a4570ab66\",\"type\":\"Quad\"},\"hover_glyph\":null,\"muted_glyph\":null,\"nonselection_glyph\":{\"id\":\"ee3cad04-34c0-40c5-89b8-52bd5fe64d0f\",\"type\":\"Quad\"},\"selection_glyph\":null},\"id\":\"fba1b907-de40-4dbe-a637-bb092fd793b9\",\"type\":\"GlyphRenderer\"},{\"attributes\":{\"bottom_units\":\"screen\",\"fill_alpha\":{\"value\":0.5},\"fill_color\":{\"value\":\"lightgrey\"},\"left_units\":\"screen\",\"level\":\"overlay\",\"line_alpha\":{\"value\":1.0},\"line_color\":{\"value\":\"black\"},\"line_dash\":[4,4],\"line_width\":{\"value\":2},\"plot\":null,\"render_mode\":\"css\",\"right_units\":\"screen\",\"top_units\":\"screen\"},\"id\":\"29e8944e-8e16-4f15-8616-5733ab03c8b2\",\"type\":\"BoxAnnotation\"},{\"attributes\":{\"line_color\":{\"value\":\"#ff7f0e\"},\"line_dash\":[6],\"x\":{\"field\":\"x\"},\"y\":{\"field\":\"y\"}},\"id\":\"20fcfcf7-70ce-4b04-90c1-a4aee1dc408d\",\"type\":\"Line\"},{\"attributes\":{\"overlay\":{\"id\":\"29e8944e-8e16-4f15-8616-5733ab03c8b2\",\"type\":\"BoxAnnotation\"},\"plot\":{\"id\":\"4bf2994a-6620-4546-84d6-e89185025847\",\"subtype\":\"Figure\",\"type\":\"Plot\"}},\"id\":\"2aa1785b-4536-4784-bea3-e31719ed20fa\",\"type\":\"BoxZoomTool\"},{\"attributes\":{\"bottom\":{\"field\":\"bottom\"},\"fill_alpha\":{\"value\":0.1},\"fill_color\":{\"value\":\"#1f77b4\"},\"left\":{\"field\":\"left\"},\"line_alpha\":{\"value\":0.1},\"line_color\":{\"value\":\"#1f77b4\"},\"right\":{\"field\":\"right\"},\"top\":{\"field\":\"top\"}},\"id\":\"ee3cad04-34c0-40c5-89b8-52bd5fe64d0f\",\"type\":\"Quad\"},{\"attributes\":{\"plot\":{\"id\":\"4bf2994a-6620-4546-84d6-e89185025847\",\"subtype\":\"Figure\",\"type\":\"Plot\"}},\"id\":\"d46ede1d-2b51-4d33-8836-94277ca51829\",\"type\":\"WheelZoomTool\"},{\"attributes\":{\"plot\":{\"id\":\"4bf2994a-6620-4546-84d6-e89185025847\",\"subtype\":\"Figure\",\"type\":\"Plot\"}},\"id\":\"059676ce-f0c6-4aa8-8114-5c179a6a25c2\",\"type\":\"SaveTool\"},{\"attributes\":{\"plot\":{\"id\":\"4bf2994a-6620-4546-84d6-e89185025847\",\"subtype\":\"Figure\",\"type\":\"Plot\"}},\"id\":\"5dd8fae3-3f37-4228-a3d5-6bee2b5ddf00\",\"type\":\"ResetTool\"},{\"attributes\":{},\"id\":\"728058b9-03c0-4ed1-afa5-e706722470ac\",\"type\":\"BasicTickFormatter\"},{\"attributes\":{\"items\":[{\"id\":\"cf3c6d00-0620-4466-a62c-e14d140a89d6\",\"type\":\"LegendItem\"},{\"id\":\"1173e940-fcb4-40a6-bf15-c41bc94eeaf0\",\"type\":\"LegendItem\"}],\"location\":\"bottom_right\",\"plot\":{\"id\":\"4bf2994a-6620-4546-84d6-e89185025847\",\"subtype\":\"Figure\",\"type\":\"Plot\"}},\"id\":\"0c39062f-3011-456c-9bef-b8f9289581ba\",\"type\":\"Legend\"},{\"attributes\":{\"data_source\":{\"id\":\"10509b72-6e50-4e4d-bd6b-7b7c4d143557\",\"type\":\"ColumnDataSource\"},\"glyph\":{\"id\":\"3c2f6c70-b23c-432d-8b2e-21563172a096\",\"type\":\"Line\"},\"hover_glyph\":null,\"muted_glyph\":null,\"nonselection_glyph\":{\"id\":\"71f16853-0687-4852-929a-372a60075987\",\"type\":\"Line\"},\"selection_glyph\":null},\"id\":\"11838513-541c-48a6-b68e-30e197aa48ea\",\"type\":\"GlyphRenderer\"},{\"attributes\":{\"bottom\":{\"field\":\"bottom\"},\"fill_alpha\":{\"value\":0.2},\"fill_color\":{\"value\":\"#ff7f0e\"},\"left\":{\"field\":\"left\"},\"line_alpha\":{\"value\":0.2},\"line_color\":{\"value\":\"#ff7f0e\"},\"right\":{\"field\":\"right\"},\"top\":{\"field\":\"top\"}},\"id\":\"4dbd215e-50b7-4db0-afb5-84d710c5ed37\",\"type\":\"Quad\"},{\"attributes\":{\"label\":{\"value\":\"training accuracy\"},\"renderers\":[{\"id\":\"11838513-541c-48a6-b68e-30e197aa48ea\",\"type\":\"GlyphRenderer\"}]},\"id\":\"cf3c6d00-0620-4466-a62c-e14d140a89d6\",\"type\":\"LegendItem\"},{\"attributes\":{\"data_source\":{\"id\":\"9326566a-a2d3-4aa7-98e8-1b88ca842e95\",\"type\":\"ColumnDataSource\"},\"glyph\":{\"id\":\"4dbd215e-50b7-4db0-afb5-84d710c5ed37\",\"type\":\"Quad\"},\"hover_glyph\":null,\"muted_glyph\":null,\"nonselection_glyph\":{\"id\":\"a1045cb0-1f56-4220-bfc5-212cf97de148\",\"type\":\"Quad\"},\"selection_glyph\":null},\"id\":\"26a55530-aebd-4704-b1be-615868c33344\",\"type\":\"GlyphRenderer\"},{\"attributes\":{\"plot\":{\"id\":\"4bf2994a-6620-4546-84d6-e89185025847\",\"subtype\":\"Figure\",\"type\":\"Plot\"}},\"id\":\"d1e9a5b7-bf6f-48be-80fc-749c798f5c3c\",\"type\":\"HelpTool\"},{\"attributes\":{\"callback\":null,\"column_names\":[\"left\",\"right\",\"top\",\"bottom\"],\"data\":{\"bottom\":{\"__ndarray__\":\"kzCW52k67T9GiM7O4yruPyFVcewJG+4/IVVx7Akb7j+RzKdFcCjuP2TuCoexc+4/kKMHoAVN7j+xZaBdu03uP/7ylCnQTu4/CZsvzyVf7j/F320l1CvuP3jbbnLBOu4/eNtucsE67j9vPcevOnXuPy38WaLbou4/4/kVLR+77j+j8kLqRZDuP2txTQInd+4/bi3FqxLe7j+/mZSOqbnuP7+ZlI6pue4/jbIHu8yf7j+Nsge7zJ/uP42yB7vMn+4/v5mUjqm57j9tqiLYPqHuP22qItg+oe4/3owqFjG77j/ejCoWMbvuP+P5FS0fu+4/4/kVLR+77j/8KDPaGeDuP/woM9oZ4O4/kFvBdOy/7j/8KDPaGeDuPwsPzlFs2u4/Cw/OUWza7j97FieG7rzuP4oZV+bkjO4/ehYnhu687j96FieG7rzuP3oWJ4buvO4/Cw/OUWza7j8LD85RbNruPwsPzlFs2u4/Cw/OUWza7j8LD85RbNruP3Pk+Gsep+4/c+T4ax6n7j9z5PhrHqfuPw==\",\"dtype\":\"float64\",\"shape\":[50]},\"left\":{\"__ndarray__\":\"AAAAAAAAREAAAAAAAABGQAAAAAAAwElAAAAAAACATUAAAAAAAKBQQAAAAAAAgFJAAAAAAABgVEAAAAAAAEBWQAAAAAAAIFhAAAAAAAAAWkAAAAAAAABcQAAAAAAA4F1AAAAAAADAX0AAAAAAANBgQAAAAAAAwGFAAAAAAACwYkAAAAAAAKBjQAAAAAAAkGRAAAAAAACAZUAAAAAAAHBmQAAAAAAAYGdAAAAAAABQaEAAAAAAAEBpQAAAAAAAMGpAAAAAAAAga0AAAAAAABBsQAAAAAAAAG1AAAAAAADwbUAAAAAAAOBuQAAAAAAA0G9AAAAAAABgcEAAAAAAANhwQAAAAAAAUHFAAAAAAADIcUAAAAAAAEByQAAAAAAAuHJAAAAAAAAwc0AAAAAAAKhzQAAAAAAAIHRAAAAAAACYdEAAAAAAABB1QAAAAAAAiHVAAAAAAAAAdkAAAAAAAHh2QAAAAAAA8HZAAAAAAABod0AAAAAAAOB3QAAAAAAAWHhAAAAAAADQeEAAAAAAAFB5QA==\",\"dtype\":\"float64\",\"shape\":[50]},\"right\":{\"__ndarray__\":\"AAAAAAAARkAAAAAAAMBJQAAAAAAAgE1AAAAAAACgUEAAAAAAAIBSQAAAAAAAYFRAAAAAAABAVkAAAAAAACBYQAAAAAAAAFpAAAAAAAAAXEAAAAAAAOBdQAAAAAAAwF9AAAAAAADQYEAAAAAAAMBhQAAAAAAAsGJAAAAAAACgY0AAAAAAAJBkQAAAAAAAgGVAAAAAAABwZkAAAAAAAGBnQAAAAAAAUGhAAAAAAABAaUAAAAAAADBqQAAAAAAAIGtAAAAAAAAQbEAAAAAAAABtQAAAAAAA8G1AAAAAAADgbkAAAAAAANBvQAAAAAAAYHBAAAAAAADYcEAAAAAAAFBxQAAAAAAAyHFAAAAAAABAckAAAAAAALhyQAAAAAAAMHNAAAAAAACoc0AAAAAAACB0QAAAAAAAmHRAAAAAAAAQdUAAAAAAAIh1QAAAAAAAAHZAAAAAAAB4dkAAAAAAAPB2QAAAAAAAaHdAAAAAAADgd0AAAAAAAFh4QAAAAAAA0HhAAAAAAABQeUAAAAAAAJB5QA==\",\"dtype\":\"float64\",\"shape\":[50]},\"top\":{\"__ndarray__\":\"jfL/m9pm7z/KhPmde5bvP3WCZdPsge8/dYJl0+yB7z+TpE/197rvPzz9OG69t+8/DAPhR8u67z/71WUwRHHvPyI5BwT6cO8/HdbHa0KE7z9bB9P6V3DvP67a49VEzO8/rtrj1UTM7z+7AkKzB9nvP3d5oG3Pz+8/N2x6gla47z93c03FL+PvPzW/UQDm1+8/ssKBHp/c7z/l22WBAbnvP+XbZYEBue8/E36XR0Cv7z8TfpdHQK/vPxN+l0dAr+8/5dtlgQG57z8zQSEdMIrvPzNBIR0wiu8/PJQKjKaU7z88lAqMppTvPzdseoJWuO8/N2x6gla47z8QqD8vLdzvPxCoPy8t3O8/BEDA5/HX7z8QqD8vLdzvPwF9Sao8vu8/AX1Jqjy+7z+RMJVoHLjvP3zoCfuHxO8/kDCVaBy47z+QMJVoHLjvP5AwlWgcuO8/AX1Jqjy+7z8BfUmqPL7vPwF9Sao8vu8/AX1Jqjy+7z8BfUmqPL7vPw1TWSK3zu8/DVNZIrfO7z8NU1kit87vPw==\",\"dtype\":\"float64\",\"shape\":[50]}}},\"id\":\"9326566a-a2d3-4aa7-98e8-1b88ca842e95\",\"type\":\"ColumnDataSource\"},{\"attributes\":{\"plot\":null,\"text\":\"\"},\"id\":\"7d2b39af-9f6d-4851-8948-6c5b9ca53540\",\"type\":\"Title\"},{\"attributes\":{\"callback\":null,\"column_names\":[\"x\",\"y\"],\"data\":{\"x\":[40,48,55,63,70,78,85,93,100,108,116,123,131,138,146,153,161,168,176,183,191,198,206,213,221,228,236,243,251,258,266,273,281,288,296,303,311,318,326,333,341,348,356,363,371,378,386,393,401,409],\"y\":{\"__ndarray__\":\"kBHLQaJQ7j+IBmS2r+DuP8tr6197zu4/y2vrX3vO7j+SuHsdtPHuP9D1oXq3Fe8/TlP0c+gD7z/WHQPHf9/uPxAWzhbl3+4/k7h7HbTx7j+QcyAQFs7uPxNbKSSDA+8/E1spJIMD7z8VoIQxISfvP9I6/YdVOe8/DTPI17o57z8NM8jXujnvP1CYT4GGJ+8/EHgj5Vhd7z/SOv2HVTnvP9I6/YdVOe8/UJhPgYYn7z9QmE+BhifvP1CYT4GGJ+8/0jr9h1U57z/Q9aF6txXvP9D1oXq3Fe8/jZAa0esn7z+NkBrR6yfvPw0zyNe6Oe8/DTPI17o57z+GaLmEI17vP4ZouYQjXu8/ys1ALu9L7z+GaLmEI17vPwbGC35UTO8/BsYLflRM7z+GI153hTrvPwOBsHC2KO8/hSNed4U67z+FI153hTrvP4UjXneFOu8/BsYLflRM7z8Gxgt+VEzvPwbGC35UTO8/BsYLflRM7z8Gxgt+VEzvP8AbKcfqOu8/wBspx+o67z/AGynH6jrvPw==\",\"dtype\":\"float64\",\"shape\":[50]}}},\"id\":\"170fbd31-7bd7-42be-a4c7-c46922a8b813\",\"type\":\"ColumnDataSource\"},{\"attributes\":{\"below\":[{\"id\":\"dbe45741-a27b-46de-bd72-de68814fb0dd\",\"type\":\"LinearAxis\"}],\"left\":[{\"id\":\"019e870c-53ce-4298-8b7c-2cb3f5d04dfb\",\"type\":\"LinearAxis\"}],\"plot_height\":300,\"plot_width\":500,\"renderers\":[{\"id\":\"dbe45741-a27b-46de-bd72-de68814fb0dd\",\"type\":\"LinearAxis\"},{\"id\":\"3cf2402f-8eee-47f6-8095-62b46b9eb752\",\"type\":\"Grid\"},{\"id\":\"019e870c-53ce-4298-8b7c-2cb3f5d04dfb\",\"type\":\"LinearAxis\"},{\"id\":\"4f981c98-b0f3-4c04-b837-2771ceafa536\",\"type\":\"Grid\"},{\"id\":\"29e8944e-8e16-4f15-8616-5733ab03c8b2\",\"type\":\"BoxAnnotation\"},{\"id\":\"fba1b907-de40-4dbe-a637-bb092fd793b9\",\"type\":\"GlyphRenderer\"},{\"id\":\"0c39062f-3011-456c-9bef-b8f9289581ba\",\"type\":\"Legend\"},{\"id\":\"11838513-541c-48a6-b68e-30e197aa48ea\",\"type\":\"GlyphRenderer\"},{\"id\":\"26a55530-aebd-4704-b1be-615868c33344\",\"type\":\"GlyphRenderer\"},{\"id\":\"13793baa-0979-40d9-9d7d-12fd128b1766\",\"type\":\"GlyphRenderer\"}],\"title\":{\"id\":\"7d2b39af-9f6d-4851-8948-6c5b9ca53540\",\"type\":\"Title\"},\"tool_events\":{\"id\":\"f57906cf-1b7e-494f-bd4b-4be8fe0785e1\",\"type\":\"ToolEvents\"},\"toolbar\":{\"id\":\"de03e7e3-7f1b-447c-9581-cf2f53c8d938\",\"type\":\"Toolbar\"},\"x_range\":{\"id\":\"1f87be17-f733-44f4-ba63-f3d8328cdf10\",\"type\":\"Range1d\"},\"y_range\":{\"id\":\"d52b6681-746c-4dcd-88b3-1f0ef82a7f76\",\"type\":\"Range1d\"}},\"id\":\"4bf2994a-6620-4546-84d6-e89185025847\",\"subtype\":\"Figure\",\"type\":\"Plot\"},{\"attributes\":{\"line_alpha\":{\"value\":0.1},\"line_color\":{\"value\":\"#1f77b4\"},\"x\":{\"field\":\"x\"},\"y\":{\"field\":\"y\"}},\"id\":\"71f16853-0687-4852-929a-372a60075987\",\"type\":\"Line\"},{\"attributes\":{\"callback\":null,\"column_names\":[\"left\",\"right\",\"top\",\"bottom\"],\"data\":{\"bottom\":{\"__ndarray__\":\"CNejcD0K7z8zMzMzMzPvP00/1PRDTe8/QPZjP/Zj7z8HxKbSkHPvPyD4gR/4ge8/jb/yJVmM7z+Wv2T5S5bvP1tkO99Pje8/XHlAss6V7z8c8PjDAY/vP6QfLPrBou8/xHgF7vGb7z/8R7cxBaHvP2T6J4M5pu8/AFWq/1Sq7z/UlLxDD5DvPx77sR/7se8/mZmZmZmZ7z+XNCxWhJ3vP8A3kFKkoe8/T/qkT/qk7z8bRSc7g6jvP48XbkZjq+8/YHOuX3Ou7z/h55lwYqjvP4JZkMNaq+8/R1A9Yxev7z8G9/OMq7HvPx/X+uhxre8/YfvrUxa27z8g+7Ef+7HvP1iiqWEIuu8/chzHcRzH7z+BO/0RC7jvP3LL5KK0ue8/MvAfioO77z8y8WmVkK3vP2XT0dyPqu8/rq/mEWmr7z+pP5j6g6nvPwrw4Z2Hp+8/Ope0kYSp7z9uyAVBRbPvP0oGEY6or+8/Eb/9biWx7z81p9jOx7LvP0+PBPGerO8/fpoux0iu7z/iRJISdqzvPw==\",\"dtype\":\"float64\",\"shape\":[50]},\"left\":{\"__ndarray__\":\"AAAAAAAAREAAAAAAAABGQAAAAAAAwElAAAAAAACATUAAAAAAAKBQQAAAAAAAgFJAAAAAAABgVEAAAAAAAEBWQAAAAAAAIFhAAAAAAAAAWkAAAAAAAABcQAAAAAAA4F1AAAAAAADAX0AAAAAAANBgQAAAAAAAwGFAAAAAAACwYkAAAAAAAKBjQAAAAAAAkGRAAAAAAACAZUAAAAAAAHBmQAAAAAAAYGdAAAAAAABQaEAAAAAAAEBpQAAAAAAAMGpAAAAAAAAga0AAAAAAABBsQAAAAAAAAG1AAAAAAADwbUAAAAAAAOBuQAAAAAAA0G9AAAAAAABgcEAAAAAAANhwQAAAAAAAUHFAAAAAAADIcUAAAAAAAEByQAAAAAAAuHJAAAAAAAAwc0AAAAAAAKhzQAAAAAAAIHRAAAAAAACYdEAAAAAAABB1QAAAAAAAiHVAAAAAAAAAdkAAAAAAAHh2QAAAAAAA8HZAAAAAAABod0AAAAAAAOB3QAAAAAAAWHhAAAAAAADQeEAAAAAAAFB5QA==\",\"dtype\":\"float64\",\"shape\":[50]},\"right\":{\"__ndarray__\":\"AAAAAAAARkAAAAAAAMBJQAAAAAAAgE1AAAAAAACgUEAAAAAAAIBSQAAAAAAAYFRAAAAAAABAVkAAAAAAACBYQAAAAAAAAFpAAAAAAAAAXEAAAAAAAOBdQAAAAAAAwF9AAAAAAADQYEAAAAAAAMBhQAAAAAAAsGJAAAAAAACgY0AAAAAAAJBkQAAAAAAAgGVAAAAAAABwZkAAAAAAAGBnQAAAAAAAUGhAAAAAAABAaUAAAAAAADBqQAAAAAAAIGtAAAAAAAAQbEAAAAAAAABtQAAAAAAA8G1AAAAAAADgbkAAAAAAANBvQAAAAAAAYHBAAAAAAADYcEAAAAAAAFBxQAAAAAAAyHFAAAAAAABAckAAAAAAALhyQAAAAAAAMHNAAAAAAACoc0AAAAAAACB0QAAAAAAAmHRAAAAAAAAQdUAAAAAAAIh1QAAAAAAAAHZAAAAAAAB4dkAAAAAAAPB2QAAAAAAAaHdAAAAAAADgd0AAAAAAAFh4QAAAAAAA0HhAAAAAAABQeUAAAAAAAJB5QA==\",\"dtype\":\"float64\",\"shape\":[50]},\"top\":{\"__ndarray__\":\"hOtRuB6F7z+ZmZmZmZnvP6cfavqhpu8/IPuxH/ux7z8DYlNpyLnvPxD8wA/8wO8/x1/5kizG7z/KX7L8JcvvP1k5tMh2vu8/NPxtilHD7z8OePzhgMfvP8x/q/y3yu8/YrwC9/jN7z/+o9uYgtDvPzL9k8Ec0+8/gCrVfyrV7z/8dUnlw7jvP4792I/92O8/vWHtG9a+7z8DUNY2VMHvPwZSijT0w+8/G+ULpxPG7z8p5ruCU8jvP4s9AOcnyu8/4BrM3xrM7z+Vj90GFc/vP1JfzYi90O8/NfxtilHD7z9E+bapQMXvP4tt/LTYxu8/ifzwvpDI7z+g/Mmf/MnvP8I5P0mGy+8/chzHcRzH7z/jPHQML87vPyh52atVz+8/1EOMJJbQ7z/4E2Z5Bb3vP0EBxHC3yO8/aEdT9efF7z+9v8v7u7zvPxxalM8ave8/PIOFpZu+7z8etPWez8DvP6zFNbNwx+8/iTjR1XzI7z/Povxdo8nvP3trwzR3we8/3vNilbbC7z9YVrZZVcfvPw==\",\"dtype\":\"float64\",\"shape\":[50]}}},\"id\":\"ee73d9eb-a1dc-4a3c-b574-1040762c3094\",\"type\":\"ColumnDataSource\"},{\"attributes\":{\"bottom\":{\"field\":\"bottom\"},\"fill_alpha\":{\"value\":0.1},\"fill_color\":{\"value\":\"#1f77b4\"},\"left\":{\"field\":\"left\"},\"line_alpha\":{\"value\":0.1},\"line_color\":{\"value\":\"#1f77b4\"},\"right\":{\"field\":\"right\"},\"top\":{\"field\":\"top\"}},\"id\":\"a1045cb0-1f56-4220-bfc5-212cf97de148\",\"type\":\"Quad\"},{\"attributes\":{\"bottom\":{\"field\":\"bottom\"},\"fill_alpha\":{\"value\":0.2},\"fill_color\":{\"value\":\"#1f77b4\"},\"left\":{\"field\":\"left\"},\"line_alpha\":{\"value\":0.2},\"line_color\":{\"value\":\"#1f77b4\"},\"right\":{\"field\":\"right\"},\"top\":{\"field\":\"top\"}},\"id\":\"cf04bcc4-3533-40d8-83ef-720a4570ab66\",\"type\":\"Quad\"},{\"attributes\":{},\"id\":\"90ecacda-541b-4e1a-8fa5-4c8c4a276fa9\",\"type\":\"BasicTicker\"},{\"attributes\":{\"line_alpha\":{\"value\":0.1},\"line_color\":{\"value\":\"#1f77b4\"},\"line_dash\":[6],\"x\":{\"field\":\"x\"},\"y\":{\"field\":\"y\"}},\"id\":\"27e46462-decd-40a8-a58f-ad8891136d23\",\"type\":\"Line\"},{\"attributes\":{},\"id\":\"f57906cf-1b7e-494f-bd4b-4be8fe0785e1\",\"type\":\"ToolEvents\"},{\"attributes\":{\"active_drag\":\"auto\",\"active_scroll\":\"auto\",\"active_tap\":\"auto\",\"tools\":[{\"id\":\"66656e2d-8f75-4007-a895-a6a8125de699\",\"type\":\"PanTool\"},{\"id\":\"d46ede1d-2b51-4d33-8836-94277ca51829\",\"type\":\"WheelZoomTool\"},{\"id\":\"2aa1785b-4536-4784-bea3-e31719ed20fa\",\"type\":\"BoxZoomTool\"},{\"id\":\"059676ce-f0c6-4aa8-8114-5c179a6a25c2\",\"type\":\"SaveTool\"},{\"id\":\"5dd8fae3-3f37-4228-a3d5-6bee2b5ddf00\",\"type\":\"ResetTool\"},{\"id\":\"d1e9a5b7-bf6f-48be-80fc-749c798f5c3c\",\"type\":\"HelpTool\"}]},\"id\":\"de03e7e3-7f1b-447c-9581-cf2f53c8d938\",\"type\":\"Toolbar\"},{\"attributes\":{\"axis_label\":\"Accuracy\",\"formatter\":{\"id\":\"2df3e180-5aff-4a4c-ab5a-f8e4f79b1caf\",\"type\":\"BasicTickFormatter\"},\"plot\":{\"id\":\"4bf2994a-6620-4546-84d6-e89185025847\",\"subtype\":\"Figure\",\"type\":\"Plot\"},\"ticker\":{\"id\":\"f70d1047-f3a4-4ab0-93af-d27a5bd5fe89\",\"type\":\"BasicTicker\"}},\"id\":\"019e870c-53ce-4298-8b7c-2cb3f5d04dfb\",\"type\":\"LinearAxis\"},{\"attributes\":{\"plot\":{\"id\":\"4bf2994a-6620-4546-84d6-e89185025847\",\"subtype\":\"Figure\",\"type\":\"Plot\"},\"ticker\":{\"id\":\"90ecacda-541b-4e1a-8fa5-4c8c4a276fa9\",\"type\":\"BasicTicker\"}},\"id\":\"3cf2402f-8eee-47f6-8095-62b46b9eb752\",\"type\":\"Grid\"},{\"attributes\":{\"callback\":null,\"start\":0.8},\"id\":\"d52b6681-746c-4dcd-88b3-1f0ef82a7f76\",\"type\":\"Range1d\"},{\"attributes\":{\"label\":{\"value\":\"validation accuracy\"},\"renderers\":[{\"id\":\"13793baa-0979-40d9-9d7d-12fd128b1766\",\"type\":\"GlyphRenderer\"}]},\"id\":\"1173e940-fcb4-40a6-bf15-c41bc94eeaf0\",\"type\":\"LegendItem\"},{\"attributes\":{\"dimension\":1,\"plot\":{\"id\":\"4bf2994a-6620-4546-84d6-e89185025847\",\"subtype\":\"Figure\",\"type\":\"Plot\"},\"ticker\":{\"id\":\"f70d1047-f3a4-4ab0-93af-d27a5bd5fe89\",\"type\":\"BasicTicker\"}},\"id\":\"4f981c98-b0f3-4c04-b837-2771ceafa536\",\"type\":\"Grid\"},{\"attributes\":{\"data_source\":{\"id\":\"170fbd31-7bd7-42be-a4c7-c46922a8b813\",\"type\":\"ColumnDataSource\"},\"glyph\":{\"id\":\"20fcfcf7-70ce-4b04-90c1-a4aee1dc408d\",\"type\":\"Line\"},\"hover_glyph\":null,\"muted_glyph\":null,\"nonselection_glyph\":{\"id\":\"27e46462-decd-40a8-a58f-ad8891136d23\",\"type\":\"Line\"},\"selection_glyph\":null},\"id\":\"13793baa-0979-40d9-9d7d-12fd128b1766\",\"type\":\"GlyphRenderer\"},{\"attributes\":{},\"id\":\"f70d1047-f3a4-4ab0-93af-d27a5bd5fe89\",\"type\":\"BasicTicker\"},{\"attributes\":{\"callback\":null,\"column_names\":[\"x\",\"y\"],\"data\":{\"x\":[40,48,55,63,70,78,85,93,100,108,116,123,131,138,146,153,161,168,176,183,191,198,206,213,221,228,236,243,251,258,266,273,281,288,296,303,311,318,326,333,341,348,356,363,371,378,386,393,401,409],\"y\":{\"__ndarray__\":\"RuF6FK5H7z9mZmZmZmbvP3ovn/fyee8/sPiKr/iK7z8FE/2drJbvPxh6oRd6oe8/qg923EKp7z+wjwv7uLDvP9rO91Pjpe8/yDpXHpCs7z8VtPpSQavvP7jPa/u8tu8/kxqEcvW07z/9dUnlw7jvP8v7XSKrvO8/wL+/v7+/7z9oBYOUaaTvP1Z8xVd8xe8/q33D2jes7z9NQoFGbK/vP+NEjUPMsu8/tW9Y+4a17z+ilfFea7jvP40qt5bFuu8/IEe9H0e97z+7u7u7u7vvP2rcLiYMvu8/PqbVdjS57z8leFUbdrvvP1Wi+04luu8/9XtuiVO/7z/g+73f+73vPw1udFXHwu8/chzHcRzH7z8yvDgPHcPvP00iXyeFxO8/AxpW1wzG7z+VAmgHS7XvP1Pqyqajue8/i/ucg6i47z+z/zH7H7PvPxMluzZRsu8/Ow2dGxC07z9Gvv1vCrrvP/tlo6CMu+8/zXtnItG87z8CpWqWNb7vP2X94xILt+8/LsdIrn+47z+dTSS25bnvPw==\",\"dtype\":\"float64\",\"shape\":[50]}}},\"id\":\"10509b72-6e50-4e4d-bd6b-7b7c4d143557\",\"type\":\"ColumnDataSource\"},{\"attributes\":{\"axis_label\":\"Number of training samples\",\"formatter\":{\"id\":\"728058b9-03c0-4ed1-afa5-e706722470ac\",\"type\":\"BasicTickFormatter\"},\"plot\":{\"id\":\"4bf2994a-6620-4546-84d6-e89185025847\",\"subtype\":\"Figure\",\"type\":\"Plot\"},\"ticker\":{\"id\":\"90ecacda-541b-4e1a-8fa5-4c8c4a276fa9\",\"type\":\"BasicTicker\"}},\"id\":\"dbe45741-a27b-46de-bd72-de68814fb0dd\",\"type\":\"LinearAxis\"},{\"attributes\":{},\"id\":\"2df3e180-5aff-4a4c-ab5a-f8e4f79b1caf\",\"type\":\"BasicTickFormatter\"}],\"root_ids\":[\"4bf2994a-6620-4546-84d6-e89185025847\"]},\"title\":\"Bokeh Application\",\"version\":\"0.12.6dev1\"}};\n",
       "            var render_items = [{\"docid\":\"a66dce3b-11e7-46b4-a9f3-96970e034613\",\"elementid\":\"a38132d4-6832-4041-88ae-78f500601985\",\"modelid\":\"4bf2994a-6620-4546-84d6-e89185025847\"}];\n",
       "            \n",
       "            Bokeh.embed.embed_items(docs_json, render_items);\n",
       "          };\n",
       "          if (document.readyState != \"loading\") fn();\n",
       "          else document.addEventListener(\"DOMContentLoaded\", fn);\n",
       "        })();\n",
       "      },\n",
       "      function(Bokeh) {\n",
       "      }\n",
       "    ];\n",
       "  \n",
       "    function run_inline_js() {\n",
       "      \n",
       "      if ((window.Bokeh !== undefined) || (force === true)) {\n",
       "        for (var i = 0; i < inline_js.length; i++) {\n",
       "          inline_js[i](window.Bokeh);\n",
       "        }if (force === true) {\n",
       "          display_loaded();\n",
       "        }} else if (Date.now() < window._bokeh_timeout) {\n",
       "        setTimeout(run_inline_js, 100);\n",
       "      } else if (!window._bokeh_failed_load) {\n",
       "        console.log(\"Bokeh: BokehJS failed to load within specified timeout.\");\n",
       "        window._bokeh_failed_load = true;\n",
       "      } else if (force !== true) {\n",
       "        var cell = $(document.getElementById(\"a38132d4-6832-4041-88ae-78f500601985\")).parents('.cell').data().cell;\n",
       "        cell.output_area.append_execute_result(NB_LOAD_WARNING)\n",
       "      }\n",
       "  \n",
       "    }\n",
       "  \n",
       "    if (window._bokeh_is_loading === 0) {\n",
       "      console.log(\"Bokeh: BokehJS loaded, going straight to plotting\");\n",
       "      run_inline_js();\n",
       "    } else {\n",
       "      load_libs(js_urls, function() {\n",
       "        console.log(\"Bokeh: BokehJS plotting callback run at\", now());\n",
       "        run_inline_js();\n",
       "      });\n",
       "    }\n",
       "  }(this));\n",
       "</script>"
      ]
     },
     "metadata": {},
     "output_type": "display_data"
    }
   ],
   "source": [
    "p = bokeh.plotting.figure(width=500, height=300,\n",
    "                          x_range=list(train_sizes[[0, -1]]),\n",
    "                          y_range=[.80, 1], \n",
    "                          x_axis_label='Number of training samples',\n",
    "                          y_axis_label='Accuracy')\n",
    "\n",
    "left = train_sizes.astype(np.float)\n",
    "left[1:] -= np.diff(train_sizes)/2\n",
    "right = train_sizes.astype(np.float)\n",
    "right[:-1] += np.diff(train_sizes)/2\n",
    "\n",
    "p.quad(left=left, right=right, \n",
    "       bottom=train_mean-train_std, \n",
    "       top=train_mean+train_std, \n",
    "       alpha=0.2, color=palette[0])\n",
    "p.line(train_sizes, train_mean, color=palette[0], legend='training accuracy')\n",
    "\n",
    "p.quad(left=left, right=right, \n",
    "       bottom=test_mean-test_std, \n",
    "       top=test_mean+test_std, \n",
    "       alpha=0.2, color=palette[1])\n",
    "p.line(train_sizes, test_mean, color=palette[1], line_dash='dashed', legend='validation accuracy')\n",
    "\n",
    "p.legend.location = 'bottom_right'\n",
    "\n",
    "bokeh.plotting.show(p)"
   ]
  },
  {
   "cell_type": "markdown",
   "metadata": {},
   "source": [
    "# Validation Curves\n",
    "\n",
    "Now lets analyze the accuracy as we vary the model parameters.  For the logistic regression, lets vary the inverse regularization parameter, C (`clf__C`), first for the 2-component PCA pipeline, then for the pipeline applying the L2 penalty."
   ]
  },
  {
   "cell_type": "code",
   "execution_count": 38,
   "metadata": {
    "collapsed": false
   },
   "outputs": [],
   "source": [
    "n_points = 15\n",
    "param_range = np.logspace(-3, 2, n_points)\n",
    "train_scores, test_scores = sklearn.model_selection.validation_curve(\n",
    "    estimator=lr_pipe0, X=X_train, y=y_train, param_name='clf__C', param_range=param_range,\n",
    "    cv=10, n_jobs=-1)"
   ]
  },
  {
   "cell_type": "code",
   "execution_count": 39,
   "metadata": {
    "collapsed": true
   },
   "outputs": [],
   "source": [
    "train_mean = train_scores.mean(axis=1)\n",
    "train_std = train_scores.std(axis=1)\n",
    "\n",
    "test_mean = test_scores.mean(axis=1)\n",
    "test_std = test_scores.std(axis=1)"
   ]
  },
  {
   "cell_type": "code",
   "execution_count": 40,
   "metadata": {
    "collapsed": false
   },
   "outputs": [
    {
     "data": {
      "text/html": [
       "\n",
       "\n",
       "    <div class=\"bk-root\">\n",
       "        <div class=\"bk-plotdiv\" id=\"b94f9b45-8f81-4250-903b-da36dee41485\"></div>\n",
       "    </div>\n",
       "<script type=\"text/javascript\">\n",
       "  \n",
       "  (function(global) {\n",
       "    function now() {\n",
       "      return new Date();\n",
       "    }\n",
       "  \n",
       "    var force = false;\n",
       "  \n",
       "    if (typeof (window._bokeh_onload_callbacks) === \"undefined\" || force === true) {\n",
       "      window._bokeh_onload_callbacks = [];\n",
       "      window._bokeh_is_loading = undefined;\n",
       "    }\n",
       "  \n",
       "  \n",
       "    \n",
       "    if (typeof (window._bokeh_timeout) === \"undefined\" || force === true) {\n",
       "      window._bokeh_timeout = Date.now() + 0;\n",
       "      window._bokeh_failed_load = false;\n",
       "    }\n",
       "  \n",
       "    var NB_LOAD_WARNING = {'data': {'text/html':\n",
       "       \"<div style='background-color: #fdd'>\\n\"+\n",
       "       \"<p>\\n\"+\n",
       "       \"BokehJS does not appear to have successfully loaded. If loading BokehJS from CDN, this \\n\"+\n",
       "       \"may be due to a slow or bad network connection. Possible fixes:\\n\"+\n",
       "       \"</p>\\n\"+\n",
       "       \"<ul>\\n\"+\n",
       "       \"<li>re-rerun `output_notebook()` to attempt to load from CDN again, or</li>\\n\"+\n",
       "       \"<li>use INLINE resources instead, as so:</li>\\n\"+\n",
       "       \"</ul>\\n\"+\n",
       "       \"<code>\\n\"+\n",
       "       \"from bokeh.resources import INLINE\\n\"+\n",
       "       \"output_notebook(resources=INLINE)\\n\"+\n",
       "       \"</code>\\n\"+\n",
       "       \"</div>\"}};\n",
       "  \n",
       "    function display_loaded() {\n",
       "      if (window.Bokeh !== undefined) {\n",
       "        var el = document.getElementById(\"b94f9b45-8f81-4250-903b-da36dee41485\");\n",
       "        el.textContent = \"BokehJS \" + Bokeh.version + \" successfully loaded.\";\n",
       "      } else if (Date.now() < window._bokeh_timeout) {\n",
       "        setTimeout(display_loaded, 100)\n",
       "      }\n",
       "    }\n",
       "  \n",
       "    function run_callbacks() {\n",
       "      window._bokeh_onload_callbacks.forEach(function(callback) { callback() });\n",
       "      delete window._bokeh_onload_callbacks\n",
       "      console.info(\"Bokeh: all callbacks have finished\");\n",
       "    }\n",
       "  \n",
       "    function load_libs(js_urls, callback) {\n",
       "      window._bokeh_onload_callbacks.push(callback);\n",
       "      if (window._bokeh_is_loading > 0) {\n",
       "        console.log(\"Bokeh: BokehJS is being loaded, scheduling callback at\", now());\n",
       "        return null;\n",
       "      }\n",
       "      if (js_urls == null || js_urls.length === 0) {\n",
       "        run_callbacks();\n",
       "        return null;\n",
       "      }\n",
       "      console.log(\"Bokeh: BokehJS not loaded, scheduling load and callback at\", now());\n",
       "      window._bokeh_is_loading = js_urls.length;\n",
       "      for (var i = 0; i < js_urls.length; i++) {\n",
       "        var url = js_urls[i];\n",
       "        var s = document.createElement('script');\n",
       "        s.src = url;\n",
       "        s.async = false;\n",
       "        s.onreadystatechange = s.onload = function() {\n",
       "          window._bokeh_is_loading--;\n",
       "          if (window._bokeh_is_loading === 0) {\n",
       "            console.log(\"Bokeh: all BokehJS libraries loaded\");\n",
       "            run_callbacks()\n",
       "          }\n",
       "        };\n",
       "        s.onerror = function() {\n",
       "          console.warn(\"failed to load library \" + url);\n",
       "        };\n",
       "        console.log(\"Bokeh: injecting script tag for BokehJS library: \", url);\n",
       "        document.getElementsByTagName(\"head\")[0].appendChild(s);\n",
       "      }\n",
       "    };var element = document.getElementById(\"b94f9b45-8f81-4250-903b-da36dee41485\");\n",
       "    if (element == null) {\n",
       "      console.log(\"Bokeh: ERROR: autoload.js configured with elementid 'b94f9b45-8f81-4250-903b-da36dee41485' but no matching script tag was found. \")\n",
       "      return false;\n",
       "    }\n",
       "  \n",
       "    var js_urls = [];\n",
       "  \n",
       "    var inline_js = [\n",
       "      function(Bokeh) {\n",
       "        (function() {\n",
       "          var fn = function() {\n",
       "            var docs_json = {\"58e1d229-049a-4c3a-a356-3658eecd4f9c\":{\"roots\":{\"references\":[{\"attributes\":{},\"id\":\"797bce6e-195d-4abc-a679-a9c154677663\",\"type\":\"BasicTickFormatter\"},{\"attributes\":{\"axis_label\":\"Parameter C\",\"formatter\":{\"id\":\"dc478e7e-a042-42b9-b870-ba4126ec6c9c\",\"type\":\"LogTickFormatter\"},\"plot\":{\"id\":\"c3539a52-58e7-4703-861a-fdc53c424838\",\"subtype\":\"Figure\",\"type\":\"Plot\"},\"ticker\":{\"id\":\"c62e19dd-432f-42d0-a782-3a0261ce5135\",\"type\":\"LogTicker\"}},\"id\":\"9c103b33-810b-4adb-8c90-041adbd39e75\",\"type\":\"LogAxis\"},{\"attributes\":{\"line_alpha\":{\"value\":0.1},\"line_color\":{\"value\":\"#1f77b4\"},\"x\":{\"field\":\"x\"},\"y\":{\"field\":\"y\"}},\"id\":\"1a6d1e5f-c316-48b2-b38e-ae65e17fa9d9\",\"type\":\"Line\"},{\"attributes\":{\"label\":{\"value\":\"validation accuracy\"},\"renderers\":[{\"id\":\"06a9b95e-808b-4817-a44d-45413d7bf9d8\",\"type\":\"GlyphRenderer\"}]},\"id\":\"516f5b8f-8c89-46f4-ac27-6f13ed057962\",\"type\":\"LegendItem\"},{\"attributes\":{\"label\":{\"value\":\"training accuracy\"},\"renderers\":[{\"id\":\"f3365362-47d3-4a7a-8a26-0feea464f0e3\",\"type\":\"GlyphRenderer\"}]},\"id\":\"4d3ac363-5cf1-4003-888f-c32c0b5faa2b\",\"type\":\"LegendItem\"},{\"attributes\":{\"bottom\":{\"field\":\"bottom\"},\"fill_alpha\":{\"value\":0.1},\"fill_color\":{\"value\":\"#1f77b4\"},\"left\":{\"field\":\"left\"},\"line_alpha\":{\"value\":0.1},\"line_color\":{\"value\":\"#1f77b4\"},\"right\":{\"field\":\"right\"},\"top\":{\"field\":\"top\"}},\"id\":\"57e38598-f274-4e24-9ce2-95cc6a661833\",\"type\":\"Quad\"},{\"attributes\":{\"data_source\":{\"id\":\"103e76d4-21cb-4126-972f-c0207c4478be\",\"type\":\"ColumnDataSource\"},\"glyph\":{\"id\":\"5a25d839-ff9f-4940-ba54-a1e77ae0bb9c\",\"type\":\"Line\"},\"hover_glyph\":null,\"muted_glyph\":null,\"nonselection_glyph\":{\"id\":\"da18febe-bfef-4617-b5b1-00183423787e\",\"type\":\"Line\"},\"selection_glyph\":null},\"id\":\"06a9b95e-808b-4817-a44d-45413d7bf9d8\",\"type\":\"GlyphRenderer\"},{\"attributes\":{\"plot\":{\"id\":\"c3539a52-58e7-4703-861a-fdc53c424838\",\"subtype\":\"Figure\",\"type\":\"Plot\"}},\"id\":\"4a466249-4ee0-46a5-b347-f926ad220876\",\"type\":\"PanTool\"},{\"attributes\":{\"below\":[{\"id\":\"9c103b33-810b-4adb-8c90-041adbd39e75\",\"type\":\"LogAxis\"}],\"left\":[{\"id\":\"47551777-3da6-4f74-90a0-e72067674c0c\",\"type\":\"LinearAxis\"}],\"plot_height\":300,\"plot_width\":500,\"renderers\":[{\"id\":\"9c103b33-810b-4adb-8c90-041adbd39e75\",\"type\":\"LogAxis\"},{\"id\":\"5e05debb-588d-4e93-b963-553c47ea39bd\",\"type\":\"Grid\"},{\"id\":\"47551777-3da6-4f74-90a0-e72067674c0c\",\"type\":\"LinearAxis\"},{\"id\":\"fdf79324-963e-4e98-a912-15942ebadf8a\",\"type\":\"Grid\"},{\"id\":\"d40e9376-e3ec-40ed-847d-6dfe2613e8d2\",\"type\":\"BoxAnnotation\"},{\"id\":\"db2da474-c23e-411a-ad47-a9173b6898ad\",\"type\":\"GlyphRenderer\"},{\"id\":\"6e679995-b3a7-4aed-b503-9fe84098bf77\",\"type\":\"Legend\"},{\"id\":\"f3365362-47d3-4a7a-8a26-0feea464f0e3\",\"type\":\"GlyphRenderer\"},{\"id\":\"d8dd06c9-5489-4c78-b246-429fc4a06096\",\"type\":\"GlyphRenderer\"},{\"id\":\"06a9b95e-808b-4817-a44d-45413d7bf9d8\",\"type\":\"GlyphRenderer\"}],\"title\":{\"id\":\"7e4f0221-d64a-41a2-818a-d2fa1d0f2cd9\",\"type\":\"Title\"},\"tool_events\":{\"id\":\"18a20c7a-bcb6-4416-9b71-d00c8e7b8029\",\"type\":\"ToolEvents\"},\"toolbar\":{\"id\":\"34c78792-4143-414c-81c0-328426408fdf\",\"type\":\"Toolbar\"},\"x_mapper_type\":\"log\",\"x_range\":{\"id\":\"74b0d797-b664-4cf3-b976-3fd0eb814b34\",\"type\":\"Range1d\"},\"y_range\":{\"id\":\"d533ee28-fa2d-4005-b60b-5db35fe8da63\",\"type\":\"Range1d\"}},\"id\":\"c3539a52-58e7-4703-861a-fdc53c424838\",\"subtype\":\"Figure\",\"type\":\"Plot\"},{\"attributes\":{\"ticker\":null},\"id\":\"dc478e7e-a042-42b9-b870-ba4126ec6c9c\",\"type\":\"LogTickFormatter\"},{\"attributes\":{},\"id\":\"18a20c7a-bcb6-4416-9b71-d00c8e7b8029\",\"type\":\"ToolEvents\"},{\"attributes\":{\"bottom\":{\"field\":\"bottom\"},\"fill_alpha\":{\"value\":0.1},\"fill_color\":{\"value\":\"#1f77b4\"},\"left\":{\"field\":\"left\"},\"line_alpha\":{\"value\":0.1},\"line_color\":{\"value\":\"#1f77b4\"},\"right\":{\"field\":\"right\"},\"top\":{\"field\":\"top\"}},\"id\":\"e61e0602-ba48-49f8-b7a0-88a3892fea4c\",\"type\":\"Quad\"},{\"attributes\":{\"plot\":null,\"text\":\"\"},\"id\":\"7e4f0221-d64a-41a2-818a-d2fa1d0f2cd9\",\"type\":\"Title\"},{\"attributes\":{\"items\":[{\"id\":\"4d3ac363-5cf1-4003-888f-c32c0b5faa2b\",\"type\":\"LegendItem\"},{\"id\":\"516f5b8f-8c89-46f4-ac27-6f13ed057962\",\"type\":\"LegendItem\"}],\"location\":\"bottom_right\",\"plot\":{\"id\":\"c3539a52-58e7-4703-861a-fdc53c424838\",\"subtype\":\"Figure\",\"type\":\"Plot\"}},\"id\":\"6e679995-b3a7-4aed-b503-9fe84098bf77\",\"type\":\"Legend\"},{\"attributes\":{\"num_minor_ticks\":10},\"id\":\"c62e19dd-432f-42d0-a782-3a0261ce5135\",\"type\":\"LogTicker\"},{\"attributes\":{\"axis_label\":\"Accuracy\",\"formatter\":{\"id\":\"797bce6e-195d-4abc-a679-a9c154677663\",\"type\":\"BasicTickFormatter\"},\"plot\":{\"id\":\"c3539a52-58e7-4703-861a-fdc53c424838\",\"subtype\":\"Figure\",\"type\":\"Plot\"},\"ticker\":{\"id\":\"fd7e33af-e4da-4b44-8af3-52ef58ce6e1e\",\"type\":\"BasicTicker\"}},\"id\":\"47551777-3da6-4f74-90a0-e72067674c0c\",\"type\":\"LinearAxis\"},{\"attributes\":{\"plot\":{\"id\":\"c3539a52-58e7-4703-861a-fdc53c424838\",\"subtype\":\"Figure\",\"type\":\"Plot\"}},\"id\":\"0f1afbb0-7a43-4033-88e1-7781b3eee5a4\",\"type\":\"WheelZoomTool\"},{\"attributes\":{\"plot\":{\"id\":\"c3539a52-58e7-4703-861a-fdc53c424838\",\"subtype\":\"Figure\",\"type\":\"Plot\"},\"ticker\":{\"id\":\"c62e19dd-432f-42d0-a782-3a0261ce5135\",\"type\":\"LogTicker\"}},\"id\":\"5e05debb-588d-4e93-b963-553c47ea39bd\",\"type\":\"Grid\"},{\"attributes\":{\"data_source\":{\"id\":\"f3c4a863-710b-4f47-b3a4-28e8e9b1ee40\",\"type\":\"ColumnDataSource\"},\"glyph\":{\"id\":\"d78e3dc1-02f1-4dad-9930-1104b6226c24\",\"type\":\"Quad\"},\"hover_glyph\":null,\"muted_glyph\":null,\"nonselection_glyph\":{\"id\":\"e61e0602-ba48-49f8-b7a0-88a3892fea4c\",\"type\":\"Quad\"},\"selection_glyph\":null},\"id\":\"db2da474-c23e-411a-ad47-a9173b6898ad\",\"type\":\"GlyphRenderer\"},{\"attributes\":{\"callback\":null,\"column_names\":[\"left\",\"right\",\"top\",\"bottom\"],\"data\":{\"bottom\":{\"__ndarray__\":\"sw8d5xQG7j/oWZYGmhPuP/htXCwfNu4/eKXif6Qz7j+CFer82jTuPwI/hyZHKu4/GbTv1iQ67j+jR2w+jUPuP/VqqOFxT+4/eQRFlE9Y7j994CNAjV3uP33gI0CNXe4/feAjQI1d7j994CNAjV3uP+QzVbisXe4/\",\"dtype\":\"float64\",\"shape\":[15]},\"left\":{\"__ndarray__\":\"/Knx0k1iUD8ns9Bj8tVaP7BP5WJ4iW4/Od/e5tZfgT9ALtZ0TMWTP8Vq/DJef6Y/uQJHkbeZuT8RbfAIoCHNP0UbYfgZk+A/jA31k1Lc8j/U4AxWQnYFQCYZ7ioLbBhA+qu9EFjKK0DeWB5Ok58/QGiRfhES/lFA\",\"dtype\":\"float64\",\"shape\":[15]},\"right\":{\"__ndarray__\":\"J7PQY/LVWj+wT+VieIluPznf3ubWX4E/QC7WdEzFkz/GavwyXn+mP7kCR5G3mbk/EW3wCKAhzT9FG2H4GZPgP4wN9ZNS3PI/1OAMVkJ2BUAmGe4qC2wYQPqrvRBYyitA3lgeTpOfP0BokX4REv5RQAAAAAAAAFlA\",\"dtype\":\"float64\",\"shape\":[15]},\"top\":{\"__ndarray__\":\"84rhNrQt7j/4XMgZLTzuP6h5g/qrWe4/noZeqi907j8Oa3gwA4fuPz5pmgSRge4/k9LC17eR7j99HdfzU6juP4HCG1N0sO4/LYXfoZiz7j8/z9B2W7buPz/P0HZbtu4/P8/Qdlu27j8/z9B2W7buP/CxL389uu4/\",\"dtype\":\"float64\",\"shape\":[15]}}},\"id\":\"f3c4a863-710b-4f47-b3a4-28e8e9b1ee40\",\"type\":\"ColumnDataSource\"},{\"attributes\":{\"callback\":null,\"start\":0.8},\"id\":\"d533ee28-fa2d-4005-b60b-5db35fe8da63\",\"type\":\"Range1d\"},{\"attributes\":{\"line_alpha\":{\"value\":0.1},\"line_color\":{\"value\":\"#1f77b4\"},\"line_dash\":[6],\"x\":{\"field\":\"x\"},\"y\":{\"field\":\"y\"}},\"id\":\"da18febe-bfef-4617-b5b1-00183423787e\",\"type\":\"Line\"},{\"attributes\":{\"overlay\":{\"id\":\"d40e9376-e3ec-40ed-847d-6dfe2613e8d2\",\"type\":\"BoxAnnotation\"},\"plot\":{\"id\":\"c3539a52-58e7-4703-861a-fdc53c424838\",\"subtype\":\"Figure\",\"type\":\"Plot\"}},\"id\":\"4f2e8e98-ccd9-4555-9d85-ba5eb4b061c6\",\"type\":\"BoxZoomTool\"},{\"attributes\":{\"bottom_units\":\"screen\",\"fill_alpha\":{\"value\":0.5},\"fill_color\":{\"value\":\"lightgrey\"},\"left_units\":\"screen\",\"level\":\"overlay\",\"line_alpha\":{\"value\":1.0},\"line_color\":{\"value\":\"black\"},\"line_dash\":[4,4],\"line_width\":{\"value\":2},\"plot\":null,\"render_mode\":\"css\",\"right_units\":\"screen\",\"top_units\":\"screen\"},\"id\":\"d40e9376-e3ec-40ed-847d-6dfe2613e8d2\",\"type\":\"BoxAnnotation\"},{\"attributes\":{\"dimension\":1,\"plot\":{\"id\":\"c3539a52-58e7-4703-861a-fdc53c424838\",\"subtype\":\"Figure\",\"type\":\"Plot\"},\"ticker\":{\"id\":\"fd7e33af-e4da-4b44-8af3-52ef58ce6e1e\",\"type\":\"BasicTicker\"}},\"id\":\"fdf79324-963e-4e98-a912-15942ebadf8a\",\"type\":\"Grid\"},{\"attributes\":{\"line_color\":{\"value\":\"#ff7f0e\"},\"line_dash\":[6],\"x\":{\"field\":\"x\"},\"y\":{\"field\":\"y\"}},\"id\":\"5a25d839-ff9f-4940-ba54-a1e77ae0bb9c\",\"type\":\"Line\"},{\"attributes\":{\"callback\":null,\"column_names\":[\"left\",\"right\",\"top\",\"bottom\"],\"data\":{\"bottom\":{\"__ndarray__\":\"hhMorR547T+GEyitHnjtP6K/NPqwSO0/QejD8ESK7T8fvwqgSjrtP0How/BEiu0/CCnx8CR87T9DpjW1MaXtP0OmNbUxpe0/Qh48L7Zz7T9CHjwvtnPtP3SLVgAFX+0/dItWAAVf7T90i1YABV/tP3SLVgAFX+0/\",\"dtype\":\"float64\",\"shape\":[15]},\"left\":{\"__ndarray__\":\"/Knx0k1iUD8ns9Bj8tVaP7BP5WJ4iW4/Od/e5tZfgT9ALtZ0TMWTP8Vq/DJef6Y/uQJHkbeZuT8RbfAIoCHNP0UbYfgZk+A/jA31k1Lc8j/U4AxWQnYFQCYZ7ioLbBhA+qu9EFjKK0DeWB5Ok58/QGiRfhES/lFA\",\"dtype\":\"float64\",\"shape\":[15]},\"right\":{\"__ndarray__\":\"J7PQY/LVWj+wT+VieIluPznf3ubWX4E/QC7WdEzFkz/GavwyXn+mP7kCR5G3mbk/EW3wCKAhzT9FG2H4GZPgP4wN9ZNS3PI/1OAMVkJ2BUAmGe4qC2wYQPqrvRBYyitA3lgeTpOfP0BokX4REv5RQAAAAAAAAFlA\",\"dtype\":\"float64\",\"shape\":[15]},\"top\":{\"__ndarray__\":\"loW3u+nh7j+Whbe76eHuP3iUT2G57e4/3zrSkv8W7z+F6T4p8x7vP9860pL/Fu8/juo6Muol7z9Z96yIGUTvP1n3rIgZRO8/WDpLAfdR7z9YOksB91HvP6yXP4M/Qu8/rJc/gz9C7z+slz+DP0LvP6yXP4M/Qu8/\",\"dtype\":\"float64\",\"shape\":[15]}}},\"id\":\"36902e32-7536-4c0b-905f-7195e5ff08cf\",\"type\":\"ColumnDataSource\"},{\"attributes\":{\"callback\":null,\"column_names\":[\"x\",\"y\"],\"data\":{\"x\":{\"__ndarray__\":\"/Knx0k1iUD8p3ld6y6RiP5xguaUSN3U/JA7heiQkiD9t1TushnibP9Tq2g95Qq8/BEhQTRnJwT8PSUhiEz3UPwMSnj+qB+c/FhIbCNA0+j+eOAyoHNINQP8K6wCE9yBAeyZIEJZOM0CgRfpFSPhFQAAAAAAAAFlA\",\"dtype\":\"float64\",\"shape\":[15]},\"y\":{\"__ndarray__\":\"jsxvNAQt7j+OzG80BC3uPw0qwi01G+4/kBHLQaJQ7j9S1KTknizuP5ARy0GiUO4/ywmWkQdR7j/OTvGepXTuP85O8Z6ldO4/TaxDmNZi7j9NrEOY1mLuP5ARy0GiUO4/kBHLQaJQ7j+QEctBolDuP5ARy0GiUO4/\",\"dtype\":\"float64\",\"shape\":[15]}}},\"id\":\"103e76d4-21cb-4126-972f-c0207c4478be\",\"type\":\"ColumnDataSource\"},{\"attributes\":{\"bottom\":{\"field\":\"bottom\"},\"fill_alpha\":{\"value\":0.2},\"fill_color\":{\"value\":\"#1f77b4\"},\"left\":{\"field\":\"left\"},\"line_alpha\":{\"value\":0.2},\"line_color\":{\"value\":\"#1f77b4\"},\"right\":{\"field\":\"right\"},\"top\":{\"field\":\"top\"}},\"id\":\"d78e3dc1-02f1-4dad-9930-1104b6226c24\",\"type\":\"Quad\"},{\"attributes\":{\"data_source\":{\"id\":\"36902e32-7536-4c0b-905f-7195e5ff08cf\",\"type\":\"ColumnDataSource\"},\"glyph\":{\"id\":\"82ee5833-eadc-43e1-ae9a-e4d423dc782c\",\"type\":\"Quad\"},\"hover_glyph\":null,\"muted_glyph\":null,\"nonselection_glyph\":{\"id\":\"57e38598-f274-4e24-9ce2-95cc6a661833\",\"type\":\"Quad\"},\"selection_glyph\":null},\"id\":\"d8dd06c9-5489-4c78-b246-429fc4a06096\",\"type\":\"GlyphRenderer\"},{\"attributes\":{\"plot\":{\"id\":\"c3539a52-58e7-4703-861a-fdc53c424838\",\"subtype\":\"Figure\",\"type\":\"Plot\"}},\"id\":\"b08e6cb3-5516-4483-9887-d948b92d2607\",\"type\":\"SaveTool\"},{\"attributes\":{\"callback\":null,\"end\":100.0,\"start\":0.001},\"id\":\"74b0d797-b664-4cf3-b976-3fd0eb814b34\",\"type\":\"Range1d\"},{\"attributes\":{\"plot\":{\"id\":\"c3539a52-58e7-4703-861a-fdc53c424838\",\"subtype\":\"Figure\",\"type\":\"Plot\"}},\"id\":\"1ff55794-ab77-48ee-9fa5-9b7b721d37cd\",\"type\":\"HelpTool\"},{\"attributes\":{\"line_color\":{\"value\":\"#1f77b4\"},\"x\":{\"field\":\"x\"},\"y\":{\"field\":\"y\"}},\"id\":\"ac96a180-cf2f-45a1-ae50-5a6ecc28c081\",\"type\":\"Line\"},{\"attributes\":{},\"id\":\"fd7e33af-e4da-4b44-8af3-52ef58ce6e1e\",\"type\":\"BasicTicker\"},{\"attributes\":{\"data_source\":{\"id\":\"3c96fea2-e57a-442a-a15b-c01afe0c650f\",\"type\":\"ColumnDataSource\"},\"glyph\":{\"id\":\"ac96a180-cf2f-45a1-ae50-5a6ecc28c081\",\"type\":\"Line\"},\"hover_glyph\":null,\"muted_glyph\":null,\"nonselection_glyph\":{\"id\":\"1a6d1e5f-c316-48b2-b38e-ae65e17fa9d9\",\"type\":\"Line\"},\"selection_glyph\":null},\"id\":\"f3365362-47d3-4a7a-8a26-0feea464f0e3\",\"type\":\"GlyphRenderer\"},{\"attributes\":{\"plot\":{\"id\":\"c3539a52-58e7-4703-861a-fdc53c424838\",\"subtype\":\"Figure\",\"type\":\"Plot\"}},\"id\":\"5625b120-65ab-4104-ac26-e417e3e2acc9\",\"type\":\"ResetTool\"},{\"attributes\":{\"callback\":null,\"column_names\":[\"x\",\"y\"],\"data\":{\"x\":{\"__ndarray__\":\"/Knx0k1iUD8p3ld6y6RiP5xguaUSN3U/JA7heiQkiD9t1TushnibP9Tq2g95Qq8/BEhQTRnJwT8PSUhiEz3UPwMSnj+qB+c/FhIbCNA0+j+eOAyoHNINQP8K6wCE9yBAeyZIEJZOM0CgRfpFSPhFQAAAAAAAAFlA\",\"dtype\":\"float64\",\"shape\":[15]},\"y\":{\"__ndarray__\":\"U03/juQZ7j9wWy+Q4yfuP9Dzb5PlR+4/C5YgFepT7j9IQLEW713uPyDUkBXsVe4/VkNZV+5l7j+QsiGZ8HXuP7sWYhrzf+4/00QSG/SF7j/eV3pb9InuP95Xelv0ie4/3ld6W/SJ7j/eV3pb9InuP+pywhv1i+4/\",\"dtype\":\"float64\",\"shape\":[15]}}},\"id\":\"3c96fea2-e57a-442a-a15b-c01afe0c650f\",\"type\":\"ColumnDataSource\"},{\"attributes\":{\"bottom\":{\"field\":\"bottom\"},\"fill_alpha\":{\"value\":0.2},\"fill_color\":{\"value\":\"#ff7f0e\"},\"left\":{\"field\":\"left\"},\"line_alpha\":{\"value\":0.2},\"line_color\":{\"value\":\"#ff7f0e\"},\"right\":{\"field\":\"right\"},\"top\":{\"field\":\"top\"}},\"id\":\"82ee5833-eadc-43e1-ae9a-e4d423dc782c\",\"type\":\"Quad\"},{\"attributes\":{\"active_drag\":\"auto\",\"active_scroll\":\"auto\",\"active_tap\":\"auto\",\"tools\":[{\"id\":\"4a466249-4ee0-46a5-b347-f926ad220876\",\"type\":\"PanTool\"},{\"id\":\"0f1afbb0-7a43-4033-88e1-7781b3eee5a4\",\"type\":\"WheelZoomTool\"},{\"id\":\"4f2e8e98-ccd9-4555-9d85-ba5eb4b061c6\",\"type\":\"BoxZoomTool\"},{\"id\":\"b08e6cb3-5516-4483-9887-d948b92d2607\",\"type\":\"SaveTool\"},{\"id\":\"5625b120-65ab-4104-ac26-e417e3e2acc9\",\"type\":\"ResetTool\"},{\"id\":\"1ff55794-ab77-48ee-9fa5-9b7b721d37cd\",\"type\":\"HelpTool\"}]},\"id\":\"34c78792-4143-414c-81c0-328426408fdf\",\"type\":\"Toolbar\"}],\"root_ids\":[\"c3539a52-58e7-4703-861a-fdc53c424838\"]},\"title\":\"Bokeh Application\",\"version\":\"0.12.6dev1\"}};\n",
       "            var render_items = [{\"docid\":\"58e1d229-049a-4c3a-a356-3658eecd4f9c\",\"elementid\":\"b94f9b45-8f81-4250-903b-da36dee41485\",\"modelid\":\"c3539a52-58e7-4703-861a-fdc53c424838\"}];\n",
       "            \n",
       "            Bokeh.embed.embed_items(docs_json, render_items);\n",
       "          };\n",
       "          if (document.readyState != \"loading\") fn();\n",
       "          else document.addEventListener(\"DOMContentLoaded\", fn);\n",
       "        })();\n",
       "      },\n",
       "      function(Bokeh) {\n",
       "      }\n",
       "    ];\n",
       "  \n",
       "    function run_inline_js() {\n",
       "      \n",
       "      if ((window.Bokeh !== undefined) || (force === true)) {\n",
       "        for (var i = 0; i < inline_js.length; i++) {\n",
       "          inline_js[i](window.Bokeh);\n",
       "        }if (force === true) {\n",
       "          display_loaded();\n",
       "        }} else if (Date.now() < window._bokeh_timeout) {\n",
       "        setTimeout(run_inline_js, 100);\n",
       "      } else if (!window._bokeh_failed_load) {\n",
       "        console.log(\"Bokeh: BokehJS failed to load within specified timeout.\");\n",
       "        window._bokeh_failed_load = true;\n",
       "      } else if (force !== true) {\n",
       "        var cell = $(document.getElementById(\"b94f9b45-8f81-4250-903b-da36dee41485\")).parents('.cell').data().cell;\n",
       "        cell.output_area.append_execute_result(NB_LOAD_WARNING)\n",
       "      }\n",
       "  \n",
       "    }\n",
       "  \n",
       "    if (window._bokeh_is_loading === 0) {\n",
       "      console.log(\"Bokeh: BokehJS loaded, going straight to plotting\");\n",
       "      run_inline_js();\n",
       "    } else {\n",
       "      load_libs(js_urls, function() {\n",
       "        console.log(\"Bokeh: BokehJS plotting callback run at\", now());\n",
       "        run_inline_js();\n",
       "      });\n",
       "    }\n",
       "  }(this));\n",
       "</script>"
      ]
     },
     "metadata": {},
     "output_type": "display_data"
    }
   ],
   "source": [
    "p = bokeh.plotting.figure(width=500, height=300,\n",
    "                          x_range=list(param_range[[0, -1]]),\n",
    "                          y_range=[.80, 1], \n",
    "                          x_axis_label='Parameter C',\n",
    "                          y_axis_label='Accuracy',\n",
    "                          x_axis_type='log',\n",
    "                         )\n",
    "\n",
    "left = param_range.astype(np.float)\n",
    "left[1:] -= np.diff(param_range)/2\n",
    "right = param_range.astype(np.float)\n",
    "right[:-1] += np.diff(param_range)/2\n",
    "\n",
    "p.quad(left=left, right=right, \n",
    "       bottom=train_mean-train_std, \n",
    "       top=train_mean+train_std, \n",
    "       alpha=0.2, color=palette[0])\n",
    "p.line(param_range, train_mean, color=palette[0], legend='training accuracy')\n",
    "\n",
    "p.quad(left=left, right=right, \n",
    "       bottom=test_mean-test_std, \n",
    "       top=test_mean+test_std, \n",
    "       alpha=0.2, color=palette[1])\n",
    "p.line(param_range, test_mean, color=palette[1], line_dash='dashed', legend='validation accuracy')\n",
    "\n",
    "p.legend.location = 'bottom_right'\n",
    "\n",
    "bokeh.plotting.show(p)"
   ]
  },
  {
   "cell_type": "code",
   "execution_count": 45,
   "metadata": {
    "collapsed": false
   },
   "outputs": [
    {
     "data": {
      "text/plain": [
       "0.01"
      ]
     },
     "execution_count": 45,
     "metadata": {},
     "output_type": "execute_result"
    }
   ],
   "source": [
    "10 ** -2 "
   ]
  },
  {
   "cell_type": "markdown",
   "metadata": {},
   "source": [
    "This seems to do reasonably well for the parameter range $.001 < C < 1$."
   ]
  },
  {
   "cell_type": "code",
   "execution_count": 41,
   "metadata": {
    "collapsed": false
   },
   "outputs": [],
   "source": [
    "n_points = 15\n",
    "param_range = np.logspace(-3, 2, n_points)\n",
    "train_scores, test_scores = sklearn.model_selection.validation_curve(\n",
    "    estimator=lr_pipe1, X=X_train, y=y_train, param_name='clf__C', param_range=param_range,\n",
    "    cv=10, n_jobs=-1)"
   ]
  },
  {
   "cell_type": "code",
   "execution_count": 42,
   "metadata": {
    "collapsed": true
   },
   "outputs": [],
   "source": [
    "train_mean = train_scores.mean(axis=1)\n",
    "train_std = train_scores.std(axis=1)\n",
    "\n",
    "test_mean = test_scores.mean(axis=1)\n",
    "test_std = test_scores.std(axis=1)"
   ]
  },
  {
   "cell_type": "code",
   "execution_count": 43,
   "metadata": {
    "collapsed": false
   },
   "outputs": [
    {
     "data": {
      "text/html": [
       "\n",
       "\n",
       "    <div class=\"bk-root\">\n",
       "        <div class=\"bk-plotdiv\" id=\"b0b7569b-571e-4b26-8eb6-41065c8dd1d9\"></div>\n",
       "    </div>\n",
       "<script type=\"text/javascript\">\n",
       "  \n",
       "  (function(global) {\n",
       "    function now() {\n",
       "      return new Date();\n",
       "    }\n",
       "  \n",
       "    var force = false;\n",
       "  \n",
       "    if (typeof (window._bokeh_onload_callbacks) === \"undefined\" || force === true) {\n",
       "      window._bokeh_onload_callbacks = [];\n",
       "      window._bokeh_is_loading = undefined;\n",
       "    }\n",
       "  \n",
       "  \n",
       "    \n",
       "    if (typeof (window._bokeh_timeout) === \"undefined\" || force === true) {\n",
       "      window._bokeh_timeout = Date.now() + 0;\n",
       "      window._bokeh_failed_load = false;\n",
       "    }\n",
       "  \n",
       "    var NB_LOAD_WARNING = {'data': {'text/html':\n",
       "       \"<div style='background-color: #fdd'>\\n\"+\n",
       "       \"<p>\\n\"+\n",
       "       \"BokehJS does not appear to have successfully loaded. If loading BokehJS from CDN, this \\n\"+\n",
       "       \"may be due to a slow or bad network connection. Possible fixes:\\n\"+\n",
       "       \"</p>\\n\"+\n",
       "       \"<ul>\\n\"+\n",
       "       \"<li>re-rerun `output_notebook()` to attempt to load from CDN again, or</li>\\n\"+\n",
       "       \"<li>use INLINE resources instead, as so:</li>\\n\"+\n",
       "       \"</ul>\\n\"+\n",
       "       \"<code>\\n\"+\n",
       "       \"from bokeh.resources import INLINE\\n\"+\n",
       "       \"output_notebook(resources=INLINE)\\n\"+\n",
       "       \"</code>\\n\"+\n",
       "       \"</div>\"}};\n",
       "  \n",
       "    function display_loaded() {\n",
       "      if (window.Bokeh !== undefined) {\n",
       "        var el = document.getElementById(\"b0b7569b-571e-4b26-8eb6-41065c8dd1d9\");\n",
       "        el.textContent = \"BokehJS \" + Bokeh.version + \" successfully loaded.\";\n",
       "      } else if (Date.now() < window._bokeh_timeout) {\n",
       "        setTimeout(display_loaded, 100)\n",
       "      }\n",
       "    }\n",
       "  \n",
       "    function run_callbacks() {\n",
       "      window._bokeh_onload_callbacks.forEach(function(callback) { callback() });\n",
       "      delete window._bokeh_onload_callbacks\n",
       "      console.info(\"Bokeh: all callbacks have finished\");\n",
       "    }\n",
       "  \n",
       "    function load_libs(js_urls, callback) {\n",
       "      window._bokeh_onload_callbacks.push(callback);\n",
       "      if (window._bokeh_is_loading > 0) {\n",
       "        console.log(\"Bokeh: BokehJS is being loaded, scheduling callback at\", now());\n",
       "        return null;\n",
       "      }\n",
       "      if (js_urls == null || js_urls.length === 0) {\n",
       "        run_callbacks();\n",
       "        return null;\n",
       "      }\n",
       "      console.log(\"Bokeh: BokehJS not loaded, scheduling load and callback at\", now());\n",
       "      window._bokeh_is_loading = js_urls.length;\n",
       "      for (var i = 0; i < js_urls.length; i++) {\n",
       "        var url = js_urls[i];\n",
       "        var s = document.createElement('script');\n",
       "        s.src = url;\n",
       "        s.async = false;\n",
       "        s.onreadystatechange = s.onload = function() {\n",
       "          window._bokeh_is_loading--;\n",
       "          if (window._bokeh_is_loading === 0) {\n",
       "            console.log(\"Bokeh: all BokehJS libraries loaded\");\n",
       "            run_callbacks()\n",
       "          }\n",
       "        };\n",
       "        s.onerror = function() {\n",
       "          console.warn(\"failed to load library \" + url);\n",
       "        };\n",
       "        console.log(\"Bokeh: injecting script tag for BokehJS library: \", url);\n",
       "        document.getElementsByTagName(\"head\")[0].appendChild(s);\n",
       "      }\n",
       "    };var element = document.getElementById(\"b0b7569b-571e-4b26-8eb6-41065c8dd1d9\");\n",
       "    if (element == null) {\n",
       "      console.log(\"Bokeh: ERROR: autoload.js configured with elementid 'b0b7569b-571e-4b26-8eb6-41065c8dd1d9' but no matching script tag was found. \")\n",
       "      return false;\n",
       "    }\n",
       "  \n",
       "    var js_urls = [];\n",
       "  \n",
       "    var inline_js = [\n",
       "      function(Bokeh) {\n",
       "        (function() {\n",
       "          var fn = function() {\n",
       "            var docs_json = {\"1ac0ad43-db8e-4474-9df1-fb1c4ac7b60a\":{\"roots\":{\"references\":[{\"attributes\":{\"data_source\":{\"id\":\"6468f40a-646a-4ea9-aa80-d55e94f6acd7\",\"type\":\"ColumnDataSource\"},\"glyph\":{\"id\":\"d6f89d5d-2912-45d4-ade2-7a6094d81163\",\"type\":\"Line\"},\"hover_glyph\":null,\"muted_glyph\":null,\"nonselection_glyph\":{\"id\":\"fd1c715e-4bf0-48b8-818a-eacfcd0fb883\",\"type\":\"Line\"},\"selection_glyph\":null},\"id\":\"7c74c7cc-b48f-4b99-bc1b-a67c5c6b6851\",\"type\":\"GlyphRenderer\"},{\"attributes\":{\"callback\":null,\"column_names\":[\"left\",\"right\",\"top\",\"bottom\"],\"data\":{\"bottom\":{\"__ndarray__\":\"bc131etX7T9ZJDLCIHPtP8ty7grswu0/ZAcVu83t7T9Y3e9FmGPuP3Pk+Gsep+4/t5ZbphQF7z8BIriZIhDvP7HyJY+cBe8/aGfcRNp67j/2AA0/uFPuP0WIzs7jKu4/ZFbJVJgt7j9kVslUmC3uP4tNQrgkFu4/\",\"dtype\":\"float64\",\"shape\":[15]},\"left\":{\"__ndarray__\":\"/Knx0k1iUD8ns9Bj8tVaP7BP5WJ4iW4/Od/e5tZfgT9ALtZ0TMWTP8Vq/DJef6Y/uQJHkbeZuT8RbfAIoCHNP0UbYfgZk+A/jA31k1Lc8j/U4AxWQnYFQCYZ7ioLbBhA+qu9EFjKK0DeWB5Ok58/QGiRfhES/lFA\",\"dtype\":\"float64\",\"shape\":[15]},\"right\":{\"__ndarray__\":\"J7PQY/LVWj+wT+VieIluPznf3ubWX4E/QC7WdEzFkz/GavwyXn+mP7kCR5G3mbk/EW3wCKAhzT9FG2H4GZPgP4wN9ZNS3PI/1OAMVkJ2BUAmGe4qC2wYQPqrvRBYyitA3lgeTpOfP0BokX4REv5RQAAAAAAAAFlA\",\"dtype\":\"float64\",\"shape\":[15]},\"top\":{\"__ndarray__\":\"r8tnkxwC7z+7JOsNV1PvPz/LxzmZk+8/rAWzsZHT7z+u3xWONsrvPw1TWSK3zu8/z28IEJvb7z//GZ3J9fTvP08E1Mbd2+8/GIsaPF3X7z+GrI404drvP8uE+Z17lu8/vJB3y5Nu7z+8kHfLk27vPxkfsq0APu8/\",\"dtype\":\"float64\",\"shape\":[15]}}},\"id\":\"3c89f89b-c02d-4dc5-b703-375cad5ab3e9\",\"type\":\"ColumnDataSource\"},{\"attributes\":{\"line_color\":{\"value\":\"#1f77b4\"},\"x\":{\"field\":\"x\"},\"y\":{\"field\":\"y\"}},\"id\":\"b12e3cd0-d95e-4307-9691-2b649a5abf34\",\"type\":\"Line\"},{\"attributes\":{\"plot\":{\"id\":\"b330c70e-49cf-4e83-b686-f65f1bfc11bf\",\"subtype\":\"Figure\",\"type\":\"Plot\"}},\"id\":\"439c4747-1a8f-4539-8bd4-5679d6720a83\",\"type\":\"SaveTool\"},{\"attributes\":{\"overlay\":{\"id\":\"561fd305-c092-4286-8648-9207725796d6\",\"type\":\"BoxAnnotation\"},\"plot\":{\"id\":\"b330c70e-49cf-4e83-b686-f65f1bfc11bf\",\"subtype\":\"Figure\",\"type\":\"Plot\"}},\"id\":\"9dd07e80-c596-44f0-a26d-b1d9268c22d4\",\"type\":\"BoxZoomTool\"},{\"attributes\":{\"plot\":{\"id\":\"b330c70e-49cf-4e83-b686-f65f1bfc11bf\",\"subtype\":\"Figure\",\"type\":\"Plot\"}},\"id\":\"55dbafca-162d-468e-8689-6840c55faa53\",\"type\":\"ResetTool\"},{\"attributes\":{\"plot\":{\"id\":\"b330c70e-49cf-4e83-b686-f65f1bfc11bf\",\"subtype\":\"Figure\",\"type\":\"Plot\"}},\"id\":\"fcce7d15-2c44-4f24-bfe9-8dee68d27b21\",\"type\":\"HelpTool\"},{\"attributes\":{\"items\":[{\"id\":\"83a9174d-ea93-4fd6-831d-75cd2078393a\",\"type\":\"LegendItem\"},{\"id\":\"e216e8e6-f29d-4c26-b788-44e3b4f17104\",\"type\":\"LegendItem\"}],\"location\":\"bottom_right\",\"plot\":{\"id\":\"b330c70e-49cf-4e83-b686-f65f1bfc11bf\",\"subtype\":\"Figure\",\"type\":\"Plot\"}},\"id\":\"56404704-5c10-492a-9ee5-e9f7121c22f8\",\"type\":\"Legend\"},{\"attributes\":{\"callback\":null,\"column_names\":[\"x\",\"y\"],\"data\":{\"x\":{\"__ndarray__\":\"/Knx0k1iUD8p3ld6y6RiP5xguaUSN3U/JA7heiQkiD9t1TushnibP9Tq2g95Qq8/BEhQTRnJwT8PSUhiEz3UPwMSnj+qB+c/FhIbCNA0+j+eOAyoHNINQP8K6wCE9yBAeyZIEJZOM0CgRfpFSPhFQAAAAAAAAFlA\",\"dtype\":\"float64\",\"shape\":[15]},\"y\":{\"__ndarray__\":\"uBBIUug37j/wUkIc85PuP9CR8yP24e4/ZiNs6fQd7z/+94zu9lHvP42ZxbP2ie8/qre1tPaT7z+1yh319pfvPwpIFjj4te8/LYkuefm/7z82pHY5+sHvP07SJjr7x+8/TtImOvvH7z9Dt955+sXvP2MIt7r8y+8/\",\"dtype\":\"float64\",\"shape\":[15]}}},\"id\":\"2fd2abe8-0450-4f16-bc5c-a72dff868bed\",\"type\":\"ColumnDataSource\"},{\"attributes\":{\"label\":{\"value\":\"training accuracy\"},\"renderers\":[{\"id\":\"0fedd66a-2851-41d3-8912-e398f8b56ca5\",\"type\":\"GlyphRenderer\"}]},\"id\":\"83a9174d-ea93-4fd6-831d-75cd2078393a\",\"type\":\"LegendItem\"},{\"attributes\":{},\"id\":\"6ad60438-81e9-4ec0-b598-6fb8bc12bfac\",\"type\":\"BasicTickFormatter\"},{\"attributes\":{\"bottom_units\":\"screen\",\"fill_alpha\":{\"value\":0.5},\"fill_color\":{\"value\":\"lightgrey\"},\"left_units\":\"screen\",\"level\":\"overlay\",\"line_alpha\":{\"value\":1.0},\"line_color\":{\"value\":\"black\"},\"line_dash\":[4,4],\"line_width\":{\"value\":2},\"plot\":null,\"render_mode\":\"css\",\"right_units\":\"screen\",\"top_units\":\"screen\"},\"id\":\"561fd305-c092-4286-8648-9207725796d6\",\"type\":\"BoxAnnotation\"},{\"attributes\":{\"plot\":{\"id\":\"b330c70e-49cf-4e83-b686-f65f1bfc11bf\",\"subtype\":\"Figure\",\"type\":\"Plot\"}},\"id\":\"3627ddbd-ecf7-422b-a53f-f85a5be63d16\",\"type\":\"PanTool\"},{\"attributes\":{\"ticker\":null},\"id\":\"3d7a1d24-3cc9-4e4a-836f-cfe51145d58b\",\"type\":\"LogTickFormatter\"},{\"attributes\":{\"plot\":{\"id\":\"b330c70e-49cf-4e83-b686-f65f1bfc11bf\",\"subtype\":\"Figure\",\"type\":\"Plot\"},\"ticker\":{\"id\":\"0d9b72ed-7767-414c-b826-cdaa3b7fe248\",\"type\":\"LogTicker\"}},\"id\":\"35bda3e5-613b-4dc6-9d54-7e07f97f0b5f\",\"type\":\"Grid\"},{\"attributes\":{\"line_alpha\":{\"value\":0.1},\"line_color\":{\"value\":\"#1f77b4\"},\"x\":{\"field\":\"x\"},\"y\":{\"field\":\"y\"}},\"id\":\"b4e54540-7049-46cf-a9b6-c253a4fa0303\",\"type\":\"Line\"},{\"attributes\":{\"num_minor_ticks\":10},\"id\":\"0d9b72ed-7767-414c-b826-cdaa3b7fe248\",\"type\":\"LogTicker\"},{\"attributes\":{\"axis_label\":\"Accuracy\",\"formatter\":{\"id\":\"6ad60438-81e9-4ec0-b598-6fb8bc12bfac\",\"type\":\"BasicTickFormatter\"},\"plot\":{\"id\":\"b330c70e-49cf-4e83-b686-f65f1bfc11bf\",\"subtype\":\"Figure\",\"type\":\"Plot\"},\"ticker\":{\"id\":\"ac8a7689-9d24-4002-a9eb-1ead267430fc\",\"type\":\"BasicTicker\"}},\"id\":\"172b4a9d-e718-487e-87b9-638a8d8734d0\",\"type\":\"LinearAxis\"},{\"attributes\":{},\"id\":\"ac8a7689-9d24-4002-a9eb-1ead267430fc\",\"type\":\"BasicTicker\"},{\"attributes\":{\"plot\":null,\"text\":\"\"},\"id\":\"f65b8d48-cfba-477d-bb0f-5b0c4af94ddc\",\"type\":\"Title\"},{\"attributes\":{\"callback\":null,\"end\":100.0,\"start\":0.001},\"id\":\"c83aa89b-fcf5-4550-94bd-c1c1ac7321fd\",\"type\":\"Range1d\"},{\"attributes\":{\"plot\":{\"id\":\"b330c70e-49cf-4e83-b686-f65f1bfc11bf\",\"subtype\":\"Figure\",\"type\":\"Plot\"}},\"id\":\"da3d2918-d0cb-4e5f-9be3-d532240790e6\",\"type\":\"WheelZoomTool\"},{\"attributes\":{},\"id\":\"ac248d69-fd53-4b92-9d23-8843ac15282d\",\"type\":\"ToolEvents\"},{\"attributes\":{\"bottom\":{\"field\":\"bottom\"},\"fill_alpha\":{\"value\":0.1},\"fill_color\":{\"value\":\"#1f77b4\"},\"left\":{\"field\":\"left\"},\"line_alpha\":{\"value\":0.1},\"line_color\":{\"value\":\"#1f77b4\"},\"right\":{\"field\":\"right\"},\"top\":{\"field\":\"top\"}},\"id\":\"c94ef9cb-6d80-48aa-b16e-72054da70272\",\"type\":\"Quad\"},{\"attributes\":{\"callback\":null,\"start\":0.8},\"id\":\"ecb67315-74a1-4870-a1e5-04ab24b33d4c\",\"type\":\"Range1d\"},{\"attributes\":{\"dimension\":1,\"plot\":{\"id\":\"b330c70e-49cf-4e83-b686-f65f1bfc11bf\",\"subtype\":\"Figure\",\"type\":\"Plot\"},\"ticker\":{\"id\":\"ac8a7689-9d24-4002-a9eb-1ead267430fc\",\"type\":\"BasicTicker\"}},\"id\":\"bc62484a-a042-47e1-8f99-4d50629df9a3\",\"type\":\"Grid\"},{\"attributes\":{\"data_source\":{\"id\":\"e6a83776-faef-4249-ac7c-cb1358c96164\",\"type\":\"ColumnDataSource\"},\"glyph\":{\"id\":\"e7ca8a8a-6178-4bc4-9cab-22cbe6e300a0\",\"type\":\"Quad\"},\"hover_glyph\":null,\"muted_glyph\":null,\"nonselection_glyph\":{\"id\":\"c94ef9cb-6d80-48aa-b16e-72054da70272\",\"type\":\"Quad\"},\"selection_glyph\":null},\"id\":\"03fc7680-84e5-41b6-b95a-bfdcad58e331\",\"type\":\"GlyphRenderer\"},{\"attributes\":{\"bottom\":{\"field\":\"bottom\"},\"fill_alpha\":{\"value\":0.2},\"fill_color\":{\"value\":\"#1f77b4\"},\"left\":{\"field\":\"left\"},\"line_alpha\":{\"value\":0.2},\"line_color\":{\"value\":\"#1f77b4\"},\"right\":{\"field\":\"right\"},\"top\":{\"field\":\"top\"}},\"id\":\"e7ca8a8a-6178-4bc4-9cab-22cbe6e300a0\",\"type\":\"Quad\"},{\"attributes\":{\"callback\":null,\"column_names\":[\"left\",\"right\",\"top\",\"bottom\"],\"data\":{\"bottom\":{\"__ndarray__\":\"cH9yDFER7j8M2WodE2XuPxW2ZvHnse4/V0FIDf3+7j9dMLLYnzjvP0MN+evlb+8/YRWv4p997z+UVtDvk4DvP8ugOeoWqe8/dy4o7eqz7z/ygepq8rPvP8sOAdyItu8/yw4B3Ii27z/97+z/jq3vP3bgOndur+8/\",\"dtype\":\"float64\",\"shape\":[15]},\"left\":{\"__ndarray__\":\"/Knx0k1iUD8ns9Bj8tVaP7BP5WJ4iW4/Od/e5tZfgT9ALtZ0TMWTP8Vq/DJef6Y/uQJHkbeZuT8RbfAIoCHNP0UbYfgZk+A/jA31k1Lc8j/U4AxWQnYFQCYZ7ioLbBhA+qu9EFjKK0DeWB5Ok58/QGiRfhES/lFA\",\"dtype\":\"float64\",\"shape\":[15]},\"right\":{\"__ndarray__\":\"J7PQY/LVWj+wT+VieIluPznf3ubWX4E/QC7WdEzFkz/GavwyXn+mP7kCR5G3mbk/EW3wCKAhzT9FG2H4GZPgP4wN9ZNS3PI/1OAMVkJ2BUAmGe4qC2wYQPqrvRBYyitA3lgeTpOfP0BokX4REv5RQAAAAAAAAFlA\",\"dtype\":\"float64\",\"shape\":[15]},\"top\":{\"__ndarray__\":\"AKIdmH9e7j/UzBkb08LuP4ttgFYEEu8/dQWQxew87z+fv2cETmvvP9clknsHpO8/81m8hk2q7z/WPmv6Wa/vP0nv8oXZwu8/4+M0BQjM7z96xgIIAtDvP9GVTJht2e8/0ZVMmG3Z7z+JftDzZd7vP1AwM/6K6O8/\",\"dtype\":\"float64\",\"shape\":[15]}}},\"id\":\"e6a83776-faef-4249-ac7c-cb1358c96164\",\"type\":\"ColumnDataSource\"},{\"attributes\":{\"active_drag\":\"auto\",\"active_scroll\":\"auto\",\"active_tap\":\"auto\",\"tools\":[{\"id\":\"3627ddbd-ecf7-422b-a53f-f85a5be63d16\",\"type\":\"PanTool\"},{\"id\":\"da3d2918-d0cb-4e5f-9be3-d532240790e6\",\"type\":\"WheelZoomTool\"},{\"id\":\"9dd07e80-c596-44f0-a26d-b1d9268c22d4\",\"type\":\"BoxZoomTool\"},{\"id\":\"439c4747-1a8f-4539-8bd4-5679d6720a83\",\"type\":\"SaveTool\"},{\"id\":\"55dbafca-162d-468e-8689-6840c55faa53\",\"type\":\"ResetTool\"},{\"id\":\"fcce7d15-2c44-4f24-bfe9-8dee68d27b21\",\"type\":\"HelpTool\"}]},\"id\":\"f085187f-890c-4668-8956-8030384bbc47\",\"type\":\"Toolbar\"},{\"attributes\":{\"axis_label\":\"Parameter C\",\"formatter\":{\"id\":\"3d7a1d24-3cc9-4e4a-836f-cfe51145d58b\",\"type\":\"LogTickFormatter\"},\"plot\":{\"id\":\"b330c70e-49cf-4e83-b686-f65f1bfc11bf\",\"subtype\":\"Figure\",\"type\":\"Plot\"},\"ticker\":{\"id\":\"0d9b72ed-7767-414c-b826-cdaa3b7fe248\",\"type\":\"LogTicker\"}},\"id\":\"0ef0779d-5141-42ca-be38-53189ca21525\",\"type\":\"LogAxis\"},{\"attributes\":{\"below\":[{\"id\":\"0ef0779d-5141-42ca-be38-53189ca21525\",\"type\":\"LogAxis\"}],\"left\":[{\"id\":\"172b4a9d-e718-487e-87b9-638a8d8734d0\",\"type\":\"LinearAxis\"}],\"plot_height\":300,\"plot_width\":500,\"renderers\":[{\"id\":\"0ef0779d-5141-42ca-be38-53189ca21525\",\"type\":\"LogAxis\"},{\"id\":\"35bda3e5-613b-4dc6-9d54-7e07f97f0b5f\",\"type\":\"Grid\"},{\"id\":\"172b4a9d-e718-487e-87b9-638a8d8734d0\",\"type\":\"LinearAxis\"},{\"id\":\"bc62484a-a042-47e1-8f99-4d50629df9a3\",\"type\":\"Grid\"},{\"id\":\"561fd305-c092-4286-8648-9207725796d6\",\"type\":\"BoxAnnotation\"},{\"id\":\"03fc7680-84e5-41b6-b95a-bfdcad58e331\",\"type\":\"GlyphRenderer\"},{\"id\":\"56404704-5c10-492a-9ee5-e9f7121c22f8\",\"type\":\"Legend\"},{\"id\":\"0fedd66a-2851-41d3-8912-e398f8b56ca5\",\"type\":\"GlyphRenderer\"},{\"id\":\"8e9630ed-0b04-44e6-8bd6-5c6f59804949\",\"type\":\"GlyphRenderer\"},{\"id\":\"7c74c7cc-b48f-4b99-bc1b-a67c5c6b6851\",\"type\":\"GlyphRenderer\"}],\"title\":{\"id\":\"f65b8d48-cfba-477d-bb0f-5b0c4af94ddc\",\"type\":\"Title\"},\"tool_events\":{\"id\":\"ac248d69-fd53-4b92-9d23-8843ac15282d\",\"type\":\"ToolEvents\"},\"toolbar\":{\"id\":\"f085187f-890c-4668-8956-8030384bbc47\",\"type\":\"Toolbar\"},\"x_mapper_type\":\"log\",\"x_range\":{\"id\":\"c83aa89b-fcf5-4550-94bd-c1c1ac7321fd\",\"type\":\"Range1d\"},\"y_range\":{\"id\":\"ecb67315-74a1-4870-a1e5-04ab24b33d4c\",\"type\":\"Range1d\"}},\"id\":\"b330c70e-49cf-4e83-b686-f65f1bfc11bf\",\"subtype\":\"Figure\",\"type\":\"Plot\"},{\"attributes\":{\"data_source\":{\"id\":\"2fd2abe8-0450-4f16-bc5c-a72dff868bed\",\"type\":\"ColumnDataSource\"},\"glyph\":{\"id\":\"b12e3cd0-d95e-4307-9691-2b649a5abf34\",\"type\":\"Line\"},\"hover_glyph\":null,\"muted_glyph\":null,\"nonselection_glyph\":{\"id\":\"b4e54540-7049-46cf-a9b6-c253a4fa0303\",\"type\":\"Line\"},\"selection_glyph\":null},\"id\":\"0fedd66a-2851-41d3-8912-e398f8b56ca5\",\"type\":\"GlyphRenderer\"},{\"attributes\":{\"line_color\":{\"value\":\"#ff7f0e\"},\"line_dash\":[6],\"x\":{\"field\":\"x\"},\"y\":{\"field\":\"y\"}},\"id\":\"d6f89d5d-2912-45d4-ade2-7a6094d81163\",\"type\":\"Line\"},{\"attributes\":{\"label\":{\"value\":\"validation accuracy\"},\"renderers\":[{\"id\":\"7c74c7cc-b48f-4b99-bc1b-a67c5c6b6851\",\"type\":\"GlyphRenderer\"}]},\"id\":\"e216e8e6-f29d-4c26-b788-44e3b4f17104\",\"type\":\"LegendItem\"},{\"attributes\":{\"line_alpha\":{\"value\":0.1},\"line_color\":{\"value\":\"#1f77b4\"},\"line_dash\":[6],\"x\":{\"field\":\"x\"},\"y\":{\"field\":\"y\"}},\"id\":\"fd1c715e-4bf0-48b8-818a-eacfcd0fb883\",\"type\":\"Line\"},{\"attributes\":{\"bottom\":{\"field\":\"bottom\"},\"fill_alpha\":{\"value\":0.2},\"fill_color\":{\"value\":\"#ff7f0e\"},\"left\":{\"field\":\"left\"},\"line_alpha\":{\"value\":0.2},\"line_color\":{\"value\":\"#ff7f0e\"},\"right\":{\"field\":\"right\"},\"top\":{\"field\":\"top\"}},\"id\":\"9cd8c5d6-0778-4071-aeb4-22d0049deb7e\",\"type\":\"Quad\"},{\"attributes\":{\"data_source\":{\"id\":\"3c89f89b-c02d-4dc5-b703-375cad5ab3e9\",\"type\":\"ColumnDataSource\"},\"glyph\":{\"id\":\"9cd8c5d6-0778-4071-aeb4-22d0049deb7e\",\"type\":\"Quad\"},\"hover_glyph\":null,\"muted_glyph\":null,\"nonselection_glyph\":{\"id\":\"416dd757-1678-4519-9324-2b62128bf604\",\"type\":\"Quad\"},\"selection_glyph\":null},\"id\":\"8e9630ed-0b04-44e6-8bd6-5c6f59804949\",\"type\":\"GlyphRenderer\"},{\"attributes\":{\"bottom\":{\"field\":\"bottom\"},\"fill_alpha\":{\"value\":0.1},\"fill_color\":{\"value\":\"#1f77b4\"},\"left\":{\"field\":\"left\"},\"line_alpha\":{\"value\":0.1},\"line_color\":{\"value\":\"#1f77b4\"},\"right\":{\"field\":\"right\"},\"top\":{\"field\":\"top\"}},\"id\":\"416dd757-1678-4519-9324-2b62128bf604\",\"type\":\"Quad\"},{\"attributes\":{\"callback\":null,\"column_names\":[\"x\",\"y\"],\"data\":{\"x\":{\"__ndarray__\":\"/Knx0k1iUD8p3ld6y6RiP5xguaUSN3U/JA7heiQkiD9t1TushnibP9Tq2g95Qq8/BEhQTRnJwT8PSUhiEz3UPwMSnj+qB+c/FhIbCNA0+j+eOAyoHNINQP8K6wCE9yBAeyZIEJZOM0CgRfpFSPhFQAAAAAAAAFlA\",\"dtype\":\"float64\",\"shape\":[15]},\"y\":{\"__ndarray__\":\"jsxvNAQt7j+KpA7oO2PuPwUfW6JCq+4/iAZktq/g7j+D3gJq5xbvP8AbKcfqOu8/QwMy21dw7z8AnqoxjILvP4D7/Cq9cO8/QHl7wBsp7z++1s25TBfvP4gGZLav4O4/kHMgEBbO7j+QcyAQFs7uP1I2+rISqu4/\",\"dtype\":\"float64\",\"shape\":[15]}}},\"id\":\"6468f40a-646a-4ea9-aa80-d55e94f6acd7\",\"type\":\"ColumnDataSource\"}],\"root_ids\":[\"b330c70e-49cf-4e83-b686-f65f1bfc11bf\"]},\"title\":\"Bokeh Application\",\"version\":\"0.12.6dev1\"}};\n",
       "            var render_items = [{\"docid\":\"1ac0ad43-db8e-4474-9df1-fb1c4ac7b60a\",\"elementid\":\"b0b7569b-571e-4b26-8eb6-41065c8dd1d9\",\"modelid\":\"b330c70e-49cf-4e83-b686-f65f1bfc11bf\"}];\n",
       "            \n",
       "            Bokeh.embed.embed_items(docs_json, render_items);\n",
       "          };\n",
       "          if (document.readyState != \"loading\") fn();\n",
       "          else document.addEventListener(\"DOMContentLoaded\", fn);\n",
       "        })();\n",
       "      },\n",
       "      function(Bokeh) {\n",
       "      }\n",
       "    ];\n",
       "  \n",
       "    function run_inline_js() {\n",
       "      \n",
       "      if ((window.Bokeh !== undefined) || (force === true)) {\n",
       "        for (var i = 0; i < inline_js.length; i++) {\n",
       "          inline_js[i](window.Bokeh);\n",
       "        }if (force === true) {\n",
       "          display_loaded();\n",
       "        }} else if (Date.now() < window._bokeh_timeout) {\n",
       "        setTimeout(run_inline_js, 100);\n",
       "      } else if (!window._bokeh_failed_load) {\n",
       "        console.log(\"Bokeh: BokehJS failed to load within specified timeout.\");\n",
       "        window._bokeh_failed_load = true;\n",
       "      } else if (force !== true) {\n",
       "        var cell = $(document.getElementById(\"b0b7569b-571e-4b26-8eb6-41065c8dd1d9\")).parents('.cell').data().cell;\n",
       "        cell.output_area.append_execute_result(NB_LOAD_WARNING)\n",
       "      }\n",
       "  \n",
       "    }\n",
       "  \n",
       "    if (window._bokeh_is_loading === 0) {\n",
       "      console.log(\"Bokeh: BokehJS loaded, going straight to plotting\");\n",
       "      run_inline_js();\n",
       "    } else {\n",
       "      load_libs(js_urls, function() {\n",
       "        console.log(\"Bokeh: BokehJS plotting callback run at\", now());\n",
       "        run_inline_js();\n",
       "      });\n",
       "    }\n",
       "  }(this));\n",
       "</script>"
      ]
     },
     "metadata": {},
     "output_type": "display_data"
    }
   ],
   "source": [
    "p = bokeh.plotting.figure(width=500, height=300,\n",
    "                          x_range=list(param_range[[0, -1]]),\n",
    "                          y_range=[.80, 1], \n",
    "                          x_axis_label='Parameter C',\n",
    "                          y_axis_label='Accuracy',\n",
    "                          x_axis_type='log',\n",
    "                         )\n",
    "\n",
    "left = param_range.astype(np.float)\n",
    "left[1:] -= np.diff(param_range)/2\n",
    "right = param_range.astype(np.float)\n",
    "right[:-1] += np.diff(param_range)/2\n",
    "\n",
    "p.quad(left=left, right=right, \n",
    "       bottom=train_mean-train_std, \n",
    "       top=train_mean+train_std, \n",
    "       alpha=0.2, color=palette[0])\n",
    "p.line(param_range, train_mean, color=palette[0], legend='training accuracy')\n",
    "\n",
    "p.quad(left=left, right=right, \n",
    "       bottom=test_mean-test_std, \n",
    "       top=test_mean+test_std, \n",
    "       alpha=0.2, color=palette[1])\n",
    "p.line(param_range, test_mean, color=palette[1], line_dash='dashed', legend='validation accuracy')\n",
    "\n",
    "p.legend.location = 'bottom_right'\n",
    "\n",
    "bokeh.plotting.show(p)"
   ]
  },
  {
   "cell_type": "markdown",
   "metadata": {},
   "source": [
    "This seems to do best for $C\\approx 0.3$."
   ]
  },
  {
   "cell_type": "markdown",
   "metadata": {},
   "source": [
    "Note that [Bokeh PR #6177](https://github.com/bokeh/bokeh/pull/6177) will soon add `bokeh.models.FilledArea` plot option to improve these plots."
   ]
  },
  {
   "cell_type": "code",
   "execution_count": null,
   "metadata": {
    "collapsed": true
   },
   "outputs": [],
   "source": []
  }
 ],
 "metadata": {
  "kernelspec": {
   "display_name": "Python 3",
   "language": "python",
   "name": "python3"
  },
  "language_info": {
   "codemirror_mode": {
    "name": "ipython",
    "version": 3
   },
   "file_extension": ".py",
   "mimetype": "text/x-python",
   "name": "python",
   "nbconvert_exporter": "python",
   "pygments_lexer": "ipython3",
   "version": "3.6.0"
  }
 },
 "nbformat": 4,
 "nbformat_minor": 2
}
