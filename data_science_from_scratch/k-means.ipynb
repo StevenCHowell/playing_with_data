{
 "cells": [
  {
   "cell_type": "code",
   "execution_count": 2,
   "id": "0094d4f4-f9ca-4b04-90a4-33ada3ce63ee",
   "metadata": {},
   "outputs": [],
   "source": [
    "from typing import List\n",
    "from collections import Counter"
   ]
  },
  {
   "cell_type": "code",
   "execution_count": 3,
   "id": "f03ecbb0-0ac4-4056-803c-16b8c65ef0f0",
   "metadata": {},
   "outputs": [],
   "source": [
    "def raw_majority_vote(labels: List[str]) -> str:\n",
    "    votes = Counter(labels)\n",
    "    winner, _ = votes.most_common(1)[0]\n",
    "    return winner"
   ]
  },
  {
   "cell_type": "code",
   "execution_count": 4,
   "id": "b1823b40-a090-4895-9d5d-6192f06ae2d5",
   "metadata": {},
   "outputs": [
    {
     "data": {
      "text/plain": [
       "'b'"
      ]
     },
     "execution_count": 4,
     "metadata": {},
     "output_type": "execute_result"
    }
   ],
   "source": [
    "labels = ['a', 'b', 'c', 'b']\n",
    "raw_majority_vote(labels)"
   ]
  },
  {
   "cell_type": "code",
   "execution_count": 9,
   "id": "08818c84-abb6-4022-9d84-3c6cafebaf88",
   "metadata": {},
   "outputs": [],
   "source": [
    "votes = Counter(labels)"
   ]
  },
  {
   "cell_type": "code",
   "execution_count": 11,
   "id": "68149258-66a6-4182-bf27-7d5088384d40",
   "metadata": {},
   "outputs": [
    {
     "data": {
      "text/plain": [
       "\u001b[0;31mSignature:\u001b[0m \u001b[0mvotes\u001b[0m\u001b[0;34m.\u001b[0m\u001b[0mmost_common\u001b[0m\u001b[0;34m(\u001b[0m\u001b[0mn\u001b[0m\u001b[0;34m=\u001b[0m\u001b[0;32mNone\u001b[0m\u001b[0;34m)\u001b[0m\u001b[0;34m\u001b[0m\u001b[0;34m\u001b[0m\u001b[0m\n",
       "\u001b[0;31mDocstring:\u001b[0m\n",
       "List the n most common elements and their counts from the most\n",
       "common to the least.  If n is None, then list all element counts.\n",
       "\n",
       ">>> Counter('abcdeabcdabcaba').most_common(3)\n",
       "[('a', 5), ('b', 4), ('c', 3)]\n",
       "\u001b[0;31mFile:\u001b[0m      ~/data/myPrograms/miniconda3/envs/py37/lib/python3.7/collections/__init__.py\n",
       "\u001b[0;31mType:\u001b[0m      method\n"
      ]
     },
     "metadata": {},
     "output_type": "display_data"
    }
   ],
   "source": [
    "?votes.most_common"
   ]
  },
  {
   "cell_type": "code",
   "execution_count": 15,
   "id": "a68dfce5-baaa-4c6d-95f1-1da88b9854f8",
   "metadata": {},
   "outputs": [
    {
     "data": {
      "text/plain": [
       "('b', 2)"
      ]
     },
     "execution_count": 15,
     "metadata": {},
     "output_type": "execute_result"
    }
   ],
   "source": [
    "votes.most_common(1)[0]"
   ]
  },
  {
   "cell_type": "code",
   "execution_count": 17,
   "id": "7066d5dd-a0db-4bca-93ee-30478ad9e01f",
   "metadata": {},
   "outputs": [],
   "source": [
    "def majority_vote(labels: List[str]) -> str:\n",
    "    \"\"\"Assumes that the labels are ordered from nearest to farthest.\"\"\"\n",
    "    vote_counts = Counter(labels)\n",
    "    winner, winner_count = vote_counts.most_common(1)[0]\n",
    "    num_winners = len([count \n",
    "                       for count in vote_counts.values() \n",
    "                       if count == winner_count])\n",
    "    if num_winners == 1:\n",
    "        return winner  # unique winner, return it\n",
    "    else:\n",
    "        return majority_vote(labels[:-1])  # try w/o furthest"
   ]
  },
  {
   "cell_type": "code",
   "execution_count": 18,
   "id": "71965eba-7a49-4c53-a5ad-0317a8827110",
   "metadata": {},
   "outputs": [
    {
     "data": {
      "text/plain": [
       "'b'"
      ]
     },
     "execution_count": 18,
     "metadata": {},
     "output_type": "execute_result"
    }
   ],
   "source": [
    "new_labels = labels + ['a']\n",
    "majority_vote(new_labels)"
   ]
  },
  {
   "cell_type": "code",
   "execution_count": 21,
   "id": "62f9d986-c994-4262-b676-1fe3b0e57d05",
   "metadata": {},
   "outputs": [],
   "source": [
    "from typing import NamedTuple\n",
    "from linear_algebra import Vector, distance"
   ]
  },
  {
   "cell_type": "code",
   "execution_count": 22,
   "id": "bffbe14f-99b2-4e90-9f41-e983ca5ff23f",
   "metadata": {},
   "outputs": [],
   "source": [
    "class LabeledPoint(NamedTuple):\n",
    "    point: Vector\n",
    "    label: str"
   ]
  },
  {
   "cell_type": "code",
   "execution_count": 23,
   "id": "a935a873-8711-4b7f-adac-d3bd819003a0",
   "metadata": {},
   "outputs": [],
   "source": [
    "def knn_clasify(k: int,\n",
    "                labeled_points: List[LabeledPoint],\n",
    "                new_point: Vector) -> str:\n",
    "    by_distance = sorted(labeled_points, key=lambda lp: distance(lp.point, new_point))\n",
    "    k_nearest_labels = [lp.label for lp in by_distance[:k]]\n",
    "    return majority_vote(k_nearest_labels)"
   ]
  },
  {
   "cell_type": "code",
   "execution_count": 24,
   "id": "cdb1cc0a-0d7c-46ce-b9fa-15a3205acace",
   "metadata": {},
   "outputs": [],
   "source": [
    "import requests"
   ]
  },
  {
   "cell_type": "code",
   "execution_count": 25,
   "id": "b5306c6c-9d06-4d90-b631-f96b8d075bea",
   "metadata": {},
   "outputs": [],
   "source": [
    "data = requests.get(\"https://archive.ics.uci.edu/ml/machine-learning-databases/iris/iris.data\")\n",
    "with open('iris.dat', 'w') as f:\n",
    "    f.write(data.text)"
   ]
  },
  {
   "cell_type": "code",
   "execution_count": 29,
   "id": "fe295f3a-6afd-49a7-9fdd-4e2b08f971b9",
   "metadata": {},
   "outputs": [
    {
     "name": "stdout",
     "output_type": "stream",
     "text": [
      "5.1,3.5,1.4,0.2,Iris-setosa\n",
      "4.9,3.0,1.4,0.2,Iris-setosa\n",
      "4.7,3.2,1.3,0.2,Iris-setosa\n",
      "4.6,3.1,1.5,0.2,Iris-setosa\n",
      "5.0,3.6,1.4,0.2,Iris-setosa\n",
      "5.4,3.9,1.7,0.4,Iris-setosa\n",
      "4.6,3.4,1.4,0.3,Iris-setosa\n",
      "5.0,3.4,1.5,0.2,Iris-setosa\n",
      "4.4,2.9,1.4,0.2,Iris-setosa\n",
      "4.9,3.1,1.5,0.1,Iris-setosa\n"
     ]
    }
   ],
   "source": [
    "!head iris.dat"
   ]
  },
  {
   "cell_type": "code",
   "execution_count": null,
   "id": "4ef2db62-26d5-4697-a3e5-692ce61095e3",
   "metadata": {},
   "outputs": [],
   "source": []
  }
 ],
 "metadata": {
  "kernelspec": {
   "display_name": "Python [conda env:py37]",
   "language": "python",
   "name": "conda-env-py37-py"
  },
  "language_info": {
   "codemirror_mode": {
    "name": "ipython",
    "version": 3
   },
   "file_extension": ".py",
   "mimetype": "text/x-python",
   "name": "python",
   "nbconvert_exporter": "python",
   "pygments_lexer": "ipython3",
   "version": "3.7.6"
  }
 },
 "nbformat": 4,
 "nbformat_minor": 5
}
