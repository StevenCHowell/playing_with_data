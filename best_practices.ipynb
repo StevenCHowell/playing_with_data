{
 "cells": [
  {
   "cell_type": "code",
   "execution_count": 81,
   "metadata": {
    "collapsed": true
   },
   "outputs": [],
   "source": [
    "import collections  # for Python < 3.6"
   ]
  },
  {
   "cell_type": "code",
   "execution_count": 1,
   "metadata": {
    "collapsed": true
   },
   "outputs": [],
   "source": [
    "import numpy as np\n",
    "import pandas as pd"
   ]
  },
  {
   "cell_type": "code",
   "execution_count": 58,
   "metadata": {
    "collapsed": false
   },
   "outputs": [
    {
     "data": {
      "text/html": [
       "\n",
       "    <div class=\"bk-root\">\n",
       "        <a href=\"http://bokeh.pydata.org\" target=\"_blank\" class=\"bk-logo bk-logo-small bk-logo-notebook\"></a>\n",
       "        <span id=\"fe8533dc-c15b-498f-b447-f5db5156bf7d\">Loading BokehJS ...</span>\n",
       "    </div>"
      ]
     },
     "metadata": {},
     "output_type": "display_data"
    },
    {
     "data": {
      "application/javascript": [
       "\n",
       "(function(global) {\n",
       "  function now() {\n",
       "    return new Date();\n",
       "  }\n",
       "\n",
       "  var force = true;\n",
       "\n",
       "  if (typeof (window._bokeh_onload_callbacks) === \"undefined\" || force === true) {\n",
       "    window._bokeh_onload_callbacks = [];\n",
       "    window._bokeh_is_loading = undefined;\n",
       "  }\n",
       "\n",
       "\n",
       "  \n",
       "  if (typeof (window._bokeh_timeout) === \"undefined\" || force === true) {\n",
       "    window._bokeh_timeout = Date.now() + 5000;\n",
       "    window._bokeh_failed_load = false;\n",
       "  }\n",
       "\n",
       "  var NB_LOAD_WARNING = {'data': {'text/html':\n",
       "     \"<div style='background-color: #fdd'>\\n\"+\n",
       "     \"<p>\\n\"+\n",
       "     \"BokehJS does not appear to have successfully loaded. If loading BokehJS from CDN, this \\n\"+\n",
       "     \"may be due to a slow or bad network connection. Possible fixes:\\n\"+\n",
       "     \"</p>\\n\"+\n",
       "     \"<ul>\\n\"+\n",
       "     \"<li>re-rerun `output_notebook()` to attempt to load from CDN again, or</li>\\n\"+\n",
       "     \"<li>use INLINE resources instead, as so:</li>\\n\"+\n",
       "     \"</ul>\\n\"+\n",
       "     \"<code>\\n\"+\n",
       "     \"from bokeh.resources import INLINE\\n\"+\n",
       "     \"output_notebook(resources=INLINE)\\n\"+\n",
       "     \"</code>\\n\"+\n",
       "     \"</div>\"}};\n",
       "\n",
       "  function display_loaded() {\n",
       "    if (window.Bokeh !== undefined) {\n",
       "      var el = document.getElementById(\"fe8533dc-c15b-498f-b447-f5db5156bf7d\");\n",
       "      el.textContent = \"BokehJS \" + Bokeh.version + \" successfully loaded.\";\n",
       "    } else if (Date.now() < window._bokeh_timeout) {\n",
       "      setTimeout(display_loaded, 100)\n",
       "    }\n",
       "  }\n",
       "\n",
       "  function run_callbacks() {\n",
       "    window._bokeh_onload_callbacks.forEach(function(callback) { callback() });\n",
       "    delete window._bokeh_onload_callbacks\n",
       "    console.info(\"Bokeh: all callbacks have finished\");\n",
       "  }\n",
       "\n",
       "  function load_libs(js_urls, callback) {\n",
       "    window._bokeh_onload_callbacks.push(callback);\n",
       "    if (window._bokeh_is_loading > 0) {\n",
       "      console.log(\"Bokeh: BokehJS is being loaded, scheduling callback at\", now());\n",
       "      return null;\n",
       "    }\n",
       "    if (js_urls == null || js_urls.length === 0) {\n",
       "      run_callbacks();\n",
       "      return null;\n",
       "    }\n",
       "    console.log(\"Bokeh: BokehJS not loaded, scheduling load and callback at\", now());\n",
       "    window._bokeh_is_loading = js_urls.length;\n",
       "    for (var i = 0; i < js_urls.length; i++) {\n",
       "      var url = js_urls[i];\n",
       "      var s = document.createElement('script');\n",
       "      s.src = url;\n",
       "      s.async = false;\n",
       "      s.onreadystatechange = s.onload = function() {\n",
       "        window._bokeh_is_loading--;\n",
       "        if (window._bokeh_is_loading === 0) {\n",
       "          console.log(\"Bokeh: all BokehJS libraries loaded\");\n",
       "          run_callbacks()\n",
       "        }\n",
       "      };\n",
       "      s.onerror = function() {\n",
       "        console.warn(\"failed to load library \" + url);\n",
       "      };\n",
       "      console.log(\"Bokeh: injecting script tag for BokehJS library: \", url);\n",
       "      document.getElementsByTagName(\"head\")[0].appendChild(s);\n",
       "    }\n",
       "  };var element = document.getElementById(\"fe8533dc-c15b-498f-b447-f5db5156bf7d\");\n",
       "  if (element == null) {\n",
       "    console.log(\"Bokeh: ERROR: autoload.js configured with elementid 'fe8533dc-c15b-498f-b447-f5db5156bf7d' but no matching script tag was found. \")\n",
       "    return false;\n",
       "  }\n",
       "\n",
       "  var js_urls = [\"https://cdn.pydata.org/bokeh/dev/bokeh-0.12.6dev3.min.js\", \"https://cdn.pydata.org/bokeh/dev/bokeh-widgets-0.12.6dev3.min.js\"];\n",
       "\n",
       "  var inline_js = [\n",
       "    function(Bokeh) {\n",
       "      Bokeh.set_log_level(\"info\");\n",
       "    },\n",
       "    \n",
       "    function(Bokeh) {\n",
       "      \n",
       "    },\n",
       "    \n",
       "    function(Bokeh) {\n",
       "      \n",
       "      document.getElementById(\"fe8533dc-c15b-498f-b447-f5db5156bf7d\").textContent = \"BokehJS is loading...\";\n",
       "    },\n",
       "    function(Bokeh) {\n",
       "      console.log(\"Bokeh: injecting CSS: https://cdn.pydata.org/bokeh/dev/bokeh-0.12.6dev3.min.css\");\n",
       "      Bokeh.embed.inject_css(\"https://cdn.pydata.org/bokeh/dev/bokeh-0.12.6dev3.min.css\");\n",
       "      console.log(\"Bokeh: injecting CSS: https://cdn.pydata.org/bokeh/dev/bokeh-widgets-0.12.6dev3.min.css\");\n",
       "      Bokeh.embed.inject_css(\"https://cdn.pydata.org/bokeh/dev/bokeh-widgets-0.12.6dev3.min.css\");\n",
       "    }\n",
       "  ];\n",
       "\n",
       "  function run_inline_js() {\n",
       "    \n",
       "    if ((window.Bokeh !== undefined) || (force === true)) {\n",
       "      for (var i = 0; i < inline_js.length; i++) {\n",
       "        inline_js[i](window.Bokeh);\n",
       "      }if (force === true) {\n",
       "        display_loaded();\n",
       "      }} else if (Date.now() < window._bokeh_timeout) {\n",
       "      setTimeout(run_inline_js, 100);\n",
       "    } else if (!window._bokeh_failed_load) {\n",
       "      console.log(\"Bokeh: BokehJS failed to load within specified timeout.\");\n",
       "      window._bokeh_failed_load = true;\n",
       "    } else if (force !== true) {\n",
       "      var cell = $(document.getElementById(\"fe8533dc-c15b-498f-b447-f5db5156bf7d\")).parents('.cell').data().cell;\n",
       "      cell.output_area.append_execute_result(NB_LOAD_WARNING)\n",
       "    }\n",
       "\n",
       "  }\n",
       "\n",
       "  if (window._bokeh_is_loading === 0) {\n",
       "    console.log(\"Bokeh: BokehJS loaded, going straight to plotting\");\n",
       "    run_inline_js();\n",
       "  } else {\n",
       "    load_libs(js_urls, function() {\n",
       "      console.log(\"Bokeh: BokehJS plotting callback run at\", now());\n",
       "      run_inline_js();\n",
       "    });\n",
       "  }\n",
       "}(this));"
      ]
     },
     "metadata": {},
     "output_type": "display_data"
    }
   ],
   "source": [
    "import bokeh.plotting\n",
    "from bokeh.palettes import Category10_10 as palette, viridis\n",
    "bokeh.plotting.output_notebook()"
   ]
  },
  {
   "cell_type": "code",
   "execution_count": 3,
   "metadata": {
    "collapsed": false
   },
   "outputs": [],
   "source": [
    "import sklearn.preprocessing\n",
    "import sklearn.model_selection\n",
    "import sklearn.decomposition\n",
    "import sklearn.linear_model\n",
    "import sklearn.pipeline"
   ]
  },
  {
   "cell_type": "markdown",
   "metadata": {},
   "source": [
    "Set a random state for reproducability."
   ]
  },
  {
   "cell_type": "code",
   "execution_count": 4,
   "metadata": {
    "collapsed": true
   },
   "outputs": [],
   "source": [
    "rs = 1"
   ]
  },
  {
   "cell_type": "markdown",
   "metadata": {},
   "source": [
    "Lets import the Wisconsin Breast Cancer dataset"
   ]
  },
  {
   "cell_type": "code",
   "execution_count": 5,
   "metadata": {
    "collapsed": false
   },
   "outputs": [],
   "source": [
    "url = 'https://archive.ics.uci.edu/ml/machine-learning-databases/breast-cancer-wisconsin/wdbc.data'\n",
    "df = pd.read_csv(url, header=None)"
   ]
  },
  {
   "cell_type": "code",
   "execution_count": 6,
   "metadata": {
    "collapsed": false
   },
   "outputs": [
    {
     "data": {
      "text/html": [
       "<div>\n",
       "<table border=\"1\" class=\"dataframe\">\n",
       "  <thead>\n",
       "    <tr style=\"text-align: right;\">\n",
       "      <th></th>\n",
       "      <th>0</th>\n",
       "      <th>2</th>\n",
       "      <th>3</th>\n",
       "      <th>4</th>\n",
       "      <th>5</th>\n",
       "      <th>6</th>\n",
       "      <th>7</th>\n",
       "      <th>8</th>\n",
       "      <th>9</th>\n",
       "      <th>10</th>\n",
       "      <th>...</th>\n",
       "      <th>22</th>\n",
       "      <th>23</th>\n",
       "      <th>24</th>\n",
       "      <th>25</th>\n",
       "      <th>26</th>\n",
       "      <th>27</th>\n",
       "      <th>28</th>\n",
       "      <th>29</th>\n",
       "      <th>30</th>\n",
       "      <th>31</th>\n",
       "    </tr>\n",
       "  </thead>\n",
       "  <tbody>\n",
       "    <tr>\n",
       "      <th>count</th>\n",
       "      <td>5.690000e+02</td>\n",
       "      <td>569.000000</td>\n",
       "      <td>569.000000</td>\n",
       "      <td>569.000000</td>\n",
       "      <td>569.000000</td>\n",
       "      <td>569.000000</td>\n",
       "      <td>569.000000</td>\n",
       "      <td>569.000000</td>\n",
       "      <td>569.000000</td>\n",
       "      <td>569.000000</td>\n",
       "      <td>...</td>\n",
       "      <td>569.000000</td>\n",
       "      <td>569.000000</td>\n",
       "      <td>569.000000</td>\n",
       "      <td>569.000000</td>\n",
       "      <td>569.000000</td>\n",
       "      <td>569.000000</td>\n",
       "      <td>569.000000</td>\n",
       "      <td>569.000000</td>\n",
       "      <td>569.000000</td>\n",
       "      <td>569.000000</td>\n",
       "    </tr>\n",
       "    <tr>\n",
       "      <th>mean</th>\n",
       "      <td>3.037183e+07</td>\n",
       "      <td>14.127292</td>\n",
       "      <td>19.289649</td>\n",
       "      <td>91.969033</td>\n",
       "      <td>654.889104</td>\n",
       "      <td>0.096360</td>\n",
       "      <td>0.104341</td>\n",
       "      <td>0.088799</td>\n",
       "      <td>0.048919</td>\n",
       "      <td>0.181162</td>\n",
       "      <td>...</td>\n",
       "      <td>16.269190</td>\n",
       "      <td>25.677223</td>\n",
       "      <td>107.261213</td>\n",
       "      <td>880.583128</td>\n",
       "      <td>0.132369</td>\n",
       "      <td>0.254265</td>\n",
       "      <td>0.272188</td>\n",
       "      <td>0.114606</td>\n",
       "      <td>0.290076</td>\n",
       "      <td>0.083946</td>\n",
       "    </tr>\n",
       "    <tr>\n",
       "      <th>std</th>\n",
       "      <td>1.250206e+08</td>\n",
       "      <td>3.524049</td>\n",
       "      <td>4.301036</td>\n",
       "      <td>24.298981</td>\n",
       "      <td>351.914129</td>\n",
       "      <td>0.014064</td>\n",
       "      <td>0.052813</td>\n",
       "      <td>0.079720</td>\n",
       "      <td>0.038803</td>\n",
       "      <td>0.027414</td>\n",
       "      <td>...</td>\n",
       "      <td>4.833242</td>\n",
       "      <td>6.146258</td>\n",
       "      <td>33.602542</td>\n",
       "      <td>569.356993</td>\n",
       "      <td>0.022832</td>\n",
       "      <td>0.157336</td>\n",
       "      <td>0.208624</td>\n",
       "      <td>0.065732</td>\n",
       "      <td>0.061867</td>\n",
       "      <td>0.018061</td>\n",
       "    </tr>\n",
       "    <tr>\n",
       "      <th>min</th>\n",
       "      <td>8.670000e+03</td>\n",
       "      <td>6.981000</td>\n",
       "      <td>9.710000</td>\n",
       "      <td>43.790000</td>\n",
       "      <td>143.500000</td>\n",
       "      <td>0.052630</td>\n",
       "      <td>0.019380</td>\n",
       "      <td>0.000000</td>\n",
       "      <td>0.000000</td>\n",
       "      <td>0.106000</td>\n",
       "      <td>...</td>\n",
       "      <td>7.930000</td>\n",
       "      <td>12.020000</td>\n",
       "      <td>50.410000</td>\n",
       "      <td>185.200000</td>\n",
       "      <td>0.071170</td>\n",
       "      <td>0.027290</td>\n",
       "      <td>0.000000</td>\n",
       "      <td>0.000000</td>\n",
       "      <td>0.156500</td>\n",
       "      <td>0.055040</td>\n",
       "    </tr>\n",
       "    <tr>\n",
       "      <th>25%</th>\n",
       "      <td>8.692180e+05</td>\n",
       "      <td>11.700000</td>\n",
       "      <td>16.170000</td>\n",
       "      <td>75.170000</td>\n",
       "      <td>420.300000</td>\n",
       "      <td>0.086370</td>\n",
       "      <td>0.064920</td>\n",
       "      <td>0.029560</td>\n",
       "      <td>0.020310</td>\n",
       "      <td>0.161900</td>\n",
       "      <td>...</td>\n",
       "      <td>13.010000</td>\n",
       "      <td>21.080000</td>\n",
       "      <td>84.110000</td>\n",
       "      <td>515.300000</td>\n",
       "      <td>0.116600</td>\n",
       "      <td>0.147200</td>\n",
       "      <td>0.114500</td>\n",
       "      <td>0.064930</td>\n",
       "      <td>0.250400</td>\n",
       "      <td>0.071460</td>\n",
       "    </tr>\n",
       "    <tr>\n",
       "      <th>50%</th>\n",
       "      <td>9.060240e+05</td>\n",
       "      <td>13.370000</td>\n",
       "      <td>18.840000</td>\n",
       "      <td>86.240000</td>\n",
       "      <td>551.100000</td>\n",
       "      <td>0.095870</td>\n",
       "      <td>0.092630</td>\n",
       "      <td>0.061540</td>\n",
       "      <td>0.033500</td>\n",
       "      <td>0.179200</td>\n",
       "      <td>...</td>\n",
       "      <td>14.970000</td>\n",
       "      <td>25.410000</td>\n",
       "      <td>97.660000</td>\n",
       "      <td>686.500000</td>\n",
       "      <td>0.131300</td>\n",
       "      <td>0.211900</td>\n",
       "      <td>0.226700</td>\n",
       "      <td>0.099930</td>\n",
       "      <td>0.282200</td>\n",
       "      <td>0.080040</td>\n",
       "    </tr>\n",
       "    <tr>\n",
       "      <th>75%</th>\n",
       "      <td>8.813129e+06</td>\n",
       "      <td>15.780000</td>\n",
       "      <td>21.800000</td>\n",
       "      <td>104.100000</td>\n",
       "      <td>782.700000</td>\n",
       "      <td>0.105300</td>\n",
       "      <td>0.130400</td>\n",
       "      <td>0.130700</td>\n",
       "      <td>0.074000</td>\n",
       "      <td>0.195700</td>\n",
       "      <td>...</td>\n",
       "      <td>18.790000</td>\n",
       "      <td>29.720000</td>\n",
       "      <td>125.400000</td>\n",
       "      <td>1084.000000</td>\n",
       "      <td>0.146000</td>\n",
       "      <td>0.339100</td>\n",
       "      <td>0.382900</td>\n",
       "      <td>0.161400</td>\n",
       "      <td>0.317900</td>\n",
       "      <td>0.092080</td>\n",
       "    </tr>\n",
       "    <tr>\n",
       "      <th>max</th>\n",
       "      <td>9.113205e+08</td>\n",
       "      <td>28.110000</td>\n",
       "      <td>39.280000</td>\n",
       "      <td>188.500000</td>\n",
       "      <td>2501.000000</td>\n",
       "      <td>0.163400</td>\n",
       "      <td>0.345400</td>\n",
       "      <td>0.426800</td>\n",
       "      <td>0.201200</td>\n",
       "      <td>0.304000</td>\n",
       "      <td>...</td>\n",
       "      <td>36.040000</td>\n",
       "      <td>49.540000</td>\n",
       "      <td>251.200000</td>\n",
       "      <td>4254.000000</td>\n",
       "      <td>0.222600</td>\n",
       "      <td>1.058000</td>\n",
       "      <td>1.252000</td>\n",
       "      <td>0.291000</td>\n",
       "      <td>0.663800</td>\n",
       "      <td>0.207500</td>\n",
       "    </tr>\n",
       "  </tbody>\n",
       "</table>\n",
       "<p>8 rows × 31 columns</p>\n",
       "</div>"
      ],
      "text/plain": [
       "                 0           2           3           4            5   \\\n",
       "count  5.690000e+02  569.000000  569.000000  569.000000   569.000000   \n",
       "mean   3.037183e+07   14.127292   19.289649   91.969033   654.889104   \n",
       "std    1.250206e+08    3.524049    4.301036   24.298981   351.914129   \n",
       "min    8.670000e+03    6.981000    9.710000   43.790000   143.500000   \n",
       "25%    8.692180e+05   11.700000   16.170000   75.170000   420.300000   \n",
       "50%    9.060240e+05   13.370000   18.840000   86.240000   551.100000   \n",
       "75%    8.813129e+06   15.780000   21.800000  104.100000   782.700000   \n",
       "max    9.113205e+08   28.110000   39.280000  188.500000  2501.000000   \n",
       "\n",
       "               6           7           8           9           10     ...      \\\n",
       "count  569.000000  569.000000  569.000000  569.000000  569.000000     ...       \n",
       "mean     0.096360    0.104341    0.088799    0.048919    0.181162     ...       \n",
       "std      0.014064    0.052813    0.079720    0.038803    0.027414     ...       \n",
       "min      0.052630    0.019380    0.000000    0.000000    0.106000     ...       \n",
       "25%      0.086370    0.064920    0.029560    0.020310    0.161900     ...       \n",
       "50%      0.095870    0.092630    0.061540    0.033500    0.179200     ...       \n",
       "75%      0.105300    0.130400    0.130700    0.074000    0.195700     ...       \n",
       "max      0.163400    0.345400    0.426800    0.201200    0.304000     ...       \n",
       "\n",
       "               22          23          24           25          26  \\\n",
       "count  569.000000  569.000000  569.000000   569.000000  569.000000   \n",
       "mean    16.269190   25.677223  107.261213   880.583128    0.132369   \n",
       "std      4.833242    6.146258   33.602542   569.356993    0.022832   \n",
       "min      7.930000   12.020000   50.410000   185.200000    0.071170   \n",
       "25%     13.010000   21.080000   84.110000   515.300000    0.116600   \n",
       "50%     14.970000   25.410000   97.660000   686.500000    0.131300   \n",
       "75%     18.790000   29.720000  125.400000  1084.000000    0.146000   \n",
       "max     36.040000   49.540000  251.200000  4254.000000    0.222600   \n",
       "\n",
       "               27          28          29          30          31  \n",
       "count  569.000000  569.000000  569.000000  569.000000  569.000000  \n",
       "mean     0.254265    0.272188    0.114606    0.290076    0.083946  \n",
       "std      0.157336    0.208624    0.065732    0.061867    0.018061  \n",
       "min      0.027290    0.000000    0.000000    0.156500    0.055040  \n",
       "25%      0.147200    0.114500    0.064930    0.250400    0.071460  \n",
       "50%      0.211900    0.226700    0.099930    0.282200    0.080040  \n",
       "75%      0.339100    0.382900    0.161400    0.317900    0.092080  \n",
       "max      1.058000    1.252000    0.291000    0.663800    0.207500  \n",
       "\n",
       "[8 rows x 31 columns]"
      ]
     },
     "execution_count": 6,
     "metadata": {},
     "output_type": "execute_result"
    }
   ],
   "source": [
    "df.describe()"
   ]
  },
  {
   "cell_type": "code",
   "execution_count": 7,
   "metadata": {
    "collapsed": false
   },
   "outputs": [
    {
     "data": {
      "text/html": [
       "<div>\n",
       "<table border=\"1\" class=\"dataframe\">\n",
       "  <thead>\n",
       "    <tr style=\"text-align: right;\">\n",
       "      <th></th>\n",
       "      <th>0</th>\n",
       "      <th>1</th>\n",
       "      <th>2</th>\n",
       "      <th>3</th>\n",
       "      <th>4</th>\n",
       "      <th>5</th>\n",
       "      <th>6</th>\n",
       "      <th>7</th>\n",
       "      <th>8</th>\n",
       "      <th>9</th>\n",
       "      <th>...</th>\n",
       "      <th>22</th>\n",
       "      <th>23</th>\n",
       "      <th>24</th>\n",
       "      <th>25</th>\n",
       "      <th>26</th>\n",
       "      <th>27</th>\n",
       "      <th>28</th>\n",
       "      <th>29</th>\n",
       "      <th>30</th>\n",
       "      <th>31</th>\n",
       "    </tr>\n",
       "  </thead>\n",
       "  <tbody>\n",
       "    <tr>\n",
       "      <th>0</th>\n",
       "      <td>842302</td>\n",
       "      <td>M</td>\n",
       "      <td>17.99</td>\n",
       "      <td>10.38</td>\n",
       "      <td>122.80</td>\n",
       "      <td>1001.0</td>\n",
       "      <td>0.11840</td>\n",
       "      <td>0.27760</td>\n",
       "      <td>0.3001</td>\n",
       "      <td>0.14710</td>\n",
       "      <td>...</td>\n",
       "      <td>25.38</td>\n",
       "      <td>17.33</td>\n",
       "      <td>184.60</td>\n",
       "      <td>2019.0</td>\n",
       "      <td>0.1622</td>\n",
       "      <td>0.6656</td>\n",
       "      <td>0.7119</td>\n",
       "      <td>0.2654</td>\n",
       "      <td>0.4601</td>\n",
       "      <td>0.11890</td>\n",
       "    </tr>\n",
       "    <tr>\n",
       "      <th>1</th>\n",
       "      <td>842517</td>\n",
       "      <td>M</td>\n",
       "      <td>20.57</td>\n",
       "      <td>17.77</td>\n",
       "      <td>132.90</td>\n",
       "      <td>1326.0</td>\n",
       "      <td>0.08474</td>\n",
       "      <td>0.07864</td>\n",
       "      <td>0.0869</td>\n",
       "      <td>0.07017</td>\n",
       "      <td>...</td>\n",
       "      <td>24.99</td>\n",
       "      <td>23.41</td>\n",
       "      <td>158.80</td>\n",
       "      <td>1956.0</td>\n",
       "      <td>0.1238</td>\n",
       "      <td>0.1866</td>\n",
       "      <td>0.2416</td>\n",
       "      <td>0.1860</td>\n",
       "      <td>0.2750</td>\n",
       "      <td>0.08902</td>\n",
       "    </tr>\n",
       "    <tr>\n",
       "      <th>2</th>\n",
       "      <td>84300903</td>\n",
       "      <td>M</td>\n",
       "      <td>19.69</td>\n",
       "      <td>21.25</td>\n",
       "      <td>130.00</td>\n",
       "      <td>1203.0</td>\n",
       "      <td>0.10960</td>\n",
       "      <td>0.15990</td>\n",
       "      <td>0.1974</td>\n",
       "      <td>0.12790</td>\n",
       "      <td>...</td>\n",
       "      <td>23.57</td>\n",
       "      <td>25.53</td>\n",
       "      <td>152.50</td>\n",
       "      <td>1709.0</td>\n",
       "      <td>0.1444</td>\n",
       "      <td>0.4245</td>\n",
       "      <td>0.4504</td>\n",
       "      <td>0.2430</td>\n",
       "      <td>0.3613</td>\n",
       "      <td>0.08758</td>\n",
       "    </tr>\n",
       "    <tr>\n",
       "      <th>3</th>\n",
       "      <td>84348301</td>\n",
       "      <td>M</td>\n",
       "      <td>11.42</td>\n",
       "      <td>20.38</td>\n",
       "      <td>77.58</td>\n",
       "      <td>386.1</td>\n",
       "      <td>0.14250</td>\n",
       "      <td>0.28390</td>\n",
       "      <td>0.2414</td>\n",
       "      <td>0.10520</td>\n",
       "      <td>...</td>\n",
       "      <td>14.91</td>\n",
       "      <td>26.50</td>\n",
       "      <td>98.87</td>\n",
       "      <td>567.7</td>\n",
       "      <td>0.2098</td>\n",
       "      <td>0.8663</td>\n",
       "      <td>0.6869</td>\n",
       "      <td>0.2575</td>\n",
       "      <td>0.6638</td>\n",
       "      <td>0.17300</td>\n",
       "    </tr>\n",
       "    <tr>\n",
       "      <th>4</th>\n",
       "      <td>84358402</td>\n",
       "      <td>M</td>\n",
       "      <td>20.29</td>\n",
       "      <td>14.34</td>\n",
       "      <td>135.10</td>\n",
       "      <td>1297.0</td>\n",
       "      <td>0.10030</td>\n",
       "      <td>0.13280</td>\n",
       "      <td>0.1980</td>\n",
       "      <td>0.10430</td>\n",
       "      <td>...</td>\n",
       "      <td>22.54</td>\n",
       "      <td>16.67</td>\n",
       "      <td>152.20</td>\n",
       "      <td>1575.0</td>\n",
       "      <td>0.1374</td>\n",
       "      <td>0.2050</td>\n",
       "      <td>0.4000</td>\n",
       "      <td>0.1625</td>\n",
       "      <td>0.2364</td>\n",
       "      <td>0.07678</td>\n",
       "    </tr>\n",
       "  </tbody>\n",
       "</table>\n",
       "<p>5 rows × 32 columns</p>\n",
       "</div>"
      ],
      "text/plain": [
       "         0  1      2      3       4       5        6        7       8   \\\n",
       "0    842302  M  17.99  10.38  122.80  1001.0  0.11840  0.27760  0.3001   \n",
       "1    842517  M  20.57  17.77  132.90  1326.0  0.08474  0.07864  0.0869   \n",
       "2  84300903  M  19.69  21.25  130.00  1203.0  0.10960  0.15990  0.1974   \n",
       "3  84348301  M  11.42  20.38   77.58   386.1  0.14250  0.28390  0.2414   \n",
       "4  84358402  M  20.29  14.34  135.10  1297.0  0.10030  0.13280  0.1980   \n",
       "\n",
       "        9    ...        22     23      24      25      26      27      28  \\\n",
       "0  0.14710   ...     25.38  17.33  184.60  2019.0  0.1622  0.6656  0.7119   \n",
       "1  0.07017   ...     24.99  23.41  158.80  1956.0  0.1238  0.1866  0.2416   \n",
       "2  0.12790   ...     23.57  25.53  152.50  1709.0  0.1444  0.4245  0.4504   \n",
       "3  0.10520   ...     14.91  26.50   98.87   567.7  0.2098  0.8663  0.6869   \n",
       "4  0.10430   ...     22.54  16.67  152.20  1575.0  0.1374  0.2050  0.4000   \n",
       "\n",
       "       29      30       31  \n",
       "0  0.2654  0.4601  0.11890  \n",
       "1  0.1860  0.2750  0.08902  \n",
       "2  0.2430  0.3613  0.08758  \n",
       "3  0.2575  0.6638  0.17300  \n",
       "4  0.1625  0.2364  0.07678  \n",
       "\n",
       "[5 rows x 32 columns]"
      ]
     },
     "execution_count": 7,
     "metadata": {},
     "output_type": "execute_result"
    }
   ],
   "source": [
    "df.head()"
   ]
  },
  {
   "cell_type": "markdown",
   "metadata": {},
   "source": [
    "Not to descriptive but these numbers mean something to someone.  The first column looks like an identifier and the second column looks like the class labels, malignant (M) or benign (B).  From this, we can use the other 30 columns to build our machine learning predictor."
   ]
  },
  {
   "cell_type": "code",
   "execution_count": 8,
   "metadata": {
    "collapsed": false
   },
   "outputs": [],
   "source": [
    "X = df.loc[:, 2:].values\n",
    "y = df.loc[:, 1].values"
   ]
  },
  {
   "cell_type": "code",
   "execution_count": 9,
   "metadata": {
    "collapsed": false
   },
   "outputs": [
    {
     "data": {
      "text/plain": [
       "array(['M', 'M', 'M', 'M', 'M', 'M', 'M', 'M', 'M', 'M', 'M', 'M', 'M',\n",
       "       'M', 'M', 'M', 'M', 'M', 'M', 'B', 'B', 'B', 'M', 'M', 'M', 'M',\n",
       "       'M', 'M', 'M', 'M', 'M', 'M', 'M', 'M', 'M', 'M', 'M', 'B', 'M',\n",
       "       'M', 'M', 'M', 'M', 'M', 'M', 'M', 'B', 'M', 'B', 'B'], dtype=object)"
      ]
     },
     "execution_count": 9,
     "metadata": {},
     "output_type": "execute_result"
    }
   ],
   "source": [
    "y[:50]"
   ]
  },
  {
   "cell_type": "markdown",
   "metadata": {},
   "source": [
    "Lets transform the labels into integers."
   ]
  },
  {
   "cell_type": "code",
   "execution_count": 10,
   "metadata": {
    "collapsed": false
   },
   "outputs": [],
   "source": [
    "le = sklearn.preprocessing.LabelEncoder()\n",
    "y = le.fit_transform(y)"
   ]
  },
  {
   "cell_type": "code",
   "execution_count": 11,
   "metadata": {
    "collapsed": false
   },
   "outputs": [
    {
     "data": {
      "text/plain": [
       "array([1, 1, 1, 1, 1, 1, 1, 1, 1, 1, 1, 1, 1, 1, 1, 1, 1, 1, 1, 0, 0, 0, 1,\n",
       "       1, 1, 1, 1, 1, 1, 1, 1, 1, 1, 1, 1, 1, 1, 0, 1, 1, 1, 1, 1, 1, 1, 1,\n",
       "       0, 1, 0, 0])"
      ]
     },
     "execution_count": 11,
     "metadata": {},
     "output_type": "execute_result"
    }
   ],
   "source": [
    "y[:50]"
   ]
  },
  {
   "cell_type": "code",
   "execution_count": 12,
   "metadata": {
    "collapsed": false
   },
   "outputs": [
    {
     "name": "stdout",
     "output_type": "stream",
     "text": [
      "M: 1\n",
      "B: 0\n"
     ]
    }
   ],
   "source": [
    "labels = ['M', 'B']\n",
    "encoded = le.fit_transform(labels)\n",
    "for label, encode in zip(labels, encoded):\n",
    "    print('{}: {}'.format(label, encode))"
   ]
  },
  {
   "cell_type": "markdown",
   "metadata": {},
   "source": [
    "So 1 is malignant, 0 is benign."
   ]
  },
  {
   "cell_type": "markdown",
   "metadata": {},
   "source": [
    "Lets proceed to split the data, 80/20, into training and test sets."
   ]
  },
  {
   "cell_type": "code",
   "execution_count": 13,
   "metadata": {
    "collapsed": true
   },
   "outputs": [],
   "source": [
    "X_train, X_test, y_train, y_test = sklearn.model_selection.train_test_split(X, y, \n",
    "                                                                            test_size=0.2, \n",
    "                                                                            random_state=rs)"
   ]
  },
  {
   "cell_type": "markdown",
   "metadata": {},
   "source": [
    "# Pipeline\n",
    "\n",
    "Now lets create a pipeline to process and fit this data using the following steps:\n",
    "    1. normalize the data to have a mean of zero and standard deviation of 1\n",
    "    2. perform a PCA analysis to simplify the data to only 2 descriptive features\n",
    "    3. fit the data using logistic regression"
   ]
  },
  {
   "cell_type": "code",
   "execution_count": 14,
   "metadata": {
    "collapsed": true
   },
   "outputs": [],
   "source": [
    "lr_pipe0 = sklearn.pipeline.Pipeline([\n",
    "    ('scl', sklearn.preprocessing.StandardScaler()),\n",
    "    ('pca', sklearn.decomposition.PCA(n_components=2)),\n",
    "    ('clf', sklearn.linear_model.LogisticRegression(random_state=rs)),\n",
    "])"
   ]
  },
  {
   "cell_type": "code",
   "execution_count": 15,
   "metadata": {
    "collapsed": false
   },
   "outputs": [
    {
     "data": {
      "text/plain": [
       "Pipeline(steps=[('scl', StandardScaler(copy=True, with_mean=True, with_std=True)), ('pca', PCA(copy=True, iterated_power='auto', n_components=2, random_state=None,\n",
       "  svd_solver='auto', tol=0.0, whiten=False)), ('clf', LogisticRegression(C=1.0, class_weight=None, dual=False, fit_intercept=True,\n",
       "          intercept_scaling=1, max_iter=100, multi_class='ovr', n_jobs=1,\n",
       "          penalty='l2', random_state=1, solver='liblinear', tol=0.0001,\n",
       "          verbose=0, warm_start=False))])"
      ]
     },
     "execution_count": 15,
     "metadata": {},
     "output_type": "execute_result"
    }
   ],
   "source": [
    "lr_pipe0.fit(X_train, y_train)"
   ]
  },
  {
   "cell_type": "code",
   "execution_count": 16,
   "metadata": {
    "collapsed": false
   },
   "outputs": [
    {
     "name": "stdout",
     "output_type": "stream",
     "text": [
      "Testing Accuracy: 0.947\n"
     ]
    }
   ],
   "source": [
    "print('Testing Accuracy: {:0.3f}'.format(lr_pipe0.score(X_test, y_test)))"
   ]
  },
  {
   "cell_type": "markdown",
   "metadata": {},
   "source": [
    "While this result looks great, using PCA to reduce the data to 2 components likely led to overfitting of the data.\n",
    "\n",
    "Lets now use k-fold cross-validation to evaluate model performance."
   ]
  },
  {
   "cell_type": "code",
   "execution_count": 17,
   "metadata": {
    "collapsed": false
   },
   "outputs": [],
   "source": [
    "skf = sklearn.model_selection.StratifiedKFold(n_splits=10, random_state=rs)\n",
    "kfold = skf.split(X_train, y_train)"
   ]
  },
  {
   "cell_type": "markdown",
   "metadata": {},
   "source": [
    "We will first do this explicitly to demonstrate what is going on."
   ]
  },
  {
   "cell_type": "code",
   "execution_count": 18,
   "metadata": {
    "collapsed": false
   },
   "outputs": [
    {
     "name": "stdout",
     "output_type": "stream",
     "text": [
      "fold: 001, label distribution: (256, 153), accuracy: 0.891\n",
      "fold: 002, label distribution: (256, 153), accuracy: 0.978\n",
      "fold: 003, label distribution: (256, 153), accuracy: 0.978\n",
      "fold: 004, label distribution: (256, 153), accuracy: 0.913\n",
      "fold: 005, label distribution: (256, 153), accuracy: 0.935\n",
      "fold: 006, label distribution: (257, 153), accuracy: 0.978\n",
      "fold: 007, label distribution: (257, 153), accuracy: 0.933\n",
      "fold: 008, label distribution: (257, 153), accuracy: 0.956\n",
      "fold: 009, label distribution: (257, 153), accuracy: 0.978\n",
      "fold: 010, label distribution: (257, 153), accuracy: 0.956\n",
      "average accuracy: 0.95 +/- 0.0292\n"
     ]
    }
   ],
   "source": [
    "scores = []\n",
    "for k, (train, test) in enumerate(kfold):\n",
    "    lr_pipe0.fit(X_train[train], y_train[train])\n",
    "    score = lr_pipe0.score(X_train[test], y_train[test])\n",
    "    scores.append(score)\n",
    "    print('fold: {:03}, label distribution: ({}, {}), accuracy: {:.3}'.format(\n",
    "        k+1, *np.bincount(y_train[train]), score))\n",
    "print('average accuracy: {:.3} +/- {:.3}'.format(np.mean(scores), np.std(scores)))"
   ]
  },
  {
   "cell_type": "markdown",
   "metadata": {},
   "source": [
    "We can do this using simply `sklearn.model_selection.cross_val_score`. Note that by using `n_jobs=-1` the calculation will maximize the number of CPU cores used."
   ]
  },
  {
   "cell_type": "code",
   "execution_count": 19,
   "metadata": {
    "collapsed": false
   },
   "outputs": [],
   "source": [
    "scores = sklearn.model_selection.cross_val_score(estimator=lr_pipe0, X=X_train,\n",
    "                                                 y=y_train, cv=10, n_jobs=-1)  "
   ]
  },
  {
   "cell_type": "code",
   "execution_count": 20,
   "metadata": {
    "collapsed": false
   },
   "outputs": [
    {
     "name": "stdout",
     "output_type": "stream",
     "text": [
      "average accuracy: 0.95 +/- 0.0292\n"
     ]
    }
   ],
   "source": [
    "print('average accuracy: {:.3} +/- {:.3}'.format(np.mean(scores), np.std(scores)))"
   ]
  },
  {
   "cell_type": "markdown",
   "metadata": {},
   "source": [
    "Not surprisingly, we get the same result."
   ]
  },
  {
   "cell_type": "markdown",
   "metadata": {},
   "source": [
    "# Learning Curve\n",
    "\n",
    "Now lets look at a learning curves for how well our model represents the data.  A learning bias and variance of the model.  High bias, underfitting, situations can often be corrected by including additional features, either by measurement or feature engineering, or by decreasing the degree of regularization.  High variance, overfitting, situations can often be corrected by increasing the number of data samples or by reducing the data dimensionality via feature selection or PCA analysis.   "
   ]
  },
  {
   "cell_type": "code",
   "execution_count": 21,
   "metadata": {
    "collapsed": false
   },
   "outputs": [],
   "source": [
    "train_sizes, train_scores, test_scores = sklearn.model_selection.learning_curve(\n",
    "    estimator=lr_pipe0, X=X_train, y=y_train, train_sizes=np.linspace(0.1, 1, 50),\n",
    "    cv=10, n_jobs=-1)"
   ]
  },
  {
   "cell_type": "code",
   "execution_count": 22,
   "metadata": {
    "collapsed": true
   },
   "outputs": [],
   "source": [
    "train_mean = train_scores.mean(axis=1)\n",
    "train_std = train_scores.std(axis=1)\n",
    "\n",
    "test_mean = test_scores.mean(axis=1)\n",
    "test_std = test_scores.std(axis=1)"
   ]
  },
  {
   "cell_type": "code",
   "execution_count": 23,
   "metadata": {
    "collapsed": false
   },
   "outputs": [
    {
     "data": {
      "text/html": [
       "\n",
       "\n",
       "    <div class=\"bk-root\">\n",
       "        <div class=\"bk-plotdiv\" id=\"3ae939df-6615-4387-9bdd-2eb5e4adb344\"></div>\n",
       "    </div>\n",
       "<script type=\"text/javascript\">\n",
       "  \n",
       "  (function(global) {\n",
       "    function now() {\n",
       "      return new Date();\n",
       "    }\n",
       "  \n",
       "    var force = false;\n",
       "  \n",
       "    if (typeof (window._bokeh_onload_callbacks) === \"undefined\" || force === true) {\n",
       "      window._bokeh_onload_callbacks = [];\n",
       "      window._bokeh_is_loading = undefined;\n",
       "    }\n",
       "  \n",
       "  \n",
       "    \n",
       "    if (typeof (window._bokeh_timeout) === \"undefined\" || force === true) {\n",
       "      window._bokeh_timeout = Date.now() + 0;\n",
       "      window._bokeh_failed_load = false;\n",
       "    }\n",
       "  \n",
       "    var NB_LOAD_WARNING = {'data': {'text/html':\n",
       "       \"<div style='background-color: #fdd'>\\n\"+\n",
       "       \"<p>\\n\"+\n",
       "       \"BokehJS does not appear to have successfully loaded. If loading BokehJS from CDN, this \\n\"+\n",
       "       \"may be due to a slow or bad network connection. Possible fixes:\\n\"+\n",
       "       \"</p>\\n\"+\n",
       "       \"<ul>\\n\"+\n",
       "       \"<li>re-rerun `output_notebook()` to attempt to load from CDN again, or</li>\\n\"+\n",
       "       \"<li>use INLINE resources instead, as so:</li>\\n\"+\n",
       "       \"</ul>\\n\"+\n",
       "       \"<code>\\n\"+\n",
       "       \"from bokeh.resources import INLINE\\n\"+\n",
       "       \"output_notebook(resources=INLINE)\\n\"+\n",
       "       \"</code>\\n\"+\n",
       "       \"</div>\"}};\n",
       "  \n",
       "    function display_loaded() {\n",
       "      if (window.Bokeh !== undefined) {\n",
       "        var el = document.getElementById(\"3ae939df-6615-4387-9bdd-2eb5e4adb344\");\n",
       "        el.textContent = \"BokehJS \" + Bokeh.version + \" successfully loaded.\";\n",
       "      } else if (Date.now() < window._bokeh_timeout) {\n",
       "        setTimeout(display_loaded, 100)\n",
       "      }\n",
       "    }\n",
       "  \n",
       "    function run_callbacks() {\n",
       "      window._bokeh_onload_callbacks.forEach(function(callback) { callback() });\n",
       "      delete window._bokeh_onload_callbacks\n",
       "      console.info(\"Bokeh: all callbacks have finished\");\n",
       "    }\n",
       "  \n",
       "    function load_libs(js_urls, callback) {\n",
       "      window._bokeh_onload_callbacks.push(callback);\n",
       "      if (window._bokeh_is_loading > 0) {\n",
       "        console.log(\"Bokeh: BokehJS is being loaded, scheduling callback at\", now());\n",
       "        return null;\n",
       "      }\n",
       "      if (js_urls == null || js_urls.length === 0) {\n",
       "        run_callbacks();\n",
       "        return null;\n",
       "      }\n",
       "      console.log(\"Bokeh: BokehJS not loaded, scheduling load and callback at\", now());\n",
       "      window._bokeh_is_loading = js_urls.length;\n",
       "      for (var i = 0; i < js_urls.length; i++) {\n",
       "        var url = js_urls[i];\n",
       "        var s = document.createElement('script');\n",
       "        s.src = url;\n",
       "        s.async = false;\n",
       "        s.onreadystatechange = s.onload = function() {\n",
       "          window._bokeh_is_loading--;\n",
       "          if (window._bokeh_is_loading === 0) {\n",
       "            console.log(\"Bokeh: all BokehJS libraries loaded\");\n",
       "            run_callbacks()\n",
       "          }\n",
       "        };\n",
       "        s.onerror = function() {\n",
       "          console.warn(\"failed to load library \" + url);\n",
       "        };\n",
       "        console.log(\"Bokeh: injecting script tag for BokehJS library: \", url);\n",
       "        document.getElementsByTagName(\"head\")[0].appendChild(s);\n",
       "      }\n",
       "    };var element = document.getElementById(\"3ae939df-6615-4387-9bdd-2eb5e4adb344\");\n",
       "    if (element == null) {\n",
       "      console.log(\"Bokeh: ERROR: autoload.js configured with elementid '3ae939df-6615-4387-9bdd-2eb5e4adb344' but no matching script tag was found. \")\n",
       "      return false;\n",
       "    }\n",
       "  \n",
       "    var js_urls = [];\n",
       "  \n",
       "    var inline_js = [\n",
       "      function(Bokeh) {\n",
       "        (function() {\n",
       "          var fn = function() {\n",
       "            var docs_json = {\"a3fb7b63-ce38-4c74-991a-21c1252dfebd\":{\"roots\":{\"references\":[{\"attributes\":{\"plot\":null,\"text\":\"\"},\"id\":\"d5798a97-6a6d-4eed-8b16-ff6722490174\",\"type\":\"Title\"},{\"attributes\":{\"bottom\":{\"field\":\"bottom\"},\"fill_alpha\":{\"value\":0.2},\"fill_color\":{\"value\":\"#1f77b4\"},\"left\":{\"field\":\"left\"},\"line_alpha\":{\"value\":0.2},\"line_color\":{\"value\":\"#1f77b4\"},\"right\":{\"field\":\"right\"},\"top\":{\"field\":\"top\"}},\"id\":\"05479c56-1ab7-4bc6-9fff-030d0888c3f1\",\"type\":\"Quad\"},{\"attributes\":{\"callback\":null,\"start\":0.8},\"id\":\"1f0a2f76-c282-42c6-bb81-5db9067a1ca9\",\"type\":\"Range1d\"},{\"attributes\":{},\"id\":\"1246c572-8ffb-46b0-9c1f-03a8f1d8886b\",\"type\":\"BasicTickFormatter\"},{\"attributes\":{\"bottom\":{\"field\":\"bottom\"},\"fill_alpha\":{\"value\":0.1},\"fill_color\":{\"value\":\"#1f77b4\"},\"left\":{\"field\":\"left\"},\"line_alpha\":{\"value\":0.1},\"line_color\":{\"value\":\"#1f77b4\"},\"right\":{\"field\":\"right\"},\"top\":{\"field\":\"top\"}},\"id\":\"f8debc3e-befb-4ccb-abc7-57916acb91e0\",\"type\":\"Quad\"},{\"attributes\":{\"axis_label\":\"Number of training samples\",\"formatter\":{\"id\":\"6db437a9-528b-46c5-984d-ec90ee69f3f9\",\"type\":\"BasicTickFormatter\"},\"plot\":{\"id\":\"cbdd456a-c6a4-4617-8c34-7242250fc8fc\",\"subtype\":\"Figure\",\"type\":\"Plot\"},\"ticker\":{\"id\":\"b5e5c714-feb4-42c2-a450-7a0ad7907254\",\"type\":\"BasicTicker\"}},\"id\":\"7c472b49-2578-4eda-8108-008a15aaba49\",\"type\":\"LinearAxis\"},{\"attributes\":{},\"id\":\"b5e5c714-feb4-42c2-a450-7a0ad7907254\",\"type\":\"BasicTicker\"},{\"attributes\":{\"bottom\":{\"field\":\"bottom\"},\"fill_alpha\":{\"value\":0.1},\"fill_color\":{\"value\":\"#1f77b4\"},\"left\":{\"field\":\"left\"},\"line_alpha\":{\"value\":0.1},\"line_color\":{\"value\":\"#1f77b4\"},\"right\":{\"field\":\"right\"},\"top\":{\"field\":\"top\"}},\"id\":\"517dc636-83ac-4b5f-b25e-c8523674f7f3\",\"type\":\"Quad\"},{\"attributes\":{\"callback\":null,\"end\":409,\"start\":40},\"id\":\"480c4bdc-f37b-4153-b104-832fd52e904a\",\"type\":\"Range1d\"},{\"attributes\":{\"label\":{\"value\":\"x-validation accuracy\"},\"renderers\":[{\"id\":\"d53ed302-1245-4276-a23a-07c9d22de644\",\"type\":\"GlyphRenderer\"}]},\"id\":\"2085a262-4ecb-4208-b5cf-0d6067f57f4e\",\"type\":\"LegendItem\"},{\"attributes\":{\"bottom\":{\"field\":\"bottom\"},\"fill_alpha\":{\"value\":0.2},\"fill_color\":{\"value\":\"#ff7f0e\"},\"left\":{\"field\":\"left\"},\"line_alpha\":{\"value\":0.2},\"line_color\":{\"value\":\"#ff7f0e\"},\"right\":{\"field\":\"right\"},\"top\":{\"field\":\"top\"}},\"id\":\"0cc794fb-7b14-4262-af2a-bbec347bc4df\",\"type\":\"Quad\"},{\"attributes\":{\"line_alpha\":{\"value\":0.1},\"line_color\":{\"value\":\"#1f77b4\"},\"line_dash\":[6],\"x\":{\"field\":\"x\"},\"y\":{\"field\":\"y\"}},\"id\":\"760e015e-b5c6-4b90-ad5b-fc0035fe7baf\",\"type\":\"Line\"},{\"attributes\":{},\"id\":\"56622592-58cd-4273-92ab-cd2c7218680e\",\"type\":\"ToolEvents\"},{\"attributes\":{\"active_drag\":\"auto\",\"active_inspect\":\"auto\",\"active_scroll\":\"auto\",\"active_tap\":\"auto\",\"tools\":[{\"id\":\"76e0a8e8-1be4-4178-9472-91a14cb53559\",\"type\":\"PanTool\"},{\"id\":\"111321d9-4360-447b-a5cb-3adb327c939d\",\"type\":\"WheelZoomTool\"},{\"id\":\"3903bb72-ad22-4ae2-97c8-c30506260383\",\"type\":\"BoxZoomTool\"},{\"id\":\"4b99d078-c8a6-4203-ab2f-01dc0eb512f3\",\"type\":\"SaveTool\"},{\"id\":\"8092ce34-5bdb-49c9-ac0e-ac79e085960b\",\"type\":\"ResetTool\"},{\"id\":\"6426e7d3-d94c-4556-a9f9-8133f08e53a4\",\"type\":\"HelpTool\"}]},\"id\":\"29d84acd-9630-41a4-8d2c-c7cf5667ae94\",\"type\":\"Toolbar\"},{\"attributes\":{\"plot\":{\"id\":\"cbdd456a-c6a4-4617-8c34-7242250fc8fc\",\"subtype\":\"Figure\",\"type\":\"Plot\"}},\"id\":\"111321d9-4360-447b-a5cb-3adb327c939d\",\"type\":\"WheelZoomTool\"},{\"attributes\":{\"plot\":{\"id\":\"cbdd456a-c6a4-4617-8c34-7242250fc8fc\",\"subtype\":\"Figure\",\"type\":\"Plot\"},\"ticker\":{\"id\":\"b5e5c714-feb4-42c2-a450-7a0ad7907254\",\"type\":\"BasicTicker\"}},\"id\":\"9e672e44-96f6-4c1c-9ac1-112af72900ec\",\"type\":\"Grid\"},{\"attributes\":{\"data_source\":{\"id\":\"d7e7cfbd-cf70-4e45-b27c-35db160da8db\",\"type\":\"ColumnDataSource\"},\"glyph\":{\"id\":\"af6a833f-f9d2-4ff0-a836-3b4a3a0b4eba\",\"type\":\"Line\"},\"hover_glyph\":null,\"muted_glyph\":null,\"nonselection_glyph\":{\"id\":\"760e015e-b5c6-4b90-ad5b-fc0035fe7baf\",\"type\":\"Line\"},\"selection_glyph\":null},\"id\":\"d53ed302-1245-4276-a23a-07c9d22de644\",\"type\":\"GlyphRenderer\"},{\"attributes\":{\"callback\":null,\"column_names\":[\"left\",\"right\",\"top\",\"bottom\"],\"data\":{\"bottom\":{\"__ndarray__\":\"BGDyMdyP7D+6+iWAUeLsP2jVMRRn+uw/3gtxXW377D8gUruS+s7sP63oZa3uuew/AGBWx7+/7D82fuF6p8DsP+hbJUI2M+0/6FslQjYz7T8/D/m5lwntP+hbJUI2M+0/Dubq1qc87T8+MwJY7NzsPz4zAljs3Ow/nV+IexQQ7T9wzCcE4wPtPxAWCrfUHe0/XUMAcG0d7T88r3YK4jftP8FkgOuPZe0/Zut6wWY57T9m63rBZjntPy4MjBoxSO0/51xMDoUc7T+Pdx85+yntP4xOaUiGSe0/ACDsWAR47T9B6MPwRIrtP4xOaUiGSe0/ACDsWAR47T8AIOxYBHjtPwAg7FgEeO0/QejD8ESK7T+QOQ9PF7XtP0How/BEiu0/QejD8ESK7T8pWffvgp/tP0How/BEiu0/QejD8ESK7T9B6MPwRIrtP0How/BEiu0/QejD8ESK7T9B6MPwRIrtP3SLVgAFX+0/dItWAAVf7T90i1YABV/tP3SLVgAFX+0/Qh48L7Zz7T9CHjwvtnPtPw==\",\"dtype\":\"float64\",\"shape\":[50]},\"left\":{\"__ndarray__\":\"AAAAAAAAREAAAAAAAABGQAAAAAAAwElAAAAAAACATUAAAAAAAKBQQAAAAAAAgFJAAAAAAABgVEAAAAAAAEBWQAAAAAAAIFhAAAAAAAAAWkAAAAAAAABcQAAAAAAA4F1AAAAAAADAX0AAAAAAANBgQAAAAAAAwGFAAAAAAACwYkAAAAAAAKBjQAAAAAAAkGRAAAAAAACAZUAAAAAAAHBmQAAAAAAAYGdAAAAAAABQaEAAAAAAAEBpQAAAAAAAMGpAAAAAAAAga0AAAAAAABBsQAAAAAAAAG1AAAAAAADwbUAAAAAAAOBuQAAAAAAA0G9AAAAAAABgcEAAAAAAANhwQAAAAAAAUHFAAAAAAADIcUAAAAAAAEByQAAAAAAAuHJAAAAAAAAwc0AAAAAAAKhzQAAAAAAAIHRAAAAAAACYdEAAAAAAABB1QAAAAAAAiHVAAAAAAAAAdkAAAAAAAHh2QAAAAAAA8HZAAAAAAABod0AAAAAAAOB3QAAAAAAAWHhAAAAAAADQeEAAAAAAAFB5QA==\",\"dtype\":\"float64\",\"shape\":[50]},\"right\":{\"__ndarray__\":\"AAAAAAAARkAAAAAAAMBJQAAAAAAAgE1AAAAAAACgUEAAAAAAAIBSQAAAAAAAYFRAAAAAAABAVkAAAAAAACBYQAAAAAAAAFpAAAAAAAAAXEAAAAAAAOBdQAAAAAAAwF9AAAAAAADQYEAAAAAAAMBhQAAAAAAAsGJAAAAAAACgY0AAAAAAAJBkQAAAAAAAgGVAAAAAAABwZkAAAAAAAGBnQAAAAAAAUGhAAAAAAABAaUAAAAAAADBqQAAAAAAAIGtAAAAAAAAQbEAAAAAAAABtQAAAAAAA8G1AAAAAAADgbkAAAAAAANBvQAAAAAAAYHBAAAAAAADYcEAAAAAAAFBxQAAAAAAAyHFAAAAAAABAckAAAAAAALhyQAAAAAAAMHNAAAAAAACoc0AAAAAAACB0QAAAAAAAmHRAAAAAAAAQdUAAAAAAAIh1QAAAAAAAAHZAAAAAAAB4dkAAAAAAAPB2QAAAAAAAaHdAAAAAAADgd0AAAAAAAFh4QAAAAAAA0HhAAAAAAABQeUAAAAAAAJB5QA==\",\"dtype\":\"float64\",\"shape\":[50]},\"top\":{\"__ndarray__\":\"ooSs+nnO7j92Pj4a2J7uP0KZIzMrq+4/QlN6ie+q7j+GkuOZW4/uP3/GR9L+f+4/LJSyxcud7j9wZr2xrp3uP8RXixL6le4/xFeLEvqV7j9rX1yN+pvuP8RXixL6le4/ohIhiyaw7j9ugK78Q+zuP26ArvxD7O4/iYkZhoTd7j8854hQTcXuP5AIifcs9O4/zS9YrGcX7z/uw+ER8/zuP2tTMz7j8u4/xEKCTdDX7j/EQoJN0NfuP3ZXYqFu7e4/yZu/U0nQ7j+btt3VO+fuP5BKdiCCEO8/HL5OHaIF7z/fOtKS/xbvP5BKdiCCEO8/HL5OHaIF7z8cvk4dogXvPxy+Th2iBe8/3zrSkv8W7z8MZNPuMzTvP9860pL/Fu8/3zrSkv8W7z9x/49AKibvP9860pL/Fu8/3zrSkv8W7z/fOtKS/xbvP9860pL/Fu8/3zrSkv8W7z/fOtKS/xbvP6yXP4M/Qu8/rJc/gz9C7z+slz+DP0LvP6yXP4M/Qu8/WDpLAfdR7z9YOksB91HvPw==\",\"dtype\":\"float64\",\"shape\":[50]}}},\"id\":\"f93b1e53-51ce-45ed-bb75-625c83b1c73a\",\"type\":\"ColumnDataSource\"},{\"attributes\":{\"line_color\":{\"value\":\"#1f77b4\"},\"x\":{\"field\":\"x\"},\"y\":{\"field\":\"y\"}},\"id\":\"aa4bec86-1548-4db3-9ef1-069231813310\",\"type\":\"Line\"},{\"attributes\":{\"data_source\":{\"id\":\"f93b1e53-51ce-45ed-bb75-625c83b1c73a\",\"type\":\"ColumnDataSource\"},\"glyph\":{\"id\":\"0cc794fb-7b14-4262-af2a-bbec347bc4df\",\"type\":\"Quad\"},\"hover_glyph\":null,\"muted_glyph\":null,\"nonselection_glyph\":{\"id\":\"f8debc3e-befb-4ccb-abc7-57916acb91e0\",\"type\":\"Quad\"},\"selection_glyph\":null},\"id\":\"05933db7-9c36-4e46-878d-5206e1791b16\",\"type\":\"GlyphRenderer\"},{\"attributes\":{\"callback\":null,\"column_names\":[\"left\",\"right\",\"top\",\"bottom\"],\"data\":{\"bottom\":{\"__ndarray__\":\"PQrXo3A97j+gOogy6nrtPwVeWeCVBe4/Yc/T18jB7j+4HoXrUbjuPw7ncA7ncO4/pD7YcQul7j9r3qzmzWruPxsv3SQGge0/xvYlHJSX7T+9Barxe5vtP9E7SMujhe0/puQSCd167T9sFBB2lpvtP/6eOuN9Re0/ndDCG3Nl7T9eDmSUpoHtP80sUKSZb+0/nSx/nAKO7T/KpUSobKbtP7dDIA+fv+0/m4b1UU+r7T8ND4t2e8LtP5pTD4PEx+0/U/6pTVbc7T+eW+LU77ntP30eY03AyO0/rcimCFKs7T/myW+3UsPtP8yLwdKTr+0/ZMUSmr3E7T+5aCN9kNHtP2Wcr4J24e0/3Q12PInb7T9WfFI1FAbuP9hJQE6w6u0/CMYG8lD97T80RtKJPAzuP/+ilRlYGe4/IsED4H8Y7j9vVEBhPiruP9esVXPjJu4/MYy1K4Ux7j97oF1QKC3uP9G3s+m/Ge4/SOOJ84007j8cKcB+8TruP7ZCYUrYT+4/ctbXy6ZR7j/I1J23o1HuPw==\",\"dtype\":\"float64\",\"shape\":[50]},\"left\":{\"__ndarray__\":\"AAAAAAAAREAAAAAAAABGQAAAAAAAwElAAAAAAACATUAAAAAAAKBQQAAAAAAAgFJAAAAAAABgVEAAAAAAAEBWQAAAAAAAIFhAAAAAAAAAWkAAAAAAAABcQAAAAAAA4F1AAAAAAADAX0AAAAAAANBgQAAAAAAAwGFAAAAAAACwYkAAAAAAAKBjQAAAAAAAkGRAAAAAAACAZUAAAAAAAHBmQAAAAAAAYGdAAAAAAABQaEAAAAAAAEBpQAAAAAAAMGpAAAAAAAAga0AAAAAAABBsQAAAAAAAAG1AAAAAAADwbUAAAAAAAOBuQAAAAAAA0G9AAAAAAABgcEAAAAAAANhwQAAAAAAAUHFAAAAAAADIcUAAAAAAAEByQAAAAAAAuHJAAAAAAAAwc0AAAAAAAKhzQAAAAAAAIHRAAAAAAACYdEAAAAAAABB1QAAAAAAAiHVAAAAAAAAAdkAAAAAAAHh2QAAAAAAA8HZAAAAAAABod0AAAAAAAOB3QAAAAAAAWHhAAAAAAADQeEAAAAAAAFB5QA==\",\"dtype\":\"float64\",\"shape\":[50]},\"right\":{\"__ndarray__\":\"AAAAAAAARkAAAAAAAMBJQAAAAAAAgE1AAAAAAACgUEAAAAAAAIBSQAAAAAAAYFRAAAAAAABAVkAAAAAAACBYQAAAAAAAAFpAAAAAAAAAXEAAAAAAAOBdQAAAAAAAwF9AAAAAAADQYEAAAAAAAMBhQAAAAAAAsGJAAAAAAACgY0AAAAAAAJBkQAAAAAAAgGVAAAAAAABwZkAAAAAAAGBnQAAAAAAAUGhAAAAAAABAaUAAAAAAADBqQAAAAAAAIGtAAAAAAAAQbEAAAAAAAABtQAAAAAAA8G1AAAAAAADgbkAAAAAAANBvQAAAAAAAYHBAAAAAAADYcEAAAAAAAFBxQAAAAAAAyHFAAAAAAABAckAAAAAAALhyQAAAAAAAMHNAAAAAAACoc0AAAAAAACB0QAAAAAAAmHRAAAAAAAAQdUAAAAAAAIh1QAAAAAAAAHZAAAAAAAB4dkAAAAAAAPB2QAAAAAAAaHdAAAAAAADgd0AAAAAAAFh4QAAAAAAA0HhAAAAAAABQeUAAAAAAAJB5QA==\",\"dtype\":\"float64\",\"shape\":[50]},\"top\":{\"__ndarray__\":\"uR6F61G47j+kCbwRWsnuP7cehetRuO4/GxAkphY27z9cj8L1KFzvP+7u7u7u7u4/8r6LWCXy7j+xXhTrRbHuP2U730+Nl+4/xMgnFdZg7j85LxiB04fuP8Mf9O0hDu4/YGato33t7T9OeRmSZgjuP3IS9Uin0e0/X9WN3zLr7T+miZboxBTuP0cLMW+eEe4/73qF3EcC7j/yZU1Ko9btPxXtHbnQ7e0/CQU5aJn37T9NtZwZzwvuPyJ79YhZA+4/KRtILsMV7j924Qm5WhfuP11sPZTkJe4/DfMUs2kP7j9Wa11n3DvuP8Rg+wE1H+4/KPkmYCkk7j8DWfg+MUruP2GppRmoVu4/aTbOB7to7j9QTBWoTITuP2g2mznkiO4/PKtpBSuY7j9GHgaXMZLuP/WenIZGkO4/XglYS2aP7j9LaH9qvZHuP02JdtR+nO4/m6vV+nuk7j+Z08E25qHuP2nURGBYlu4/3uqt3uqt7j9elcryUqvuP7oOSqcNmO4/iF1tjiKq7j8+PupdQLnuPw==\",\"dtype\":\"float64\",\"shape\":[50]}}},\"id\":\"578da229-5feb-42d8-ba24-8158cf2808df\",\"type\":\"ColumnDataSource\"},{\"attributes\":{\"below\":[{\"id\":\"7c472b49-2578-4eda-8108-008a15aaba49\",\"type\":\"LinearAxis\"}],\"left\":[{\"id\":\"be363051-ad63-4517-9172-6f9e8ef985a7\",\"type\":\"LinearAxis\"}],\"plot_height\":300,\"plot_width\":500,\"renderers\":[{\"id\":\"7c472b49-2578-4eda-8108-008a15aaba49\",\"type\":\"LinearAxis\"},{\"id\":\"9e672e44-96f6-4c1c-9ac1-112af72900ec\",\"type\":\"Grid\"},{\"id\":\"be363051-ad63-4517-9172-6f9e8ef985a7\",\"type\":\"LinearAxis\"},{\"id\":\"91f5357b-177d-442a-8fa7-c8722a4f3ec8\",\"type\":\"Grid\"},{\"id\":\"16dfd3ef-facd-4718-a257-963ed4734cac\",\"type\":\"BoxAnnotation\"},{\"id\":\"0e06d46b-3b6c-45d0-8c26-60a54eed42ce\",\"type\":\"GlyphRenderer\"},{\"id\":\"a1b47230-c821-4829-8ad2-41b410ef3d58\",\"type\":\"Legend\"},{\"id\":\"8996fbea-c92e-472b-8ec9-e323328eda48\",\"type\":\"GlyphRenderer\"},{\"id\":\"05933db7-9c36-4e46-878d-5206e1791b16\",\"type\":\"GlyphRenderer\"},{\"id\":\"d53ed302-1245-4276-a23a-07c9d22de644\",\"type\":\"GlyphRenderer\"}],\"title\":{\"id\":\"d5798a97-6a6d-4eed-8b16-ff6722490174\",\"type\":\"Title\"},\"tool_events\":{\"id\":\"56622592-58cd-4273-92ab-cd2c7218680e\",\"type\":\"ToolEvents\"},\"toolbar\":{\"id\":\"29d84acd-9630-41a4-8d2c-c7cf5667ae94\",\"type\":\"Toolbar\"},\"x_range\":{\"id\":\"480c4bdc-f37b-4153-b104-832fd52e904a\",\"type\":\"Range1d\"},\"y_range\":{\"id\":\"1f0a2f76-c282-42c6-bb81-5db9067a1ca9\",\"type\":\"Range1d\"}},\"id\":\"cbdd456a-c6a4-4617-8c34-7242250fc8fc\",\"subtype\":\"Figure\",\"type\":\"Plot\"},{\"attributes\":{\"data_source\":{\"id\":\"578da229-5feb-42d8-ba24-8158cf2808df\",\"type\":\"ColumnDataSource\"},\"glyph\":{\"id\":\"05479c56-1ab7-4bc6-9fff-030d0888c3f1\",\"type\":\"Quad\"},\"hover_glyph\":null,\"muted_glyph\":null,\"nonselection_glyph\":{\"id\":\"517dc636-83ac-4b5f-b25e-c8523674f7f3\",\"type\":\"Quad\"},\"selection_glyph\":null},\"id\":\"0e06d46b-3b6c-45d0-8c26-60a54eed42ce\",\"type\":\"GlyphRenderer\"},{\"attributes\":{\"callback\":null,\"column_names\":[\"x\",\"y\"],\"data\":{\"x\":[40,48,55,63,70,78,85,93,100,108,116,123,131,138,146,153,161,168,176,183,191,198,206,213,221,228,236,243,251,258,266,273,281,288,296,303,311,318,326,333,341,348,356,363,371,378,386,393,401,409],\"y\":{\"__ndarray__\":\"U3JPFiuv7T+YHDLNlMDtP1W3qiPJ0u0/kK91cy7T7T9Tck8WK6/tP5bX1r/2nO0/FnqExsWu7T9Tck8WK6/tP9ZZWCqY5O0/1llYKpjk7T9Vt6ojydLtP9ZZWCqY5O0/WPwFMWf27T/WWVgqmOTtP9ZZWCqY5O0/k/TQgMz27T/WWVgqmOTtP1CPSdcACe4/lTksjmoa7j+VOSyOahruPxbc2ZQ5LO4/FZd+h5sI7j8Vl36HmwjuP9Ix993PGu4/WPwFMWf27T8Vl36HmwjuP47MbzQELe4/Dm8dO9M+7j+QEctBolDuP47MbzQELe4/Dm8dO9M+7j8Obx070z7uPw5vHTvTPu4/kBHLQaJQ7j/OTvGepXTuP5ARy0GiUO4/kBHLQaJQ7j9NrEOY1mLuP5ARy0GiUO4/kBHLQaJQ7j+QEctBolDuP5ARy0GiUO4/kBHLQaJQ7j+QEctBolDuP5ARy0GiUO4/kBHLQaJQ7j+QEctBolDuP5ARy0GiUO4/TaxDmNZi7j9NrEOY1mLuPw==\",\"dtype\":\"float64\",\"shape\":[50]}}},\"id\":\"d7e7cfbd-cf70-4e45-b27c-35db160da8db\",\"type\":\"ColumnDataSource\"},{\"attributes\":{},\"id\":\"6db437a9-528b-46c5-984d-ec90ee69f3f9\",\"type\":\"BasicTickFormatter\"},{\"attributes\":{\"line_color\":{\"value\":\"#ff7f0e\"},\"line_dash\":[6],\"x\":{\"field\":\"x\"},\"y\":{\"field\":\"y\"}},\"id\":\"af6a833f-f9d2-4ff0-a836-3b4a3a0b4eba\",\"type\":\"Line\"},{\"attributes\":{\"callback\":null,\"column_names\":[\"x\",\"y\"],\"data\":{\"x\":[40,48,55,63,70,78,85,93,100,108,116,123,131,138,146,153,161,168,176,183,191,198,206,213,221,228,236,243,251,258,266,273,281,288,296,303,311,318,326,333,341,348,356,363,371,378,386,393,401,409],\"y\":{\"__ndarray__\":\"exSuR+F67j8iIiIiIiLuP14+7+XzXu4/vu/7vu/77j8K16NwPQrvP/7qr/7qr+4/y/4xZZjL7j+OnuDoCY7uP0A1XrpJDO4/xd+mGDX87T97GmG5pxHuP8otntziye0/gyVgVi207T/dxhSE/tHtP7jYF5aSi+0//lKo/VKo7T8CTH2+NcvtPwqcwAmcwO0/xlOCPCXI7T/eBUn5h77tP2YYH+S31u0/0kUXXXTR7T8t4hNIJeftP15nAgaP5e0/vgz5vQz57T+KHvZGpejtP21F0HBS9+0/3d3d3d3d7T+emmaPl//tP0h2Xmpk5+0/Rt8cfXP07T/e4A3e4A3uP+OiKk4PHO4/IyIiIiIi7j9T5LNuMEXuPyDA7UPKOe4/oji4+71K7j89MmwQN0/uP/ogGVDPVO4/QOWtFfNT7j9d3t/l/V3uPxIb5iOxYe4/5ptFkwBr7j8Kuo9Dh2fuPx1G/CQMWO4/E+cbaTxx7j89X8U4InPuP7io1fjyc+4//ZkireR97j+DCcQKcoXuPw==\",\"dtype\":\"float64\",\"shape\":[50]}}},\"id\":\"c1832ece-8d84-49f6-a7a9-cb4f394bd9d3\",\"type\":\"ColumnDataSource\"},{\"attributes\":{\"items\":[{\"id\":\"913f26e4-2f09-49f3-95b7-9c59ff6b0d84\",\"type\":\"LegendItem\"},{\"id\":\"2085a262-4ecb-4208-b5cf-0d6067f57f4e\",\"type\":\"LegendItem\"}],\"location\":\"bottom_right\",\"plot\":{\"id\":\"cbdd456a-c6a4-4617-8c34-7242250fc8fc\",\"subtype\":\"Figure\",\"type\":\"Plot\"}},\"id\":\"a1b47230-c821-4829-8ad2-41b410ef3d58\",\"type\":\"Legend\"},{\"attributes\":{\"plot\":{\"id\":\"cbdd456a-c6a4-4617-8c34-7242250fc8fc\",\"subtype\":\"Figure\",\"type\":\"Plot\"}},\"id\":\"6426e7d3-d94c-4556-a9f9-8133f08e53a4\",\"type\":\"HelpTool\"},{\"attributes\":{\"label\":{\"value\":\"training accuracy\"},\"renderers\":[{\"id\":\"8996fbea-c92e-472b-8ec9-e323328eda48\",\"type\":\"GlyphRenderer\"}]},\"id\":\"913f26e4-2f09-49f3-95b7-9c59ff6b0d84\",\"type\":\"LegendItem\"},{\"attributes\":{\"bottom_units\":\"screen\",\"fill_alpha\":{\"value\":0.5},\"fill_color\":{\"value\":\"lightgrey\"},\"left_units\":\"screen\",\"level\":\"overlay\",\"line_alpha\":{\"value\":1.0},\"line_color\":{\"value\":\"black\"},\"line_dash\":[4,4],\"line_width\":{\"value\":2},\"plot\":null,\"render_mode\":\"css\",\"right_units\":\"screen\",\"top_units\":\"screen\"},\"id\":\"16dfd3ef-facd-4718-a257-963ed4734cac\",\"type\":\"BoxAnnotation\"},{\"attributes\":{},\"id\":\"38feced0-0e88-4c55-b633-09787538bc5a\",\"type\":\"BasicTicker\"},{\"attributes\":{\"dimension\":1,\"plot\":{\"id\":\"cbdd456a-c6a4-4617-8c34-7242250fc8fc\",\"subtype\":\"Figure\",\"type\":\"Plot\"},\"ticker\":{\"id\":\"38feced0-0e88-4c55-b633-09787538bc5a\",\"type\":\"BasicTicker\"}},\"id\":\"91f5357b-177d-442a-8fa7-c8722a4f3ec8\",\"type\":\"Grid\"},{\"attributes\":{\"overlay\":{\"id\":\"16dfd3ef-facd-4718-a257-963ed4734cac\",\"type\":\"BoxAnnotation\"},\"plot\":{\"id\":\"cbdd456a-c6a4-4617-8c34-7242250fc8fc\",\"subtype\":\"Figure\",\"type\":\"Plot\"}},\"id\":\"3903bb72-ad22-4ae2-97c8-c30506260383\",\"type\":\"BoxZoomTool\"},{\"attributes\":{\"axis_label\":\"Accuracy\",\"formatter\":{\"id\":\"1246c572-8ffb-46b0-9c1f-03a8f1d8886b\",\"type\":\"BasicTickFormatter\"},\"plot\":{\"id\":\"cbdd456a-c6a4-4617-8c34-7242250fc8fc\",\"subtype\":\"Figure\",\"type\":\"Plot\"},\"ticker\":{\"id\":\"38feced0-0e88-4c55-b633-09787538bc5a\",\"type\":\"BasicTicker\"}},\"id\":\"be363051-ad63-4517-9172-6f9e8ef985a7\",\"type\":\"LinearAxis\"},{\"attributes\":{\"plot\":{\"id\":\"cbdd456a-c6a4-4617-8c34-7242250fc8fc\",\"subtype\":\"Figure\",\"type\":\"Plot\"}},\"id\":\"76e0a8e8-1be4-4178-9472-91a14cb53559\",\"type\":\"PanTool\"},{\"attributes\":{\"data_source\":{\"id\":\"c1832ece-8d84-49f6-a7a9-cb4f394bd9d3\",\"type\":\"ColumnDataSource\"},\"glyph\":{\"id\":\"aa4bec86-1548-4db3-9ef1-069231813310\",\"type\":\"Line\"},\"hover_glyph\":null,\"muted_glyph\":null,\"nonselection_glyph\":{\"id\":\"39b4452c-8a4f-4985-bdcb-03ee6d04422c\",\"type\":\"Line\"},\"selection_glyph\":null},\"id\":\"8996fbea-c92e-472b-8ec9-e323328eda48\",\"type\":\"GlyphRenderer\"},{\"attributes\":{\"plot\":{\"id\":\"cbdd456a-c6a4-4617-8c34-7242250fc8fc\",\"subtype\":\"Figure\",\"type\":\"Plot\"}},\"id\":\"8092ce34-5bdb-49c9-ac0e-ac79e085960b\",\"type\":\"ResetTool\"},{\"attributes\":{\"line_alpha\":{\"value\":0.1},\"line_color\":{\"value\":\"#1f77b4\"},\"x\":{\"field\":\"x\"},\"y\":{\"field\":\"y\"}},\"id\":\"39b4452c-8a4f-4985-bdcb-03ee6d04422c\",\"type\":\"Line\"},{\"attributes\":{\"plot\":{\"id\":\"cbdd456a-c6a4-4617-8c34-7242250fc8fc\",\"subtype\":\"Figure\",\"type\":\"Plot\"}},\"id\":\"4b99d078-c8a6-4203-ab2f-01dc0eb512f3\",\"type\":\"SaveTool\"}],\"root_ids\":[\"cbdd456a-c6a4-4617-8c34-7242250fc8fc\"]},\"title\":\"Bokeh Application\",\"version\":\"0.12.6dev3\"}};\n",
       "            var render_items = [{\"docid\":\"a3fb7b63-ce38-4c74-991a-21c1252dfebd\",\"elementid\":\"3ae939df-6615-4387-9bdd-2eb5e4adb344\",\"modelid\":\"cbdd456a-c6a4-4617-8c34-7242250fc8fc\"}];\n",
       "            \n",
       "            Bokeh.embed.embed_items(docs_json, render_items);\n",
       "          };\n",
       "          if (document.readyState != \"loading\") fn();\n",
       "          else document.addEventListener(\"DOMContentLoaded\", fn);\n",
       "        })();\n",
       "      },\n",
       "      function(Bokeh) {\n",
       "      }\n",
       "    ];\n",
       "  \n",
       "    function run_inline_js() {\n",
       "      \n",
       "      if ((window.Bokeh !== undefined) || (force === true)) {\n",
       "        for (var i = 0; i < inline_js.length; i++) {\n",
       "          inline_js[i](window.Bokeh);\n",
       "        }if (force === true) {\n",
       "          display_loaded();\n",
       "        }} else if (Date.now() < window._bokeh_timeout) {\n",
       "        setTimeout(run_inline_js, 100);\n",
       "      } else if (!window._bokeh_failed_load) {\n",
       "        console.log(\"Bokeh: BokehJS failed to load within specified timeout.\");\n",
       "        window._bokeh_failed_load = true;\n",
       "      } else if (force !== true) {\n",
       "        var cell = $(document.getElementById(\"3ae939df-6615-4387-9bdd-2eb5e4adb344\")).parents('.cell').data().cell;\n",
       "        cell.output_area.append_execute_result(NB_LOAD_WARNING)\n",
       "      }\n",
       "  \n",
       "    }\n",
       "  \n",
       "    if (window._bokeh_is_loading === 0) {\n",
       "      console.log(\"Bokeh: BokehJS loaded, going straight to plotting\");\n",
       "      run_inline_js();\n",
       "    } else {\n",
       "      load_libs(js_urls, function() {\n",
       "        console.log(\"Bokeh: BokehJS plotting callback run at\", now());\n",
       "        run_inline_js();\n",
       "      });\n",
       "    }\n",
       "  }(this));\n",
       "</script>"
      ]
     },
     "metadata": {},
     "output_type": "display_data"
    }
   ],
   "source": [
    "p = bokeh.plotting.figure(width=500, height=300,\n",
    "                          x_range=list(train_sizes[[0, -1]]),\n",
    "                          y_range=[.80, 1], \n",
    "                          x_axis_label='Number of training samples',\n",
    "                          y_axis_label='Accuracy')\n",
    "\n",
    "left = train_sizes.astype(np.float)\n",
    "left[1:] -= np.diff(train_sizes)/2\n",
    "right = train_sizes.astype(np.float)\n",
    "right[:-1] += np.diff(train_sizes)/2\n",
    "\n",
    "p.quad(left=left, right=right, \n",
    "       bottom=train_mean-train_std, \n",
    "       top=train_mean+train_std, \n",
    "       alpha=0.2, color=palette[0])\n",
    "p.line(train_sizes, train_mean, color=palette[0], legend='training accuracy')\n",
    "\n",
    "p.quad(left=left, right=right, \n",
    "       bottom=test_mean-test_std, \n",
    "       top=test_mean+test_std, \n",
    "       alpha=0.2, color=palette[1])\n",
    "p.line(train_sizes, test_mean, color=palette[1], line_dash='dashed', legend='x-validation accuracy')\n",
    "\n",
    "p.legend.location = 'bottom_right'\n",
    "\n",
    "bokeh.plotting.show(p)"
   ]
  },
  {
   "cell_type": "markdown",
   "metadata": {},
   "source": [
    "This seems to have reasonable consistency between the training and cross-validation accuracy curves, but we should be able to increase the accuracy by using more of the features.  rather than using the top 2 PCA components, lets now try applying the L2 penalty to our logistic regression and generate a new learning curve."
   ]
  },
  {
   "cell_type": "code",
   "execution_count": 24,
   "metadata": {
    "collapsed": true
   },
   "outputs": [],
   "source": [
    "lr_pipe1 = sklearn.pipeline.Pipeline([\n",
    "    ('scl', sklearn.preprocessing.StandardScaler()),\n",
    "    ('clf', sklearn.linear_model.LogisticRegression(\n",
    "        penalty='l2', random_state=rs)),\n",
    "])"
   ]
  },
  {
   "cell_type": "code",
   "execution_count": 25,
   "metadata": {
    "collapsed": true
   },
   "outputs": [],
   "source": [
    "train_sizes, train_scores, test_scores = sklearn.model_selection.learning_curve(\n",
    "    estimator=lr_pipe1, X=X_train, y=y_train, train_sizes=np.linspace(0.1, 1, 50),\n",
    "    cv=10, n_jobs=-1)"
   ]
  },
  {
   "cell_type": "code",
   "execution_count": 26,
   "metadata": {
    "collapsed": true
   },
   "outputs": [],
   "source": [
    "train_mean = train_scores.mean(axis=1)\n",
    "train_std = train_scores.std(axis=1)\n",
    "\n",
    "test_mean = test_scores.mean(axis=1)\n",
    "test_std = test_scores.std(axis=1)"
   ]
  },
  {
   "cell_type": "code",
   "execution_count": 27,
   "metadata": {
    "collapsed": false
   },
   "outputs": [
    {
     "data": {
      "text/html": [
       "\n",
       "\n",
       "    <div class=\"bk-root\">\n",
       "        <div class=\"bk-plotdiv\" id=\"f437599d-f824-45fd-b356-bc6c30722a0e\"></div>\n",
       "    </div>\n",
       "<script type=\"text/javascript\">\n",
       "  \n",
       "  (function(global) {\n",
       "    function now() {\n",
       "      return new Date();\n",
       "    }\n",
       "  \n",
       "    var force = false;\n",
       "  \n",
       "    if (typeof (window._bokeh_onload_callbacks) === \"undefined\" || force === true) {\n",
       "      window._bokeh_onload_callbacks = [];\n",
       "      window._bokeh_is_loading = undefined;\n",
       "    }\n",
       "  \n",
       "  \n",
       "    \n",
       "    if (typeof (window._bokeh_timeout) === \"undefined\" || force === true) {\n",
       "      window._bokeh_timeout = Date.now() + 0;\n",
       "      window._bokeh_failed_load = false;\n",
       "    }\n",
       "  \n",
       "    var NB_LOAD_WARNING = {'data': {'text/html':\n",
       "       \"<div style='background-color: #fdd'>\\n\"+\n",
       "       \"<p>\\n\"+\n",
       "       \"BokehJS does not appear to have successfully loaded. If loading BokehJS from CDN, this \\n\"+\n",
       "       \"may be due to a slow or bad network connection. Possible fixes:\\n\"+\n",
       "       \"</p>\\n\"+\n",
       "       \"<ul>\\n\"+\n",
       "       \"<li>re-rerun `output_notebook()` to attempt to load from CDN again, or</li>\\n\"+\n",
       "       \"<li>use INLINE resources instead, as so:</li>\\n\"+\n",
       "       \"</ul>\\n\"+\n",
       "       \"<code>\\n\"+\n",
       "       \"from bokeh.resources import INLINE\\n\"+\n",
       "       \"output_notebook(resources=INLINE)\\n\"+\n",
       "       \"</code>\\n\"+\n",
       "       \"</div>\"}};\n",
       "  \n",
       "    function display_loaded() {\n",
       "      if (window.Bokeh !== undefined) {\n",
       "        var el = document.getElementById(\"f437599d-f824-45fd-b356-bc6c30722a0e\");\n",
       "        el.textContent = \"BokehJS \" + Bokeh.version + \" successfully loaded.\";\n",
       "      } else if (Date.now() < window._bokeh_timeout) {\n",
       "        setTimeout(display_loaded, 100)\n",
       "      }\n",
       "    }\n",
       "  \n",
       "    function run_callbacks() {\n",
       "      window._bokeh_onload_callbacks.forEach(function(callback) { callback() });\n",
       "      delete window._bokeh_onload_callbacks\n",
       "      console.info(\"Bokeh: all callbacks have finished\");\n",
       "    }\n",
       "  \n",
       "    function load_libs(js_urls, callback) {\n",
       "      window._bokeh_onload_callbacks.push(callback);\n",
       "      if (window._bokeh_is_loading > 0) {\n",
       "        console.log(\"Bokeh: BokehJS is being loaded, scheduling callback at\", now());\n",
       "        return null;\n",
       "      }\n",
       "      if (js_urls == null || js_urls.length === 0) {\n",
       "        run_callbacks();\n",
       "        return null;\n",
       "      }\n",
       "      console.log(\"Bokeh: BokehJS not loaded, scheduling load and callback at\", now());\n",
       "      window._bokeh_is_loading = js_urls.length;\n",
       "      for (var i = 0; i < js_urls.length; i++) {\n",
       "        var url = js_urls[i];\n",
       "        var s = document.createElement('script');\n",
       "        s.src = url;\n",
       "        s.async = false;\n",
       "        s.onreadystatechange = s.onload = function() {\n",
       "          window._bokeh_is_loading--;\n",
       "          if (window._bokeh_is_loading === 0) {\n",
       "            console.log(\"Bokeh: all BokehJS libraries loaded\");\n",
       "            run_callbacks()\n",
       "          }\n",
       "        };\n",
       "        s.onerror = function() {\n",
       "          console.warn(\"failed to load library \" + url);\n",
       "        };\n",
       "        console.log(\"Bokeh: injecting script tag for BokehJS library: \", url);\n",
       "        document.getElementsByTagName(\"head\")[0].appendChild(s);\n",
       "      }\n",
       "    };var element = document.getElementById(\"f437599d-f824-45fd-b356-bc6c30722a0e\");\n",
       "    if (element == null) {\n",
       "      console.log(\"Bokeh: ERROR: autoload.js configured with elementid 'f437599d-f824-45fd-b356-bc6c30722a0e' but no matching script tag was found. \")\n",
       "      return false;\n",
       "    }\n",
       "  \n",
       "    var js_urls = [];\n",
       "  \n",
       "    var inline_js = [\n",
       "      function(Bokeh) {\n",
       "        (function() {\n",
       "          var fn = function() {\n",
       "            var docs_json = {\"6af7f6a6-0357-4f3f-a7b1-a8c18ff34027\":{\"roots\":{\"references\":[{\"attributes\":{\"callback\":null,\"end\":409,\"start\":40},\"id\":\"312d8d21-3828-4a1e-b0cf-17406efeab34\",\"type\":\"Range1d\"},{\"attributes\":{\"bottom\":{\"field\":\"bottom\"},\"fill_alpha\":{\"value\":0.2},\"fill_color\":{\"value\":\"#1f77b4\"},\"left\":{\"field\":\"left\"},\"line_alpha\":{\"value\":0.2},\"line_color\":{\"value\":\"#1f77b4\"},\"right\":{\"field\":\"right\"},\"top\":{\"field\":\"top\"}},\"id\":\"19e5e534-b6db-4ec1-beb1-ea52970fb23d\",\"type\":\"Quad\"},{\"attributes\":{\"callback\":null,\"column_names\":[\"left\",\"right\",\"top\",\"bottom\"],\"data\":{\"bottom\":{\"__ndarray__\":\"CNejcD0K7z8zMzMzMzPvP00/1PRDTe8/QPZjP/Zj7z8HxKbSkHPvPyD4gR/4ge8/jb/yJVmM7z+Wv2T5S5bvP1tkO99Pje8/XHlAss6V7z8c8PjDAY/vP6QfLPrBou8/xHgF7vGb7z/8R7cxBaHvP2T6J4M5pu8/AFWq/1Sq7z/UlLxDD5DvPx77sR/7se8/mZmZmZmZ7z+XNCxWhJ3vP8A3kFKkoe8/T/qkT/qk7z8bRSc7g6jvP48XbkZjq+8/YHOuX3Ou7z/h55lwYqjvP4JZkMNaq+8/R1A9Yxev7z8G9/OMq7HvPx/X+uhxre8/YfvrUxa27z8g+7Ef+7HvP1iiqWEIuu8/chzHcRzH7z+BO/0RC7jvP3LL5KK0ue8/MvAfioO77z8y8WmVkK3vP2XT0dyPqu8/rq/mEWmr7z+pP5j6g6nvPwrw4Z2Hp+8/Ope0kYSp7z9uyAVBRbPvP0oGEY6or+8/Eb/9biWx7z81p9jOx7LvP0+PBPGerO8/fpoux0iu7z/iRJISdqzvPw==\",\"dtype\":\"float64\",\"shape\":[50]},\"left\":{\"__ndarray__\":\"AAAAAAAAREAAAAAAAABGQAAAAAAAwElAAAAAAACATUAAAAAAAKBQQAAAAAAAgFJAAAAAAABgVEAAAAAAAEBWQAAAAAAAIFhAAAAAAAAAWkAAAAAAAABcQAAAAAAA4F1AAAAAAADAX0AAAAAAANBgQAAAAAAAwGFAAAAAAACwYkAAAAAAAKBjQAAAAAAAkGRAAAAAAACAZUAAAAAAAHBmQAAAAAAAYGdAAAAAAABQaEAAAAAAAEBpQAAAAAAAMGpAAAAAAAAga0AAAAAAABBsQAAAAAAAAG1AAAAAAADwbUAAAAAAAOBuQAAAAAAA0G9AAAAAAABgcEAAAAAAANhwQAAAAAAAUHFAAAAAAADIcUAAAAAAAEByQAAAAAAAuHJAAAAAAAAwc0AAAAAAAKhzQAAAAAAAIHRAAAAAAACYdEAAAAAAABB1QAAAAAAAiHVAAAAAAAAAdkAAAAAAAHh2QAAAAAAA8HZAAAAAAABod0AAAAAAAOB3QAAAAAAAWHhAAAAAAADQeEAAAAAAAFB5QA==\",\"dtype\":\"float64\",\"shape\":[50]},\"right\":{\"__ndarray__\":\"AAAAAAAARkAAAAAAAMBJQAAAAAAAgE1AAAAAAACgUEAAAAAAAIBSQAAAAAAAYFRAAAAAAABAVkAAAAAAACBYQAAAAAAAAFpAAAAAAAAAXEAAAAAAAOBdQAAAAAAAwF9AAAAAAADQYEAAAAAAAMBhQAAAAAAAsGJAAAAAAACgY0AAAAAAAJBkQAAAAAAAgGVAAAAAAABwZkAAAAAAAGBnQAAAAAAAUGhAAAAAAABAaUAAAAAAADBqQAAAAAAAIGtAAAAAAAAQbEAAAAAAAABtQAAAAAAA8G1AAAAAAADgbkAAAAAAANBvQAAAAAAAYHBAAAAAAADYcEAAAAAAAFBxQAAAAAAAyHFAAAAAAABAckAAAAAAALhyQAAAAAAAMHNAAAAAAACoc0AAAAAAACB0QAAAAAAAmHRAAAAAAAAQdUAAAAAAAIh1QAAAAAAAAHZAAAAAAAB4dkAAAAAAAPB2QAAAAAAAaHdAAAAAAADgd0AAAAAAAFh4QAAAAAAA0HhAAAAAAABQeUAAAAAAAJB5QA==\",\"dtype\":\"float64\",\"shape\":[50]},\"top\":{\"__ndarray__\":\"hOtRuB6F7z+ZmZmZmZnvP6cfavqhpu8/IPuxH/ux7z8DYlNpyLnvPxD8wA/8wO8/x1/5kizG7z/KX7L8JcvvP1k5tMh2vu8/NPxtilHD7z8OePzhgMfvP8x/q/y3yu8/YrwC9/jN7z/+o9uYgtDvPzL9k8Ec0+8/gCrVfyrV7z/8dUnlw7jvP4792I/92O8/vWHtG9a+7z8DUNY2VMHvPwZSijT0w+8/G+ULpxPG7z8p5ruCU8jvP4s9AOcnyu8/4BrM3xrM7z+Vj90GFc/vP1JfzYi90O8/NfxtilHD7z9E+bapQMXvP4tt/LTYxu8/ifzwvpDI7z+g/Mmf/MnvP8I5P0mGy+8/chzHcRzH7z/jPHQML87vPyh52atVz+8/1EOMJJbQ7z/4E2Z5Bb3vP0EBxHC3yO8/aEdT9efF7z+9v8v7u7zvPxxalM8ave8/PIOFpZu+7z8etPWez8DvP6zFNbNwx+8/iTjR1XzI7z/Povxdo8nvP3trwzR3we8/3vNilbbC7z9YVrZZVcfvPw==\",\"dtype\":\"float64\",\"shape\":[50]}}},\"id\":\"e268d00f-c878-4f4a-86c3-b68cd6870248\",\"type\":\"ColumnDataSource\"},{\"attributes\":{\"data_source\":{\"id\":\"fdc86fd4-4ede-4644-8ced-1785d31d6937\",\"type\":\"ColumnDataSource\"},\"glyph\":{\"id\":\"04a3fd35-b63f-4b90-9509-51500ea8ba88\",\"type\":\"Quad\"},\"hover_glyph\":null,\"muted_glyph\":null,\"nonselection_glyph\":{\"id\":\"f713783b-dd19-4308-9119-8d592845209c\",\"type\":\"Quad\"},\"selection_glyph\":null},\"id\":\"27b2b7b2-0040-40de-b23f-2df9db29cd62\",\"type\":\"GlyphRenderer\"},{\"attributes\":{\"below\":[{\"id\":\"17576c74-96ed-4a4f-a954-462a7218ace5\",\"type\":\"LinearAxis\"}],\"left\":[{\"id\":\"1c877ab6-f186-4a0d-95b4-6c2dc6fed470\",\"type\":\"LinearAxis\"}],\"plot_height\":300,\"plot_width\":500,\"renderers\":[{\"id\":\"17576c74-96ed-4a4f-a954-462a7218ace5\",\"type\":\"LinearAxis\"},{\"id\":\"fab64fac-9b7e-4b56-9b13-77d1fdc117c1\",\"type\":\"Grid\"},{\"id\":\"1c877ab6-f186-4a0d-95b4-6c2dc6fed470\",\"type\":\"LinearAxis\"},{\"id\":\"18eeea42-eeac-443b-afdc-0019f49c611b\",\"type\":\"Grid\"},{\"id\":\"7cec85d6-0bb9-4d7c-924a-b08e430a6501\",\"type\":\"BoxAnnotation\"},{\"id\":\"eebd5b3d-8719-4559-9fd3-49c83205e636\",\"type\":\"GlyphRenderer\"},{\"id\":\"0e562a16-bf72-4530-aa31-a0c93241d7d6\",\"type\":\"Legend\"},{\"id\":\"5fd17227-6d5d-4f3d-964d-c778e929f8a1\",\"type\":\"GlyphRenderer\"},{\"id\":\"27b2b7b2-0040-40de-b23f-2df9db29cd62\",\"type\":\"GlyphRenderer\"},{\"id\":\"d0b9330e-73fd-45b9-82a2-abae33f42c51\",\"type\":\"GlyphRenderer\"}],\"title\":{\"id\":\"bc5c6bb5-eaec-476c-b9f4-6d4ca801ee21\",\"type\":\"Title\"},\"tool_events\":{\"id\":\"1f3d9e20-97b4-4354-aaf8-e63626b4e731\",\"type\":\"ToolEvents\"},\"toolbar\":{\"id\":\"06a5b31a-8b14-4f14-992f-582ec9e2f7d7\",\"type\":\"Toolbar\"},\"x_range\":{\"id\":\"312d8d21-3828-4a1e-b0cf-17406efeab34\",\"type\":\"Range1d\"},\"y_range\":{\"id\":\"4fe543fb-5426-4f46-a9a6-ded11cb8e9e6\",\"type\":\"Range1d\"}},\"id\":\"8d2d5e77-7954-4a95-95e5-af708a3bef14\",\"subtype\":\"Figure\",\"type\":\"Plot\"},{\"attributes\":{},\"id\":\"1f3d9e20-97b4-4354-aaf8-e63626b4e731\",\"type\":\"ToolEvents\"},{\"attributes\":{\"label\":{\"value\":\"training accuracy\"},\"renderers\":[{\"id\":\"5fd17227-6d5d-4f3d-964d-c778e929f8a1\",\"type\":\"GlyphRenderer\"}]},\"id\":\"25611619-3ed8-4344-a348-fb5ac1a279f2\",\"type\":\"LegendItem\"},{\"attributes\":{\"callback\":null,\"column_names\":[\"x\",\"y\"],\"data\":{\"x\":[40,48,55,63,70,78,85,93,100,108,116,123,131,138,146,153,161,168,176,183,191,198,206,213,221,228,236,243,251,258,266,273,281,288,296,303,311,318,326,333,341,348,356,363,371,378,386,393,401,409],\"y\":{\"__ndarray__\":\"kBHLQaJQ7j+IBmS2r+DuP8tr6197zu4/y2vrX3vO7j+SuHsdtPHuP9D1oXq3Fe8/TlP0c+gD7z/WHQPHf9/uPxAWzhbl3+4/k7h7HbTx7j+QcyAQFs7uPxNbKSSDA+8/E1spJIMD7z8VoIQxISfvP9I6/YdVOe8/DTPI17o57z8NM8jXujnvP1CYT4GGJ+8/EHgj5Vhd7z/SOv2HVTnvP9I6/YdVOe8/UJhPgYYn7z9QmE+BhifvP1CYT4GGJ+8/0jr9h1U57z/Q9aF6txXvP9D1oXq3Fe8/jZAa0esn7z+NkBrR6yfvPw0zyNe6Oe8/DTPI17o57z+GaLmEI17vP4ZouYQjXu8/ys1ALu9L7z+GaLmEI17vPwbGC35UTO8/BsYLflRM7z+GI153hTrvPwOBsHC2KO8/hSNed4U67z+FI153hTrvP4UjXneFOu8/BsYLflRM7z8Gxgt+VEzvPwbGC35UTO8/BsYLflRM7z8Gxgt+VEzvP8AbKcfqOu8/wBspx+o67z/AGynH6jrvPw==\",\"dtype\":\"float64\",\"shape\":[50]}}},\"id\":\"37e571a2-2be8-43aa-b81b-1aaf5cf24405\",\"type\":\"ColumnDataSource\"},{\"attributes\":{\"bottom\":{\"field\":\"bottom\"},\"fill_alpha\":{\"value\":0.1},\"fill_color\":{\"value\":\"#1f77b4\"},\"left\":{\"field\":\"left\"},\"line_alpha\":{\"value\":0.1},\"line_color\":{\"value\":\"#1f77b4\"},\"right\":{\"field\":\"right\"},\"top\":{\"field\":\"top\"}},\"id\":\"f713783b-dd19-4308-9119-8d592845209c\",\"type\":\"Quad\"},{\"attributes\":{\"callback\":null,\"column_names\":[\"left\",\"right\",\"top\",\"bottom\"],\"data\":{\"bottom\":{\"__ndarray__\":\"kzCW52k67T9GiM7O4yruPyFVcewJG+4/IVVx7Akb7j+RzKdFcCjuP2TuCoexc+4/kKMHoAVN7j+xZaBdu03uP/7ylCnQTu4/CZsvzyVf7j/F320l1CvuP3jbbnLBOu4/eNtucsE67j9vPcevOnXuPy38WaLbou4/4/kVLR+77j+j8kLqRZDuP2txTQInd+4/bi3FqxLe7j+/mZSOqbnuP7+ZlI6pue4/jbIHu8yf7j+Nsge7zJ/uP42yB7vMn+4/v5mUjqm57j9tqiLYPqHuP22qItg+oe4/3owqFjG77j/ejCoWMbvuP+P5FS0fu+4/4/kVLR+77j/8KDPaGeDuP/woM9oZ4O4/kFvBdOy/7j/8KDPaGeDuPwsPzlFs2u4/Cw/OUWza7j97FieG7rzuP4oZV+bkjO4/ehYnhu687j96FieG7rzuP3oWJ4buvO4/Cw/OUWza7j8LD85RbNruPwsPzlFs2u4/Cw/OUWza7j8LD85RbNruP3Pk+Gsep+4/c+T4ax6n7j9z5PhrHqfuPw==\",\"dtype\":\"float64\",\"shape\":[50]},\"left\":{\"__ndarray__\":\"AAAAAAAAREAAAAAAAABGQAAAAAAAwElAAAAAAACATUAAAAAAAKBQQAAAAAAAgFJAAAAAAABgVEAAAAAAAEBWQAAAAAAAIFhAAAAAAAAAWkAAAAAAAABcQAAAAAAA4F1AAAAAAADAX0AAAAAAANBgQAAAAAAAwGFAAAAAAACwYkAAAAAAAKBjQAAAAAAAkGRAAAAAAACAZUAAAAAAAHBmQAAAAAAAYGdAAAAAAABQaEAAAAAAAEBpQAAAAAAAMGpAAAAAAAAga0AAAAAAABBsQAAAAAAAAG1AAAAAAADwbUAAAAAAAOBuQAAAAAAA0G9AAAAAAABgcEAAAAAAANhwQAAAAAAAUHFAAAAAAADIcUAAAAAAAEByQAAAAAAAuHJAAAAAAAAwc0AAAAAAAKhzQAAAAAAAIHRAAAAAAACYdEAAAAAAABB1QAAAAAAAiHVAAAAAAAAAdkAAAAAAAHh2QAAAAAAA8HZAAAAAAABod0AAAAAAAOB3QAAAAAAAWHhAAAAAAADQeEAAAAAAAFB5QA==\",\"dtype\":\"float64\",\"shape\":[50]},\"right\":{\"__ndarray__\":\"AAAAAAAARkAAAAAAAMBJQAAAAAAAgE1AAAAAAACgUEAAAAAAAIBSQAAAAAAAYFRAAAAAAABAVkAAAAAAACBYQAAAAAAAAFpAAAAAAAAAXEAAAAAAAOBdQAAAAAAAwF9AAAAAAADQYEAAAAAAAMBhQAAAAAAAsGJAAAAAAACgY0AAAAAAAJBkQAAAAAAAgGVAAAAAAABwZkAAAAAAAGBnQAAAAAAAUGhAAAAAAABAaUAAAAAAADBqQAAAAAAAIGtAAAAAAAAQbEAAAAAAAABtQAAAAAAA8G1AAAAAAADgbkAAAAAAANBvQAAAAAAAYHBAAAAAAADYcEAAAAAAAFBxQAAAAAAAyHFAAAAAAABAckAAAAAAALhyQAAAAAAAMHNAAAAAAACoc0AAAAAAACB0QAAAAAAAmHRAAAAAAAAQdUAAAAAAAIh1QAAAAAAAAHZAAAAAAAB4dkAAAAAAAPB2QAAAAAAAaHdAAAAAAADgd0AAAAAAAFh4QAAAAAAA0HhAAAAAAABQeUAAAAAAAJB5QA==\",\"dtype\":\"float64\",\"shape\":[50]},\"top\":{\"__ndarray__\":\"jfL/m9pm7z/KhPmde5bvP3WCZdPsge8/dYJl0+yB7z+TpE/197rvPzz9OG69t+8/DAPhR8u67z/71WUwRHHvPyI5BwT6cO8/HdbHa0KE7z9bB9P6V3DvP67a49VEzO8/rtrj1UTM7z+7AkKzB9nvP3d5oG3Pz+8/N2x6gla47z93c03FL+PvPzW/UQDm1+8/ssKBHp/c7z/l22WBAbnvP+XbZYEBue8/E36XR0Cv7z8TfpdHQK/vPxN+l0dAr+8/5dtlgQG57z8zQSEdMIrvPzNBIR0wiu8/PJQKjKaU7z88lAqMppTvPzdseoJWuO8/N2x6gla47z8QqD8vLdzvPxCoPy8t3O8/BEDA5/HX7z8QqD8vLdzvPwF9Sao8vu8/AX1Jqjy+7z+RMJVoHLjvP3zoCfuHxO8/kDCVaBy47z+QMJVoHLjvP5AwlWgcuO8/AX1Jqjy+7z8BfUmqPL7vPwF9Sao8vu8/AX1Jqjy+7z8BfUmqPL7vPw1TWSK3zu8/DVNZIrfO7z8NU1kit87vPw==\",\"dtype\":\"float64\",\"shape\":[50]}}},\"id\":\"fdc86fd4-4ede-4644-8ced-1785d31d6937\",\"type\":\"ColumnDataSource\"},{\"attributes\":{\"data_source\":{\"id\":\"6edc8714-707d-4a0e-897f-b75b1cd0e711\",\"type\":\"ColumnDataSource\"},\"glyph\":{\"id\":\"42ffdcc3-d1c1-4782-a738-df71ef97bb13\",\"type\":\"Line\"},\"hover_glyph\":null,\"muted_glyph\":null,\"nonselection_glyph\":{\"id\":\"3d2bdb48-36ab-4b11-aa33-d72c4b1ce703\",\"type\":\"Line\"},\"selection_glyph\":null},\"id\":\"5fd17227-6d5d-4f3d-964d-c778e929f8a1\",\"type\":\"GlyphRenderer\"},{\"attributes\":{\"line_color\":{\"value\":\"#1f77b4\"},\"x\":{\"field\":\"x\"},\"y\":{\"field\":\"y\"}},\"id\":\"42ffdcc3-d1c1-4782-a738-df71ef97bb13\",\"type\":\"Line\"},{\"attributes\":{\"active_drag\":\"auto\",\"active_inspect\":\"auto\",\"active_scroll\":\"auto\",\"active_tap\":\"auto\",\"tools\":[{\"id\":\"8b2544f5-7af3-4d99-9a85-a4f2564061ab\",\"type\":\"PanTool\"},{\"id\":\"19cff57e-dc7e-4bd3-af3e-34442b253511\",\"type\":\"WheelZoomTool\"},{\"id\":\"c5a4583f-a06f-4308-9f9e-a3bf7d8b29a7\",\"type\":\"BoxZoomTool\"},{\"id\":\"38557354-5cc9-421e-a4d8-9117d5eb5301\",\"type\":\"SaveTool\"},{\"id\":\"ea3c61fe-1b94-4ec1-9509-c6f0bad259c1\",\"type\":\"ResetTool\"},{\"id\":\"a2cdcffd-b19f-462a-b6ee-14a97a01c6cc\",\"type\":\"HelpTool\"}]},\"id\":\"06a5b31a-8b14-4f14-992f-582ec9e2f7d7\",\"type\":\"Toolbar\"},{\"attributes\":{\"callback\":null,\"start\":0.8},\"id\":\"4fe543fb-5426-4f46-a9a6-ded11cb8e9e6\",\"type\":\"Range1d\"},{\"attributes\":{\"line_color\":{\"value\":\"#ff7f0e\"},\"line_dash\":[6],\"x\":{\"field\":\"x\"},\"y\":{\"field\":\"y\"}},\"id\":\"80664088-1206-41ec-8a50-fb5b7d0a4b91\",\"type\":\"Line\"},{\"attributes\":{\"label\":{\"value\":\"validation accuracy\"},\"renderers\":[{\"id\":\"d0b9330e-73fd-45b9-82a2-abae33f42c51\",\"type\":\"GlyphRenderer\"}]},\"id\":\"8830f79f-47fe-4d6e-9773-6ef32f198406\",\"type\":\"LegendItem\"},{\"attributes\":{\"line_alpha\":{\"value\":0.1},\"line_color\":{\"value\":\"#1f77b4\"},\"x\":{\"field\":\"x\"},\"y\":{\"field\":\"y\"}},\"id\":\"3d2bdb48-36ab-4b11-aa33-d72c4b1ce703\",\"type\":\"Line\"},{\"attributes\":{\"axis_label\":\"Number of training samples\",\"formatter\":{\"id\":\"fff97c33-f872-4e5e-84f7-f68aa202dace\",\"type\":\"BasicTickFormatter\"},\"plot\":{\"id\":\"8d2d5e77-7954-4a95-95e5-af708a3bef14\",\"subtype\":\"Figure\",\"type\":\"Plot\"},\"ticker\":{\"id\":\"efad6ea4-c93f-423d-90bd-d0dd46a4d577\",\"type\":\"BasicTicker\"}},\"id\":\"17576c74-96ed-4a4f-a954-462a7218ace5\",\"type\":\"LinearAxis\"},{\"attributes\":{\"dimension\":1,\"plot\":{\"id\":\"8d2d5e77-7954-4a95-95e5-af708a3bef14\",\"subtype\":\"Figure\",\"type\":\"Plot\"},\"ticker\":{\"id\":\"7ed36e5a-9fac-4dc8-a1c9-a18d2ac541bb\",\"type\":\"BasicTicker\"}},\"id\":\"18eeea42-eeac-443b-afdc-0019f49c611b\",\"type\":\"Grid\"},{\"attributes\":{\"plot\":{\"id\":\"8d2d5e77-7954-4a95-95e5-af708a3bef14\",\"subtype\":\"Figure\",\"type\":\"Plot\"},\"ticker\":{\"id\":\"efad6ea4-c93f-423d-90bd-d0dd46a4d577\",\"type\":\"BasicTicker\"}},\"id\":\"fab64fac-9b7e-4b56-9b13-77d1fdc117c1\",\"type\":\"Grid\"},{\"attributes\":{\"callback\":null,\"column_names\":[\"x\",\"y\"],\"data\":{\"x\":[40,48,55,63,70,78,85,93,100,108,116,123,131,138,146,153,161,168,176,183,191,198,206,213,221,228,236,243,251,258,266,273,281,288,296,303,311,318,326,333,341,348,356,363,371,378,386,393,401,409],\"y\":{\"__ndarray__\":\"RuF6FK5H7z9mZmZmZmbvP3ovn/fyee8/sPiKr/iK7z8FE/2drJbvPxh6oRd6oe8/qg923EKp7z+wjwv7uLDvP9rO91Pjpe8/yDpXHpCs7z8VtPpSQavvP7jPa/u8tu8/kxqEcvW07z/9dUnlw7jvP8v7XSKrvO8/wL+/v7+/7z9oBYOUaaTvP1Z8xVd8xe8/q33D2jes7z9NQoFGbK/vP+NEjUPMsu8/tW9Y+4a17z+ilfFea7jvP40qt5bFuu8/IEe9H0e97z+7u7u7u7vvP2rcLiYMvu8/PqbVdjS57z8leFUbdrvvP1Wi+04luu8/9XtuiVO/7z/g+73f+73vPw1udFXHwu8/chzHcRzH7z8yvDgPHcPvP00iXyeFxO8/AxpW1wzG7z+VAmgHS7XvP1Pqyqajue8/i/ucg6i47z+z/zH7H7PvPxMluzZRsu8/Ow2dGxC07z9Gvv1vCrrvP/tlo6CMu+8/zXtnItG87z8CpWqWNb7vP2X94xILt+8/LsdIrn+47z+dTSS25bnvPw==\",\"dtype\":\"float64\",\"shape\":[50]}}},\"id\":\"6edc8714-707d-4a0e-897f-b75b1cd0e711\",\"type\":\"ColumnDataSource\"},{\"attributes\":{},\"id\":\"efad6ea4-c93f-423d-90bd-d0dd46a4d577\",\"type\":\"BasicTicker\"},{\"attributes\":{},\"id\":\"7ed36e5a-9fac-4dc8-a1c9-a18d2ac541bb\",\"type\":\"BasicTicker\"},{\"attributes\":{\"data_source\":{\"id\":\"e268d00f-c878-4f4a-86c3-b68cd6870248\",\"type\":\"ColumnDataSource\"},\"glyph\":{\"id\":\"19e5e534-b6db-4ec1-beb1-ea52970fb23d\",\"type\":\"Quad\"},\"hover_glyph\":null,\"muted_glyph\":null,\"nonselection_glyph\":{\"id\":\"9a585039-b615-45d2-8bef-2c6a7e8770c8\",\"type\":\"Quad\"},\"selection_glyph\":null},\"id\":\"eebd5b3d-8719-4559-9fd3-49c83205e636\",\"type\":\"GlyphRenderer\"},{\"attributes\":{\"axis_label\":\"Accuracy\",\"formatter\":{\"id\":\"527f84bd-31a2-4183-ba60-6fe382f098b8\",\"type\":\"BasicTickFormatter\"},\"plot\":{\"id\":\"8d2d5e77-7954-4a95-95e5-af708a3bef14\",\"subtype\":\"Figure\",\"type\":\"Plot\"},\"ticker\":{\"id\":\"7ed36e5a-9fac-4dc8-a1c9-a18d2ac541bb\",\"type\":\"BasicTicker\"}},\"id\":\"1c877ab6-f186-4a0d-95b4-6c2dc6fed470\",\"type\":\"LinearAxis\"},{\"attributes\":{\"bottom\":{\"field\":\"bottom\"},\"fill_alpha\":{\"value\":0.2},\"fill_color\":{\"value\":\"#ff7f0e\"},\"left\":{\"field\":\"left\"},\"line_alpha\":{\"value\":0.2},\"line_color\":{\"value\":\"#ff7f0e\"},\"right\":{\"field\":\"right\"},\"top\":{\"field\":\"top\"}},\"id\":\"04a3fd35-b63f-4b90-9509-51500ea8ba88\",\"type\":\"Quad\"},{\"attributes\":{\"plot\":{\"id\":\"8d2d5e77-7954-4a95-95e5-af708a3bef14\",\"subtype\":\"Figure\",\"type\":\"Plot\"}},\"id\":\"38557354-5cc9-421e-a4d8-9117d5eb5301\",\"type\":\"SaveTool\"},{\"attributes\":{\"bottom\":{\"field\":\"bottom\"},\"fill_alpha\":{\"value\":0.1},\"fill_color\":{\"value\":\"#1f77b4\"},\"left\":{\"field\":\"left\"},\"line_alpha\":{\"value\":0.1},\"line_color\":{\"value\":\"#1f77b4\"},\"right\":{\"field\":\"right\"},\"top\":{\"field\":\"top\"}},\"id\":\"9a585039-b615-45d2-8bef-2c6a7e8770c8\",\"type\":\"Quad\"},{\"attributes\":{\"plot\":{\"id\":\"8d2d5e77-7954-4a95-95e5-af708a3bef14\",\"subtype\":\"Figure\",\"type\":\"Plot\"}},\"id\":\"8b2544f5-7af3-4d99-9a85-a4f2564061ab\",\"type\":\"PanTool\"},{\"attributes\":{\"plot\":{\"id\":\"8d2d5e77-7954-4a95-95e5-af708a3bef14\",\"subtype\":\"Figure\",\"type\":\"Plot\"}},\"id\":\"ea3c61fe-1b94-4ec1-9509-c6f0bad259c1\",\"type\":\"ResetTool\"},{\"attributes\":{},\"id\":\"fff97c33-f872-4e5e-84f7-f68aa202dace\",\"type\":\"BasicTickFormatter\"},{\"attributes\":{\"bottom_units\":\"screen\",\"fill_alpha\":{\"value\":0.5},\"fill_color\":{\"value\":\"lightgrey\"},\"left_units\":\"screen\",\"level\":\"overlay\",\"line_alpha\":{\"value\":1.0},\"line_color\":{\"value\":\"black\"},\"line_dash\":[4,4],\"line_width\":{\"value\":2},\"plot\":null,\"render_mode\":\"css\",\"right_units\":\"screen\",\"top_units\":\"screen\"},\"id\":\"7cec85d6-0bb9-4d7c-924a-b08e430a6501\",\"type\":\"BoxAnnotation\"},{\"attributes\":{\"data_source\":{\"id\":\"37e571a2-2be8-43aa-b81b-1aaf5cf24405\",\"type\":\"ColumnDataSource\"},\"glyph\":{\"id\":\"80664088-1206-41ec-8a50-fb5b7d0a4b91\",\"type\":\"Line\"},\"hover_glyph\":null,\"muted_glyph\":null,\"nonselection_glyph\":{\"id\":\"9111530e-cd30-401c-b3d3-ee4d99b94dbb\",\"type\":\"Line\"},\"selection_glyph\":null},\"id\":\"d0b9330e-73fd-45b9-82a2-abae33f42c51\",\"type\":\"GlyphRenderer\"},{\"attributes\":{\"overlay\":{\"id\":\"7cec85d6-0bb9-4d7c-924a-b08e430a6501\",\"type\":\"BoxAnnotation\"},\"plot\":{\"id\":\"8d2d5e77-7954-4a95-95e5-af708a3bef14\",\"subtype\":\"Figure\",\"type\":\"Plot\"}},\"id\":\"c5a4583f-a06f-4308-9f9e-a3bf7d8b29a7\",\"type\":\"BoxZoomTool\"},{\"attributes\":{},\"id\":\"527f84bd-31a2-4183-ba60-6fe382f098b8\",\"type\":\"BasicTickFormatter\"},{\"attributes\":{\"plot\":{\"id\":\"8d2d5e77-7954-4a95-95e5-af708a3bef14\",\"subtype\":\"Figure\",\"type\":\"Plot\"}},\"id\":\"19cff57e-dc7e-4bd3-af3e-34442b253511\",\"type\":\"WheelZoomTool\"},{\"attributes\":{\"plot\":{\"id\":\"8d2d5e77-7954-4a95-95e5-af708a3bef14\",\"subtype\":\"Figure\",\"type\":\"Plot\"}},\"id\":\"a2cdcffd-b19f-462a-b6ee-14a97a01c6cc\",\"type\":\"HelpTool\"},{\"attributes\":{\"items\":[{\"id\":\"25611619-3ed8-4344-a348-fb5ac1a279f2\",\"type\":\"LegendItem\"},{\"id\":\"8830f79f-47fe-4d6e-9773-6ef32f198406\",\"type\":\"LegendItem\"}],\"location\":\"bottom_right\",\"plot\":{\"id\":\"8d2d5e77-7954-4a95-95e5-af708a3bef14\",\"subtype\":\"Figure\",\"type\":\"Plot\"}},\"id\":\"0e562a16-bf72-4530-aa31-a0c93241d7d6\",\"type\":\"Legend\"},{\"attributes\":{\"line_alpha\":{\"value\":0.1},\"line_color\":{\"value\":\"#1f77b4\"},\"line_dash\":[6],\"x\":{\"field\":\"x\"},\"y\":{\"field\":\"y\"}},\"id\":\"9111530e-cd30-401c-b3d3-ee4d99b94dbb\",\"type\":\"Line\"},{\"attributes\":{\"plot\":null,\"text\":\"\"},\"id\":\"bc5c6bb5-eaec-476c-b9f4-6d4ca801ee21\",\"type\":\"Title\"}],\"root_ids\":[\"8d2d5e77-7954-4a95-95e5-af708a3bef14\"]},\"title\":\"Bokeh Application\",\"version\":\"0.12.6dev3\"}};\n",
       "            var render_items = [{\"docid\":\"6af7f6a6-0357-4f3f-a7b1-a8c18ff34027\",\"elementid\":\"f437599d-f824-45fd-b356-bc6c30722a0e\",\"modelid\":\"8d2d5e77-7954-4a95-95e5-af708a3bef14\"}];\n",
       "            \n",
       "            Bokeh.embed.embed_items(docs_json, render_items);\n",
       "          };\n",
       "          if (document.readyState != \"loading\") fn();\n",
       "          else document.addEventListener(\"DOMContentLoaded\", fn);\n",
       "        })();\n",
       "      },\n",
       "      function(Bokeh) {\n",
       "      }\n",
       "    ];\n",
       "  \n",
       "    function run_inline_js() {\n",
       "      \n",
       "      if ((window.Bokeh !== undefined) || (force === true)) {\n",
       "        for (var i = 0; i < inline_js.length; i++) {\n",
       "          inline_js[i](window.Bokeh);\n",
       "        }if (force === true) {\n",
       "          display_loaded();\n",
       "        }} else if (Date.now() < window._bokeh_timeout) {\n",
       "        setTimeout(run_inline_js, 100);\n",
       "      } else if (!window._bokeh_failed_load) {\n",
       "        console.log(\"Bokeh: BokehJS failed to load within specified timeout.\");\n",
       "        window._bokeh_failed_load = true;\n",
       "      } else if (force !== true) {\n",
       "        var cell = $(document.getElementById(\"f437599d-f824-45fd-b356-bc6c30722a0e\")).parents('.cell').data().cell;\n",
       "        cell.output_area.append_execute_result(NB_LOAD_WARNING)\n",
       "      }\n",
       "  \n",
       "    }\n",
       "  \n",
       "    if (window._bokeh_is_loading === 0) {\n",
       "      console.log(\"Bokeh: BokehJS loaded, going straight to plotting\");\n",
       "      run_inline_js();\n",
       "    } else {\n",
       "      load_libs(js_urls, function() {\n",
       "        console.log(\"Bokeh: BokehJS plotting callback run at\", now());\n",
       "        run_inline_js();\n",
       "      });\n",
       "    }\n",
       "  }(this));\n",
       "</script>"
      ]
     },
     "metadata": {},
     "output_type": "display_data"
    }
   ],
   "source": [
    "p = bokeh.plotting.figure(width=500, height=300,\n",
    "                          x_range=list(train_sizes[[0, -1]]),\n",
    "                          y_range=[.80, 1], \n",
    "                          x_axis_label='Number of training samples',\n",
    "                          y_axis_label='Accuracy')\n",
    "\n",
    "left = train_sizes.astype(np.float)\n",
    "left[1:] -= np.diff(train_sizes)/2\n",
    "right = train_sizes.astype(np.float)\n",
    "right[:-1] += np.diff(train_sizes)/2\n",
    "\n",
    "p.quad(left=left, right=right, \n",
    "       bottom=train_mean-train_std, \n",
    "       top=train_mean+train_std, \n",
    "       alpha=0.2, color=palette[0])\n",
    "p.line(train_sizes, train_mean, color=palette[0], legend='training accuracy')\n",
    "\n",
    "p.quad(left=left, right=right, \n",
    "       bottom=test_mean-test_std, \n",
    "       top=test_mean+test_std, \n",
    "       alpha=0.2, color=palette[1])\n",
    "p.line(train_sizes, test_mean, color=palette[1], line_dash='dashed', legend='validation accuracy')\n",
    "\n",
    "p.legend.location = 'bottom_right'\n",
    "\n",
    "bokeh.plotting.show(p)"
   ]
  },
  {
   "cell_type": "markdown",
   "metadata": {},
   "source": [
    "# Validation Curves\n",
    "\n",
    "Now lets analyze the accuracy as we vary the model parameters.  Validation curves provide a valuable way to tune model hyperparameters, model parameters that are independent of the training parameters.  For the logistic regression, lets vary the inverse regularization parameter, C (`clf__C`), first for the 2-component PCA pipeline, then for the pipeline applying the L2 penalty."
   ]
  },
  {
   "cell_type": "code",
   "execution_count": 28,
   "metadata": {
    "collapsed": false
   },
   "outputs": [],
   "source": [
    "n_points = 15\n",
    "param_range = np.logspace(-3, 2, n_points)\n",
    "train_scores, test_scores = sklearn.model_selection.validation_curve(\n",
    "    estimator=lr_pipe0, X=X_train, y=y_train, param_name='clf__C', param_range=param_range,\n",
    "    cv=10, n_jobs=-1)"
   ]
  },
  {
   "cell_type": "code",
   "execution_count": 29,
   "metadata": {
    "collapsed": true
   },
   "outputs": [],
   "source": [
    "train_mean = train_scores.mean(axis=1)\n",
    "train_std = train_scores.std(axis=1)\n",
    "\n",
    "test_mean = test_scores.mean(axis=1)\n",
    "test_std = test_scores.std(axis=1)"
   ]
  },
  {
   "cell_type": "code",
   "execution_count": 30,
   "metadata": {
    "collapsed": false
   },
   "outputs": [
    {
     "data": {
      "text/html": [
       "\n",
       "\n",
       "    <div class=\"bk-root\">\n",
       "        <div class=\"bk-plotdiv\" id=\"b2091f60-042d-4435-8bfb-cd8bb2b342d4\"></div>\n",
       "    </div>\n",
       "<script type=\"text/javascript\">\n",
       "  \n",
       "  (function(global) {\n",
       "    function now() {\n",
       "      return new Date();\n",
       "    }\n",
       "  \n",
       "    var force = false;\n",
       "  \n",
       "    if (typeof (window._bokeh_onload_callbacks) === \"undefined\" || force === true) {\n",
       "      window._bokeh_onload_callbacks = [];\n",
       "      window._bokeh_is_loading = undefined;\n",
       "    }\n",
       "  \n",
       "  \n",
       "    \n",
       "    if (typeof (window._bokeh_timeout) === \"undefined\" || force === true) {\n",
       "      window._bokeh_timeout = Date.now() + 0;\n",
       "      window._bokeh_failed_load = false;\n",
       "    }\n",
       "  \n",
       "    var NB_LOAD_WARNING = {'data': {'text/html':\n",
       "       \"<div style='background-color: #fdd'>\\n\"+\n",
       "       \"<p>\\n\"+\n",
       "       \"BokehJS does not appear to have successfully loaded. If loading BokehJS from CDN, this \\n\"+\n",
       "       \"may be due to a slow or bad network connection. Possible fixes:\\n\"+\n",
       "       \"</p>\\n\"+\n",
       "       \"<ul>\\n\"+\n",
       "       \"<li>re-rerun `output_notebook()` to attempt to load from CDN again, or</li>\\n\"+\n",
       "       \"<li>use INLINE resources instead, as so:</li>\\n\"+\n",
       "       \"</ul>\\n\"+\n",
       "       \"<code>\\n\"+\n",
       "       \"from bokeh.resources import INLINE\\n\"+\n",
       "       \"output_notebook(resources=INLINE)\\n\"+\n",
       "       \"</code>\\n\"+\n",
       "       \"</div>\"}};\n",
       "  \n",
       "    function display_loaded() {\n",
       "      if (window.Bokeh !== undefined) {\n",
       "        var el = document.getElementById(\"b2091f60-042d-4435-8bfb-cd8bb2b342d4\");\n",
       "        el.textContent = \"BokehJS \" + Bokeh.version + \" successfully loaded.\";\n",
       "      } else if (Date.now() < window._bokeh_timeout) {\n",
       "        setTimeout(display_loaded, 100)\n",
       "      }\n",
       "    }\n",
       "  \n",
       "    function run_callbacks() {\n",
       "      window._bokeh_onload_callbacks.forEach(function(callback) { callback() });\n",
       "      delete window._bokeh_onload_callbacks\n",
       "      console.info(\"Bokeh: all callbacks have finished\");\n",
       "    }\n",
       "  \n",
       "    function load_libs(js_urls, callback) {\n",
       "      window._bokeh_onload_callbacks.push(callback);\n",
       "      if (window._bokeh_is_loading > 0) {\n",
       "        console.log(\"Bokeh: BokehJS is being loaded, scheduling callback at\", now());\n",
       "        return null;\n",
       "      }\n",
       "      if (js_urls == null || js_urls.length === 0) {\n",
       "        run_callbacks();\n",
       "        return null;\n",
       "      }\n",
       "      console.log(\"Bokeh: BokehJS not loaded, scheduling load and callback at\", now());\n",
       "      window._bokeh_is_loading = js_urls.length;\n",
       "      for (var i = 0; i < js_urls.length; i++) {\n",
       "        var url = js_urls[i];\n",
       "        var s = document.createElement('script');\n",
       "        s.src = url;\n",
       "        s.async = false;\n",
       "        s.onreadystatechange = s.onload = function() {\n",
       "          window._bokeh_is_loading--;\n",
       "          if (window._bokeh_is_loading === 0) {\n",
       "            console.log(\"Bokeh: all BokehJS libraries loaded\");\n",
       "            run_callbacks()\n",
       "          }\n",
       "        };\n",
       "        s.onerror = function() {\n",
       "          console.warn(\"failed to load library \" + url);\n",
       "        };\n",
       "        console.log(\"Bokeh: injecting script tag for BokehJS library: \", url);\n",
       "        document.getElementsByTagName(\"head\")[0].appendChild(s);\n",
       "      }\n",
       "    };var element = document.getElementById(\"b2091f60-042d-4435-8bfb-cd8bb2b342d4\");\n",
       "    if (element == null) {\n",
       "      console.log(\"Bokeh: ERROR: autoload.js configured with elementid 'b2091f60-042d-4435-8bfb-cd8bb2b342d4' but no matching script tag was found. \")\n",
       "      return false;\n",
       "    }\n",
       "  \n",
       "    var js_urls = [];\n",
       "  \n",
       "    var inline_js = [\n",
       "      function(Bokeh) {\n",
       "        (function() {\n",
       "          var fn = function() {\n",
       "            var docs_json = {\"1b3bef59-8b59-40f9-866f-9c8f5ab9a23c\":{\"roots\":{\"references\":[{\"attributes\":{},\"id\":\"9bfc9e6a-aaa0-40c2-9ba1-2e89b8181464\",\"type\":\"ToolEvents\"},{\"attributes\":{\"plot\":null,\"text\":\"\"},\"id\":\"46cd947a-d6c5-4493-81f3-feac35b5e230\",\"type\":\"Title\"},{\"attributes\":{\"active_drag\":\"auto\",\"active_inspect\":\"auto\",\"active_scroll\":\"auto\",\"active_tap\":\"auto\",\"tools\":[{\"id\":\"2405c70d-e63f-4a51-8c34-4a42dc74ce7f\",\"type\":\"PanTool\"},{\"id\":\"d66ef935-d4ff-46e9-a817-a9024b8c5fa8\",\"type\":\"WheelZoomTool\"},{\"id\":\"1ac014b8-cd10-489d-a8a0-c65d0100d72f\",\"type\":\"BoxZoomTool\"},{\"id\":\"d0421cf7-65be-4d39-bc41-1e78f6bece49\",\"type\":\"SaveTool\"},{\"id\":\"5d7ebdb7-be35-4a01-97e1-0eaa26f5c7e9\",\"type\":\"ResetTool\"},{\"id\":\"0a606f71-2f1b-4974-b7aa-b51d4a10f412\",\"type\":\"HelpTool\"}]},\"id\":\"3fa6c29d-d74d-4230-b49c-11d279fe2186\",\"type\":\"Toolbar\"},{\"attributes\":{\"bottom\":{\"field\":\"bottom\"},\"fill_alpha\":{\"value\":0.2},\"fill_color\":{\"value\":\"#1f77b4\"},\"left\":{\"field\":\"left\"},\"line_alpha\":{\"value\":0.2},\"line_color\":{\"value\":\"#1f77b4\"},\"right\":{\"field\":\"right\"},\"top\":{\"field\":\"top\"}},\"id\":\"fa132eaa-5e73-4002-9b45-d4daf3755caa\",\"type\":\"Quad\"},{\"attributes\":{},\"id\":\"b85f5ed7-0b8a-4c97-8e9c-b65826a3149b\",\"type\":\"BasicTicker\"},{\"attributes\":{\"callback\":null,\"column_names\":[\"left\",\"right\",\"top\",\"bottom\"],\"data\":{\"bottom\":{\"__ndarray__\":\"sw8d5xQG7j/oWZYGmhPuP/htXCwfNu4/eKXif6Qz7j+CFer82jTuPwI/hyZHKu4/GbTv1iQ67j+jR2w+jUPuP/VqqOFxT+4/eQRFlE9Y7j994CNAjV3uP33gI0CNXe4/feAjQI1d7j994CNAjV3uP+QzVbisXe4/\",\"dtype\":\"float64\",\"shape\":[15]},\"left\":{\"__ndarray__\":\"/Knx0k1iUD8ns9Bj8tVaP7BP5WJ4iW4/Od/e5tZfgT9ALtZ0TMWTP8Vq/DJef6Y/uQJHkbeZuT8RbfAIoCHNP0UbYfgZk+A/jA31k1Lc8j/U4AxWQnYFQCYZ7ioLbBhA+qu9EFjKK0DeWB5Ok58/QGiRfhES/lFA\",\"dtype\":\"float64\",\"shape\":[15]},\"right\":{\"__ndarray__\":\"J7PQY/LVWj+wT+VieIluPznf3ubWX4E/QC7WdEzFkz/GavwyXn+mP7kCR5G3mbk/EW3wCKAhzT9FG2H4GZPgP4wN9ZNS3PI/1OAMVkJ2BUAmGe4qC2wYQPqrvRBYyitA3lgeTpOfP0BokX4REv5RQAAAAAAAAFlA\",\"dtype\":\"float64\",\"shape\":[15]},\"top\":{\"__ndarray__\":\"84rhNrQt7j/4XMgZLTzuP6h5g/qrWe4/noZeqi907j8Oa3gwA4fuPz5pmgSRge4/k9LC17eR7j99HdfzU6juP4HCG1N0sO4/LYXfoZiz7j8/z9B2W7buPz/P0HZbtu4/P8/Qdlu27j8/z9B2W7buP/CxL389uu4/\",\"dtype\":\"float64\",\"shape\":[15]}}},\"id\":\"b55ce629-800e-4eee-af44-0425fe2b9d15\",\"type\":\"ColumnDataSource\"},{\"attributes\":{\"below\":[{\"id\":\"a333170d-49e4-4993-84b7-1109bcb1285d\",\"type\":\"LogAxis\"}],\"left\":[{\"id\":\"f20cac53-7d83-4d50-91e5-b7c7d2fd2f73\",\"type\":\"LinearAxis\"}],\"plot_height\":300,\"plot_width\":500,\"renderers\":[{\"id\":\"a333170d-49e4-4993-84b7-1109bcb1285d\",\"type\":\"LogAxis\"},{\"id\":\"6f4ae1c0-3400-400a-b23f-4a067da84505\",\"type\":\"Grid\"},{\"id\":\"f20cac53-7d83-4d50-91e5-b7c7d2fd2f73\",\"type\":\"LinearAxis\"},{\"id\":\"0da531fa-69a3-470b-87fb-d14ed94831d6\",\"type\":\"Grid\"},{\"id\":\"8110c9ff-cd65-4d23-8409-64227466e4e2\",\"type\":\"BoxAnnotation\"},{\"id\":\"47bc5e57-e306-4e16-a0ff-21388d4dc1ad\",\"type\":\"GlyphRenderer\"},{\"id\":\"0a648670-3927-450f-bcce-5cd8ec07a3fe\",\"type\":\"Legend\"},{\"id\":\"032143c6-90f7-4755-bf22-9cd9571393dc\",\"type\":\"GlyphRenderer\"},{\"id\":\"5724f909-1929-43db-8793-6dd929e8b7cc\",\"type\":\"GlyphRenderer\"},{\"id\":\"7adca162-3dad-4310-9cef-0ada324f97e7\",\"type\":\"GlyphRenderer\"}],\"title\":{\"id\":\"46cd947a-d6c5-4493-81f3-feac35b5e230\",\"type\":\"Title\"},\"tool_events\":{\"id\":\"9bfc9e6a-aaa0-40c2-9ba1-2e89b8181464\",\"type\":\"ToolEvents\"},\"toolbar\":{\"id\":\"3fa6c29d-d74d-4230-b49c-11d279fe2186\",\"type\":\"Toolbar\"},\"x_mapper_type\":\"log\",\"x_range\":{\"id\":\"dcd1e879-8b0e-411f-90e3-1a5c6f20d173\",\"type\":\"Range1d\"},\"y_range\":{\"id\":\"fafcc71c-7061-4a12-b4b8-d18e0ff41475\",\"type\":\"Range1d\"}},\"id\":\"9ce72c52-d5ad-4003-8178-5d2584f569c8\",\"subtype\":\"Figure\",\"type\":\"Plot\"},{\"attributes\":{\"bottom\":{\"field\":\"bottom\"},\"fill_alpha\":{\"value\":0.1},\"fill_color\":{\"value\":\"#1f77b4\"},\"left\":{\"field\":\"left\"},\"line_alpha\":{\"value\":0.1},\"line_color\":{\"value\":\"#1f77b4\"},\"right\":{\"field\":\"right\"},\"top\":{\"field\":\"top\"}},\"id\":\"316e696b-e21c-4853-9f30-7ba7b37c5b45\",\"type\":\"Quad\"},{\"attributes\":{},\"id\":\"9a30c962-86da-4968-b20f-72e55cdf6f48\",\"type\":\"BasicTickFormatter\"},{\"attributes\":{\"line_alpha\":{\"value\":0.1},\"line_color\":{\"value\":\"#1f77b4\"},\"x\":{\"field\":\"x\"},\"y\":{\"field\":\"y\"}},\"id\":\"0e22530b-6426-4460-81c3-557e47523426\",\"type\":\"Line\"},{\"attributes\":{\"data_source\":{\"id\":\"45ea319c-c7a6-4c27-bce3-69f2f75255f9\",\"type\":\"ColumnDataSource\"},\"glyph\":{\"id\":\"470f73e2-912c-4701-aa76-5a54a4a71f68\",\"type\":\"Quad\"},\"hover_glyph\":null,\"muted_glyph\":null,\"nonselection_glyph\":{\"id\":\"7c416aae-0f4b-47c2-b0aa-943476a9e70f\",\"type\":\"Quad\"},\"selection_glyph\":null},\"id\":\"5724f909-1929-43db-8793-6dd929e8b7cc\",\"type\":\"GlyphRenderer\"},{\"attributes\":{\"items\":[{\"id\":\"db8f8c7c-bd04-4bb6-b5d4-7df1c64e813b\",\"type\":\"LegendItem\"},{\"id\":\"cdac6f67-2dca-4a7a-acc0-ae69183acd0e\",\"type\":\"LegendItem\"}],\"location\":\"bottom_right\",\"plot\":{\"id\":\"9ce72c52-d5ad-4003-8178-5d2584f569c8\",\"subtype\":\"Figure\",\"type\":\"Plot\"}},\"id\":\"0a648670-3927-450f-bcce-5cd8ec07a3fe\",\"type\":\"Legend\"},{\"attributes\":{\"plot\":{\"id\":\"9ce72c52-d5ad-4003-8178-5d2584f569c8\",\"subtype\":\"Figure\",\"type\":\"Plot\"}},\"id\":\"2405c70d-e63f-4a51-8c34-4a42dc74ce7f\",\"type\":\"PanTool\"},{\"attributes\":{\"data_source\":{\"id\":\"b55ce629-800e-4eee-af44-0425fe2b9d15\",\"type\":\"ColumnDataSource\"},\"glyph\":{\"id\":\"fa132eaa-5e73-4002-9b45-d4daf3755caa\",\"type\":\"Quad\"},\"hover_glyph\":null,\"muted_glyph\":null,\"nonselection_glyph\":{\"id\":\"316e696b-e21c-4853-9f30-7ba7b37c5b45\",\"type\":\"Quad\"},\"selection_glyph\":null},\"id\":\"47bc5e57-e306-4e16-a0ff-21388d4dc1ad\",\"type\":\"GlyphRenderer\"},{\"attributes\":{\"callback\":null,\"column_names\":[\"left\",\"right\",\"top\",\"bottom\"],\"data\":{\"bottom\":{\"__ndarray__\":\"hhMorR547T+GEyitHnjtP6K/NPqwSO0/QejD8ESK7T8fvwqgSjrtP0How/BEiu0/CCnx8CR87T9DpjW1MaXtP0OmNbUxpe0/Qh48L7Zz7T9CHjwvtnPtP3SLVgAFX+0/dItWAAVf7T90i1YABV/tP3SLVgAFX+0/\",\"dtype\":\"float64\",\"shape\":[15]},\"left\":{\"__ndarray__\":\"/Knx0k1iUD8ns9Bj8tVaP7BP5WJ4iW4/Od/e5tZfgT9ALtZ0TMWTP8Vq/DJef6Y/uQJHkbeZuT8RbfAIoCHNP0UbYfgZk+A/jA31k1Lc8j/U4AxWQnYFQCYZ7ioLbBhA+qu9EFjKK0DeWB5Ok58/QGiRfhES/lFA\",\"dtype\":\"float64\",\"shape\":[15]},\"right\":{\"__ndarray__\":\"J7PQY/LVWj+wT+VieIluPznf3ubWX4E/QC7WdEzFkz/GavwyXn+mP7kCR5G3mbk/EW3wCKAhzT9FG2H4GZPgP4wN9ZNS3PI/1OAMVkJ2BUAmGe4qC2wYQPqrvRBYyitA3lgeTpOfP0BokX4REv5RQAAAAAAAAFlA\",\"dtype\":\"float64\",\"shape\":[15]},\"top\":{\"__ndarray__\":\"loW3u+nh7j+Whbe76eHuP3iUT2G57e4/3zrSkv8W7z+F6T4p8x7vP9860pL/Fu8/juo6Muol7z9Z96yIGUTvP1n3rIgZRO8/WDpLAfdR7z9YOksB91HvP6yXP4M/Qu8/rJc/gz9C7z+slz+DP0LvP6yXP4M/Qu8/\",\"dtype\":\"float64\",\"shape\":[15]}}},\"id\":\"45ea319c-c7a6-4c27-bce3-69f2f75255f9\",\"type\":\"ColumnDataSource\"},{\"attributes\":{\"callback\":null,\"column_names\":[\"x\",\"y\"],\"data\":{\"x\":{\"__ndarray__\":\"/Knx0k1iUD8p3ld6y6RiP5xguaUSN3U/JA7heiQkiD9t1TushnibP9Tq2g95Qq8/BEhQTRnJwT8PSUhiEz3UPwMSnj+qB+c/FhIbCNA0+j+eOAyoHNINQP8K6wCE9yBAeyZIEJZOM0CgRfpFSPhFQAAAAAAAAFlA\",\"dtype\":\"float64\",\"shape\":[15]},\"y\":{\"__ndarray__\":\"jsxvNAQt7j+OzG80BC3uPw0qwi01G+4/kBHLQaJQ7j9S1KTknizuP5ARy0GiUO4/ywmWkQdR7j/OTvGepXTuP85O8Z6ldO4/TaxDmNZi7j9NrEOY1mLuP5ARy0GiUO4/kBHLQaJQ7j+QEctBolDuP5ARy0GiUO4/\",\"dtype\":\"float64\",\"shape\":[15]}}},\"id\":\"54c1adda-53b8-4597-a729-c844dfb81b70\",\"type\":\"ColumnDataSource\"},{\"attributes\":{\"callback\":null,\"column_names\":[\"x\",\"y\"],\"data\":{\"x\":{\"__ndarray__\":\"/Knx0k1iUD8p3ld6y6RiP5xguaUSN3U/JA7heiQkiD9t1TushnibP9Tq2g95Qq8/BEhQTRnJwT8PSUhiEz3UPwMSnj+qB+c/FhIbCNA0+j+eOAyoHNINQP8K6wCE9yBAeyZIEJZOM0CgRfpFSPhFQAAAAAAAAFlA\",\"dtype\":\"float64\",\"shape\":[15]},\"y\":{\"__ndarray__\":\"U03/juQZ7j9wWy+Q4yfuP9Dzb5PlR+4/C5YgFepT7j9IQLEW713uPyDUkBXsVe4/VkNZV+5l7j+QsiGZ8HXuP7sWYhrzf+4/00QSG/SF7j/eV3pb9InuP95Xelv0ie4/3ld6W/SJ7j/eV3pb9InuP+pywhv1i+4/\",\"dtype\":\"float64\",\"shape\":[15]}}},\"id\":\"2e74e602-41f1-42bc-b722-9c28c051b3fb\",\"type\":\"ColumnDataSource\"},{\"attributes\":{\"axis_label\":\"Parameter C\",\"formatter\":{\"id\":\"bfb85183-c7b5-4322-b728-21dc9e1da650\",\"type\":\"LogTickFormatter\"},\"plot\":{\"id\":\"9ce72c52-d5ad-4003-8178-5d2584f569c8\",\"subtype\":\"Figure\",\"type\":\"Plot\"},\"ticker\":{\"id\":\"012fd7e9-abb3-448a-9850-f9adbca9523c\",\"type\":\"LogTicker\"}},\"id\":\"a333170d-49e4-4993-84b7-1109bcb1285d\",\"type\":\"LogAxis\"},{\"attributes\":{\"label\":{\"value\":\"training accuracy\"},\"renderers\":[{\"id\":\"032143c6-90f7-4755-bf22-9cd9571393dc\",\"type\":\"GlyphRenderer\"}]},\"id\":\"db8f8c7c-bd04-4bb6-b5d4-7df1c64e813b\",\"type\":\"LegendItem\"},{\"attributes\":{\"plot\":{\"id\":\"9ce72c52-d5ad-4003-8178-5d2584f569c8\",\"subtype\":\"Figure\",\"type\":\"Plot\"},\"ticker\":{\"id\":\"012fd7e9-abb3-448a-9850-f9adbca9523c\",\"type\":\"LogTicker\"}},\"id\":\"6f4ae1c0-3400-400a-b23f-4a067da84505\",\"type\":\"Grid\"},{\"attributes\":{\"plot\":{\"id\":\"9ce72c52-d5ad-4003-8178-5d2584f569c8\",\"subtype\":\"Figure\",\"type\":\"Plot\"}},\"id\":\"0a606f71-2f1b-4974-b7aa-b51d4a10f412\",\"type\":\"HelpTool\"},{\"attributes\":{\"num_minor_ticks\":10},\"id\":\"012fd7e9-abb3-448a-9850-f9adbca9523c\",\"type\":\"LogTicker\"},{\"attributes\":{\"dimension\":1,\"plot\":{\"id\":\"9ce72c52-d5ad-4003-8178-5d2584f569c8\",\"subtype\":\"Figure\",\"type\":\"Plot\"},\"ticker\":{\"id\":\"b85f5ed7-0b8a-4c97-8e9c-b65826a3149b\",\"type\":\"BasicTicker\"}},\"id\":\"0da531fa-69a3-470b-87fb-d14ed94831d6\",\"type\":\"Grid\"},{\"attributes\":{\"plot\":{\"id\":\"9ce72c52-d5ad-4003-8178-5d2584f569c8\",\"subtype\":\"Figure\",\"type\":\"Plot\"}},\"id\":\"d0421cf7-65be-4d39-bc41-1e78f6bece49\",\"type\":\"SaveTool\"},{\"attributes\":{\"ticker\":null},\"id\":\"bfb85183-c7b5-4322-b728-21dc9e1da650\",\"type\":\"LogTickFormatter\"},{\"attributes\":{\"plot\":{\"id\":\"9ce72c52-d5ad-4003-8178-5d2584f569c8\",\"subtype\":\"Figure\",\"type\":\"Plot\"}},\"id\":\"d66ef935-d4ff-46e9-a817-a9024b8c5fa8\",\"type\":\"WheelZoomTool\"},{\"attributes\":{\"bottom_units\":\"screen\",\"fill_alpha\":{\"value\":0.5},\"fill_color\":{\"value\":\"lightgrey\"},\"left_units\":\"screen\",\"level\":\"overlay\",\"line_alpha\":{\"value\":1.0},\"line_color\":{\"value\":\"black\"},\"line_dash\":[4,4],\"line_width\":{\"value\":2},\"plot\":null,\"render_mode\":\"css\",\"right_units\":\"screen\",\"top_units\":\"screen\"},\"id\":\"8110c9ff-cd65-4d23-8409-64227466e4e2\",\"type\":\"BoxAnnotation\"},{\"attributes\":{\"callback\":null,\"start\":0.8},\"id\":\"fafcc71c-7061-4a12-b4b8-d18e0ff41475\",\"type\":\"Range1d\"},{\"attributes\":{\"overlay\":{\"id\":\"8110c9ff-cd65-4d23-8409-64227466e4e2\",\"type\":\"BoxAnnotation\"},\"plot\":{\"id\":\"9ce72c52-d5ad-4003-8178-5d2584f569c8\",\"subtype\":\"Figure\",\"type\":\"Plot\"}},\"id\":\"1ac014b8-cd10-489d-a8a0-c65d0100d72f\",\"type\":\"BoxZoomTool\"},{\"attributes\":{\"data_source\":{\"id\":\"2e74e602-41f1-42bc-b722-9c28c051b3fb\",\"type\":\"ColumnDataSource\"},\"glyph\":{\"id\":\"d4d89c04-4d20-470e-a3d5-b6e7b3c6675c\",\"type\":\"Line\"},\"hover_glyph\":null,\"muted_glyph\":null,\"nonselection_glyph\":{\"id\":\"0e22530b-6426-4460-81c3-557e47523426\",\"type\":\"Line\"},\"selection_glyph\":null},\"id\":\"032143c6-90f7-4755-bf22-9cd9571393dc\",\"type\":\"GlyphRenderer\"},{\"attributes\":{\"line_alpha\":{\"value\":0.1},\"line_color\":{\"value\":\"#1f77b4\"},\"line_dash\":[6],\"x\":{\"field\":\"x\"},\"y\":{\"field\":\"y\"}},\"id\":\"772334d0-218a-451c-9216-44b712f70073\",\"type\":\"Line\"},{\"attributes\":{\"bottom\":{\"field\":\"bottom\"},\"fill_alpha\":{\"value\":0.1},\"fill_color\":{\"value\":\"#1f77b4\"},\"left\":{\"field\":\"left\"},\"line_alpha\":{\"value\":0.1},\"line_color\":{\"value\":\"#1f77b4\"},\"right\":{\"field\":\"right\"},\"top\":{\"field\":\"top\"}},\"id\":\"7c416aae-0f4b-47c2-b0aa-943476a9e70f\",\"type\":\"Quad\"},{\"attributes\":{\"bottom\":{\"field\":\"bottom\"},\"fill_alpha\":{\"value\":0.2},\"fill_color\":{\"value\":\"#ff7f0e\"},\"left\":{\"field\":\"left\"},\"line_alpha\":{\"value\":0.2},\"line_color\":{\"value\":\"#ff7f0e\"},\"right\":{\"field\":\"right\"},\"top\":{\"field\":\"top\"}},\"id\":\"470f73e2-912c-4701-aa76-5a54a4a71f68\",\"type\":\"Quad\"},{\"attributes\":{\"data_source\":{\"id\":\"54c1adda-53b8-4597-a729-c844dfb81b70\",\"type\":\"ColumnDataSource\"},\"glyph\":{\"id\":\"6c712058-6449-4341-bfc2-b8c40550a3f9\",\"type\":\"Line\"},\"hover_glyph\":null,\"muted_glyph\":null,\"nonselection_glyph\":{\"id\":\"772334d0-218a-451c-9216-44b712f70073\",\"type\":\"Line\"},\"selection_glyph\":null},\"id\":\"7adca162-3dad-4310-9cef-0ada324f97e7\",\"type\":\"GlyphRenderer\"},{\"attributes\":{\"label\":{\"value\":\"validation accuracy\"},\"renderers\":[{\"id\":\"7adca162-3dad-4310-9cef-0ada324f97e7\",\"type\":\"GlyphRenderer\"}]},\"id\":\"cdac6f67-2dca-4a7a-acc0-ae69183acd0e\",\"type\":\"LegendItem\"},{\"attributes\":{\"axis_label\":\"Accuracy\",\"formatter\":{\"id\":\"9a30c962-86da-4968-b20f-72e55cdf6f48\",\"type\":\"BasicTickFormatter\"},\"plot\":{\"id\":\"9ce72c52-d5ad-4003-8178-5d2584f569c8\",\"subtype\":\"Figure\",\"type\":\"Plot\"},\"ticker\":{\"id\":\"b85f5ed7-0b8a-4c97-8e9c-b65826a3149b\",\"type\":\"BasicTicker\"}},\"id\":\"f20cac53-7d83-4d50-91e5-b7c7d2fd2f73\",\"type\":\"LinearAxis\"},{\"attributes\":{\"plot\":{\"id\":\"9ce72c52-d5ad-4003-8178-5d2584f569c8\",\"subtype\":\"Figure\",\"type\":\"Plot\"}},\"id\":\"5d7ebdb7-be35-4a01-97e1-0eaa26f5c7e9\",\"type\":\"ResetTool\"},{\"attributes\":{\"line_color\":{\"value\":\"#ff7f0e\"},\"line_dash\":[6],\"x\":{\"field\":\"x\"},\"y\":{\"field\":\"y\"}},\"id\":\"6c712058-6449-4341-bfc2-b8c40550a3f9\",\"type\":\"Line\"},{\"attributes\":{\"line_color\":{\"value\":\"#1f77b4\"},\"x\":{\"field\":\"x\"},\"y\":{\"field\":\"y\"}},\"id\":\"d4d89c04-4d20-470e-a3d5-b6e7b3c6675c\",\"type\":\"Line\"},{\"attributes\":{\"callback\":null,\"end\":100.0,\"start\":0.001},\"id\":\"dcd1e879-8b0e-411f-90e3-1a5c6f20d173\",\"type\":\"Range1d\"}],\"root_ids\":[\"9ce72c52-d5ad-4003-8178-5d2584f569c8\"]},\"title\":\"Bokeh Application\",\"version\":\"0.12.6dev3\"}};\n",
       "            var render_items = [{\"docid\":\"1b3bef59-8b59-40f9-866f-9c8f5ab9a23c\",\"elementid\":\"b2091f60-042d-4435-8bfb-cd8bb2b342d4\",\"modelid\":\"9ce72c52-d5ad-4003-8178-5d2584f569c8\"}];\n",
       "            \n",
       "            Bokeh.embed.embed_items(docs_json, render_items);\n",
       "          };\n",
       "          if (document.readyState != \"loading\") fn();\n",
       "          else document.addEventListener(\"DOMContentLoaded\", fn);\n",
       "        })();\n",
       "      },\n",
       "      function(Bokeh) {\n",
       "      }\n",
       "    ];\n",
       "  \n",
       "    function run_inline_js() {\n",
       "      \n",
       "      if ((window.Bokeh !== undefined) || (force === true)) {\n",
       "        for (var i = 0; i < inline_js.length; i++) {\n",
       "          inline_js[i](window.Bokeh);\n",
       "        }if (force === true) {\n",
       "          display_loaded();\n",
       "        }} else if (Date.now() < window._bokeh_timeout) {\n",
       "        setTimeout(run_inline_js, 100);\n",
       "      } else if (!window._bokeh_failed_load) {\n",
       "        console.log(\"Bokeh: BokehJS failed to load within specified timeout.\");\n",
       "        window._bokeh_failed_load = true;\n",
       "      } else if (force !== true) {\n",
       "        var cell = $(document.getElementById(\"b2091f60-042d-4435-8bfb-cd8bb2b342d4\")).parents('.cell').data().cell;\n",
       "        cell.output_area.append_execute_result(NB_LOAD_WARNING)\n",
       "      }\n",
       "  \n",
       "    }\n",
       "  \n",
       "    if (window._bokeh_is_loading === 0) {\n",
       "      console.log(\"Bokeh: BokehJS loaded, going straight to plotting\");\n",
       "      run_inline_js();\n",
       "    } else {\n",
       "      load_libs(js_urls, function() {\n",
       "        console.log(\"Bokeh: BokehJS plotting callback run at\", now());\n",
       "        run_inline_js();\n",
       "      });\n",
       "    }\n",
       "  }(this));\n",
       "</script>"
      ]
     },
     "metadata": {},
     "output_type": "display_data"
    }
   ],
   "source": [
    "p = bokeh.plotting.figure(width=500, height=300,\n",
    "                          x_range=list(param_range[[0, -1]]),\n",
    "                          y_range=[.80, 1], \n",
    "                          x_axis_label='Parameter C',\n",
    "                          y_axis_label='Accuracy',\n",
    "                          x_axis_type='log',\n",
    "                         )\n",
    "\n",
    "left = param_range.astype(np.float)\n",
    "left[1:] -= np.diff(param_range)/2\n",
    "right = param_range.astype(np.float)\n",
    "right[:-1] += np.diff(param_range)/2\n",
    "\n",
    "p.quad(left=left, right=right, \n",
    "       bottom=train_mean-train_std, \n",
    "       top=train_mean+train_std, \n",
    "       alpha=0.2, color=palette[0])\n",
    "p.line(param_range, train_mean, color=palette[0], legend='training accuracy')\n",
    "\n",
    "p.quad(left=left, right=right, \n",
    "       bottom=test_mean-test_std, \n",
    "       top=test_mean+test_std, \n",
    "       alpha=0.2, color=palette[1])\n",
    "p.line(param_range, test_mean, color=palette[1], line_dash='dashed', legend='validation accuracy')\n",
    "\n",
    "p.legend.location = 'bottom_right'\n",
    "\n",
    "bokeh.plotting.show(p)"
   ]
  },
  {
   "cell_type": "code",
   "execution_count": 31,
   "metadata": {
    "collapsed": false
   },
   "outputs": [
    {
     "data": {
      "text/plain": [
       "0.01"
      ]
     },
     "execution_count": 31,
     "metadata": {},
     "output_type": "execute_result"
    }
   ],
   "source": [
    "10 ** -2 "
   ]
  },
  {
   "cell_type": "markdown",
   "metadata": {},
   "source": [
    "This seems to do reasonably well for the parameter range $.001 < C < 1$."
   ]
  },
  {
   "cell_type": "code",
   "execution_count": 32,
   "metadata": {
    "collapsed": false
   },
   "outputs": [],
   "source": [
    "n_points = 15\n",
    "param_range = np.logspace(-3, 2, n_points)\n",
    "train_scores, test_scores = sklearn.model_selection.validation_curve(\n",
    "    estimator=lr_pipe1, X=X_train, y=y_train, param_name='clf__C', param_range=param_range,\n",
    "    cv=10, n_jobs=-1)"
   ]
  },
  {
   "cell_type": "code",
   "execution_count": 33,
   "metadata": {
    "collapsed": true
   },
   "outputs": [],
   "source": [
    "train_mean = train_scores.mean(axis=1)\n",
    "train_std = train_scores.std(axis=1)\n",
    "\n",
    "test_mean = test_scores.mean(axis=1)\n",
    "test_std = test_scores.std(axis=1)"
   ]
  },
  {
   "cell_type": "code",
   "execution_count": 34,
   "metadata": {
    "collapsed": false
   },
   "outputs": [
    {
     "data": {
      "text/html": [
       "\n",
       "\n",
       "    <div class=\"bk-root\">\n",
       "        <div class=\"bk-plotdiv\" id=\"6dd51bce-572e-4dc9-8ab1-0fd2cbc08103\"></div>\n",
       "    </div>\n",
       "<script type=\"text/javascript\">\n",
       "  \n",
       "  (function(global) {\n",
       "    function now() {\n",
       "      return new Date();\n",
       "    }\n",
       "  \n",
       "    var force = false;\n",
       "  \n",
       "    if (typeof (window._bokeh_onload_callbacks) === \"undefined\" || force === true) {\n",
       "      window._bokeh_onload_callbacks = [];\n",
       "      window._bokeh_is_loading = undefined;\n",
       "    }\n",
       "  \n",
       "  \n",
       "    \n",
       "    if (typeof (window._bokeh_timeout) === \"undefined\" || force === true) {\n",
       "      window._bokeh_timeout = Date.now() + 0;\n",
       "      window._bokeh_failed_load = false;\n",
       "    }\n",
       "  \n",
       "    var NB_LOAD_WARNING = {'data': {'text/html':\n",
       "       \"<div style='background-color: #fdd'>\\n\"+\n",
       "       \"<p>\\n\"+\n",
       "       \"BokehJS does not appear to have successfully loaded. If loading BokehJS from CDN, this \\n\"+\n",
       "       \"may be due to a slow or bad network connection. Possible fixes:\\n\"+\n",
       "       \"</p>\\n\"+\n",
       "       \"<ul>\\n\"+\n",
       "       \"<li>re-rerun `output_notebook()` to attempt to load from CDN again, or</li>\\n\"+\n",
       "       \"<li>use INLINE resources instead, as so:</li>\\n\"+\n",
       "       \"</ul>\\n\"+\n",
       "       \"<code>\\n\"+\n",
       "       \"from bokeh.resources import INLINE\\n\"+\n",
       "       \"output_notebook(resources=INLINE)\\n\"+\n",
       "       \"</code>\\n\"+\n",
       "       \"</div>\"}};\n",
       "  \n",
       "    function display_loaded() {\n",
       "      if (window.Bokeh !== undefined) {\n",
       "        var el = document.getElementById(\"6dd51bce-572e-4dc9-8ab1-0fd2cbc08103\");\n",
       "        el.textContent = \"BokehJS \" + Bokeh.version + \" successfully loaded.\";\n",
       "      } else if (Date.now() < window._bokeh_timeout) {\n",
       "        setTimeout(display_loaded, 100)\n",
       "      }\n",
       "    }\n",
       "  \n",
       "    function run_callbacks() {\n",
       "      window._bokeh_onload_callbacks.forEach(function(callback) { callback() });\n",
       "      delete window._bokeh_onload_callbacks\n",
       "      console.info(\"Bokeh: all callbacks have finished\");\n",
       "    }\n",
       "  \n",
       "    function load_libs(js_urls, callback) {\n",
       "      window._bokeh_onload_callbacks.push(callback);\n",
       "      if (window._bokeh_is_loading > 0) {\n",
       "        console.log(\"Bokeh: BokehJS is being loaded, scheduling callback at\", now());\n",
       "        return null;\n",
       "      }\n",
       "      if (js_urls == null || js_urls.length === 0) {\n",
       "        run_callbacks();\n",
       "        return null;\n",
       "      }\n",
       "      console.log(\"Bokeh: BokehJS not loaded, scheduling load and callback at\", now());\n",
       "      window._bokeh_is_loading = js_urls.length;\n",
       "      for (var i = 0; i < js_urls.length; i++) {\n",
       "        var url = js_urls[i];\n",
       "        var s = document.createElement('script');\n",
       "        s.src = url;\n",
       "        s.async = false;\n",
       "        s.onreadystatechange = s.onload = function() {\n",
       "          window._bokeh_is_loading--;\n",
       "          if (window._bokeh_is_loading === 0) {\n",
       "            console.log(\"Bokeh: all BokehJS libraries loaded\");\n",
       "            run_callbacks()\n",
       "          }\n",
       "        };\n",
       "        s.onerror = function() {\n",
       "          console.warn(\"failed to load library \" + url);\n",
       "        };\n",
       "        console.log(\"Bokeh: injecting script tag for BokehJS library: \", url);\n",
       "        document.getElementsByTagName(\"head\")[0].appendChild(s);\n",
       "      }\n",
       "    };var element = document.getElementById(\"6dd51bce-572e-4dc9-8ab1-0fd2cbc08103\");\n",
       "    if (element == null) {\n",
       "      console.log(\"Bokeh: ERROR: autoload.js configured with elementid '6dd51bce-572e-4dc9-8ab1-0fd2cbc08103' but no matching script tag was found. \")\n",
       "      return false;\n",
       "    }\n",
       "  \n",
       "    var js_urls = [];\n",
       "  \n",
       "    var inline_js = [\n",
       "      function(Bokeh) {\n",
       "        (function() {\n",
       "          var fn = function() {\n",
       "            var docs_json = {\"b3247f9f-5105-4320-a948-84d39f0b8fe6\":{\"roots\":{\"references\":[{\"attributes\":{\"data_source\":{\"id\":\"406f677d-84fc-47e7-bb31-12045ddbec84\",\"type\":\"ColumnDataSource\"},\"glyph\":{\"id\":\"ad9168b3-8ea0-4c39-bd5d-0927c204df9e\",\"type\":\"Line\"},\"hover_glyph\":null,\"muted_glyph\":null,\"nonselection_glyph\":{\"id\":\"cd53a6d9-b1c9-4d27-b760-d0b2bfd56300\",\"type\":\"Line\"},\"selection_glyph\":null},\"id\":\"36cbdcbe-3702-429b-adfa-c254ec8d9e71\",\"type\":\"GlyphRenderer\"},{\"attributes\":{\"plot\":{\"id\":\"9d2d2722-aa5c-417c-8928-69cafabace2f\",\"subtype\":\"Figure\",\"type\":\"Plot\"}},\"id\":\"8067dfcd-38bf-4ace-9cc2-3f23f3809df3\",\"type\":\"SaveTool\"},{\"attributes\":{\"bottom\":{\"field\":\"bottom\"},\"fill_alpha\":{\"value\":0.1},\"fill_color\":{\"value\":\"#1f77b4\"},\"left\":{\"field\":\"left\"},\"line_alpha\":{\"value\":0.1},\"line_color\":{\"value\":\"#1f77b4\"},\"right\":{\"field\":\"right\"},\"top\":{\"field\":\"top\"}},\"id\":\"d51484ab-ae57-4261-9dd6-4885c64c43a7\",\"type\":\"Quad\"},{\"attributes\":{\"items\":[{\"id\":\"d7330463-b58f-42f9-a72d-88ad392c709a\",\"type\":\"LegendItem\"},{\"id\":\"132fbe1c-5835-4c5e-9d06-2d46cf82472a\",\"type\":\"LegendItem\"}],\"location\":\"bottom_right\",\"plot\":{\"id\":\"9d2d2722-aa5c-417c-8928-69cafabace2f\",\"subtype\":\"Figure\",\"type\":\"Plot\"}},\"id\":\"5015406c-f282-49b3-b621-419076819d77\",\"type\":\"Legend\"},{\"attributes\":{\"active_drag\":\"auto\",\"active_inspect\":\"auto\",\"active_scroll\":\"auto\",\"active_tap\":\"auto\",\"tools\":[{\"id\":\"e55f862b-686e-41d9-a91c-59ed94a1128f\",\"type\":\"PanTool\"},{\"id\":\"5ddc45c5-b45f-440d-81b6-fb7d8e1b3580\",\"type\":\"WheelZoomTool\"},{\"id\":\"9002f68e-d7a2-4ea3-93e5-1d43b10a099e\",\"type\":\"BoxZoomTool\"},{\"id\":\"8067dfcd-38bf-4ace-9cc2-3f23f3809df3\",\"type\":\"SaveTool\"},{\"id\":\"05b269f7-3048-4df9-9265-a340a944dbb4\",\"type\":\"ResetTool\"},{\"id\":\"87d7ebb3-da60-4f89-9be9-42463d8b554a\",\"type\":\"HelpTool\"}]},\"id\":\"4ce296ec-bf8d-48e1-bcad-fcade1c5184a\",\"type\":\"Toolbar\"},{\"attributes\":{\"label\":{\"value\":\"training accuracy\"},\"renderers\":[{\"id\":\"36cbdcbe-3702-429b-adfa-c254ec8d9e71\",\"type\":\"GlyphRenderer\"}]},\"id\":\"d7330463-b58f-42f9-a72d-88ad392c709a\",\"type\":\"LegendItem\"},{\"attributes\":{\"callback\":null,\"column_names\":[\"x\",\"y\"],\"data\":{\"x\":{\"__ndarray__\":\"/Knx0k1iUD8p3ld6y6RiP5xguaUSN3U/JA7heiQkiD9t1TushnibP9Tq2g95Qq8/BEhQTRnJwT8PSUhiEz3UPwMSnj+qB+c/FhIbCNA0+j+eOAyoHNINQP8K6wCE9yBAeyZIEJZOM0CgRfpFSPhFQAAAAAAAAFlA\",\"dtype\":\"float64\",\"shape\":[15]},\"y\":{\"__ndarray__\":\"jsxvNAQt7j+KpA7oO2PuPwUfW6JCq+4/iAZktq/g7j+D3gJq5xbvP8AbKcfqOu8/QwMy21dw7z8AnqoxjILvP4D7/Cq9cO8/QHl7wBsp7z++1s25TBfvP4gGZLav4O4/kHMgEBbO7j+QcyAQFs7uP1I2+rISqu4/\",\"dtype\":\"float64\",\"shape\":[15]}}},\"id\":\"0c13c0a9-cb67-4a15-a8ee-73b16274d055\",\"type\":\"ColumnDataSource\"},{\"attributes\":{},\"id\":\"f2896d91-5b71-4126-8ace-35886b75b9ce\",\"type\":\"BasicTickFormatter\"},{\"attributes\":{\"data_source\":{\"id\":\"6ecde11a-66f9-48cb-8022-c4bb4be6f5d6\",\"type\":\"ColumnDataSource\"},\"glyph\":{\"id\":\"8f4203f9-aff4-40f2-a750-0435c428ee80\",\"type\":\"Quad\"},\"hover_glyph\":null,\"muted_glyph\":null,\"nonselection_glyph\":{\"id\":\"d51484ab-ae57-4261-9dd6-4885c64c43a7\",\"type\":\"Quad\"},\"selection_glyph\":null},\"id\":\"1d3cce06-8019-4511-9b81-1058fad5d5b8\",\"type\":\"GlyphRenderer\"},{\"attributes\":{\"plot\":{\"id\":\"9d2d2722-aa5c-417c-8928-69cafabace2f\",\"subtype\":\"Figure\",\"type\":\"Plot\"}},\"id\":\"87d7ebb3-da60-4f89-9be9-42463d8b554a\",\"type\":\"HelpTool\"},{\"attributes\":{\"bottom\":{\"field\":\"bottom\"},\"fill_alpha\":{\"value\":0.2},\"fill_color\":{\"value\":\"#ff7f0e\"},\"left\":{\"field\":\"left\"},\"line_alpha\":{\"value\":0.2},\"line_color\":{\"value\":\"#ff7f0e\"},\"right\":{\"field\":\"right\"},\"top\":{\"field\":\"top\"}},\"id\":\"8f4203f9-aff4-40f2-a750-0435c428ee80\",\"type\":\"Quad\"},{\"attributes\":{\"ticker\":null},\"id\":\"275f634d-96fc-4661-890f-2b12900c7ae8\",\"type\":\"LogTickFormatter\"},{\"attributes\":{\"plot\":{\"id\":\"9d2d2722-aa5c-417c-8928-69cafabace2f\",\"subtype\":\"Figure\",\"type\":\"Plot\"}},\"id\":\"e55f862b-686e-41d9-a91c-59ed94a1128f\",\"type\":\"PanTool\"},{\"attributes\":{\"bottom_units\":\"screen\",\"fill_alpha\":{\"value\":0.5},\"fill_color\":{\"value\":\"lightgrey\"},\"left_units\":\"screen\",\"level\":\"overlay\",\"line_alpha\":{\"value\":1.0},\"line_color\":{\"value\":\"black\"},\"line_dash\":[4,4],\"line_width\":{\"value\":2},\"plot\":null,\"render_mode\":\"css\",\"right_units\":\"screen\",\"top_units\":\"screen\"},\"id\":\"2f41900f-84ae-4271-a8e8-ed27ffa2fec0\",\"type\":\"BoxAnnotation\"},{\"attributes\":{\"plot\":{\"id\":\"9d2d2722-aa5c-417c-8928-69cafabace2f\",\"subtype\":\"Figure\",\"type\":\"Plot\"}},\"id\":\"05b269f7-3048-4df9-9265-a340a944dbb4\",\"type\":\"ResetTool\"},{\"attributes\":{\"plot\":{\"id\":\"9d2d2722-aa5c-417c-8928-69cafabace2f\",\"subtype\":\"Figure\",\"type\":\"Plot\"}},\"id\":\"5ddc45c5-b45f-440d-81b6-fb7d8e1b3580\",\"type\":\"WheelZoomTool\"},{\"attributes\":{\"axis_label\":\"Accuracy\",\"formatter\":{\"id\":\"f2896d91-5b71-4126-8ace-35886b75b9ce\",\"type\":\"BasicTickFormatter\"},\"plot\":{\"id\":\"9d2d2722-aa5c-417c-8928-69cafabace2f\",\"subtype\":\"Figure\",\"type\":\"Plot\"},\"ticker\":{\"id\":\"26b38b07-b56c-4b77-b8ac-ec44ec6f6f5c\",\"type\":\"BasicTicker\"}},\"id\":\"fe5e7c05-cd8e-410c-a6bd-ba48e7a71e62\",\"type\":\"LinearAxis\"},{\"attributes\":{\"callback\":null,\"column_names\":[\"left\",\"right\",\"top\",\"bottom\"],\"data\":{\"bottom\":{\"__ndarray__\":\"bc131etX7T9ZJDLCIHPtP8ty7grswu0/ZAcVu83t7T9Y3e9FmGPuP3Pk+Gsep+4/t5ZbphQF7z8BIriZIhDvP7HyJY+cBe8/aGfcRNp67j/2AA0/uFPuP0WIzs7jKu4/ZFbJVJgt7j9kVslUmC3uP4tNQrgkFu4/\",\"dtype\":\"float64\",\"shape\":[15]},\"left\":{\"__ndarray__\":\"/Knx0k1iUD8ns9Bj8tVaP7BP5WJ4iW4/Od/e5tZfgT9ALtZ0TMWTP8Vq/DJef6Y/uQJHkbeZuT8RbfAIoCHNP0UbYfgZk+A/jA31k1Lc8j/U4AxWQnYFQCYZ7ioLbBhA+qu9EFjKK0DeWB5Ok58/QGiRfhES/lFA\",\"dtype\":\"float64\",\"shape\":[15]},\"right\":{\"__ndarray__\":\"J7PQY/LVWj+wT+VieIluPznf3ubWX4E/QC7WdEzFkz/GavwyXn+mP7kCR5G3mbk/EW3wCKAhzT9FG2H4GZPgP4wN9ZNS3PI/1OAMVkJ2BUAmGe4qC2wYQPqrvRBYyitA3lgeTpOfP0BokX4REv5RQAAAAAAAAFlA\",\"dtype\":\"float64\",\"shape\":[15]},\"top\":{\"__ndarray__\":\"r8tnkxwC7z+7JOsNV1PvPz/LxzmZk+8/rAWzsZHT7z+u3xWONsrvPw1TWSK3zu8/z28IEJvb7z//GZ3J9fTvP08E1Mbd2+8/GIsaPF3X7z+GrI404drvP8uE+Z17lu8/vJB3y5Nu7z+8kHfLk27vPxkfsq0APu8/\",\"dtype\":\"float64\",\"shape\":[15]}}},\"id\":\"6ecde11a-66f9-48cb-8022-c4bb4be6f5d6\",\"type\":\"ColumnDataSource\"},{\"attributes\":{\"data_source\":{\"id\":\"0c13c0a9-cb67-4a15-a8ee-73b16274d055\",\"type\":\"ColumnDataSource\"},\"glyph\":{\"id\":\"1623d892-bc2d-4806-81d7-e01828a45cd3\",\"type\":\"Line\"},\"hover_glyph\":null,\"muted_glyph\":null,\"nonselection_glyph\":{\"id\":\"e328ded1-f081-4a82-9148-cc8a8c4dcd7c\",\"type\":\"Line\"},\"selection_glyph\":null},\"id\":\"5f478c04-0f91-4bd7-b0af-84dbb3856174\",\"type\":\"GlyphRenderer\"},{\"attributes\":{\"dimension\":1,\"plot\":{\"id\":\"9d2d2722-aa5c-417c-8928-69cafabace2f\",\"subtype\":\"Figure\",\"type\":\"Plot\"},\"ticker\":{\"id\":\"26b38b07-b56c-4b77-b8ac-ec44ec6f6f5c\",\"type\":\"BasicTicker\"}},\"id\":\"63e33a90-42dc-495e-9fd1-da89e7c437c4\",\"type\":\"Grid\"},{\"attributes\":{},\"id\":\"26b38b07-b56c-4b77-b8ac-ec44ec6f6f5c\",\"type\":\"BasicTicker\"},{\"attributes\":{\"label\":{\"value\":\"validation accuracy\"},\"renderers\":[{\"id\":\"5f478c04-0f91-4bd7-b0af-84dbb3856174\",\"type\":\"GlyphRenderer\"}]},\"id\":\"132fbe1c-5835-4c5e-9d06-2d46cf82472a\",\"type\":\"LegendItem\"},{\"attributes\":{\"data_source\":{\"id\":\"6d7e6b9f-89d5-4152-9f57-95ed199ee5fb\",\"type\":\"ColumnDataSource\"},\"glyph\":{\"id\":\"ee27ee4b-1faa-454e-9938-c2bd4f703875\",\"type\":\"Quad\"},\"hover_glyph\":null,\"muted_glyph\":null,\"nonselection_glyph\":{\"id\":\"3b04c310-e8a1-41c7-8891-8b5667e22efc\",\"type\":\"Quad\"},\"selection_glyph\":null},\"id\":\"d26fece0-27ea-4e6b-8df2-b63a6d0598ce\",\"type\":\"GlyphRenderer\"},{\"attributes\":{\"overlay\":{\"id\":\"2f41900f-84ae-4271-a8e8-ed27ffa2fec0\",\"type\":\"BoxAnnotation\"},\"plot\":{\"id\":\"9d2d2722-aa5c-417c-8928-69cafabace2f\",\"subtype\":\"Figure\",\"type\":\"Plot\"}},\"id\":\"9002f68e-d7a2-4ea3-93e5-1d43b10a099e\",\"type\":\"BoxZoomTool\"},{\"attributes\":{\"axis_label\":\"Parameter C\",\"formatter\":{\"id\":\"275f634d-96fc-4661-890f-2b12900c7ae8\",\"type\":\"LogTickFormatter\"},\"plot\":{\"id\":\"9d2d2722-aa5c-417c-8928-69cafabace2f\",\"subtype\":\"Figure\",\"type\":\"Plot\"},\"ticker\":{\"id\":\"798ce8c0-cdd4-4d77-b2af-5ee3b0921e46\",\"type\":\"LogTicker\"}},\"id\":\"e8d9b696-8218-409f-bd67-00cffa051592\",\"type\":\"LogAxis\"},{\"attributes\":{\"plot\":null,\"text\":\"\"},\"id\":\"e6187e84-97e4-4f82-9cd2-16cc7d7cd88c\",\"type\":\"Title\"},{\"attributes\":{\"callback\":null,\"start\":0.8},\"id\":\"8332c172-eef0-493d-bbb2-3e1a82cfc7bf\",\"type\":\"Range1d\"},{\"attributes\":{\"num_minor_ticks\":10},\"id\":\"798ce8c0-cdd4-4d77-b2af-5ee3b0921e46\",\"type\":\"LogTicker\"},{\"attributes\":{\"plot\":{\"id\":\"9d2d2722-aa5c-417c-8928-69cafabace2f\",\"subtype\":\"Figure\",\"type\":\"Plot\"},\"ticker\":{\"id\":\"798ce8c0-cdd4-4d77-b2af-5ee3b0921e46\",\"type\":\"LogTicker\"}},\"id\":\"2ec33479-b7ee-4b29-aabf-af0b7f45dba9\",\"type\":\"Grid\"},{\"attributes\":{\"line_color\":{\"value\":\"#1f77b4\"},\"x\":{\"field\":\"x\"},\"y\":{\"field\":\"y\"}},\"id\":\"ad9168b3-8ea0-4c39-bd5d-0927c204df9e\",\"type\":\"Line\"},{\"attributes\":{\"callback\":null,\"column_names\":[\"x\",\"y\"],\"data\":{\"x\":{\"__ndarray__\":\"/Knx0k1iUD8p3ld6y6RiP5xguaUSN3U/JA7heiQkiD9t1TushnibP9Tq2g95Qq8/BEhQTRnJwT8PSUhiEz3UPwMSnj+qB+c/FhIbCNA0+j+eOAyoHNINQP8K6wCE9yBAeyZIEJZOM0CgRfpFSPhFQAAAAAAAAFlA\",\"dtype\":\"float64\",\"shape\":[15]},\"y\":{\"__ndarray__\":\"uBBIUug37j/wUkIc85PuP9CR8yP24e4/ZiNs6fQd7z/+94zu9lHvP42ZxbP2ie8/qre1tPaT7z+1yh319pfvPwpIFjj4te8/LYkuefm/7z82pHY5+sHvP07SJjr7x+8/TtImOvvH7z9Dt955+sXvP2MIt7r8y+8/\",\"dtype\":\"float64\",\"shape\":[15]}}},\"id\":\"406f677d-84fc-47e7-bb31-12045ddbec84\",\"type\":\"ColumnDataSource\"},{\"attributes\":{\"bottom\":{\"field\":\"bottom\"},\"fill_alpha\":{\"value\":0.2},\"fill_color\":{\"value\":\"#1f77b4\"},\"left\":{\"field\":\"left\"},\"line_alpha\":{\"value\":0.2},\"line_color\":{\"value\":\"#1f77b4\"},\"right\":{\"field\":\"right\"},\"top\":{\"field\":\"top\"}},\"id\":\"ee27ee4b-1faa-454e-9938-c2bd4f703875\",\"type\":\"Quad\"},{\"attributes\":{\"line_alpha\":{\"value\":0.1},\"line_color\":{\"value\":\"#1f77b4\"},\"x\":{\"field\":\"x\"},\"y\":{\"field\":\"y\"}},\"id\":\"cd53a6d9-b1c9-4d27-b760-d0b2bfd56300\",\"type\":\"Line\"},{\"attributes\":{\"bottom\":{\"field\":\"bottom\"},\"fill_alpha\":{\"value\":0.1},\"fill_color\":{\"value\":\"#1f77b4\"},\"left\":{\"field\":\"left\"},\"line_alpha\":{\"value\":0.1},\"line_color\":{\"value\":\"#1f77b4\"},\"right\":{\"field\":\"right\"},\"top\":{\"field\":\"top\"}},\"id\":\"3b04c310-e8a1-41c7-8891-8b5667e22efc\",\"type\":\"Quad\"},{\"attributes\":{\"line_alpha\":{\"value\":0.1},\"line_color\":{\"value\":\"#1f77b4\"},\"line_dash\":[6],\"x\":{\"field\":\"x\"},\"y\":{\"field\":\"y\"}},\"id\":\"e328ded1-f081-4a82-9148-cc8a8c4dcd7c\",\"type\":\"Line\"},{\"attributes\":{\"callback\":null,\"column_names\":[\"left\",\"right\",\"top\",\"bottom\"],\"data\":{\"bottom\":{\"__ndarray__\":\"cH9yDFER7j8M2WodE2XuPxW2ZvHnse4/V0FIDf3+7j9dMLLYnzjvP0MN+evlb+8/YRWv4p997z+UVtDvk4DvP8ugOeoWqe8/dy4o7eqz7z/ygepq8rPvP8sOAdyItu8/yw4B3Ii27z/97+z/jq3vP3bgOndur+8/\",\"dtype\":\"float64\",\"shape\":[15]},\"left\":{\"__ndarray__\":\"/Knx0k1iUD8ns9Bj8tVaP7BP5WJ4iW4/Od/e5tZfgT9ALtZ0TMWTP8Vq/DJef6Y/uQJHkbeZuT8RbfAIoCHNP0UbYfgZk+A/jA31k1Lc8j/U4AxWQnYFQCYZ7ioLbBhA+qu9EFjKK0DeWB5Ok58/QGiRfhES/lFA\",\"dtype\":\"float64\",\"shape\":[15]},\"right\":{\"__ndarray__\":\"J7PQY/LVWj+wT+VieIluPznf3ubWX4E/QC7WdEzFkz/GavwyXn+mP7kCR5G3mbk/EW3wCKAhzT9FG2H4GZPgP4wN9ZNS3PI/1OAMVkJ2BUAmGe4qC2wYQPqrvRBYyitA3lgeTpOfP0BokX4REv5RQAAAAAAAAFlA\",\"dtype\":\"float64\",\"shape\":[15]},\"top\":{\"__ndarray__\":\"AKIdmH9e7j/UzBkb08LuP4ttgFYEEu8/dQWQxew87z+fv2cETmvvP9clknsHpO8/81m8hk2q7z/WPmv6Wa/vP0nv8oXZwu8/4+M0BQjM7z96xgIIAtDvP9GVTJht2e8/0ZVMmG3Z7z+JftDzZd7vP1AwM/6K6O8/\",\"dtype\":\"float64\",\"shape\":[15]}}},\"id\":\"6d7e6b9f-89d5-4152-9f57-95ed199ee5fb\",\"type\":\"ColumnDataSource\"},{\"attributes\":{\"below\":[{\"id\":\"e8d9b696-8218-409f-bd67-00cffa051592\",\"type\":\"LogAxis\"}],\"left\":[{\"id\":\"fe5e7c05-cd8e-410c-a6bd-ba48e7a71e62\",\"type\":\"LinearAxis\"}],\"plot_height\":300,\"plot_width\":500,\"renderers\":[{\"id\":\"e8d9b696-8218-409f-bd67-00cffa051592\",\"type\":\"LogAxis\"},{\"id\":\"2ec33479-b7ee-4b29-aabf-af0b7f45dba9\",\"type\":\"Grid\"},{\"id\":\"fe5e7c05-cd8e-410c-a6bd-ba48e7a71e62\",\"type\":\"LinearAxis\"},{\"id\":\"63e33a90-42dc-495e-9fd1-da89e7c437c4\",\"type\":\"Grid\"},{\"id\":\"2f41900f-84ae-4271-a8e8-ed27ffa2fec0\",\"type\":\"BoxAnnotation\"},{\"id\":\"d26fece0-27ea-4e6b-8df2-b63a6d0598ce\",\"type\":\"GlyphRenderer\"},{\"id\":\"5015406c-f282-49b3-b621-419076819d77\",\"type\":\"Legend\"},{\"id\":\"36cbdcbe-3702-429b-adfa-c254ec8d9e71\",\"type\":\"GlyphRenderer\"},{\"id\":\"1d3cce06-8019-4511-9b81-1058fad5d5b8\",\"type\":\"GlyphRenderer\"},{\"id\":\"5f478c04-0f91-4bd7-b0af-84dbb3856174\",\"type\":\"GlyphRenderer\"}],\"title\":{\"id\":\"e6187e84-97e4-4f82-9cd2-16cc7d7cd88c\",\"type\":\"Title\"},\"tool_events\":{\"id\":\"4f6d226e-8ad8-4482-a78f-17af66a3c815\",\"type\":\"ToolEvents\"},\"toolbar\":{\"id\":\"4ce296ec-bf8d-48e1-bcad-fcade1c5184a\",\"type\":\"Toolbar\"},\"x_mapper_type\":\"log\",\"x_range\":{\"id\":\"792fcff4-fa81-4a9e-894b-8b28eac5c6ff\",\"type\":\"Range1d\"},\"y_range\":{\"id\":\"8332c172-eef0-493d-bbb2-3e1a82cfc7bf\",\"type\":\"Range1d\"}},\"id\":\"9d2d2722-aa5c-417c-8928-69cafabace2f\",\"subtype\":\"Figure\",\"type\":\"Plot\"},{\"attributes\":{\"callback\":null,\"end\":100.0,\"start\":0.001},\"id\":\"792fcff4-fa81-4a9e-894b-8b28eac5c6ff\",\"type\":\"Range1d\"},{\"attributes\":{\"line_color\":{\"value\":\"#ff7f0e\"},\"line_dash\":[6],\"x\":{\"field\":\"x\"},\"y\":{\"field\":\"y\"}},\"id\":\"1623d892-bc2d-4806-81d7-e01828a45cd3\",\"type\":\"Line\"},{\"attributes\":{},\"id\":\"4f6d226e-8ad8-4482-a78f-17af66a3c815\",\"type\":\"ToolEvents\"}],\"root_ids\":[\"9d2d2722-aa5c-417c-8928-69cafabace2f\"]},\"title\":\"Bokeh Application\",\"version\":\"0.12.6dev3\"}};\n",
       "            var render_items = [{\"docid\":\"b3247f9f-5105-4320-a948-84d39f0b8fe6\",\"elementid\":\"6dd51bce-572e-4dc9-8ab1-0fd2cbc08103\",\"modelid\":\"9d2d2722-aa5c-417c-8928-69cafabace2f\"}];\n",
       "            \n",
       "            Bokeh.embed.embed_items(docs_json, render_items);\n",
       "          };\n",
       "          if (document.readyState != \"loading\") fn();\n",
       "          else document.addEventListener(\"DOMContentLoaded\", fn);\n",
       "        })();\n",
       "      },\n",
       "      function(Bokeh) {\n",
       "      }\n",
       "    ];\n",
       "  \n",
       "    function run_inline_js() {\n",
       "      \n",
       "      if ((window.Bokeh !== undefined) || (force === true)) {\n",
       "        for (var i = 0; i < inline_js.length; i++) {\n",
       "          inline_js[i](window.Bokeh);\n",
       "        }if (force === true) {\n",
       "          display_loaded();\n",
       "        }} else if (Date.now() < window._bokeh_timeout) {\n",
       "        setTimeout(run_inline_js, 100);\n",
       "      } else if (!window._bokeh_failed_load) {\n",
       "        console.log(\"Bokeh: BokehJS failed to load within specified timeout.\");\n",
       "        window._bokeh_failed_load = true;\n",
       "      } else if (force !== true) {\n",
       "        var cell = $(document.getElementById(\"6dd51bce-572e-4dc9-8ab1-0fd2cbc08103\")).parents('.cell').data().cell;\n",
       "        cell.output_area.append_execute_result(NB_LOAD_WARNING)\n",
       "      }\n",
       "  \n",
       "    }\n",
       "  \n",
       "    if (window._bokeh_is_loading === 0) {\n",
       "      console.log(\"Bokeh: BokehJS loaded, going straight to plotting\");\n",
       "      run_inline_js();\n",
       "    } else {\n",
       "      load_libs(js_urls, function() {\n",
       "        console.log(\"Bokeh: BokehJS plotting callback run at\", now());\n",
       "        run_inline_js();\n",
       "      });\n",
       "    }\n",
       "  }(this));\n",
       "</script>"
      ]
     },
     "metadata": {},
     "output_type": "display_data"
    }
   ],
   "source": [
    "p = bokeh.plotting.figure(width=500, height=300,\n",
    "                          x_range=list(param_range[[0, -1]]),\n",
    "                          y_range=[.80, 1], \n",
    "                          x_axis_label='Parameter C',\n",
    "                          y_axis_label='Accuracy',\n",
    "                          x_axis_type='log',\n",
    "                         )\n",
    "\n",
    "left = param_range.astype(np.float)\n",
    "left[1:] -= np.diff(param_range)/2\n",
    "right = param_range.astype(np.float)\n",
    "right[:-1] += np.diff(param_range)/2\n",
    "\n",
    "p.quad(left=left, right=right, \n",
    "       bottom=train_mean-train_std, \n",
    "       top=train_mean+train_std, \n",
    "       alpha=0.2, color=palette[0])\n",
    "p.line(param_range, train_mean, color=palette[0], legend='training accuracy')\n",
    "\n",
    "p.quad(left=left, right=right, \n",
    "       bottom=test_mean-test_std, \n",
    "       top=test_mean+test_std, \n",
    "       alpha=0.2, color=palette[1])\n",
    "p.line(param_range, test_mean, color=palette[1], line_dash='dashed', legend='validation accuracy')\n",
    "\n",
    "p.legend.location = 'bottom_right'\n",
    "\n",
    "bokeh.plotting.show(p)"
   ]
  },
  {
   "cell_type": "markdown",
   "metadata": {},
   "source": [
    "This seems to do best for $C\\approx 0.3$."
   ]
  },
  {
   "cell_type": "markdown",
   "metadata": {},
   "source": [
    "Note that [Bokeh PR #6177](https://github.com/bokeh/bokeh/pull/6177) will soon add `bokeh.models.FilledArea` plot option to improve these plots."
   ]
  },
  {
   "cell_type": "markdown",
   "metadata": {
    "collapsed": true
   },
   "source": [
    "# Confusion Matrix"
   ]
  },
  {
   "cell_type": "code",
   "execution_count": 172,
   "metadata": {
    "collapsed": false
   },
   "outputs": [
    {
     "data": {
      "text/plain": [
       "array([1, 0])"
      ]
     },
     "execution_count": 172,
     "metadata": {},
     "output_type": "execute_result"
    }
   ],
   "source": [
    "le.transform(['M', 'B'])"
   ]
  },
  {
   "cell_type": "code",
   "execution_count": 173,
   "metadata": {
    "collapsed": false
   },
   "outputs": [
    {
     "name": "stdout",
     "output_type": "stream",
     "text": [
      "[[40  2]\n",
      " [ 1 71]]\n"
     ]
    }
   ],
   "source": [
    "svc_pipe = sklearn.pipeline.Pipeline([('scl', sklearn.preprocessing.StandardScaler()),\n",
    "                                      ('clf', sklearn.svm.SVC(random_state=rs))])\n",
    "svc_pipe.fit(X_train, y_train)\n",
    "y_pred = svc_pipe.predict(X_test)\n",
    "\n",
    "# note the added `labels=[1, 0]` in the next line b/c we said 'M' = 1, 'B' = 0\n",
    "labels = le.transform(['M', 'B'])\n",
    "conf_mat = sklearn.metrics.confusion_matrix(y_true=y_test, y_pred=y_pred, labels=labels) \n",
    "print(conf_mat)"
   ]
  },
  {
   "cell_type": "code",
   "execution_count": 191,
   "metadata": {
    "collapsed": false
   },
   "outputs": [],
   "source": [
    "actual = np.array([['1', '1'], ['0', '0']])\n",
    "actual = list(actual.reshape(4))\n",
    "\n",
    "predicted = np.array([['1', '0'], ['1', '0']])\n",
    "predicted = list(predicted.reshape(4))\n",
    "\n",
    "count = list(conf_mat.reshape(4))\n",
    "\n",
    "alpha = [count_val / conf_mat.sum() + 0.2 for count_val in count]\n",
    "\n",
    "source = bokeh.plotting.ColumnDataSource(\n",
    "    data=dict(predicted=predicted, actual=actual, count=count, colors=color, alpha=alpha)\n",
    ")"
   ]
  },
  {
   "cell_type": "code",
   "execution_count": 193,
   "metadata": {
    "collapsed": false
   },
   "outputs": [
    {
     "data": {
      "text/html": [
       "\n",
       "\n",
       "    <div class=\"bk-root\">\n",
       "        <div class=\"bk-plotdiv\" id=\"0d156f81-688f-48bb-803a-75d8927712e4\"></div>\n",
       "    </div>\n",
       "<script type=\"text/javascript\">\n",
       "  \n",
       "  (function(global) {\n",
       "    function now() {\n",
       "      return new Date();\n",
       "    }\n",
       "  \n",
       "    var force = false;\n",
       "  \n",
       "    if (typeof (window._bokeh_onload_callbacks) === \"undefined\" || force === true) {\n",
       "      window._bokeh_onload_callbacks = [];\n",
       "      window._bokeh_is_loading = undefined;\n",
       "    }\n",
       "  \n",
       "  \n",
       "    \n",
       "    if (typeof (window._bokeh_timeout) === \"undefined\" || force === true) {\n",
       "      window._bokeh_timeout = Date.now() + 0;\n",
       "      window._bokeh_failed_load = false;\n",
       "    }\n",
       "  \n",
       "    var NB_LOAD_WARNING = {'data': {'text/html':\n",
       "       \"<div style='background-color: #fdd'>\\n\"+\n",
       "       \"<p>\\n\"+\n",
       "       \"BokehJS does not appear to have successfully loaded. If loading BokehJS from CDN, this \\n\"+\n",
       "       \"may be due to a slow or bad network connection. Possible fixes:\\n\"+\n",
       "       \"</p>\\n\"+\n",
       "       \"<ul>\\n\"+\n",
       "       \"<li>re-rerun `output_notebook()` to attempt to load from CDN again, or</li>\\n\"+\n",
       "       \"<li>use INLINE resources instead, as so:</li>\\n\"+\n",
       "       \"</ul>\\n\"+\n",
       "       \"<code>\\n\"+\n",
       "       \"from bokeh.resources import INLINE\\n\"+\n",
       "       \"output_notebook(resources=INLINE)\\n\"+\n",
       "       \"</code>\\n\"+\n",
       "       \"</div>\"}};\n",
       "  \n",
       "    function display_loaded() {\n",
       "      if (window.Bokeh !== undefined) {\n",
       "        var el = document.getElementById(\"0d156f81-688f-48bb-803a-75d8927712e4\");\n",
       "        el.textContent = \"BokehJS \" + Bokeh.version + \" successfully loaded.\";\n",
       "      } else if (Date.now() < window._bokeh_timeout) {\n",
       "        setTimeout(display_loaded, 100)\n",
       "      }\n",
       "    }\n",
       "  \n",
       "    function run_callbacks() {\n",
       "      window._bokeh_onload_callbacks.forEach(function(callback) { callback() });\n",
       "      delete window._bokeh_onload_callbacks\n",
       "      console.info(\"Bokeh: all callbacks have finished\");\n",
       "    }\n",
       "  \n",
       "    function load_libs(js_urls, callback) {\n",
       "      window._bokeh_onload_callbacks.push(callback);\n",
       "      if (window._bokeh_is_loading > 0) {\n",
       "        console.log(\"Bokeh: BokehJS is being loaded, scheduling callback at\", now());\n",
       "        return null;\n",
       "      }\n",
       "      if (js_urls == null || js_urls.length === 0) {\n",
       "        run_callbacks();\n",
       "        return null;\n",
       "      }\n",
       "      console.log(\"Bokeh: BokehJS not loaded, scheduling load and callback at\", now());\n",
       "      window._bokeh_is_loading = js_urls.length;\n",
       "      for (var i = 0; i < js_urls.length; i++) {\n",
       "        var url = js_urls[i];\n",
       "        var s = document.createElement('script');\n",
       "        s.src = url;\n",
       "        s.async = false;\n",
       "        s.onreadystatechange = s.onload = function() {\n",
       "          window._bokeh_is_loading--;\n",
       "          if (window._bokeh_is_loading === 0) {\n",
       "            console.log(\"Bokeh: all BokehJS libraries loaded\");\n",
       "            run_callbacks()\n",
       "          }\n",
       "        };\n",
       "        s.onerror = function() {\n",
       "          console.warn(\"failed to load library \" + url);\n",
       "        };\n",
       "        console.log(\"Bokeh: injecting script tag for BokehJS library: \", url);\n",
       "        document.getElementsByTagName(\"head\")[0].appendChild(s);\n",
       "      }\n",
       "    };var element = document.getElementById(\"0d156f81-688f-48bb-803a-75d8927712e4\");\n",
       "    if (element == null) {\n",
       "      console.log(\"Bokeh: ERROR: autoload.js configured with elementid '0d156f81-688f-48bb-803a-75d8927712e4' but no matching script tag was found. \")\n",
       "      return false;\n",
       "    }\n",
       "  \n",
       "    var js_urls = [];\n",
       "  \n",
       "    var inline_js = [\n",
       "      function(Bokeh) {\n",
       "        (function() {\n",
       "          var fn = function() {\n",
       "            var docs_json = {\"410a0ec3-805c-4b71-afa5-24cdd4402891\":{\"roots\":{\"references\":[{\"attributes\":{\"active_drag\":\"auto\",\"active_inspect\":\"auto\",\"active_scroll\":\"auto\",\"active_tap\":\"auto\",\"tools\":[{\"id\":\"1d771896-4611-4b76-9191-039bcda72b6f\",\"type\":\"HoverTool\"},{\"id\":\"c4df46d1-946b-4d64-86d8-784b1a362706\",\"type\":\"SaveTool\"}]},\"id\":\"57122106-e7e9-47f0-9505-3ddfd0f07821\",\"type\":\"Toolbar\"},{\"attributes\":{},\"id\":\"20e539c5-3911-41ad-9556-954d32a274f9\",\"type\":\"ToolEvents\"},{\"attributes\":{\"fill_alpha\":{\"field\":\"alpha\"},\"fill_color\":{\"field\":\"colors\"},\"height\":{\"units\":\"data\",\"value\":0.9},\"line_alpha\":{\"field\":\"alpha\"},\"line_color\":{\"field\":\"colors\"},\"width\":{\"units\":\"data\",\"value\":0.9},\"x\":{\"field\":\"predicted\"},\"y\":{\"field\":\"actual\"}},\"id\":\"33bf0b8c-3303-4cdb-a8d5-4aab21469fdf\",\"type\":\"Rect\"},{\"attributes\":{},\"id\":\"87ae9d01-0747-4911-968e-6c6e6dfd8f79\",\"type\":\"CategoricalTickFormatter\"},{\"attributes\":{\"plot\":{\"id\":\"4529aa91-bfbf-480b-85dc-5f77ccf02cc1\",\"subtype\":\"Figure\",\"type\":\"Plot\"}},\"id\":\"c4df46d1-946b-4d64-86d8-784b1a362706\",\"type\":\"SaveTool\"},{\"attributes\":{\"callback\":null,\"plot\":{\"id\":\"4529aa91-bfbf-480b-85dc-5f77ccf02cc1\",\"subtype\":\"Figure\",\"type\":\"Plot\"},\"tooltips\":[[\"predicted\",\"@predicted\"],[\"actual\",\"@actual\"],[\"count\",\"@count\"]]},\"id\":\"1d771896-4611-4b76-9191-039bcda72b6f\",\"type\":\"HoverTool\"},{\"attributes\":{\"plot\":null,\"text\":\"Confusion Matrix\"},\"id\":\"b28b58f1-eb27-43cd-9476-9c24ad72bb0b\",\"type\":\"Title\"},{\"attributes\":{\"above\":[{\"id\":\"5ecc77b6-5dee-45d4-96c9-1d546630cab2\",\"type\":\"CategoricalAxis\"}],\"left\":[{\"id\":\"5c3c8907-6f8f-4714-ba65-90900140c336\",\"type\":\"CategoricalAxis\"}],\"plot_height\":200,\"plot_width\":200,\"renderers\":[{\"id\":\"5ecc77b6-5dee-45d4-96c9-1d546630cab2\",\"type\":\"CategoricalAxis\"},{\"id\":\"7afd947e-6e9a-4f4f-a705-5d60036ddb8d\",\"type\":\"Grid\"},{\"id\":\"5c3c8907-6f8f-4714-ba65-90900140c336\",\"type\":\"CategoricalAxis\"},{\"id\":\"6017b0f1-86e4-47a5-a626-b3d982bf71dd\",\"type\":\"Grid\"},{\"id\":\"9640a2b2-f500-42aa-9644-1fb7db47e2c0\",\"type\":\"GlyphRenderer\"}],\"title\":{\"id\":\"b28b58f1-eb27-43cd-9476-9c24ad72bb0b\",\"type\":\"Title\"},\"tool_events\":{\"id\":\"20e539c5-3911-41ad-9556-954d32a274f9\",\"type\":\"ToolEvents\"},\"toolbar\":{\"id\":\"57122106-e7e9-47f0-9505-3ddfd0f07821\",\"type\":\"Toolbar\"},\"x_range\":{\"id\":\"82f32740-2f35-4a0a-93e4-376b11f5d97a\",\"type\":\"FactorRange\"},\"y_range\":{\"id\":\"60f8c753-048a-42f0-a621-e51ee6d25f39\",\"type\":\"FactorRange\"}},\"id\":\"4529aa91-bfbf-480b-85dc-5f77ccf02cc1\",\"subtype\":\"Figure\",\"type\":\"Plot\"},{\"attributes\":{},\"id\":\"071cd42b-5da0-49bc-a5bc-5c3aaba46a4c\",\"type\":\"CategoricalTicker\"},{\"attributes\":{},\"id\":\"c4e471d8-03ce-43ca-aba6-579cad948dcb\",\"type\":\"CategoricalTickFormatter\"},{\"attributes\":{\"callback\":null,\"factors\":[\"1\",\"0\"]},\"id\":\"82f32740-2f35-4a0a-93e4-376b11f5d97a\",\"type\":\"FactorRange\"},{\"attributes\":{\"fill_alpha\":{\"value\":0.1},\"fill_color\":{\"value\":\"#1f77b4\"},\"height\":{\"units\":\"data\",\"value\":0.9},\"line_alpha\":{\"value\":0.1},\"line_color\":{\"value\":\"#1f77b4\"},\"width\":{\"units\":\"data\",\"value\":0.9},\"x\":{\"field\":\"predicted\"},\"y\":{\"field\":\"actual\"}},\"id\":\"1eca2210-33e6-4226-91fe-b1ebda957b74\",\"type\":\"Rect\"},{\"attributes\":{\"plot\":{\"id\":\"4529aa91-bfbf-480b-85dc-5f77ccf02cc1\",\"subtype\":\"Figure\",\"type\":\"Plot\"},\"ticker\":{\"id\":\"160c3887-30dd-4c66-8710-5c22c0bbc7fa\",\"type\":\"CategoricalTicker\"}},\"id\":\"7afd947e-6e9a-4f4f-a705-5d60036ddb8d\",\"type\":\"Grid\"},{\"attributes\":{\"dimension\":1,\"plot\":{\"id\":\"4529aa91-bfbf-480b-85dc-5f77ccf02cc1\",\"subtype\":\"Figure\",\"type\":\"Plot\"},\"ticker\":{\"id\":\"071cd42b-5da0-49bc-a5bc-5c3aaba46a4c\",\"type\":\"CategoricalTicker\"}},\"id\":\"6017b0f1-86e4-47a5-a626-b3d982bf71dd\",\"type\":\"Grid\"},{\"attributes\":{\"axis_label\":\"predicted label\",\"formatter\":{\"id\":\"87ae9d01-0747-4911-968e-6c6e6dfd8f79\",\"type\":\"CategoricalTickFormatter\"},\"plot\":{\"id\":\"4529aa91-bfbf-480b-85dc-5f77ccf02cc1\",\"subtype\":\"Figure\",\"type\":\"Plot\"},\"ticker\":{\"id\":\"160c3887-30dd-4c66-8710-5c22c0bbc7fa\",\"type\":\"CategoricalTicker\"}},\"id\":\"5ecc77b6-5dee-45d4-96c9-1d546630cab2\",\"type\":\"CategoricalAxis\"},{\"attributes\":{},\"id\":\"160c3887-30dd-4c66-8710-5c22c0bbc7fa\",\"type\":\"CategoricalTicker\"},{\"attributes\":{\"callback\":null,\"factors\":[\"0\",\"1\"]},\"id\":\"60f8c753-048a-42f0-a621-e51ee6d25f39\",\"type\":\"FactorRange\"},{\"attributes\":{\"axis_label\":\"true label\",\"formatter\":{\"id\":\"c4e471d8-03ce-43ca-aba6-579cad948dcb\",\"type\":\"CategoricalTickFormatter\"},\"plot\":{\"id\":\"4529aa91-bfbf-480b-85dc-5f77ccf02cc1\",\"subtype\":\"Figure\",\"type\":\"Plot\"},\"ticker\":{\"id\":\"071cd42b-5da0-49bc-a5bc-5c3aaba46a4c\",\"type\":\"CategoricalTicker\"}},\"id\":\"5c3c8907-6f8f-4714-ba65-90900140c336\",\"type\":\"CategoricalAxis\"},{\"attributes\":{\"callback\":null,\"column_names\":[\"predicted\",\"actual\",\"count\",\"colors\",\"alpha\"],\"data\":{\"actual\":[\"1\",\"1\",\"0\",\"0\"],\"alpha\":[0.5508771929824561,0.21754385964912282,0.20877192982456141,0.8228070175438598],\"colors\":[\"#1f77b4\",\"#1f77b4\",\"#1f77b4\",\"#1f77b4\"],\"count\":[40,2,1,71],\"predicted\":[\"1\",\"0\",\"1\",\"0\"]}},\"id\":\"73c2a3ee-36e1-4ba4-b513-5442b47bc8a9\",\"type\":\"ColumnDataSource\"},{\"attributes\":{\"data_source\":{\"id\":\"73c2a3ee-36e1-4ba4-b513-5442b47bc8a9\",\"type\":\"ColumnDataSource\"},\"glyph\":{\"id\":\"33bf0b8c-3303-4cdb-a8d5-4aab21469fdf\",\"type\":\"Rect\"},\"hover_glyph\":null,\"muted_glyph\":null,\"nonselection_glyph\":{\"id\":\"1eca2210-33e6-4226-91fe-b1ebda957b74\",\"type\":\"Rect\"},\"selection_glyph\":null},\"id\":\"9640a2b2-f500-42aa-9644-1fb7db47e2c0\",\"type\":\"GlyphRenderer\"}],\"root_ids\":[\"4529aa91-bfbf-480b-85dc-5f77ccf02cc1\"]},\"title\":\"Bokeh Application\",\"version\":\"0.12.6dev3\"}};\n",
       "            var render_items = [{\"docid\":\"410a0ec3-805c-4b71-afa5-24cdd4402891\",\"elementid\":\"0d156f81-688f-48bb-803a-75d8927712e4\",\"modelid\":\"4529aa91-bfbf-480b-85dc-5f77ccf02cc1\"}];\n",
       "            \n",
       "            Bokeh.embed.embed_items(docs_json, render_items);\n",
       "          };\n",
       "          if (document.readyState != \"loading\") fn();\n",
       "          else document.addEventListener(\"DOMContentLoaded\", fn);\n",
       "        })();\n",
       "      },\n",
       "      function(Bokeh) {\n",
       "      }\n",
       "    ];\n",
       "  \n",
       "    function run_inline_js() {\n",
       "      \n",
       "      if ((window.Bokeh !== undefined) || (force === true)) {\n",
       "        for (var i = 0; i < inline_js.length; i++) {\n",
       "          inline_js[i](window.Bokeh);\n",
       "        }if (force === true) {\n",
       "          display_loaded();\n",
       "        }} else if (Date.now() < window._bokeh_timeout) {\n",
       "        setTimeout(run_inline_js, 100);\n",
       "      } else if (!window._bokeh_failed_load) {\n",
       "        console.log(\"Bokeh: BokehJS failed to load within specified timeout.\");\n",
       "        window._bokeh_failed_load = true;\n",
       "      } else if (force !== true) {\n",
       "        var cell = $(document.getElementById(\"0d156f81-688f-48bb-803a-75d8927712e4\")).parents('.cell').data().cell;\n",
       "        cell.output_area.append_execute_result(NB_LOAD_WARNING)\n",
       "      }\n",
       "  \n",
       "    }\n",
       "  \n",
       "    if (window._bokeh_is_loading === 0) {\n",
       "      console.log(\"Bokeh: BokehJS loaded, going straight to plotting\");\n",
       "      run_inline_js();\n",
       "    } else {\n",
       "      load_libs(js_urls, function() {\n",
       "        console.log(\"Bokeh: BokehJS plotting callback run at\", now());\n",
       "        run_inline_js();\n",
       "      });\n",
       "    }\n",
       "  }(this));\n",
       "</script>"
      ]
     },
     "metadata": {},
     "output_type": "display_data"
    }
   ],
   "source": [
    "p = bokeh.plotting.figure(title='Confusion Matrix', tools=\"hover,save\",\n",
    "                          y_range=['0', '1'], x_range=['1', '0'],\n",
    "                          x_axis_label='predicted label', \n",
    "                          y_axis_label='true label',\n",
    "                          x_axis_location='above',\n",
    "                          width=200, height=200)\n",
    "\n",
    "rectwidth = 0.9\n",
    "p.rect('predicted', 'actual', rectwidth, rectwidth, source=source,\n",
    "      color='colors', alpha='alpha',line_width=1)\n",
    "\n",
    "hover = p.select(dict(type=bokeh.models.HoverTool))\n",
    "hover.tooltips = collections.OrderedDict([\n",
    "    ('predicted', '@predicted'),\n",
    "    ('actual', '@actual'),\n",
    "    ('count', '@count'),\n",
    "])\n",
    "\n",
    "bokeh.plotting.show(p)"
   ]
  },
  {
   "cell_type": "code",
   "execution_count": 120,
   "metadata": {
    "collapsed": true
   },
   "outputs": [],
   "source": [
    "tp, fn, fp, tn = conf_mat.reshape(4)"
   ]
  },
  {
   "cell_type": "markdown",
   "metadata": {},
   "source": [
    "For this situation we have 40 true positives (TP), 71 true negatives (TN), 2 false negative (FN), and 1\n",
    "false positives (FP).  We calculate the error (ERR) to be\n",
    "$$ ERR = \\frac{FP + FN}{FP + FN + TP + TN}$$"
   ]
  },
  {
   "cell_type": "code",
   "execution_count": 133,
   "metadata": {
    "collapsed": false
   },
   "outputs": [
    {
     "name": "stdout",
     "output_type": "stream",
     "text": [
      "ERR = 0.0263\n"
     ]
    }
   ],
   "source": [
    "err = (fp + fn)/(fp + fn + tp + tn)\n",
    "print('ERR = {:.3}'.format(err))"
   ]
  },
  {
   "cell_type": "markdown",
   "metadata": {},
   "source": [
    "and the accuracy (ACC) to be\n",
    "$$ ACC = \\frac{TP + TN}{FP + FN + TP + TN} = 1 - ERR $$"
   ]
  },
  {
   "cell_type": "code",
   "execution_count": 134,
   "metadata": {
    "collapsed": false
   },
   "outputs": [
    {
     "name": "stdout",
     "output_type": "stream",
     "text": [
      "ACC = 0.974\n"
     ]
    }
   ],
   "source": [
    "acc = 1 - err\n",
    "print('ACC = {:.3}'.format(acc))"
   ]
  },
  {
   "cell_type": "markdown",
   "metadata": {},
   "source": [
    "We can also calculate the true positive rate (TPR) \n",
    "$$ TPR = \\frac{TP}{P} = \\frac{TP}{TP + FN} $$"
   ]
  },
  {
   "cell_type": "code",
   "execution_count": 136,
   "metadata": {
    "collapsed": false
   },
   "outputs": [
    {
     "name": "stdout",
     "output_type": "stream",
     "text": [
      "TPR = 0.952\n"
     ]
    }
   ],
   "source": [
    "p = tp + fn\n",
    "tpr = tp / p\n",
    "print('TPR = {:.3}'.format(tpr))"
   ]
  },
  {
   "cell_type": "markdown",
   "metadata": {},
   "source": [
    "and false positive rate (FPR)\n",
    "$$ FPR = \\frac{FP}{N} = \\frac{FP}{FP + TN} $$"
   ]
  },
  {
   "cell_type": "code",
   "execution_count": 137,
   "metadata": {
    "collapsed": false
   },
   "outputs": [
    {
     "name": "stdout",
     "output_type": "stream",
     "text": [
      "FPR = 0.0139\n"
     ]
    }
   ],
   "source": [
    "n = fp + tn\n",
    "fpr = fp / n\n",
    "print('FPR = {:.3}'.format(fpr))"
   ]
  },
  {
   "cell_type": "markdown",
   "metadata": {},
   "source": [
    "Two additional metrics are precision (PRE) and recall (REC).  Precision is the ratio of positive predictions that are true positives (demoninator is the left sife of the confusion matrix)\n",
    "$$ PRE = \\frac{TP}{TP + FP} = \\frac{71}{71 + 2} = 0.973\\,. $$"
   ]
  },
  {
   "cell_type": "code",
   "execution_count": 138,
   "metadata": {
    "collapsed": false
   },
   "outputs": [
    {
     "name": "stdout",
     "output_type": "stream",
     "text": [
      "PRE = 0.976\n"
     ]
    }
   ],
   "source": [
    "pre = tp / (tp + fp)\n",
    "print('PRE = {:.3}'.format(pre))"
   ]
  },
  {
   "cell_type": "markdown",
   "metadata": {},
   "source": [
    "Recall is the ratio of positive labels that were predicted correctly, TP; note that this is identical to the true positive rate\n",
    "$$ REC = TPR = \\frac{TP}{P} = \\frac{TP}{TP + FN} $$"
   ]
  },
  {
   "cell_type": "code",
   "execution_count": 141,
   "metadata": {
    "collapsed": false
   },
   "outputs": [
    {
     "name": "stdout",
     "output_type": "stream",
     "text": [
      "REC = 0.952\n"
     ]
    }
   ],
   "source": [
    "rec = tp / p\n",
    "print('REC = {:.3}'.format(rec))"
   ]
  },
  {
   "cell_type": "markdown",
   "metadata": {},
   "source": [
    "It is common to use a combination of precision and recall known as the F1-score\n",
    "$$ F1 = 2 \\frac{PRE \\times REC}{PRE + REC} = 2 \\frac{0.973 \\times 0.986}{0.973 + 0.986} = 0.490\\,. $$"
   ]
  },
  {
   "cell_type": "code",
   "execution_count": 142,
   "metadata": {
    "collapsed": false
   },
   "outputs": [
    {
     "name": "stdout",
     "output_type": "stream",
     "text": [
      "F1 = 0.964\n"
     ]
    }
   ],
   "source": [
    "f1 = 2 * pre * rec / (pre + rec)\n",
    "print('F1 = {:.3}'.format(f1))"
   ]
  },
  {
   "cell_type": "markdown",
   "metadata": {},
   "source": [
    "We can get these metrics directly from `sklearn.metrics`."
   ]
  },
  {
   "cell_type": "code",
   "execution_count": 144,
   "metadata": {
    "collapsed": false
   },
   "outputs": [
    {
     "name": "stdout",
     "output_type": "stream",
     "text": [
      "Precision: 0.976\n"
     ]
    }
   ],
   "source": [
    "print('Precision: {:.3}'.format(sklearn.metrics.precision_score(y_true=y_test, y_pred=y_pred)))"
   ]
  },
  {
   "cell_type": "code",
   "execution_count": 145,
   "metadata": {
    "collapsed": false
   },
   "outputs": [
    {
     "name": "stdout",
     "output_type": "stream",
     "text": [
      "Recall: 0.952\n"
     ]
    }
   ],
   "source": [
    "print('Recall: {:.3}'.format(sklearn.metrics.recall_score(y_true=y_test, y_pred=y_pred)))"
   ]
  },
  {
   "cell_type": "code",
   "execution_count": 194,
   "metadata": {
    "collapsed": false
   },
   "outputs": [
    {
     "name": "stdout",
     "output_type": "stream",
     "text": [
      "F1: 0.964\n"
     ]
    }
   ],
   "source": [
    "print('F1: {:.3}'.format(sklearn.metrics.f1_score(y_true=y_test, y_pred=y_pred)))"
   ]
  },
  {
   "cell_type": "markdown",
   "metadata": {},
   "source": [
    "# Receiver Operator Characteristic"
   ]
  },
  {
   "cell_type": "code",
   "execution_count": null,
   "metadata": {
    "collapsed": true
   },
   "outputs": [],
   "source": []
  }
 ],
 "metadata": {
  "kernelspec": {
   "display_name": "Python 3",
   "language": "python",
   "name": "python3"
  },
  "language_info": {
   "codemirror_mode": {
    "name": "ipython",
    "version": 3
   },
   "file_extension": ".py",
   "mimetype": "text/x-python",
   "name": "python",
   "nbconvert_exporter": "python",
   "pygments_lexer": "ipython3",
   "version": "3.6.0"
  }
 },
 "nbformat": 4,
 "nbformat_minor": 2
}
