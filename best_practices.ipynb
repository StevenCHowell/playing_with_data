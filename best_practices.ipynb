{
 "cells": [
  {
   "cell_type": "code",
   "execution_count": 1,
   "metadata": {
    "collapsed": true
   },
   "outputs": [],
   "source": [
    "import collections  # for Python < 3.6"
   ]
  },
  {
   "cell_type": "code",
   "execution_count": 2,
   "metadata": {
    "collapsed": true
   },
   "outputs": [],
   "source": [
    "import numpy as np\n",
    "import pandas as pd\n",
    "import scipy"
   ]
  },
  {
   "cell_type": "code",
   "execution_count": 3,
   "metadata": {
    "collapsed": false
   },
   "outputs": [
    {
     "data": {
      "text/html": [
       "\n",
       "    <div class=\"bk-root\">\n",
       "        <a href=\"http://bokeh.pydata.org\" target=\"_blank\" class=\"bk-logo bk-logo-small bk-logo-notebook\"></a>\n",
       "        <span id=\"59c370af-148f-4d6b-afd9-9ec73589162b\">Loading BokehJS ...</span>\n",
       "    </div>"
      ]
     },
     "metadata": {},
     "output_type": "display_data"
    },
    {
     "data": {
      "application/javascript": [
       "\n",
       "(function(global) {\n",
       "  function now() {\n",
       "    return new Date();\n",
       "  }\n",
       "\n",
       "  var force = true;\n",
       "\n",
       "  if (typeof (window._bokeh_onload_callbacks) === \"undefined\" || force === true) {\n",
       "    window._bokeh_onload_callbacks = [];\n",
       "    window._bokeh_is_loading = undefined;\n",
       "  }\n",
       "\n",
       "\n",
       "  \n",
       "  if (typeof (window._bokeh_timeout) === \"undefined\" || force === true) {\n",
       "    window._bokeh_timeout = Date.now() + 5000;\n",
       "    window._bokeh_failed_load = false;\n",
       "  }\n",
       "\n",
       "  var NB_LOAD_WARNING = {'data': {'text/html':\n",
       "     \"<div style='background-color: #fdd'>\\n\"+\n",
       "     \"<p>\\n\"+\n",
       "     \"BokehJS does not appear to have successfully loaded. If loading BokehJS from CDN, this \\n\"+\n",
       "     \"may be due to a slow or bad network connection. Possible fixes:\\n\"+\n",
       "     \"</p>\\n\"+\n",
       "     \"<ul>\\n\"+\n",
       "     \"<li>re-rerun `output_notebook()` to attempt to load from CDN again, or</li>\\n\"+\n",
       "     \"<li>use INLINE resources instead, as so:</li>\\n\"+\n",
       "     \"</ul>\\n\"+\n",
       "     \"<code>\\n\"+\n",
       "     \"from bokeh.resources import INLINE\\n\"+\n",
       "     \"output_notebook(resources=INLINE)\\n\"+\n",
       "     \"</code>\\n\"+\n",
       "     \"</div>\"}};\n",
       "\n",
       "  function display_loaded() {\n",
       "    if (window.Bokeh !== undefined) {\n",
       "      var el = document.getElementById(\"59c370af-148f-4d6b-afd9-9ec73589162b\");\n",
       "      el.textContent = \"BokehJS \" + Bokeh.version + \" successfully loaded.\";\n",
       "    } else if (Date.now() < window._bokeh_timeout) {\n",
       "      setTimeout(display_loaded, 100)\n",
       "    }\n",
       "  }\n",
       "\n",
       "  function run_callbacks() {\n",
       "    window._bokeh_onload_callbacks.forEach(function(callback) { callback() });\n",
       "    delete window._bokeh_onload_callbacks\n",
       "    console.info(\"Bokeh: all callbacks have finished\");\n",
       "  }\n",
       "\n",
       "  function load_libs(js_urls, callback) {\n",
       "    window._bokeh_onload_callbacks.push(callback);\n",
       "    if (window._bokeh_is_loading > 0) {\n",
       "      console.log(\"Bokeh: BokehJS is being loaded, scheduling callback at\", now());\n",
       "      return null;\n",
       "    }\n",
       "    if (js_urls == null || js_urls.length === 0) {\n",
       "      run_callbacks();\n",
       "      return null;\n",
       "    }\n",
       "    console.log(\"Bokeh: BokehJS not loaded, scheduling load and callback at\", now());\n",
       "    window._bokeh_is_loading = js_urls.length;\n",
       "    for (var i = 0; i < js_urls.length; i++) {\n",
       "      var url = js_urls[i];\n",
       "      var s = document.createElement('script');\n",
       "      s.src = url;\n",
       "      s.async = false;\n",
       "      s.onreadystatechange = s.onload = function() {\n",
       "        window._bokeh_is_loading--;\n",
       "        if (window._bokeh_is_loading === 0) {\n",
       "          console.log(\"Bokeh: all BokehJS libraries loaded\");\n",
       "          run_callbacks()\n",
       "        }\n",
       "      };\n",
       "      s.onerror = function() {\n",
       "        console.warn(\"failed to load library \" + url);\n",
       "      };\n",
       "      console.log(\"Bokeh: injecting script tag for BokehJS library: \", url);\n",
       "      document.getElementsByTagName(\"head\")[0].appendChild(s);\n",
       "    }\n",
       "  };var element = document.getElementById(\"59c370af-148f-4d6b-afd9-9ec73589162b\");\n",
       "  if (element == null) {\n",
       "    console.log(\"Bokeh: ERROR: autoload.js configured with elementid '59c370af-148f-4d6b-afd9-9ec73589162b' but no matching script tag was found. \")\n",
       "    return false;\n",
       "  }\n",
       "\n",
       "  var js_urls = [\"https://cdn.pydata.org/bokeh/dev/bokeh-0.12.6dev3.min.js\", \"https://cdn.pydata.org/bokeh/dev/bokeh-widgets-0.12.6dev3.min.js\"];\n",
       "\n",
       "  var inline_js = [\n",
       "    function(Bokeh) {\n",
       "      Bokeh.set_log_level(\"info\");\n",
       "    },\n",
       "    \n",
       "    function(Bokeh) {\n",
       "      \n",
       "    },\n",
       "    \n",
       "    function(Bokeh) {\n",
       "      \n",
       "      document.getElementById(\"59c370af-148f-4d6b-afd9-9ec73589162b\").textContent = \"BokehJS is loading...\";\n",
       "    },\n",
       "    function(Bokeh) {\n",
       "      console.log(\"Bokeh: injecting CSS: https://cdn.pydata.org/bokeh/dev/bokeh-0.12.6dev3.min.css\");\n",
       "      Bokeh.embed.inject_css(\"https://cdn.pydata.org/bokeh/dev/bokeh-0.12.6dev3.min.css\");\n",
       "      console.log(\"Bokeh: injecting CSS: https://cdn.pydata.org/bokeh/dev/bokeh-widgets-0.12.6dev3.min.css\");\n",
       "      Bokeh.embed.inject_css(\"https://cdn.pydata.org/bokeh/dev/bokeh-widgets-0.12.6dev3.min.css\");\n",
       "    }\n",
       "  ];\n",
       "\n",
       "  function run_inline_js() {\n",
       "    \n",
       "    if ((window.Bokeh !== undefined) || (force === true)) {\n",
       "      for (var i = 0; i < inline_js.length; i++) {\n",
       "        inline_js[i](window.Bokeh);\n",
       "      }if (force === true) {\n",
       "        display_loaded();\n",
       "      }} else if (Date.now() < window._bokeh_timeout) {\n",
       "      setTimeout(run_inline_js, 100);\n",
       "    } else if (!window._bokeh_failed_load) {\n",
       "      console.log(\"Bokeh: BokehJS failed to load within specified timeout.\");\n",
       "      window._bokeh_failed_load = true;\n",
       "    } else if (force !== true) {\n",
       "      var cell = $(document.getElementById(\"59c370af-148f-4d6b-afd9-9ec73589162b\")).parents('.cell').data().cell;\n",
       "      cell.output_area.append_execute_result(NB_LOAD_WARNING)\n",
       "    }\n",
       "\n",
       "  }\n",
       "\n",
       "  if (window._bokeh_is_loading === 0) {\n",
       "    console.log(\"Bokeh: BokehJS loaded, going straight to plotting\");\n",
       "    run_inline_js();\n",
       "  } else {\n",
       "    load_libs(js_urls, function() {\n",
       "      console.log(\"Bokeh: BokehJS plotting callback run at\", now());\n",
       "      run_inline_js();\n",
       "    });\n",
       "  }\n",
       "}(this));"
      ]
     },
     "metadata": {},
     "output_type": "display_data"
    }
   ],
   "source": [
    "import bokeh.plotting\n",
    "from bokeh.palettes import Category10_10 as palette, viridis\n",
    "bokeh.plotting.output_notebook()"
   ]
  },
  {
   "cell_type": "code",
   "execution_count": 4,
   "metadata": {
    "collapsed": false
   },
   "outputs": [],
   "source": [
    "import sklearn.preprocessing\n",
    "import sklearn.model_selection\n",
    "import sklearn.decomposition\n",
    "import sklearn.linear_model\n",
    "import sklearn.pipeline\n",
    "import sklearn.metrics"
   ]
  },
  {
   "cell_type": "markdown",
   "metadata": {},
   "source": [
    "Set a random state for reproducability."
   ]
  },
  {
   "cell_type": "code",
   "execution_count": 5,
   "metadata": {
    "collapsed": true
   },
   "outputs": [],
   "source": [
    "rs = 1"
   ]
  },
  {
   "cell_type": "markdown",
   "metadata": {},
   "source": [
    "Lets import the Wisconsin Breast Cancer dataset"
   ]
  },
  {
   "cell_type": "code",
   "execution_count": 6,
   "metadata": {
    "collapsed": false
   },
   "outputs": [],
   "source": [
    "url = 'https://archive.ics.uci.edu/ml/machine-learning-databases/breast-cancer-wisconsin/wdbc.data'\n",
    "df = pd.read_csv(url, header=None)"
   ]
  },
  {
   "cell_type": "code",
   "execution_count": 7,
   "metadata": {
    "collapsed": false
   },
   "outputs": [
    {
     "data": {
      "text/html": [
       "<div>\n",
       "<table border=\"1\" class=\"dataframe\">\n",
       "  <thead>\n",
       "    <tr style=\"text-align: right;\">\n",
       "      <th></th>\n",
       "      <th>0</th>\n",
       "      <th>2</th>\n",
       "      <th>3</th>\n",
       "      <th>4</th>\n",
       "      <th>5</th>\n",
       "      <th>6</th>\n",
       "      <th>7</th>\n",
       "      <th>8</th>\n",
       "      <th>9</th>\n",
       "      <th>10</th>\n",
       "      <th>...</th>\n",
       "      <th>22</th>\n",
       "      <th>23</th>\n",
       "      <th>24</th>\n",
       "      <th>25</th>\n",
       "      <th>26</th>\n",
       "      <th>27</th>\n",
       "      <th>28</th>\n",
       "      <th>29</th>\n",
       "      <th>30</th>\n",
       "      <th>31</th>\n",
       "    </tr>\n",
       "  </thead>\n",
       "  <tbody>\n",
       "    <tr>\n",
       "      <th>count</th>\n",
       "      <td>5.690000e+02</td>\n",
       "      <td>569.000000</td>\n",
       "      <td>569.000000</td>\n",
       "      <td>569.000000</td>\n",
       "      <td>569.000000</td>\n",
       "      <td>569.000000</td>\n",
       "      <td>569.000000</td>\n",
       "      <td>569.000000</td>\n",
       "      <td>569.000000</td>\n",
       "      <td>569.000000</td>\n",
       "      <td>...</td>\n",
       "      <td>569.000000</td>\n",
       "      <td>569.000000</td>\n",
       "      <td>569.000000</td>\n",
       "      <td>569.000000</td>\n",
       "      <td>569.000000</td>\n",
       "      <td>569.000000</td>\n",
       "      <td>569.000000</td>\n",
       "      <td>569.000000</td>\n",
       "      <td>569.000000</td>\n",
       "      <td>569.000000</td>\n",
       "    </tr>\n",
       "    <tr>\n",
       "      <th>mean</th>\n",
       "      <td>3.037183e+07</td>\n",
       "      <td>14.127292</td>\n",
       "      <td>19.289649</td>\n",
       "      <td>91.969033</td>\n",
       "      <td>654.889104</td>\n",
       "      <td>0.096360</td>\n",
       "      <td>0.104341</td>\n",
       "      <td>0.088799</td>\n",
       "      <td>0.048919</td>\n",
       "      <td>0.181162</td>\n",
       "      <td>...</td>\n",
       "      <td>16.269190</td>\n",
       "      <td>25.677223</td>\n",
       "      <td>107.261213</td>\n",
       "      <td>880.583128</td>\n",
       "      <td>0.132369</td>\n",
       "      <td>0.254265</td>\n",
       "      <td>0.272188</td>\n",
       "      <td>0.114606</td>\n",
       "      <td>0.290076</td>\n",
       "      <td>0.083946</td>\n",
       "    </tr>\n",
       "    <tr>\n",
       "      <th>std</th>\n",
       "      <td>1.250206e+08</td>\n",
       "      <td>3.524049</td>\n",
       "      <td>4.301036</td>\n",
       "      <td>24.298981</td>\n",
       "      <td>351.914129</td>\n",
       "      <td>0.014064</td>\n",
       "      <td>0.052813</td>\n",
       "      <td>0.079720</td>\n",
       "      <td>0.038803</td>\n",
       "      <td>0.027414</td>\n",
       "      <td>...</td>\n",
       "      <td>4.833242</td>\n",
       "      <td>6.146258</td>\n",
       "      <td>33.602542</td>\n",
       "      <td>569.356993</td>\n",
       "      <td>0.022832</td>\n",
       "      <td>0.157336</td>\n",
       "      <td>0.208624</td>\n",
       "      <td>0.065732</td>\n",
       "      <td>0.061867</td>\n",
       "      <td>0.018061</td>\n",
       "    </tr>\n",
       "    <tr>\n",
       "      <th>min</th>\n",
       "      <td>8.670000e+03</td>\n",
       "      <td>6.981000</td>\n",
       "      <td>9.710000</td>\n",
       "      <td>43.790000</td>\n",
       "      <td>143.500000</td>\n",
       "      <td>0.052630</td>\n",
       "      <td>0.019380</td>\n",
       "      <td>0.000000</td>\n",
       "      <td>0.000000</td>\n",
       "      <td>0.106000</td>\n",
       "      <td>...</td>\n",
       "      <td>7.930000</td>\n",
       "      <td>12.020000</td>\n",
       "      <td>50.410000</td>\n",
       "      <td>185.200000</td>\n",
       "      <td>0.071170</td>\n",
       "      <td>0.027290</td>\n",
       "      <td>0.000000</td>\n",
       "      <td>0.000000</td>\n",
       "      <td>0.156500</td>\n",
       "      <td>0.055040</td>\n",
       "    </tr>\n",
       "    <tr>\n",
       "      <th>25%</th>\n",
       "      <td>8.692180e+05</td>\n",
       "      <td>11.700000</td>\n",
       "      <td>16.170000</td>\n",
       "      <td>75.170000</td>\n",
       "      <td>420.300000</td>\n",
       "      <td>0.086370</td>\n",
       "      <td>0.064920</td>\n",
       "      <td>0.029560</td>\n",
       "      <td>0.020310</td>\n",
       "      <td>0.161900</td>\n",
       "      <td>...</td>\n",
       "      <td>13.010000</td>\n",
       "      <td>21.080000</td>\n",
       "      <td>84.110000</td>\n",
       "      <td>515.300000</td>\n",
       "      <td>0.116600</td>\n",
       "      <td>0.147200</td>\n",
       "      <td>0.114500</td>\n",
       "      <td>0.064930</td>\n",
       "      <td>0.250400</td>\n",
       "      <td>0.071460</td>\n",
       "    </tr>\n",
       "    <tr>\n",
       "      <th>50%</th>\n",
       "      <td>9.060240e+05</td>\n",
       "      <td>13.370000</td>\n",
       "      <td>18.840000</td>\n",
       "      <td>86.240000</td>\n",
       "      <td>551.100000</td>\n",
       "      <td>0.095870</td>\n",
       "      <td>0.092630</td>\n",
       "      <td>0.061540</td>\n",
       "      <td>0.033500</td>\n",
       "      <td>0.179200</td>\n",
       "      <td>...</td>\n",
       "      <td>14.970000</td>\n",
       "      <td>25.410000</td>\n",
       "      <td>97.660000</td>\n",
       "      <td>686.500000</td>\n",
       "      <td>0.131300</td>\n",
       "      <td>0.211900</td>\n",
       "      <td>0.226700</td>\n",
       "      <td>0.099930</td>\n",
       "      <td>0.282200</td>\n",
       "      <td>0.080040</td>\n",
       "    </tr>\n",
       "    <tr>\n",
       "      <th>75%</th>\n",
       "      <td>8.813129e+06</td>\n",
       "      <td>15.780000</td>\n",
       "      <td>21.800000</td>\n",
       "      <td>104.100000</td>\n",
       "      <td>782.700000</td>\n",
       "      <td>0.105300</td>\n",
       "      <td>0.130400</td>\n",
       "      <td>0.130700</td>\n",
       "      <td>0.074000</td>\n",
       "      <td>0.195700</td>\n",
       "      <td>...</td>\n",
       "      <td>18.790000</td>\n",
       "      <td>29.720000</td>\n",
       "      <td>125.400000</td>\n",
       "      <td>1084.000000</td>\n",
       "      <td>0.146000</td>\n",
       "      <td>0.339100</td>\n",
       "      <td>0.382900</td>\n",
       "      <td>0.161400</td>\n",
       "      <td>0.317900</td>\n",
       "      <td>0.092080</td>\n",
       "    </tr>\n",
       "    <tr>\n",
       "      <th>max</th>\n",
       "      <td>9.113205e+08</td>\n",
       "      <td>28.110000</td>\n",
       "      <td>39.280000</td>\n",
       "      <td>188.500000</td>\n",
       "      <td>2501.000000</td>\n",
       "      <td>0.163400</td>\n",
       "      <td>0.345400</td>\n",
       "      <td>0.426800</td>\n",
       "      <td>0.201200</td>\n",
       "      <td>0.304000</td>\n",
       "      <td>...</td>\n",
       "      <td>36.040000</td>\n",
       "      <td>49.540000</td>\n",
       "      <td>251.200000</td>\n",
       "      <td>4254.000000</td>\n",
       "      <td>0.222600</td>\n",
       "      <td>1.058000</td>\n",
       "      <td>1.252000</td>\n",
       "      <td>0.291000</td>\n",
       "      <td>0.663800</td>\n",
       "      <td>0.207500</td>\n",
       "    </tr>\n",
       "  </tbody>\n",
       "</table>\n",
       "<p>8 rows × 31 columns</p>\n",
       "</div>"
      ],
      "text/plain": [
       "                 0           2           3           4            5   \\\n",
       "count  5.690000e+02  569.000000  569.000000  569.000000   569.000000   \n",
       "mean   3.037183e+07   14.127292   19.289649   91.969033   654.889104   \n",
       "std    1.250206e+08    3.524049    4.301036   24.298981   351.914129   \n",
       "min    8.670000e+03    6.981000    9.710000   43.790000   143.500000   \n",
       "25%    8.692180e+05   11.700000   16.170000   75.170000   420.300000   \n",
       "50%    9.060240e+05   13.370000   18.840000   86.240000   551.100000   \n",
       "75%    8.813129e+06   15.780000   21.800000  104.100000   782.700000   \n",
       "max    9.113205e+08   28.110000   39.280000  188.500000  2501.000000   \n",
       "\n",
       "               6           7           8           9           10     ...      \\\n",
       "count  569.000000  569.000000  569.000000  569.000000  569.000000     ...       \n",
       "mean     0.096360    0.104341    0.088799    0.048919    0.181162     ...       \n",
       "std      0.014064    0.052813    0.079720    0.038803    0.027414     ...       \n",
       "min      0.052630    0.019380    0.000000    0.000000    0.106000     ...       \n",
       "25%      0.086370    0.064920    0.029560    0.020310    0.161900     ...       \n",
       "50%      0.095870    0.092630    0.061540    0.033500    0.179200     ...       \n",
       "75%      0.105300    0.130400    0.130700    0.074000    0.195700     ...       \n",
       "max      0.163400    0.345400    0.426800    0.201200    0.304000     ...       \n",
       "\n",
       "               22          23          24           25          26  \\\n",
       "count  569.000000  569.000000  569.000000   569.000000  569.000000   \n",
       "mean    16.269190   25.677223  107.261213   880.583128    0.132369   \n",
       "std      4.833242    6.146258   33.602542   569.356993    0.022832   \n",
       "min      7.930000   12.020000   50.410000   185.200000    0.071170   \n",
       "25%     13.010000   21.080000   84.110000   515.300000    0.116600   \n",
       "50%     14.970000   25.410000   97.660000   686.500000    0.131300   \n",
       "75%     18.790000   29.720000  125.400000  1084.000000    0.146000   \n",
       "max     36.040000   49.540000  251.200000  4254.000000    0.222600   \n",
       "\n",
       "               27          28          29          30          31  \n",
       "count  569.000000  569.000000  569.000000  569.000000  569.000000  \n",
       "mean     0.254265    0.272188    0.114606    0.290076    0.083946  \n",
       "std      0.157336    0.208624    0.065732    0.061867    0.018061  \n",
       "min      0.027290    0.000000    0.000000    0.156500    0.055040  \n",
       "25%      0.147200    0.114500    0.064930    0.250400    0.071460  \n",
       "50%      0.211900    0.226700    0.099930    0.282200    0.080040  \n",
       "75%      0.339100    0.382900    0.161400    0.317900    0.092080  \n",
       "max      1.058000    1.252000    0.291000    0.663800    0.207500  \n",
       "\n",
       "[8 rows x 31 columns]"
      ]
     },
     "execution_count": 7,
     "metadata": {},
     "output_type": "execute_result"
    }
   ],
   "source": [
    "df.describe()"
   ]
  },
  {
   "cell_type": "code",
   "execution_count": 8,
   "metadata": {
    "collapsed": false
   },
   "outputs": [
    {
     "data": {
      "text/html": [
       "<div>\n",
       "<table border=\"1\" class=\"dataframe\">\n",
       "  <thead>\n",
       "    <tr style=\"text-align: right;\">\n",
       "      <th></th>\n",
       "      <th>0</th>\n",
       "      <th>1</th>\n",
       "      <th>2</th>\n",
       "      <th>3</th>\n",
       "      <th>4</th>\n",
       "      <th>5</th>\n",
       "      <th>6</th>\n",
       "      <th>7</th>\n",
       "      <th>8</th>\n",
       "      <th>9</th>\n",
       "      <th>...</th>\n",
       "      <th>22</th>\n",
       "      <th>23</th>\n",
       "      <th>24</th>\n",
       "      <th>25</th>\n",
       "      <th>26</th>\n",
       "      <th>27</th>\n",
       "      <th>28</th>\n",
       "      <th>29</th>\n",
       "      <th>30</th>\n",
       "      <th>31</th>\n",
       "    </tr>\n",
       "  </thead>\n",
       "  <tbody>\n",
       "    <tr>\n",
       "      <th>0</th>\n",
       "      <td>842302</td>\n",
       "      <td>M</td>\n",
       "      <td>17.99</td>\n",
       "      <td>10.38</td>\n",
       "      <td>122.80</td>\n",
       "      <td>1001.0</td>\n",
       "      <td>0.11840</td>\n",
       "      <td>0.27760</td>\n",
       "      <td>0.3001</td>\n",
       "      <td>0.14710</td>\n",
       "      <td>...</td>\n",
       "      <td>25.38</td>\n",
       "      <td>17.33</td>\n",
       "      <td>184.60</td>\n",
       "      <td>2019.0</td>\n",
       "      <td>0.1622</td>\n",
       "      <td>0.6656</td>\n",
       "      <td>0.7119</td>\n",
       "      <td>0.2654</td>\n",
       "      <td>0.4601</td>\n",
       "      <td>0.11890</td>\n",
       "    </tr>\n",
       "    <tr>\n",
       "      <th>1</th>\n",
       "      <td>842517</td>\n",
       "      <td>M</td>\n",
       "      <td>20.57</td>\n",
       "      <td>17.77</td>\n",
       "      <td>132.90</td>\n",
       "      <td>1326.0</td>\n",
       "      <td>0.08474</td>\n",
       "      <td>0.07864</td>\n",
       "      <td>0.0869</td>\n",
       "      <td>0.07017</td>\n",
       "      <td>...</td>\n",
       "      <td>24.99</td>\n",
       "      <td>23.41</td>\n",
       "      <td>158.80</td>\n",
       "      <td>1956.0</td>\n",
       "      <td>0.1238</td>\n",
       "      <td>0.1866</td>\n",
       "      <td>0.2416</td>\n",
       "      <td>0.1860</td>\n",
       "      <td>0.2750</td>\n",
       "      <td>0.08902</td>\n",
       "    </tr>\n",
       "    <tr>\n",
       "      <th>2</th>\n",
       "      <td>84300903</td>\n",
       "      <td>M</td>\n",
       "      <td>19.69</td>\n",
       "      <td>21.25</td>\n",
       "      <td>130.00</td>\n",
       "      <td>1203.0</td>\n",
       "      <td>0.10960</td>\n",
       "      <td>0.15990</td>\n",
       "      <td>0.1974</td>\n",
       "      <td>0.12790</td>\n",
       "      <td>...</td>\n",
       "      <td>23.57</td>\n",
       "      <td>25.53</td>\n",
       "      <td>152.50</td>\n",
       "      <td>1709.0</td>\n",
       "      <td>0.1444</td>\n",
       "      <td>0.4245</td>\n",
       "      <td>0.4504</td>\n",
       "      <td>0.2430</td>\n",
       "      <td>0.3613</td>\n",
       "      <td>0.08758</td>\n",
       "    </tr>\n",
       "    <tr>\n",
       "      <th>3</th>\n",
       "      <td>84348301</td>\n",
       "      <td>M</td>\n",
       "      <td>11.42</td>\n",
       "      <td>20.38</td>\n",
       "      <td>77.58</td>\n",
       "      <td>386.1</td>\n",
       "      <td>0.14250</td>\n",
       "      <td>0.28390</td>\n",
       "      <td>0.2414</td>\n",
       "      <td>0.10520</td>\n",
       "      <td>...</td>\n",
       "      <td>14.91</td>\n",
       "      <td>26.50</td>\n",
       "      <td>98.87</td>\n",
       "      <td>567.7</td>\n",
       "      <td>0.2098</td>\n",
       "      <td>0.8663</td>\n",
       "      <td>0.6869</td>\n",
       "      <td>0.2575</td>\n",
       "      <td>0.6638</td>\n",
       "      <td>0.17300</td>\n",
       "    </tr>\n",
       "    <tr>\n",
       "      <th>4</th>\n",
       "      <td>84358402</td>\n",
       "      <td>M</td>\n",
       "      <td>20.29</td>\n",
       "      <td>14.34</td>\n",
       "      <td>135.10</td>\n",
       "      <td>1297.0</td>\n",
       "      <td>0.10030</td>\n",
       "      <td>0.13280</td>\n",
       "      <td>0.1980</td>\n",
       "      <td>0.10430</td>\n",
       "      <td>...</td>\n",
       "      <td>22.54</td>\n",
       "      <td>16.67</td>\n",
       "      <td>152.20</td>\n",
       "      <td>1575.0</td>\n",
       "      <td>0.1374</td>\n",
       "      <td>0.2050</td>\n",
       "      <td>0.4000</td>\n",
       "      <td>0.1625</td>\n",
       "      <td>0.2364</td>\n",
       "      <td>0.07678</td>\n",
       "    </tr>\n",
       "  </tbody>\n",
       "</table>\n",
       "<p>5 rows × 32 columns</p>\n",
       "</div>"
      ],
      "text/plain": [
       "         0  1      2      3       4       5        6        7       8   \\\n",
       "0    842302  M  17.99  10.38  122.80  1001.0  0.11840  0.27760  0.3001   \n",
       "1    842517  M  20.57  17.77  132.90  1326.0  0.08474  0.07864  0.0869   \n",
       "2  84300903  M  19.69  21.25  130.00  1203.0  0.10960  0.15990  0.1974   \n",
       "3  84348301  M  11.42  20.38   77.58   386.1  0.14250  0.28390  0.2414   \n",
       "4  84358402  M  20.29  14.34  135.10  1297.0  0.10030  0.13280  0.1980   \n",
       "\n",
       "        9    ...        22     23      24      25      26      27      28  \\\n",
       "0  0.14710   ...     25.38  17.33  184.60  2019.0  0.1622  0.6656  0.7119   \n",
       "1  0.07017   ...     24.99  23.41  158.80  1956.0  0.1238  0.1866  0.2416   \n",
       "2  0.12790   ...     23.57  25.53  152.50  1709.0  0.1444  0.4245  0.4504   \n",
       "3  0.10520   ...     14.91  26.50   98.87   567.7  0.2098  0.8663  0.6869   \n",
       "4  0.10430   ...     22.54  16.67  152.20  1575.0  0.1374  0.2050  0.4000   \n",
       "\n",
       "       29      30       31  \n",
       "0  0.2654  0.4601  0.11890  \n",
       "1  0.1860  0.2750  0.08902  \n",
       "2  0.2430  0.3613  0.08758  \n",
       "3  0.2575  0.6638  0.17300  \n",
       "4  0.1625  0.2364  0.07678  \n",
       "\n",
       "[5 rows x 32 columns]"
      ]
     },
     "execution_count": 8,
     "metadata": {},
     "output_type": "execute_result"
    }
   ],
   "source": [
    "df.head()"
   ]
  },
  {
   "cell_type": "markdown",
   "metadata": {},
   "source": [
    "Not to descriptive but these numbers mean something to someone.  The first column looks like an identifier and the second column looks like the class labels, malignant (M) or benign (B).  From this, we can use the other 30 columns to build our machine learning predictor."
   ]
  },
  {
   "cell_type": "code",
   "execution_count": 9,
   "metadata": {
    "collapsed": false
   },
   "outputs": [],
   "source": [
    "X = df.loc[:, 2:].values\n",
    "y = df.loc[:, 1].values"
   ]
  },
  {
   "cell_type": "code",
   "execution_count": 10,
   "metadata": {
    "collapsed": false
   },
   "outputs": [
    {
     "data": {
      "text/plain": [
       "array(['M', 'M', 'M', 'M', 'M', 'M', 'M', 'M', 'M', 'M', 'M', 'M', 'M',\n",
       "       'M', 'M', 'M', 'M', 'M', 'M', 'B', 'B', 'B', 'M', 'M', 'M', 'M',\n",
       "       'M', 'M', 'M', 'M', 'M', 'M', 'M', 'M', 'M', 'M', 'M', 'B', 'M',\n",
       "       'M', 'M', 'M', 'M', 'M', 'M', 'M', 'B', 'M', 'B', 'B'], dtype=object)"
      ]
     },
     "execution_count": 10,
     "metadata": {},
     "output_type": "execute_result"
    }
   ],
   "source": [
    "y[:50]"
   ]
  },
  {
   "cell_type": "markdown",
   "metadata": {},
   "source": [
    "Lets transform the labels into integers."
   ]
  },
  {
   "cell_type": "code",
   "execution_count": 11,
   "metadata": {
    "collapsed": false
   },
   "outputs": [],
   "source": [
    "le = sklearn.preprocessing.LabelEncoder()\n",
    "y = le.fit_transform(y)"
   ]
  },
  {
   "cell_type": "code",
   "execution_count": 12,
   "metadata": {
    "collapsed": false
   },
   "outputs": [
    {
     "data": {
      "text/plain": [
       "array([1, 1, 1, 1, 1, 1, 1, 1, 1, 1, 1, 1, 1, 1, 1, 1, 1, 1, 1, 0, 0, 0, 1,\n",
       "       1, 1, 1, 1, 1, 1, 1, 1, 1, 1, 1, 1, 1, 1, 0, 1, 1, 1, 1, 1, 1, 1, 1,\n",
       "       0, 1, 0, 0])"
      ]
     },
     "execution_count": 12,
     "metadata": {},
     "output_type": "execute_result"
    }
   ],
   "source": [
    "y[:50]"
   ]
  },
  {
   "cell_type": "code",
   "execution_count": 13,
   "metadata": {
    "collapsed": false
   },
   "outputs": [
    {
     "name": "stdout",
     "output_type": "stream",
     "text": [
      "M: 1\n",
      "B: 0\n"
     ]
    }
   ],
   "source": [
    "labels = ['M', 'B']\n",
    "encoded = le.fit_transform(labels)\n",
    "for label, encode in zip(labels, encoded):\n",
    "    print('{}: {}'.format(label, encode))"
   ]
  },
  {
   "cell_type": "markdown",
   "metadata": {},
   "source": [
    "So 1 is malignant, 0 is benign."
   ]
  },
  {
   "cell_type": "markdown",
   "metadata": {},
   "source": [
    "Lets proceed to split the data, 80/20, into training and test sets."
   ]
  },
  {
   "cell_type": "code",
   "execution_count": 14,
   "metadata": {
    "collapsed": true
   },
   "outputs": [],
   "source": [
    "X_train, X_test, y_train, y_test = sklearn.model_selection.train_test_split(X, y, \n",
    "                                                                            test_size=0.2, \n",
    "                                                                            random_state=rs)"
   ]
  },
  {
   "cell_type": "markdown",
   "metadata": {},
   "source": [
    "# Pipeline\n",
    "\n",
    "Now lets create a pipeline to process and fit this data using the following steps:\n",
    "    1. normalize the data to have a mean of zero and standard deviation of 1\n",
    "    2. perform a PCA analysis to simplify the data to only 2 descriptive features\n",
    "    3. fit the data using logistic regression"
   ]
  },
  {
   "cell_type": "code",
   "execution_count": 15,
   "metadata": {
    "collapsed": true
   },
   "outputs": [],
   "source": [
    "lr_pipe0 = sklearn.pipeline.Pipeline([\n",
    "    ('scl', sklearn.preprocessing.StandardScaler()),\n",
    "    ('pca', sklearn.decomposition.PCA(n_components=2)),\n",
    "    ('clf', sklearn.linear_model.LogisticRegression(random_state=rs)),\n",
    "])"
   ]
  },
  {
   "cell_type": "code",
   "execution_count": 16,
   "metadata": {
    "collapsed": false
   },
   "outputs": [
    {
     "data": {
      "text/plain": [
       "Pipeline(steps=[('scl', StandardScaler(copy=True, with_mean=True, with_std=True)), ('pca', PCA(copy=True, iterated_power='auto', n_components=2, random_state=None,\n",
       "  svd_solver='auto', tol=0.0, whiten=False)), ('clf', LogisticRegression(C=1.0, class_weight=None, dual=False, fit_intercept=True,\n",
       "          intercept_scaling=1, max_iter=100, multi_class='ovr', n_jobs=1,\n",
       "          penalty='l2', random_state=1, solver='liblinear', tol=0.0001,\n",
       "          verbose=0, warm_start=False))])"
      ]
     },
     "execution_count": 16,
     "metadata": {},
     "output_type": "execute_result"
    }
   ],
   "source": [
    "lr_pipe0.fit(X_train, y_train)"
   ]
  },
  {
   "cell_type": "code",
   "execution_count": 17,
   "metadata": {
    "collapsed": false
   },
   "outputs": [
    {
     "name": "stdout",
     "output_type": "stream",
     "text": [
      "Testing Accuracy: 0.947\n"
     ]
    }
   ],
   "source": [
    "print('Testing Accuracy: {:0.3f}'.format(lr_pipe0.score(X_test, y_test)))"
   ]
  },
  {
   "cell_type": "markdown",
   "metadata": {},
   "source": [
    "While this result looks great, using PCA to reduce the data to 2 components likely led to overfitting of the data.\n",
    "\n",
    "Lets now use k-fold cross-validation to evaluate model performance."
   ]
  },
  {
   "cell_type": "code",
   "execution_count": 18,
   "metadata": {
    "collapsed": false
   },
   "outputs": [],
   "source": [
    "skf = sklearn.model_selection.StratifiedKFold(n_splits=10, random_state=rs)\n",
    "kfold = skf.split(X_train, y_train)"
   ]
  },
  {
   "cell_type": "markdown",
   "metadata": {},
   "source": [
    "We will first do this explicitly to demonstrate what is going on."
   ]
  },
  {
   "cell_type": "code",
   "execution_count": 19,
   "metadata": {
    "collapsed": false
   },
   "outputs": [
    {
     "name": "stdout",
     "output_type": "stream",
     "text": [
      "fold: 001, label distribution: (256, 153), accuracy: 0.891\n",
      "fold: 002, label distribution: (256, 153), accuracy: 0.978\n",
      "fold: 003, label distribution: (256, 153), accuracy: 0.978\n",
      "fold: 004, label distribution: (256, 153), accuracy: 0.913\n",
      "fold: 005, label distribution: (256, 153), accuracy: 0.935\n",
      "fold: 006, label distribution: (257, 153), accuracy: 0.978\n",
      "fold: 007, label distribution: (257, 153), accuracy: 0.933\n",
      "fold: 008, label distribution: (257, 153), accuracy: 0.956\n",
      "fold: 009, label distribution: (257, 153), accuracy: 0.978\n",
      "fold: 010, label distribution: (257, 153), accuracy: 0.956\n",
      "average accuracy: 0.95 +/- 0.0292\n"
     ]
    }
   ],
   "source": [
    "scores = []\n",
    "for k, (train, test) in enumerate(kfold):\n",
    "    lr_pipe0.fit(X_train[train], y_train[train])\n",
    "    score = lr_pipe0.score(X_train[test], y_train[test])\n",
    "    scores.append(score)\n",
    "    print('fold: {:03}, label distribution: ({}, {}), accuracy: {:.3}'.format(\n",
    "        k+1, *np.bincount(y_train[train]), score))\n",
    "print('average accuracy: {:.3} +/- {:.3}'.format(np.mean(scores), np.std(scores)))"
   ]
  },
  {
   "cell_type": "markdown",
   "metadata": {},
   "source": [
    "We can do this using simply `sklearn.model_selection.cross_val_score`. Note that by using `n_jobs=-1` the calculation will maximize the number of CPU cores used."
   ]
  },
  {
   "cell_type": "code",
   "execution_count": 20,
   "metadata": {
    "collapsed": false
   },
   "outputs": [],
   "source": [
    "scores = sklearn.model_selection.cross_val_score(estimator=lr_pipe0, X=X_train,\n",
    "                                                 y=y_train, cv=10, n_jobs=-1)  "
   ]
  },
  {
   "cell_type": "code",
   "execution_count": 21,
   "metadata": {
    "collapsed": false
   },
   "outputs": [
    {
     "name": "stdout",
     "output_type": "stream",
     "text": [
      "average accuracy: 0.95 +/- 0.0292\n"
     ]
    }
   ],
   "source": [
    "print('average accuracy: {:.3} +/- {:.3}'.format(np.mean(scores), np.std(scores)))"
   ]
  },
  {
   "cell_type": "markdown",
   "metadata": {},
   "source": [
    "Not surprisingly, we get the same result."
   ]
  },
  {
   "cell_type": "markdown",
   "metadata": {},
   "source": [
    "# Learning Curve\n",
    "\n",
    "Now lets look at a learning curves for how well our model represents the data.  A learning bias and variance of the model.  High bias, underfitting, situations can often be corrected by including additional features, either by measurement or feature engineering, or by decreasing the degree of regularization.  High variance, overfitting, situations can often be corrected by increasing the number of data samples or by reducing the data dimensionality via feature selection or PCA analysis.   "
   ]
  },
  {
   "cell_type": "code",
   "execution_count": 22,
   "metadata": {
    "collapsed": false
   },
   "outputs": [],
   "source": [
    "train_sizes, train_scores, test_scores = sklearn.model_selection.learning_curve(\n",
    "    estimator=lr_pipe0, X=X_train, y=y_train, train_sizes=np.linspace(0.1, 1, 50),\n",
    "    cv=10, n_jobs=-1)"
   ]
  },
  {
   "cell_type": "code",
   "execution_count": 23,
   "metadata": {
    "collapsed": true
   },
   "outputs": [],
   "source": [
    "train_mean = train_scores.mean(axis=1)\n",
    "train_std = train_scores.std(axis=1)\n",
    "\n",
    "test_mean = test_scores.mean(axis=1)\n",
    "test_std = test_scores.std(axis=1)"
   ]
  },
  {
   "cell_type": "code",
   "execution_count": 24,
   "metadata": {
    "collapsed": false
   },
   "outputs": [
    {
     "data": {
      "text/html": [
       "\n",
       "\n",
       "    <div class=\"bk-root\">\n",
       "        <div class=\"bk-plotdiv\" id=\"4e4d50b1-a9ae-4ffc-8807-6147c29806c1\"></div>\n",
       "    </div>\n",
       "<script type=\"text/javascript\">\n",
       "  \n",
       "  (function(global) {\n",
       "    function now() {\n",
       "      return new Date();\n",
       "    }\n",
       "  \n",
       "    var force = false;\n",
       "  \n",
       "    if (typeof (window._bokeh_onload_callbacks) === \"undefined\" || force === true) {\n",
       "      window._bokeh_onload_callbacks = [];\n",
       "      window._bokeh_is_loading = undefined;\n",
       "    }\n",
       "  \n",
       "  \n",
       "    \n",
       "    if (typeof (window._bokeh_timeout) === \"undefined\" || force === true) {\n",
       "      window._bokeh_timeout = Date.now() + 0;\n",
       "      window._bokeh_failed_load = false;\n",
       "    }\n",
       "  \n",
       "    var NB_LOAD_WARNING = {'data': {'text/html':\n",
       "       \"<div style='background-color: #fdd'>\\n\"+\n",
       "       \"<p>\\n\"+\n",
       "       \"BokehJS does not appear to have successfully loaded. If loading BokehJS from CDN, this \\n\"+\n",
       "       \"may be due to a slow or bad network connection. Possible fixes:\\n\"+\n",
       "       \"</p>\\n\"+\n",
       "       \"<ul>\\n\"+\n",
       "       \"<li>re-rerun `output_notebook()` to attempt to load from CDN again, or</li>\\n\"+\n",
       "       \"<li>use INLINE resources instead, as so:</li>\\n\"+\n",
       "       \"</ul>\\n\"+\n",
       "       \"<code>\\n\"+\n",
       "       \"from bokeh.resources import INLINE\\n\"+\n",
       "       \"output_notebook(resources=INLINE)\\n\"+\n",
       "       \"</code>\\n\"+\n",
       "       \"</div>\"}};\n",
       "  \n",
       "    function display_loaded() {\n",
       "      if (window.Bokeh !== undefined) {\n",
       "        var el = document.getElementById(\"4e4d50b1-a9ae-4ffc-8807-6147c29806c1\");\n",
       "        el.textContent = \"BokehJS \" + Bokeh.version + \" successfully loaded.\";\n",
       "      } else if (Date.now() < window._bokeh_timeout) {\n",
       "        setTimeout(display_loaded, 100)\n",
       "      }\n",
       "    }\n",
       "  \n",
       "    function run_callbacks() {\n",
       "      window._bokeh_onload_callbacks.forEach(function(callback) { callback() });\n",
       "      delete window._bokeh_onload_callbacks\n",
       "      console.info(\"Bokeh: all callbacks have finished\");\n",
       "    }\n",
       "  \n",
       "    function load_libs(js_urls, callback) {\n",
       "      window._bokeh_onload_callbacks.push(callback);\n",
       "      if (window._bokeh_is_loading > 0) {\n",
       "        console.log(\"Bokeh: BokehJS is being loaded, scheduling callback at\", now());\n",
       "        return null;\n",
       "      }\n",
       "      if (js_urls == null || js_urls.length === 0) {\n",
       "        run_callbacks();\n",
       "        return null;\n",
       "      }\n",
       "      console.log(\"Bokeh: BokehJS not loaded, scheduling load and callback at\", now());\n",
       "      window._bokeh_is_loading = js_urls.length;\n",
       "      for (var i = 0; i < js_urls.length; i++) {\n",
       "        var url = js_urls[i];\n",
       "        var s = document.createElement('script');\n",
       "        s.src = url;\n",
       "        s.async = false;\n",
       "        s.onreadystatechange = s.onload = function() {\n",
       "          window._bokeh_is_loading--;\n",
       "          if (window._bokeh_is_loading === 0) {\n",
       "            console.log(\"Bokeh: all BokehJS libraries loaded\");\n",
       "            run_callbacks()\n",
       "          }\n",
       "        };\n",
       "        s.onerror = function() {\n",
       "          console.warn(\"failed to load library \" + url);\n",
       "        };\n",
       "        console.log(\"Bokeh: injecting script tag for BokehJS library: \", url);\n",
       "        document.getElementsByTagName(\"head\")[0].appendChild(s);\n",
       "      }\n",
       "    };var element = document.getElementById(\"4e4d50b1-a9ae-4ffc-8807-6147c29806c1\");\n",
       "    if (element == null) {\n",
       "      console.log(\"Bokeh: ERROR: autoload.js configured with elementid '4e4d50b1-a9ae-4ffc-8807-6147c29806c1' but no matching script tag was found. \")\n",
       "      return false;\n",
       "    }\n",
       "  \n",
       "    var js_urls = [];\n",
       "  \n",
       "    var inline_js = [\n",
       "      function(Bokeh) {\n",
       "        (function() {\n",
       "          var fn = function() {\n",
       "            var docs_json = {\"a7c2220b-ec07-47ea-a613-379e91fc6232\":{\"roots\":{\"references\":[{\"attributes\":{\"data_source\":{\"id\":\"5c1d1bec-4d46-4248-b80d-280139b1bc2f\",\"type\":\"ColumnDataSource\"},\"glyph\":{\"id\":\"17f6b88f-7f1e-4feb-8cb6-f2723e2294ee\",\"type\":\"Quad\"},\"hover_glyph\":null,\"muted_glyph\":null,\"nonselection_glyph\":{\"id\":\"11fe1d16-a5f4-4fde-b48f-31bf5c33bbe7\",\"type\":\"Quad\"},\"selection_glyph\":null},\"id\":\"513f54e6-d155-4e0a-803a-77dad4e42f3d\",\"type\":\"GlyphRenderer\"},{\"attributes\":{\"bottom\":{\"field\":\"bottom\"},\"fill_alpha\":{\"value\":0.2},\"fill_color\":{\"value\":\"#1f77b4\"},\"left\":{\"field\":\"left\"},\"line_alpha\":{\"value\":0.2},\"line_color\":{\"value\":\"#1f77b4\"},\"right\":{\"field\":\"right\"},\"top\":{\"field\":\"top\"}},\"id\":\"17f6b88f-7f1e-4feb-8cb6-f2723e2294ee\",\"type\":\"Quad\"},{\"attributes\":{\"callback\":null,\"column_names\":[\"x\",\"y\"],\"data\":{\"x\":[40,48,55,63,70,78,85,93,100,108,116,123,131,138,146,153,161,168,176,183,191,198,206,213,221,228,236,243,251,258,266,273,281,288,296,303,311,318,326,333,341,348,356,363,371,378,386,393,401,409],\"y\":{\"__ndarray__\":\"exSuR+F67j8iIiIiIiLuP14+7+XzXu4/vu/7vu/77j8K16NwPQrvP/7qr/7qr+4/y/4xZZjL7j+OnuDoCY7uP0A1XrpJDO4/xd+mGDX87T97GmG5pxHuP8otntziye0/gyVgVi207T/dxhSE/tHtP7jYF5aSi+0//lKo/VKo7T8CTH2+NcvtPwqcwAmcwO0/xlOCPCXI7T/eBUn5h77tP2YYH+S31u0/0kUXXXTR7T8t4hNIJeftP15nAgaP5e0/vgz5vQz57T+KHvZGpejtP21F0HBS9+0/3d3d3d3d7T+emmaPl//tP0h2Xmpk5+0/Rt8cfXP07T/e4A3e4A3uP+OiKk4PHO4/IyIiIiIi7j9T5LNuMEXuPyDA7UPKOe4/oji4+71K7j89MmwQN0/uP/ogGVDPVO4/QOWtFfNT7j9d3t/l/V3uPxIb5iOxYe4/5ptFkwBr7j8Kuo9Dh2fuPx1G/CQMWO4/E+cbaTxx7j89X8U4InPuP7io1fjyc+4//ZkireR97j+DCcQKcoXuPw==\",\"dtype\":\"float64\",\"shape\":[50]}}},\"id\":\"231d40d8-f477-49e6-a02a-88c8e131169e\",\"type\":\"ColumnDataSource\"},{\"attributes\":{\"bottom\":{\"field\":\"bottom\"},\"fill_alpha\":{\"value\":0.1},\"fill_color\":{\"value\":\"#1f77b4\"},\"left\":{\"field\":\"left\"},\"line_alpha\":{\"value\":0.1},\"line_color\":{\"value\":\"#1f77b4\"},\"right\":{\"field\":\"right\"},\"top\":{\"field\":\"top\"}},\"id\":\"115534b8-8729-4429-a32a-26365fdc7761\",\"type\":\"Quad\"},{\"attributes\":{},\"id\":\"319e0ee9-db02-47f0-b22c-703c484c417e\",\"type\":\"BasicTickFormatter\"},{\"attributes\":{\"label\":{\"value\":\"training accuracy\"},\"renderers\":[{\"id\":\"55fdd2f0-e1e1-4924-be81-4aac77167b98\",\"type\":\"GlyphRenderer\"}]},\"id\":\"50c00bfe-ac69-47e9-8269-cecbda03fefd\",\"type\":\"LegendItem\"},{\"attributes\":{\"items\":[{\"id\":\"50c00bfe-ac69-47e9-8269-cecbda03fefd\",\"type\":\"LegendItem\"},{\"id\":\"07792de8-6107-4c34-863e-382b7fced548\",\"type\":\"LegendItem\"}],\"location\":\"bottom_right\",\"plot\":{\"id\":\"dfdac2c2-95df-4f33-93ec-1ffe1e7ea663\",\"subtype\":\"Figure\",\"type\":\"Plot\"}},\"id\":\"0230f220-62e4-48ca-9bc4-879d5c0e5c6d\",\"type\":\"Legend\"},{\"attributes\":{\"bottom\":{\"field\":\"bottom\"},\"fill_alpha\":{\"value\":0.1},\"fill_color\":{\"value\":\"#1f77b4\"},\"left\":{\"field\":\"left\"},\"line_alpha\":{\"value\":0.1},\"line_color\":{\"value\":\"#1f77b4\"},\"right\":{\"field\":\"right\"},\"top\":{\"field\":\"top\"}},\"id\":\"11fe1d16-a5f4-4fde-b48f-31bf5c33bbe7\",\"type\":\"Quad\"},{\"attributes\":{\"dimension\":1,\"plot\":{\"id\":\"dfdac2c2-95df-4f33-93ec-1ffe1e7ea663\",\"subtype\":\"Figure\",\"type\":\"Plot\"},\"ticker\":{\"id\":\"32128c5c-b800-4e02-90c8-006c667d27b2\",\"type\":\"BasicTicker\"}},\"id\":\"3201b1f3-0bac-4efd-a641-ba9884ac3578\",\"type\":\"Grid\"},{\"attributes\":{\"data_source\":{\"id\":\"5c37bff5-07bb-4770-9a79-f99ff4aa7c35\",\"type\":\"ColumnDataSource\"},\"glyph\":{\"id\":\"cec654d8-c0ce-485b-8a8e-836bf801eb2f\",\"type\":\"Quad\"},\"hover_glyph\":null,\"muted_glyph\":null,\"nonselection_glyph\":{\"id\":\"115534b8-8729-4429-a32a-26365fdc7761\",\"type\":\"Quad\"},\"selection_glyph\":null},\"id\":\"eff7475f-3e10-4923-a2cf-42bad348340a\",\"type\":\"GlyphRenderer\"},{\"attributes\":{\"data_source\":{\"id\":\"b01fd06d-55ea-47d3-9ad0-f6c5554ef0db\",\"type\":\"ColumnDataSource\"},\"glyph\":{\"id\":\"1109ef9e-9403-4dfc-b6c5-1b88b0d39a89\",\"type\":\"Line\"},\"hover_glyph\":null,\"muted_glyph\":null,\"nonselection_glyph\":{\"id\":\"e25c1b7d-513a-4ea0-8175-9cb05d650886\",\"type\":\"Line\"},\"selection_glyph\":null},\"id\":\"651c0c51-64ca-4946-ab30-a9cc20d20dfb\",\"type\":\"GlyphRenderer\"},{\"attributes\":{\"plot\":{\"id\":\"dfdac2c2-95df-4f33-93ec-1ffe1e7ea663\",\"subtype\":\"Figure\",\"type\":\"Plot\"},\"ticker\":{\"id\":\"7f619f5d-d266-4da9-8fa2-cbc8e700acd1\",\"type\":\"BasicTicker\"}},\"id\":\"04f7d604-201a-43fe-89e5-4c4fb44d0368\",\"type\":\"Grid\"},{\"attributes\":{\"label\":{\"value\":\"x-validation accuracy\"},\"renderers\":[{\"id\":\"651c0c51-64ca-4946-ab30-a9cc20d20dfb\",\"type\":\"GlyphRenderer\"}]},\"id\":\"07792de8-6107-4c34-863e-382b7fced548\",\"type\":\"LegendItem\"},{\"attributes\":{\"axis_label\":\"Accuracy\",\"formatter\":{\"id\":\"319e0ee9-db02-47f0-b22c-703c484c417e\",\"type\":\"BasicTickFormatter\"},\"plot\":{\"id\":\"dfdac2c2-95df-4f33-93ec-1ffe1e7ea663\",\"subtype\":\"Figure\",\"type\":\"Plot\"},\"ticker\":{\"id\":\"32128c5c-b800-4e02-90c8-006c667d27b2\",\"type\":\"BasicTicker\"}},\"id\":\"36a114ed-0f8a-42e1-8566-5fb472d6e395\",\"type\":\"LinearAxis\"},{\"attributes\":{},\"id\":\"32128c5c-b800-4e02-90c8-006c667d27b2\",\"type\":\"BasicTicker\"},{\"attributes\":{\"line_alpha\":{\"value\":0.1},\"line_color\":{\"value\":\"#1f77b4\"},\"line_dash\":[6],\"x\":{\"field\":\"x\"},\"y\":{\"field\":\"y\"}},\"id\":\"e25c1b7d-513a-4ea0-8175-9cb05d650886\",\"type\":\"Line\"},{\"attributes\":{\"callback\":null,\"start\":0.8},\"id\":\"bdebfaa8-a6fb-4991-b08d-c4c1eae4edf7\",\"type\":\"Range1d\"},{\"attributes\":{\"plot\":{\"id\":\"dfdac2c2-95df-4f33-93ec-1ffe1e7ea663\",\"subtype\":\"Figure\",\"type\":\"Plot\"}},\"id\":\"5191afc2-ac6c-4e69-8136-cb89b5a5cdd2\",\"type\":\"SaveTool\"},{\"attributes\":{\"bottom_units\":\"screen\",\"fill_alpha\":{\"value\":0.5},\"fill_color\":{\"value\":\"lightgrey\"},\"left_units\":\"screen\",\"level\":\"overlay\",\"line_alpha\":{\"value\":1.0},\"line_color\":{\"value\":\"black\"},\"line_dash\":[4,4],\"line_width\":{\"value\":2},\"plot\":null,\"render_mode\":\"css\",\"right_units\":\"screen\",\"top_units\":\"screen\"},\"id\":\"3bc57a18-e7a9-4150-a54f-aae08e9bf95d\",\"type\":\"BoxAnnotation\"},{\"attributes\":{\"axis_label\":\"Number of training samples\",\"formatter\":{\"id\":\"e7eb76a0-fec7-4348-a47f-33aec7fd0113\",\"type\":\"BasicTickFormatter\"},\"plot\":{\"id\":\"dfdac2c2-95df-4f33-93ec-1ffe1e7ea663\",\"subtype\":\"Figure\",\"type\":\"Plot\"},\"ticker\":{\"id\":\"7f619f5d-d266-4da9-8fa2-cbc8e700acd1\",\"type\":\"BasicTicker\"}},\"id\":\"a6fd5efb-ad69-4cc9-95f3-821a0a89d8c3\",\"type\":\"LinearAxis\"},{\"attributes\":{},\"id\":\"7f619f5d-d266-4da9-8fa2-cbc8e700acd1\",\"type\":\"BasicTicker\"},{\"attributes\":{},\"id\":\"e7eb76a0-fec7-4348-a47f-33aec7fd0113\",\"type\":\"BasicTickFormatter\"},{\"attributes\":{},\"id\":\"f299aea9-3ee0-4344-af46-77c06f8b44ae\",\"type\":\"ToolEvents\"},{\"attributes\":{\"line_color\":{\"value\":\"#1f77b4\"},\"x\":{\"field\":\"x\"},\"y\":{\"field\":\"y\"}},\"id\":\"2dc4e0f6-a3ee-46d4-9693-8f767c627ed8\",\"type\":\"Line\"},{\"attributes\":{\"bottom\":{\"field\":\"bottom\"},\"fill_alpha\":{\"value\":0.2},\"fill_color\":{\"value\":\"#ff7f0e\"},\"left\":{\"field\":\"left\"},\"line_alpha\":{\"value\":0.2},\"line_color\":{\"value\":\"#ff7f0e\"},\"right\":{\"field\":\"right\"},\"top\":{\"field\":\"top\"}},\"id\":\"cec654d8-c0ce-485b-8a8e-836bf801eb2f\",\"type\":\"Quad\"},{\"attributes\":{\"plot\":null,\"text\":\"\"},\"id\":\"27b50190-4091-4c20-afbc-246c5d1a9c8c\",\"type\":\"Title\"},{\"attributes\":{\"plot\":{\"id\":\"dfdac2c2-95df-4f33-93ec-1ffe1e7ea663\",\"subtype\":\"Figure\",\"type\":\"Plot\"}},\"id\":\"32a56ec7-069b-4b9c-8a3d-b86ba11aa8b6\",\"type\":\"ResetTool\"},{\"attributes\":{\"callback\":null,\"end\":409,\"start\":40},\"id\":\"65ebba50-5b53-4f0f-9933-1993b20ae809\",\"type\":\"Range1d\"},{\"attributes\":{\"active_drag\":\"auto\",\"active_inspect\":\"auto\",\"active_scroll\":\"auto\",\"active_tap\":\"auto\",\"tools\":[{\"id\":\"252e5498-a8b1-47b9-b8bc-195274a141e1\",\"type\":\"PanTool\"},{\"id\":\"9f02b595-0ccc-4ab1-a5a3-38977d70502f\",\"type\":\"WheelZoomTool\"},{\"id\":\"0c384d40-8a1e-4512-a01d-e36bc6e8fbb9\",\"type\":\"BoxZoomTool\"},{\"id\":\"5191afc2-ac6c-4e69-8136-cb89b5a5cdd2\",\"type\":\"SaveTool\"},{\"id\":\"32a56ec7-069b-4b9c-8a3d-b86ba11aa8b6\",\"type\":\"ResetTool\"},{\"id\":\"80204b90-4060-4d7c-81c0-effe90303692\",\"type\":\"HelpTool\"}]},\"id\":\"df3c4fbb-f740-4b69-827b-f70ff0dfa88a\",\"type\":\"Toolbar\"},{\"attributes\":{\"plot\":{\"id\":\"dfdac2c2-95df-4f33-93ec-1ffe1e7ea663\",\"subtype\":\"Figure\",\"type\":\"Plot\"}},\"id\":\"80204b90-4060-4d7c-81c0-effe90303692\",\"type\":\"HelpTool\"},{\"attributes\":{\"plot\":{\"id\":\"dfdac2c2-95df-4f33-93ec-1ffe1e7ea663\",\"subtype\":\"Figure\",\"type\":\"Plot\"}},\"id\":\"9f02b595-0ccc-4ab1-a5a3-38977d70502f\",\"type\":\"WheelZoomTool\"},{\"attributes\":{\"overlay\":{\"id\":\"3bc57a18-e7a9-4150-a54f-aae08e9bf95d\",\"type\":\"BoxAnnotation\"},\"plot\":{\"id\":\"dfdac2c2-95df-4f33-93ec-1ffe1e7ea663\",\"subtype\":\"Figure\",\"type\":\"Plot\"}},\"id\":\"0c384d40-8a1e-4512-a01d-e36bc6e8fbb9\",\"type\":\"BoxZoomTool\"},{\"attributes\":{\"callback\":null,\"column_names\":[\"left\",\"right\",\"top\",\"bottom\"],\"data\":{\"bottom\":{\"__ndarray__\":\"PQrXo3A97j+gOogy6nrtPwVeWeCVBe4/Yc/T18jB7j+4HoXrUbjuPw7ncA7ncO4/pD7YcQul7j9r3qzmzWruPxsv3SQGge0/xvYlHJSX7T+9Barxe5vtP9E7SMujhe0/puQSCd167T9sFBB2lpvtP/6eOuN9Re0/ndDCG3Nl7T9eDmSUpoHtP80sUKSZb+0/nSx/nAKO7T/KpUSobKbtP7dDIA+fv+0/m4b1UU+r7T8ND4t2e8LtP5pTD4PEx+0/U/6pTVbc7T+eW+LU77ntP30eY03AyO0/rcimCFKs7T/myW+3UsPtP8yLwdKTr+0/ZMUSmr3E7T+5aCN9kNHtP2Wcr4J24e0/3Q12PInb7T9WfFI1FAbuP9hJQE6w6u0/CMYG8lD97T80RtKJPAzuP/+ilRlYGe4/IsED4H8Y7j9vVEBhPiruP9esVXPjJu4/MYy1K4Ux7j97oF1QKC3uP9G3s+m/Ge4/SOOJ84007j8cKcB+8TruP7ZCYUrYT+4/ctbXy6ZR7j/I1J23o1HuPw==\",\"dtype\":\"float64\",\"shape\":[50]},\"left\":{\"__ndarray__\":\"AAAAAAAAREAAAAAAAABGQAAAAAAAwElAAAAAAACATUAAAAAAAKBQQAAAAAAAgFJAAAAAAABgVEAAAAAAAEBWQAAAAAAAIFhAAAAAAAAAWkAAAAAAAABcQAAAAAAA4F1AAAAAAADAX0AAAAAAANBgQAAAAAAAwGFAAAAAAACwYkAAAAAAAKBjQAAAAAAAkGRAAAAAAACAZUAAAAAAAHBmQAAAAAAAYGdAAAAAAABQaEAAAAAAAEBpQAAAAAAAMGpAAAAAAAAga0AAAAAAABBsQAAAAAAAAG1AAAAAAADwbUAAAAAAAOBuQAAAAAAA0G9AAAAAAABgcEAAAAAAANhwQAAAAAAAUHFAAAAAAADIcUAAAAAAAEByQAAAAAAAuHJAAAAAAAAwc0AAAAAAAKhzQAAAAAAAIHRAAAAAAACYdEAAAAAAABB1QAAAAAAAiHVAAAAAAAAAdkAAAAAAAHh2QAAAAAAA8HZAAAAAAABod0AAAAAAAOB3QAAAAAAAWHhAAAAAAADQeEAAAAAAAFB5QA==\",\"dtype\":\"float64\",\"shape\":[50]},\"right\":{\"__ndarray__\":\"AAAAAAAARkAAAAAAAMBJQAAAAAAAgE1AAAAAAACgUEAAAAAAAIBSQAAAAAAAYFRAAAAAAABAVkAAAAAAACBYQAAAAAAAAFpAAAAAAAAAXEAAAAAAAOBdQAAAAAAAwF9AAAAAAADQYEAAAAAAAMBhQAAAAAAAsGJAAAAAAACgY0AAAAAAAJBkQAAAAAAAgGVAAAAAAABwZkAAAAAAAGBnQAAAAAAAUGhAAAAAAABAaUAAAAAAADBqQAAAAAAAIGtAAAAAAAAQbEAAAAAAAABtQAAAAAAA8G1AAAAAAADgbkAAAAAAANBvQAAAAAAAYHBAAAAAAADYcEAAAAAAAFBxQAAAAAAAyHFAAAAAAABAckAAAAAAALhyQAAAAAAAMHNAAAAAAACoc0AAAAAAACB0QAAAAAAAmHRAAAAAAAAQdUAAAAAAAIh1QAAAAAAAAHZAAAAAAAB4dkAAAAAAAPB2QAAAAAAAaHdAAAAAAADgd0AAAAAAAFh4QAAAAAAA0HhAAAAAAABQeUAAAAAAAJB5QA==\",\"dtype\":\"float64\",\"shape\":[50]},\"top\":{\"__ndarray__\":\"uR6F61G47j+kCbwRWsnuP7cehetRuO4/GxAkphY27z9cj8L1KFzvP+7u7u7u7u4/8r6LWCXy7j+xXhTrRbHuP2U730+Nl+4/xMgnFdZg7j85LxiB04fuP8Mf9O0hDu4/YGato33t7T9OeRmSZgjuP3IS9Uin0e0/X9WN3zLr7T+miZboxBTuP0cLMW+eEe4/73qF3EcC7j/yZU1Ko9btPxXtHbnQ7e0/CQU5aJn37T9NtZwZzwvuPyJ79YhZA+4/KRtILsMV7j924Qm5WhfuP11sPZTkJe4/DfMUs2kP7j9Wa11n3DvuP8Rg+wE1H+4/KPkmYCkk7j8DWfg+MUruP2GppRmoVu4/aTbOB7to7j9QTBWoTITuP2g2mznkiO4/PKtpBSuY7j9GHgaXMZLuP/WenIZGkO4/XglYS2aP7j9LaH9qvZHuP02JdtR+nO4/m6vV+nuk7j+Z08E25qHuP2nURGBYlu4/3uqt3uqt7j9elcryUqvuP7oOSqcNmO4/iF1tjiKq7j8+PupdQLnuPw==\",\"dtype\":\"float64\",\"shape\":[50]}}},\"id\":\"5c1d1bec-4d46-4248-b80d-280139b1bc2f\",\"type\":\"ColumnDataSource\"},{\"attributes\":{\"below\":[{\"id\":\"a6fd5efb-ad69-4cc9-95f3-821a0a89d8c3\",\"type\":\"LinearAxis\"}],\"left\":[{\"id\":\"36a114ed-0f8a-42e1-8566-5fb472d6e395\",\"type\":\"LinearAxis\"}],\"plot_height\":300,\"plot_width\":500,\"renderers\":[{\"id\":\"a6fd5efb-ad69-4cc9-95f3-821a0a89d8c3\",\"type\":\"LinearAxis\"},{\"id\":\"04f7d604-201a-43fe-89e5-4c4fb44d0368\",\"type\":\"Grid\"},{\"id\":\"36a114ed-0f8a-42e1-8566-5fb472d6e395\",\"type\":\"LinearAxis\"},{\"id\":\"3201b1f3-0bac-4efd-a641-ba9884ac3578\",\"type\":\"Grid\"},{\"id\":\"3bc57a18-e7a9-4150-a54f-aae08e9bf95d\",\"type\":\"BoxAnnotation\"},{\"id\":\"513f54e6-d155-4e0a-803a-77dad4e42f3d\",\"type\":\"GlyphRenderer\"},{\"id\":\"0230f220-62e4-48ca-9bc4-879d5c0e5c6d\",\"type\":\"Legend\"},{\"id\":\"55fdd2f0-e1e1-4924-be81-4aac77167b98\",\"type\":\"GlyphRenderer\"},{\"id\":\"eff7475f-3e10-4923-a2cf-42bad348340a\",\"type\":\"GlyphRenderer\"},{\"id\":\"651c0c51-64ca-4946-ab30-a9cc20d20dfb\",\"type\":\"GlyphRenderer\"}],\"title\":{\"id\":\"27b50190-4091-4c20-afbc-246c5d1a9c8c\",\"type\":\"Title\"},\"tool_events\":{\"id\":\"f299aea9-3ee0-4344-af46-77c06f8b44ae\",\"type\":\"ToolEvents\"},\"toolbar\":{\"id\":\"df3c4fbb-f740-4b69-827b-f70ff0dfa88a\",\"type\":\"Toolbar\"},\"x_range\":{\"id\":\"65ebba50-5b53-4f0f-9933-1993b20ae809\",\"type\":\"Range1d\"},\"y_range\":{\"id\":\"bdebfaa8-a6fb-4991-b08d-c4c1eae4edf7\",\"type\":\"Range1d\"}},\"id\":\"dfdac2c2-95df-4f33-93ec-1ffe1e7ea663\",\"subtype\":\"Figure\",\"type\":\"Plot\"},{\"attributes\":{\"plot\":{\"id\":\"dfdac2c2-95df-4f33-93ec-1ffe1e7ea663\",\"subtype\":\"Figure\",\"type\":\"Plot\"}},\"id\":\"252e5498-a8b1-47b9-b8bc-195274a141e1\",\"type\":\"PanTool\"},{\"attributes\":{\"line_alpha\":{\"value\":0.1},\"line_color\":{\"value\":\"#1f77b4\"},\"x\":{\"field\":\"x\"},\"y\":{\"field\":\"y\"}},\"id\":\"c26747e7-588c-4c8b-adf2-697187ab5de4\",\"type\":\"Line\"},{\"attributes\":{\"line_color\":{\"value\":\"#ff7f0e\"},\"line_dash\":[6],\"x\":{\"field\":\"x\"},\"y\":{\"field\":\"y\"}},\"id\":\"1109ef9e-9403-4dfc-b6c5-1b88b0d39a89\",\"type\":\"Line\"},{\"attributes\":{\"data_source\":{\"id\":\"231d40d8-f477-49e6-a02a-88c8e131169e\",\"type\":\"ColumnDataSource\"},\"glyph\":{\"id\":\"2dc4e0f6-a3ee-46d4-9693-8f767c627ed8\",\"type\":\"Line\"},\"hover_glyph\":null,\"muted_glyph\":null,\"nonselection_glyph\":{\"id\":\"c26747e7-588c-4c8b-adf2-697187ab5de4\",\"type\":\"Line\"},\"selection_glyph\":null},\"id\":\"55fdd2f0-e1e1-4924-be81-4aac77167b98\",\"type\":\"GlyphRenderer\"},{\"attributes\":{\"callback\":null,\"column_names\":[\"left\",\"right\",\"top\",\"bottom\"],\"data\":{\"bottom\":{\"__ndarray__\":\"BGDyMdyP7D+6+iWAUeLsP2jVMRRn+uw/3gtxXW377D8gUruS+s7sP63oZa3uuew/AGBWx7+/7D82fuF6p8DsP+hbJUI2M+0/6FslQjYz7T8/D/m5lwntP+hbJUI2M+0/Dubq1qc87T8+MwJY7NzsPz4zAljs3Ow/nV+IexQQ7T9wzCcE4wPtPxAWCrfUHe0/XUMAcG0d7T88r3YK4jftP8FkgOuPZe0/Zut6wWY57T9m63rBZjntPy4MjBoxSO0/51xMDoUc7T+Pdx85+yntP4xOaUiGSe0/ACDsWAR47T9B6MPwRIrtP4xOaUiGSe0/ACDsWAR47T8AIOxYBHjtPwAg7FgEeO0/QejD8ESK7T+QOQ9PF7XtP0How/BEiu0/QejD8ESK7T8pWffvgp/tP0How/BEiu0/QejD8ESK7T9B6MPwRIrtP0How/BEiu0/QejD8ESK7T9B6MPwRIrtP3SLVgAFX+0/dItWAAVf7T90i1YABV/tP3SLVgAFX+0/Qh48L7Zz7T9CHjwvtnPtPw==\",\"dtype\":\"float64\",\"shape\":[50]},\"left\":{\"__ndarray__\":\"AAAAAAAAREAAAAAAAABGQAAAAAAAwElAAAAAAACATUAAAAAAAKBQQAAAAAAAgFJAAAAAAABgVEAAAAAAAEBWQAAAAAAAIFhAAAAAAAAAWkAAAAAAAABcQAAAAAAA4F1AAAAAAADAX0AAAAAAANBgQAAAAAAAwGFAAAAAAACwYkAAAAAAAKBjQAAAAAAAkGRAAAAAAACAZUAAAAAAAHBmQAAAAAAAYGdAAAAAAABQaEAAAAAAAEBpQAAAAAAAMGpAAAAAAAAga0AAAAAAABBsQAAAAAAAAG1AAAAAAADwbUAAAAAAAOBuQAAAAAAA0G9AAAAAAABgcEAAAAAAANhwQAAAAAAAUHFAAAAAAADIcUAAAAAAAEByQAAAAAAAuHJAAAAAAAAwc0AAAAAAAKhzQAAAAAAAIHRAAAAAAACYdEAAAAAAABB1QAAAAAAAiHVAAAAAAAAAdkAAAAAAAHh2QAAAAAAA8HZAAAAAAABod0AAAAAAAOB3QAAAAAAAWHhAAAAAAADQeEAAAAAAAFB5QA==\",\"dtype\":\"float64\",\"shape\":[50]},\"right\":{\"__ndarray__\":\"AAAAAAAARkAAAAAAAMBJQAAAAAAAgE1AAAAAAACgUEAAAAAAAIBSQAAAAAAAYFRAAAAAAABAVkAAAAAAACBYQAAAAAAAAFpAAAAAAAAAXEAAAAAAAOBdQAAAAAAAwF9AAAAAAADQYEAAAAAAAMBhQAAAAAAAsGJAAAAAAACgY0AAAAAAAJBkQAAAAAAAgGVAAAAAAABwZkAAAAAAAGBnQAAAAAAAUGhAAAAAAABAaUAAAAAAADBqQAAAAAAAIGtAAAAAAAAQbEAAAAAAAABtQAAAAAAA8G1AAAAAAADgbkAAAAAAANBvQAAAAAAAYHBAAAAAAADYcEAAAAAAAFBxQAAAAAAAyHFAAAAAAABAckAAAAAAALhyQAAAAAAAMHNAAAAAAACoc0AAAAAAACB0QAAAAAAAmHRAAAAAAAAQdUAAAAAAAIh1QAAAAAAAAHZAAAAAAAB4dkAAAAAAAPB2QAAAAAAAaHdAAAAAAADgd0AAAAAAAFh4QAAAAAAA0HhAAAAAAABQeUAAAAAAAJB5QA==\",\"dtype\":\"float64\",\"shape\":[50]},\"top\":{\"__ndarray__\":\"ooSs+nnO7j92Pj4a2J7uP0KZIzMrq+4/QlN6ie+q7j+GkuOZW4/uP3/GR9L+f+4/LJSyxcud7j9wZr2xrp3uP8RXixL6le4/xFeLEvqV7j9rX1yN+pvuP8RXixL6le4/ohIhiyaw7j9ugK78Q+zuP26ArvxD7O4/iYkZhoTd7j8854hQTcXuP5AIifcs9O4/zS9YrGcX7z/uw+ER8/zuP2tTMz7j8u4/xEKCTdDX7j/EQoJN0NfuP3ZXYqFu7e4/yZu/U0nQ7j+btt3VO+fuP5BKdiCCEO8/HL5OHaIF7z/fOtKS/xbvP5BKdiCCEO8/HL5OHaIF7z8cvk4dogXvPxy+Th2iBe8/3zrSkv8W7z8MZNPuMzTvP9860pL/Fu8/3zrSkv8W7z9x/49AKibvP9860pL/Fu8/3zrSkv8W7z/fOtKS/xbvP9860pL/Fu8/3zrSkv8W7z/fOtKS/xbvP6yXP4M/Qu8/rJc/gz9C7z+slz+DP0LvP6yXP4M/Qu8/WDpLAfdR7z9YOksB91HvPw==\",\"dtype\":\"float64\",\"shape\":[50]}}},\"id\":\"5c37bff5-07bb-4770-9a79-f99ff4aa7c35\",\"type\":\"ColumnDataSource\"},{\"attributes\":{\"callback\":null,\"column_names\":[\"x\",\"y\"],\"data\":{\"x\":[40,48,55,63,70,78,85,93,100,108,116,123,131,138,146,153,161,168,176,183,191,198,206,213,221,228,236,243,251,258,266,273,281,288,296,303,311,318,326,333,341,348,356,363,371,378,386,393,401,409],\"y\":{\"__ndarray__\":\"U3JPFiuv7T+YHDLNlMDtP1W3qiPJ0u0/kK91cy7T7T9Tck8WK6/tP5bX1r/2nO0/FnqExsWu7T9Tck8WK6/tP9ZZWCqY5O0/1llYKpjk7T9Vt6ojydLtP9ZZWCqY5O0/WPwFMWf27T/WWVgqmOTtP9ZZWCqY5O0/k/TQgMz27T/WWVgqmOTtP1CPSdcACe4/lTksjmoa7j+VOSyOahruPxbc2ZQ5LO4/FZd+h5sI7j8Vl36HmwjuP9Ix993PGu4/WPwFMWf27T8Vl36HmwjuP47MbzQELe4/Dm8dO9M+7j+QEctBolDuP47MbzQELe4/Dm8dO9M+7j8Obx070z7uPw5vHTvTPu4/kBHLQaJQ7j/OTvGepXTuP5ARy0GiUO4/kBHLQaJQ7j9NrEOY1mLuP5ARy0GiUO4/kBHLQaJQ7j+QEctBolDuP5ARy0GiUO4/kBHLQaJQ7j+QEctBolDuP5ARy0GiUO4/kBHLQaJQ7j+QEctBolDuP5ARy0GiUO4/TaxDmNZi7j9NrEOY1mLuPw==\",\"dtype\":\"float64\",\"shape\":[50]}}},\"id\":\"b01fd06d-55ea-47d3-9ad0-f6c5554ef0db\",\"type\":\"ColumnDataSource\"}],\"root_ids\":[\"dfdac2c2-95df-4f33-93ec-1ffe1e7ea663\"]},\"title\":\"Bokeh Application\",\"version\":\"0.12.6dev3\"}};\n",
       "            var render_items = [{\"docid\":\"a7c2220b-ec07-47ea-a613-379e91fc6232\",\"elementid\":\"4e4d50b1-a9ae-4ffc-8807-6147c29806c1\",\"modelid\":\"dfdac2c2-95df-4f33-93ec-1ffe1e7ea663\"}];\n",
       "            \n",
       "            Bokeh.embed.embed_items(docs_json, render_items);\n",
       "          };\n",
       "          if (document.readyState != \"loading\") fn();\n",
       "          else document.addEventListener(\"DOMContentLoaded\", fn);\n",
       "        })();\n",
       "      },\n",
       "      function(Bokeh) {\n",
       "      }\n",
       "    ];\n",
       "  \n",
       "    function run_inline_js() {\n",
       "      \n",
       "      if ((window.Bokeh !== undefined) || (force === true)) {\n",
       "        for (var i = 0; i < inline_js.length; i++) {\n",
       "          inline_js[i](window.Bokeh);\n",
       "        }if (force === true) {\n",
       "          display_loaded();\n",
       "        }} else if (Date.now() < window._bokeh_timeout) {\n",
       "        setTimeout(run_inline_js, 100);\n",
       "      } else if (!window._bokeh_failed_load) {\n",
       "        console.log(\"Bokeh: BokehJS failed to load within specified timeout.\");\n",
       "        window._bokeh_failed_load = true;\n",
       "      } else if (force !== true) {\n",
       "        var cell = $(document.getElementById(\"4e4d50b1-a9ae-4ffc-8807-6147c29806c1\")).parents('.cell').data().cell;\n",
       "        cell.output_area.append_execute_result(NB_LOAD_WARNING)\n",
       "      }\n",
       "  \n",
       "    }\n",
       "  \n",
       "    if (window._bokeh_is_loading === 0) {\n",
       "      console.log(\"Bokeh: BokehJS loaded, going straight to plotting\");\n",
       "      run_inline_js();\n",
       "    } else {\n",
       "      load_libs(js_urls, function() {\n",
       "        console.log(\"Bokeh: BokehJS plotting callback run at\", now());\n",
       "        run_inline_js();\n",
       "      });\n",
       "    }\n",
       "  }(this));\n",
       "</script>"
      ]
     },
     "metadata": {},
     "output_type": "display_data"
    }
   ],
   "source": [
    "p = bokeh.plotting.figure(width=500, height=300,\n",
    "                          x_range=list(train_sizes[[0, -1]]),\n",
    "                          y_range=[.80, 1], \n",
    "                          x_axis_label='Number of training samples',\n",
    "                          y_axis_label='Accuracy')\n",
    "\n",
    "left = train_sizes.astype(np.float)\n",
    "left[1:] -= np.diff(train_sizes)/2\n",
    "right = train_sizes.astype(np.float)\n",
    "right[:-1] += np.diff(train_sizes)/2\n",
    "\n",
    "p.quad(left=left, right=right, \n",
    "       bottom=train_mean-train_std, \n",
    "       top=train_mean+train_std, \n",
    "       alpha=0.2, color=palette[0])\n",
    "p.line(train_sizes, train_mean, color=palette[0], legend='training accuracy')\n",
    "\n",
    "p.quad(left=left, right=right, \n",
    "       bottom=test_mean-test_std, \n",
    "       top=test_mean+test_std, \n",
    "       alpha=0.2, color=palette[1])\n",
    "p.line(train_sizes, test_mean, color=palette[1], line_dash='dashed', legend='x-validation accuracy')\n",
    "\n",
    "p.legend.location = 'bottom_right'\n",
    "\n",
    "bokeh.plotting.show(p)"
   ]
  },
  {
   "cell_type": "markdown",
   "metadata": {},
   "source": [
    "This seems to have reasonable consistency between the training and cross-validation accuracy curves, but we should be able to increase the accuracy by using more of the features.  rather than using the top 2 PCA components, lets now try applying the L2 penalty to our logistic regression and generate a new learning curve."
   ]
  },
  {
   "cell_type": "code",
   "execution_count": 25,
   "metadata": {
    "collapsed": true
   },
   "outputs": [],
   "source": [
    "lr_pipe1 = sklearn.pipeline.Pipeline([\n",
    "    ('scl', sklearn.preprocessing.StandardScaler()),\n",
    "    ('clf', sklearn.linear_model.LogisticRegression(\n",
    "        penalty='l2', random_state=rs)),\n",
    "])"
   ]
  },
  {
   "cell_type": "code",
   "execution_count": 26,
   "metadata": {
    "collapsed": true
   },
   "outputs": [],
   "source": [
    "train_sizes, train_scores, test_scores = sklearn.model_selection.learning_curve(\n",
    "    estimator=lr_pipe1, X=X_train, y=y_train, train_sizes=np.linspace(0.1, 1, 50),\n",
    "    cv=10, n_jobs=-1)"
   ]
  },
  {
   "cell_type": "code",
   "execution_count": 27,
   "metadata": {
    "collapsed": true
   },
   "outputs": [],
   "source": [
    "train_mean = train_scores.mean(axis=1)\n",
    "train_std = train_scores.std(axis=1)\n",
    "\n",
    "test_mean = test_scores.mean(axis=1)\n",
    "test_std = test_scores.std(axis=1)"
   ]
  },
  {
   "cell_type": "code",
   "execution_count": 28,
   "metadata": {
    "collapsed": false
   },
   "outputs": [
    {
     "data": {
      "text/html": [
       "\n",
       "\n",
       "    <div class=\"bk-root\">\n",
       "        <div class=\"bk-plotdiv\" id=\"0047c516-ae8c-4f6b-95ef-84d04d1a2c04\"></div>\n",
       "    </div>\n",
       "<script type=\"text/javascript\">\n",
       "  \n",
       "  (function(global) {\n",
       "    function now() {\n",
       "      return new Date();\n",
       "    }\n",
       "  \n",
       "    var force = false;\n",
       "  \n",
       "    if (typeof (window._bokeh_onload_callbacks) === \"undefined\" || force === true) {\n",
       "      window._bokeh_onload_callbacks = [];\n",
       "      window._bokeh_is_loading = undefined;\n",
       "    }\n",
       "  \n",
       "  \n",
       "    \n",
       "    if (typeof (window._bokeh_timeout) === \"undefined\" || force === true) {\n",
       "      window._bokeh_timeout = Date.now() + 0;\n",
       "      window._bokeh_failed_load = false;\n",
       "    }\n",
       "  \n",
       "    var NB_LOAD_WARNING = {'data': {'text/html':\n",
       "       \"<div style='background-color: #fdd'>\\n\"+\n",
       "       \"<p>\\n\"+\n",
       "       \"BokehJS does not appear to have successfully loaded. If loading BokehJS from CDN, this \\n\"+\n",
       "       \"may be due to a slow or bad network connection. Possible fixes:\\n\"+\n",
       "       \"</p>\\n\"+\n",
       "       \"<ul>\\n\"+\n",
       "       \"<li>re-rerun `output_notebook()` to attempt to load from CDN again, or</li>\\n\"+\n",
       "       \"<li>use INLINE resources instead, as so:</li>\\n\"+\n",
       "       \"</ul>\\n\"+\n",
       "       \"<code>\\n\"+\n",
       "       \"from bokeh.resources import INLINE\\n\"+\n",
       "       \"output_notebook(resources=INLINE)\\n\"+\n",
       "       \"</code>\\n\"+\n",
       "       \"</div>\"}};\n",
       "  \n",
       "    function display_loaded() {\n",
       "      if (window.Bokeh !== undefined) {\n",
       "        var el = document.getElementById(\"0047c516-ae8c-4f6b-95ef-84d04d1a2c04\");\n",
       "        el.textContent = \"BokehJS \" + Bokeh.version + \" successfully loaded.\";\n",
       "      } else if (Date.now() < window._bokeh_timeout) {\n",
       "        setTimeout(display_loaded, 100)\n",
       "      }\n",
       "    }\n",
       "  \n",
       "    function run_callbacks() {\n",
       "      window._bokeh_onload_callbacks.forEach(function(callback) { callback() });\n",
       "      delete window._bokeh_onload_callbacks\n",
       "      console.info(\"Bokeh: all callbacks have finished\");\n",
       "    }\n",
       "  \n",
       "    function load_libs(js_urls, callback) {\n",
       "      window._bokeh_onload_callbacks.push(callback);\n",
       "      if (window._bokeh_is_loading > 0) {\n",
       "        console.log(\"Bokeh: BokehJS is being loaded, scheduling callback at\", now());\n",
       "        return null;\n",
       "      }\n",
       "      if (js_urls == null || js_urls.length === 0) {\n",
       "        run_callbacks();\n",
       "        return null;\n",
       "      }\n",
       "      console.log(\"Bokeh: BokehJS not loaded, scheduling load and callback at\", now());\n",
       "      window._bokeh_is_loading = js_urls.length;\n",
       "      for (var i = 0; i < js_urls.length; i++) {\n",
       "        var url = js_urls[i];\n",
       "        var s = document.createElement('script');\n",
       "        s.src = url;\n",
       "        s.async = false;\n",
       "        s.onreadystatechange = s.onload = function() {\n",
       "          window._bokeh_is_loading--;\n",
       "          if (window._bokeh_is_loading === 0) {\n",
       "            console.log(\"Bokeh: all BokehJS libraries loaded\");\n",
       "            run_callbacks()\n",
       "          }\n",
       "        };\n",
       "        s.onerror = function() {\n",
       "          console.warn(\"failed to load library \" + url);\n",
       "        };\n",
       "        console.log(\"Bokeh: injecting script tag for BokehJS library: \", url);\n",
       "        document.getElementsByTagName(\"head\")[0].appendChild(s);\n",
       "      }\n",
       "    };var element = document.getElementById(\"0047c516-ae8c-4f6b-95ef-84d04d1a2c04\");\n",
       "    if (element == null) {\n",
       "      console.log(\"Bokeh: ERROR: autoload.js configured with elementid '0047c516-ae8c-4f6b-95ef-84d04d1a2c04' but no matching script tag was found. \")\n",
       "      return false;\n",
       "    }\n",
       "  \n",
       "    var js_urls = [];\n",
       "  \n",
       "    var inline_js = [\n",
       "      function(Bokeh) {\n",
       "        (function() {\n",
       "          var fn = function() {\n",
       "            var docs_json = {\"59a8b1c8-ae9b-4707-ad76-7e3bb8abaf21\":{\"roots\":{\"references\":[{\"attributes\":{\"bottom_units\":\"screen\",\"fill_alpha\":{\"value\":0.5},\"fill_color\":{\"value\":\"lightgrey\"},\"left_units\":\"screen\",\"level\":\"overlay\",\"line_alpha\":{\"value\":1.0},\"line_color\":{\"value\":\"black\"},\"line_dash\":[4,4],\"line_width\":{\"value\":2},\"plot\":null,\"render_mode\":\"css\",\"right_units\":\"screen\",\"top_units\":\"screen\"},\"id\":\"646271ea-73f2-4d10-a191-0000b310e8b7\",\"type\":\"BoxAnnotation\"},{\"attributes\":{\"dimension\":1,\"plot\":{\"id\":\"8c44dfff-cc1f-4caf-8329-130d0ebaba40\",\"subtype\":\"Figure\",\"type\":\"Plot\"},\"ticker\":{\"id\":\"f92f0f97-981b-4425-a49f-7a71f1374283\",\"type\":\"BasicTicker\"}},\"id\":\"fb184340-571d-4d01-b4ba-0505e8c322ec\",\"type\":\"Grid\"},{\"attributes\":{},\"id\":\"f92f0f97-981b-4425-a49f-7a71f1374283\",\"type\":\"BasicTicker\"},{\"attributes\":{\"plot\":{\"id\":\"8c44dfff-cc1f-4caf-8329-130d0ebaba40\",\"subtype\":\"Figure\",\"type\":\"Plot\"}},\"id\":\"c2bda8cf-6a31-4022-bdac-fbfa89cd48c5\",\"type\":\"HelpTool\"},{\"attributes\":{\"plot\":null,\"text\":\"\"},\"id\":\"cd68b2ee-8375-4acb-b60e-7a4e3689fcae\",\"type\":\"Title\"},{\"attributes\":{\"line_alpha\":{\"value\":0.1},\"line_color\":{\"value\":\"#1f77b4\"},\"line_dash\":[6],\"x\":{\"field\":\"x\"},\"y\":{\"field\":\"y\"}},\"id\":\"7fd389e0-d5ff-4e6b-b38b-0f4b7ada16e1\",\"type\":\"Line\"},{\"attributes\":{\"callback\":null,\"column_names\":[\"x\",\"y\"],\"data\":{\"x\":[40,48,55,63,70,78,85,93,100,108,116,123,131,138,146,153,161,168,176,183,191,198,206,213,221,228,236,243,251,258,266,273,281,288,296,303,311,318,326,333,341,348,356,363,371,378,386,393,401,409],\"y\":{\"__ndarray__\":\"RuF6FK5H7z9mZmZmZmbvP3ovn/fyee8/sPiKr/iK7z8FE/2drJbvPxh6oRd6oe8/qg923EKp7z+wjwv7uLDvP9rO91Pjpe8/yDpXHpCs7z8VtPpSQavvP7jPa/u8tu8/kxqEcvW07z/9dUnlw7jvP8v7XSKrvO8/wL+/v7+/7z9oBYOUaaTvP1Z8xVd8xe8/q33D2jes7z9NQoFGbK/vP+NEjUPMsu8/tW9Y+4a17z+ilfFea7jvP40qt5bFuu8/IEe9H0e97z+7u7u7u7vvP2rcLiYMvu8/PqbVdjS57z8leFUbdrvvP1Wi+04luu8/9XtuiVO/7z/g+73f+73vPw1udFXHwu8/chzHcRzH7z8yvDgPHcPvP00iXyeFxO8/AxpW1wzG7z+VAmgHS7XvP1Pqyqajue8/i/ucg6i47z+z/zH7H7PvPxMluzZRsu8/Ow2dGxC07z9Gvv1vCrrvP/tlo6CMu+8/zXtnItG87z8CpWqWNb7vP2X94xILt+8/LsdIrn+47z+dTSS25bnvPw==\",\"dtype\":\"float64\",\"shape\":[50]}}},\"id\":\"22b94d08-175b-499b-ac02-fd07899c2a61\",\"type\":\"ColumnDataSource\"},{\"attributes\":{\"bottom\":{\"field\":\"bottom\"},\"fill_alpha\":{\"value\":0.1},\"fill_color\":{\"value\":\"#1f77b4\"},\"left\":{\"field\":\"left\"},\"line_alpha\":{\"value\":0.1},\"line_color\":{\"value\":\"#1f77b4\"},\"right\":{\"field\":\"right\"},\"top\":{\"field\":\"top\"}},\"id\":\"732a4aee-5bc7-465d-9efd-5f0ad8e79699\",\"type\":\"Quad\"},{\"attributes\":{\"callback\":null,\"column_names\":[\"x\",\"y\"],\"data\":{\"x\":[40,48,55,63,70,78,85,93,100,108,116,123,131,138,146,153,161,168,176,183,191,198,206,213,221,228,236,243,251,258,266,273,281,288,296,303,311,318,326,333,341,348,356,363,371,378,386,393,401,409],\"y\":{\"__ndarray__\":\"kBHLQaJQ7j+IBmS2r+DuP8tr6197zu4/y2vrX3vO7j+SuHsdtPHuP9D1oXq3Fe8/TlP0c+gD7z/WHQPHf9/uPxAWzhbl3+4/k7h7HbTx7j+QcyAQFs7uPxNbKSSDA+8/E1spJIMD7z8VoIQxISfvP9I6/YdVOe8/DTPI17o57z8NM8jXujnvP1CYT4GGJ+8/EHgj5Vhd7z/SOv2HVTnvP9I6/YdVOe8/UJhPgYYn7z9QmE+BhifvP1CYT4GGJ+8/0jr9h1U57z/Q9aF6txXvP9D1oXq3Fe8/jZAa0esn7z+NkBrR6yfvPw0zyNe6Oe8/DTPI17o57z+GaLmEI17vP4ZouYQjXu8/ys1ALu9L7z+GaLmEI17vPwbGC35UTO8/BsYLflRM7z+GI153hTrvPwOBsHC2KO8/hSNed4U67z+FI153hTrvP4UjXneFOu8/BsYLflRM7z8Gxgt+VEzvPwbGC35UTO8/BsYLflRM7z8Gxgt+VEzvP8AbKcfqOu8/wBspx+o67z/AGynH6jrvPw==\",\"dtype\":\"float64\",\"shape\":[50]}}},\"id\":\"d38cebea-6d82-4abd-90ae-23c58957b978\",\"type\":\"ColumnDataSource\"},{\"attributes\":{\"data_source\":{\"id\":\"05aa863a-2c54-4d92-8474-d3a1508d5011\",\"type\":\"ColumnDataSource\"},\"glyph\":{\"id\":\"1d57a64d-ab8a-4314-9a51-161a6b43c102\",\"type\":\"Quad\"},\"hover_glyph\":null,\"muted_glyph\":null,\"nonselection_glyph\":{\"id\":\"732a4aee-5bc7-465d-9efd-5f0ad8e79699\",\"type\":\"Quad\"},\"selection_glyph\":null},\"id\":\"30b8becb-726e-4f46-b761-c8bdd05fe3e4\",\"type\":\"GlyphRenderer\"},{\"attributes\":{\"bottom\":{\"field\":\"bottom\"},\"fill_alpha\":{\"value\":0.1},\"fill_color\":{\"value\":\"#1f77b4\"},\"left\":{\"field\":\"left\"},\"line_alpha\":{\"value\":0.1},\"line_color\":{\"value\":\"#1f77b4\"},\"right\":{\"field\":\"right\"},\"top\":{\"field\":\"top\"}},\"id\":\"51cac1a1-041e-4a9f-86ea-ebb0a0a3100c\",\"type\":\"Quad\"},{\"attributes\":{\"axis_label\":\"Accuracy\",\"formatter\":{\"id\":\"5cd742a2-1d68-485a-80ba-4b363433e351\",\"type\":\"BasicTickFormatter\"},\"plot\":{\"id\":\"8c44dfff-cc1f-4caf-8329-130d0ebaba40\",\"subtype\":\"Figure\",\"type\":\"Plot\"},\"ticker\":{\"id\":\"f92f0f97-981b-4425-a49f-7a71f1374283\",\"type\":\"BasicTicker\"}},\"id\":\"16a6bc48-026f-46fc-a346-d1aab36cee3b\",\"type\":\"LinearAxis\"},{\"attributes\":{\"line_color\":{\"value\":\"#1f77b4\"},\"x\":{\"field\":\"x\"},\"y\":{\"field\":\"y\"}},\"id\":\"aad9f7e7-5af4-4700-9455-c6e5cbc2f13f\",\"type\":\"Line\"},{\"attributes\":{\"data_source\":{\"id\":\"2504811c-04c3-48ff-bdbf-03accba24c59\",\"type\":\"ColumnDataSource\"},\"glyph\":{\"id\":\"dded7962-6e5e-40bf-b26c-a46a0d6169e4\",\"type\":\"Quad\"},\"hover_glyph\":null,\"muted_glyph\":null,\"nonselection_glyph\":{\"id\":\"51cac1a1-041e-4a9f-86ea-ebb0a0a3100c\",\"type\":\"Quad\"},\"selection_glyph\":null},\"id\":\"1dc0be83-9196-4cfc-b39a-c7abec9a0a91\",\"type\":\"GlyphRenderer\"},{\"attributes\":{\"callback\":null,\"column_names\":[\"left\",\"right\",\"top\",\"bottom\"],\"data\":{\"bottom\":{\"__ndarray__\":\"kzCW52k67T9GiM7O4yruPyFVcewJG+4/IVVx7Akb7j+RzKdFcCjuP2TuCoexc+4/kKMHoAVN7j+xZaBdu03uP/7ylCnQTu4/CZsvzyVf7j/F320l1CvuP3jbbnLBOu4/eNtucsE67j9vPcevOnXuPy38WaLbou4/4/kVLR+77j+j8kLqRZDuP2txTQInd+4/bi3FqxLe7j+/mZSOqbnuP7+ZlI6pue4/jbIHu8yf7j+Nsge7zJ/uP42yB7vMn+4/v5mUjqm57j9tqiLYPqHuP22qItg+oe4/3owqFjG77j/ejCoWMbvuP+P5FS0fu+4/4/kVLR+77j/8KDPaGeDuP/woM9oZ4O4/kFvBdOy/7j/8KDPaGeDuPwsPzlFs2u4/Cw/OUWza7j97FieG7rzuP4oZV+bkjO4/ehYnhu687j96FieG7rzuP3oWJ4buvO4/Cw/OUWza7j8LD85RbNruPwsPzlFs2u4/Cw/OUWza7j8LD85RbNruP3Pk+Gsep+4/c+T4ax6n7j9z5PhrHqfuPw==\",\"dtype\":\"float64\",\"shape\":[50]},\"left\":{\"__ndarray__\":\"AAAAAAAAREAAAAAAAABGQAAAAAAAwElAAAAAAACATUAAAAAAAKBQQAAAAAAAgFJAAAAAAABgVEAAAAAAAEBWQAAAAAAAIFhAAAAAAAAAWkAAAAAAAABcQAAAAAAA4F1AAAAAAADAX0AAAAAAANBgQAAAAAAAwGFAAAAAAACwYkAAAAAAAKBjQAAAAAAAkGRAAAAAAACAZUAAAAAAAHBmQAAAAAAAYGdAAAAAAABQaEAAAAAAAEBpQAAAAAAAMGpAAAAAAAAga0AAAAAAABBsQAAAAAAAAG1AAAAAAADwbUAAAAAAAOBuQAAAAAAA0G9AAAAAAABgcEAAAAAAANhwQAAAAAAAUHFAAAAAAADIcUAAAAAAAEByQAAAAAAAuHJAAAAAAAAwc0AAAAAAAKhzQAAAAAAAIHRAAAAAAACYdEAAAAAAABB1QAAAAAAAiHVAAAAAAAAAdkAAAAAAAHh2QAAAAAAA8HZAAAAAAABod0AAAAAAAOB3QAAAAAAAWHhAAAAAAADQeEAAAAAAAFB5QA==\",\"dtype\":\"float64\",\"shape\":[50]},\"right\":{\"__ndarray__\":\"AAAAAAAARkAAAAAAAMBJQAAAAAAAgE1AAAAAAACgUEAAAAAAAIBSQAAAAAAAYFRAAAAAAABAVkAAAAAAACBYQAAAAAAAAFpAAAAAAAAAXEAAAAAAAOBdQAAAAAAAwF9AAAAAAADQYEAAAAAAAMBhQAAAAAAAsGJAAAAAAACgY0AAAAAAAJBkQAAAAAAAgGVAAAAAAABwZkAAAAAAAGBnQAAAAAAAUGhAAAAAAABAaUAAAAAAADBqQAAAAAAAIGtAAAAAAAAQbEAAAAAAAABtQAAAAAAA8G1AAAAAAADgbkAAAAAAANBvQAAAAAAAYHBAAAAAAADYcEAAAAAAAFBxQAAAAAAAyHFAAAAAAABAckAAAAAAALhyQAAAAAAAMHNAAAAAAACoc0AAAAAAACB0QAAAAAAAmHRAAAAAAAAQdUAAAAAAAIh1QAAAAAAAAHZAAAAAAAB4dkAAAAAAAPB2QAAAAAAAaHdAAAAAAADgd0AAAAAAAFh4QAAAAAAA0HhAAAAAAABQeUAAAAAAAJB5QA==\",\"dtype\":\"float64\",\"shape\":[50]},\"top\":{\"__ndarray__\":\"jfL/m9pm7z/KhPmde5bvP3WCZdPsge8/dYJl0+yB7z+TpE/197rvPzz9OG69t+8/DAPhR8u67z/71WUwRHHvPyI5BwT6cO8/HdbHa0KE7z9bB9P6V3DvP67a49VEzO8/rtrj1UTM7z+7AkKzB9nvP3d5oG3Pz+8/N2x6gla47z93c03FL+PvPzW/UQDm1+8/ssKBHp/c7z/l22WBAbnvP+XbZYEBue8/E36XR0Cv7z8TfpdHQK/vPxN+l0dAr+8/5dtlgQG57z8zQSEdMIrvPzNBIR0wiu8/PJQKjKaU7z88lAqMppTvPzdseoJWuO8/N2x6gla47z8QqD8vLdzvPxCoPy8t3O8/BEDA5/HX7z8QqD8vLdzvPwF9Sao8vu8/AX1Jqjy+7z+RMJVoHLjvP3zoCfuHxO8/kDCVaBy47z+QMJVoHLjvP5AwlWgcuO8/AX1Jqjy+7z8BfUmqPL7vPwF9Sao8vu8/AX1Jqjy+7z8BfUmqPL7vPw1TWSK3zu8/DVNZIrfO7z8NU1kit87vPw==\",\"dtype\":\"float64\",\"shape\":[50]}}},\"id\":\"2504811c-04c3-48ff-bdbf-03accba24c59\",\"type\":\"ColumnDataSource\"},{\"attributes\":{\"items\":[{\"id\":\"68274c58-c2cb-40c8-8983-53432290e914\",\"type\":\"LegendItem\"},{\"id\":\"70bab16e-d86e-46b6-9a3a-62ca9b310a1d\",\"type\":\"LegendItem\"}],\"location\":\"bottom_right\",\"plot\":{\"id\":\"8c44dfff-cc1f-4caf-8329-130d0ebaba40\",\"subtype\":\"Figure\",\"type\":\"Plot\"}},\"id\":\"12bffbd6-ab74-42c0-b07c-30879749d277\",\"type\":\"Legend\"},{\"attributes\":{\"bottom\":{\"field\":\"bottom\"},\"fill_alpha\":{\"value\":0.2},\"fill_color\":{\"value\":\"#1f77b4\"},\"left\":{\"field\":\"left\"},\"line_alpha\":{\"value\":0.2},\"line_color\":{\"value\":\"#1f77b4\"},\"right\":{\"field\":\"right\"},\"top\":{\"field\":\"top\"}},\"id\":\"1d57a64d-ab8a-4314-9a51-161a6b43c102\",\"type\":\"Quad\"},{\"attributes\":{\"label\":{\"value\":\"validation accuracy\"},\"renderers\":[{\"id\":\"71af62a1-7c48-41b7-bc2d-49d4f8662cac\",\"type\":\"GlyphRenderer\"}]},\"id\":\"70bab16e-d86e-46b6-9a3a-62ca9b310a1d\",\"type\":\"LegendItem\"},{\"attributes\":{\"active_drag\":\"auto\",\"active_inspect\":\"auto\",\"active_scroll\":\"auto\",\"active_tap\":\"auto\",\"tools\":[{\"id\":\"6036b423-1a63-498e-9776-4ed876ce9a50\",\"type\":\"PanTool\"},{\"id\":\"0920dcca-9ed4-474c-a729-fbe0fb9bc7ab\",\"type\":\"WheelZoomTool\"},{\"id\":\"0f8618b3-933e-432a-b308-f47f2645ba91\",\"type\":\"BoxZoomTool\"},{\"id\":\"613c12b2-1ed3-40b1-a8e7-844078afcc7e\",\"type\":\"SaveTool\"},{\"id\":\"f7b7ffac-a8f2-41cd-a8da-171e939a8601\",\"type\":\"ResetTool\"},{\"id\":\"c2bda8cf-6a31-4022-bdac-fbfa89cd48c5\",\"type\":\"HelpTool\"}]},\"id\":\"8b72bc7d-91a3-4575-93f8-039a506ff4ee\",\"type\":\"Toolbar\"},{\"attributes\":{\"plot\":{\"id\":\"8c44dfff-cc1f-4caf-8329-130d0ebaba40\",\"subtype\":\"Figure\",\"type\":\"Plot\"}},\"id\":\"613c12b2-1ed3-40b1-a8e7-844078afcc7e\",\"type\":\"SaveTool\"},{\"attributes\":{\"label\":{\"value\":\"training accuracy\"},\"renderers\":[{\"id\":\"ed82ad0c-6d18-4676-8f20-b170db966243\",\"type\":\"GlyphRenderer\"}]},\"id\":\"68274c58-c2cb-40c8-8983-53432290e914\",\"type\":\"LegendItem\"},{\"attributes\":{\"data_source\":{\"id\":\"d38cebea-6d82-4abd-90ae-23c58957b978\",\"type\":\"ColumnDataSource\"},\"glyph\":{\"id\":\"6b84ba4b-33e3-4848-af15-70e0b1ef504f\",\"type\":\"Line\"},\"hover_glyph\":null,\"muted_glyph\":null,\"nonselection_glyph\":{\"id\":\"7fd389e0-d5ff-4e6b-b38b-0f4b7ada16e1\",\"type\":\"Line\"},\"selection_glyph\":null},\"id\":\"71af62a1-7c48-41b7-bc2d-49d4f8662cac\",\"type\":\"GlyphRenderer\"},{\"attributes\":{\"callback\":null,\"start\":0.8},\"id\":\"f0720d0c-65fe-4ff4-805f-0faf8752e5fb\",\"type\":\"Range1d\"},{\"attributes\":{\"plot\":{\"id\":\"8c44dfff-cc1f-4caf-8329-130d0ebaba40\",\"subtype\":\"Figure\",\"type\":\"Plot\"}},\"id\":\"6036b423-1a63-498e-9776-4ed876ce9a50\",\"type\":\"PanTool\"},{\"attributes\":{\"plot\":{\"id\":\"8c44dfff-cc1f-4caf-8329-130d0ebaba40\",\"subtype\":\"Figure\",\"type\":\"Plot\"}},\"id\":\"0920dcca-9ed4-474c-a729-fbe0fb9bc7ab\",\"type\":\"WheelZoomTool\"},{\"attributes\":{\"overlay\":{\"id\":\"646271ea-73f2-4d10-a191-0000b310e8b7\",\"type\":\"BoxAnnotation\"},\"plot\":{\"id\":\"8c44dfff-cc1f-4caf-8329-130d0ebaba40\",\"subtype\":\"Figure\",\"type\":\"Plot\"}},\"id\":\"0f8618b3-933e-432a-b308-f47f2645ba91\",\"type\":\"BoxZoomTool\"},{\"attributes\":{},\"id\":\"5cd742a2-1d68-485a-80ba-4b363433e351\",\"type\":\"BasicTickFormatter\"},{\"attributes\":{\"below\":[{\"id\":\"0a8db93a-2892-4125-b2ee-56d55b1b46ad\",\"type\":\"LinearAxis\"}],\"left\":[{\"id\":\"16a6bc48-026f-46fc-a346-d1aab36cee3b\",\"type\":\"LinearAxis\"}],\"plot_height\":300,\"plot_width\":500,\"renderers\":[{\"id\":\"0a8db93a-2892-4125-b2ee-56d55b1b46ad\",\"type\":\"LinearAxis\"},{\"id\":\"450e2a7e-4317-4ee7-bc97-e5c9c6791245\",\"type\":\"Grid\"},{\"id\":\"16a6bc48-026f-46fc-a346-d1aab36cee3b\",\"type\":\"LinearAxis\"},{\"id\":\"fb184340-571d-4d01-b4ba-0505e8c322ec\",\"type\":\"Grid\"},{\"id\":\"646271ea-73f2-4d10-a191-0000b310e8b7\",\"type\":\"BoxAnnotation\"},{\"id\":\"30b8becb-726e-4f46-b761-c8bdd05fe3e4\",\"type\":\"GlyphRenderer\"},{\"id\":\"12bffbd6-ab74-42c0-b07c-30879749d277\",\"type\":\"Legend\"},{\"id\":\"ed82ad0c-6d18-4676-8f20-b170db966243\",\"type\":\"GlyphRenderer\"},{\"id\":\"1dc0be83-9196-4cfc-b39a-c7abec9a0a91\",\"type\":\"GlyphRenderer\"},{\"id\":\"71af62a1-7c48-41b7-bc2d-49d4f8662cac\",\"type\":\"GlyphRenderer\"}],\"title\":{\"id\":\"cd68b2ee-8375-4acb-b60e-7a4e3689fcae\",\"type\":\"Title\"},\"tool_events\":{\"id\":\"9f8865f3-0bb2-47df-a9df-a7b0e4b4b4c3\",\"type\":\"ToolEvents\"},\"toolbar\":{\"id\":\"8b72bc7d-91a3-4575-93f8-039a506ff4ee\",\"type\":\"Toolbar\"},\"x_range\":{\"id\":\"1c506455-70bc-4a5b-a81f-c440dce80095\",\"type\":\"Range1d\"},\"y_range\":{\"id\":\"f0720d0c-65fe-4ff4-805f-0faf8752e5fb\",\"type\":\"Range1d\"}},\"id\":\"8c44dfff-cc1f-4caf-8329-130d0ebaba40\",\"subtype\":\"Figure\",\"type\":\"Plot\"},{\"attributes\":{\"callback\":null,\"column_names\":[\"left\",\"right\",\"top\",\"bottom\"],\"data\":{\"bottom\":{\"__ndarray__\":\"CNejcD0K7z8zMzMzMzPvP00/1PRDTe8/QPZjP/Zj7z8HxKbSkHPvPyD4gR/4ge8/jb/yJVmM7z+Wv2T5S5bvP1tkO99Pje8/XHlAss6V7z8c8PjDAY/vP6QfLPrBou8/xHgF7vGb7z/8R7cxBaHvP2T6J4M5pu8/AFWq/1Sq7z/UlLxDD5DvPx77sR/7se8/mZmZmZmZ7z+XNCxWhJ3vP8A3kFKkoe8/T/qkT/qk7z8bRSc7g6jvP48XbkZjq+8/YHOuX3Ou7z/h55lwYqjvP4JZkMNaq+8/R1A9Yxev7z8G9/OMq7HvPx/X+uhxre8/YfvrUxa27z8g+7Ef+7HvP1iiqWEIuu8/chzHcRzH7z+BO/0RC7jvP3LL5KK0ue8/MvAfioO77z8y8WmVkK3vP2XT0dyPqu8/rq/mEWmr7z+pP5j6g6nvPwrw4Z2Hp+8/Ope0kYSp7z9uyAVBRbPvP0oGEY6or+8/Eb/9biWx7z81p9jOx7LvP0+PBPGerO8/fpoux0iu7z/iRJISdqzvPw==\",\"dtype\":\"float64\",\"shape\":[50]},\"left\":{\"__ndarray__\":\"AAAAAAAAREAAAAAAAABGQAAAAAAAwElAAAAAAACATUAAAAAAAKBQQAAAAAAAgFJAAAAAAABgVEAAAAAAAEBWQAAAAAAAIFhAAAAAAAAAWkAAAAAAAABcQAAAAAAA4F1AAAAAAADAX0AAAAAAANBgQAAAAAAAwGFAAAAAAACwYkAAAAAAAKBjQAAAAAAAkGRAAAAAAACAZUAAAAAAAHBmQAAAAAAAYGdAAAAAAABQaEAAAAAAAEBpQAAAAAAAMGpAAAAAAAAga0AAAAAAABBsQAAAAAAAAG1AAAAAAADwbUAAAAAAAOBuQAAAAAAA0G9AAAAAAABgcEAAAAAAANhwQAAAAAAAUHFAAAAAAADIcUAAAAAAAEByQAAAAAAAuHJAAAAAAAAwc0AAAAAAAKhzQAAAAAAAIHRAAAAAAACYdEAAAAAAABB1QAAAAAAAiHVAAAAAAAAAdkAAAAAAAHh2QAAAAAAA8HZAAAAAAABod0AAAAAAAOB3QAAAAAAAWHhAAAAAAADQeEAAAAAAAFB5QA==\",\"dtype\":\"float64\",\"shape\":[50]},\"right\":{\"__ndarray__\":\"AAAAAAAARkAAAAAAAMBJQAAAAAAAgE1AAAAAAACgUEAAAAAAAIBSQAAAAAAAYFRAAAAAAABAVkAAAAAAACBYQAAAAAAAAFpAAAAAAAAAXEAAAAAAAOBdQAAAAAAAwF9AAAAAAADQYEAAAAAAAMBhQAAAAAAAsGJAAAAAAACgY0AAAAAAAJBkQAAAAAAAgGVAAAAAAABwZkAAAAAAAGBnQAAAAAAAUGhAAAAAAABAaUAAAAAAADBqQAAAAAAAIGtAAAAAAAAQbEAAAAAAAABtQAAAAAAA8G1AAAAAAADgbkAAAAAAANBvQAAAAAAAYHBAAAAAAADYcEAAAAAAAFBxQAAAAAAAyHFAAAAAAABAckAAAAAAALhyQAAAAAAAMHNAAAAAAACoc0AAAAAAACB0QAAAAAAAmHRAAAAAAAAQdUAAAAAAAIh1QAAAAAAAAHZAAAAAAAB4dkAAAAAAAPB2QAAAAAAAaHdAAAAAAADgd0AAAAAAAFh4QAAAAAAA0HhAAAAAAABQeUAAAAAAAJB5QA==\",\"dtype\":\"float64\",\"shape\":[50]},\"top\":{\"__ndarray__\":\"hOtRuB6F7z+ZmZmZmZnvP6cfavqhpu8/IPuxH/ux7z8DYlNpyLnvPxD8wA/8wO8/x1/5kizG7z/KX7L8JcvvP1k5tMh2vu8/NPxtilHD7z8OePzhgMfvP8x/q/y3yu8/YrwC9/jN7z/+o9uYgtDvPzL9k8Ec0+8/gCrVfyrV7z/8dUnlw7jvP4792I/92O8/vWHtG9a+7z8DUNY2VMHvPwZSijT0w+8/G+ULpxPG7z8p5ruCU8jvP4s9AOcnyu8/4BrM3xrM7z+Vj90GFc/vP1JfzYi90O8/NfxtilHD7z9E+bapQMXvP4tt/LTYxu8/ifzwvpDI7z+g/Mmf/MnvP8I5P0mGy+8/chzHcRzH7z/jPHQML87vPyh52atVz+8/1EOMJJbQ7z/4E2Z5Bb3vP0EBxHC3yO8/aEdT9efF7z+9v8v7u7zvPxxalM8ave8/PIOFpZu+7z8etPWez8DvP6zFNbNwx+8/iTjR1XzI7z/Povxdo8nvP3trwzR3we8/3vNilbbC7z9YVrZZVcfvPw==\",\"dtype\":\"float64\",\"shape\":[50]}}},\"id\":\"05aa863a-2c54-4d92-8474-d3a1508d5011\",\"type\":\"ColumnDataSource\"},{\"attributes\":{\"plot\":{\"id\":\"8c44dfff-cc1f-4caf-8329-130d0ebaba40\",\"subtype\":\"Figure\",\"type\":\"Plot\"}},\"id\":\"f7b7ffac-a8f2-41cd-a8da-171e939a8601\",\"type\":\"ResetTool\"},{\"attributes\":{\"line_alpha\":{\"value\":0.1},\"line_color\":{\"value\":\"#1f77b4\"},\"x\":{\"field\":\"x\"},\"y\":{\"field\":\"y\"}},\"id\":\"88399364-5036-419f-9fb3-38bb32f2c685\",\"type\":\"Line\"},{\"attributes\":{\"data_source\":{\"id\":\"22b94d08-175b-499b-ac02-fd07899c2a61\",\"type\":\"ColumnDataSource\"},\"glyph\":{\"id\":\"aad9f7e7-5af4-4700-9455-c6e5cbc2f13f\",\"type\":\"Line\"},\"hover_glyph\":null,\"muted_glyph\":null,\"nonselection_glyph\":{\"id\":\"88399364-5036-419f-9fb3-38bb32f2c685\",\"type\":\"Line\"},\"selection_glyph\":null},\"id\":\"ed82ad0c-6d18-4676-8f20-b170db966243\",\"type\":\"GlyphRenderer\"},{\"attributes\":{},\"id\":\"9f8865f3-0bb2-47df-a9df-a7b0e4b4b4c3\",\"type\":\"ToolEvents\"},{\"attributes\":{},\"id\":\"f24aeebb-d80b-44f8-8fe9-8e92631c2ba4\",\"type\":\"BasicTicker\"},{\"attributes\":{\"axis_label\":\"Number of training samples\",\"formatter\":{\"id\":\"0f61ea87-05eb-487f-8739-8fece009e049\",\"type\":\"BasicTickFormatter\"},\"plot\":{\"id\":\"8c44dfff-cc1f-4caf-8329-130d0ebaba40\",\"subtype\":\"Figure\",\"type\":\"Plot\"},\"ticker\":{\"id\":\"f24aeebb-d80b-44f8-8fe9-8e92631c2ba4\",\"type\":\"BasicTicker\"}},\"id\":\"0a8db93a-2892-4125-b2ee-56d55b1b46ad\",\"type\":\"LinearAxis\"},{\"attributes\":{\"callback\":null,\"end\":409,\"start\":40},\"id\":\"1c506455-70bc-4a5b-a81f-c440dce80095\",\"type\":\"Range1d\"},{\"attributes\":{\"plot\":{\"id\":\"8c44dfff-cc1f-4caf-8329-130d0ebaba40\",\"subtype\":\"Figure\",\"type\":\"Plot\"},\"ticker\":{\"id\":\"f24aeebb-d80b-44f8-8fe9-8e92631c2ba4\",\"type\":\"BasicTicker\"}},\"id\":\"450e2a7e-4317-4ee7-bc97-e5c9c6791245\",\"type\":\"Grid\"},{\"attributes\":{},\"id\":\"0f61ea87-05eb-487f-8739-8fece009e049\",\"type\":\"BasicTickFormatter\"},{\"attributes\":{\"line_color\":{\"value\":\"#ff7f0e\"},\"line_dash\":[6],\"x\":{\"field\":\"x\"},\"y\":{\"field\":\"y\"}},\"id\":\"6b84ba4b-33e3-4848-af15-70e0b1ef504f\",\"type\":\"Line\"},{\"attributes\":{\"bottom\":{\"field\":\"bottom\"},\"fill_alpha\":{\"value\":0.2},\"fill_color\":{\"value\":\"#ff7f0e\"},\"left\":{\"field\":\"left\"},\"line_alpha\":{\"value\":0.2},\"line_color\":{\"value\":\"#ff7f0e\"},\"right\":{\"field\":\"right\"},\"top\":{\"field\":\"top\"}},\"id\":\"dded7962-6e5e-40bf-b26c-a46a0d6169e4\",\"type\":\"Quad\"}],\"root_ids\":[\"8c44dfff-cc1f-4caf-8329-130d0ebaba40\"]},\"title\":\"Bokeh Application\",\"version\":\"0.12.6dev3\"}};\n",
       "            var render_items = [{\"docid\":\"59a8b1c8-ae9b-4707-ad76-7e3bb8abaf21\",\"elementid\":\"0047c516-ae8c-4f6b-95ef-84d04d1a2c04\",\"modelid\":\"8c44dfff-cc1f-4caf-8329-130d0ebaba40\"}];\n",
       "            \n",
       "            Bokeh.embed.embed_items(docs_json, render_items);\n",
       "          };\n",
       "          if (document.readyState != \"loading\") fn();\n",
       "          else document.addEventListener(\"DOMContentLoaded\", fn);\n",
       "        })();\n",
       "      },\n",
       "      function(Bokeh) {\n",
       "      }\n",
       "    ];\n",
       "  \n",
       "    function run_inline_js() {\n",
       "      \n",
       "      if ((window.Bokeh !== undefined) || (force === true)) {\n",
       "        for (var i = 0; i < inline_js.length; i++) {\n",
       "          inline_js[i](window.Bokeh);\n",
       "        }if (force === true) {\n",
       "          display_loaded();\n",
       "        }} else if (Date.now() < window._bokeh_timeout) {\n",
       "        setTimeout(run_inline_js, 100);\n",
       "      } else if (!window._bokeh_failed_load) {\n",
       "        console.log(\"Bokeh: BokehJS failed to load within specified timeout.\");\n",
       "        window._bokeh_failed_load = true;\n",
       "      } else if (force !== true) {\n",
       "        var cell = $(document.getElementById(\"0047c516-ae8c-4f6b-95ef-84d04d1a2c04\")).parents('.cell').data().cell;\n",
       "        cell.output_area.append_execute_result(NB_LOAD_WARNING)\n",
       "      }\n",
       "  \n",
       "    }\n",
       "  \n",
       "    if (window._bokeh_is_loading === 0) {\n",
       "      console.log(\"Bokeh: BokehJS loaded, going straight to plotting\");\n",
       "      run_inline_js();\n",
       "    } else {\n",
       "      load_libs(js_urls, function() {\n",
       "        console.log(\"Bokeh: BokehJS plotting callback run at\", now());\n",
       "        run_inline_js();\n",
       "      });\n",
       "    }\n",
       "  }(this));\n",
       "</script>"
      ]
     },
     "metadata": {},
     "output_type": "display_data"
    }
   ],
   "source": [
    "p = bokeh.plotting.figure(width=500, height=300,\n",
    "                          x_range=list(train_sizes[[0, -1]]),\n",
    "                          y_range=[.80, 1], \n",
    "                          x_axis_label='Number of training samples',\n",
    "                          y_axis_label='Accuracy')\n",
    "\n",
    "left = train_sizes.astype(np.float)\n",
    "left[1:] -= np.diff(train_sizes)/2\n",
    "right = train_sizes.astype(np.float)\n",
    "right[:-1] += np.diff(train_sizes)/2\n",
    "\n",
    "p.quad(left=left, right=right, \n",
    "       bottom=train_mean-train_std, \n",
    "       top=train_mean+train_std, \n",
    "       alpha=0.2, color=palette[0])\n",
    "p.line(train_sizes, train_mean, color=palette[0], legend='training accuracy')\n",
    "\n",
    "p.quad(left=left, right=right, \n",
    "       bottom=test_mean-test_std, \n",
    "       top=test_mean+test_std, \n",
    "       alpha=0.2, color=palette[1])\n",
    "p.line(train_sizes, test_mean, color=palette[1], line_dash='dashed', legend='validation accuracy')\n",
    "\n",
    "p.legend.location = 'bottom_right'\n",
    "\n",
    "bokeh.plotting.show(p)"
   ]
  },
  {
   "cell_type": "markdown",
   "metadata": {},
   "source": [
    "# Validation Curves\n",
    "\n",
    "Now lets analyze the accuracy as we vary the model parameters.  Validation curves provide a valuable way to tune model hyperparameters, model parameters that are independent of the training parameters.  For the logistic regression, lets vary the inverse regularization parameter, C (`clf__C`), first for the 2-component PCA pipeline, then for the pipeline applying the L2 penalty."
   ]
  },
  {
   "cell_type": "code",
   "execution_count": 29,
   "metadata": {
    "collapsed": false
   },
   "outputs": [],
   "source": [
    "n_points = 15\n",
    "param_range = np.logspace(-3, 2, n_points)\n",
    "train_scores, test_scores = sklearn.model_selection.validation_curve(\n",
    "    estimator=lr_pipe0, X=X_train, y=y_train, param_name='clf__C', param_range=param_range,\n",
    "    cv=10, n_jobs=-1)"
   ]
  },
  {
   "cell_type": "code",
   "execution_count": 30,
   "metadata": {
    "collapsed": true
   },
   "outputs": [],
   "source": [
    "train_mean = train_scores.mean(axis=1)\n",
    "train_std = train_scores.std(axis=1)\n",
    "\n",
    "test_mean = test_scores.mean(axis=1)\n",
    "test_std = test_scores.std(axis=1)"
   ]
  },
  {
   "cell_type": "code",
   "execution_count": 31,
   "metadata": {
    "collapsed": false
   },
   "outputs": [
    {
     "data": {
      "text/html": [
       "\n",
       "\n",
       "    <div class=\"bk-root\">\n",
       "        <div class=\"bk-plotdiv\" id=\"7647aa23-0a63-4096-8c02-b78f6828d55f\"></div>\n",
       "    </div>\n",
       "<script type=\"text/javascript\">\n",
       "  \n",
       "  (function(global) {\n",
       "    function now() {\n",
       "      return new Date();\n",
       "    }\n",
       "  \n",
       "    var force = false;\n",
       "  \n",
       "    if (typeof (window._bokeh_onload_callbacks) === \"undefined\" || force === true) {\n",
       "      window._bokeh_onload_callbacks = [];\n",
       "      window._bokeh_is_loading = undefined;\n",
       "    }\n",
       "  \n",
       "  \n",
       "    \n",
       "    if (typeof (window._bokeh_timeout) === \"undefined\" || force === true) {\n",
       "      window._bokeh_timeout = Date.now() + 0;\n",
       "      window._bokeh_failed_load = false;\n",
       "    }\n",
       "  \n",
       "    var NB_LOAD_WARNING = {'data': {'text/html':\n",
       "       \"<div style='background-color: #fdd'>\\n\"+\n",
       "       \"<p>\\n\"+\n",
       "       \"BokehJS does not appear to have successfully loaded. If loading BokehJS from CDN, this \\n\"+\n",
       "       \"may be due to a slow or bad network connection. Possible fixes:\\n\"+\n",
       "       \"</p>\\n\"+\n",
       "       \"<ul>\\n\"+\n",
       "       \"<li>re-rerun `output_notebook()` to attempt to load from CDN again, or</li>\\n\"+\n",
       "       \"<li>use INLINE resources instead, as so:</li>\\n\"+\n",
       "       \"</ul>\\n\"+\n",
       "       \"<code>\\n\"+\n",
       "       \"from bokeh.resources import INLINE\\n\"+\n",
       "       \"output_notebook(resources=INLINE)\\n\"+\n",
       "       \"</code>\\n\"+\n",
       "       \"</div>\"}};\n",
       "  \n",
       "    function display_loaded() {\n",
       "      if (window.Bokeh !== undefined) {\n",
       "        var el = document.getElementById(\"7647aa23-0a63-4096-8c02-b78f6828d55f\");\n",
       "        el.textContent = \"BokehJS \" + Bokeh.version + \" successfully loaded.\";\n",
       "      } else if (Date.now() < window._bokeh_timeout) {\n",
       "        setTimeout(display_loaded, 100)\n",
       "      }\n",
       "    }\n",
       "  \n",
       "    function run_callbacks() {\n",
       "      window._bokeh_onload_callbacks.forEach(function(callback) { callback() });\n",
       "      delete window._bokeh_onload_callbacks\n",
       "      console.info(\"Bokeh: all callbacks have finished\");\n",
       "    }\n",
       "  \n",
       "    function load_libs(js_urls, callback) {\n",
       "      window._bokeh_onload_callbacks.push(callback);\n",
       "      if (window._bokeh_is_loading > 0) {\n",
       "        console.log(\"Bokeh: BokehJS is being loaded, scheduling callback at\", now());\n",
       "        return null;\n",
       "      }\n",
       "      if (js_urls == null || js_urls.length === 0) {\n",
       "        run_callbacks();\n",
       "        return null;\n",
       "      }\n",
       "      console.log(\"Bokeh: BokehJS not loaded, scheduling load and callback at\", now());\n",
       "      window._bokeh_is_loading = js_urls.length;\n",
       "      for (var i = 0; i < js_urls.length; i++) {\n",
       "        var url = js_urls[i];\n",
       "        var s = document.createElement('script');\n",
       "        s.src = url;\n",
       "        s.async = false;\n",
       "        s.onreadystatechange = s.onload = function() {\n",
       "          window._bokeh_is_loading--;\n",
       "          if (window._bokeh_is_loading === 0) {\n",
       "            console.log(\"Bokeh: all BokehJS libraries loaded\");\n",
       "            run_callbacks()\n",
       "          }\n",
       "        };\n",
       "        s.onerror = function() {\n",
       "          console.warn(\"failed to load library \" + url);\n",
       "        };\n",
       "        console.log(\"Bokeh: injecting script tag for BokehJS library: \", url);\n",
       "        document.getElementsByTagName(\"head\")[0].appendChild(s);\n",
       "      }\n",
       "    };var element = document.getElementById(\"7647aa23-0a63-4096-8c02-b78f6828d55f\");\n",
       "    if (element == null) {\n",
       "      console.log(\"Bokeh: ERROR: autoload.js configured with elementid '7647aa23-0a63-4096-8c02-b78f6828d55f' but no matching script tag was found. \")\n",
       "      return false;\n",
       "    }\n",
       "  \n",
       "    var js_urls = [];\n",
       "  \n",
       "    var inline_js = [\n",
       "      function(Bokeh) {\n",
       "        (function() {\n",
       "          var fn = function() {\n",
       "            var docs_json = {\"83d980dc-72f3-41ca-8737-e8e9fd96be88\":{\"roots\":{\"references\":[{\"attributes\":{\"plot\":{\"id\":\"b5ea9db2-edb4-407e-ae61-4a2818b6c2cc\",\"subtype\":\"Figure\",\"type\":\"Plot\"}},\"id\":\"08d5c6bd-1dc2-44e7-b943-a2ec1a9c31bc\",\"type\":\"SaveTool\"},{\"attributes\":{\"line_alpha\":{\"value\":0.1},\"line_color\":{\"value\":\"#1f77b4\"},\"line_dash\":[6],\"x\":{\"field\":\"x\"},\"y\":{\"field\":\"y\"}},\"id\":\"34b19488-2869-4764-9918-55c0f5ef0b2d\",\"type\":\"Line\"},{\"attributes\":{\"line_color\":{\"value\":\"#ff7f0e\"},\"line_dash\":[6],\"x\":{\"field\":\"x\"},\"y\":{\"field\":\"y\"}},\"id\":\"5ac353a4-18f9-4507-8321-0e9b848125af\",\"type\":\"Line\"},{\"attributes\":{\"label\":{\"value\":\"validation accuracy\"},\"renderers\":[{\"id\":\"4ba86350-5b83-4d06-b8e2-f66b1a06b098\",\"type\":\"GlyphRenderer\"}]},\"id\":\"f02c8b1d-bb92-46e6-be3e-7143b2a51ec0\",\"type\":\"LegendItem\"},{\"attributes\":{\"bottom\":{\"field\":\"bottom\"},\"fill_alpha\":{\"value\":0.1},\"fill_color\":{\"value\":\"#1f77b4\"},\"left\":{\"field\":\"left\"},\"line_alpha\":{\"value\":0.1},\"line_color\":{\"value\":\"#1f77b4\"},\"right\":{\"field\":\"right\"},\"top\":{\"field\":\"top\"}},\"id\":\"77c509fa-9eca-42b0-a0a0-6e58335e81de\",\"type\":\"Quad\"},{\"attributes\":{\"plot\":{\"id\":\"b5ea9db2-edb4-407e-ae61-4a2818b6c2cc\",\"subtype\":\"Figure\",\"type\":\"Plot\"}},\"id\":\"422d140f-a27e-4833-82b2-0a3341441e29\",\"type\":\"ResetTool\"},{\"attributes\":{\"data_source\":{\"id\":\"add24f20-8811-4404-97d0-cc106fef958e\",\"type\":\"ColumnDataSource\"},\"glyph\":{\"id\":\"d914b142-d9a5-4579-8843-2179529c790f\",\"type\":\"Quad\"},\"hover_glyph\":null,\"muted_glyph\":null,\"nonselection_glyph\":{\"id\":\"77c509fa-9eca-42b0-a0a0-6e58335e81de\",\"type\":\"Quad\"},\"selection_glyph\":null},\"id\":\"d6ed343e-80cb-4583-8e30-bf2c3cc850ac\",\"type\":\"GlyphRenderer\"},{\"attributes\":{\"bottom\":{\"field\":\"bottom\"},\"fill_alpha\":{\"value\":0.1},\"fill_color\":{\"value\":\"#1f77b4\"},\"left\":{\"field\":\"left\"},\"line_alpha\":{\"value\":0.1},\"line_color\":{\"value\":\"#1f77b4\"},\"right\":{\"field\":\"right\"},\"top\":{\"field\":\"top\"}},\"id\":\"ad35d9ea-4997-4490-b931-04d56d8b07c5\",\"type\":\"Quad\"},{\"attributes\":{\"line_color\":{\"value\":\"#1f77b4\"},\"x\":{\"field\":\"x\"},\"y\":{\"field\":\"y\"}},\"id\":\"989eda34-662d-4962-9938-34a304451c9b\",\"type\":\"Line\"},{\"attributes\":{\"ticker\":null},\"id\":\"6eae9cbe-d1d8-4f01-b88c-6df4c9b9e61f\",\"type\":\"LogTickFormatter\"},{\"attributes\":{\"label\":{\"value\":\"training accuracy\"},\"renderers\":[{\"id\":\"4b44372d-7786-47e9-b62c-99ff78402e1b\",\"type\":\"GlyphRenderer\"}]},\"id\":\"71df2b9a-79d6-4aca-87bc-5abeb087897e\",\"type\":\"LegendItem\"},{\"attributes\":{\"axis_label\":\"Accuracy\",\"formatter\":{\"id\":\"c3c67f22-97bc-42f7-901c-de0392ffabf4\",\"type\":\"BasicTickFormatter\"},\"plot\":{\"id\":\"b5ea9db2-edb4-407e-ae61-4a2818b6c2cc\",\"subtype\":\"Figure\",\"type\":\"Plot\"},\"ticker\":{\"id\":\"d4854727-b3ac-4dce-883f-a1645d87f60b\",\"type\":\"BasicTicker\"}},\"id\":\"53b12df8-740b-4e7c-bfe7-f29874098b7d\",\"type\":\"LinearAxis\"},{\"attributes\":{\"data_source\":{\"id\":\"4004a357-9c9c-46f2-9b0c-5eaccba8d77d\",\"type\":\"ColumnDataSource\"},\"glyph\":{\"id\":\"989eda34-662d-4962-9938-34a304451c9b\",\"type\":\"Line\"},\"hover_glyph\":null,\"muted_glyph\":null,\"nonselection_glyph\":{\"id\":\"fc586bba-d694-4742-ad8c-434b0f6bc097\",\"type\":\"Line\"},\"selection_glyph\":null},\"id\":\"4b44372d-7786-47e9-b62c-99ff78402e1b\",\"type\":\"GlyphRenderer\"},{\"attributes\":{\"active_drag\":\"auto\",\"active_inspect\":\"auto\",\"active_scroll\":\"auto\",\"active_tap\":\"auto\",\"tools\":[{\"id\":\"4bf1188c-c3d4-4662-92d9-66f8b75e7898\",\"type\":\"PanTool\"},{\"id\":\"6c33656e-8135-4b05-8d9c-d7b6633b0a3b\",\"type\":\"WheelZoomTool\"},{\"id\":\"6a5a122d-b091-403a-907b-074d7b021b23\",\"type\":\"BoxZoomTool\"},{\"id\":\"08d5c6bd-1dc2-44e7-b943-a2ec1a9c31bc\",\"type\":\"SaveTool\"},{\"id\":\"422d140f-a27e-4833-82b2-0a3341441e29\",\"type\":\"ResetTool\"},{\"id\":\"960b80eb-0177-4818-879f-5b09a876f8c7\",\"type\":\"HelpTool\"}]},\"id\":\"3d969347-acfb-4c9a-874e-3f25e3a5d028\",\"type\":\"Toolbar\"},{\"attributes\":{\"callback\":null,\"column_names\":[\"left\",\"right\",\"top\",\"bottom\"],\"data\":{\"bottom\":{\"__ndarray__\":\"hhMorR547T+GEyitHnjtP6K/NPqwSO0/QejD8ESK7T8fvwqgSjrtP0How/BEiu0/CCnx8CR87T9DpjW1MaXtP0OmNbUxpe0/Qh48L7Zz7T9CHjwvtnPtP3SLVgAFX+0/dItWAAVf7T90i1YABV/tP3SLVgAFX+0/\",\"dtype\":\"float64\",\"shape\":[15]},\"left\":{\"__ndarray__\":\"/Knx0k1iUD8ns9Bj8tVaP7BP5WJ4iW4/Od/e5tZfgT9ALtZ0TMWTP8Vq/DJef6Y/uQJHkbeZuT8RbfAIoCHNP0UbYfgZk+A/jA31k1Lc8j/U4AxWQnYFQCYZ7ioLbBhA+qu9EFjKK0DeWB5Ok58/QGiRfhES/lFA\",\"dtype\":\"float64\",\"shape\":[15]},\"right\":{\"__ndarray__\":\"J7PQY/LVWj+wT+VieIluPznf3ubWX4E/QC7WdEzFkz/GavwyXn+mP7kCR5G3mbk/EW3wCKAhzT9FG2H4GZPgP4wN9ZNS3PI/1OAMVkJ2BUAmGe4qC2wYQPqrvRBYyitA3lgeTpOfP0BokX4REv5RQAAAAAAAAFlA\",\"dtype\":\"float64\",\"shape\":[15]},\"top\":{\"__ndarray__\":\"loW3u+nh7j+Whbe76eHuP3iUT2G57e4/3zrSkv8W7z+F6T4p8x7vP9860pL/Fu8/juo6Muol7z9Z96yIGUTvP1n3rIgZRO8/WDpLAfdR7z9YOksB91HvP6yXP4M/Qu8/rJc/gz9C7z+slz+DP0LvP6yXP4M/Qu8/\",\"dtype\":\"float64\",\"shape\":[15]}}},\"id\":\"b951e4d9-5b53-43b6-86c8-43e881dea691\",\"type\":\"ColumnDataSource\"},{\"attributes\":{\"overlay\":{\"id\":\"79f67ae0-2d13-405b-8d29-7a62d2481114\",\"type\":\"BoxAnnotation\"},\"plot\":{\"id\":\"b5ea9db2-edb4-407e-ae61-4a2818b6c2cc\",\"subtype\":\"Figure\",\"type\":\"Plot\"}},\"id\":\"6a5a122d-b091-403a-907b-074d7b021b23\",\"type\":\"BoxZoomTool\"},{\"attributes\":{\"bottom\":{\"field\":\"bottom\"},\"fill_alpha\":{\"value\":0.2},\"fill_color\":{\"value\":\"#ff7f0e\"},\"left\":{\"field\":\"left\"},\"line_alpha\":{\"value\":0.2},\"line_color\":{\"value\":\"#ff7f0e\"},\"right\":{\"field\":\"right\"},\"top\":{\"field\":\"top\"}},\"id\":\"c4ae624c-3d2d-4ba4-8ce8-2bf82059ea16\",\"type\":\"Quad\"},{\"attributes\":{},\"id\":\"d4854727-b3ac-4dce-883f-a1645d87f60b\",\"type\":\"BasicTicker\"},{\"attributes\":{\"num_minor_ticks\":10},\"id\":\"5aa97044-0f61-45ed-9f03-3b8cb4a61d87\",\"type\":\"LogTicker\"},{\"attributes\":{},\"id\":\"c3c67f22-97bc-42f7-901c-de0392ffabf4\",\"type\":\"BasicTickFormatter\"},{\"attributes\":{\"callback\":null,\"start\":0.8},\"id\":\"eaa15750-9d7c-4aad-8f75-1472a661fbad\",\"type\":\"Range1d\"},{\"attributes\":{\"plot\":{\"id\":\"b5ea9db2-edb4-407e-ae61-4a2818b6c2cc\",\"subtype\":\"Figure\",\"type\":\"Plot\"}},\"id\":\"6c33656e-8135-4b05-8d9c-d7b6633b0a3b\",\"type\":\"WheelZoomTool\"},{\"attributes\":{\"callback\":null,\"column_names\":[\"x\",\"y\"],\"data\":{\"x\":{\"__ndarray__\":\"/Knx0k1iUD8p3ld6y6RiP5xguaUSN3U/JA7heiQkiD9t1TushnibP9Tq2g95Qq8/BEhQTRnJwT8PSUhiEz3UPwMSnj+qB+c/FhIbCNA0+j+eOAyoHNINQP8K6wCE9yBAeyZIEJZOM0CgRfpFSPhFQAAAAAAAAFlA\",\"dtype\":\"float64\",\"shape\":[15]},\"y\":{\"__ndarray__\":\"U03/juQZ7j9wWy+Q4yfuP9Dzb5PlR+4/C5YgFepT7j9IQLEW713uPyDUkBXsVe4/VkNZV+5l7j+QsiGZ8HXuP7sWYhrzf+4/00QSG/SF7j/eV3pb9InuP95Xelv0ie4/3ld6W/SJ7j/eV3pb9InuP+pywhv1i+4/\",\"dtype\":\"float64\",\"shape\":[15]}}},\"id\":\"4004a357-9c9c-46f2-9b0c-5eaccba8d77d\",\"type\":\"ColumnDataSource\"},{\"attributes\":{\"items\":[{\"id\":\"71df2b9a-79d6-4aca-87bc-5abeb087897e\",\"type\":\"LegendItem\"},{\"id\":\"f02c8b1d-bb92-46e6-be3e-7143b2a51ec0\",\"type\":\"LegendItem\"}],\"location\":\"bottom_right\",\"plot\":{\"id\":\"b5ea9db2-edb4-407e-ae61-4a2818b6c2cc\",\"subtype\":\"Figure\",\"type\":\"Plot\"}},\"id\":\"d4f8b36d-5e6b-42e8-9e26-e6e72163798a\",\"type\":\"Legend\"},{\"attributes\":{\"below\":[{\"id\":\"dd0f070f-fc77-4b30-8d86-ab984d4a46fc\",\"type\":\"LogAxis\"}],\"left\":[{\"id\":\"53b12df8-740b-4e7c-bfe7-f29874098b7d\",\"type\":\"LinearAxis\"}],\"plot_height\":300,\"plot_width\":500,\"renderers\":[{\"id\":\"dd0f070f-fc77-4b30-8d86-ab984d4a46fc\",\"type\":\"LogAxis\"},{\"id\":\"b4420c08-82df-4d43-889d-8b32cd3d490e\",\"type\":\"Grid\"},{\"id\":\"53b12df8-740b-4e7c-bfe7-f29874098b7d\",\"type\":\"LinearAxis\"},{\"id\":\"fc185ae1-83f8-451d-9c53-b8e288bd0b50\",\"type\":\"Grid\"},{\"id\":\"79f67ae0-2d13-405b-8d29-7a62d2481114\",\"type\":\"BoxAnnotation\"},{\"id\":\"d6ed343e-80cb-4583-8e30-bf2c3cc850ac\",\"type\":\"GlyphRenderer\"},{\"id\":\"d4f8b36d-5e6b-42e8-9e26-e6e72163798a\",\"type\":\"Legend\"},{\"id\":\"4b44372d-7786-47e9-b62c-99ff78402e1b\",\"type\":\"GlyphRenderer\"},{\"id\":\"80fb4d39-a5a9-4732-8b6d-d5fa87f4f009\",\"type\":\"GlyphRenderer\"},{\"id\":\"4ba86350-5b83-4d06-b8e2-f66b1a06b098\",\"type\":\"GlyphRenderer\"}],\"title\":{\"id\":\"b913f69e-5e46-44f9-8286-973c457f62bd\",\"type\":\"Title\"},\"tool_events\":{\"id\":\"f7ba47b8-2756-4ec8-b38c-c334c9b0a29d\",\"type\":\"ToolEvents\"},\"toolbar\":{\"id\":\"3d969347-acfb-4c9a-874e-3f25e3a5d028\",\"type\":\"Toolbar\"},\"x_mapper_type\":\"log\",\"x_range\":{\"id\":\"2468a82d-1e50-44bb-85b5-d5bdef074beb\",\"type\":\"Range1d\"},\"y_range\":{\"id\":\"eaa15750-9d7c-4aad-8f75-1472a661fbad\",\"type\":\"Range1d\"}},\"id\":\"b5ea9db2-edb4-407e-ae61-4a2818b6c2cc\",\"subtype\":\"Figure\",\"type\":\"Plot\"},{\"attributes\":{\"dimension\":1,\"plot\":{\"id\":\"b5ea9db2-edb4-407e-ae61-4a2818b6c2cc\",\"subtype\":\"Figure\",\"type\":\"Plot\"},\"ticker\":{\"id\":\"d4854727-b3ac-4dce-883f-a1645d87f60b\",\"type\":\"BasicTicker\"}},\"id\":\"fc185ae1-83f8-451d-9c53-b8e288bd0b50\",\"type\":\"Grid\"},{\"attributes\":{\"data_source\":{\"id\":\"b951e4d9-5b53-43b6-86c8-43e881dea691\",\"type\":\"ColumnDataSource\"},\"glyph\":{\"id\":\"c4ae624c-3d2d-4ba4-8ce8-2bf82059ea16\",\"type\":\"Quad\"},\"hover_glyph\":null,\"muted_glyph\":null,\"nonselection_glyph\":{\"id\":\"ad35d9ea-4997-4490-b931-04d56d8b07c5\",\"type\":\"Quad\"},\"selection_glyph\":null},\"id\":\"80fb4d39-a5a9-4732-8b6d-d5fa87f4f009\",\"type\":\"GlyphRenderer\"},{\"attributes\":{\"axis_label\":\"Parameter C\",\"formatter\":{\"id\":\"6eae9cbe-d1d8-4f01-b88c-6df4c9b9e61f\",\"type\":\"LogTickFormatter\"},\"plot\":{\"id\":\"b5ea9db2-edb4-407e-ae61-4a2818b6c2cc\",\"subtype\":\"Figure\",\"type\":\"Plot\"},\"ticker\":{\"id\":\"5aa97044-0f61-45ed-9f03-3b8cb4a61d87\",\"type\":\"LogTicker\"}},\"id\":\"dd0f070f-fc77-4b30-8d86-ab984d4a46fc\",\"type\":\"LogAxis\"},{\"attributes\":{\"bottom\":{\"field\":\"bottom\"},\"fill_alpha\":{\"value\":0.2},\"fill_color\":{\"value\":\"#1f77b4\"},\"left\":{\"field\":\"left\"},\"line_alpha\":{\"value\":0.2},\"line_color\":{\"value\":\"#1f77b4\"},\"right\":{\"field\":\"right\"},\"top\":{\"field\":\"top\"}},\"id\":\"d914b142-d9a5-4579-8843-2179529c790f\",\"type\":\"Quad\"},{\"attributes\":{\"line_alpha\":{\"value\":0.1},\"line_color\":{\"value\":\"#1f77b4\"},\"x\":{\"field\":\"x\"},\"y\":{\"field\":\"y\"}},\"id\":\"fc586bba-d694-4742-ad8c-434b0f6bc097\",\"type\":\"Line\"},{\"attributes\":{},\"id\":\"f7ba47b8-2756-4ec8-b38c-c334c9b0a29d\",\"type\":\"ToolEvents\"},{\"attributes\":{\"callback\":null,\"column_names\":[\"left\",\"right\",\"top\",\"bottom\"],\"data\":{\"bottom\":{\"__ndarray__\":\"sw8d5xQG7j/oWZYGmhPuP/htXCwfNu4/eKXif6Qz7j+CFer82jTuPwI/hyZHKu4/GbTv1iQ67j+jR2w+jUPuP/VqqOFxT+4/eQRFlE9Y7j994CNAjV3uP33gI0CNXe4/feAjQI1d7j994CNAjV3uP+QzVbisXe4/\",\"dtype\":\"float64\",\"shape\":[15]},\"left\":{\"__ndarray__\":\"/Knx0k1iUD8ns9Bj8tVaP7BP5WJ4iW4/Od/e5tZfgT9ALtZ0TMWTP8Vq/DJef6Y/uQJHkbeZuT8RbfAIoCHNP0UbYfgZk+A/jA31k1Lc8j/U4AxWQnYFQCYZ7ioLbBhA+qu9EFjKK0DeWB5Ok58/QGiRfhES/lFA\",\"dtype\":\"float64\",\"shape\":[15]},\"right\":{\"__ndarray__\":\"J7PQY/LVWj+wT+VieIluPznf3ubWX4E/QC7WdEzFkz/GavwyXn+mP7kCR5G3mbk/EW3wCKAhzT9FG2H4GZPgP4wN9ZNS3PI/1OAMVkJ2BUAmGe4qC2wYQPqrvRBYyitA3lgeTpOfP0BokX4REv5RQAAAAAAAAFlA\",\"dtype\":\"float64\",\"shape\":[15]},\"top\":{\"__ndarray__\":\"84rhNrQt7j/4XMgZLTzuP6h5g/qrWe4/noZeqi907j8Oa3gwA4fuPz5pmgSRge4/k9LC17eR7j99HdfzU6juP4HCG1N0sO4/LYXfoZiz7j8/z9B2W7buPz/P0HZbtu4/P8/Qdlu27j8/z9B2W7buP/CxL389uu4/\",\"dtype\":\"float64\",\"shape\":[15]}}},\"id\":\"add24f20-8811-4404-97d0-cc106fef958e\",\"type\":\"ColumnDataSource\"},{\"attributes\":{\"callback\":null,\"end\":100.0,\"start\":0.001},\"id\":\"2468a82d-1e50-44bb-85b5-d5bdef074beb\",\"type\":\"Range1d\"},{\"attributes\":{\"plot\":null,\"text\":\"\"},\"id\":\"b913f69e-5e46-44f9-8286-973c457f62bd\",\"type\":\"Title\"},{\"attributes\":{\"plot\":{\"id\":\"b5ea9db2-edb4-407e-ae61-4a2818b6c2cc\",\"subtype\":\"Figure\",\"type\":\"Plot\"},\"ticker\":{\"id\":\"5aa97044-0f61-45ed-9f03-3b8cb4a61d87\",\"type\":\"LogTicker\"}},\"id\":\"b4420c08-82df-4d43-889d-8b32cd3d490e\",\"type\":\"Grid\"},{\"attributes\":{\"bottom_units\":\"screen\",\"fill_alpha\":{\"value\":0.5},\"fill_color\":{\"value\":\"lightgrey\"},\"left_units\":\"screen\",\"level\":\"overlay\",\"line_alpha\":{\"value\":1.0},\"line_color\":{\"value\":\"black\"},\"line_dash\":[4,4],\"line_width\":{\"value\":2},\"plot\":null,\"render_mode\":\"css\",\"right_units\":\"screen\",\"top_units\":\"screen\"},\"id\":\"79f67ae0-2d13-405b-8d29-7a62d2481114\",\"type\":\"BoxAnnotation\"},{\"attributes\":{\"data_source\":{\"id\":\"54d7fa15-af5f-4861-a8d0-707cc980eb85\",\"type\":\"ColumnDataSource\"},\"glyph\":{\"id\":\"5ac353a4-18f9-4507-8321-0e9b848125af\",\"type\":\"Line\"},\"hover_glyph\":null,\"muted_glyph\":null,\"nonselection_glyph\":{\"id\":\"34b19488-2869-4764-9918-55c0f5ef0b2d\",\"type\":\"Line\"},\"selection_glyph\":null},\"id\":\"4ba86350-5b83-4d06-b8e2-f66b1a06b098\",\"type\":\"GlyphRenderer\"},{\"attributes\":{\"plot\":{\"id\":\"b5ea9db2-edb4-407e-ae61-4a2818b6c2cc\",\"subtype\":\"Figure\",\"type\":\"Plot\"}},\"id\":\"4bf1188c-c3d4-4662-92d9-66f8b75e7898\",\"type\":\"PanTool\"},{\"attributes\":{\"plot\":{\"id\":\"b5ea9db2-edb4-407e-ae61-4a2818b6c2cc\",\"subtype\":\"Figure\",\"type\":\"Plot\"}},\"id\":\"960b80eb-0177-4818-879f-5b09a876f8c7\",\"type\":\"HelpTool\"},{\"attributes\":{\"callback\":null,\"column_names\":[\"x\",\"y\"],\"data\":{\"x\":{\"__ndarray__\":\"/Knx0k1iUD8p3ld6y6RiP5xguaUSN3U/JA7heiQkiD9t1TushnibP9Tq2g95Qq8/BEhQTRnJwT8PSUhiEz3UPwMSnj+qB+c/FhIbCNA0+j+eOAyoHNINQP8K6wCE9yBAeyZIEJZOM0CgRfpFSPhFQAAAAAAAAFlA\",\"dtype\":\"float64\",\"shape\":[15]},\"y\":{\"__ndarray__\":\"jsxvNAQt7j+OzG80BC3uPw0qwi01G+4/kBHLQaJQ7j9S1KTknizuP5ARy0GiUO4/ywmWkQdR7j/OTvGepXTuP85O8Z6ldO4/TaxDmNZi7j9NrEOY1mLuP5ARy0GiUO4/kBHLQaJQ7j+QEctBolDuP5ARy0GiUO4/\",\"dtype\":\"float64\",\"shape\":[15]}}},\"id\":\"54d7fa15-af5f-4861-a8d0-707cc980eb85\",\"type\":\"ColumnDataSource\"}],\"root_ids\":[\"b5ea9db2-edb4-407e-ae61-4a2818b6c2cc\"]},\"title\":\"Bokeh Application\",\"version\":\"0.12.6dev3\"}};\n",
       "            var render_items = [{\"docid\":\"83d980dc-72f3-41ca-8737-e8e9fd96be88\",\"elementid\":\"7647aa23-0a63-4096-8c02-b78f6828d55f\",\"modelid\":\"b5ea9db2-edb4-407e-ae61-4a2818b6c2cc\"}];\n",
       "            \n",
       "            Bokeh.embed.embed_items(docs_json, render_items);\n",
       "          };\n",
       "          if (document.readyState != \"loading\") fn();\n",
       "          else document.addEventListener(\"DOMContentLoaded\", fn);\n",
       "        })();\n",
       "      },\n",
       "      function(Bokeh) {\n",
       "      }\n",
       "    ];\n",
       "  \n",
       "    function run_inline_js() {\n",
       "      \n",
       "      if ((window.Bokeh !== undefined) || (force === true)) {\n",
       "        for (var i = 0; i < inline_js.length; i++) {\n",
       "          inline_js[i](window.Bokeh);\n",
       "        }if (force === true) {\n",
       "          display_loaded();\n",
       "        }} else if (Date.now() < window._bokeh_timeout) {\n",
       "        setTimeout(run_inline_js, 100);\n",
       "      } else if (!window._bokeh_failed_load) {\n",
       "        console.log(\"Bokeh: BokehJS failed to load within specified timeout.\");\n",
       "        window._bokeh_failed_load = true;\n",
       "      } else if (force !== true) {\n",
       "        var cell = $(document.getElementById(\"7647aa23-0a63-4096-8c02-b78f6828d55f\")).parents('.cell').data().cell;\n",
       "        cell.output_area.append_execute_result(NB_LOAD_WARNING)\n",
       "      }\n",
       "  \n",
       "    }\n",
       "  \n",
       "    if (window._bokeh_is_loading === 0) {\n",
       "      console.log(\"Bokeh: BokehJS loaded, going straight to plotting\");\n",
       "      run_inline_js();\n",
       "    } else {\n",
       "      load_libs(js_urls, function() {\n",
       "        console.log(\"Bokeh: BokehJS plotting callback run at\", now());\n",
       "        run_inline_js();\n",
       "      });\n",
       "    }\n",
       "  }(this));\n",
       "</script>"
      ]
     },
     "metadata": {},
     "output_type": "display_data"
    }
   ],
   "source": [
    "p = bokeh.plotting.figure(width=500, height=300,\n",
    "                          x_range=list(param_range[[0, -1]]),\n",
    "                          y_range=[.80, 1], \n",
    "                          x_axis_label='Parameter C',\n",
    "                          y_axis_label='Accuracy',\n",
    "                          x_axis_type='log',\n",
    "                         )\n",
    "\n",
    "left = param_range.astype(np.float)\n",
    "left[1:] -= np.diff(param_range)/2\n",
    "right = param_range.astype(np.float)\n",
    "right[:-1] += np.diff(param_range)/2\n",
    "\n",
    "p.quad(left=left, right=right, \n",
    "       bottom=train_mean-train_std, \n",
    "       top=train_mean+train_std, \n",
    "       alpha=0.2, color=palette[0])\n",
    "p.line(param_range, train_mean, color=palette[0], legend='training accuracy')\n",
    "\n",
    "p.quad(left=left, right=right, \n",
    "       bottom=test_mean-test_std, \n",
    "       top=test_mean+test_std, \n",
    "       alpha=0.2, color=palette[1])\n",
    "p.line(param_range, test_mean, color=palette[1], line_dash='dashed', legend='validation accuracy')\n",
    "\n",
    "p.legend.location = 'bottom_right'\n",
    "\n",
    "bokeh.plotting.show(p)"
   ]
  },
  {
   "cell_type": "code",
   "execution_count": 32,
   "metadata": {
    "collapsed": false
   },
   "outputs": [
    {
     "data": {
      "text/plain": [
       "0.01"
      ]
     },
     "execution_count": 32,
     "metadata": {},
     "output_type": "execute_result"
    }
   ],
   "source": [
    "10 ** -2 "
   ]
  },
  {
   "cell_type": "markdown",
   "metadata": {},
   "source": [
    "This seems to do reasonably well for the parameter range $.001 < C < 1$."
   ]
  },
  {
   "cell_type": "code",
   "execution_count": 33,
   "metadata": {
    "collapsed": false
   },
   "outputs": [],
   "source": [
    "n_points = 15\n",
    "param_range = np.logspace(-3, 2, n_points)\n",
    "train_scores, test_scores = sklearn.model_selection.validation_curve(\n",
    "    estimator=lr_pipe1, X=X_train, y=y_train, param_name='clf__C', param_range=param_range,\n",
    "    cv=10, n_jobs=-1)"
   ]
  },
  {
   "cell_type": "code",
   "execution_count": 34,
   "metadata": {
    "collapsed": true
   },
   "outputs": [],
   "source": [
    "train_mean = train_scores.mean(axis=1)\n",
    "train_std = train_scores.std(axis=1)\n",
    "\n",
    "test_mean = test_scores.mean(axis=1)\n",
    "test_std = test_scores.std(axis=1)"
   ]
  },
  {
   "cell_type": "code",
   "execution_count": 35,
   "metadata": {
    "collapsed": false
   },
   "outputs": [
    {
     "data": {
      "text/html": [
       "\n",
       "\n",
       "    <div class=\"bk-root\">\n",
       "        <div class=\"bk-plotdiv\" id=\"783027b7-8eab-46db-9950-fc9423fd8717\"></div>\n",
       "    </div>\n",
       "<script type=\"text/javascript\">\n",
       "  \n",
       "  (function(global) {\n",
       "    function now() {\n",
       "      return new Date();\n",
       "    }\n",
       "  \n",
       "    var force = false;\n",
       "  \n",
       "    if (typeof (window._bokeh_onload_callbacks) === \"undefined\" || force === true) {\n",
       "      window._bokeh_onload_callbacks = [];\n",
       "      window._bokeh_is_loading = undefined;\n",
       "    }\n",
       "  \n",
       "  \n",
       "    \n",
       "    if (typeof (window._bokeh_timeout) === \"undefined\" || force === true) {\n",
       "      window._bokeh_timeout = Date.now() + 0;\n",
       "      window._bokeh_failed_load = false;\n",
       "    }\n",
       "  \n",
       "    var NB_LOAD_WARNING = {'data': {'text/html':\n",
       "       \"<div style='background-color: #fdd'>\\n\"+\n",
       "       \"<p>\\n\"+\n",
       "       \"BokehJS does not appear to have successfully loaded. If loading BokehJS from CDN, this \\n\"+\n",
       "       \"may be due to a slow or bad network connection. Possible fixes:\\n\"+\n",
       "       \"</p>\\n\"+\n",
       "       \"<ul>\\n\"+\n",
       "       \"<li>re-rerun `output_notebook()` to attempt to load from CDN again, or</li>\\n\"+\n",
       "       \"<li>use INLINE resources instead, as so:</li>\\n\"+\n",
       "       \"</ul>\\n\"+\n",
       "       \"<code>\\n\"+\n",
       "       \"from bokeh.resources import INLINE\\n\"+\n",
       "       \"output_notebook(resources=INLINE)\\n\"+\n",
       "       \"</code>\\n\"+\n",
       "       \"</div>\"}};\n",
       "  \n",
       "    function display_loaded() {\n",
       "      if (window.Bokeh !== undefined) {\n",
       "        var el = document.getElementById(\"783027b7-8eab-46db-9950-fc9423fd8717\");\n",
       "        el.textContent = \"BokehJS \" + Bokeh.version + \" successfully loaded.\";\n",
       "      } else if (Date.now() < window._bokeh_timeout) {\n",
       "        setTimeout(display_loaded, 100)\n",
       "      }\n",
       "    }\n",
       "  \n",
       "    function run_callbacks() {\n",
       "      window._bokeh_onload_callbacks.forEach(function(callback) { callback() });\n",
       "      delete window._bokeh_onload_callbacks\n",
       "      console.info(\"Bokeh: all callbacks have finished\");\n",
       "    }\n",
       "  \n",
       "    function load_libs(js_urls, callback) {\n",
       "      window._bokeh_onload_callbacks.push(callback);\n",
       "      if (window._bokeh_is_loading > 0) {\n",
       "        console.log(\"Bokeh: BokehJS is being loaded, scheduling callback at\", now());\n",
       "        return null;\n",
       "      }\n",
       "      if (js_urls == null || js_urls.length === 0) {\n",
       "        run_callbacks();\n",
       "        return null;\n",
       "      }\n",
       "      console.log(\"Bokeh: BokehJS not loaded, scheduling load and callback at\", now());\n",
       "      window._bokeh_is_loading = js_urls.length;\n",
       "      for (var i = 0; i < js_urls.length; i++) {\n",
       "        var url = js_urls[i];\n",
       "        var s = document.createElement('script');\n",
       "        s.src = url;\n",
       "        s.async = false;\n",
       "        s.onreadystatechange = s.onload = function() {\n",
       "          window._bokeh_is_loading--;\n",
       "          if (window._bokeh_is_loading === 0) {\n",
       "            console.log(\"Bokeh: all BokehJS libraries loaded\");\n",
       "            run_callbacks()\n",
       "          }\n",
       "        };\n",
       "        s.onerror = function() {\n",
       "          console.warn(\"failed to load library \" + url);\n",
       "        };\n",
       "        console.log(\"Bokeh: injecting script tag for BokehJS library: \", url);\n",
       "        document.getElementsByTagName(\"head\")[0].appendChild(s);\n",
       "      }\n",
       "    };var element = document.getElementById(\"783027b7-8eab-46db-9950-fc9423fd8717\");\n",
       "    if (element == null) {\n",
       "      console.log(\"Bokeh: ERROR: autoload.js configured with elementid '783027b7-8eab-46db-9950-fc9423fd8717' but no matching script tag was found. \")\n",
       "      return false;\n",
       "    }\n",
       "  \n",
       "    var js_urls = [];\n",
       "  \n",
       "    var inline_js = [\n",
       "      function(Bokeh) {\n",
       "        (function() {\n",
       "          var fn = function() {\n",
       "            var docs_json = {\"819c5cba-3a35-40b2-8304-4fd435c6f4d7\":{\"roots\":{\"references\":[{\"attributes\":{\"overlay\":{\"id\":\"5f3ccd2d-0f92-41b6-9906-55e1915a19f1\",\"type\":\"BoxAnnotation\"},\"plot\":{\"id\":\"174b6174-fc8b-4679-9a52-0c2e40e6e7c8\",\"subtype\":\"Figure\",\"type\":\"Plot\"}},\"id\":\"7c5219e6-9072-4c1e-b618-c64bfa738026\",\"type\":\"BoxZoomTool\"},{\"attributes\":{\"data_source\":{\"id\":\"ccba80f1-9447-4c28-bd63-2f3207034ee0\",\"type\":\"ColumnDataSource\"},\"glyph\":{\"id\":\"fbeaa19f-6cd1-4a0e-a0cf-950f939eae48\",\"type\":\"Line\"},\"hover_glyph\":null,\"muted_glyph\":null,\"nonselection_glyph\":{\"id\":\"5f09961f-c85f-4371-b8f4-2d1d17f7b6e5\",\"type\":\"Line\"},\"selection_glyph\":null},\"id\":\"0155b0d1-8ce4-4b5c-8b9a-24b348bc22f2\",\"type\":\"GlyphRenderer\"},{\"attributes\":{\"callback\":null,\"end\":100.0,\"start\":0.001},\"id\":\"bca89160-1741-4e09-b4c6-5a3e1b130066\",\"type\":\"Range1d\"},{\"attributes\":{\"callback\":null,\"column_names\":[\"x\",\"y\"],\"data\":{\"x\":{\"__ndarray__\":\"/Knx0k1iUD8p3ld6y6RiP5xguaUSN3U/JA7heiQkiD9t1TushnibP9Tq2g95Qq8/BEhQTRnJwT8PSUhiEz3UPwMSnj+qB+c/FhIbCNA0+j+eOAyoHNINQP8K6wCE9yBAeyZIEJZOM0CgRfpFSPhFQAAAAAAAAFlA\",\"dtype\":\"float64\",\"shape\":[15]},\"y\":{\"__ndarray__\":\"jsxvNAQt7j+KpA7oO2PuPwUfW6JCq+4/iAZktq/g7j+D3gJq5xbvP8AbKcfqOu8/QwMy21dw7z8AnqoxjILvP4D7/Cq9cO8/QHl7wBsp7z++1s25TBfvP4gGZLav4O4/kHMgEBbO7j+QcyAQFs7uP1I2+rISqu4/\",\"dtype\":\"float64\",\"shape\":[15]}}},\"id\":\"ccba80f1-9447-4c28-bd63-2f3207034ee0\",\"type\":\"ColumnDataSource\"},{\"attributes\":{\"bottom\":{\"field\":\"bottom\"},\"fill_alpha\":{\"value\":0.1},\"fill_color\":{\"value\":\"#1f77b4\"},\"left\":{\"field\":\"left\"},\"line_alpha\":{\"value\":0.1},\"line_color\":{\"value\":\"#1f77b4\"},\"right\":{\"field\":\"right\"},\"top\":{\"field\":\"top\"}},\"id\":\"d2052c21-c143-4056-b5ed-29cb0f38edb3\",\"type\":\"Quad\"},{\"attributes\":{\"bottom\":{\"field\":\"bottom\"},\"fill_alpha\":{\"value\":0.2},\"fill_color\":{\"value\":\"#ff7f0e\"},\"left\":{\"field\":\"left\"},\"line_alpha\":{\"value\":0.2},\"line_color\":{\"value\":\"#ff7f0e\"},\"right\":{\"field\":\"right\"},\"top\":{\"field\":\"top\"}},\"id\":\"0d402ba6-53ba-4aad-b1f5-74e9f1e0167e\",\"type\":\"Quad\"},{\"attributes\":{\"items\":[{\"id\":\"efd4961e-c58d-4da6-b996-3cdf4fad4d33\",\"type\":\"LegendItem\"},{\"id\":\"7ff65e5b-84d8-41bd-abcd-3ab0a7859a47\",\"type\":\"LegendItem\"}],\"location\":\"bottom_right\",\"plot\":{\"id\":\"174b6174-fc8b-4679-9a52-0c2e40e6e7c8\",\"subtype\":\"Figure\",\"type\":\"Plot\"}},\"id\":\"676d06b1-9ced-43ad-8622-975b6f0c4bc3\",\"type\":\"Legend\"},{\"attributes\":{\"line_alpha\":{\"value\":0.1},\"line_color\":{\"value\":\"#1f77b4\"},\"line_dash\":[6],\"x\":{\"field\":\"x\"},\"y\":{\"field\":\"y\"}},\"id\":\"5f09961f-c85f-4371-b8f4-2d1d17f7b6e5\",\"type\":\"Line\"},{\"attributes\":{\"data_source\":{\"id\":\"efdb48b6-e802-4d03-af90-87dd1dad061d\",\"type\":\"ColumnDataSource\"},\"glyph\":{\"id\":\"0d402ba6-53ba-4aad-b1f5-74e9f1e0167e\",\"type\":\"Quad\"},\"hover_glyph\":null,\"muted_glyph\":null,\"nonselection_glyph\":{\"id\":\"6272a21c-4882-40b5-8920-ec8fe47bc401\",\"type\":\"Quad\"},\"selection_glyph\":null},\"id\":\"46a93d6b-76d6-4825-8565-21cc016915ca\",\"type\":\"GlyphRenderer\"},{\"attributes\":{\"bottom_units\":\"screen\",\"fill_alpha\":{\"value\":0.5},\"fill_color\":{\"value\":\"lightgrey\"},\"left_units\":\"screen\",\"level\":\"overlay\",\"line_alpha\":{\"value\":1.0},\"line_color\":{\"value\":\"black\"},\"line_dash\":[4,4],\"line_width\":{\"value\":2},\"plot\":null,\"render_mode\":\"css\",\"right_units\":\"screen\",\"top_units\":\"screen\"},\"id\":\"5f3ccd2d-0f92-41b6-9906-55e1915a19f1\",\"type\":\"BoxAnnotation\"},{\"attributes\":{\"axis_label\":\"Accuracy\",\"formatter\":{\"id\":\"dcf56d4c-74df-48d4-8fbb-ce460d34148c\",\"type\":\"BasicTickFormatter\"},\"plot\":{\"id\":\"174b6174-fc8b-4679-9a52-0c2e40e6e7c8\",\"subtype\":\"Figure\",\"type\":\"Plot\"},\"ticker\":{\"id\":\"5180450f-154f-404e-bab8-8f4a9840815c\",\"type\":\"BasicTicker\"}},\"id\":\"e0609dfa-b372-4655-ac0d-14e5ac2371fa\",\"type\":\"LinearAxis\"},{\"attributes\":{\"below\":[{\"id\":\"c571502a-6cba-48ce-acdf-e7431b9276ca\",\"type\":\"LogAxis\"}],\"left\":[{\"id\":\"e0609dfa-b372-4655-ac0d-14e5ac2371fa\",\"type\":\"LinearAxis\"}],\"plot_height\":300,\"plot_width\":500,\"renderers\":[{\"id\":\"c571502a-6cba-48ce-acdf-e7431b9276ca\",\"type\":\"LogAxis\"},{\"id\":\"72e1f1e7-def8-4a6a-b43c-f026bfd897fd\",\"type\":\"Grid\"},{\"id\":\"e0609dfa-b372-4655-ac0d-14e5ac2371fa\",\"type\":\"LinearAxis\"},{\"id\":\"d269dfa1-bc54-4afe-b9d1-a01617501408\",\"type\":\"Grid\"},{\"id\":\"5f3ccd2d-0f92-41b6-9906-55e1915a19f1\",\"type\":\"BoxAnnotation\"},{\"id\":\"709cd4e8-ef31-4a4f-be77-06dd30eefbe3\",\"type\":\"GlyphRenderer\"},{\"id\":\"676d06b1-9ced-43ad-8622-975b6f0c4bc3\",\"type\":\"Legend\"},{\"id\":\"acd24c17-fff5-46e1-874c-5024e816fdaf\",\"type\":\"GlyphRenderer\"},{\"id\":\"46a93d6b-76d6-4825-8565-21cc016915ca\",\"type\":\"GlyphRenderer\"},{\"id\":\"0155b0d1-8ce4-4b5c-8b9a-24b348bc22f2\",\"type\":\"GlyphRenderer\"}],\"title\":{\"id\":\"b7d95637-a542-4227-90d4-192481375bd7\",\"type\":\"Title\"},\"tool_events\":{\"id\":\"42ee4b13-c37c-47ed-8c39-c4a6214758f9\",\"type\":\"ToolEvents\"},\"toolbar\":{\"id\":\"76aaa255-151d-4313-ac12-f7c2f1d5840f\",\"type\":\"Toolbar\"},\"x_mapper_type\":\"log\",\"x_range\":{\"id\":\"bca89160-1741-4e09-b4c6-5a3e1b130066\",\"type\":\"Range1d\"},\"y_range\":{\"id\":\"abc42138-fc88-4616-8a75-cfb36646176c\",\"type\":\"Range1d\"}},\"id\":\"174b6174-fc8b-4679-9a52-0c2e40e6e7c8\",\"subtype\":\"Figure\",\"type\":\"Plot\"},{\"attributes\":{\"plot\":{\"id\":\"174b6174-fc8b-4679-9a52-0c2e40e6e7c8\",\"subtype\":\"Figure\",\"type\":\"Plot\"}},\"id\":\"c89a4324-b3b1-44a0-aa0d-c505a797f0d8\",\"type\":\"HelpTool\"},{\"attributes\":{\"plot\":{\"id\":\"174b6174-fc8b-4679-9a52-0c2e40e6e7c8\",\"subtype\":\"Figure\",\"type\":\"Plot\"}},\"id\":\"6511f21c-2340-4c1c-9aea-80b70936356f\",\"type\":\"WheelZoomTool\"},{\"attributes\":{\"line_color\":{\"value\":\"#1f77b4\"},\"x\":{\"field\":\"x\"},\"y\":{\"field\":\"y\"}},\"id\":\"57d1147b-640c-493c-8d00-3eba518dda2e\",\"type\":\"Line\"},{\"attributes\":{\"callback\":null,\"column_names\":[\"left\",\"right\",\"top\",\"bottom\"],\"data\":{\"bottom\":{\"__ndarray__\":\"bc131etX7T9ZJDLCIHPtP8ty7grswu0/ZAcVu83t7T9Y3e9FmGPuP3Pk+Gsep+4/t5ZbphQF7z8BIriZIhDvP7HyJY+cBe8/aGfcRNp67j/2AA0/uFPuP0WIzs7jKu4/ZFbJVJgt7j9kVslUmC3uP4tNQrgkFu4/\",\"dtype\":\"float64\",\"shape\":[15]},\"left\":{\"__ndarray__\":\"/Knx0k1iUD8ns9Bj8tVaP7BP5WJ4iW4/Od/e5tZfgT9ALtZ0TMWTP8Vq/DJef6Y/uQJHkbeZuT8RbfAIoCHNP0UbYfgZk+A/jA31k1Lc8j/U4AxWQnYFQCYZ7ioLbBhA+qu9EFjKK0DeWB5Ok58/QGiRfhES/lFA\",\"dtype\":\"float64\",\"shape\":[15]},\"right\":{\"__ndarray__\":\"J7PQY/LVWj+wT+VieIluPznf3ubWX4E/QC7WdEzFkz/GavwyXn+mP7kCR5G3mbk/EW3wCKAhzT9FG2H4GZPgP4wN9ZNS3PI/1OAMVkJ2BUAmGe4qC2wYQPqrvRBYyitA3lgeTpOfP0BokX4REv5RQAAAAAAAAFlA\",\"dtype\":\"float64\",\"shape\":[15]},\"top\":{\"__ndarray__\":\"r8tnkxwC7z+7JOsNV1PvPz/LxzmZk+8/rAWzsZHT7z+u3xWONsrvPw1TWSK3zu8/z28IEJvb7z//GZ3J9fTvP08E1Mbd2+8/GIsaPF3X7z+GrI404drvP8uE+Z17lu8/vJB3y5Nu7z+8kHfLk27vPxkfsq0APu8/\",\"dtype\":\"float64\",\"shape\":[15]}}},\"id\":\"efdb48b6-e802-4d03-af90-87dd1dad061d\",\"type\":\"ColumnDataSource\"},{\"attributes\":{\"ticker\":null},\"id\":\"88bb645f-5e04-4e81-a63e-a2f7b8828727\",\"type\":\"LogTickFormatter\"},{\"attributes\":{\"plot\":{\"id\":\"174b6174-fc8b-4679-9a52-0c2e40e6e7c8\",\"subtype\":\"Figure\",\"type\":\"Plot\"}},\"id\":\"a925e900-3ef3-4d77-85ff-3913b59b3ceb\",\"type\":\"ResetTool\"},{\"attributes\":{\"num_minor_ticks\":10},\"id\":\"49880ddb-8efd-4a5b-a658-e9cc423b882d\",\"type\":\"LogTicker\"},{\"attributes\":{\"bottom\":{\"field\":\"bottom\"},\"fill_alpha\":{\"value\":0.1},\"fill_color\":{\"value\":\"#1f77b4\"},\"left\":{\"field\":\"left\"},\"line_alpha\":{\"value\":0.1},\"line_color\":{\"value\":\"#1f77b4\"},\"right\":{\"field\":\"right\"},\"top\":{\"field\":\"top\"}},\"id\":\"6272a21c-4882-40b5-8920-ec8fe47bc401\",\"type\":\"Quad\"},{\"attributes\":{\"plot\":null,\"text\":\"\"},\"id\":\"b7d95637-a542-4227-90d4-192481375bd7\",\"type\":\"Title\"},{\"attributes\":{},\"id\":\"5180450f-154f-404e-bab8-8f4a9840815c\",\"type\":\"BasicTicker\"},{\"attributes\":{\"line_color\":{\"value\":\"#ff7f0e\"},\"line_dash\":[6],\"x\":{\"field\":\"x\"},\"y\":{\"field\":\"y\"}},\"id\":\"fbeaa19f-6cd1-4a0e-a0cf-950f939eae48\",\"type\":\"Line\"},{\"attributes\":{\"active_drag\":\"auto\",\"active_inspect\":\"auto\",\"active_scroll\":\"auto\",\"active_tap\":\"auto\",\"tools\":[{\"id\":\"979bcb0f-80cf-4a44-b414-40d1c31c7f35\",\"type\":\"PanTool\"},{\"id\":\"6511f21c-2340-4c1c-9aea-80b70936356f\",\"type\":\"WheelZoomTool\"},{\"id\":\"7c5219e6-9072-4c1e-b618-c64bfa738026\",\"type\":\"BoxZoomTool\"},{\"id\":\"6cc28b3b-9aa5-40b4-bb23-847e4aa21426\",\"type\":\"SaveTool\"},{\"id\":\"a925e900-3ef3-4d77-85ff-3913b59b3ceb\",\"type\":\"ResetTool\"},{\"id\":\"c89a4324-b3b1-44a0-aa0d-c505a797f0d8\",\"type\":\"HelpTool\"}]},\"id\":\"76aaa255-151d-4313-ac12-f7c2f1d5840f\",\"type\":\"Toolbar\"},{\"attributes\":{},\"id\":\"dcf56d4c-74df-48d4-8fbb-ce460d34148c\",\"type\":\"BasicTickFormatter\"},{\"attributes\":{\"label\":{\"value\":\"training accuracy\"},\"renderers\":[{\"id\":\"acd24c17-fff5-46e1-874c-5024e816fdaf\",\"type\":\"GlyphRenderer\"}]},\"id\":\"efd4961e-c58d-4da6-b996-3cdf4fad4d33\",\"type\":\"LegendItem\"},{\"attributes\":{\"axis_label\":\"Parameter C\",\"formatter\":{\"id\":\"88bb645f-5e04-4e81-a63e-a2f7b8828727\",\"type\":\"LogTickFormatter\"},\"plot\":{\"id\":\"174b6174-fc8b-4679-9a52-0c2e40e6e7c8\",\"subtype\":\"Figure\",\"type\":\"Plot\"},\"ticker\":{\"id\":\"49880ddb-8efd-4a5b-a658-e9cc423b882d\",\"type\":\"LogTicker\"}},\"id\":\"c571502a-6cba-48ce-acdf-e7431b9276ca\",\"type\":\"LogAxis\"},{\"attributes\":{\"line_alpha\":{\"value\":0.1},\"line_color\":{\"value\":\"#1f77b4\"},\"x\":{\"field\":\"x\"},\"y\":{\"field\":\"y\"}},\"id\":\"af6c4dde-edd8-4180-8c64-184bd0ceb629\",\"type\":\"Line\"},{\"attributes\":{\"bottom\":{\"field\":\"bottom\"},\"fill_alpha\":{\"value\":0.2},\"fill_color\":{\"value\":\"#1f77b4\"},\"left\":{\"field\":\"left\"},\"line_alpha\":{\"value\":0.2},\"line_color\":{\"value\":\"#1f77b4\"},\"right\":{\"field\":\"right\"},\"top\":{\"field\":\"top\"}},\"id\":\"1239a00a-3fcc-4780-b4b1-4d0e4880512f\",\"type\":\"Quad\"},{\"attributes\":{\"dimension\":1,\"plot\":{\"id\":\"174b6174-fc8b-4679-9a52-0c2e40e6e7c8\",\"subtype\":\"Figure\",\"type\":\"Plot\"},\"ticker\":{\"id\":\"5180450f-154f-404e-bab8-8f4a9840815c\",\"type\":\"BasicTicker\"}},\"id\":\"d269dfa1-bc54-4afe-b9d1-a01617501408\",\"type\":\"Grid\"},{\"attributes\":{\"callback\":null,\"start\":0.8},\"id\":\"abc42138-fc88-4616-8a75-cfb36646176c\",\"type\":\"Range1d\"},{\"attributes\":{},\"id\":\"42ee4b13-c37c-47ed-8c39-c4a6214758f9\",\"type\":\"ToolEvents\"},{\"attributes\":{\"callback\":null,\"column_names\":[\"x\",\"y\"],\"data\":{\"x\":{\"__ndarray__\":\"/Knx0k1iUD8p3ld6y6RiP5xguaUSN3U/JA7heiQkiD9t1TushnibP9Tq2g95Qq8/BEhQTRnJwT8PSUhiEz3UPwMSnj+qB+c/FhIbCNA0+j+eOAyoHNINQP8K6wCE9yBAeyZIEJZOM0CgRfpFSPhFQAAAAAAAAFlA\",\"dtype\":\"float64\",\"shape\":[15]},\"y\":{\"__ndarray__\":\"uBBIUug37j/wUkIc85PuP9CR8yP24e4/ZiNs6fQd7z/+94zu9lHvP42ZxbP2ie8/qre1tPaT7z+1yh319pfvPwpIFjj4te8/LYkuefm/7z82pHY5+sHvP07SJjr7x+8/TtImOvvH7z9Dt955+sXvP2MIt7r8y+8/\",\"dtype\":\"float64\",\"shape\":[15]}}},\"id\":\"eff2f834-b2d5-45a7-a259-13f92f987e44\",\"type\":\"ColumnDataSource\"},{\"attributes\":{\"callback\":null,\"column_names\":[\"left\",\"right\",\"top\",\"bottom\"],\"data\":{\"bottom\":{\"__ndarray__\":\"cH9yDFER7j8M2WodE2XuPxW2ZvHnse4/V0FIDf3+7j9dMLLYnzjvP0MN+evlb+8/YRWv4p997z+UVtDvk4DvP8ugOeoWqe8/dy4o7eqz7z/ygepq8rPvP8sOAdyItu8/yw4B3Ii27z/97+z/jq3vP3bgOndur+8/\",\"dtype\":\"float64\",\"shape\":[15]},\"left\":{\"__ndarray__\":\"/Knx0k1iUD8ns9Bj8tVaP7BP5WJ4iW4/Od/e5tZfgT9ALtZ0TMWTP8Vq/DJef6Y/uQJHkbeZuT8RbfAIoCHNP0UbYfgZk+A/jA31k1Lc8j/U4AxWQnYFQCYZ7ioLbBhA+qu9EFjKK0DeWB5Ok58/QGiRfhES/lFA\",\"dtype\":\"float64\",\"shape\":[15]},\"right\":{\"__ndarray__\":\"J7PQY/LVWj+wT+VieIluPznf3ubWX4E/QC7WdEzFkz/GavwyXn+mP7kCR5G3mbk/EW3wCKAhzT9FG2H4GZPgP4wN9ZNS3PI/1OAMVkJ2BUAmGe4qC2wYQPqrvRBYyitA3lgeTpOfP0BokX4REv5RQAAAAAAAAFlA\",\"dtype\":\"float64\",\"shape\":[15]},\"top\":{\"__ndarray__\":\"AKIdmH9e7j/UzBkb08LuP4ttgFYEEu8/dQWQxew87z+fv2cETmvvP9clknsHpO8/81m8hk2q7z/WPmv6Wa/vP0nv8oXZwu8/4+M0BQjM7z96xgIIAtDvP9GVTJht2e8/0ZVMmG3Z7z+JftDzZd7vP1AwM/6K6O8/\",\"dtype\":\"float64\",\"shape\":[15]}}},\"id\":\"813bf034-8b35-4a81-8de0-35d6641cdb73\",\"type\":\"ColumnDataSource\"},{\"attributes\":{\"plot\":{\"id\":\"174b6174-fc8b-4679-9a52-0c2e40e6e7c8\",\"subtype\":\"Figure\",\"type\":\"Plot\"},\"ticker\":{\"id\":\"49880ddb-8efd-4a5b-a658-e9cc423b882d\",\"type\":\"LogTicker\"}},\"id\":\"72e1f1e7-def8-4a6a-b43c-f026bfd897fd\",\"type\":\"Grid\"},{\"attributes\":{\"plot\":{\"id\":\"174b6174-fc8b-4679-9a52-0c2e40e6e7c8\",\"subtype\":\"Figure\",\"type\":\"Plot\"}},\"id\":\"6cc28b3b-9aa5-40b4-bb23-847e4aa21426\",\"type\":\"SaveTool\"},{\"attributes\":{\"data_source\":{\"id\":\"813bf034-8b35-4a81-8de0-35d6641cdb73\",\"type\":\"ColumnDataSource\"},\"glyph\":{\"id\":\"1239a00a-3fcc-4780-b4b1-4d0e4880512f\",\"type\":\"Quad\"},\"hover_glyph\":null,\"muted_glyph\":null,\"nonselection_glyph\":{\"id\":\"d2052c21-c143-4056-b5ed-29cb0f38edb3\",\"type\":\"Quad\"},\"selection_glyph\":null},\"id\":\"709cd4e8-ef31-4a4f-be77-06dd30eefbe3\",\"type\":\"GlyphRenderer\"},{\"attributes\":{\"label\":{\"value\":\"validation accuracy\"},\"renderers\":[{\"id\":\"0155b0d1-8ce4-4b5c-8b9a-24b348bc22f2\",\"type\":\"GlyphRenderer\"}]},\"id\":\"7ff65e5b-84d8-41bd-abcd-3ab0a7859a47\",\"type\":\"LegendItem\"},{\"attributes\":{\"plot\":{\"id\":\"174b6174-fc8b-4679-9a52-0c2e40e6e7c8\",\"subtype\":\"Figure\",\"type\":\"Plot\"}},\"id\":\"979bcb0f-80cf-4a44-b414-40d1c31c7f35\",\"type\":\"PanTool\"},{\"attributes\":{\"data_source\":{\"id\":\"eff2f834-b2d5-45a7-a259-13f92f987e44\",\"type\":\"ColumnDataSource\"},\"glyph\":{\"id\":\"57d1147b-640c-493c-8d00-3eba518dda2e\",\"type\":\"Line\"},\"hover_glyph\":null,\"muted_glyph\":null,\"nonselection_glyph\":{\"id\":\"af6c4dde-edd8-4180-8c64-184bd0ceb629\",\"type\":\"Line\"},\"selection_glyph\":null},\"id\":\"acd24c17-fff5-46e1-874c-5024e816fdaf\",\"type\":\"GlyphRenderer\"}],\"root_ids\":[\"174b6174-fc8b-4679-9a52-0c2e40e6e7c8\"]},\"title\":\"Bokeh Application\",\"version\":\"0.12.6dev3\"}};\n",
       "            var render_items = [{\"docid\":\"819c5cba-3a35-40b2-8304-4fd435c6f4d7\",\"elementid\":\"783027b7-8eab-46db-9950-fc9423fd8717\",\"modelid\":\"174b6174-fc8b-4679-9a52-0c2e40e6e7c8\"}];\n",
       "            \n",
       "            Bokeh.embed.embed_items(docs_json, render_items);\n",
       "          };\n",
       "          if (document.readyState != \"loading\") fn();\n",
       "          else document.addEventListener(\"DOMContentLoaded\", fn);\n",
       "        })();\n",
       "      },\n",
       "      function(Bokeh) {\n",
       "      }\n",
       "    ];\n",
       "  \n",
       "    function run_inline_js() {\n",
       "      \n",
       "      if ((window.Bokeh !== undefined) || (force === true)) {\n",
       "        for (var i = 0; i < inline_js.length; i++) {\n",
       "          inline_js[i](window.Bokeh);\n",
       "        }if (force === true) {\n",
       "          display_loaded();\n",
       "        }} else if (Date.now() < window._bokeh_timeout) {\n",
       "        setTimeout(run_inline_js, 100);\n",
       "      } else if (!window._bokeh_failed_load) {\n",
       "        console.log(\"Bokeh: BokehJS failed to load within specified timeout.\");\n",
       "        window._bokeh_failed_load = true;\n",
       "      } else if (force !== true) {\n",
       "        var cell = $(document.getElementById(\"783027b7-8eab-46db-9950-fc9423fd8717\")).parents('.cell').data().cell;\n",
       "        cell.output_area.append_execute_result(NB_LOAD_WARNING)\n",
       "      }\n",
       "  \n",
       "    }\n",
       "  \n",
       "    if (window._bokeh_is_loading === 0) {\n",
       "      console.log(\"Bokeh: BokehJS loaded, going straight to plotting\");\n",
       "      run_inline_js();\n",
       "    } else {\n",
       "      load_libs(js_urls, function() {\n",
       "        console.log(\"Bokeh: BokehJS plotting callback run at\", now());\n",
       "        run_inline_js();\n",
       "      });\n",
       "    }\n",
       "  }(this));\n",
       "</script>"
      ]
     },
     "metadata": {},
     "output_type": "display_data"
    }
   ],
   "source": [
    "p = bokeh.plotting.figure(width=500, height=300,\n",
    "                          x_range=list(param_range[[0, -1]]),\n",
    "                          y_range=[.80, 1], \n",
    "                          x_axis_label='Parameter C',\n",
    "                          y_axis_label='Accuracy',\n",
    "                          x_axis_type='log',\n",
    "                         )\n",
    "\n",
    "left = param_range.astype(np.float)\n",
    "left[1:] -= np.diff(param_range)/2\n",
    "right = param_range.astype(np.float)\n",
    "right[:-1] += np.diff(param_range)/2\n",
    "\n",
    "p.quad(left=left, right=right, \n",
    "       bottom=train_mean-train_std, \n",
    "       top=train_mean+train_std, \n",
    "       alpha=0.2, color=palette[0])\n",
    "p.line(param_range, train_mean, color=palette[0], legend='training accuracy')\n",
    "\n",
    "p.quad(left=left, right=right, \n",
    "       bottom=test_mean-test_std, \n",
    "       top=test_mean+test_std, \n",
    "       alpha=0.2, color=palette[1])\n",
    "p.line(param_range, test_mean, color=palette[1], line_dash='dashed', legend='validation accuracy')\n",
    "\n",
    "p.legend.location = 'bottom_right'\n",
    "\n",
    "bokeh.plotting.show(p)"
   ]
  },
  {
   "cell_type": "markdown",
   "metadata": {},
   "source": [
    "This seems to do best for $C\\approx 0.3$."
   ]
  },
  {
   "cell_type": "markdown",
   "metadata": {},
   "source": [
    "Note that [Bokeh PR #6177](https://github.com/bokeh/bokeh/pull/6177) will soon add `bokeh.models.FilledArea` plot option to improve these plots."
   ]
  },
  {
   "cell_type": "markdown",
   "metadata": {
    "collapsed": true
   },
   "source": [
    "# Confusion Matrix\n",
    "Lets evaluate the performance a support vector machine pipeline."
   ]
  },
  {
   "cell_type": "code",
   "execution_count": 36,
   "metadata": {
    "collapsed": false
   },
   "outputs": [
    {
     "data": {
      "text/plain": [
       "array([1, 0])"
      ]
     },
     "execution_count": 36,
     "metadata": {},
     "output_type": "execute_result"
    }
   ],
   "source": [
    "le.transform(['M', 'B'])"
   ]
  },
  {
   "cell_type": "code",
   "execution_count": 37,
   "metadata": {
    "collapsed": false
   },
   "outputs": [
    {
     "name": "stdout",
     "output_type": "stream",
     "text": [
      "[[40  2]\n",
      " [ 1 71]]\n"
     ]
    }
   ],
   "source": [
    "svc_pipe = sklearn.pipeline.Pipeline([('scl', sklearn.preprocessing.StandardScaler()),\n",
    "                                      ('clf', sklearn.svm.SVC(random_state=rs))])\n",
    "svc_pipe.fit(X_train, y_train)\n",
    "y_pred = svc_pipe.predict(X_test)\n",
    "\n",
    "# note the added `labels=[1, 0]` in the next line b/c we said 'M' = 1, 'B' = 0\n",
    "labels = le.transform(['M', 'B'])\n",
    "conf_mat = sklearn.metrics.confusion_matrix(y_true=y_test, y_pred=y_pred, labels=labels) \n",
    "print(conf_mat)"
   ]
  },
  {
   "cell_type": "code",
   "execution_count": 38,
   "metadata": {
    "collapsed": false
   },
   "outputs": [],
   "source": [
    "actual = np.array([['1', '1'], ['0', '0']])\n",
    "actual = list(actual.reshape(4))\n",
    "\n",
    "predicted = np.array([['1', '0'], ['1', '0']])\n",
    "predicted = list(predicted.reshape(4))\n",
    "\n",
    "count = list(conf_mat.reshape(4))\n",
    "\n",
    "alpha = [count_val / conf_mat.sum() + 0.2 for count_val in count]\n",
    "\n",
    "source = bokeh.plotting.ColumnDataSource(\n",
    "    data=dict(predicted=predicted, actual=actual, count=count, alpha=alpha)\n",
    ")"
   ]
  },
  {
   "cell_type": "code",
   "execution_count": 39,
   "metadata": {
    "collapsed": false
   },
   "outputs": [
    {
     "data": {
      "text/html": [
       "\n",
       "\n",
       "    <div class=\"bk-root\">\n",
       "        <div class=\"bk-plotdiv\" id=\"c3858f9e-137b-45af-a69a-8371bc0a201c\"></div>\n",
       "    </div>\n",
       "<script type=\"text/javascript\">\n",
       "  \n",
       "  (function(global) {\n",
       "    function now() {\n",
       "      return new Date();\n",
       "    }\n",
       "  \n",
       "    var force = false;\n",
       "  \n",
       "    if (typeof (window._bokeh_onload_callbacks) === \"undefined\" || force === true) {\n",
       "      window._bokeh_onload_callbacks = [];\n",
       "      window._bokeh_is_loading = undefined;\n",
       "    }\n",
       "  \n",
       "  \n",
       "    \n",
       "    if (typeof (window._bokeh_timeout) === \"undefined\" || force === true) {\n",
       "      window._bokeh_timeout = Date.now() + 0;\n",
       "      window._bokeh_failed_load = false;\n",
       "    }\n",
       "  \n",
       "    var NB_LOAD_WARNING = {'data': {'text/html':\n",
       "       \"<div style='background-color: #fdd'>\\n\"+\n",
       "       \"<p>\\n\"+\n",
       "       \"BokehJS does not appear to have successfully loaded. If loading BokehJS from CDN, this \\n\"+\n",
       "       \"may be due to a slow or bad network connection. Possible fixes:\\n\"+\n",
       "       \"</p>\\n\"+\n",
       "       \"<ul>\\n\"+\n",
       "       \"<li>re-rerun `output_notebook()` to attempt to load from CDN again, or</li>\\n\"+\n",
       "       \"<li>use INLINE resources instead, as so:</li>\\n\"+\n",
       "       \"</ul>\\n\"+\n",
       "       \"<code>\\n\"+\n",
       "       \"from bokeh.resources import INLINE\\n\"+\n",
       "       \"output_notebook(resources=INLINE)\\n\"+\n",
       "       \"</code>\\n\"+\n",
       "       \"</div>\"}};\n",
       "  \n",
       "    function display_loaded() {\n",
       "      if (window.Bokeh !== undefined) {\n",
       "        var el = document.getElementById(\"c3858f9e-137b-45af-a69a-8371bc0a201c\");\n",
       "        el.textContent = \"BokehJS \" + Bokeh.version + \" successfully loaded.\";\n",
       "      } else if (Date.now() < window._bokeh_timeout) {\n",
       "        setTimeout(display_loaded, 100)\n",
       "      }\n",
       "    }\n",
       "  \n",
       "    function run_callbacks() {\n",
       "      window._bokeh_onload_callbacks.forEach(function(callback) { callback() });\n",
       "      delete window._bokeh_onload_callbacks\n",
       "      console.info(\"Bokeh: all callbacks have finished\");\n",
       "    }\n",
       "  \n",
       "    function load_libs(js_urls, callback) {\n",
       "      window._bokeh_onload_callbacks.push(callback);\n",
       "      if (window._bokeh_is_loading > 0) {\n",
       "        console.log(\"Bokeh: BokehJS is being loaded, scheduling callback at\", now());\n",
       "        return null;\n",
       "      }\n",
       "      if (js_urls == null || js_urls.length === 0) {\n",
       "        run_callbacks();\n",
       "        return null;\n",
       "      }\n",
       "      console.log(\"Bokeh: BokehJS not loaded, scheduling load and callback at\", now());\n",
       "      window._bokeh_is_loading = js_urls.length;\n",
       "      for (var i = 0; i < js_urls.length; i++) {\n",
       "        var url = js_urls[i];\n",
       "        var s = document.createElement('script');\n",
       "        s.src = url;\n",
       "        s.async = false;\n",
       "        s.onreadystatechange = s.onload = function() {\n",
       "          window._bokeh_is_loading--;\n",
       "          if (window._bokeh_is_loading === 0) {\n",
       "            console.log(\"Bokeh: all BokehJS libraries loaded\");\n",
       "            run_callbacks()\n",
       "          }\n",
       "        };\n",
       "        s.onerror = function() {\n",
       "          console.warn(\"failed to load library \" + url);\n",
       "        };\n",
       "        console.log(\"Bokeh: injecting script tag for BokehJS library: \", url);\n",
       "        document.getElementsByTagName(\"head\")[0].appendChild(s);\n",
       "      }\n",
       "    };var element = document.getElementById(\"c3858f9e-137b-45af-a69a-8371bc0a201c\");\n",
       "    if (element == null) {\n",
       "      console.log(\"Bokeh: ERROR: autoload.js configured with elementid 'c3858f9e-137b-45af-a69a-8371bc0a201c' but no matching script tag was found. \")\n",
       "      return false;\n",
       "    }\n",
       "  \n",
       "    var js_urls = [];\n",
       "  \n",
       "    var inline_js = [\n",
       "      function(Bokeh) {\n",
       "        (function() {\n",
       "          var fn = function() {\n",
       "            var docs_json = {\"a1ead96a-68de-4d60-bffd-b705b80b46a1\":{\"roots\":{\"references\":[{\"attributes\":{\"plot\":{\"id\":\"513dc7be-5dbe-40c0-8fd7-a04354996607\",\"subtype\":\"Figure\",\"type\":\"Plot\"}},\"id\":\"df299872-75d7-4d1a-b02f-7942815c9d4e\",\"type\":\"SaveTool\"},{\"attributes\":{\"data_source\":{\"id\":\"31c5126f-7ee8-4c39-967c-22347b51b0ef\",\"type\":\"ColumnDataSource\"},\"glyph\":{\"id\":\"559f294d-7b11-4663-84df-da63bed76a33\",\"type\":\"Rect\"},\"hover_glyph\":null,\"muted_glyph\":null,\"nonselection_glyph\":{\"id\":\"fcefe6cb-c4ec-4c03-9b99-60b7982c73ad\",\"type\":\"Rect\"},\"selection_glyph\":null},\"id\":\"07caea8c-25c1-485c-b6f5-ad3a25c14d30\",\"type\":\"GlyphRenderer\"},{\"attributes\":{\"above\":[{\"id\":\"924fe16d-66d3-45df-9300-2fe75e659e79\",\"type\":\"CategoricalAxis\"}],\"left\":[{\"id\":\"74d44f1e-df99-4e1e-b519-9535e7c745cf\",\"type\":\"CategoricalAxis\"}],\"plot_height\":200,\"plot_width\":200,\"renderers\":[{\"id\":\"924fe16d-66d3-45df-9300-2fe75e659e79\",\"type\":\"CategoricalAxis\"},{\"id\":\"6acdc5a2-32e0-45dc-8db1-91810f6e303a\",\"type\":\"Grid\"},{\"id\":\"74d44f1e-df99-4e1e-b519-9535e7c745cf\",\"type\":\"CategoricalAxis\"},{\"id\":\"7a41e657-971c-4615-a1c4-e71479c4ac70\",\"type\":\"Grid\"},{\"id\":\"07caea8c-25c1-485c-b6f5-ad3a25c14d30\",\"type\":\"GlyphRenderer\"}],\"title\":{\"id\":\"729e5c07-6bb4-44e9-a818-a0f6021321ac\",\"type\":\"Title\"},\"tool_events\":{\"id\":\"b80006e8-70d5-44b0-bbff-98b662844393\",\"type\":\"ToolEvents\"},\"toolbar\":{\"id\":\"fa40c1a5-42ad-4d26-9401-5008914c63e5\",\"type\":\"Toolbar\"},\"x_range\":{\"id\":\"8bec9583-db59-4b0e-9311-7864791b9681\",\"type\":\"FactorRange\"},\"y_range\":{\"id\":\"8c0b214b-5af3-48c8-9025-d0a6a0f97eeb\",\"type\":\"FactorRange\"}},\"id\":\"513dc7be-5dbe-40c0-8fd7-a04354996607\",\"subtype\":\"Figure\",\"type\":\"Plot\"},{\"attributes\":{\"plot\":{\"id\":\"513dc7be-5dbe-40c0-8fd7-a04354996607\",\"subtype\":\"Figure\",\"type\":\"Plot\"},\"ticker\":{\"id\":\"f1c1c2c6-6e4f-42f5-82ca-9796b6eea684\",\"type\":\"CategoricalTicker\"}},\"id\":\"6acdc5a2-32e0-45dc-8db1-91810f6e303a\",\"type\":\"Grid\"},{\"attributes\":{\"callback\":null,\"factors\":[\"1\",\"0\"]},\"id\":\"8bec9583-db59-4b0e-9311-7864791b9681\",\"type\":\"FactorRange\"},{\"attributes\":{\"dimension\":1,\"plot\":{\"id\":\"513dc7be-5dbe-40c0-8fd7-a04354996607\",\"subtype\":\"Figure\",\"type\":\"Plot\"},\"ticker\":{\"id\":\"10604975-6d4c-43e7-a5b2-2a654436de36\",\"type\":\"CategoricalTicker\"}},\"id\":\"7a41e657-971c-4615-a1c4-e71479c4ac70\",\"type\":\"Grid\"},{\"attributes\":{},\"id\":\"10604975-6d4c-43e7-a5b2-2a654436de36\",\"type\":\"CategoricalTicker\"},{\"attributes\":{\"fill_alpha\":{\"field\":\"alpha\"},\"fill_color\":{\"value\":\"#1f77b4\"},\"height\":{\"units\":\"data\",\"value\":0.9},\"line_alpha\":{\"field\":\"alpha\"},\"line_color\":{\"value\":\"#1f77b4\"},\"width\":{\"units\":\"data\",\"value\":0.9},\"x\":{\"field\":\"predicted\"},\"y\":{\"field\":\"actual\"}},\"id\":\"559f294d-7b11-4663-84df-da63bed76a33\",\"type\":\"Rect\"},{\"attributes\":{\"plot\":null,\"text\":\"Confusion Matrix\"},\"id\":\"729e5c07-6bb4-44e9-a818-a0f6021321ac\",\"type\":\"Title\"},{\"attributes\":{\"active_drag\":\"auto\",\"active_inspect\":\"auto\",\"active_scroll\":\"auto\",\"active_tap\":\"auto\",\"tools\":[{\"id\":\"b4f301b6-0fac-4d76-9f39-4d4b35fd6ef1\",\"type\":\"HoverTool\"},{\"id\":\"df299872-75d7-4d1a-b02f-7942815c9d4e\",\"type\":\"SaveTool\"}]},\"id\":\"fa40c1a5-42ad-4d26-9401-5008914c63e5\",\"type\":\"Toolbar\"},{\"attributes\":{\"callback\":null,\"factors\":[\"0\",\"1\"]},\"id\":\"8c0b214b-5af3-48c8-9025-d0a6a0f97eeb\",\"type\":\"FactorRange\"},{\"attributes\":{},\"id\":\"f1c1c2c6-6e4f-42f5-82ca-9796b6eea684\",\"type\":\"CategoricalTicker\"},{\"attributes\":{\"axis_label\":\"predicted label\",\"formatter\":{\"id\":\"f073a519-38c4-46d4-a1e4-0fe7ace0f896\",\"type\":\"CategoricalTickFormatter\"},\"plot\":{\"id\":\"513dc7be-5dbe-40c0-8fd7-a04354996607\",\"subtype\":\"Figure\",\"type\":\"Plot\"},\"ticker\":{\"id\":\"f1c1c2c6-6e4f-42f5-82ca-9796b6eea684\",\"type\":\"CategoricalTicker\"}},\"id\":\"924fe16d-66d3-45df-9300-2fe75e659e79\",\"type\":\"CategoricalAxis\"},{\"attributes\":{},\"id\":\"ffd748c9-a7bd-419f-abb5-3fab9f6028ec\",\"type\":\"CategoricalTickFormatter\"},{\"attributes\":{},\"id\":\"f073a519-38c4-46d4-a1e4-0fe7ace0f896\",\"type\":\"CategoricalTickFormatter\"},{\"attributes\":{\"fill_alpha\":{\"value\":0.1},\"fill_color\":{\"value\":\"#1f77b4\"},\"height\":{\"units\":\"data\",\"value\":0.9},\"line_alpha\":{\"value\":0.1},\"line_color\":{\"value\":\"#1f77b4\"},\"width\":{\"units\":\"data\",\"value\":0.9},\"x\":{\"field\":\"predicted\"},\"y\":{\"field\":\"actual\"}},\"id\":\"fcefe6cb-c4ec-4c03-9b99-60b7982c73ad\",\"type\":\"Rect\"},{\"attributes\":{\"callback\":null,\"column_names\":[\"predicted\",\"actual\",\"count\",\"alpha\"],\"data\":{\"actual\":[\"1\",\"1\",\"0\",\"0\"],\"alpha\":[0.5508771929824561,0.21754385964912282,0.20877192982456141,0.8228070175438598],\"count\":[40,2,1,71],\"predicted\":[\"1\",\"0\",\"1\",\"0\"]}},\"id\":\"31c5126f-7ee8-4c39-967c-22347b51b0ef\",\"type\":\"ColumnDataSource\"},{\"attributes\":{\"axis_label\":\"true label\",\"formatter\":{\"id\":\"ffd748c9-a7bd-419f-abb5-3fab9f6028ec\",\"type\":\"CategoricalTickFormatter\"},\"plot\":{\"id\":\"513dc7be-5dbe-40c0-8fd7-a04354996607\",\"subtype\":\"Figure\",\"type\":\"Plot\"},\"ticker\":{\"id\":\"10604975-6d4c-43e7-a5b2-2a654436de36\",\"type\":\"CategoricalTicker\"}},\"id\":\"74d44f1e-df99-4e1e-b519-9535e7c745cf\",\"type\":\"CategoricalAxis\"},{\"attributes\":{\"callback\":null,\"plot\":{\"id\":\"513dc7be-5dbe-40c0-8fd7-a04354996607\",\"subtype\":\"Figure\",\"type\":\"Plot\"},\"tooltips\":[[\"predicted\",\"@predicted\"],[\"actual\",\"@actual\"],[\"count\",\"@count\"]]},\"id\":\"b4f301b6-0fac-4d76-9f39-4d4b35fd6ef1\",\"type\":\"HoverTool\"},{\"attributes\":{},\"id\":\"b80006e8-70d5-44b0-bbff-98b662844393\",\"type\":\"ToolEvents\"}],\"root_ids\":[\"513dc7be-5dbe-40c0-8fd7-a04354996607\"]},\"title\":\"Bokeh Application\",\"version\":\"0.12.6dev3\"}};\n",
       "            var render_items = [{\"docid\":\"a1ead96a-68de-4d60-bffd-b705b80b46a1\",\"elementid\":\"c3858f9e-137b-45af-a69a-8371bc0a201c\",\"modelid\":\"513dc7be-5dbe-40c0-8fd7-a04354996607\"}];\n",
       "            \n",
       "            Bokeh.embed.embed_items(docs_json, render_items);\n",
       "          };\n",
       "          if (document.readyState != \"loading\") fn();\n",
       "          else document.addEventListener(\"DOMContentLoaded\", fn);\n",
       "        })();\n",
       "      },\n",
       "      function(Bokeh) {\n",
       "      }\n",
       "    ];\n",
       "  \n",
       "    function run_inline_js() {\n",
       "      \n",
       "      if ((window.Bokeh !== undefined) || (force === true)) {\n",
       "        for (var i = 0; i < inline_js.length; i++) {\n",
       "          inline_js[i](window.Bokeh);\n",
       "        }if (force === true) {\n",
       "          display_loaded();\n",
       "        }} else if (Date.now() < window._bokeh_timeout) {\n",
       "        setTimeout(run_inline_js, 100);\n",
       "      } else if (!window._bokeh_failed_load) {\n",
       "        console.log(\"Bokeh: BokehJS failed to load within specified timeout.\");\n",
       "        window._bokeh_failed_load = true;\n",
       "      } else if (force !== true) {\n",
       "        var cell = $(document.getElementById(\"c3858f9e-137b-45af-a69a-8371bc0a201c\")).parents('.cell').data().cell;\n",
       "        cell.output_area.append_execute_result(NB_LOAD_WARNING)\n",
       "      }\n",
       "  \n",
       "    }\n",
       "  \n",
       "    if (window._bokeh_is_loading === 0) {\n",
       "      console.log(\"Bokeh: BokehJS loaded, going straight to plotting\");\n",
       "      run_inline_js();\n",
       "    } else {\n",
       "      load_libs(js_urls, function() {\n",
       "        console.log(\"Bokeh: BokehJS plotting callback run at\", now());\n",
       "        run_inline_js();\n",
       "      });\n",
       "    }\n",
       "  }(this));\n",
       "</script>"
      ]
     },
     "metadata": {},
     "output_type": "display_data"
    }
   ],
   "source": [
    "p = bokeh.plotting.figure(title='Confusion Matrix', tools=\"hover,save\",\n",
    "                          y_range=['0', '1'], x_range=['1', '0'],\n",
    "                          x_axis_label='predicted label', \n",
    "                          y_axis_label='true label',\n",
    "                          x_axis_location='above',\n",
    "                          width=200, height=200)\n",
    "\n",
    "rectwidth = 0.9\n",
    "p.rect('predicted', 'actual', rectwidth, rectwidth, source=source,\n",
    "      color=palette[0], alpha='alpha',line_width=1)\n",
    "\n",
    "hover = p.select(dict(type=bokeh.models.HoverTool))\n",
    "hover.tooltips = collections.OrderedDict([\n",
    "    ('predicted', '@predicted'),\n",
    "    ('actual', '@actual'),\n",
    "    ('count', '@count'),\n",
    "])\n",
    "\n",
    "bokeh.plotting.show(p)"
   ]
  },
  {
   "cell_type": "code",
   "execution_count": 40,
   "metadata": {
    "collapsed": true
   },
   "outputs": [],
   "source": [
    "tp, fn, fp, tn = conf_mat.reshape(4)"
   ]
  },
  {
   "cell_type": "markdown",
   "metadata": {},
   "source": [
    "For this situation we have 40 true positives (TP), 71 true negatives (TN), 2 false negative (FN), and 1\n",
    "false positives (FP).  We calculate the error (ERR) to be\n",
    "$$ ERR = \\frac{FP + FN}{FP + FN + TP + TN}$$"
   ]
  },
  {
   "cell_type": "code",
   "execution_count": 41,
   "metadata": {
    "collapsed": false
   },
   "outputs": [
    {
     "name": "stdout",
     "output_type": "stream",
     "text": [
      "ERR = 0.0263\n"
     ]
    }
   ],
   "source": [
    "err = (fp + fn)/(fp + fn + tp + tn)\n",
    "print('ERR = {:.3}'.format(err))"
   ]
  },
  {
   "cell_type": "markdown",
   "metadata": {},
   "source": [
    "and the accuracy (ACC) to be\n",
    "$$ ACC = \\frac{TP + TN}{FP + FN + TP + TN} = 1 - ERR $$"
   ]
  },
  {
   "cell_type": "code",
   "execution_count": 42,
   "metadata": {
    "collapsed": false
   },
   "outputs": [
    {
     "name": "stdout",
     "output_type": "stream",
     "text": [
      "ACC = 0.974\n"
     ]
    }
   ],
   "source": [
    "acc = 1 - err\n",
    "print('ACC = {:.3}'.format(acc))"
   ]
  },
  {
   "cell_type": "markdown",
   "metadata": {},
   "source": [
    "We can also calculate the true positive rate (TPR) \n",
    "$$ TPR = \\frac{TP}{P} = \\frac{TP}{TP + FN} $$"
   ]
  },
  {
   "cell_type": "code",
   "execution_count": 43,
   "metadata": {
    "collapsed": false
   },
   "outputs": [
    {
     "name": "stdout",
     "output_type": "stream",
     "text": [
      "TPR = 0.952\n"
     ]
    }
   ],
   "source": [
    "p = tp + fn\n",
    "tpr = tp / p\n",
    "print('TPR = {:.3}'.format(tpr))"
   ]
  },
  {
   "cell_type": "markdown",
   "metadata": {},
   "source": [
    "and false positive rate (FPR)\n",
    "$$ FPR = \\frac{FP}{N} = \\frac{FP}{FP + TN} $$"
   ]
  },
  {
   "cell_type": "code",
   "execution_count": 44,
   "metadata": {
    "collapsed": false
   },
   "outputs": [
    {
     "name": "stdout",
     "output_type": "stream",
     "text": [
      "FPR = 0.0139\n"
     ]
    }
   ],
   "source": [
    "n = fp + tn\n",
    "fpr = fp / n\n",
    "print('FPR = {:.3}'.format(fpr))"
   ]
  },
  {
   "cell_type": "markdown",
   "metadata": {},
   "source": [
    "Two additional metrics are precision (PRE) and recall (REC).  Precision is the ratio of positive predictions that are true positives (demoninator is the left sife of the confusion matrix)\n",
    "$$ PRE = \\frac{TP}{TP + FP}\\,. $$"
   ]
  },
  {
   "cell_type": "code",
   "execution_count": 45,
   "metadata": {
    "collapsed": false
   },
   "outputs": [
    {
     "name": "stdout",
     "output_type": "stream",
     "text": [
      "PRE = 0.976\n"
     ]
    }
   ],
   "source": [
    "pre = tp / (tp + fp)\n",
    "print('PRE = {:.3}'.format(pre))"
   ]
  },
  {
   "cell_type": "markdown",
   "metadata": {},
   "source": [
    "Recall is the ratio of positive labels that were predicted correctly, TP; note that this is identical to the true positive rate\n",
    "$$ REC = TPR = \\frac{TP}{P} = \\frac{TP}{TP + FN} $$"
   ]
  },
  {
   "cell_type": "code",
   "execution_count": 46,
   "metadata": {
    "collapsed": false
   },
   "outputs": [
    {
     "name": "stdout",
     "output_type": "stream",
     "text": [
      "REC = 0.952\n"
     ]
    }
   ],
   "source": [
    "rec = tp / p\n",
    "print('REC = {:.3}'.format(rec))"
   ]
  },
  {
   "cell_type": "markdown",
   "metadata": {},
   "source": [
    "It is common to use a combination of precision and recall known as the F1-score\n",
    "$$ F1 = 2 \\frac{PRE \\times REC}{PRE + REC} = 2 \\frac{0.973 \\times 0.986}{0.973 + 0.986} = 0.490\\,. $$"
   ]
  },
  {
   "cell_type": "code",
   "execution_count": 47,
   "metadata": {
    "collapsed": false
   },
   "outputs": [
    {
     "name": "stdout",
     "output_type": "stream",
     "text": [
      "F1 = 0.964\n"
     ]
    }
   ],
   "source": [
    "f1 = 2 * pre * rec / (pre + rec)\n",
    "print('F1 = {:.3}'.format(f1))"
   ]
  },
  {
   "cell_type": "markdown",
   "metadata": {},
   "source": [
    "We can get these metrics directly from `sklearn.metrics`."
   ]
  },
  {
   "cell_type": "code",
   "execution_count": 48,
   "metadata": {
    "collapsed": false
   },
   "outputs": [
    {
     "name": "stdout",
     "output_type": "stream",
     "text": [
      "Precision: 0.976\n"
     ]
    }
   ],
   "source": [
    "print('Precision: {:.3}'.format(sklearn.metrics.precision_score(y_true=y_test, y_pred=y_pred)))"
   ]
  },
  {
   "cell_type": "code",
   "execution_count": 49,
   "metadata": {
    "collapsed": false
   },
   "outputs": [
    {
     "name": "stdout",
     "output_type": "stream",
     "text": [
      "Recall: 0.952\n"
     ]
    }
   ],
   "source": [
    "print('Recall: {:.3}'.format(sklearn.metrics.recall_score(y_true=y_test, y_pred=y_pred)))"
   ]
  },
  {
   "cell_type": "code",
   "execution_count": 50,
   "metadata": {
    "collapsed": false
   },
   "outputs": [
    {
     "name": "stdout",
     "output_type": "stream",
     "text": [
      "F1: 0.964\n"
     ]
    }
   ],
   "source": [
    "print('F1: {:.3}'.format(sklearn.metrics.f1_score(y_true=y_test, y_pred=y_pred)))"
   ]
  },
  {
   "cell_type": "markdown",
   "metadata": {},
   "source": [
    "# Receiver Operator Characteristic\n",
    "The receiver operator characteristic (ROC) graph is useful to evaluate model classification based on the true/false positive rate.  This is calculated by shifting the decision threshold of the classifier."
   ]
  },
  {
   "cell_type": "markdown",
   "metadata": {},
   "source": [
    "We need to enable `probability=True` for the SVC."
   ]
  },
  {
   "cell_type": "code",
   "execution_count": 51,
   "metadata": {
    "collapsed": true
   },
   "outputs": [],
   "source": [
    "svc_pipe = sklearn.pipeline.Pipeline([('scl', sklearn.preprocessing.StandardScaler()),\n",
    "                                      ('clf', sklearn.svm.SVC(random_state=rs, probability=True))])"
   ]
  },
  {
   "cell_type": "markdown",
   "metadata": {},
   "source": [
    "Lets reduce the number of folds for simpler visualization."
   ]
  },
  {
   "cell_type": "code",
   "execution_count": 52,
   "metadata": {
    "collapsed": false
   },
   "outputs": [
    {
     "name": "stdout",
     "output_type": "stream",
     "text": [
      "k: 0\n",
      "0.771929824561\n",
      "k: 1\n",
      "1.71929824561\n",
      "k: 2\n",
      "2.64786967419\n",
      "1.0\n"
     ]
    },
    {
     "data": {
      "text/html": [
       "\n",
       "\n",
       "    <div class=\"bk-root\">\n",
       "        <div class=\"bk-plotdiv\" id=\"2d16f08a-70de-4d06-8e30-a5bcd850c868\"></div>\n",
       "    </div>\n",
       "<script type=\"text/javascript\">\n",
       "  \n",
       "  (function(global) {\n",
       "    function now() {\n",
       "      return new Date();\n",
       "    }\n",
       "  \n",
       "    var force = false;\n",
       "  \n",
       "    if (typeof (window._bokeh_onload_callbacks) === \"undefined\" || force === true) {\n",
       "      window._bokeh_onload_callbacks = [];\n",
       "      window._bokeh_is_loading = undefined;\n",
       "    }\n",
       "  \n",
       "  \n",
       "    \n",
       "    if (typeof (window._bokeh_timeout) === \"undefined\" || force === true) {\n",
       "      window._bokeh_timeout = Date.now() + 0;\n",
       "      window._bokeh_failed_load = false;\n",
       "    }\n",
       "  \n",
       "    var NB_LOAD_WARNING = {'data': {'text/html':\n",
       "       \"<div style='background-color: #fdd'>\\n\"+\n",
       "       \"<p>\\n\"+\n",
       "       \"BokehJS does not appear to have successfully loaded. If loading BokehJS from CDN, this \\n\"+\n",
       "       \"may be due to a slow or bad network connection. Possible fixes:\\n\"+\n",
       "       \"</p>\\n\"+\n",
       "       \"<ul>\\n\"+\n",
       "       \"<li>re-rerun `output_notebook()` to attempt to load from CDN again, or</li>\\n\"+\n",
       "       \"<li>use INLINE resources instead, as so:</li>\\n\"+\n",
       "       \"</ul>\\n\"+\n",
       "       \"<code>\\n\"+\n",
       "       \"from bokeh.resources import INLINE\\n\"+\n",
       "       \"output_notebook(resources=INLINE)\\n\"+\n",
       "       \"</code>\\n\"+\n",
       "       \"</div>\"}};\n",
       "  \n",
       "    function display_loaded() {\n",
       "      if (window.Bokeh !== undefined) {\n",
       "        var el = document.getElementById(\"2d16f08a-70de-4d06-8e30-a5bcd850c868\");\n",
       "        el.textContent = \"BokehJS \" + Bokeh.version + \" successfully loaded.\";\n",
       "      } else if (Date.now() < window._bokeh_timeout) {\n",
       "        setTimeout(display_loaded, 100)\n",
       "      }\n",
       "    }\n",
       "  \n",
       "    function run_callbacks() {\n",
       "      window._bokeh_onload_callbacks.forEach(function(callback) { callback() });\n",
       "      delete window._bokeh_onload_callbacks\n",
       "      console.info(\"Bokeh: all callbacks have finished\");\n",
       "    }\n",
       "  \n",
       "    function load_libs(js_urls, callback) {\n",
       "      window._bokeh_onload_callbacks.push(callback);\n",
       "      if (window._bokeh_is_loading > 0) {\n",
       "        console.log(\"Bokeh: BokehJS is being loaded, scheduling callback at\", now());\n",
       "        return null;\n",
       "      }\n",
       "      if (js_urls == null || js_urls.length === 0) {\n",
       "        run_callbacks();\n",
       "        return null;\n",
       "      }\n",
       "      console.log(\"Bokeh: BokehJS not loaded, scheduling load and callback at\", now());\n",
       "      window._bokeh_is_loading = js_urls.length;\n",
       "      for (var i = 0; i < js_urls.length; i++) {\n",
       "        var url = js_urls[i];\n",
       "        var s = document.createElement('script');\n",
       "        s.src = url;\n",
       "        s.async = false;\n",
       "        s.onreadystatechange = s.onload = function() {\n",
       "          window._bokeh_is_loading--;\n",
       "          if (window._bokeh_is_loading === 0) {\n",
       "            console.log(\"Bokeh: all BokehJS libraries loaded\");\n",
       "            run_callbacks()\n",
       "          }\n",
       "        };\n",
       "        s.onerror = function() {\n",
       "          console.warn(\"failed to load library \" + url);\n",
       "        };\n",
       "        console.log(\"Bokeh: injecting script tag for BokehJS library: \", url);\n",
       "        document.getElementsByTagName(\"head\")[0].appendChild(s);\n",
       "      }\n",
       "    };var element = document.getElementById(\"2d16f08a-70de-4d06-8e30-a5bcd850c868\");\n",
       "    if (element == null) {\n",
       "      console.log(\"Bokeh: ERROR: autoload.js configured with elementid '2d16f08a-70de-4d06-8e30-a5bcd850c868' but no matching script tag was found. \")\n",
       "      return false;\n",
       "    }\n",
       "  \n",
       "    var js_urls = [];\n",
       "  \n",
       "    var inline_js = [\n",
       "      function(Bokeh) {\n",
       "        (function() {\n",
       "          var fn = function() {\n",
       "            var docs_json = {\"8a289a41-86d2-4f40-8293-943d75fdff1d\":{\"roots\":{\"references\":[{\"attributes\":{\"overlay\":{\"id\":\"7ef2021c-3c8c-4c35-b5a1-8344c67019c9\",\"type\":\"BoxAnnotation\"},\"plot\":{\"id\":\"e527ee8f-0a83-44a6-9819-34d0f737f584\",\"subtype\":\"Figure\",\"type\":\"Plot\"}},\"id\":\"99e2196b-6ecb-4974-822a-af02b20ab24b\",\"type\":\"BoxZoomTool\"},{\"attributes\":{\"data_source\":{\"id\":\"eed48a89-af34-4a6a-b321-86b74dad5097\",\"type\":\"ColumnDataSource\"},\"glyph\":{\"id\":\"1b21946c-6753-4fd8-a143-9b10091904a8\",\"type\":\"Line\"},\"hover_glyph\":null,\"muted_glyph\":null,\"nonselection_glyph\":{\"id\":\"fafc25fc-ac2f-4140-9ef2-ed85c50057b7\",\"type\":\"Line\"},\"selection_glyph\":null},\"id\":\"90144ef8-58d6-4d47-bdda-46d817c0d816\",\"type\":\"GlyphRenderer\"},{\"attributes\":{\"callback\":null,\"column_names\":[\"x\",\"y\"],\"data\":{\"x\":{\"__ndarray__\":\"AAAAAAAAAAAAAAAAAAAAAO1YgTDSjoU/7ViBMNKOhT/tWIEw0o6VP+1YgTDSjpU/KK+hvIbyqj8or6G8hvKqPwAAAAAAAPA/\",\"dtype\":\"float64\",\"shape\":[9]},\"y\":{\"__ndarray__\":\"cB/BfQT3kT8N5TWU11DuPw3lNZTXUO4/Ce4juI/g7j8J7iO4j+DuPwT3EdxHcO8/BPcR3Edw7z8AAAAAAADwPwAAAAAAAPA/\",\"dtype\":\"float64\",\"shape\":[9]}}},\"id\":\"eed48a89-af34-4a6a-b321-86b74dad5097\",\"type\":\"ColumnDataSource\"},{\"attributes\":{\"data_source\":{\"id\":\"0466ce7b-333f-4d85-a34f-2c706c638c8e\",\"type\":\"ColumnDataSource\"},\"glyph\":{\"id\":\"4413dcb8-77e5-42db-bf1c-ecff0b064f72\",\"type\":\"Line\"},\"hover_glyph\":null,\"muted_glyph\":null,\"nonselection_glyph\":{\"id\":\"91c490e9-d22a-4458-a556-86157e15570a\",\"type\":\"Line\"},\"selection_glyph\":null},\"id\":\"2f59bea5-8f16-4df5-b4d3-158c5e5724c1\",\"type\":\"GlyphRenderer\"},{\"attributes\":{},\"id\":\"d5236b1d-ace3-4038-81e0-a18ec09458ce\",\"type\":\"ToolEvents\"},{\"attributes\":{\"items\":[{\"id\":\"26c2e4d3-991c-4f60-858e-955e77e1d108\",\"type\":\"LegendItem\"},{\"id\":\"5e3b4428-0f97-416c-b853-a3b2064c0858\",\"type\":\"LegendItem\"},{\"id\":\"8292d99b-3ccb-4bde-8559-15be7cee7889\",\"type\":\"LegendItem\"},{\"id\":\"4b27e8e3-429c-4df4-880a-cc07b82fe801\",\"type\":\"LegendItem\"},{\"id\":\"dd5501e1-5055-4131-bfb7-5c0862a7695f\",\"type\":\"LegendItem\"},{\"id\":\"6a5155e9-9baa-4d6a-907d-e74bd1c0012f\",\"type\":\"LegendItem\"}],\"location\":\"bottom_right\",\"plot\":{\"id\":\"e527ee8f-0a83-44a6-9819-34d0f737f584\",\"subtype\":\"Figure\",\"type\":\"Plot\"}},\"id\":\"2b65a2c7-86e2-421e-aab6-a29fe4ccf68c\",\"type\":\"Legend\"},{\"attributes\":{\"plot\":{\"id\":\"e527ee8f-0a83-44a6-9819-34d0f737f584\",\"subtype\":\"Figure\",\"type\":\"Plot\"}},\"id\":\"269f1866-c79f-4efa-aec0-805de42f2259\",\"type\":\"HelpTool\"},{\"attributes\":{},\"id\":\"6d27de97-32e2-4201-a632-fa8a48c64473\",\"type\":\"BasicTickFormatter\"},{\"attributes\":{\"bottom_units\":\"screen\",\"fill_alpha\":{\"value\":0.5},\"fill_color\":{\"value\":\"lightgrey\"},\"left_units\":\"screen\",\"level\":\"overlay\",\"line_alpha\":{\"value\":1.0},\"line_color\":{\"value\":\"black\"},\"line_dash\":[4,4],\"line_width\":{\"value\":2},\"plot\":null,\"render_mode\":\"css\",\"right_units\":\"screen\",\"top_units\":\"screen\"},\"id\":\"7ef2021c-3c8c-4c35-b5a1-8344c67019c9\",\"type\":\"BoxAnnotation\"},{\"attributes\":{\"label\":{\"value\":\"random guessing\"},\"renderers\":[{\"id\":\"89debf54-2dd8-4c61-93b4-3aaf9942f7a1\",\"type\":\"GlyphRenderer\"}]},\"id\":\"4b27e8e3-429c-4df4-880a-cc07b82fe801\",\"type\":\"LegendItem\"},{\"attributes\":{\"label\":{\"value\":\"ROC fold 1, AUC = 0.987\"},\"renderers\":[{\"id\":\"6f12fbab-43d9-497c-8d50-000bc209413b\",\"type\":\"GlyphRenderer\"}]},\"id\":\"26c2e4d3-991c-4f60-858e-955e77e1d108\",\"type\":\"LegendItem\"},{\"attributes\":{\"plot\":{\"id\":\"e527ee8f-0a83-44a6-9819-34d0f737f584\",\"subtype\":\"Figure\",\"type\":\"Plot\"}},\"id\":\"86ba2cd5-0a4f-4e67-a849-c4c081bd20d0\",\"type\":\"ResetTool\"},{\"attributes\":{\"label\":{\"value\":\"ROC fold 2, AUC = 0.999\"},\"renderers\":[{\"id\":\"90144ef8-58d6-4d47-bdda-46d817c0d816\",\"type\":\"GlyphRenderer\"}]},\"id\":\"5e3b4428-0f97-416c-b853-a3b2064c0858\",\"type\":\"LegendItem\"},{\"attributes\":{\"line_color\":{\"value\":\"#1f77b4\"},\"x\":{\"field\":\"x\"},\"y\":{\"field\":\"y\"}},\"id\":\"c492545f-7ef4-42fd-962a-e1f3d861f52a\",\"type\":\"Line\"},{\"attributes\":{},\"id\":\"ee53afda-61a4-4364-8ee2-3402fda8f009\",\"type\":\"BasicTickFormatter\"},{\"attributes\":{\"line_alpha\":{\"value\":0.1},\"line_color\":{\"value\":\"#1f77b4\"},\"x\":{\"field\":\"x\"},\"y\":{\"field\":\"y\"}},\"id\":\"fafc25fc-ac2f-4140-9ef2-ed85c50057b7\",\"type\":\"Line\"},{\"attributes\":{\"plot\":{\"id\":\"e527ee8f-0a83-44a6-9819-34d0f737f584\",\"subtype\":\"Figure\",\"type\":\"Plot\"}},\"id\":\"a5332d66-cc7e-42fa-864d-af1356e96557\",\"type\":\"PanTool\"},{\"attributes\":{\"line_alpha\":{\"value\":0.1},\"line_color\":{\"value\":\"#1f77b4\"},\"x\":{\"field\":\"x\"},\"y\":{\"field\":\"y\"}},\"id\":\"91c490e9-d22a-4458-a556-86157e15570a\",\"type\":\"Line\"},{\"attributes\":{\"plot\":null,\"text\":\"Receiver Operator Characteristic\"},\"id\":\"3610bca1-8503-4104-8e0e-bcddda76236a\",\"type\":\"Title\"},{\"attributes\":{\"line_color\":{\"value\":\"#ff7f0e\"},\"x\":{\"field\":\"x\"},\"y\":{\"field\":\"y\"}},\"id\":\"1b21946c-6753-4fd8-a143-9b10091904a8\",\"type\":\"Line\"},{\"attributes\":{\"callback\":null,\"column_names\":[\"x\",\"y\"],\"data\":{\"x\":[0,0,1],\"y\":[0,1,1]}},\"id\":\"ad72c151-3c44-4a11-8835-1f8cb1a68c5d\",\"type\":\"ColumnDataSource\"},{\"attributes\":{\"label\":{\"value\":\"ROC fold 3, AUC = 0.989\"},\"renderers\":[{\"id\":\"2f59bea5-8f16-4df5-b4d3-158c5e5724c1\",\"type\":\"GlyphRenderer\"}]},\"id\":\"8292d99b-3ccb-4bde-8559-15be7cee7889\",\"type\":\"LegendItem\"},{\"attributes\":{\"line_alpha\":{\"value\":0.1},\"line_color\":{\"value\":\"#1f77b4\"},\"x\":{\"field\":\"x\"},\"y\":{\"field\":\"y\"}},\"id\":\"ece71aae-ac31-4dfd-a702-42ad328023bf\",\"type\":\"Line\"},{\"attributes\":{\"line_color\":{\"value\":\"#8c564b\"},\"line_dash\":[2,4],\"x\":{\"field\":\"x\"},\"y\":{\"field\":\"y\"}},\"id\":\"221147e5-dfb3-4704-a0b1-d589ffc88f65\",\"type\":\"Line\"},{\"attributes\":{\"below\":[{\"id\":\"330a5f0f-4a42-4a74-b83f-9640df398cfa\",\"type\":\"LinearAxis\"}],\"left\":[{\"id\":\"dae3bc52-e071-4e02-a97a-7c2f9c1b2aea\",\"type\":\"LinearAxis\"}],\"plot_height\":500,\"plot_width\":500,\"renderers\":[{\"id\":\"330a5f0f-4a42-4a74-b83f-9640df398cfa\",\"type\":\"LinearAxis\"},{\"id\":\"a06a89e1-d4cc-4998-a620-4f727a5ab369\",\"type\":\"Grid\"},{\"id\":\"dae3bc52-e071-4e02-a97a-7c2f9c1b2aea\",\"type\":\"LinearAxis\"},{\"id\":\"f6dc3f54-6098-421a-8610-29ca9b19e0f4\",\"type\":\"Grid\"},{\"id\":\"7ef2021c-3c8c-4c35-b5a1-8344c67019c9\",\"type\":\"BoxAnnotation\"},{\"id\":\"2b65a2c7-86e2-421e-aab6-a29fe4ccf68c\",\"type\":\"Legend\"},{\"id\":\"6f12fbab-43d9-497c-8d50-000bc209413b\",\"type\":\"GlyphRenderer\"},{\"id\":\"90144ef8-58d6-4d47-bdda-46d817c0d816\",\"type\":\"GlyphRenderer\"},{\"id\":\"2f59bea5-8f16-4df5-b4d3-158c5e5724c1\",\"type\":\"GlyphRenderer\"},{\"id\":\"89debf54-2dd8-4c61-93b4-3aaf9942f7a1\",\"type\":\"GlyphRenderer\"},{\"id\":\"7536ba3f-8745-4388-8d97-5bb3f8a3cc56\",\"type\":\"GlyphRenderer\"},{\"id\":\"695e560e-c542-4139-8edb-d7a3f21ce067\",\"type\":\"GlyphRenderer\"}],\"title\":{\"id\":\"3610bca1-8503-4104-8e0e-bcddda76236a\",\"type\":\"Title\"},\"tool_events\":{\"id\":\"d5236b1d-ace3-4038-81e0-a18ec09458ce\",\"type\":\"ToolEvents\"},\"toolbar\":{\"id\":\"62a0321d-7572-4ffb-a312-50b1b57de984\",\"type\":\"Toolbar\"},\"x_range\":{\"id\":\"d7b2974e-e51e-4037-bde8-c62063d57ee9\",\"type\":\"DataRange1d\"},\"y_range\":{\"id\":\"93ad2f28-c1a8-459b-b15f-7dbb164b903d\",\"type\":\"DataRange1d\"}},\"id\":\"e527ee8f-0a83-44a6-9819-34d0f737f584\",\"subtype\":\"Figure\",\"type\":\"Plot\"},{\"attributes\":{\"line_color\":{\"value\":\"#2ca02c\"},\"x\":{\"field\":\"x\"},\"y\":{\"field\":\"y\"}},\"id\":\"4413dcb8-77e5-42db-bf1c-ecff0b064f72\",\"type\":\"Line\"},{\"attributes\":{\"callback\":null},\"id\":\"d7b2974e-e51e-4037-bde8-c62063d57ee9\",\"type\":\"DataRange1d\"},{\"attributes\":{\"plot\":{\"id\":\"e527ee8f-0a83-44a6-9819-34d0f737f584\",\"subtype\":\"Figure\",\"type\":\"Plot\"}},\"id\":\"46b99291-6645-44c6-81fb-649af62b5bbe\",\"type\":\"SaveTool\"},{\"attributes\":{\"line_alpha\":{\"value\":0.1},\"line_color\":{\"value\":\"#1f77b4\"},\"line_dash\":[6],\"x\":{\"field\":\"x\"},\"y\":{\"field\":\"y\"}},\"id\":\"fb7bd03f-3670-4215-8fba-ffbea5f4cc2e\",\"type\":\"Line\"},{\"attributes\":{\"label\":{\"value\":\"mean ROC, AUC = 0.991\"},\"renderers\":[{\"id\":\"7536ba3f-8745-4388-8d97-5bb3f8a3cc56\",\"type\":\"GlyphRenderer\"}]},\"id\":\"dd5501e1-5055-4131-bfb7-5c0862a7695f\",\"type\":\"LegendItem\"},{\"attributes\":{\"callback\":null,\"column_names\":[\"x\",\"y\"],\"data\":{\"x\":{\"__ndarray__\":\"AAAAAAAAAABbv1Kg1q+EP1u/UqDWr5Q/CB988MEHnz9bv1Kg1q+kPzJvZ0jM26k/CB988MEHrz9wZ0jM2xmyP1u/UqDWr7Q/RhdddNFFtz8yb2dIzNu5Px3HcRzHcbw/CB988MEHvz96O0Ni3s7AP3BnSMzbGcI/ZZNNNtlkwz9bv1Kg1q/EP1HrVwrU+sU/RhdddNFFxz88Q2LezpDIPzJvZ0jM28k/J5tssskmyz8dx3Ecx3HMPxPzdobEvM0/CB988MEHzz9/pUCtXynQP3o7Q2LeztA/ddFFF1100T9wZ0jM2xnSP2r9SoFav9I/ZZNNNtlk0z9gKVDrVwrUP1u/UqDWr9Q/VlVVVVVV1T9R61cK1PrVP0yBWr9SoNY/RhdddNFF1z9BrV8pUOvXPzxDYt7OkNg/N9lkk0022T8yb2dIzNvZPy0Fav1Kgdo/J5tssskm2z8iMW9nSMzbPx3HcRzHcdw/GF100UUX3T8T83aGxLzdPw6JeTtDYt4/CB988MEH3z8DtX6lQK3fP3+lQK1fKeA/ffDBBx984D96O0Ni3s7gP3eGxLydIeE/ddFFF1104T9yHMdxHMfhP3BnSMzbGeI/bbLJJpts4j9q/UqBWr/iP2hIzNsZEuM/ZZNNNtlk4z9j3s6QmLfjP2ApUOtXCuQ/XnTRRRdd5D9bv1Kg1q/kP1gK1PqVAuU/VlVVVVVV5T9ToNavFKjlP1HrVwrU+uU/TjbZZJNN5j9MgVq/UqDmP0nM2xkS8+Y/RhdddNFF5z9EYt7OkJjnP0GtXylQ6+c/P/jggw8+6D88Q2LezpDoPzmO4ziO4+g/N9lkk0026T80JObtDInpPzJvZ0jM2+k/L7rooosu6j8tBWr9SoHqPypQ61cK1Oo/J5tssskm6z8l5u0MiXnrPyIxb2dIzOs/IHzwwQcf7D8dx3Ecx3HsPxsS83aGxOw/GF100UUX7T8VqPUrBWrtPxPzdobEvO0/ED744IMP7j8OiXk7Q2LuPwvU+pUCte4/CB988MEH7z8Gav1KgVrvPwO1fqVAre8/AAAAAAAA8D8=\",\"dtype\":\"float64\",\"shape\":[100]},\"y\":{\"__ndarray__\":\"6MOcD3M+7D/ow5wPcz7sP/9M+DPhz+w/+1LsS7Ev7T/1XtR7Ue/tP/8n+Z/kf+4/+y3tt7Tf7j/4M+HPhD/vP/c229tsb+8/9zbb22xv7z/3NtvbbG/vP/U51edUn+8/9TnV51Sf7z/0PM/zPM/vP/Q8z/M8z+8/9DzP8zzP7z/0PM/zPM/vP/Q8z/M8z+8/9DzP8zzP7z/0PM/zPM/vP/Q8z/M8z+8/9DzP8zzP7z/0PM/zPM/vP/Q8z/M8z+8/9DzP8zzP7z/0PM/zPM/vP/Q8z/M8z+8/9DzP8zzP7z/0PM/zPM/vP/Q8z/M8z+8/9DzP8zzP7z/0PM/zPM/vP/Q8z/M8z+8/9DzP8zzP7z/0PM/zPM/vP/Q8z/M8z+8/9DzP8zzP7z/0PM/zPM/vP/Q8z/M8z+8/9DzP8zzP7z/0PM/zPM/vP/Q8z/M8z+8/9DzP8zzP7z/0PM/zPM/vP/Q8z/M8z+8/9DzP8zzP7z/0PM/zPM/vP/Q8z/M8z+8/9DzP8zzP7z/0PM/zPM/vP/Q8z/M8z+8/9DzP8zzP7z/0PM/zPM/vP/Q8z/M8z+8/9DzP8zzP7z/0PM/zPM/vPwAAAAAAAPA/AAAAAAAA8D8AAAAAAADwPwAAAAAAAPA/AAAAAAAA8D8AAAAAAADwPwAAAAAAAPA/AAAAAAAA8D8AAAAAAADwPwAAAAAAAPA/AAAAAAAA8D8AAAAAAADwPwAAAAAAAPA/AAAAAAAA8D8AAAAAAADwPwAAAAAAAPA/AAAAAAAA8D8AAAAAAADwPwAAAAAAAPA/AAAAAAAA8D8AAAAAAADwPwAAAAAAAPA/AAAAAAAA8D8AAAAAAADwPwAAAAAAAPA/AAAAAAAA8D8AAAAAAADwPwAAAAAAAPA/AAAAAAAA8D8AAAAAAADwPwAAAAAAAPA/AAAAAAAA8D8AAAAAAADwPwAAAAAAAPA/AAAAAAAA8D8AAAAAAADwPwAAAAAAAPA/AAAAAAAA8D8AAAAAAADwPwAAAAAAAPA/AAAAAAAA8D8AAAAAAADwPwAAAAAAAPA/AAAAAAAA8D8=\",\"dtype\":\"float64\",\"shape\":[100]}}},\"id\":\"28fe6c1e-8416-4444-b10b-54bcdd8212c5\",\"type\":\"ColumnDataSource\"},{\"attributes\":{\"data_source\":{\"id\":\"7ed8d76c-aaa2-4906-b29b-b7124951f0c4\",\"type\":\"ColumnDataSource\"},\"glyph\":{\"id\":\"c492545f-7ef4-42fd-962a-e1f3d861f52a\",\"type\":\"Line\"},\"hover_glyph\":null,\"muted_glyph\":null,\"nonselection_glyph\":{\"id\":\"ece71aae-ac31-4dfd-a702-42ad328023bf\",\"type\":\"Line\"},\"selection_glyph\":null},\"id\":\"6f12fbab-43d9-497c-8d50-000bc209413b\",\"type\":\"GlyphRenderer\"},{\"attributes\":{\"line_alpha\":{\"value\":0.1},\"line_color\":{\"value\":\"#1f77b4\"},\"line_width\":{\"value\":2},\"x\":{\"field\":\"x\"},\"y\":{\"field\":\"y\"}},\"id\":\"5b9c8fa9-cf8e-4bdf-a3c4-618ff99289e4\",\"type\":\"Line\"},{\"attributes\":{\"plot\":{\"id\":\"e527ee8f-0a83-44a6-9819-34d0f737f584\",\"subtype\":\"Figure\",\"type\":\"Plot\"}},\"id\":\"e72293a7-c372-4701-a4f6-e3bd73064838\",\"type\":\"WheelZoomTool\"},{\"attributes\":{\"line_alpha\":{\"value\":0.1},\"line_color\":{\"value\":\"#1f77b4\"},\"line_dash\":[2,4],\"x\":{\"field\":\"x\"},\"y\":{\"field\":\"y\"}},\"id\":\"84977cfa-1245-45b4-8a94-2ef569a777a5\",\"type\":\"Line\"},{\"attributes\":{\"callback\":null,\"column_names\":[\"x\",\"y\"],\"data\":{\"x\":[0,1],\"y\":[0,1]}},\"id\":\"9537ef26-ec59-4db1-902e-e8d160152cca\",\"type\":\"ColumnDataSource\"},{\"attributes\":{\"callback\":null},\"id\":\"93ad2f28-c1a8-459b-b15f-7dbb164b903d\",\"type\":\"DataRange1d\"},{\"attributes\":{\"active_drag\":\"auto\",\"active_inspect\":\"auto\",\"active_scroll\":\"auto\",\"active_tap\":\"auto\",\"tools\":[{\"id\":\"a5332d66-cc7e-42fa-864d-af1356e96557\",\"type\":\"PanTool\"},{\"id\":\"e72293a7-c372-4701-a4f6-e3bd73064838\",\"type\":\"WheelZoomTool\"},{\"id\":\"99e2196b-6ecb-4974-822a-af02b20ab24b\",\"type\":\"BoxZoomTool\"},{\"id\":\"46b99291-6645-44c6-81fb-649af62b5bbe\",\"type\":\"SaveTool\"},{\"id\":\"86ba2cd5-0a4f-4e67-a849-c4c081bd20d0\",\"type\":\"ResetTool\"},{\"id\":\"269f1866-c79f-4efa-aec0-805de42f2259\",\"type\":\"HelpTool\"}]},\"id\":\"62a0321d-7572-4ffb-a312-50b1b57de984\",\"type\":\"Toolbar\"},{\"attributes\":{\"data_source\":{\"id\":\"9537ef26-ec59-4db1-902e-e8d160152cca\",\"type\":\"ColumnDataSource\"},\"glyph\":{\"id\":\"5a963fd4-31ee-4233-8151-0951b4814c36\",\"type\":\"Line\"},\"hover_glyph\":null,\"muted_glyph\":null,\"nonselection_glyph\":{\"id\":\"fb7bd03f-3670-4215-8fba-ffbea5f4cc2e\",\"type\":\"Line\"},\"selection_glyph\":null},\"id\":\"89debf54-2dd8-4c61-93b4-3aaf9942f7a1\",\"type\":\"GlyphRenderer\"},{\"attributes\":{\"plot\":{\"id\":\"e527ee8f-0a83-44a6-9819-34d0f737f584\",\"subtype\":\"Figure\",\"type\":\"Plot\"},\"ticker\":{\"id\":\"264ea35f-be34-4bce-86ba-90133b42684c\",\"type\":\"BasicTicker\"}},\"id\":\"a06a89e1-d4cc-4998-a620-4f727a5ab369\",\"type\":\"Grid\"},{\"attributes\":{\"label\":{\"value\":\"perfect performance\"},\"renderers\":[{\"id\":\"695e560e-c542-4139-8edb-d7a3f21ce067\",\"type\":\"GlyphRenderer\"}]},\"id\":\"6a5155e9-9baa-4d6a-907d-e74bd1c0012f\",\"type\":\"LegendItem\"},{\"attributes\":{\"axis_label\":\"True Positive Rate\",\"formatter\":{\"id\":\"ee53afda-61a4-4364-8ee2-3402fda8f009\",\"type\":\"BasicTickFormatter\"},\"plot\":{\"id\":\"e527ee8f-0a83-44a6-9819-34d0f737f584\",\"subtype\":\"Figure\",\"type\":\"Plot\"},\"ticker\":{\"id\":\"8510c9a8-5678-48ff-9a38-8bd3cf1e5ffd\",\"type\":\"BasicTicker\"}},\"id\":\"dae3bc52-e071-4e02-a97a-7c2f9c1b2aea\",\"type\":\"LinearAxis\"},{\"attributes\":{\"axis_label\":\"False Positive Rate\",\"formatter\":{\"id\":\"6d27de97-32e2-4201-a632-fa8a48c64473\",\"type\":\"BasicTickFormatter\"},\"plot\":{\"id\":\"e527ee8f-0a83-44a6-9819-34d0f737f584\",\"subtype\":\"Figure\",\"type\":\"Plot\"},\"ticker\":{\"id\":\"264ea35f-be34-4bce-86ba-90133b42684c\",\"type\":\"BasicTicker\"}},\"id\":\"330a5f0f-4a42-4a74-b83f-9640df398cfa\",\"type\":\"LinearAxis\"},{\"attributes\":{\"data_source\":{\"id\":\"ad72c151-3c44-4a11-8835-1f8cb1a68c5d\",\"type\":\"ColumnDataSource\"},\"glyph\":{\"id\":\"221147e5-dfb3-4704-a0b1-d589ffc88f65\",\"type\":\"Line\"},\"hover_glyph\":null,\"muted_glyph\":null,\"nonselection_glyph\":{\"id\":\"84977cfa-1245-45b4-8a94-2ef569a777a5\",\"type\":\"Line\"},\"selection_glyph\":null},\"id\":\"695e560e-c542-4139-8edb-d7a3f21ce067\",\"type\":\"GlyphRenderer\"},{\"attributes\":{},\"id\":\"8510c9a8-5678-48ff-9a38-8bd3cf1e5ffd\",\"type\":\"BasicTicker\"},{\"attributes\":{\"callback\":null,\"column_names\":[\"x\",\"y\"],\"data\":{\"x\":{\"__ndarray__\":\"AAAAAAAAAAAAAAAAAAAAAO1YgTDSjpU/7ViBMNKOlT+yAmGkHSugP7ICYaQdK6A/7ViBMNKOpT/tWIEw0o6lPyivobyG8qo/KK+hvIbyqj+yAmGkHSuwP7ICYaQdK7A/zy1x6vfcsj/PLXHq99yyPyivobyG8ro/KK+hvIbyuj+yAmGkHSvAP7ICYaQdK8A/AAAAAAAA8D8=\",\"dtype\":\"float64\",\"shape\":[19]},\"y\":{\"__ndarray__\":\"cB/BfQT3kT86i+ksprPoPzqL6Syms+g/NpTXUF5D6T82lNdQXkPpPyS4j+A+gus/JLiP4D6C6z8bymsor6HsPxvKayivoew/FtNZTGcx7T8W01lMZzHtPw3lNZTXUO4/DeU1lNdQ7j8J7iO4j+DuPwnuI7iP4O4/BPcR3Edw7z8E9xHcR3DvPwAAAAAAAPA/AAAAAAAA8D8=\",\"dtype\":\"float64\",\"shape\":[19]}}},\"id\":\"7ed8d76c-aaa2-4906-b29b-b7124951f0c4\",\"type\":\"ColumnDataSource\"},{\"attributes\":{\"data_source\":{\"id\":\"28fe6c1e-8416-4444-b10b-54bcdd8212c5\",\"type\":\"ColumnDataSource\"},\"glyph\":{\"id\":\"00974a04-afcf-48b1-85e5-fe844f78859a\",\"type\":\"Line\"},\"hover_glyph\":null,\"muted_glyph\":null,\"nonselection_glyph\":{\"id\":\"5b9c8fa9-cf8e-4bdf-a3c4-618ff99289e4\",\"type\":\"Line\"},\"selection_glyph\":null},\"id\":\"7536ba3f-8745-4388-8d97-5bb3f8a3cc56\",\"type\":\"GlyphRenderer\"},{\"attributes\":{\"line_color\":{\"value\":\"#d62728\"},\"line_dash\":[6],\"x\":{\"field\":\"x\"},\"y\":{\"field\":\"y\"}},\"id\":\"5a963fd4-31ee-4233-8151-0951b4814c36\",\"type\":\"Line\"},{\"attributes\":{\"line_color\":{\"value\":\"#9467bd\"},\"line_width\":{\"value\":2},\"x\":{\"field\":\"x\"},\"y\":{\"field\":\"y\"}},\"id\":\"00974a04-afcf-48b1-85e5-fe844f78859a\",\"type\":\"Line\"},{\"attributes\":{},\"id\":\"264ea35f-be34-4bce-86ba-90133b42684c\",\"type\":\"BasicTicker\"},{\"attributes\":{\"dimension\":1,\"plot\":{\"id\":\"e527ee8f-0a83-44a6-9819-34d0f737f584\",\"subtype\":\"Figure\",\"type\":\"Plot\"},\"ticker\":{\"id\":\"8510c9a8-5678-48ff-9a38-8bd3cf1e5ffd\",\"type\":\"BasicTicker\"}},\"id\":\"f6dc3f54-6098-421a-8610-29ca9b19e0f4\",\"type\":\"Grid\"},{\"attributes\":{\"callback\":null,\"column_names\":[\"x\",\"y\"],\"data\":{\"x\":{\"__ndarray__\":\"AAAAAAAAAAAAAAAAAAAAAO1YgTDSjoU/7ViBMNKOhT/tWIEw0o6lP+1YgTDSjqU/pB0rEEba4T+kHSsQRtrhPwAAAAAAAPA/\",\"dtype\":\"float64\",\"shape\":[9]},\"y\":{\"__ndarray__\":\"kiRJkiRJkj9u27Zt27btP27btm3btu0/t23btm3b7j+3bdu2bdvuP9u2bdu2be8/27Zt27Zt7z8AAAAAAADwPwAAAAAAAPA/\",\"dtype\":\"float64\",\"shape\":[9]}}},\"id\":\"0466ce7b-333f-4d85-a34f-2c706c638c8e\",\"type\":\"ColumnDataSource\"}],\"root_ids\":[\"e527ee8f-0a83-44a6-9819-34d0f737f584\"]},\"title\":\"Bokeh Application\",\"version\":\"0.12.6dev3\"}};\n",
       "            var render_items = [{\"docid\":\"8a289a41-86d2-4f40-8293-943d75fdff1d\",\"elementid\":\"2d16f08a-70de-4d06-8e30-a5bcd850c868\",\"modelid\":\"e527ee8f-0a83-44a6-9819-34d0f737f584\"}];\n",
       "            \n",
       "            Bokeh.embed.embed_items(docs_json, render_items);\n",
       "          };\n",
       "          if (document.readyState != \"loading\") fn();\n",
       "          else document.addEventListener(\"DOMContentLoaded\", fn);\n",
       "        })();\n",
       "      },\n",
       "      function(Bokeh) {\n",
       "      }\n",
       "    ];\n",
       "  \n",
       "    function run_inline_js() {\n",
       "      \n",
       "      if ((window.Bokeh !== undefined) || (force === true)) {\n",
       "        for (var i = 0; i < inline_js.length; i++) {\n",
       "          inline_js[i](window.Bokeh);\n",
       "        }if (force === true) {\n",
       "          display_loaded();\n",
       "        }} else if (Date.now() < window._bokeh_timeout) {\n",
       "        setTimeout(run_inline_js, 100);\n",
       "      } else if (!window._bokeh_failed_load) {\n",
       "        console.log(\"Bokeh: BokehJS failed to load within specified timeout.\");\n",
       "        window._bokeh_failed_load = true;\n",
       "      } else if (force !== true) {\n",
       "        var cell = $(document.getElementById(\"2d16f08a-70de-4d06-8e30-a5bcd850c868\")).parents('.cell').data().cell;\n",
       "        cell.output_area.append_execute_result(NB_LOAD_WARNING)\n",
       "      }\n",
       "  \n",
       "    }\n",
       "  \n",
       "    if (window._bokeh_is_loading === 0) {\n",
       "      console.log(\"Bokeh: BokehJS loaded, going straight to plotting\");\n",
       "      run_inline_js();\n",
       "    } else {\n",
       "      load_libs(js_urls, function() {\n",
       "        console.log(\"Bokeh: BokehJS plotting callback run at\", now());\n",
       "        run_inline_js();\n",
       "      });\n",
       "    }\n",
       "  }(this));\n",
       "</script>"
      ]
     },
     "metadata": {},
     "output_type": "display_data"
    }
   ],
   "source": [
    "n_splits = 3\n",
    "skf3 = sklearn.model_selection.StratifiedKFold(n_splits=n_splits, random_state=rs)\n",
    "kfold3 = skf3.split(X_train, y_train)\n",
    "\n",
    "mean_tpr = 0.0\n",
    "mean_fpr = np.linspace(0, 1, 100)  # the x-values for the curves\n",
    "all_tpr = []\n",
    "\n",
    "p = bokeh.plotting.figure(width=500, height=500, \n",
    "                          x_axis_label='False Positive Rate',\n",
    "                          y_axis_label='True Positive Rate',\n",
    "                          title='Receiver Operator Characteristic')\n",
    "\n",
    "for k, (train, test) in enumerate(kfold3):\n",
    "    print('k: {}'.format(k))\n",
    "    proba = svc_pipe.fit(X_train[train], y_train[train]).predict_proba(X_train[test])\n",
    "    \n",
    "    fpr, tpr, thresholds = sklearn.metrics.roc_curve(y_train[test], proba[:, 1], pos_label=1)\n",
    "    \n",
    "    mean_tpr += scipy.interp(mean_fpr, fpr, tpr)\n",
    "    print(mean_tpr[0])\n",
    "    # mean_tpr[0] = 0.0\n",
    "    \n",
    "    roc_auc = sklearn.metrics.auc(fpr, tpr)\n",
    "    p.line(fpr, tpr, legend='ROC fold {}, AUC = {:.3}'.format(k+1, roc_auc), color=palette[k])\n",
    "\n",
    "\n",
    "p.line([0, 1], [0, 1], line_dash='dashed', legend='random guessing', color=palette[k+1])\n",
    "\n",
    "mean_tpr /= n_splits\n",
    "print(mean_tpr[-1])\n",
    "mean_tpr[-1] = 1.0\n",
    "mean_auc = sklearn.metrics.auc(mean_fpr, mean_tpr)\n",
    "p.line(mean_fpr, mean_tpr, legend='mean ROC, AUC = {:.3}'.format(mean_auc), \n",
    "       color=palette[k+2], line_width=2)\n",
    "\n",
    "p.line([0, 0, 1], [0, 1, 1], line_dash='dotted', legend='perfect performance', color=palette[k+3])\n",
    "\n",
    "\n",
    "p.legend.location = 'bottom_right'\n",
    "\n",
    "\n",
    "bokeh.plotting.show(p)"
   ]
  },
  {
   "cell_type": "code",
   "execution_count": 53,
   "metadata": {
    "collapsed": false
   },
   "outputs": [
    {
     "data": {
      "text/plain": [
       "array([ 0.92857143,  0.92857143,  0.96428571,  0.96428571,  0.96428571,\n",
       "        0.98214286,  0.98214286,  0.98214286,  0.98214286,  0.98214286,\n",
       "        0.98214286,  0.98214286,  0.98214286,  0.98214286,  0.98214286,\n",
       "        0.98214286,  0.98214286,  0.98214286,  0.98214286,  0.98214286,\n",
       "        0.98214286,  0.98214286,  0.98214286,  0.98214286,  0.98214286,\n",
       "        0.98214286,  0.98214286,  0.98214286,  0.98214286,  0.98214286,\n",
       "        0.98214286,  0.98214286,  0.98214286,  0.98214286,  0.98214286,\n",
       "        0.98214286,  0.98214286,  0.98214286,  0.98214286,  0.98214286,\n",
       "        0.98214286,  0.98214286,  0.98214286,  0.98214286,  0.98214286,\n",
       "        0.98214286,  0.98214286,  0.98214286,  0.98214286,  0.98214286,\n",
       "        0.98214286,  0.98214286,  0.98214286,  0.98214286,  0.98214286,\n",
       "        0.98214286,  1.        ,  1.        ,  1.        ,  1.        ,\n",
       "        1.        ,  1.        ,  1.        ,  1.        ,  1.        ,\n",
       "        1.        ,  1.        ,  1.        ,  1.        ,  1.        ,\n",
       "        1.        ,  1.        ,  1.        ,  1.        ,  1.        ,\n",
       "        1.        ,  1.        ,  1.        ,  1.        ,  1.        ,\n",
       "        1.        ,  1.        ,  1.        ,  1.        ,  1.        ,\n",
       "        1.        ,  1.        ,  1.        ,  1.        ,  1.        ,\n",
       "        1.        ,  1.        ,  1.        ,  1.        ,  1.        ,\n",
       "        1.        ,  1.        ,  1.        ,  1.        ,  1.        ])"
      ]
     },
     "execution_count": 53,
     "metadata": {},
     "output_type": "execute_result"
    }
   ],
   "source": [
    "scipy.interp(mean_fpr, fpr, tpr)"
   ]
  },
  {
   "cell_type": "code",
   "execution_count": 54,
   "metadata": {
    "collapsed": false
   },
   "outputs": [
    {
     "data": {
      "text/plain": [
       "array([ 0.        ,  0.        ,  0.01052632,  0.01052632,  0.04210526,\n",
       "        0.04210526,  0.55789474,  0.55789474,  1.        ])"
      ]
     },
     "execution_count": 54,
     "metadata": {},
     "output_type": "execute_result"
    }
   ],
   "source": [
    "fpr"
   ]
  },
  {
   "cell_type": "code",
   "execution_count": 55,
   "metadata": {
    "collapsed": false
   },
   "outputs": [
    {
     "data": {
      "text/plain": [
       "array([ 0.01785714,  0.92857143,  0.92857143,  0.96428571,  0.96428571,\n",
       "        0.98214286,  0.98214286,  1.        ,  1.        ])"
      ]
     },
     "execution_count": 55,
     "metadata": {},
     "output_type": "execute_result"
    }
   ],
   "source": [
    "tpr"
   ]
  },
  {
   "cell_type": "code",
   "execution_count": null,
   "metadata": {
    "collapsed": true
   },
   "outputs": [],
   "source": []
  },
  {
   "cell_type": "code",
   "execution_count": 56,
   "metadata": {
    "collapsed": false
   },
   "outputs": [
    {
     "data": {
      "text/html": [
       "\n",
       "\n",
       "    <div class=\"bk-root\">\n",
       "        <div class=\"bk-plotdiv\" id=\"4872fe7e-8632-4760-814e-d280df659a01\"></div>\n",
       "    </div>\n",
       "<script type=\"text/javascript\">\n",
       "  \n",
       "  (function(global) {\n",
       "    function now() {\n",
       "      return new Date();\n",
       "    }\n",
       "  \n",
       "    var force = false;\n",
       "  \n",
       "    if (typeof (window._bokeh_onload_callbacks) === \"undefined\" || force === true) {\n",
       "      window._bokeh_onload_callbacks = [];\n",
       "      window._bokeh_is_loading = undefined;\n",
       "    }\n",
       "  \n",
       "  \n",
       "    \n",
       "    if (typeof (window._bokeh_timeout) === \"undefined\" || force === true) {\n",
       "      window._bokeh_timeout = Date.now() + 0;\n",
       "      window._bokeh_failed_load = false;\n",
       "    }\n",
       "  \n",
       "    var NB_LOAD_WARNING = {'data': {'text/html':\n",
       "       \"<div style='background-color: #fdd'>\\n\"+\n",
       "       \"<p>\\n\"+\n",
       "       \"BokehJS does not appear to have successfully loaded. If loading BokehJS from CDN, this \\n\"+\n",
       "       \"may be due to a slow or bad network connection. Possible fixes:\\n\"+\n",
       "       \"</p>\\n\"+\n",
       "       \"<ul>\\n\"+\n",
       "       \"<li>re-rerun `output_notebook()` to attempt to load from CDN again, or</li>\\n\"+\n",
       "       \"<li>use INLINE resources instead, as so:</li>\\n\"+\n",
       "       \"</ul>\\n\"+\n",
       "       \"<code>\\n\"+\n",
       "       \"from bokeh.resources import INLINE\\n\"+\n",
       "       \"output_notebook(resources=INLINE)\\n\"+\n",
       "       \"</code>\\n\"+\n",
       "       \"</div>\"}};\n",
       "  \n",
       "    function display_loaded() {\n",
       "      if (window.Bokeh !== undefined) {\n",
       "        var el = document.getElementById(\"4872fe7e-8632-4760-814e-d280df659a01\");\n",
       "        el.textContent = \"BokehJS \" + Bokeh.version + \" successfully loaded.\";\n",
       "      } else if (Date.now() < window._bokeh_timeout) {\n",
       "        setTimeout(display_loaded, 100)\n",
       "      }\n",
       "    }\n",
       "  \n",
       "    function run_callbacks() {\n",
       "      window._bokeh_onload_callbacks.forEach(function(callback) { callback() });\n",
       "      delete window._bokeh_onload_callbacks\n",
       "      console.info(\"Bokeh: all callbacks have finished\");\n",
       "    }\n",
       "  \n",
       "    function load_libs(js_urls, callback) {\n",
       "      window._bokeh_onload_callbacks.push(callback);\n",
       "      if (window._bokeh_is_loading > 0) {\n",
       "        console.log(\"Bokeh: BokehJS is being loaded, scheduling callback at\", now());\n",
       "        return null;\n",
       "      }\n",
       "      if (js_urls == null || js_urls.length === 0) {\n",
       "        run_callbacks();\n",
       "        return null;\n",
       "      }\n",
       "      console.log(\"Bokeh: BokehJS not loaded, scheduling load and callback at\", now());\n",
       "      window._bokeh_is_loading = js_urls.length;\n",
       "      for (var i = 0; i < js_urls.length; i++) {\n",
       "        var url = js_urls[i];\n",
       "        var s = document.createElement('script');\n",
       "        s.src = url;\n",
       "        s.async = false;\n",
       "        s.onreadystatechange = s.onload = function() {\n",
       "          window._bokeh_is_loading--;\n",
       "          if (window._bokeh_is_loading === 0) {\n",
       "            console.log(\"Bokeh: all BokehJS libraries loaded\");\n",
       "            run_callbacks()\n",
       "          }\n",
       "        };\n",
       "        s.onerror = function() {\n",
       "          console.warn(\"failed to load library \" + url);\n",
       "        };\n",
       "        console.log(\"Bokeh: injecting script tag for BokehJS library: \", url);\n",
       "        document.getElementsByTagName(\"head\")[0].appendChild(s);\n",
       "      }\n",
       "    };var element = document.getElementById(\"4872fe7e-8632-4760-814e-d280df659a01\");\n",
       "    if (element == null) {\n",
       "      console.log(\"Bokeh: ERROR: autoload.js configured with elementid '4872fe7e-8632-4760-814e-d280df659a01' but no matching script tag was found. \")\n",
       "      return false;\n",
       "    }\n",
       "  \n",
       "    var js_urls = [];\n",
       "  \n",
       "    var inline_js = [\n",
       "      function(Bokeh) {\n",
       "        (function() {\n",
       "          var fn = function() {\n",
       "            var docs_json = {\"f08ab3c7-7dd0-449e-9d48-50e26b006df4\":{\"roots\":{\"references\":[{\"attributes\":{\"plot\":null,\"text\":\"Receiver Operator Characteristic\"},\"id\":\"304d8a2f-3b30-487f-915d-1f28b6cf80ec\",\"type\":\"Title\"},{\"attributes\":{\"plot\":{\"id\":\"6a9d4db1-6493-4132-a45b-f0bcc339c66b\",\"subtype\":\"Figure\",\"type\":\"Plot\"},\"ticker\":{\"id\":\"cb802e9c-3d40-41a8-a2ee-f2329b52f153\",\"type\":\"BasicTicker\"}},\"id\":\"cfe92a14-6212-4c54-85f8-76d6e10470a1\",\"type\":\"Grid\"},{\"attributes\":{},\"id\":\"de3d9816-e1af-485b-85f1-34a9d6514238\",\"type\":\"BasicTickFormatter\"},{\"attributes\":{\"active_drag\":\"auto\",\"active_inspect\":\"auto\",\"active_scroll\":\"auto\",\"active_tap\":\"auto\",\"tools\":[{\"id\":\"e6daaeb0-04e7-4a93-99d2-e5d53c770ca3\",\"type\":\"PanTool\"},{\"id\":\"6aa31602-5a72-40dd-ab74-c1bb6b7acf9d\",\"type\":\"WheelZoomTool\"},{\"id\":\"23b2d807-dcf7-411f-b3b9-f88270574575\",\"type\":\"BoxZoomTool\"},{\"id\":\"98efa367-cc98-4c1f-bacf-f56655346885\",\"type\":\"SaveTool\"},{\"id\":\"c92f2dba-bd08-4483-b8b8-895dad3e3c95\",\"type\":\"ResetTool\"},{\"id\":\"21adafce-f005-44d1-8cd1-ba710d9f0385\",\"type\":\"HelpTool\"}]},\"id\":\"49446d54-3de3-4436-89bf-8dae677a1c4e\",\"type\":\"Toolbar\"},{\"attributes\":{\"callback\":null,\"column_names\":[\"x\",\"y\"],\"data\":{\"x\":{\"__ndarray__\":\"AAAAAAAAAAAAAAAAAAAAAO1YgTDSjpU/7ViBMNKOlT+yAmGkHSugP7ICYaQdK6A/7ViBMNKOpT/tWIEw0o6lPyivobyG8qo/KK+hvIbyqj+yAmGkHSuwP7ICYaQdK7A/zy1x6vfcsj/PLXHq99yyPyivobyG8ro/KK+hvIbyuj+yAmGkHSvAP7ICYaQdK8A/AAAAAAAA8D8=\",\"dtype\":\"float64\",\"shape\":[19]},\"y\":{\"__ndarray__\":\"cB/BfQT3kT86i+ksprPoPzqL6Syms+g/NpTXUF5D6T82lNdQXkPpPyS4j+A+gus/JLiP4D6C6z8bymsor6HsPxvKayivoew/FtNZTGcx7T8W01lMZzHtPw3lNZTXUO4/DeU1lNdQ7j8J7iO4j+DuPwnuI7iP4O4/BPcR3Edw7z8E9xHcR3DvPwAAAAAAAPA/AAAAAAAA8D8=\",\"dtype\":\"float64\",\"shape\":[19]}}},\"id\":\"6a17dcbb-060b-4dfe-8702-48cae0023120\",\"type\":\"ColumnDataSource\"},{\"attributes\":{\"line_color\":{\"value\":\"#1f77b4\"},\"line_dash\":[6],\"x\":{\"field\":\"x\"},\"y\":{\"field\":\"y\"}},\"id\":\"a9b6ee0b-bc54-4ce9-94d9-324bcc41c8a3\",\"type\":\"Line\"},{\"attributes\":{\"axis_label\":\"True Positive Rate\",\"formatter\":{\"id\":\"ce2fee78-7f56-401b-9fe2-63d71f720fe6\",\"type\":\"BasicTickFormatter\"},\"plot\":{\"id\":\"6a9d4db1-6493-4132-a45b-f0bcc339c66b\",\"subtype\":\"Figure\",\"type\":\"Plot\"},\"ticker\":{\"id\":\"176cdca8-e88e-4d5d-9f16-bca8665dba22\",\"type\":\"BasicTicker\"}},\"id\":\"803040c2-1076-470e-8961-88571cecb253\",\"type\":\"LinearAxis\"},{\"attributes\":{},\"id\":\"ce2fee78-7f56-401b-9fe2-63d71f720fe6\",\"type\":\"BasicTickFormatter\"},{\"attributes\":{\"plot\":{\"id\":\"6a9d4db1-6493-4132-a45b-f0bcc339c66b\",\"subtype\":\"Figure\",\"type\":\"Plot\"}},\"id\":\"e6daaeb0-04e7-4a93-99d2-e5d53c770ca3\",\"type\":\"PanTool\"},{\"attributes\":{\"label\":{\"value\":\"ROC fold 3, AUC = 0.989\"},\"renderers\":[{\"id\":\"51c7290b-4988-462d-81f8-c4aa522b6054\",\"type\":\"GlyphRenderer\"}]},\"id\":\"1851658c-3cd3-4d85-8ec0-ff051c75c331\",\"type\":\"LegendItem\"},{\"attributes\":{\"data_source\":{\"id\":\"6a17dcbb-060b-4dfe-8702-48cae0023120\",\"type\":\"ColumnDataSource\"},\"glyph\":{\"id\":\"ed383add-f817-4b0a-a775-24fc85919aee\",\"type\":\"Line\"},\"hover_glyph\":null,\"muted_glyph\":null,\"nonselection_glyph\":{\"id\":\"cfdfe2a6-2b1f-432e-9c1c-6f7283a16e16\",\"type\":\"Line\"},\"selection_glyph\":null},\"id\":\"e12fa823-cd76-44e0-8113-fd0fa18e4710\",\"type\":\"GlyphRenderer\"},{\"attributes\":{\"items\":[{\"id\":\"e93f8b43-8162-4588-90b3-2dad55d946c6\",\"type\":\"LegendItem\"},{\"id\":\"6f1008aa-5943-45f3-a72b-ee4bd5efacb6\",\"type\":\"LegendItem\"},{\"id\":\"1851658c-3cd3-4d85-8ec0-ff051c75c331\",\"type\":\"LegendItem\"},{\"id\":\"0bbe5013-3da8-48a6-aee5-8a1a15dc6d14\",\"type\":\"LegendItem\"},{\"id\":\"06c9ee97-b087-40e8-8ba7-1f1007d87bb0\",\"type\":\"LegendItem\"},{\"id\":\"90451393-4115-443f-b079-b6b4cefb9981\",\"type\":\"LegendItem\"}],\"location\":\"bottom_right\",\"plot\":{\"id\":\"6a9d4db1-6493-4132-a45b-f0bcc339c66b\",\"subtype\":\"Figure\",\"type\":\"Plot\"}},\"id\":\"112d1ff1-ca71-4564-ba54-765e3aae00a9\",\"type\":\"Legend\"},{\"attributes\":{\"callback\":null,\"column_names\":[\"x\",\"y\"],\"data\":{\"x\":{\"__ndarray__\":\"AAAAAAAAAAAAAAAAAAAAAO1YgTDSjoU/7ViBMNKOhT/tWIEw0o6VP+1YgTDSjpU/KK+hvIbyqj8or6G8hvKqPwAAAAAAAPA/\",\"dtype\":\"float64\",\"shape\":[9]},\"y\":{\"__ndarray__\":\"cB/BfQT3kT8N5TWU11DuPw3lNZTXUO4/Ce4juI/g7j8J7iO4j+DuPwT3EdxHcO8/BPcR3Edw7z8AAAAAAADwPwAAAAAAAPA/\",\"dtype\":\"float64\",\"shape\":[9]}}},\"id\":\"77137380-4b81-4a78-8973-1a3cdcb3c155\",\"type\":\"ColumnDataSource\"},{\"attributes\":{},\"id\":\"176cdca8-e88e-4d5d-9f16-bca8665dba22\",\"type\":\"BasicTicker\"},{\"attributes\":{\"label\":{\"value\":\"ROC fold 2, AUC = 0.999\"},\"renderers\":[{\"id\":\"0db3f150-4328-4afc-a79f-1a3212c38911\",\"type\":\"GlyphRenderer\"}]},\"id\":\"6f1008aa-5943-45f3-a72b-ee4bd5efacb6\",\"type\":\"LegendItem\"},{\"attributes\":{\"bottom_units\":\"screen\",\"fill_alpha\":{\"value\":0.5},\"fill_color\":{\"value\":\"lightgrey\"},\"left_units\":\"screen\",\"level\":\"overlay\",\"line_alpha\":{\"value\":1.0},\"line_color\":{\"value\":\"black\"},\"line_dash\":[4,4],\"line_width\":{\"value\":2},\"plot\":null,\"render_mode\":\"css\",\"right_units\":\"screen\",\"top_units\":\"screen\"},\"id\":\"2e380aa7-c1ed-4858-85f2-87e944f9aa88\",\"type\":\"BoxAnnotation\"},{\"attributes\":{\"plot\":{\"id\":\"6a9d4db1-6493-4132-a45b-f0bcc339c66b\",\"subtype\":\"Figure\",\"type\":\"Plot\"}},\"id\":\"c92f2dba-bd08-4483-b8b8-895dad3e3c95\",\"type\":\"ResetTool\"},{\"attributes\":{\"callback\":null,\"column_names\":[\"x\",\"y\"],\"data\":{\"x\":{\"__ndarray__\":\"AAAAAAAAAAAAAAAAAAAAAO1YgTDSjoU/7ViBMNKOhT/tWIEw0o6lP+1YgTDSjqU/pB0rEEba4T+kHSsQRtrhPwAAAAAAAPA/\",\"dtype\":\"float64\",\"shape\":[9]},\"y\":{\"__ndarray__\":\"kiRJkiRJkj9u27Zt27btP27btm3btu0/t23btm3b7j+3bdu2bdvuP9u2bdu2be8/27Zt27Zt7z8AAAAAAADwPwAAAAAAAPA/\",\"dtype\":\"float64\",\"shape\":[9]}}},\"id\":\"b3ceebb2-0f61-485b-8caa-f8329fe8486f\",\"type\":\"ColumnDataSource\"},{\"attributes\":{\"plot\":{\"id\":\"6a9d4db1-6493-4132-a45b-f0bcc339c66b\",\"subtype\":\"Figure\",\"type\":\"Plot\"}},\"id\":\"6aa31602-5a72-40dd-ab74-c1bb6b7acf9d\",\"type\":\"WheelZoomTool\"},{\"attributes\":{\"data_source\":{\"id\":\"24e993bc-e01d-4441-bf7d-41efd94064c0\",\"type\":\"ColumnDataSource\"},\"glyph\":{\"id\":\"34fb3842-d002-4cc4-843e-710cd7bf79af\",\"type\":\"Line\"},\"hover_glyph\":null,\"muted_glyph\":null,\"nonselection_glyph\":{\"id\":\"e3827512-646c-402a-8271-246b8192c473\",\"type\":\"Line\"},\"selection_glyph\":null},\"id\":\"47197e31-b4ea-423a-acc1-2ebc92a4b193\",\"type\":\"GlyphRenderer\"},{\"attributes\":{\"overlay\":{\"id\":\"2e380aa7-c1ed-4858-85f2-87e944f9aa88\",\"type\":\"BoxAnnotation\"},\"plot\":{\"id\":\"6a9d4db1-6493-4132-a45b-f0bcc339c66b\",\"subtype\":\"Figure\",\"type\":\"Plot\"}},\"id\":\"23b2d807-dcf7-411f-b3b9-f88270574575\",\"type\":\"BoxZoomTool\"},{\"attributes\":{\"dimension\":1,\"plot\":{\"id\":\"6a9d4db1-6493-4132-a45b-f0bcc339c66b\",\"subtype\":\"Figure\",\"type\":\"Plot\"},\"ticker\":{\"id\":\"176cdca8-e88e-4d5d-9f16-bca8665dba22\",\"type\":\"BasicTicker\"}},\"id\":\"d3409bb7-994b-489a-8e51-3dbf6df0b547\",\"type\":\"Grid\"},{\"attributes\":{\"line_color\":{\"value\":\"#ff7f0e\"},\"line_width\":{\"value\":2},\"x\":{\"field\":\"x\"},\"y\":{\"field\":\"y\"}},\"id\":\"34fb3842-d002-4cc4-843e-710cd7bf79af\",\"type\":\"Line\"},{\"attributes\":{\"line_alpha\":{\"value\":0.1},\"line_color\":{\"value\":\"#1f77b4\"},\"x\":{\"field\":\"x\"},\"y\":{\"field\":\"y\"}},\"id\":\"cfdfe2a6-2b1f-432e-9c1c-6f7283a16e16\",\"type\":\"Line\"},{\"attributes\":{},\"id\":\"cb802e9c-3d40-41a8-a2ee-f2329b52f153\",\"type\":\"BasicTicker\"},{\"attributes\":{\"data_source\":{\"id\":\"69d95d7e-b5da-4d35-8338-4734348761cf\",\"type\":\"ColumnDataSource\"},\"glyph\":{\"id\":\"d21b9f8e-52be-4c56-a3b1-68ea993cb205\",\"type\":\"Line\"},\"hover_glyph\":null,\"muted_glyph\":null,\"nonselection_glyph\":{\"id\":\"77ec5e5f-193f-4ffc-a052-7e218de1d5a4\",\"type\":\"Line\"},\"selection_glyph\":null},\"id\":\"1bcbfb0b-34a8-4da9-aec7-e54782964d7e\",\"type\":\"GlyphRenderer\"},{\"attributes\":{\"callback\":null},\"id\":\"de20531f-1902-4e99-9d73-afffdb426380\",\"type\":\"DataRange1d\"},{\"attributes\":{\"line_color\":{\"value\":\"#ff7f0e\"},\"x\":{\"field\":\"x\"},\"y\":{\"field\":\"y\"}},\"id\":\"d3e01877-a71d-49cb-93a8-d0d4a9a00b8d\",\"type\":\"Line\"},{\"attributes\":{\"callback\":null},\"id\":\"77c7e477-1508-4555-a7fb-e9fb2eb90df1\",\"type\":\"DataRange1d\"},{\"attributes\":{\"line_alpha\":{\"value\":0.1},\"line_color\":{\"value\":\"#1f77b4\"},\"line_dash\":[2,4],\"x\":{\"field\":\"x\"},\"y\":{\"field\":\"y\"}},\"id\":\"77ec5e5f-193f-4ffc-a052-7e218de1d5a4\",\"type\":\"Line\"},{\"attributes\":{\"label\":{\"value\":\"perfect performance\"},\"renderers\":[{\"id\":\"1bcbfb0b-34a8-4da9-aec7-e54782964d7e\",\"type\":\"GlyphRenderer\"}]},\"id\":\"90451393-4115-443f-b079-b6b4cefb9981\",\"type\":\"LegendItem\"},{\"attributes\":{\"axis_label\":\"False Positive Rate\",\"formatter\":{\"id\":\"de3d9816-e1af-485b-85f1-34a9d6514238\",\"type\":\"BasicTickFormatter\"},\"plot\":{\"id\":\"6a9d4db1-6493-4132-a45b-f0bcc339c66b\",\"subtype\":\"Figure\",\"type\":\"Plot\"},\"ticker\":{\"id\":\"cb802e9c-3d40-41a8-a2ee-f2329b52f153\",\"type\":\"BasicTicker\"}},\"id\":\"b9c400c1-0112-45cf-a1ad-58d1da112e38\",\"type\":\"LinearAxis\"},{\"attributes\":{\"data_source\":{\"id\":\"31181165-8e1a-48a9-bcdc-f7beee1fd2ac\",\"type\":\"ColumnDataSource\"},\"glyph\":{\"id\":\"a9b6ee0b-bc54-4ce9-94d9-324bcc41c8a3\",\"type\":\"Line\"},\"hover_glyph\":null,\"muted_glyph\":null,\"nonselection_glyph\":{\"id\":\"084cc63a-dbcd-4743-b161-5ab1f23023bd\",\"type\":\"Line\"},\"selection_glyph\":null},\"id\":\"e7621e61-c503-41a4-acde-aca90b4104a3\",\"type\":\"GlyphRenderer\"},{\"attributes\":{\"plot\":{\"id\":\"6a9d4db1-6493-4132-a45b-f0bcc339c66b\",\"subtype\":\"Figure\",\"type\":\"Plot\"}},\"id\":\"21adafce-f005-44d1-8cd1-ba710d9f0385\",\"type\":\"HelpTool\"},{\"attributes\":{\"line_alpha\":{\"value\":0.1},\"line_color\":{\"value\":\"#1f77b4\"},\"line_width\":{\"value\":2},\"x\":{\"field\":\"x\"},\"y\":{\"field\":\"y\"}},\"id\":\"e3827512-646c-402a-8271-246b8192c473\",\"type\":\"Line\"},{\"attributes\":{\"line_color\":{\"value\":\"#2ca02c\"},\"line_dash\":[2,4],\"x\":{\"field\":\"x\"},\"y\":{\"field\":\"y\"}},\"id\":\"d21b9f8e-52be-4c56-a3b1-68ea993cb205\",\"type\":\"Line\"},{\"attributes\":{\"line_alpha\":{\"value\":0.1},\"line_color\":{\"value\":\"#1f77b4\"},\"line_dash\":[6],\"x\":{\"field\":\"x\"},\"y\":{\"field\":\"y\"}},\"id\":\"084cc63a-dbcd-4743-b161-5ab1f23023bd\",\"type\":\"Line\"},{\"attributes\":{\"plot\":{\"id\":\"6a9d4db1-6493-4132-a45b-f0bcc339c66b\",\"subtype\":\"Figure\",\"type\":\"Plot\"}},\"id\":\"98efa367-cc98-4c1f-bacf-f56655346885\",\"type\":\"SaveTool\"},{\"attributes\":{\"label\":{\"value\":\"random guessing\"},\"renderers\":[{\"id\":\"e7621e61-c503-41a4-acde-aca90b4104a3\",\"type\":\"GlyphRenderer\"}]},\"id\":\"0bbe5013-3da8-48a6-aee5-8a1a15dc6d14\",\"type\":\"LegendItem\"},{\"attributes\":{\"data_source\":{\"id\":\"77137380-4b81-4a78-8973-1a3cdcb3c155\",\"type\":\"ColumnDataSource\"},\"glyph\":{\"id\":\"d3e01877-a71d-49cb-93a8-d0d4a9a00b8d\",\"type\":\"Line\"},\"hover_glyph\":null,\"muted_glyph\":null,\"nonselection_glyph\":{\"id\":\"eed2d3f3-85b7-4c89-9449-17b34849077a\",\"type\":\"Line\"},\"selection_glyph\":null},\"id\":\"0db3f150-4328-4afc-a79f-1a3212c38911\",\"type\":\"GlyphRenderer\"},{\"attributes\":{},\"id\":\"da739fad-a9dd-45c2-b4e7-815d762b7ce1\",\"type\":\"ToolEvents\"},{\"attributes\":{\"label\":{\"value\":\"mean ROC, AUC = 0.987\"},\"renderers\":[{\"id\":\"47197e31-b4ea-423a-acc1-2ebc92a4b193\",\"type\":\"GlyphRenderer\"}]},\"id\":\"06c9ee97-b087-40e8-8ba7-1f1007d87bb0\",\"type\":\"LegendItem\"},{\"attributes\":{\"label\":{\"value\":\"ROC fold 1, AUC = 0.987\"},\"renderers\":[{\"id\":\"e12fa823-cd76-44e0-8113-fd0fa18e4710\",\"type\":\"GlyphRenderer\"}]},\"id\":\"e93f8b43-8162-4588-90b3-2dad55d946c6\",\"type\":\"LegendItem\"},{\"attributes\":{\"callback\":null,\"column_names\":[\"x\",\"y\"],\"data\":{\"x\":{\"__ndarray__\":\"AAAAAAAAAABbv1Kg1q+EP1u/UqDWr5Q/CB988MEHnz9bv1Kg1q+kPzJvZ0jM26k/CB988MEHrz9wZ0jM2xmyP1u/UqDWr7Q/RhdddNFFtz8yb2dIzNu5Px3HcRzHcbw/CB988MEHvz96O0Ni3s7AP3BnSMzbGcI/ZZNNNtlkwz9bv1Kg1q/EP1HrVwrU+sU/RhdddNFFxz88Q2LezpDIPzJvZ0jM28k/J5tssskmyz8dx3Ecx3HMPxPzdobEvM0/CB988MEHzz9/pUCtXynQP3o7Q2LeztA/ddFFF1100T9wZ0jM2xnSP2r9SoFav9I/ZZNNNtlk0z9gKVDrVwrUP1u/UqDWr9Q/VlVVVVVV1T9R61cK1PrVP0yBWr9SoNY/RhdddNFF1z9BrV8pUOvXPzxDYt7OkNg/N9lkk0022T8yb2dIzNvZPy0Fav1Kgdo/J5tssskm2z8iMW9nSMzbPx3HcRzHcdw/GF100UUX3T8T83aGxLzdPw6JeTtDYt4/CB988MEH3z8DtX6lQK3fP3+lQK1fKeA/ffDBBx984D96O0Ni3s7gP3eGxLydIeE/ddFFF1104T9yHMdxHMfhP3BnSMzbGeI/bbLJJpts4j9q/UqBWr/iP2hIzNsZEuM/ZZNNNtlk4z9j3s6QmLfjP2ApUOtXCuQ/XnTRRRdd5D9bv1Kg1q/kP1gK1PqVAuU/VlVVVVVV5T9ToNavFKjlP1HrVwrU+uU/TjbZZJNN5j9MgVq/UqDmP0nM2xkS8+Y/RhdddNFF5z9EYt7OkJjnP0GtXylQ6+c/P/jggw8+6D88Q2LezpDoPzmO4ziO4+g/N9lkk0026T80JObtDInpPzJvZ0jM2+k/L7rooosu6j8tBWr9SoHqPypQ61cK1Oo/J5tssskm6z8l5u0MiXnrPyIxb2dIzOs/IHzwwQcf7D8dx3Ecx3HsPxsS83aGxOw/GF100UUX7T8VqPUrBWrtPxPzdobEvO0/ED744IMP7j8OiXk7Q2LuPwvU+pUCte4/CB988MEH7z8Gav1KgVrvPwO1fqVAre8/AAAAAAAA8D8=\",\"dtype\":\"float64\",\"shape\":[100]},\"y\":{\"__ndarray__\":\"AAAAAAAAAADow5wPcz7sP/9M+DPhz+w/+1LsS7Ev7T/1XtR7Ue/tP/8n+Z/kf+4/+y3tt7Tf7j/4M+HPhD/vP/c229tsb+8/9zbb22xv7z/3NtvbbG/vP/U51edUn+8/9TnV51Sf7z/0PM/zPM/vP/Q8z/M8z+8/9DzP8zzP7z/0PM/zPM/vP/Q8z/M8z+8/9DzP8zzP7z/0PM/zPM/vP/Q8z/M8z+8/9DzP8zzP7z/0PM/zPM/vP/Q8z/M8z+8/9DzP8zzP7z/0PM/zPM/vP/Q8z/M8z+8/9DzP8zzP7z/0PM/zPM/vP/Q8z/M8z+8/9DzP8zzP7z/0PM/zPM/vP/Q8z/M8z+8/9DzP8zzP7z/0PM/zPM/vP/Q8z/M8z+8/9DzP8zzP7z/0PM/zPM/vP/Q8z/M8z+8/9DzP8zzP7z/0PM/zPM/vP/Q8z/M8z+8/9DzP8zzP7z/0PM/zPM/vP/Q8z/M8z+8/9DzP8zzP7z/0PM/zPM/vP/Q8z/M8z+8/9DzP8zzP7z/0PM/zPM/vP/Q8z/M8z+8/9DzP8zzP7z/0PM/zPM/vP/Q8z/M8z+8/9DzP8zzP7z/0PM/zPM/vPwAAAAAAAPA/AAAAAAAA8D8AAAAAAADwPwAAAAAAAPA/AAAAAAAA8D8AAAAAAADwPwAAAAAAAPA/AAAAAAAA8D8AAAAAAADwPwAAAAAAAPA/AAAAAAAA8D8AAAAAAADwPwAAAAAAAPA/AAAAAAAA8D8AAAAAAADwPwAAAAAAAPA/AAAAAAAA8D8AAAAAAADwPwAAAAAAAPA/AAAAAAAA8D8AAAAAAADwPwAAAAAAAPA/AAAAAAAA8D8AAAAAAADwPwAAAAAAAPA/AAAAAAAA8D8AAAAAAADwPwAAAAAAAPA/AAAAAAAA8D8AAAAAAADwPwAAAAAAAPA/AAAAAAAA8D8AAAAAAADwPwAAAAAAAPA/AAAAAAAA8D8AAAAAAADwPwAAAAAAAPA/AAAAAAAA8D8AAAAAAADwPwAAAAAAAPA/AAAAAAAA8D8AAAAAAADwPwAAAAAAAPA/AAAAAAAA8D8=\",\"dtype\":\"float64\",\"shape\":[100]}}},\"id\":\"24e993bc-e01d-4441-bf7d-41efd94064c0\",\"type\":\"ColumnDataSource\"},{\"attributes\":{\"below\":[{\"id\":\"b9c400c1-0112-45cf-a1ad-58d1da112e38\",\"type\":\"LinearAxis\"}],\"left\":[{\"id\":\"803040c2-1076-470e-8961-88571cecb253\",\"type\":\"LinearAxis\"}],\"plot_height\":500,\"plot_width\":500,\"renderers\":[{\"id\":\"b9c400c1-0112-45cf-a1ad-58d1da112e38\",\"type\":\"LinearAxis\"},{\"id\":\"cfe92a14-6212-4c54-85f8-76d6e10470a1\",\"type\":\"Grid\"},{\"id\":\"803040c2-1076-470e-8961-88571cecb253\",\"type\":\"LinearAxis\"},{\"id\":\"d3409bb7-994b-489a-8e51-3dbf6df0b547\",\"type\":\"Grid\"},{\"id\":\"2e380aa7-c1ed-4858-85f2-87e944f9aa88\",\"type\":\"BoxAnnotation\"},{\"id\":\"112d1ff1-ca71-4564-ba54-765e3aae00a9\",\"type\":\"Legend\"},{\"id\":\"e12fa823-cd76-44e0-8113-fd0fa18e4710\",\"type\":\"GlyphRenderer\"},{\"id\":\"0db3f150-4328-4afc-a79f-1a3212c38911\",\"type\":\"GlyphRenderer\"},{\"id\":\"51c7290b-4988-462d-81f8-c4aa522b6054\",\"type\":\"GlyphRenderer\"},{\"id\":\"e7621e61-c503-41a4-acde-aca90b4104a3\",\"type\":\"GlyphRenderer\"},{\"id\":\"47197e31-b4ea-423a-acc1-2ebc92a4b193\",\"type\":\"GlyphRenderer\"},{\"id\":\"1bcbfb0b-34a8-4da9-aec7-e54782964d7e\",\"type\":\"GlyphRenderer\"}],\"title\":{\"id\":\"304d8a2f-3b30-487f-915d-1f28b6cf80ec\",\"type\":\"Title\"},\"tool_events\":{\"id\":\"da739fad-a9dd-45c2-b4e7-815d762b7ce1\",\"type\":\"ToolEvents\"},\"toolbar\":{\"id\":\"49446d54-3de3-4436-89bf-8dae677a1c4e\",\"type\":\"Toolbar\"},\"x_range\":{\"id\":\"de20531f-1902-4e99-9d73-afffdb426380\",\"type\":\"DataRange1d\"},\"y_range\":{\"id\":\"77c7e477-1508-4555-a7fb-e9fb2eb90df1\",\"type\":\"DataRange1d\"}},\"id\":\"6a9d4db1-6493-4132-a45b-f0bcc339c66b\",\"subtype\":\"Figure\",\"type\":\"Plot\"},{\"attributes\":{\"line_alpha\":{\"value\":0.1},\"line_color\":{\"value\":\"#1f77b4\"},\"x\":{\"field\":\"x\"},\"y\":{\"field\":\"y\"}},\"id\":\"06ac14a6-d100-4a19-8274-591e96c90472\",\"type\":\"Line\"},{\"attributes\":{\"line_color\":{\"value\":\"#2ca02c\"},\"x\":{\"field\":\"x\"},\"y\":{\"field\":\"y\"}},\"id\":\"72dfdf40-cfe4-4abb-92dc-986184cc5938\",\"type\":\"Line\"},{\"attributes\":{\"line_color\":{\"value\":\"#1f77b4\"},\"x\":{\"field\":\"x\"},\"y\":{\"field\":\"y\"}},\"id\":\"ed383add-f817-4b0a-a775-24fc85919aee\",\"type\":\"Line\"},{\"attributes\":{\"callback\":null,\"column_names\":[\"x\",\"y\"],\"data\":{\"x\":[0,1],\"y\":[0,1]}},\"id\":\"31181165-8e1a-48a9-bcdc-f7beee1fd2ac\",\"type\":\"ColumnDataSource\"},{\"attributes\":{\"callback\":null,\"column_names\":[\"x\",\"y\"],\"data\":{\"x\":[0,0,1],\"y\":[0,1,1]}},\"id\":\"69d95d7e-b5da-4d35-8338-4734348761cf\",\"type\":\"ColumnDataSource\"},{\"attributes\":{\"data_source\":{\"id\":\"b3ceebb2-0f61-485b-8caa-f8329fe8486f\",\"type\":\"ColumnDataSource\"},\"glyph\":{\"id\":\"72dfdf40-cfe4-4abb-92dc-986184cc5938\",\"type\":\"Line\"},\"hover_glyph\":null,\"muted_glyph\":null,\"nonselection_glyph\":{\"id\":\"06ac14a6-d100-4a19-8274-591e96c90472\",\"type\":\"Line\"},\"selection_glyph\":null},\"id\":\"51c7290b-4988-462d-81f8-c4aa522b6054\",\"type\":\"GlyphRenderer\"},{\"attributes\":{\"line_alpha\":{\"value\":0.1},\"line_color\":{\"value\":\"#1f77b4\"},\"x\":{\"field\":\"x\"},\"y\":{\"field\":\"y\"}},\"id\":\"eed2d3f3-85b7-4c89-9449-17b34849077a\",\"type\":\"Line\"}],\"root_ids\":[\"6a9d4db1-6493-4132-a45b-f0bcc339c66b\"]},\"title\":\"Bokeh Application\",\"version\":\"0.12.6dev3\"}};\n",
       "            var render_items = [{\"docid\":\"f08ab3c7-7dd0-449e-9d48-50e26b006df4\",\"elementid\":\"4872fe7e-8632-4760-814e-d280df659a01\",\"modelid\":\"6a9d4db1-6493-4132-a45b-f0bcc339c66b\"}];\n",
       "            \n",
       "            Bokeh.embed.embed_items(docs_json, render_items);\n",
       "          };\n",
       "          if (document.readyState != \"loading\") fn();\n",
       "          else document.addEventListener(\"DOMContentLoaded\", fn);\n",
       "        })();\n",
       "      },\n",
       "      function(Bokeh) {\n",
       "      }\n",
       "    ];\n",
       "  \n",
       "    function run_inline_js() {\n",
       "      \n",
       "      if ((window.Bokeh !== undefined) || (force === true)) {\n",
       "        for (var i = 0; i < inline_js.length; i++) {\n",
       "          inline_js[i](window.Bokeh);\n",
       "        }if (force === true) {\n",
       "          display_loaded();\n",
       "        }} else if (Date.now() < window._bokeh_timeout) {\n",
       "        setTimeout(run_inline_js, 100);\n",
       "      } else if (!window._bokeh_failed_load) {\n",
       "        console.log(\"Bokeh: BokehJS failed to load within specified timeout.\");\n",
       "        window._bokeh_failed_load = true;\n",
       "      } else if (force !== true) {\n",
       "        var cell = $(document.getElementById(\"4872fe7e-8632-4760-814e-d280df659a01\")).parents('.cell').data().cell;\n",
       "        cell.output_area.append_execute_result(NB_LOAD_WARNING)\n",
       "      }\n",
       "  \n",
       "    }\n",
       "  \n",
       "    if (window._bokeh_is_loading === 0) {\n",
       "      console.log(\"Bokeh: BokehJS loaded, going straight to plotting\");\n",
       "      run_inline_js();\n",
       "    } else {\n",
       "      load_libs(js_urls, function() {\n",
       "        console.log(\"Bokeh: BokehJS plotting callback run at\", now());\n",
       "        run_inline_js();\n",
       "      });\n",
       "    }\n",
       "  }(this));\n",
       "</script>"
      ]
     },
     "metadata": {},
     "output_type": "display_data"
    }
   ],
   "source": [
    "n_splits = 3\n",
    "skf3 = sklearn.model_selection.StratifiedKFold(n_splits=n_splits, random_state=rs)\n",
    "kfold3 = skf3.split(X_train, y_train)\n",
    "\n",
    "mean_tpr = 0.0\n",
    "mean_fpr = np.linspace(0, 1, 100)  # the x-values for the curves\n",
    "all_tpr = []\n",
    "\n",
    "p = bokeh.plotting.figure(width=500, height=500, \n",
    "                          x_axis_label='False Positive Rate',\n",
    "                          y_axis_label='True Positive Rate',\n",
    "                          title='Receiver Operator Characteristic')\n",
    "\n",
    "for k, (train, test) in enumerate(kfold3):\n",
    "    # print('k: {}'.format(k))\n",
    "    proba = svc_pipe.fit(X_train[train], y_train[train]).predict_proba(X_train[test])\n",
    "    \n",
    "    fpr, tpr, thresholds = sklearn.metrics.roc_curve(y_train[test], proba[:, 1], pos_label=1)\n",
    "    \n",
    "    mean_tpr += scipy.interp(mean_fpr, fpr, tpr)\n",
    "    mean_tpr[0] = 0.0 # force this to 0 as the interpolate function is extrapolating\n",
    "    \n",
    "    roc_auc = sklearn.metrics.auc(fpr, tpr)\n",
    "    p.line(fpr, tpr, legend='ROC fold {}, AUC = {:.3}'.format(k+1, roc_auc), color=palette[k])\n",
    "\n",
    "\n",
    "p.line([0, 1], [0, 1], line_dash='dashed', legend='random guessing', color=palette[0])\n",
    "\n",
    "mean_tpr /= n_splits\n",
    "mean_tpr[-1] = 1.0  # make sure end-point is 1\n",
    "mean_auc = sklearn.metrics.auc(mean_fpr, mean_tpr)\n",
    "p.line(mean_fpr, mean_tpr, legend='mean ROC, AUC = {:.3}'.format(mean_auc), \n",
    "       color=palette[1], line_width=2)\n",
    "\n",
    "p.line([0, 0, 1], [0, 1, 1], line_dash='dotted', legend='perfect performance', color=palette[2])\n",
    "\n",
    "p.legend.location = 'bottom_right'\n",
    "\n",
    "bokeh.plotting.show(p)"
   ]
  },
  {
   "cell_type": "code",
   "execution_count": 57,
   "metadata": {
    "collapsed": false
   },
   "outputs": [
    {
     "data": {
      "text/html": [
       "\n",
       "\n",
       "    <div class=\"bk-root\">\n",
       "        <div class=\"bk-plotdiv\" id=\"6c6bd1b3-6ab2-4a4f-9087-08ec52f40376\"></div>\n",
       "    </div>\n",
       "<script type=\"text/javascript\">\n",
       "  \n",
       "  (function(global) {\n",
       "    function now() {\n",
       "      return new Date();\n",
       "    }\n",
       "  \n",
       "    var force = false;\n",
       "  \n",
       "    if (typeof (window._bokeh_onload_callbacks) === \"undefined\" || force === true) {\n",
       "      window._bokeh_onload_callbacks = [];\n",
       "      window._bokeh_is_loading = undefined;\n",
       "    }\n",
       "  \n",
       "  \n",
       "    \n",
       "    if (typeof (window._bokeh_timeout) === \"undefined\" || force === true) {\n",
       "      window._bokeh_timeout = Date.now() + 0;\n",
       "      window._bokeh_failed_load = false;\n",
       "    }\n",
       "  \n",
       "    var NB_LOAD_WARNING = {'data': {'text/html':\n",
       "       \"<div style='background-color: #fdd'>\\n\"+\n",
       "       \"<p>\\n\"+\n",
       "       \"BokehJS does not appear to have successfully loaded. If loading BokehJS from CDN, this \\n\"+\n",
       "       \"may be due to a slow or bad network connection. Possible fixes:\\n\"+\n",
       "       \"</p>\\n\"+\n",
       "       \"<ul>\\n\"+\n",
       "       \"<li>re-rerun `output_notebook()` to attempt to load from CDN again, or</li>\\n\"+\n",
       "       \"<li>use INLINE resources instead, as so:</li>\\n\"+\n",
       "       \"</ul>\\n\"+\n",
       "       \"<code>\\n\"+\n",
       "       \"from bokeh.resources import INLINE\\n\"+\n",
       "       \"output_notebook(resources=INLINE)\\n\"+\n",
       "       \"</code>\\n\"+\n",
       "       \"</div>\"}};\n",
       "  \n",
       "    function display_loaded() {\n",
       "      if (window.Bokeh !== undefined) {\n",
       "        var el = document.getElementById(\"6c6bd1b3-6ab2-4a4f-9087-08ec52f40376\");\n",
       "        el.textContent = \"BokehJS \" + Bokeh.version + \" successfully loaded.\";\n",
       "      } else if (Date.now() < window._bokeh_timeout) {\n",
       "        setTimeout(display_loaded, 100)\n",
       "      }\n",
       "    }\n",
       "  \n",
       "    function run_callbacks() {\n",
       "      window._bokeh_onload_callbacks.forEach(function(callback) { callback() });\n",
       "      delete window._bokeh_onload_callbacks\n",
       "      console.info(\"Bokeh: all callbacks have finished\");\n",
       "    }\n",
       "  \n",
       "    function load_libs(js_urls, callback) {\n",
       "      window._bokeh_onload_callbacks.push(callback);\n",
       "      if (window._bokeh_is_loading > 0) {\n",
       "        console.log(\"Bokeh: BokehJS is being loaded, scheduling callback at\", now());\n",
       "        return null;\n",
       "      }\n",
       "      if (js_urls == null || js_urls.length === 0) {\n",
       "        run_callbacks();\n",
       "        return null;\n",
       "      }\n",
       "      console.log(\"Bokeh: BokehJS not loaded, scheduling load and callback at\", now());\n",
       "      window._bokeh_is_loading = js_urls.length;\n",
       "      for (var i = 0; i < js_urls.length; i++) {\n",
       "        var url = js_urls[i];\n",
       "        var s = document.createElement('script');\n",
       "        s.src = url;\n",
       "        s.async = false;\n",
       "        s.onreadystatechange = s.onload = function() {\n",
       "          window._bokeh_is_loading--;\n",
       "          if (window._bokeh_is_loading === 0) {\n",
       "            console.log(\"Bokeh: all BokehJS libraries loaded\");\n",
       "            run_callbacks()\n",
       "          }\n",
       "        };\n",
       "        s.onerror = function() {\n",
       "          console.warn(\"failed to load library \" + url);\n",
       "        };\n",
       "        console.log(\"Bokeh: injecting script tag for BokehJS library: \", url);\n",
       "        document.getElementsByTagName(\"head\")[0].appendChild(s);\n",
       "      }\n",
       "    };var element = document.getElementById(\"6c6bd1b3-6ab2-4a4f-9087-08ec52f40376\");\n",
       "    if (element == null) {\n",
       "      console.log(\"Bokeh: ERROR: autoload.js configured with elementid '6c6bd1b3-6ab2-4a4f-9087-08ec52f40376' but no matching script tag was found. \")\n",
       "      return false;\n",
       "    }\n",
       "  \n",
       "    var js_urls = [];\n",
       "  \n",
       "    var inline_js = [\n",
       "      function(Bokeh) {\n",
       "        (function() {\n",
       "          var fn = function() {\n",
       "            var docs_json = {\"5dd0527c-0423-4467-a88d-15b4bdff3ef8\":{\"roots\":{\"references\":[{\"attributes\":{\"line_alpha\":{\"value\":0.1},\"line_color\":{\"value\":\"#1f77b4\"},\"x\":{\"field\":\"x\"},\"y\":{\"field\":\"y\"}},\"id\":\"3cc2447e-5e2a-43aa-83f4-d0b426d2bb53\",\"type\":\"Line\"},{\"attributes\":{\"label\":{\"value\":\"ROC fold 2, AUC = 0.999\"},\"renderers\":[{\"id\":\"d2aa3782-8caf-49e8-9470-c23f53c9543d\",\"type\":\"GlyphRenderer\"}]},\"id\":\"57da386b-65cc-4c30-a9b5-029dc7825e7c\",\"type\":\"LegendItem\"},{\"attributes\":{\"label\":{\"value\":\"random guessing\"},\"renderers\":[{\"id\":\"fd752fdd-2bd3-4891-96f8-fa91e06af64c\",\"type\":\"GlyphRenderer\"}]},\"id\":\"adf9c601-db1b-4662-a4ed-c669b3e94b83\",\"type\":\"LegendItem\"},{\"attributes\":{\"callback\":null,\"column_names\":[\"x\",\"y\"],\"data\":{\"x\":{\"__ndarray__\":\"AAAAAAAAAAAAAAAAAAAAAO1YgTDSjpU/7ViBMNKOlT+yAmGkHSugP7ICYaQdK6A/7ViBMNKOpT/tWIEw0o6lPyivobyG8qo/KK+hvIbyqj+yAmGkHSuwP7ICYaQdK7A/zy1x6vfcsj/PLXHq99yyPyivobyG8ro/KK+hvIbyuj+yAmGkHSvAP7ICYaQdK8A/AAAAAAAA8D8=\",\"dtype\":\"float64\",\"shape\":[19]},\"y\":{\"__ndarray__\":\"cB/BfQT3kT86i+ksprPoPzqL6Syms+g/NpTXUF5D6T82lNdQXkPpPyS4j+A+gus/JLiP4D6C6z8bymsor6HsPxvKayivoew/FtNZTGcx7T8W01lMZzHtPw3lNZTXUO4/DeU1lNdQ7j8J7iO4j+DuPwnuI7iP4O4/BPcR3Edw7z8E9xHcR3DvPwAAAAAAAPA/AAAAAAAA8D8=\",\"dtype\":\"float64\",\"shape\":[19]}}},\"id\":\"ccf17fe7-796b-420e-a6f8-0d5fc2f80cf4\",\"type\":\"ColumnDataSource\"},{\"attributes\":{\"active_drag\":\"auto\",\"active_inspect\":\"auto\",\"active_scroll\":\"auto\",\"active_tap\":\"auto\",\"tools\":[{\"id\":\"cd2b295a-699e-407a-ba44-86efd803cd94\",\"type\":\"PanTool\"},{\"id\":\"6d4b0498-672a-4714-8a31-69d570331449\",\"type\":\"WheelZoomTool\"},{\"id\":\"9f932418-a90f-4b82-9c07-0a43b396ce24\",\"type\":\"BoxZoomTool\"},{\"id\":\"af2de2ec-a594-4250-8579-ff74bf276dca\",\"type\":\"SaveTool\"},{\"id\":\"9220a6a8-9072-4eba-80b5-2743568f98e3\",\"type\":\"ResetTool\"},{\"id\":\"551ad94e-5d4d-4c57-9c06-680c190e4da4\",\"type\":\"HelpTool\"}]},\"id\":\"1e6fa799-1a68-47a3-b290-9eae70274305\",\"type\":\"Toolbar\"},{\"attributes\":{\"line_color\":{\"value\":\"#1f77b4\"},\"x\":{\"field\":\"x\"},\"y\":{\"field\":\"y\"}},\"id\":\"cf466dd8-d3a8-469e-9a5f-2598286384cf\",\"type\":\"Line\"},{\"attributes\":{\"plot\":{\"id\":\"88360386-4277-4d05-8cac-e83f34088da2\",\"subtype\":\"Figure\",\"type\":\"Plot\"}},\"id\":\"9220a6a8-9072-4eba-80b5-2743568f98e3\",\"type\":\"ResetTool\"},{\"attributes\":{\"axis_label\":\"False Positive Rate\",\"formatter\":{\"id\":\"b4a59736-9905-4cb5-97d8-71f018ff1453\",\"type\":\"BasicTickFormatter\"},\"plot\":{\"id\":\"88360386-4277-4d05-8cac-e83f34088da2\",\"subtype\":\"Figure\",\"type\":\"Plot\"},\"ticker\":{\"id\":\"5811151f-e068-40a5-bc46-a600ff0e4ef8\",\"type\":\"BasicTicker\"}},\"id\":\"421dc950-97a4-4eb2-b6df-323ef0d0cadd\",\"type\":\"LinearAxis\"},{\"attributes\":{\"label\":{\"value\":\"ROC fold 1, AUC = 0.987\"},\"renderers\":[{\"id\":\"9004e704-a74b-4b48-8ee3-17a2bde489cc\",\"type\":\"GlyphRenderer\"}]},\"id\":\"2836b13c-0f08-4dcf-ab30-0fdc081a87db\",\"type\":\"LegendItem\"},{\"attributes\":{},\"id\":\"b4a59736-9905-4cb5-97d8-71f018ff1453\",\"type\":\"BasicTickFormatter\"},{\"attributes\":{\"line_alpha\":{\"value\":0.1},\"line_color\":{\"value\":\"#1f77b4\"},\"x\":{\"field\":\"x\"},\"y\":{\"field\":\"y\"}},\"id\":\"abc1b177-95b1-4716-87dc-6b20ce6e4fbd\",\"type\":\"Line\"},{\"attributes\":{\"data_source\":{\"id\":\"c43f4861-03bc-431c-b156-32d8846395b5\",\"type\":\"ColumnDataSource\"},\"glyph\":{\"id\":\"3d852584-435d-4f99-baa0-76a2de070c4b\",\"type\":\"Line\"},\"hover_glyph\":null,\"muted_glyph\":null,\"nonselection_glyph\":{\"id\":\"6f9deaf8-53b5-4f04-a3db-26f9c25956d4\",\"type\":\"Line\"},\"selection_glyph\":null},\"id\":\"fd752fdd-2bd3-4891-96f8-fa91e06af64c\",\"type\":\"GlyphRenderer\"},{\"attributes\":{\"plot\":{\"id\":\"88360386-4277-4d05-8cac-e83f34088da2\",\"subtype\":\"Figure\",\"type\":\"Plot\"}},\"id\":\"551ad94e-5d4d-4c57-9c06-680c190e4da4\",\"type\":\"HelpTool\"},{\"attributes\":{\"line_alpha\":{\"value\":0.1},\"line_color\":{\"value\":\"#1f77b4\"},\"line_width\":{\"value\":2},\"x\":{\"field\":\"x\"},\"y\":{\"field\":\"y\"}},\"id\":\"71ab1937-f351-45ee-a15c-f4b1b302e636\",\"type\":\"Line\"},{\"attributes\":{\"line_color\":{\"value\":\"#ff7f0e\"},\"x\":{\"field\":\"x\"},\"y\":{\"field\":\"y\"}},\"id\":\"9c1d29b1-1c02-403b-810d-fa06798dd4d8\",\"type\":\"Line\"},{\"attributes\":{},\"id\":\"5811151f-e068-40a5-bc46-a600ff0e4ef8\",\"type\":\"BasicTicker\"},{\"attributes\":{\"dimension\":1,\"plot\":{\"id\":\"88360386-4277-4d05-8cac-e83f34088da2\",\"subtype\":\"Figure\",\"type\":\"Plot\"},\"ticker\":{\"id\":\"91c63dc0-9e8a-4597-8553-568f05b3d03f\",\"type\":\"BasicTicker\"}},\"id\":\"41a7d471-f6a6-409e-8d37-eba75d77ecc7\",\"type\":\"Grid\"},{\"attributes\":{\"line_alpha\":{\"value\":0.1},\"line_color\":{\"value\":\"#1f77b4\"},\"line_dash\":[2,4],\"x\":{\"field\":\"x\"},\"y\":{\"field\":\"y\"}},\"id\":\"96a5f076-22ff-47bd-8c0a-023c017496dd\",\"type\":\"Line\"},{\"attributes\":{\"data_source\":{\"id\":\"ccf17fe7-796b-420e-a6f8-0d5fc2f80cf4\",\"type\":\"ColumnDataSource\"},\"glyph\":{\"id\":\"cf466dd8-d3a8-469e-9a5f-2598286384cf\",\"type\":\"Line\"},\"hover_glyph\":null,\"muted_glyph\":null,\"nonselection_glyph\":{\"id\":\"3cc2447e-5e2a-43aa-83f4-d0b426d2bb53\",\"type\":\"Line\"},\"selection_glyph\":null},\"id\":\"9004e704-a74b-4b48-8ee3-17a2bde489cc\",\"type\":\"GlyphRenderer\"},{\"attributes\":{\"callback\":null,\"column_names\":[\"x\",\"y\"],\"data\":{\"x\":{\"__ndarray__\":\"AAAAAAAAAABbv1Kg1q+EP1u/UqDWr5Q/CB988MEHnz9bv1Kg1q+kPzJvZ0jM26k/CB988MEHrz9wZ0jM2xmyP1u/UqDWr7Q/RhdddNFFtz8yb2dIzNu5Px3HcRzHcbw/CB988MEHvz96O0Ni3s7AP3BnSMzbGcI/ZZNNNtlkwz9bv1Kg1q/EP1HrVwrU+sU/RhdddNFFxz88Q2LezpDIPzJvZ0jM28k/J5tssskmyz8dx3Ecx3HMPxPzdobEvM0/CB988MEHzz9/pUCtXynQP3o7Q2LeztA/ddFFF1100T9wZ0jM2xnSP2r9SoFav9I/ZZNNNtlk0z9gKVDrVwrUP1u/UqDWr9Q/VlVVVVVV1T9R61cK1PrVP0yBWr9SoNY/RhdddNFF1z9BrV8pUOvXPzxDYt7OkNg/N9lkk0022T8yb2dIzNvZPy0Fav1Kgdo/J5tssskm2z8iMW9nSMzbPx3HcRzHcdw/GF100UUX3T8T83aGxLzdPw6JeTtDYt4/CB988MEH3z8DtX6lQK3fP3+lQK1fKeA/ffDBBx984D96O0Ni3s7gP3eGxLydIeE/ddFFF1104T9yHMdxHMfhP3BnSMzbGeI/bbLJJpts4j9q/UqBWr/iP2hIzNsZEuM/ZZNNNtlk4z9j3s6QmLfjP2ApUOtXCuQ/XnTRRRdd5D9bv1Kg1q/kP1gK1PqVAuU/VlVVVVVV5T9ToNavFKjlP1HrVwrU+uU/TjbZZJNN5j9MgVq/UqDmP0nM2xkS8+Y/RhdddNFF5z9EYt7OkJjnP0GtXylQ6+c/P/jggw8+6D88Q2LezpDoPzmO4ziO4+g/N9lkk0026T80JObtDInpPzJvZ0jM2+k/L7rooosu6j8tBWr9SoHqPypQ61cK1Oo/J5tssskm6z8l5u0MiXnrPyIxb2dIzOs/IHzwwQcf7D8dx3Ecx3HsPxsS83aGxOw/GF100UUX7T8VqPUrBWrtPxPzdobEvO0/ED744IMP7j8OiXk7Q2LuPwvU+pUCte4/CB988MEH7z8Gav1KgVrvPwO1fqVAre8/AAAAAAAA8D8=\",\"dtype\":\"float64\",\"shape\":[100]},\"y\":{\"__ndarray__\":\"AAAAAAAAAADow5wPcz7sP/9M+DPhz+w/+1LsS7Ev7T/1XtR7Ue/tP/8n+Z/kf+4/+y3tt7Tf7j/4M+HPhD/vP/c229tsb+8/9zbb22xv7z/3NtvbbG/vP/U51edUn+8/9TnV51Sf7z/0PM/zPM/vP/Q8z/M8z+8/9DzP8zzP7z/0PM/zPM/vP/Q8z/M8z+8/9DzP8zzP7z/0PM/zPM/vP/Q8z/M8z+8/9DzP8zzP7z/0PM/zPM/vP/Q8z/M8z+8/9DzP8zzP7z/0PM/zPM/vP/Q8z/M8z+8/9DzP8zzP7z/0PM/zPM/vP/Q8z/M8z+8/9DzP8zzP7z/0PM/zPM/vP/Q8z/M8z+8/9DzP8zzP7z/0PM/zPM/vP/Q8z/M8z+8/9DzP8zzP7z/0PM/zPM/vP/Q8z/M8z+8/9DzP8zzP7z/0PM/zPM/vP/Q8z/M8z+8/9DzP8zzP7z/0PM/zPM/vP/Q8z/M8z+8/9DzP8zzP7z/0PM/zPM/vP/Q8z/M8z+8/9DzP8zzP7z/0PM/zPM/vP/Q8z/M8z+8/9DzP8zzP7z/0PM/zPM/vP/Q8z/M8z+8/9DzP8zzP7z/0PM/zPM/vPwAAAAAAAPA/AAAAAAAA8D8AAAAAAADwPwAAAAAAAPA/AAAAAAAA8D8AAAAAAADwPwAAAAAAAPA/AAAAAAAA8D8AAAAAAADwPwAAAAAAAPA/AAAAAAAA8D8AAAAAAADwPwAAAAAAAPA/AAAAAAAA8D8AAAAAAADwPwAAAAAAAPA/AAAAAAAA8D8AAAAAAADwPwAAAAAAAPA/AAAAAAAA8D8AAAAAAADwPwAAAAAAAPA/AAAAAAAA8D8AAAAAAADwPwAAAAAAAPA/AAAAAAAA8D8AAAAAAADwPwAAAAAAAPA/AAAAAAAA8D8AAAAAAADwPwAAAAAAAPA/AAAAAAAA8D8AAAAAAADwPwAAAAAAAPA/AAAAAAAA8D8AAAAAAADwPwAAAAAAAPA/AAAAAAAA8D8AAAAAAADwPwAAAAAAAPA/AAAAAAAA8D8AAAAAAADwPwAAAAAAAPA/AAAAAAAA8D8=\",\"dtype\":\"float64\",\"shape\":[100]}}},\"id\":\"5fcbc4ba-54c8-4ca0-87dd-933271417191\",\"type\":\"ColumnDataSource\"},{\"attributes\":{\"line_alpha\":{\"value\":0.1},\"line_color\":{\"value\":\"#1f77b4\"},\"x\":{\"field\":\"x\"},\"y\":{\"field\":\"y\"}},\"id\":\"44f640c8-882c-4bcb-8ae6-33c1cc927f3f\",\"type\":\"Line\"},{\"attributes\":{\"plot\":{\"id\":\"88360386-4277-4d05-8cac-e83f34088da2\",\"subtype\":\"Figure\",\"type\":\"Plot\"}},\"id\":\"cd2b295a-699e-407a-ba44-86efd803cd94\",\"type\":\"PanTool\"},{\"attributes\":{\"plot\":{\"id\":\"88360386-4277-4d05-8cac-e83f34088da2\",\"subtype\":\"Figure\",\"type\":\"Plot\"}},\"id\":\"af2de2ec-a594-4250-8579-ff74bf276dca\",\"type\":\"SaveTool\"},{\"attributes\":{\"callback\":null,\"column_names\":[\"x\",\"y\"],\"data\":{\"x\":[0,0,1],\"y\":[0,1,1]}},\"id\":\"fd4239c6-1d6f-47e8-bfba-cd50f530ffab\",\"type\":\"ColumnDataSource\"},{\"attributes\":{},\"id\":\"77fdde33-b97a-4f88-beba-507e36a536a1\",\"type\":\"BasicTickFormatter\"},{\"attributes\":{\"line_alpha\":{\"value\":0.1},\"line_color\":{\"value\":\"#1f77b4\"},\"line_dash\":[6],\"x\":{\"field\":\"x\"},\"y\":{\"field\":\"y\"}},\"id\":\"6f9deaf8-53b5-4f04-a3db-26f9c25956d4\",\"type\":\"Line\"},{\"attributes\":{\"plot\":{\"id\":\"88360386-4277-4d05-8cac-e83f34088da2\",\"subtype\":\"Figure\",\"type\":\"Plot\"}},\"id\":\"6d4b0498-672a-4714-8a31-69d570331449\",\"type\":\"WheelZoomTool\"},{\"attributes\":{\"plot\":null,\"text\":\"Receiver Operator Characteristic\"},\"id\":\"1b00633d-20ed-4beb-a3e6-d99c9737779c\",\"type\":\"Title\"},{\"attributes\":{\"data_source\":{\"id\":\"3beef050-f0ec-468e-bd8f-71e3f111e73f\",\"type\":\"ColumnDataSource\"},\"glyph\":{\"id\":\"6e1b706f-919b-4615-8a9e-4db462604502\",\"type\":\"Line\"},\"hover_glyph\":null,\"muted_glyph\":null,\"nonselection_glyph\":{\"id\":\"44f640c8-882c-4bcb-8ae6-33c1cc927f3f\",\"type\":\"Line\"},\"selection_glyph\":null},\"id\":\"41b382af-c48c-4673-80be-a5737d60c895\",\"type\":\"GlyphRenderer\"},{\"attributes\":{\"callback\":null,\"column_names\":[\"x\",\"y\"],\"data\":{\"x\":{\"__ndarray__\":\"AAAAAAAAAAAAAAAAAAAAAO1YgTDSjoU/7ViBMNKOhT/tWIEw0o6VP+1YgTDSjpU/KK+hvIbyqj8or6G8hvKqPwAAAAAAAPA/\",\"dtype\":\"float64\",\"shape\":[9]},\"y\":{\"__ndarray__\":\"cB/BfQT3kT8N5TWU11DuPw3lNZTXUO4/Ce4juI/g7j8J7iO4j+DuPwT3EdxHcO8/BPcR3Edw7z8AAAAAAADwPwAAAAAAAPA/\",\"dtype\":\"float64\",\"shape\":[9]}}},\"id\":\"0abd5b20-b068-4b4a-b07c-422e9da92753\",\"type\":\"ColumnDataSource\"},{\"attributes\":{\"label\":{\"value\":\"ROC fold 3, AUC = 0.989\"},\"renderers\":[{\"id\":\"41b382af-c48c-4673-80be-a5737d60c895\",\"type\":\"GlyphRenderer\"}]},\"id\":\"a74984ac-3280-450d-b7ca-4b5ccacdd84a\",\"type\":\"LegendItem\"},{\"attributes\":{\"data_source\":{\"id\":\"5fcbc4ba-54c8-4ca0-87dd-933271417191\",\"type\":\"ColumnDataSource\"},\"glyph\":{\"id\":\"310c700a-3490-4252-91f6-64db86fee8c5\",\"type\":\"Line\"},\"hover_glyph\":null,\"muted_glyph\":null,\"nonselection_glyph\":{\"id\":\"71ab1937-f351-45ee-a15c-f4b1b302e636\",\"type\":\"Line\"},\"selection_glyph\":null},\"id\":\"a2bdee1b-aa6e-464d-97fd-729d3abc8a67\",\"type\":\"GlyphRenderer\"},{\"attributes\":{\"items\":[{\"id\":\"2836b13c-0f08-4dcf-ab30-0fdc081a87db\",\"type\":\"LegendItem\"},{\"id\":\"57da386b-65cc-4c30-a9b5-029dc7825e7c\",\"type\":\"LegendItem\"},{\"id\":\"a74984ac-3280-450d-b7ca-4b5ccacdd84a\",\"type\":\"LegendItem\"},{\"id\":\"adf9c601-db1b-4662-a4ed-c669b3e94b83\",\"type\":\"LegendItem\"},{\"id\":\"49fc2e90-5275-445f-881a-6f6dd13fbffc\",\"type\":\"LegendItem\"},{\"id\":\"b51acfd8-0f04-4592-ae7d-18521708bf23\",\"type\":\"LegendItem\"}],\"location\":\"bottom_right\",\"plot\":{\"id\":\"88360386-4277-4d05-8cac-e83f34088da2\",\"subtype\":\"Figure\",\"type\":\"Plot\"}},\"id\":\"2d7dd0fb-0dc7-4803-93c9-9d8bb5b15a3c\",\"type\":\"Legend\"},{\"attributes\":{\"bottom_units\":\"screen\",\"fill_alpha\":{\"value\":0.5},\"fill_color\":{\"value\":\"lightgrey\"},\"left_units\":\"screen\",\"level\":\"overlay\",\"line_alpha\":{\"value\":1.0},\"line_color\":{\"value\":\"black\"},\"line_dash\":[4,4],\"line_width\":{\"value\":2},\"plot\":null,\"render_mode\":\"css\",\"right_units\":\"screen\",\"top_units\":\"screen\"},\"id\":\"bc29c2ef-1183-46f8-81ca-e441b9e5056e\",\"type\":\"BoxAnnotation\"},{\"attributes\":{},\"id\":\"91c63dc0-9e8a-4597-8553-568f05b3d03f\",\"type\":\"BasicTicker\"},{\"attributes\":{\"callback\":null,\"column_names\":[\"x\",\"y\"],\"data\":{\"x\":{\"__ndarray__\":\"AAAAAAAAAAAAAAAAAAAAAO1YgTDSjoU/7ViBMNKOhT/tWIEw0o6lP+1YgTDSjqU/pB0rEEba4T+kHSsQRtrhPwAAAAAAAPA/\",\"dtype\":\"float64\",\"shape\":[9]},\"y\":{\"__ndarray__\":\"kiRJkiRJkj9u27Zt27btP27btm3btu0/t23btm3b7j+3bdu2bdvuP9u2bdu2be8/27Zt27Zt7z8AAAAAAADwPwAAAAAAAPA/\",\"dtype\":\"float64\",\"shape\":[9]}}},\"id\":\"3beef050-f0ec-468e-bd8f-71e3f111e73f\",\"type\":\"ColumnDataSource\"},{\"attributes\":{\"line_color\":{\"value\":\"#7f7f7f\"},\"line_dash\":[2,4],\"x\":{\"field\":\"x\"},\"y\":{\"field\":\"y\"}},\"id\":\"44895dd5-92c2-4f11-ae2d-37036c38c166\",\"type\":\"Line\"},{\"attributes\":{\"callback\":null,\"column_names\":[\"x\",\"y\"],\"data\":{\"x\":[0,1],\"y\":[0,1]}},\"id\":\"c43f4861-03bc-431c-b156-32d8846395b5\",\"type\":\"ColumnDataSource\"},{\"attributes\":{\"line_color\":{\"value\":\"#17becf\"},\"line_dash\":[6],\"x\":{\"field\":\"x\"},\"y\":{\"field\":\"y\"}},\"id\":\"3d852584-435d-4f99-baa0-76a2de070c4b\",\"type\":\"Line\"},{\"attributes\":{\"label\":{\"value\":\"mean ROC, AUC = 0.987\"},\"renderers\":[{\"id\":\"a2bdee1b-aa6e-464d-97fd-729d3abc8a67\",\"type\":\"GlyphRenderer\"}]},\"id\":\"49fc2e90-5275-445f-881a-6f6dd13fbffc\",\"type\":\"LegendItem\"},{\"attributes\":{\"axis_label\":\"True Positive Rate\",\"formatter\":{\"id\":\"77fdde33-b97a-4f88-beba-507e36a536a1\",\"type\":\"BasicTickFormatter\"},\"plot\":{\"id\":\"88360386-4277-4d05-8cac-e83f34088da2\",\"subtype\":\"Figure\",\"type\":\"Plot\"},\"ticker\":{\"id\":\"91c63dc0-9e8a-4597-8553-568f05b3d03f\",\"type\":\"BasicTicker\"}},\"id\":\"0edebca2-388f-489a-a008-4ca1abd185e7\",\"type\":\"LinearAxis\"},{\"attributes\":{\"plot\":{\"id\":\"88360386-4277-4d05-8cac-e83f34088da2\",\"subtype\":\"Figure\",\"type\":\"Plot\"},\"ticker\":{\"id\":\"5811151f-e068-40a5-bc46-a600ff0e4ef8\",\"type\":\"BasicTicker\"}},\"id\":\"ac3beb52-028d-4d0c-98c3-23c10e311682\",\"type\":\"Grid\"},{\"attributes\":{},\"id\":\"f5eff0e4-b88f-4c33-bcef-d664daf2b232\",\"type\":\"ToolEvents\"},{\"attributes\":{\"callback\":null},\"id\":\"a7420360-6d00-4add-902f-e473632d088f\",\"type\":\"DataRange1d\"},{\"attributes\":{\"callback\":null},\"id\":\"64815ea2-8768-4e61-a498-16da00bda8c8\",\"type\":\"DataRange1d\"},{\"attributes\":{\"overlay\":{\"id\":\"bc29c2ef-1183-46f8-81ca-e441b9e5056e\",\"type\":\"BoxAnnotation\"},\"plot\":{\"id\":\"88360386-4277-4d05-8cac-e83f34088da2\",\"subtype\":\"Figure\",\"type\":\"Plot\"}},\"id\":\"9f932418-a90f-4b82-9c07-0a43b396ce24\",\"type\":\"BoxZoomTool\"},{\"attributes\":{\"data_source\":{\"id\":\"0abd5b20-b068-4b4a-b07c-422e9da92753\",\"type\":\"ColumnDataSource\"},\"glyph\":{\"id\":\"9c1d29b1-1c02-403b-810d-fa06798dd4d8\",\"type\":\"Line\"},\"hover_glyph\":null,\"muted_glyph\":null,\"nonselection_glyph\":{\"id\":\"abc1b177-95b1-4716-87dc-6b20ce6e4fbd\",\"type\":\"Line\"},\"selection_glyph\":null},\"id\":\"d2aa3782-8caf-49e8-9470-c23f53c9543d\",\"type\":\"GlyphRenderer\"},{\"attributes\":{\"label\":{\"value\":\"perfect performance\"},\"renderers\":[{\"id\":\"aab24324-1364-48c4-89a0-a81921c43c8a\",\"type\":\"GlyphRenderer\"}]},\"id\":\"b51acfd8-0f04-4592-ae7d-18521708bf23\",\"type\":\"LegendItem\"},{\"attributes\":{\"below\":[{\"id\":\"421dc950-97a4-4eb2-b6df-323ef0d0cadd\",\"type\":\"LinearAxis\"}],\"left\":[{\"id\":\"0edebca2-388f-489a-a008-4ca1abd185e7\",\"type\":\"LinearAxis\"}],\"plot_height\":500,\"plot_width\":500,\"renderers\":[{\"id\":\"421dc950-97a4-4eb2-b6df-323ef0d0cadd\",\"type\":\"LinearAxis\"},{\"id\":\"ac3beb52-028d-4d0c-98c3-23c10e311682\",\"type\":\"Grid\"},{\"id\":\"0edebca2-388f-489a-a008-4ca1abd185e7\",\"type\":\"LinearAxis\"},{\"id\":\"41a7d471-f6a6-409e-8d37-eba75d77ecc7\",\"type\":\"Grid\"},{\"id\":\"bc29c2ef-1183-46f8-81ca-e441b9e5056e\",\"type\":\"BoxAnnotation\"},{\"id\":\"2d7dd0fb-0dc7-4803-93c9-9d8bb5b15a3c\",\"type\":\"Legend\"},{\"id\":\"9004e704-a74b-4b48-8ee3-17a2bde489cc\",\"type\":\"GlyphRenderer\"},{\"id\":\"d2aa3782-8caf-49e8-9470-c23f53c9543d\",\"type\":\"GlyphRenderer\"},{\"id\":\"41b382af-c48c-4673-80be-a5737d60c895\",\"type\":\"GlyphRenderer\"},{\"id\":\"fd752fdd-2bd3-4891-96f8-fa91e06af64c\",\"type\":\"GlyphRenderer\"},{\"id\":\"a2bdee1b-aa6e-464d-97fd-729d3abc8a67\",\"type\":\"GlyphRenderer\"},{\"id\":\"aab24324-1364-48c4-89a0-a81921c43c8a\",\"type\":\"GlyphRenderer\"}],\"title\":{\"id\":\"1b00633d-20ed-4beb-a3e6-d99c9737779c\",\"type\":\"Title\"},\"tool_events\":{\"id\":\"f5eff0e4-b88f-4c33-bcef-d664daf2b232\",\"type\":\"ToolEvents\"},\"toolbar\":{\"id\":\"1e6fa799-1a68-47a3-b290-9eae70274305\",\"type\":\"Toolbar\"},\"x_range\":{\"id\":\"a7420360-6d00-4add-902f-e473632d088f\",\"type\":\"DataRange1d\"},\"y_range\":{\"id\":\"64815ea2-8768-4e61-a498-16da00bda8c8\",\"type\":\"DataRange1d\"}},\"id\":\"88360386-4277-4d05-8cac-e83f34088da2\",\"subtype\":\"Figure\",\"type\":\"Plot\"},{\"attributes\":{\"data_source\":{\"id\":\"fd4239c6-1d6f-47e8-bfba-cd50f530ffab\",\"type\":\"ColumnDataSource\"},\"glyph\":{\"id\":\"44895dd5-92c2-4f11-ae2d-37036c38c166\",\"type\":\"Line\"},\"hover_glyph\":null,\"muted_glyph\":null,\"nonselection_glyph\":{\"id\":\"96a5f076-22ff-47bd-8c0a-023c017496dd\",\"type\":\"Line\"},\"selection_glyph\":null},\"id\":\"aab24324-1364-48c4-89a0-a81921c43c8a\",\"type\":\"GlyphRenderer\"},{\"attributes\":{\"line_color\":{\"value\":\"#bcbd22\"},\"line_width\":{\"value\":2},\"x\":{\"field\":\"x\"},\"y\":{\"field\":\"y\"}},\"id\":\"310c700a-3490-4252-91f6-64db86fee8c5\",\"type\":\"Line\"},{\"attributes\":{\"line_color\":{\"value\":\"#2ca02c\"},\"x\":{\"field\":\"x\"},\"y\":{\"field\":\"y\"}},\"id\":\"6e1b706f-919b-4615-8a9e-4db462604502\",\"type\":\"Line\"}],\"root_ids\":[\"88360386-4277-4d05-8cac-e83f34088da2\"]},\"title\":\"Bokeh Application\",\"version\":\"0.12.6dev3\"}};\n",
       "            var render_items = [{\"docid\":\"5dd0527c-0423-4467-a88d-15b4bdff3ef8\",\"elementid\":\"6c6bd1b3-6ab2-4a4f-9087-08ec52f40376\",\"modelid\":\"88360386-4277-4d05-8cac-e83f34088da2\"}];\n",
       "            \n",
       "            Bokeh.embed.embed_items(docs_json, render_items);\n",
       "          };\n",
       "          if (document.readyState != \"loading\") fn();\n",
       "          else document.addEventListener(\"DOMContentLoaded\", fn);\n",
       "        })();\n",
       "      },\n",
       "      function(Bokeh) {\n",
       "      }\n",
       "    ];\n",
       "  \n",
       "    function run_inline_js() {\n",
       "      \n",
       "      if ((window.Bokeh !== undefined) || (force === true)) {\n",
       "        for (var i = 0; i < inline_js.length; i++) {\n",
       "          inline_js[i](window.Bokeh);\n",
       "        }if (force === true) {\n",
       "          display_loaded();\n",
       "        }} else if (Date.now() < window._bokeh_timeout) {\n",
       "        setTimeout(run_inline_js, 100);\n",
       "      } else if (!window._bokeh_failed_load) {\n",
       "        console.log(\"Bokeh: BokehJS failed to load within specified timeout.\");\n",
       "        window._bokeh_failed_load = true;\n",
       "      } else if (force !== true) {\n",
       "        var cell = $(document.getElementById(\"6c6bd1b3-6ab2-4a4f-9087-08ec52f40376\")).parents('.cell').data().cell;\n",
       "        cell.output_area.append_execute_result(NB_LOAD_WARNING)\n",
       "      }\n",
       "  \n",
       "    }\n",
       "  \n",
       "    if (window._bokeh_is_loading === 0) {\n",
       "      console.log(\"Bokeh: BokehJS loaded, going straight to plotting\");\n",
       "      run_inline_js();\n",
       "    } else {\n",
       "      load_libs(js_urls, function() {\n",
       "        console.log(\"Bokeh: BokehJS plotting callback run at\", now());\n",
       "        run_inline_js();\n",
       "      });\n",
       "    }\n",
       "  }(this));\n",
       "</script>"
      ]
     },
     "metadata": {},
     "output_type": "display_data"
    }
   ],
   "source": [
    "n_splits = 3\n",
    "skf3 = sklearn.model_selection.StratifiedKFold(n_splits=n_splits, random_state=rs)\n",
    "kfold3 = skf3.split(X_train, y_train)\n",
    "\n",
    "mean_tpr = 0.0\n",
    "mean_fpr = np.linspace(0, 1, 100)  # the x-values for the curves\n",
    "all_fpr = []\n",
    "all_tpr = []\n",
    "\n",
    "p = bokeh.plotting.figure(width=500, height=500, \n",
    "                          x_axis_label='False Positive Rate',\n",
    "                          y_axis_label='True Positive Rate',\n",
    "                          title='Receiver Operator Characteristic')\n",
    "\n",
    "for k, (train, test) in enumerate(kfold3):\n",
    "    # print('k: {}'.format(k))\n",
    "    proba = svc_pipe.fit(X_train[train], y_train[train]).predict_proba(X_train[test])\n",
    "    \n",
    "    fpr, tpr, thresholds = sklearn.metrics.roc_curve(y_train[test], proba[:, 1], pos_label=1)\n",
    "    \n",
    "    all_fpr.append(fpr)\n",
    "    all_tpr.append(tpr)\n",
    "    mean_tpr += scipy.interp(mean_fpr, fpr, tpr)\n",
    "    mean_tpr[0] = 0.0 # force this to 0 as the interpolate function is extrapolating\n",
    "    \n",
    "    roc_auc = sklearn.metrics.auc(fpr, tpr)\n",
    "    p.line(fpr, tpr, legend='ROC fold {}, AUC = {:.3}'.format(k+1, roc_auc), color=palette[k])\n",
    "\n",
    "\n",
    "p.line([0, 1], [0, 1], line_dash='dashed', legend='random guessing', color=palette[-1])\n",
    "\n",
    "mean_tpr /= n_splits\n",
    "mean_tpr[-1] = 1.0  # make sure end-point is 1\n",
    "mean_auc = sklearn.metrics.auc(mean_fpr, mean_tpr)\n",
    "p.line(mean_fpr, mean_tpr, legend='mean ROC, AUC = {:.3}'.format(mean_auc), \n",
    "       color=palette[-2], line_width=2)\n",
    "\n",
    "p.line([0, 0, 1], [0, 1, 1], line_dash='dotted', legend='perfect performance', color=palette[-3])\n",
    "\n",
    "p.legend.location = 'bottom_right'\n",
    "\n",
    "bokeh.plotting.show(p)"
   ]
  },
  {
   "cell_type": "code",
   "execution_count": 58,
   "metadata": {
    "collapsed": false
   },
   "outputs": [
    {
     "data": {
      "text/plain": [
       "((19,), (9,), (9,))"
      ]
     },
     "execution_count": 58,
     "metadata": {},
     "output_type": "execute_result"
    }
   ],
   "source": [
    "all_tpr[0].shape, all_tpr[1].shape, all_tpr[2].shape"
   ]
  },
  {
   "cell_type": "code",
   "execution_count": 59,
   "metadata": {
    "collapsed": false
   },
   "outputs": [
    {
     "data": {
      "text/plain": [
       "((19,), (9,), (9,))"
      ]
     },
     "execution_count": 59,
     "metadata": {},
     "output_type": "execute_result"
    }
   ],
   "source": [
    "all_fpr[0].shape, all_fpr[1].shape, all_fpr[2].shape"
   ]
  },
  {
   "cell_type": "markdown",
   "metadata": {},
   "source": [
    "It is interesting that the output from `sklearn.metric.roc_curve` is not a consistent shape."
   ]
  },
  {
   "cell_type": "markdown",
   "metadata": {},
   "source": [
    "We see this model performs quite well as we can select the tune the prediction probability so that the false positive rate is low but the true positive rate is almost 100%, e.g., where FPR=0.13 the TPR=0.994, or where FPR=0.08 the TPR=0.982 (depending on what FPR you are willing to accept)."
   ]
  },
  {
   "cell_type": "code",
   "execution_count": null,
   "metadata": {
    "collapsed": true
   },
   "outputs": [],
   "source": []
  }
 ],
 "metadata": {
  "kernelspec": {
   "display_name": "Python 3",
   "language": "python",
   "name": "python3"
  },
  "language_info": {
   "codemirror_mode": {
    "name": "ipython",
    "version": 3
   },
   "file_extension": ".py",
   "mimetype": "text/x-python",
   "name": "python",
   "nbconvert_exporter": "python",
   "pygments_lexer": "ipython3",
   "version": "3.6.0"
  }
 },
 "nbformat": 4,
 "nbformat_minor": 2
}
