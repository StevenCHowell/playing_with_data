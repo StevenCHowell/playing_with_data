{
 "cells": [
  {
   "cell_type": "markdown",
   "metadata": {},
   "source": [
    "This example is taken from https://brilliant.org/wiki/bayes-theorem/"
   ]
  },
  {
   "cell_type": "markdown",
   "metadata": {},
   "source": [
    "$$P(A | B) = \\frac{P(B | A) P(A)}{P(B)}$$"
   ]
  },
  {
   "cell_type": "markdown",
   "metadata": {},
   "source": [
    "### 1. A couple has two children and the older child is a boy. If the probabilities of having a boy or a girl are both $1/2$, what is the probability that the couple has two boys?"
   ]
  },
  {
   "cell_type": "markdown",
   "metadata": {},
   "source": [
    "The probability of two boys is equivalent to the probability that the younger child is a boy, which is $1/2$.  Working through this anyway, we have\n",
    "  - P(A) probability of having 2 boys\n",
    "  - P(B) probability that the older child is a boy\n",
    "\n",
    "The probability that the older child is a boy is $P(B) = 1/2$. The probability of having 2 boys would be $P(A) = 1/2^2 = 1/4$.  The probability the older child is a boy given both children are boys would be $P(B|A) = 1$. Putting this all together, we have\n",
    "$$P(A|B) = \\frac{1\\times1/4}{1/2} = \\frac{1}{2}$$"
   ]
  },
  {
   "cell_type": "markdown",
   "metadata": {},
   "source": [
    "### 2. A couple has two children, one of which is a boy. If the probabilities of having a boy or a girl are both $1/2$, what is the probability that the couple has two boys?"
   ]
  },
  {
   "cell_type": "markdown",
   "metadata": {},
   "source": [
    "At first glance, this appears to be asking the same question. We might reason as follows: \"We know that one is a boy, so the only question is whether the other one is a boy, and the chances of that being the case are $1/2$. So again, the answer is $1/2$.\"\n",
    "\n",
    "Lets be more careful and go through this.\n",
    "  - P(A): probability of having 2 boys\n",
    "  - P(B): probability that at least 1 of 2 children is a boy\n",
    "  \n",
    "With 2 children, there are 3 possibilities that at least 1 is a boy, so $P(B) = 3/4$.  Again the probability of having 2 boys would be $P(A) = 1/2^2 = 1/4$. The probability of having at least 1 boy given a couple has 2 boys would be $P(B|A) = 1$.  Putting this alal together we have\n",
    "$$ P(A|B) = \\frac{1 \\times 1/4}{3/4} = \\frac{1}{3} $$"
   ]
  }
 ],
 "metadata": {
  "kernelspec": {
   "display_name": "Python [conda env:py36]",
   "language": "python",
   "name": "conda-env-py36-py"
  },
  "language_info": {
   "codemirror_mode": {
    "name": "ipython",
    "version": 3
   },
   "file_extension": ".py",
   "mimetype": "text/x-python",
   "name": "python",
   "nbconvert_exporter": "python",
   "pygments_lexer": "ipython3",
   "version": "3.6.0"
  }
 },
 "nbformat": 4,
 "nbformat_minor": 2
}
