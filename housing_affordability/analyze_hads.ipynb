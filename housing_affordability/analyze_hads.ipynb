{
 "cells": [
  {
   "cell_type": "code",
   "execution_count": 30,
   "metadata": {
    "collapsed": true
   },
   "outputs": [],
   "source": [
    "import glob"
   ]
  },
  {
   "cell_type": "code",
   "execution_count": 34,
   "metadata": {
    "collapsed": true
   },
   "outputs": [],
   "source": [
    "import numpy as np\n",
    "import pandas as pd"
   ]
  },
  {
   "cell_type": "code",
   "execution_count": 33,
   "metadata": {
    "collapsed": true
   },
   "outputs": [],
   "source": [
    "import bokeh.plotting\n",
    "import bokeh.layouts\n",
    "from bokeh.palettes import Category10_10 as palette"
   ]
  },
  {
   "cell_type": "markdown",
   "metadata": {},
   "source": [
    "# Housing Affordability Data System\n",
    "Data provided by:<br />\n",
    "Office of Policy Development and Research (PD&R)<br />\n",
    "U.S. Department of Housing and Urban Development<br />\n",
    "Secretary Ben Carson<br />\n",
    "https://www.huduser.gov/portal/datasets/hads/hads.html"
   ]
  },
  {
   "cell_type": "markdown",
   "metadata": {},
   "source": [
    "## Load the data"
   ]
  },
  {
   "cell_type": "code",
   "execution_count": 8,
   "metadata": {
    "collapsed": false
   },
   "outputs": [
    {
     "name": "stdout",
     "output_type": "stream",
     "text": [
      "total 651M\r\n",
      "-rw-rw-r-- 1 schowell schowell  37M Feb 28  2007 hads1985.txt\r\n",
      "-rw-rw-r-- 1 schowell schowell  37M Feb 28  2007 hads1987.txt\r\n",
      "-rw-rw-r-- 1 schowell schowell  39M Feb 28  2007 hads1989.txt\r\n",
      "-rw-rw-r-- 1 schowell schowell  38M Feb 28  2007 hads1991.txt\r\n",
      "-rw-rw-r-- 1 schowell schowell  41M Oct  3  2007 hads1993.txt\r\n",
      "-rw-rw-r-- 1 schowell schowell  38M Feb 28  2007 hads1995.txt\r\n",
      "-rw-rw-r-- 1 schowell schowell  36M Feb 28  2007 hads1997.txt\r\n",
      "-rw-rw-r-- 1 schowell schowell  40M Feb 28  2007 hads1999.txt\r\n",
      "-rw-rw-r-- 1 schowell schowell  36M Feb 28  2007 hads2001.txt\r\n",
      "-rw-rw-r-- 1 schowell schowell  41M Feb 28  2007 hads2003.txt\r\n",
      "-rw-rw-r-- 1 schowell schowell  37M Jan 19  2011 hads2005.txt\r\n",
      "-rw-rw-r-- 1 schowell schowell  34M Jan 19  2011 hads2007.txt\r\n",
      "-rw-rw-r-- 1 schowell schowell  39M Jun 25  2010 hads2009.txt\r\n",
      "-rw-r----- 1 schowell schowell 115M Apr 12  2013 hads2011.txt\r\n",
      "-rw-r----- 1 schowell schowell  51M Jun 24  2015 hads2013.txt\r\n"
     ]
    }
   ],
   "source": [
    "! ls -lh data/"
   ]
  },
  {
   "cell_type": "markdown",
   "metadata": {},
   "source": [
    "The entire data set is 651M, let only grab some of these files."
   ]
  },
  {
   "cell_type": "code",
   "execution_count": 35,
   "metadata": {
    "collapsed": false
   },
   "outputs": [],
   "source": [
    "fnames = glob.glob('data/*txt')\n",
    "fnames.sort()"
   ]
  },
  {
   "cell_type": "code",
   "execution_count": 36,
   "metadata": {
    "collapsed": false
   },
   "outputs": [
    {
     "data": {
      "text/plain": [
       "['data/hads1985.txt',\n",
       " 'data/hads1987.txt',\n",
       " 'data/hads1989.txt',\n",
       " 'data/hads1991.txt',\n",
       " 'data/hads1993.txt',\n",
       " 'data/hads1995.txt',\n",
       " 'data/hads1997.txt',\n",
       " 'data/hads1999.txt',\n",
       " 'data/hads2001.txt',\n",
       " 'data/hads2003.txt',\n",
       " 'data/hads2005.txt',\n",
       " 'data/hads2007.txt',\n",
       " 'data/hads2009.txt',\n",
       " 'data/hads2011.txt',\n",
       " 'data/hads2013.txt']"
      ]
     },
     "execution_count": 36,
     "metadata": {},
     "output_type": "execute_result"
    }
   ],
   "source": [
    "fnames"
   ]
  },
  {
   "cell_type": "code",
   "execution_count": 28,
   "metadata": {
    "collapsed": false
   },
   "outputs": [],
   "source": [
    "years = [int(fname.strip('data/hads.txt')) for fname in fnames]"
   ]
  },
  {
   "cell_type": "code",
   "execution_count": 29,
   "metadata": {
    "collapsed": false
   },
   "outputs": [
    {
     "data": {
      "text/plain": [
       "[1985,\n",
       " 1987,\n",
       " 1989,\n",
       " 1991,\n",
       " 1993,\n",
       " 1995,\n",
       " 1997,\n",
       " 1999,\n",
       " 2001,\n",
       " 2003,\n",
       " 2005,\n",
       " 2007,\n",
       " 2009,\n",
       " 2011,\n",
       " 2013]"
      ]
     },
     "execution_count": 29,
     "metadata": {},
     "output_type": "execute_result"
    }
   ],
   "source": [
    "years"
   ]
  },
  {
   "cell_type": "code",
   "execution_count": 15,
   "metadata": {
    "collapsed": true
   },
   "outputs": [],
   "source": [
    "f = fnames[0]"
   ]
  },
  {
   "cell_type": "code",
   "execution_count": 26,
   "metadata": {
    "collapsed": false
   },
   "outputs": [
    {
     "data": {
      "text/plain": [
       "'1985'"
      ]
     },
     "execution_count": 26,
     "metadata": {},
     "output_type": "execute_result"
    }
   ],
   "source": [
    "f.strip('abcdefghijklmnopqrstuvwxyz/.')"
   ]
  },
  {
   "cell_type": "code",
   "execution_count": 18,
   "metadata": {
    "collapsed": false
   },
   "outputs": [
    {
     "data": {
      "text/plain": [
       "'1985.tx'"
      ]
     },
     "execution_count": 18,
     "metadata": {},
     "output_type": "execute_result"
    }
   ],
   "source": [
    "f.strip('data/hads')"
   ]
  },
  {
   "cell_type": "code",
   "execution_count": null,
   "metadata": {
    "collapsed": true
   },
   "outputs": [],
   "source": []
  }
 ],
 "metadata": {
  "kernelspec": {
   "display_name": "Python 3",
   "language": "python",
   "name": "python3"
  },
  "language_info": {
   "codemirror_mode": {
    "name": "ipython",
    "version": 3
   },
   "file_extension": ".py",
   "mimetype": "text/x-python",
   "name": "python",
   "nbconvert_exporter": "python",
   "pygments_lexer": "ipython3",
   "version": "3.5.2"
  }
 },
 "nbformat": 4,
 "nbformat_minor": 2
}
